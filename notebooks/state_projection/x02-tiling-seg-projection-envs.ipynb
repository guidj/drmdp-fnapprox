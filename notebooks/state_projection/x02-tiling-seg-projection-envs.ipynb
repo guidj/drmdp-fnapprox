{
 "cells": [
  {
   "cell_type": "markdown",
   "id": "77fd02d1-537b-414e-a046-be9dde9dd530",
   "metadata": {},
   "source": [
    "# Tile Projection of Environments: Reward Recovery"
   ]
  },
  {
   "cell_type": "markdown",
   "id": "fa0d1ed2-b21e-4905-9bb9-184d29fd00ba",
   "metadata": {},
   "source": [
    "Our aim is to carry out RL tasks when rewards are delayed (aggregate, and anonymous), using linear function approximation.\n",
    "To solve this problem, we aim to project both large discrete states and continuous states into basis vectors.\n",
    "\n",
    "\n",
    "In this notebook, we explore using Tiling as representations of states.\n",
    "Tiles are parametized, defining the dimension (# tiles on each side) and number of tilings.\n",
    "\n",
    "More information can be found here: http://incompleteideas.net/tiles/tiles3.html\n",
    "\n",
    "We use Tiles in the task of recovering rewards for state-actions."
   ]
  },
  {
   "cell_type": "code",
   "execution_count": 1,
   "id": "96def89d-da64-421c-9fa7-4e7c383cac5c",
   "metadata": {},
   "outputs": [],
   "source": [
    "import copy\n",
    "import itertools\n",
    "import math\n",
    "import functools\n",
    "from typing import Optional, Any"
   ]
  },
  {
   "cell_type": "code",
   "execution_count": 2,
   "id": "294d273e-aa6e-40b5-9cd3-e44c87415250",
   "metadata": {},
   "outputs": [],
   "source": [
    "import gymnasium as gym\n",
    "import numpy as np\n",
    "import pandas as pd\n",
    "from scipy import linalg\n",
    "import gym_electric_motor as gem\n",
    "from gym_electric_motor import reward_functions"
   ]
  },
  {
   "cell_type": "code",
   "execution_count": 3,
   "id": "63bc1d62-7fa9-495e-877d-909c4f7fa337",
   "metadata": {},
   "outputs": [],
   "source": [
    "from rlplg.environments import gridworld, redgreen"
   ]
  },
  {
   "cell_type": "code",
   "execution_count": 4,
   "id": "f40d14be-fe4e-45da-95ed-2ef2504f5abe",
   "metadata": {},
   "outputs": [],
   "source": [
    "import seaborn as sns\n",
    "from matplotlib import pyplot as plt"
   ]
  },
  {
   "cell_type": "markdown",
   "id": "1c7db704-00b1-4cbc-9384-3c343c25365e",
   "metadata": {},
   "source": [
    "## Tiling"
   ]
  },
  {
   "cell_type": "code",
   "execution_count": 5,
   "id": "c8d5c2a4-810f-4e6d-becb-913237eee752",
   "metadata": {},
   "outputs": [],
   "source": [
    "\"\"\"\n",
    "Tile Coding Software version 3.0beta\n",
    "by Rich Sutton\n",
    "based on a program created by Steph Schaeffer and others\n",
    "External documentation and recommendations on the use of this code is available in the \n",
    "reinforcement learning textbook by Sutton and Barto, and on the web.\n",
    "These need to be understood before this code is.\n",
    "\n",
    "This software is for Python 3 or more.\n",
    "\n",
    "This is an implementation of grid-style tile codings, based originally on\n",
    "the UNH CMAC code (see http://www.ece.unh.edu/robots/cmac.htm), but by now highly changed. \n",
    "Here we provide a function, \"tiles\", that maps floating and integer\n",
    "variables to a list of tiles, and a second function \"tiles-wrap\" that does the same while\n",
    "wrapping some floats to provided widths (the lower wrap value is always 0).\n",
    "\n",
    "The float variables will be gridded at unit intervals, so generalization\n",
    "will be by approximately 1 in each direction, and any scaling will have \n",
    "to be done externally before calling tiles.\n",
    "\n",
    "Num-tilings should be a power of 2, e.g., 16. To make the offsetting work properly, it should\n",
    "also be greater than or equal to four times the number of floats.\n",
    "\n",
    "The first argument is either an index hash table of a given size (created by (make-iht size)), \n",
    "an integer \"size\" (range of the indices from 0), or nil (for testing, indicating that the tile \n",
    "coordinates are to be returned without being converted to indices).\n",
    "\"\"\"\n",
    "\n",
    "basehash = hash\n",
    "\n",
    "class IHT:\n",
    "    \"Structure to handle collisions\"\n",
    "    def __init__(self, sizeval):\n",
    "        self.size = sizeval                        \n",
    "        self.overfullCount = 0\n",
    "        self.dictionary = {}\n",
    "\n",
    "    def __str__(self):\n",
    "        \"Prepares a string for printing whenever this object is printed\"\n",
    "        return \"Collision table:\" + \\\n",
    "               \" size:\" + str(self.size) + \\\n",
    "               \" overfullCount:\" + str(self.overfullCount) + \\\n",
    "               \" dictionary:\" + str(len(self.dictionary)) + \" items\"\n",
    "\n",
    "    def count(self):\n",
    "        return len(self.dictionary)\n",
    "    \n",
    "    def fullp(self):\n",
    "        return len(self.dictionary) >= self.size\n",
    "    \n",
    "    def getindex(self, obj, readonly=False):\n",
    "        d = self.dictionary\n",
    "        if obj in d:\n",
    "            return d[obj]\n",
    "        elif readonly:\n",
    "            return None\n",
    "        size = self.size\n",
    "        count = self.count()\n",
    "        if count >= size:\n",
    "            # TODO: Fail\n",
    "            if self.overfullCount==0: \n",
    "                print('IHT full, starting to allow collisions')\n",
    "            self.overfullCount += 1\n",
    "            return basehash(obj) % self.size\n",
    "        else:\n",
    "            d[obj] = count\n",
    "            return count\n",
    "\n",
    "def hashcoords(coordinates, m, readonly=False):\n",
    "    if isinstance(m, IHT):\n",
    "        return m.getindex(tuple(coordinates), readonly)\n",
    "    if isinstance(m, int):\n",
    "        return basehash(tuple(coordinates)) % m\n",
    "    if m is None:\n",
    "        return coordinates\n",
    "\n",
    "\n",
    "def tiles (ihtORsize, numtilings, floats, ints=[], readonly=False):\n",
    "    \"\"\"returns num-tilings tile indices corresponding to the floats and ints\"\"\"\n",
    "    qfloats = [math.floor(f*numtilings) for f in floats]\n",
    "    Tiles = []\n",
    "    for tiling in range(numtilings):\n",
    "        tilingX2 = tiling*2\n",
    "        coords = [tiling]\n",
    "        b = tiling\n",
    "        for q in qfloats:\n",
    "            coords.append( (q + b) // numtilings )\n",
    "            b += tilingX2\n",
    "        coords.extend(ints)\n",
    "        Tiles.append(hashcoords(coords, ihtORsize, readonly))\n",
    "    return Tiles\n",
    "\n",
    "def tileswrap (ihtORsize, numtilings, floats, wrapwidths, ints=[], readonly=False):\n",
    "    \"\"\"returns num-tilings tile indices corresponding to the floats and ints, wrapping some floats\"\"\"\n",
    "    qfloats = [math.floor(f*numtilings) for f in floats]\n",
    "    Tiles = []\n",
    "    for tiling in range(numtilings):\n",
    "        tilingX2 = tiling*2\n",
    "        coords = [tiling]\n",
    "        b = tiling\n",
    "        for q, width in itertools.zip_longest(qfloats, wrapwidths):\n",
    "            c = (q + b%numtilings) // numtilings\n",
    "            coords.append(c%width if width else c)\n",
    "            b += tilingX2\n",
    "        coords.extend(ints)\n",
    "        Tiles.append(hashcoords(coords, ihtORsize, readonly))\n",
    "    return Tiles\n",
    "\n"
   ]
  },
  {
   "cell_type": "markdown",
   "id": "73793ebf-b747-44b6-891f-30732313474a",
   "metadata": {},
   "source": [
    "## Random Data"
   ]
  },
  {
   "cell_type": "markdown",
   "id": "91e3bd03-e390-4b75-9a35-a18ae785738d",
   "metadata": {},
   "source": [
    "First, we explore tiles using random 2D data, to understand the range of input and outputs, as well as adequate parameters for a given input space."
   ]
  },
  {
   "cell_type": "code",
   "execution_count": 6,
   "id": "4dcfc580-fde8-4989-b112-e8dcdd143129",
   "metadata": {},
   "outputs": [
    {
     "data": {
      "text/plain": [
       "<Axes: >"
      ]
     },
     "execution_count": 6,
     "metadata": {},
     "output_type": "execute_result"
    },
    {
     "data": {
      "image/png": "[encoded data removed]",
      "text/plain": [
       "<Figure size 600x600 with 1 Axes>"
      ]
     },
     "metadata": {},
     "output_type": "display_data"
    }
   ],
   "source": [
    "n = 10000\n",
    "mean = [0, 0]\n",
    "cov = [(2, .4), (.4, 2)]\n",
    "# x, y = rng.multivariate_normal(mean, cov, n).T\n",
    "rng = np.random.default_rng()\n",
    "# x, y = rng.multivariate_normal(mean, cov, n).T\n",
    "x = rng.integers(low=0, high=100, size=n)\n",
    "y = rng.integers(low=0, high=100, size=n)\n",
    "\n",
    "# Draw a combo histogram and scatterplot with density contours\n",
    "f, ax = plt.subplots(figsize=(6, 6))\n",
    "sns.scatterplot(x=x, y=y, s=5, color=\".15\")\n",
    "sns.histplot(x=x, y=y, bins=50, pthresh=.1, cmap=\"mako\")\n",
    "sns.kdeplot(x=x, y=y, levels=5, color=\"w\", linewidths=1)"
   ]
  },
  {
   "cell_type": "code",
   "execution_count": 7,
   "id": "a359c800-8500-47ad-bd84-ab54bb3c25c4",
   "metadata": {},
   "outputs": [
    {
     "data": {
      "text/plain": [
       "(array([ 7, 75, 70, ..., 91, 66, 79]), array([12, 34, 11, ..., 76, 48, 19]))"
      ]
     },
     "execution_count": 7,
     "metadata": {},
     "output_type": "execute_result"
    }
   ],
   "source": [
    "x, y"
   ]
  },
  {
   "cell_type": "code",
   "execution_count": 8,
   "id": "bb4b462b-7268-4386-93ab-a66b97a7f19d",
   "metadata": {},
   "outputs": [],
   "source": [
    "def pow2geq(lb):\n",
    "    exp = 1\n",
    "    while True:\n",
    "        rs = np.power(2, exp)\n",
    "        if rs >= lb:\n",
    "            break\n",
    "        exp += 1\n",
    "    return rs"
   ]
  },
  {
   "cell_type": "code",
   "execution_count": 9,
   "id": "41831663-519c-47d7-bdb0-e94da2d4e7e2",
   "metadata": {},
   "outputs": [
    {
     "name": "stdout",
     "output_type": "stream",
     "text": [
      "numTilings 8\n",
      "maxsize 800\n",
      "x 0 99\n",
      "y 0 99\n",
      "mytile [0, 1, 2, 3, 4, 5, 6, 7]\n",
      "mytile [8, 9, 10, 11, 12, 13, 14, 15]\n",
      "mytile [16, 17, 18, 19, 20, 21, 22, 23]\n",
      "mytile [8, 9, 10, 24, 25, 26, 27, 28]\n",
      "maxidx 799\n"
     ]
    }
   ],
   "source": [
    "tiling_dim = 10\n",
    "num_input_dims = 2\n",
    "numTilings = pow2geq(num_input_dims * 4)\n",
    "maxSize = tiling_dim * tiling_dim * numTilings\n",
    "print(\"numTilings\", numTilings)\n",
    "print(\"maxsize\", maxSize)\n",
    "iht = IHT(maxSize)\n",
    "minx, maxx = np.min(x), np.max(x)\n",
    "miny, maxy = np.min(y), np.max(y)\n",
    "\n",
    "def mytiles(x, y, numTilings: int):\n",
    "    # scale values to be between [0, dim]\n",
    "    return tiles(iht, numTilings, [(x - minx)/(maxx-minx) * tiling_dim,(y-miny)/(maxy-miny) * tiling_dim])\n",
    "\n",
    "def mywrappedtiles(x, y, numTilings):\n",
    "    return tileswrap(iht, numTilings, \n",
    "                     [(x - minx)/(maxx-minx) * tiling_dim,(y-miny)/(maxy-miny) * tiling_dim],\n",
    "                     [tiling_dim, tiling_dim]\n",
    "                    )\n",
    "    \n",
    "print(\"x\",  minx, maxx)\n",
    "print(\"y\",  miny, maxy)\n",
    "print(\"mytile\", mytiles(1, 50, numTilings=numTilings))\n",
    "print(\"mytile\", mytiles(10, 24, numTilings=numTilings))\n",
    "print(\"mytile\", mywrappedtiles(76, 50, numTilings=numTilings))\n",
    "print(\"mytile\", mywrappedtiles(10, 24, numTilings=numTilings))\n",
    "\n",
    "maxidx = 0\n",
    "for i in range(0, 100):\n",
    "    for j in range(0, 100):\n",
    "        maxidx = np.max([maxidx] + mywrappedtiles(i, j, numTilings=numTilings))\n",
    "        \n",
    "print(\"maxidx\", maxidx)"
   ]
  },
  {
   "cell_type": "markdown",
   "id": "534e7bc1-8ff4-48a1-ad46-a596bf3d9a82",
   "metadata": {},
   "source": [
    "## Reward Recovery"
   ]
  },
  {
   "cell_type": "code",
   "execution_count": 10,
   "id": "afda79b6-d5b8-4d37-b25f-62b6fe11b9fa",
   "metadata": {},
   "outputs": [],
   "source": [
    "def solve_least_squares(\n",
    "    matrix: np.ndarray, rhs: np.ndarray\n",
    ") -> np.ndarray:\n",
    "    try:\n",
    "        solution, _, _, _ = linalg.lstsq(a=matrix, b=rhs, lapack_driver=\"gelsy\")\n",
    "        return solution  # type: ignore\n",
    "    except linalg.LinAlgError as err:\n",
    "        # the computation failed, likely due to the matix being unsuitable (no solution).\n",
    "        raise ValueError(\"Failed to solve linear system\") from err"
   ]
  },
  {
   "cell_type": "code",
   "execution_count": 11,
   "id": "59d6e2d2-d01d-4507-9d37-51d09d9ef9a6",
   "metadata": {},
   "outputs": [],
   "source": [
    "def rmse(v_pred: np.ndarray, v_true: np.ndarray, axis: int):\n",
    "    if np.shape(v_pred) != np.shape(v_true):\n",
    "        raise ValueError(\n",
    "            f\"Tensors have different shapes: {np.shape(v_pred)} != {np.shape(v_true)}\"\n",
    "        )\n",
    "    return np.sqrt(\n",
    "        np.sum(np.power(v_pred - v_true, 2.0), axis=axis) / np.shape(v_pred)[axis]\n",
    "    )"
   ]
  },
  {
   "cell_type": "markdown",
   "id": "88c34679-56cc-4d1d-8472-5c02a3606bd9",
   "metadata": {},
   "source": [
    "## Gym Env"
   ]
  },
  {
   "cell_type": "code",
   "execution_count": 12,
   "id": "be069c80-71ce-4f52-9aa8-119fd57fe246",
   "metadata": {},
   "outputs": [],
   "source": [
    "def collection_traj_data(env, steps: int):\n",
    "    obs, _ = env.reset()\n",
    "    step = 0\n",
    "    buffer = []\n",
    "    while step < steps:\n",
    "        action = env.action_space.sample()\n",
    "        next_obs, rew, term, trunc, _,  = env.step(action)\n",
    "        step += 1\n",
    "        buffer.append((obs, action, rew))\n",
    "        obs = next_obs\n",
    "        if term or trunc:\n",
    "            obs, _ = env.reset()\n",
    "    return buffer"
   ]
  },
  {
   "cell_type": "code",
   "execution_count": 13,
   "id": "711b4aac-9040-4cf2-a477-5d6205997846",
   "metadata": {},
   "outputs": [],
   "source": [
    "def tiling_proj(obs_min, obs_max, tiling_dim: int):\n",
    "    # obs = np.stack([example[0] for example in buffer])\n",
    "    assert isinstance(obs_min, np.ndarray)\n",
    "    assert isinstance(obs_max, np.ndarray)\n",
    "    wrapwidths = [tiling_dim] * np.size(obs_min)\n",
    "\n",
    "    # num tilings should a power of 2\n",
    "    # and at least 4 times greater than\n",
    "    # the number of dimensions\n",
    "    num_tilings = pow2geq(np.size(obs_min) * 4)\n",
    "    max_size = (tiling_dim ** np.size(obs_min)) * num_tilings\n",
    "    print(\"Num tilings\", num_tilings, \"\\n\", \"Flat dim:\", max_size)\n",
    "    iht = IHT(max_size)    \n",
    "    def mywrappedtiles(obs):\n",
    "        obs_scaled_01 = (obs - obs_min) / (obs_max - obs_min)\n",
    "        repr = np.zeros(shape=max_size)\n",
    "        idx = tileswrap(\n",
    "            iht, \n",
    "            num_tilings, \n",
    "            obs_scaled_01 * tiling_dim,\n",
    "            wrapwidths\n",
    "        )\n",
    "        repr[idx] = 1\n",
    "        return repr\n",
    "    return mywrappedtiles"
   ]
  },
  {
   "cell_type": "code",
   "execution_count": 14,
   "id": "4ae890a2-f601-48e3-b7f7-bd57a582daf4",
   "metadata": {},
   "outputs": [
    {
     "name": "stdout",
     "output_type": "stream",
     "text": [
      "Num tilings 8 \n",
      " Flat dim: 128\n",
      "[-0.4886481  0.       ]\n",
      "[1. 1. 1. 1. 1. 1. 1. 1. 0. 0. 0. 0. 0. 0. 0. 0. 0. 0. 0. 0. 0. 0. 0. 0.\n",
      " 0. 0. 0. 0. 0. 0. 0. 0. 0. 0. 0. 0. 0. 0. 0. 0. 0. 0. 0. 0. 0. 0. 0. 0.\n",
      " 0. 0. 0. 0. 0. 0. 0. 0. 0. 0. 0. 0. 0. 0. 0. 0. 0. 0. 0. 0. 0. 0. 0. 0.\n",
      " 0. 0. 0. 0. 0. 0. 0. 0. 0. 0. 0. 0. 0. 0. 0. 0. 0. 0. 0. 0. 0. 0. 0. 0.\n",
      " 0. 0. 0. 0. 0. 0. 0. 0. 0. 0. 0. 0. 0. 0. 0. 0. 0. 0. 0. 0. 0. 0. 0. 0.\n",
      " 0. 0. 0. 0. 0. 0. 0. 0.]\n"
     ]
    }
   ],
   "source": [
    "env = gym.make(\"MountainCar-v0\")\n",
    "proj_fn = tiling_proj(\n",
    "        env.observation_space.low, \n",
    "        env.observation_space.high,\n",
    "        tiling_dim=4\n",
    "    )\n",
    "obs, _ = env.reset()\n",
    "print(obs)\n",
    "print(proj_fn(obs))"
   ]
  },
  {
   "cell_type": "code",
   "execution_count": 15,
   "id": "09cc1cb7-c4f0-4084-a79a-553c8f6f0307",
   "metadata": {},
   "outputs": [
    {
     "data": {
      "text/plain": [
       "{}"
      ]
     },
     "execution_count": 15,
     "metadata": {},
     "output_type": "execute_result"
    }
   ],
   "source": [
    "vars(proj_fn)"
   ]
  },
  {
   "cell_type": "code",
   "execution_count": 16,
   "id": "8ac3c0c3-7c24-45bb-84b7-c33a282af342",
   "metadata": {},
   "outputs": [],
   "source": [
    "class Tiles:\n",
    "    def __init__(\n",
    "        self, dims_min: np.ndarray, dims_max: np.ndarray, \n",
    "        tiling_dim: int, num_tilings: Optional[int] = None\n",
    "    ):\n",
    "        assert isinstance(dims_min, np.ndarray)\n",
    "        assert isinstance(dims_max, np.ndarray)\n",
    "        self.dims_max = dims_max\n",
    "        self.dims_min = dims_min\n",
    "        self.tiling_dim = tiling_dim\n",
    "        self.wrapwidths = [tiling_dim] * np.size(dims_min)\n",
    "    \n",
    "        # num tilings should a power of 2\n",
    "        # and at least 4 times greater than\n",
    "        # the number of dimensions\n",
    "        self.num_tilings = num_tilings or pow2geq(np.size(dims_min) * 4)\n",
    "        self.max_size = (tiling_dim ** np.size(dims_min)) * self.num_tilings\n",
    "        print(\"Num tilings\", self.num_tilings, \"\\n\", \"Flat dim:\", self.max_size)\n",
    "        self.iht = IHT(self.max_size)\n",
    "\n",
    "    def __call__(self, xs):\n",
    "        xs_scaled_01 = (xs - self.dims_min) / (self.dims_max - self.dims_min)\n",
    "        repr = np.zeros(shape=self.max_size)\n",
    "        idx = tileswrap(\n",
    "            self.iht, \n",
    "            self.num_tilings, \n",
    "            xs_scaled_01 * self.tiling_dim,\n",
    "            self.wrapwidths\n",
    "        )\n",
    "        repr[idx] = 1\n",
    "        return repr    "
   ]
  },
  {
   "cell_type": "code",
   "execution_count": 17,
   "id": "6cac9ed1-0984-404c-bf43-e5abf82b9876",
   "metadata": {},
   "outputs": [
    {
     "name": "stdout",
     "output_type": "stream",
     "text": [
      "Num tilings 8 \n",
      " Flat dim: 128\n",
      "[-0.5315901  0.       ]\n",
      "[1. 1. 1. 1. 1. 1. 1. 1. 0. 0. 0. 0. 0. 0. 0. 0. 0. 0. 0. 0. 0. 0. 0. 0.\n",
      " 0. 0. 0. 0. 0. 0. 0. 0. 0. 0. 0. 0. 0. 0. 0. 0. 0. 0. 0. 0. 0. 0. 0. 0.\n",
      " 0. 0. 0. 0. 0. 0. 0. 0. 0. 0. 0. 0. 0. 0. 0. 0. 0. 0. 0. 0. 0. 0. 0. 0.\n",
      " 0. 0. 0. 0. 0. 0. 0. 0. 0. 0. 0. 0. 0. 0. 0. 0. 0. 0. 0. 0. 0. 0. 0. 0.\n",
      " 0. 0. 0. 0. 0. 0. 0. 0. 0. 0. 0. 0. 0. 0. 0. 0. 0. 0. 0. 0. 0. 0. 0. 0.\n",
      " 0. 0. 0. 0. 0. 0. 0. 0.]\n"
     ]
    }
   ],
   "source": [
    "env = gym.make(\"MountainCar-v0\")\n",
    "tile_fn = Tiles(\n",
    "        env.observation_space.low,\n",
    "        env.observation_space.high,\n",
    "        tiling_dim=4\n",
    "    )\n",
    "obs, _ = env.reset()\n",
    "print(obs)\n",
    "print(tile_fn(obs))"
   ]
  },
  {
   "cell_type": "code",
   "execution_count": 18,
   "id": "28f31262-5c0b-404f-8da3-88ddfcdacc38",
   "metadata": {},
   "outputs": [
    {
     "data": {
      "text/plain": [
       "{'dims_max': array([0.6 , 0.07], dtype=float32),\n",
       " 'dims_min': array([-1.2 , -0.07], dtype=float32),\n",
       " 'tiling_dim': 4,\n",
       " 'wrapwidths': [4, 4],\n",
       " 'num_tilings': 8,\n",
       " 'max_size': 128,\n",
       " 'iht': <__main__.IHT at 0x7f050d9201d0>}"
      ]
     },
     "execution_count": 18,
     "metadata": {},
     "output_type": "execute_result"
    }
   ],
   "source": [
    "vars(tile_fn)"
   ]
  },
  {
   "cell_type": "code",
   "execution_count": 19,
   "id": "89e9b2e4-1ef5-45ee-ae06-869452940499",
   "metadata": {},
   "outputs": [],
   "source": [
    "def delay_reward_data(buffer, delay: int, sample_size: int):\n",
    "    obs = np.stack([example[0] for example in buffer])\n",
    "    action = np.stack([example[1] for example in buffer])\n",
    "    reward = np.stack([example[2] for example in buffer])\n",
    "\n",
    "    # repr: (m1,a1)(m2,a1)..\n",
    "    mdim = obs.shape[1] * len(np.unique(action))\n",
    "    num_components = obs.shape[1]\n",
    "\n",
    "    # build samples\n",
    "    mask = np.random.choice(len(obs), (sample_size, delay))\n",
    "    delayed_obs = obs[mask] # batch x delay x dim\n",
    "    delayed_act = action[mask]\n",
    "    delayed_rew = np.sum(reward[mask], axis=1) # batch x delay -> batch    \n",
    "    \n",
    "    rhat_matrix = np.zeros(shape=(len(delayed_obs), mdim))\n",
    "    \n",
    "    for i in range(len(delayed_obs)):\n",
    "        for j in range(delay):\n",
    "            c = num_components*delayed_act[i][j]\n",
    "            rhat_matrix[i,c:c+num_components] += delayed_obs[i][j]\n",
    "\n",
    "    return rhat_matrix, delayed_rew"
   ]
  },
  {
   "cell_type": "code",
   "execution_count": 20,
   "id": "68f3b2ea-8920-4cbf-b60a-dc7282781da8",
   "metadata": {},
   "outputs": [],
   "source": [
    "def proj_obs_to_rwest_vec(buffer, sample_size: int):\n",
    "    obs = np.stack([example[0] for example in buffer])\n",
    "    action = np.stack([example[1] for example in buffer])\n",
    "    reward = np.stack([example[2] for example in buffer])\n",
    "    \n",
    "    # repr: (m1,a1)(m2,a1)..\n",
    "    mdim = obs.shape[1] * len(np.unique(action))\n",
    "    num_components = obs.shape[1]\n",
    "\n",
    "    # build samples\n",
    "    mask = np.random.choice(len(obs), sample_size)\n",
    "    delayed_obs = obs[mask] # batch x dim\n",
    "    delayed_act = action[mask] # batch\n",
    "    delayed_rew = reward[mask] # batch\n",
    "    \n",
    "    rhat_matrix = np.zeros(shape=(len(delayed_obs), mdim))\n",
    "    \n",
    "    for i in range(len(delayed_obs)):\n",
    "        c = num_components*delayed_act[i]\n",
    "        rhat_matrix[i,c:c+num_components] += delayed_obs[i]\n",
    "    return rhat_matrix, delayed_rew"
   ]
  },
  {
   "cell_type": "code",
   "execution_count": 21,
   "id": "c02d574b-b801-47c0-bd4b-97a549aebbc1",
   "metadata": {},
   "outputs": [],
   "source": [
    "def solve_rwe(env: gym.Env, num_steps: int, sample_size: int, delay: int):\n",
    "    buffer = collection_traj_data(env, steps=num_steps)\n",
    "    Xd, yd = delay_reward_data(buffer, delay=delay, sample_size=sample_size)\n",
    "    return buffer, solve_least_squares(Xd, yd)"
   ]
  },
  {
   "cell_type": "code",
   "execution_count": 22,
   "id": "fbb51c96-dd50-4120-bba8-5c8b79dbe937",
   "metadata": {},
   "outputs": [],
   "source": [
    "def rwe_scatterplot(v_pred, v_true):\n",
    "    _, ax = plt.subplots(figsize=(6, 6))\n",
    "    df = pd.DataFrame({\n",
    "        \"x\": v_pred,\n",
    "        \"y\": v_true,\n",
    "        \"size\": np.abs(v_pred - v_true)\n",
    "    })\n",
    "    sns.scatterplot(\n",
    "        df, x=\"x\", y=\"y\", size=\"size\", hue=\"size\", s=5, color=\".15\"\n",
    "    )\n",
    "    # sns.histplot(x=v_pred, y=v_true, bins=50, cmap=\"mako\")\n",
    "    # sns.kdeplot(x=v_pred, y=v_true, levels=5, color=\"w\")\n",
    "    ax.set_xlabel(\"yhat\")\n",
    "    ax.set_ylabel(\"ytrue\")\n",
    "    ax.set_title(\"Reward Estimation\")"
   ]
  },
  {
   "cell_type": "code",
   "execution_count": 23,
   "id": "5b71c921-f5eb-45a9-9f90-40541af19038",
   "metadata": {},
   "outputs": [],
   "source": [
    "def hashtrick(xs, dim: int):\n",
    "    ys = np.zeros(dim, dtype=np.int32)\n",
    "    idx,  = np.where(xs == 1)\n",
    "    for i in idx:\n",
    "        ys[i % dim] += 1\n",
    "    return ys"
   ]
  },
  {
   "cell_type": "markdown",
   "id": "843f3008-492e-4fb1-adde-b63b0b956440",
   "metadata": {},
   "source": [
    "### Moutain Car"
   ]
  },
  {
   "cell_type": "code",
   "execution_count": 24,
   "id": "79488506-e38b-493b-a7fc-e170c28a7e19",
   "metadata": {},
   "outputs": [],
   "source": [
    "class MCObsWrapper(gym.ObservationWrapper):\n",
    "    def __init__(self, env, tiling_dim: int, num_tilings: int = None):\n",
    "        super().__init__(env)\n",
    "        self.tiles = Tiles(\n",
    "                env.observation_space.low,\n",
    "                env.observation_space.high,\n",
    "                tiling_dim=tiling_dim,\n",
    "                num_tilings=num_tilings\n",
    "            )\n",
    "        self.observation_space = gym.spaces.Box(\n",
    "            low=np.zeros(shape=self.tiles.max_size, dtype=np.int32), \n",
    "            high=np.ones(shape=self.tiles.max_size, dtype=np.int32)\n",
    "        )\n",
    "\n",
    "    def observation(self, obs):\n",
    "        return self.tiles(obs)"
   ]
  },
  {
   "cell_type": "code",
   "execution_count": 25,
   "id": "cc2a2e2f-a6d5-40b3-b7af-74c653aca8d9",
   "metadata": {},
   "outputs": [
    {
     "name": "stdout",
     "output_type": "stream",
     "text": [
      "Num tilings 8 \n",
      " Flat dim: 128\n"
     ]
    }
   ],
   "source": [
    "mc_env = MCObsWrapper(gym.make(\"MountainCar-v0\"), tiling_dim=4)\n",
    "mc_buffer, mc_sol = solve_rwe(\n",
    "    mc_env,\n",
    "    num_steps=150_000, \n",
    "    sample_size=50_000,\n",
    "    delay=2,\n",
    ")"
   ]
  },
  {
   "cell_type": "code",
   "execution_count": 26,
   "id": "bc8738a8-4446-49ef-ae95-0753ca89b8b4",
   "metadata": {},
   "outputs": [
    {
     "data": {
      "text/plain": [
       "150000"
      ]
     },
     "execution_count": 26,
     "metadata": {},
     "output_type": "execute_result"
    }
   ],
   "source": [
    "len(mc_buffer)"
   ]
  },
  {
   "cell_type": "code",
   "execution_count": 27,
   "id": "5d287a55-2236-4860-891a-86858ee7968b",
   "metadata": {},
   "outputs": [
    {
     "data": {
      "text/plain": [
       "array([1., 1., 1., 1., 1., 1., 1., 1., 0., 0., 0., 0., 0., 0., 0., 0., 0.,\n",
       "       0., 0., 0., 0., 0., 0., 0., 0., 0., 0., 0., 0., 0., 0., 0., 0., 0.,\n",
       "       0., 0., 0., 0., 0., 0., 0., 0., 0., 0., 0., 0., 0., 0., 0., 0., 0.,\n",
       "       0., 0., 0., 0., 0., 0., 0., 0., 0., 0., 0., 0., 0., 0., 0., 0., 0.,\n",
       "       0., 0., 0., 0., 0., 0., 0., 0., 0., 0., 0., 0., 0., 0., 0., 0., 0.,\n",
       "       0., 0., 0., 0., 0., 0., 0., 0., 0., 0., 0., 0., 0., 0., 0., 0., 0.,\n",
       "       0., 0., 0., 0., 0., 0., 0., 0., 0., 0., 0., 0., 0., 0., 0., 0., 0.,\n",
       "       0., 0., 0., 0., 0., 0., 0., 0., 0.])"
      ]
     },
     "execution_count": 27,
     "metadata": {},
     "output_type": "execute_result"
    }
   ],
   "source": [
    "mc_buffer[0][0]"
   ]
  },
  {
   "cell_type": "code",
   "execution_count": 28,
   "id": "4c288ed5-b62d-4bb4-b628-97a8aa5188ef",
   "metadata": {},
   "outputs": [
    {
     "data": {
      "text/plain": [
       "<__main__.Tiles at 0x7f050d986950>"
      ]
     },
     "execution_count": 28,
     "metadata": {},
     "output_type": "execute_result"
    }
   ],
   "source": [
    "mc_env.tiles"
   ]
  },
  {
   "cell_type": "code",
   "execution_count": 29,
   "id": "a0a2a025-e2a1-4163-ac7b-dc0c5884d84f",
   "metadata": {},
   "outputs": [
    {
     "data": {
      "text/plain": [
       "array([-0.12043771,  0.03864081, -0.16509872, -0.11982939, -0.13916406,\n",
       "       -0.1382048 , -0.19437242, -0.16153371, -0.12043771, -0.11982939,\n",
       "       -0.13916406, -0.11982939, -0.1382048 , -0.1382048 , -0.1382048 ,\n",
       "       -0.16509872, -0.11982939, -0.19437242, -0.19437242, -0.16153371,\n",
       "       -0.16509872, -0.16509872,  0.03864081, -0.19437242,  0.03864081,\n",
       "       -0.16153371, -0.13916406, -0.13916406, -0.13916406, -0.13916406,\n",
       "       -0.12043771, -0.12043771, -0.12043771, -0.12043771,  0.03864081,\n",
       "       -0.16153371,  0.03864081, -0.16153371, -0.16509872, -0.16153371,\n",
       "        0.03864081,  0.03864081, -0.16153371,  0.        ,  0.        ,\n",
       "       -0.1382048 , -0.16509872, -0.11982939, -0.11982939,  0.        ,\n",
       "        0.        ,  0.        , -0.19437242,  0.        ,  0.        ,\n",
       "        0.        ,  0.        ,  0.        ,  0.        ,  0.        ,\n",
       "        0.        ,  0.        ,  0.        ,  0.        ,  0.        ,\n",
       "        0.        ,  0.        ,  0.        ,  0.        ,  0.        ,\n",
       "        0.        ,  0.        ,  0.        ,  0.        ,  0.        ,\n",
       "        0.        ,  0.        ,  0.        ,  0.        ,  0.        ,\n",
       "        0.        ,  0.        ,  0.        ,  0.        ,  0.        ,\n",
       "        0.        ,  0.        ,  0.        ,  0.        ,  0.        ,\n",
       "        0.        ,  0.        ,  0.        ,  0.        ,  0.        ,\n",
       "        0.        ,  0.        ,  0.        ,  0.        ,  0.        ,\n",
       "        0.        ,  0.        ,  0.        ,  0.        ,  0.        ,\n",
       "        0.        ,  0.        ,  0.        ,  0.        ,  0.        ,\n",
       "        0.        ,  0.        ,  0.        ,  0.        ,  0.        ,\n",
       "        0.        ,  0.        ,  0.        ,  0.        ,  0.        ,\n",
       "        0.        ,  0.        ,  0.        ,  0.        ,  0.        ,\n",
       "        0.        ,  0.        ,  0.        ,  0.08255832, -0.06488643,\n",
       "       -0.14464982, -0.1149268 , -0.08671825, -0.13922497, -0.06216961,\n",
       "       -0.46998244,  0.08255832, -0.1149268 , -0.08671825, -0.1149268 ,\n",
       "       -0.13922497, -0.13922497, -0.13922497, -0.14464982, -0.1149268 ,\n",
       "       -0.06216961, -0.06216961, -0.46998244, -0.14464982, -0.14464982,\n",
       "       -0.06488643, -0.06216961, -0.06488643, -0.46998244, -0.08671825,\n",
       "       -0.08671825, -0.08671825, -0.08671825,  0.08255832,  0.08255832,\n",
       "        0.08255832,  0.08255832, -0.06488643, -0.46998244, -0.06488643,\n",
       "       -0.46998244, -0.14464982, -0.46998244, -0.06488643, -0.06488643,\n",
       "       -0.46998244,  0.        , -0.13922497, -0.13922497, -0.14464982,\n",
       "       -0.1149268 , -0.1149268 , -0.14464982, -0.06488643, -0.06216961,\n",
       "       -0.06216961,  0.        ,  0.        , -0.46998244, -0.06216961,\n",
       "        0.        ,  0.        ,  0.        ,  0.        ,  0.        ,\n",
       "        0.        ,  0.        ,  0.        ,  0.        ,  0.        ,\n",
       "        0.        ,  0.        ,  0.        ,  0.        ,  0.        ,\n",
       "        0.        ,  0.        ,  0.        ,  0.        ,  0.        ,\n",
       "        0.        ,  0.        ,  0.        ,  0.        ,  0.        ,\n",
       "        0.        ,  0.        ,  0.        ,  0.        ,  0.        ,\n",
       "        0.        ,  0.        ,  0.        ,  0.        ,  0.        ,\n",
       "        0.        ,  0.        ,  0.        ,  0.        ,  0.        ,\n",
       "        0.        ,  0.        ,  0.        ,  0.        ,  0.        ,\n",
       "        0.        ,  0.        ,  0.        ,  0.        ,  0.        ,\n",
       "        0.        ,  0.        ,  0.        ,  0.        ,  0.        ,\n",
       "        0.        ,  0.        ,  0.        ,  0.        ,  0.        ,\n",
       "        0.        ,  0.        ,  0.        ,  0.        ,  0.        ,\n",
       "        0.        ,  0.        ,  0.        ,  0.        ,  0.        ,\n",
       "        0.        , -0.03344005, -0.46342324, -0.04846411, -0.16924449,\n",
       "       -0.0770509 , -0.22878423, -0.03530531,  0.05571232, -0.03344005,\n",
       "       -0.16924449, -0.0770509 , -0.16924449, -0.22878423, -0.22878423,\n",
       "       -0.22878423, -0.04846411, -0.16924449, -0.03530531, -0.03530531,\n",
       "        0.05571232, -0.04846411, -0.04846411, -0.46342324, -0.03530531,\n",
       "       -0.46342324,  0.05571232, -0.0770509 , -0.0770509 , -0.0770509 ,\n",
       "       -0.0770509 , -0.03344005, -0.03344005, -0.03344005, -0.03344005,\n",
       "       -0.46342324,  0.05571232, -0.46342324,  0.05571232, -0.04846411,\n",
       "        0.05571232, -0.46342324, -0.46342324,  0.05571232, -0.04846411,\n",
       "        0.        , -0.22878423, -0.04846411,  0.        , -0.16924449,\n",
       "       -0.04846411, -0.46342324,  0.        , -0.03530531, -0.16924449,\n",
       "        0.        ,  0.        , -0.03530531,  0.        ,  0.        ,\n",
       "        0.        ,  0.        ,  0.        ,  0.        ,  0.        ,\n",
       "        0.        ,  0.        ,  0.        ,  0.        ,  0.        ,\n",
       "        0.        ,  0.        ,  0.        ,  0.        ,  0.        ,\n",
       "        0.        ,  0.        ,  0.        ,  0.        ,  0.        ,\n",
       "        0.        ,  0.        ,  0.        ,  0.        ,  0.        ,\n",
       "        0.        ,  0.        ,  0.        ,  0.        ,  0.        ,\n",
       "        0.        ,  0.        ,  0.        ,  0.        ,  0.        ,\n",
       "        0.        ,  0.        ,  0.        ,  0.        ,  0.        ,\n",
       "        0.        ,  0.        ,  0.        ,  0.        ,  0.        ,\n",
       "        0.        ,  0.        ,  0.        ,  0.        ,  0.        ,\n",
       "        0.        ,  0.        ,  0.        ,  0.        ,  0.        ,\n",
       "        0.        ,  0.        ,  0.        ,  0.        ,  0.        ,\n",
       "        0.        ,  0.        ,  0.        ,  0.        ,  0.        ,\n",
       "        0.        ,  0.        ,  0.        ,  0.        ])"
      ]
     },
     "execution_count": 29,
     "metadata": {},
     "output_type": "execute_result"
    }
   ],
   "source": [
    "mc_sol"
   ]
  },
  {
   "cell_type": "code",
   "execution_count": 30,
   "id": "e24d05d9-b378-484d-85dc-385de1571378",
   "metadata": {},
   "outputs": [],
   "source": [
    "mc_eval_X, mc_eval_y = proj_obs_to_rwest_vec(mc_buffer, sample_size=10_000)"
   ]
  },
  {
   "cell_type": "code",
   "execution_count": 31,
   "id": "a1ea49b5-81ad-4f5a-89d1-1abfb9065347",
   "metadata": {},
   "outputs": [
    {
     "data": {
      "text/plain": [
       "array([-1., -1., -1., ..., -1., -1., -1.])"
      ]
     },
     "execution_count": 31,
     "metadata": {},
     "output_type": "execute_result"
    }
   ],
   "source": [
    "np.matmul(mc_eval_X, mc_sol)"
   ]
  },
  {
   "cell_type": "code",
   "execution_count": 32,
   "id": "e8f6d99d-afde-43a0-b715-7d2bacb1cb3c",
   "metadata": {},
   "outputs": [
    {
     "data": {
      "text/plain": [
       "2.526166056435852e-16"
      ]
     },
     "execution_count": 32,
     "metadata": {},
     "output_type": "execute_result"
    }
   ],
   "source": [
    "rmse(\n",
    "    v_pred=np.matmul(mc_eval_X, mc_sol), \n",
    "    v_true=mc_eval_y,\n",
    "    axis=0\n",
    ")"
   ]
  },
  {
   "cell_type": "code",
   "execution_count": 33,
   "id": "5684e9e8-d690-490c-bb06-620b29419513",
   "metadata": {
    "scrolled": true
   },
   "outputs": [
    {
     "data": {
      "image/png": "[encoded data removed]",
      "text/plain": [
       "<Figure size 600x600 with 1 Axes>"
      ]
     },
     "metadata": {},
     "output_type": "display_data"
    }
   ],
   "source": [
    "rwe_scatterplot(\n",
    "    v_pred=np.matmul(mc_eval_X, mc_sol), \n",
    "    v_true=mc_eval_y\n",
    ")"
   ]
  },
  {
   "cell_type": "markdown",
   "id": "ba32287b-8c24-4aef-a0da-64b7c9c973a8",
   "metadata": {},
   "source": [
    "The estimation error is low on this environment, though the reward is a constant."
   ]
  },
  {
   "cell_type": "markdown",
   "id": "192c08ce-838b-4110-8ba0-ede92915e0ce",
   "metadata": {},
   "source": [
    "### Grid World (Different Rewards)"
   ]
  },
  {
   "cell_type": "code",
   "execution_count": 34,
   "id": "adf81a9c-9261-4267-9290-20a3b69df0b4",
   "metadata": {},
   "outputs": [],
   "source": [
    "class GWObsWrapper(gym.ObservationWrapper):\n",
    "    def __init__(self, env, tiling_dim: int, num_tilings: int = None):\n",
    "        super().__init__(env)\n",
    "        self.tiles = Tiles(\n",
    "                np.array([0, 0], np.int32),\n",
    "                np.array(\n",
    "                    [env.observation_space[\"agent\"][0].n, env.observation_space[\"agent\"][1].n]\n",
    "                ),\n",
    "                tiling_dim=tiling_dim,\n",
    "                num_tilings=num_tilings\n",
    "            )\n",
    "        self.observation_space = gym.spaces.Box(\n",
    "            low=np.zeros(shape=self.tiles.max_size, dtype=np.int32), \n",
    "            high=np.ones(shape=self.tiles.max_size, dtype=np.int32)\n",
    "        )\n",
    "\n",
    "    def observation(self, obs):\n",
    "        return self.tiles(obs[\"agent\"])"
   ]
  },
  {
   "cell_type": "code",
   "execution_count": 35,
   "id": "2e64de9e-e038-4f68-aae3-5bfdd649a470",
   "metadata": {},
   "outputs": [
    {
     "name": "stdout",
     "output_type": "stream",
     "text": [
      "(4, 12) [(3, 1), (3, 2), (3, 3), (3, 4), (3, 5), (3, 6), (3, 7), (3, 8), (3, 9), (3, 10)] [(3, 11)] (3, 0)\n",
      "Num tilings 8 \n",
      " Flat dim: 512\n"
     ]
    }
   ],
   "source": [
    "size, cliffs, exits, start = gridworld.parse_grid_from_text(\n",
    "    [\"oooooooooooo\", \"oooooooooooo\", \"oooooooooooo\", \"sxxxxxxxxxxg\"]\n",
    ")\n",
    "print(size, cliffs, exits, start)\n",
    "gw_env = GWObsWrapper(\n",
    "    gridworld.GridWorld(size, cliffs, exits, start),\n",
    "    tiling_dim=8\n",
    ")\n",
    "gw_buffer, gw_sol = solve_rwe(\n",
    "    gw_env,\n",
    "    num_steps=150_000, \n",
    "    sample_size=50_000,\n",
    "    delay=2,\n",
    ")"
   ]
  },
  {
   "cell_type": "code",
   "execution_count": 36,
   "id": "fba47ae4-aeed-45bc-a052-7fcf2665ed4a",
   "metadata": {},
   "outputs": [
    {
     "data": {
      "text/plain": [
       "array([-100.,   -1.])"
      ]
     },
     "execution_count": 36,
     "metadata": {},
     "output_type": "execute_result"
    }
   ],
   "source": [
    "np.unique([ex[2] for ex in gw_buffer])"
   ]
  },
  {
   "cell_type": "code",
   "execution_count": 37,
   "id": "5e9b01e8-7906-4762-ac84-4f51c8f58988",
   "metadata": {},
   "outputs": [
    {
     "data": {
      "text/plain": [
       "array([-0.22828797,  5.6997651 , -5.5576334 , ...,  0.        ,\n",
       "        0.        ,  0.        ])"
      ]
     },
     "execution_count": 37,
     "metadata": {},
     "output_type": "execute_result"
    }
   ],
   "source": [
    "gw_sol"
   ]
  },
  {
   "cell_type": "code",
   "execution_count": 38,
   "id": "20ba72ca-217d-4fd2-837a-755e8470b37c",
   "metadata": {},
   "outputs": [
    {
     "data": {
      "text/plain": [
       "<__main__.Tiles at 0x7f050db62890>"
      ]
     },
     "execution_count": 38,
     "metadata": {},
     "output_type": "execute_result"
    }
   ],
   "source": [
    "gw_env.tiles"
   ]
  },
  {
   "cell_type": "code",
   "execution_count": 39,
   "id": "4a4a9c8f-b229-4841-b527-6eb9bccfae37",
   "metadata": {
    "scrolled": true
   },
   "outputs": [],
   "source": [
    "gw_eval_X, gw_eval_y = proj_obs_to_rwest_vec(gw_buffer, sample_size=10_000)"
   ]
  },
  {
   "cell_type": "code",
   "execution_count": 40,
   "id": "6bd0ec9b-d554-4b50-8cca-b587dac33706",
   "metadata": {},
   "outputs": [
    {
     "data": {
      "text/plain": [
       "array([-100.,   -1.])"
      ]
     },
     "execution_count": 40,
     "metadata": {},
     "output_type": "execute_result"
    }
   ],
   "source": [
    "np.unique(gw_eval_y)"
   ]
  },
  {
   "cell_type": "code",
   "execution_count": 41,
   "id": "c19de099-ed57-443c-931d-5c0b516fe4ee",
   "metadata": {},
   "outputs": [
    {
     "data": {
      "text/plain": [
       "((10000, 2048), (10000,))"
      ]
     },
     "execution_count": 41,
     "metadata": {},
     "output_type": "execute_result"
    }
   ],
   "source": [
    "gw_eval_X.shape, gw_eval_y.shape"
   ]
  },
  {
   "cell_type": "code",
   "execution_count": 42,
   "id": "2a6769f5-5049-4f6f-bbb2-02d83023ee86",
   "metadata": {},
   "outputs": [
    {
     "data": {
      "text/plain": [
       "array([-100.,   -1.])"
      ]
     },
     "execution_count": 42,
     "metadata": {},
     "output_type": "execute_result"
    }
   ],
   "source": [
    "np.unique(np.around(np.matmul(gw_eval_X, gw_sol), 2))"
   ]
  },
  {
   "cell_type": "code",
   "execution_count": 43,
   "id": "3241131e-3e55-4868-abbf-c393bd394fa0",
   "metadata": {},
   "outputs": [
    {
     "data": {
      "text/plain": [
       "1.3925318770330393e-14"
      ]
     },
     "execution_count": 43,
     "metadata": {},
     "output_type": "execute_result"
    }
   ],
   "source": [
    "rmse(\n",
    "    v_pred=np.matmul(gw_eval_X, gw_sol), \n",
    "    v_true=gw_eval_y,\n",
    "    axis=0\n",
    ")"
   ]
  },
  {
   "cell_type": "code",
   "execution_count": 44,
   "id": "7386cb23-a3ff-445e-8be0-55d1197d90f7",
   "metadata": {},
   "outputs": [
    {
     "data": {
      "image/png": "[encoded data removed]",
      "text/plain": [
       "<Figure size 600x600 with 1 Axes>"
      ]
     },
     "metadata": {},
     "output_type": "display_data"
    }
   ],
   "source": [
    "rwe_scatterplot(\n",
    "    v_pred=np.matmul(gw_eval_X, gw_sol), \n",
    "    v_true=gw_eval_y\n",
    ")"
   ]
  },
  {
   "cell_type": "markdown",
   "id": "8048df57-e360-4151-a154-02862192e1be",
   "metadata": {},
   "source": [
    "The error here is neligible, which is promising compare to Gaussian Mixture."
   ]
  },
  {
   "cell_type": "markdown",
   "id": "2a5941c2-9060-4d0d-9a34-a04d75b8916b",
   "metadata": {},
   "source": [
    "### RedGreen"
   ]
  },
  {
   "cell_type": "code",
   "execution_count": 45,
   "id": "16d7f90b-2f21-49c6-beb1-b501a233737c",
   "metadata": {},
   "outputs": [],
   "source": [
    "class RGObsWrapper(gym.ObservationWrapper):\n",
    "    def __init__(self, env, tiling_dim: int, num_tilings: int = None):\n",
    "        super().__init__(env)\n",
    "        self.tiles = Tiles(\n",
    "                np.array([0], np.int32),\n",
    "                np.array(\n",
    "                    [env.observation_space[\"pos\"].n]\n",
    "                ),\n",
    "                tiling_dim=tiling_dim,\n",
    "                num_tilings=num_tilings\n",
    "            )\n",
    "        self.observation_space = gym.spaces.Box(\n",
    "            low=np.zeros(shape=self.tiles.max_size, dtype=np.int32), \n",
    "            high=np.ones(shape=self.tiles.max_size, dtype=np.int32)\n",
    "        )\n",
    "\n",
    "    def observation(self, obs):\n",
    "        return self.tiles(obs[\"pos\"])"
   ]
  },
  {
   "cell_type": "code",
   "execution_count": 46,
   "id": "61a322c4-b2a4-4594-b8fc-bbf7e37182c5",
   "metadata": {},
   "outputs": [
    {
     "name": "stdout",
     "output_type": "stream",
     "text": [
      "Num tilings 4 \n",
      " Flat dim: 8\n"
     ]
    }
   ],
   "source": [
    "rg_env = RGObsWrapper(\n",
    "    redgreen.RedGreenSeq([\"red\", \"green\", \"red\", \"green\", \"wait\", \"green\"]),\n",
    "    tiling_dim=2\n",
    ")\n",
    "rg_buffer, rg_sol = solve_rwe(\n",
    "    rg_env,\n",
    "    num_steps=150_000, \n",
    "    sample_size=50_000,\n",
    "    delay=2,\n",
    ")"
   ]
  },
  {
   "cell_type": "code",
   "execution_count": 47,
   "id": "65965db4-5a93-4ffa-94cc-218ee947ecec",
   "metadata": {},
   "outputs": [
    {
     "data": {
      "text/plain": [
       "array([1., 1., 1., 1., 0., 0., 0., 0.])"
      ]
     },
     "execution_count": 47,
     "metadata": {},
     "output_type": "execute_result"
    }
   ],
   "source": [
    "rg_buffer[0][0]"
   ]
  },
  {
   "cell_type": "code",
   "execution_count": 48,
   "id": "9103a7b7-e7af-47fc-a13d-f094449a6614",
   "metadata": {},
   "outputs": [
    {
     "data": {
      "text/plain": [
       "array([-1.])"
      ]
     },
     "execution_count": 48,
     "metadata": {},
     "output_type": "execute_result"
    }
   ],
   "source": [
    "np.unique([np.around(ex[2], 2) for ex in rg_buffer])"
   ]
  },
  {
   "cell_type": "code",
   "execution_count": 49,
   "id": "6a7f0308-ee7f-46ad-bb0a-51876f714f2c",
   "metadata": {},
   "outputs": [
    {
     "data": {
      "text/plain": [
       "<__main__.Tiles at 0x7f0501a62950>"
      ]
     },
     "execution_count": 49,
     "metadata": {},
     "output_type": "execute_result"
    }
   ],
   "source": [
    "rg_env.tiles"
   ]
  },
  {
   "cell_type": "code",
   "execution_count": 50,
   "id": "4d3d81c5-20c3-40b7-93cf-8edbc18d9f61",
   "metadata": {},
   "outputs": [
    {
     "data": {
      "text/plain": [
       "array([-3.42190067, -0.5854992 ,  4.78584001, -1.77844014, -1.77844014,\n",
       "        4.78584001, -0.5854992 , -3.42190067,  0.7025346 , -0.11527318,\n",
       "        1.06741721, -2.65467863, -2.65467863,  1.06741721, -0.11527318,\n",
       "        0.7025346 , -0.69003331, -2.58479563,  1.68720336,  0.58762558,\n",
       "        0.58762558,  1.68720336, -2.58479563, -0.69003331])"
      ]
     },
     "execution_count": 50,
     "metadata": {},
     "output_type": "execute_result"
    }
   ],
   "source": [
    "rg_sol"
   ]
  },
  {
   "cell_type": "code",
   "execution_count": 51,
   "id": "c0a6d48a-2aed-4f5f-93ba-94e027afb9ad",
   "metadata": {},
   "outputs": [],
   "source": [
    "rg_eval_X, rg_eval_y = proj_obs_to_rwest_vec(rg_buffer, sample_size=10_000)"
   ]
  },
  {
   "cell_type": "code",
   "execution_count": 52,
   "id": "7d351396-e117-4d31-9dc3-8a8b3425a48a",
   "metadata": {},
   "outputs": [
    {
     "data": {
      "text/plain": [
       "((10000, 24), (10000,))"
      ]
     },
     "execution_count": 52,
     "metadata": {},
     "output_type": "execute_result"
    }
   ],
   "source": [
    "rg_eval_X.shape, rg_eval_y.shape"
   ]
  },
  {
   "cell_type": "code",
   "execution_count": 53,
   "id": "75fc8d23-140f-4360-a5be-79136af1457d",
   "metadata": {},
   "outputs": [
    {
     "data": {
      "text/plain": [
       "array([-1., -1., -1., ..., -1., -1., -1.])"
      ]
     },
     "execution_count": 53,
     "metadata": {},
     "output_type": "execute_result"
    }
   ],
   "source": [
    "np.matmul(rg_eval_X, rg_sol)"
   ]
  },
  {
   "cell_type": "code",
   "execution_count": 54,
   "id": "d52a6267-6968-4a54-a462-6cbc8fb2b20a",
   "metadata": {},
   "outputs": [
    {
     "data": {
      "text/plain": [
       "1.4747623633517817e-15"
      ]
     },
     "execution_count": 54,
     "metadata": {},
     "output_type": "execute_result"
    }
   ],
   "source": [
    "rmse(\n",
    "    v_pred=np.matmul(rg_eval_X, rg_sol), \n",
    "    v_true=rg_eval_y,\n",
    "    axis=0\n",
    ")"
   ]
  },
  {
   "cell_type": "markdown",
   "id": "7c1ed3b6-95c3-4e84-9521-5313fe0b0718",
   "metadata": {},
   "source": [
    "Here, the results are also optimistic - tough, once again, the reward is a constant."
   ]
  },
  {
   "cell_type": "markdown",
   "id": "a26fca2a-f4a5-4670-905b-dc84f815189c",
   "metadata": {},
   "source": [
    "### Lunda Lander"
   ]
  },
  {
   "cell_type": "code",
   "execution_count": 55,
   "id": "0f7a83aa-ffc2-40b3-a6bc-cbe8addc02a4",
   "metadata": {},
   "outputs": [],
   "source": [
    "class LLObsPreproc(gym.ObservationWrapper):\n",
    "    \"\"\"\n",
    "    Transform state to correspond to \n",
    "    the input of the reward fn used\n",
    "    by the environment.\n",
    "    \"\"\"\n",
    "    def __init__(\n",
    "        self, env\n",
    "    ):\n",
    "        super().__init__(env)\n",
    "        self.prev_obs = None\n",
    "\n",
    "    def observation(self, obs):\n",
    "        # https://github.com/Farama-Foundation/Gymnasium/blob/main/gymnasium/envs/box2d/lunar_lander.py#L639\n",
    "        x1 = np.sqrt(obs[0] * obs[0] + obs[1] * obs[1])\n",
    "        x2 = np.sqrt(obs[2] * obs[2] + obs[3] * obs[3])\n",
    "        x3 = abs(obs[4])\n",
    "        shaping = np.concatenate([[x1, x2, x3], obs[5:]])\n",
    "        new_obs = copy.copy(shaping)\n",
    "        if self.prev_obs is not None:\n",
    "            new_obs -= self.prev_obs\n",
    "        self.prev_obs = shaping\n",
    "        return new_obs\n",
    "        "
   ]
  },
  {
   "cell_type": "code",
   "execution_count": 56,
   "id": "62a12238-4173-472d-8a9a-98e9e032a114",
   "metadata": {},
   "outputs": [],
   "source": [
    "class LLObsWrapper(gym.ObservationWrapper):\n",
    "    def __init__(\n",
    "        self, env, tiling_dim: int, num_tilings: int = None, hash_dim: Optional[int] = None\n",
    "    ):\n",
    "        super().__init__(env)\n",
    "        self.hash_dim = hash_dim\n",
    "        self.tiles = Tiles(\n",
    "            # TODO: fix\n",
    "            dims_min=env.observation_space.low[:4],\n",
    "            dims_max=env.observation_space.high[:4],\n",
    "            tiling_dim=tiling_dim,\n",
    "            num_tilings=num_tilings\n",
    "        )\n",
    "        # TODO: hash dim\n",
    "        self.observation_space = gym.spaces.Box(\n",
    "            low=np.zeros(shape=self.tiles.max_size, dtype=np.int32), \n",
    "            high=np.ones(shape=self.tiles.max_size, dtype=np.int32)\n",
    "        )\n",
    "        self.prev_obs = None\n",
    "\n",
    "    def observation(self, obs):\n",
    "        xs = self.tiles(obs[:4])\n",
    "        if self.hash_dim:\n",
    "            xs = hashtrick(xs, dim=self.hash_dim)\n",
    "        # return np.concatenate([obs, np.array([1])]) \n",
    "        return np.concatenate([obs[:4], obs[4:]])"
   ]
  },
  {
   "cell_type": "code",
   "execution_count": 57,
   "id": "7a05fb56-a62f-4486-8f0c-f95a44b2a56f",
   "metadata": {},
   "outputs": [
    {
     "name": "stdout",
     "output_type": "stream",
     "text": [
      "Num tilings 16 \n",
      " Flat dim: 4096\n"
     ]
    }
   ],
   "source": [
    "lunar_env = LLObsWrapper(\n",
    "    LLObsPreproc(gym.make(\"LunarLander-v3\")), tiling_dim=4, hash_dim=128\n",
    ")\n",
    "lunar_buffer, lunar_sol = solve_rwe(\n",
    "    lunar_env,\n",
    "    num_steps=150_000, \n",
    "    sample_size=50_000,\n",
    "    delay=2,\n",
    ")"
   ]
  },
  {
   "cell_type": "code",
   "execution_count": 58,
   "id": "f1ab18b3-d03f-4cc3-b108-53e079406c25",
   "metadata": {},
   "outputs": [
    {
     "data": {
      "text/plain": [
       "(array([1.4193279 , 0.6213417 , 0.00568893, 0.11251102, 0.        ,\n",
       "        0.        ], dtype=float32),\n",
       " array([ 0.00785804, -0.02143925,  0.00406205, -0.03126198,  0.        ,\n",
       "         0.        ], dtype=float32))"
      ]
     },
     "execution_count": 58,
     "metadata": {},
     "output_type": "execute_result"
    }
   ],
   "source": [
    "lunar_buffer[0][0], lunar_buffer[1][0]"
   ]
  },
  {
   "cell_type": "code",
   "execution_count": 59,
   "id": "59c06f16-2bce-47e8-a0cb-a34d206874e7",
   "metadata": {},
   "outputs": [
    {
     "data": {
      "text/plain": [
       "array([-100.  ,  -39.74,  -39.  , ...,  127.56,  128.16,  142.79])"
      ]
     },
     "execution_count": 59,
     "metadata": {},
     "output_type": "execute_result"
    }
   ],
   "source": [
    "np.unique([np.around(ex[2], 2) for ex in lunar_buffer])"
   ]
  },
  {
   "cell_type": "code",
   "execution_count": 60,
   "id": "f883e599-250e-40fe-ab34-e342c8267fc8",
   "metadata": {
    "scrolled": true
   },
   "outputs": [
    {
     "data": {
      "text/plain": [
       "<Axes: ylabel='Count'>"
      ]
     },
     "execution_count": 60,
     "metadata": {},
     "output_type": "execute_result"
    },
    {
     "data": {
      "image/png": "[encoded data removed]",
      "text/plain": [
       "<Figure size 640x480 with 1 Axes>"
      ]
     },
     "metadata": {},
     "output_type": "display_data"
    }
   ],
   "source": [
    "sns.histplot([np.around(ex[2], 2) for ex in lunar_buffer], bins=50)"
   ]
  },
  {
   "cell_type": "code",
   "execution_count": 61,
   "id": "89927f54-c3d6-41ab-bf21-48742887c5ee",
   "metadata": {},
   "outputs": [
    {
     "data": {
      "text/plain": [
       "<__main__.Tiles at 0x7f05007e8e50>"
      ]
     },
     "execution_count": 61,
     "metadata": {},
     "output_type": "execute_result"
    }
   ],
   "source": [
    "lunar_env.tiles"
   ]
  },
  {
   "cell_type": "code",
   "execution_count": 62,
   "id": "83d2de89-68fd-4329-9cd5-9cffaebde8e1",
   "metadata": {},
   "outputs": [],
   "source": [
    "lunar_eval_X, lunar_eval_y = proj_obs_to_rwest_vec(lunar_buffer, sample_size=50_000)"
   ]
  },
  {
   "cell_type": "code",
   "execution_count": 63,
   "id": "d08e64cd-fa12-47b4-9885-12be03ad9240",
   "metadata": {},
   "outputs": [
    {
     "data": {
      "text/plain": [
       "((50000, 24), (50000,))"
      ]
     },
     "execution_count": 63,
     "metadata": {},
     "output_type": "execute_result"
    }
   ],
   "source": [
    "lunar_eval_X.shape, lunar_eval_y.shape"
   ]
  },
  {
   "cell_type": "code",
   "execution_count": 64,
   "id": "6c95b6a1-42a2-4b02-8bbe-a96113fa2bf0",
   "metadata": {},
   "outputs": [
    {
     "data": {
      "text/plain": [
       "array([ 1.72669864, -0.26455082, -0.58815715, ..., -0.8823373 ,\n",
       "        0.69653596,  1.1522805 ])"
      ]
     },
     "execution_count": 64,
     "metadata": {},
     "output_type": "execute_result"
    }
   ],
   "source": [
    "lunar_eval_y"
   ]
  },
  {
   "cell_type": "code",
   "execution_count": 65,
   "id": "5a181e79-7386-4a5e-8c8c-0be23e73a107",
   "metadata": {},
   "outputs": [
    {
     "data": {
      "text/plain": [
       "array([ 0.46650723, -0.24652772,  0.31998148, ...,  0.17905872,\n",
       "       -0.27274123, -0.07427755])"
      ]
     },
     "execution_count": 65,
     "metadata": {},
     "output_type": "execute_result"
    }
   ],
   "source": [
    "np.matmul(lunar_eval_X, lunar_sol)"
   ]
  },
  {
   "cell_type": "code",
   "execution_count": 66,
   "id": "f65ad411-ff26-4285-a762-5775db07bf14",
   "metadata": {},
   "outputs": [
    {
     "data": {
      "text/plain": [
       "10.965940041286553"
      ]
     },
     "execution_count": 66,
     "metadata": {},
     "output_type": "execute_result"
    }
   ],
   "source": [
    "rmse(\n",
    "    v_pred=np.matmul(lunar_eval_X, lunar_sol), \n",
    "    v_true=lunar_eval_y,\n",
    "    axis=0\n",
    ")"
   ]
  },
  {
   "cell_type": "code",
   "execution_count": 67,
   "id": "a6e016b3-274f-4eba-aa07-b4b7453f0f64",
   "metadata": {},
   "outputs": [
    {
     "data": {
      "image/png": "[encoded data removed]",
      "text/plain": [
       "<Figure size 600x600 with 1 Axes>"
      ]
     },
     "metadata": {},
     "output_type": "display_data"
    }
   ],
   "source": [
    "rwe_scatterplot(\n",
    "    v_pred=np.matmul(lunar_eval_X, lunar_sol), \n",
    "    v_true=lunar_eval_y\n",
    ")"
   ]
  },
  {
   "cell_type": "code",
   "execution_count": 68,
   "id": "e792b749-87d0-41b5-8343-be38258367ed",
   "metadata": {},
   "outputs": [],
   "source": [
    "def tmp():\n",
    "    env = gym.make(\"LunarLander-v3\")\n",
    "\n",
    "    samples = []\n",
    "    for i in range(10000):\n",
    "        obs, _ = env.reset()\n",
    "        for j in range(100):\n",
    "            observation, reward, terminated, truncated, info = env.step(env.action_space.sample())\n",
    "            done = terminated or truncated\n",
    "            samples.append(\n",
    "                {\n",
    "                    \"reward\": reward,\n",
    "                    \"step\": j\n",
    "                }\n",
    "            )\n",
    "            if done:\n",
    "                break\n",
    "    return pd.DataFrame(samples)\n",
    "        "
   ]
  },
  {
   "cell_type": "code",
   "execution_count": 69,
   "id": "16f5accf-afc6-4b31-a480-b00758f3c736",
   "metadata": {},
   "outputs": [],
   "source": [
    "df_tmp = tmp()"
   ]
  },
  {
   "cell_type": "code",
   "execution_count": 70,
   "id": "289af55a-f5ea-447f-98bd-9ea06f2c44b0",
   "metadata": {},
   "outputs": [
    {
     "data": {
      "text/html": [
       "<div>\n",
       "<style scoped>\n",
       "    .dataframe tbody tr th:only-of-type {\n",
       "        vertical-align: middle;\n",
       "    }\n",
       "\n",
       "    .dataframe tbody tr th {\n",
       "        vertical-align: top;\n",
       "    }\n",
       "\n",
       "    .dataframe thead th {\n",
       "        text-align: right;\n",
       "    }\n",
       "</style>\n",
       "<table border=\"1\" class=\"dataframe\">\n",
       "  <thead>\n",
       "    <tr style=\"text-align: right;\">\n",
       "      <th></th>\n",
       "      <th>reward</th>\n",
       "      <th>step</th>\n",
       "    </tr>\n",
       "  </thead>\n",
       "  <tbody>\n",
       "    <tr>\n",
       "      <th>0</th>\n",
       "      <td>0.911619</td>\n",
       "      <td>0</td>\n",
       "    </tr>\n",
       "    <tr>\n",
       "      <th>1</th>\n",
       "      <td>-2.841844</td>\n",
       "      <td>1</td>\n",
       "    </tr>\n",
       "    <tr>\n",
       "      <th>2</th>\n",
       "      <td>0.495464</td>\n",
       "      <td>2</td>\n",
       "    </tr>\n",
       "    <tr>\n",
       "      <th>3</th>\n",
       "      <td>1.121025</td>\n",
       "      <td>3</td>\n",
       "    </tr>\n",
       "    <tr>\n",
       "      <th>4</th>\n",
       "      <td>0.235316</td>\n",
       "      <td>4</td>\n",
       "    </tr>\n",
       "    <tr>\n",
       "      <th>...</th>\n",
       "      <td>...</td>\n",
       "      <td>...</td>\n",
       "    </tr>\n",
       "    <tr>\n",
       "      <th>867399</th>\n",
       "      <td>0.159576</td>\n",
       "      <td>82</td>\n",
       "    </tr>\n",
       "    <tr>\n",
       "      <th>867400</th>\n",
       "      <td>-2.157005</td>\n",
       "      <td>83</td>\n",
       "    </tr>\n",
       "    <tr>\n",
       "      <th>867401</th>\n",
       "      <td>7.715701</td>\n",
       "      <td>84</td>\n",
       "    </tr>\n",
       "    <tr>\n",
       "      <th>867402</th>\n",
       "      <td>6.726636</td>\n",
       "      <td>85</td>\n",
       "    </tr>\n",
       "    <tr>\n",
       "      <th>867403</th>\n",
       "      <td>-100.000000</td>\n",
       "      <td>86</td>\n",
       "    </tr>\n",
       "  </tbody>\n",
       "</table>\n",
       "<p>867404 rows × 2 columns</p>\n",
       "</div>"
      ],
      "text/plain": [
       "            reward  step\n",
       "0         0.911619     0\n",
       "1        -2.841844     1\n",
       "2         0.495464     2\n",
       "3         1.121025     3\n",
       "4         0.235316     4\n",
       "...            ...   ...\n",
       "867399    0.159576    82\n",
       "867400   -2.157005    83\n",
       "867401    7.715701    84\n",
       "867402    6.726636    85\n",
       "867403 -100.000000    86\n",
       "\n",
       "[867404 rows x 2 columns]"
      ]
     },
     "execution_count": 70,
     "metadata": {},
     "output_type": "execute_result"
    }
   ],
   "source": [
    "df_tmp"
   ]
  },
  {
   "cell_type": "code",
   "execution_count": 71,
   "id": "2ec17752-a2fb-4cf5-9c8d-ffe8c47dbe02",
   "metadata": {},
   "outputs": [],
   "source": [
    "df_tmp[\"type\"] = df_tmp[\"step\"].apply(lambda step: \"First\" if step == 0 else \"Other\")"
   ]
  },
  {
   "cell_type": "code",
   "execution_count": 72,
   "id": "57111696-f0a5-4980-9c4a-8cffeb16c5b4",
   "metadata": {},
   "outputs": [
    {
     "data": {
      "text/html": [
       "<div>\n",
       "<style scoped>\n",
       "    .dataframe tbody tr th:only-of-type {\n",
       "        vertical-align: middle;\n",
       "    }\n",
       "\n",
       "    .dataframe tbody tr th {\n",
       "        vertical-align: top;\n",
       "    }\n",
       "\n",
       "    .dataframe thead th {\n",
       "        text-align: right;\n",
       "    }\n",
       "</style>\n",
       "<table border=\"1\" class=\"dataframe\">\n",
       "  <thead>\n",
       "    <tr style=\"text-align: right;\">\n",
       "      <th></th>\n",
       "      <th>reward</th>\n",
       "      <th>step</th>\n",
       "      <th>type</th>\n",
       "    </tr>\n",
       "  </thead>\n",
       "  <tbody>\n",
       "    <tr>\n",
       "      <th>0</th>\n",
       "      <td>0.911619</td>\n",
       "      <td>0</td>\n",
       "      <td>First</td>\n",
       "    </tr>\n",
       "    <tr>\n",
       "      <th>1</th>\n",
       "      <td>-2.841844</td>\n",
       "      <td>1</td>\n",
       "      <td>Other</td>\n",
       "    </tr>\n",
       "    <tr>\n",
       "      <th>2</th>\n",
       "      <td>0.495464</td>\n",
       "      <td>2</td>\n",
       "      <td>Other</td>\n",
       "    </tr>\n",
       "    <tr>\n",
       "      <th>3</th>\n",
       "      <td>1.121025</td>\n",
       "      <td>3</td>\n",
       "      <td>Other</td>\n",
       "    </tr>\n",
       "    <tr>\n",
       "      <th>4</th>\n",
       "      <td>0.235316</td>\n",
       "      <td>4</td>\n",
       "      <td>Other</td>\n",
       "    </tr>\n",
       "    <tr>\n",
       "      <th>...</th>\n",
       "      <td>...</td>\n",
       "      <td>...</td>\n",
       "      <td>...</td>\n",
       "    </tr>\n",
       "    <tr>\n",
       "      <th>867399</th>\n",
       "      <td>0.159576</td>\n",
       "      <td>82</td>\n",
       "      <td>Other</td>\n",
       "    </tr>\n",
       "    <tr>\n",
       "      <th>867400</th>\n",
       "      <td>-2.157005</td>\n",
       "      <td>83</td>\n",
       "      <td>Other</td>\n",
       "    </tr>\n",
       "    <tr>\n",
       "      <th>867401</th>\n",
       "      <td>7.715701</td>\n",
       "      <td>84</td>\n",
       "      <td>Other</td>\n",
       "    </tr>\n",
       "    <tr>\n",
       "      <th>867402</th>\n",
       "      <td>6.726636</td>\n",
       "      <td>85</td>\n",
       "      <td>Other</td>\n",
       "    </tr>\n",
       "    <tr>\n",
       "      <th>867403</th>\n",
       "      <td>-100.000000</td>\n",
       "      <td>86</td>\n",
       "      <td>Other</td>\n",
       "    </tr>\n",
       "  </tbody>\n",
       "</table>\n",
       "<p>867404 rows × 3 columns</p>\n",
       "</div>"
      ],
      "text/plain": [
       "            reward  step   type\n",
       "0         0.911619     0  First\n",
       "1        -2.841844     1  Other\n",
       "2         0.495464     2  Other\n",
       "3         1.121025     3  Other\n",
       "4         0.235316     4  Other\n",
       "...            ...   ...    ...\n",
       "867399    0.159576    82  Other\n",
       "867400   -2.157005    83  Other\n",
       "867401    7.715701    84  Other\n",
       "867402    6.726636    85  Other\n",
       "867403 -100.000000    86  Other\n",
       "\n",
       "[867404 rows x 3 columns]"
      ]
     },
     "execution_count": 72,
     "metadata": {},
     "output_type": "execute_result"
    }
   ],
   "source": [
    "df_tmp"
   ]
  },
  {
   "cell_type": "code",
   "execution_count": 73,
   "id": "07aaa9d7-746d-42b0-9c50-55b6ca129278",
   "metadata": {},
   "outputs": [
    {
     "data": {
      "text/html": [
       "<div>\n",
       "<style scoped>\n",
       "    .dataframe tbody tr th:only-of-type {\n",
       "        vertical-align: middle;\n",
       "    }\n",
       "\n",
       "    .dataframe tbody tr th {\n",
       "        vertical-align: top;\n",
       "    }\n",
       "\n",
       "    .dataframe thead th {\n",
       "        text-align: right;\n",
       "    }\n",
       "</style>\n",
       "<table border=\"1\" class=\"dataframe\">\n",
       "  <thead>\n",
       "    <tr style=\"text-align: right;\">\n",
       "      <th></th>\n",
       "      <th>reward</th>\n",
       "      <th>step</th>\n",
       "      <th>type</th>\n",
       "    </tr>\n",
       "  </thead>\n",
       "  <tbody>\n",
       "    <tr>\n",
       "      <th>0</th>\n",
       "      <td>0.911619</td>\n",
       "      <td>0</td>\n",
       "      <td>First</td>\n",
       "    </tr>\n",
       "    <tr>\n",
       "      <th>100</th>\n",
       "      <td>-0.480373</td>\n",
       "      <td>0</td>\n",
       "      <td>First</td>\n",
       "    </tr>\n",
       "    <tr>\n",
       "      <th>200</th>\n",
       "      <td>0.042483</td>\n",
       "      <td>0</td>\n",
       "      <td>First</td>\n",
       "    </tr>\n",
       "    <tr>\n",
       "      <th>300</th>\n",
       "      <td>1.187525</td>\n",
       "      <td>0</td>\n",
       "      <td>First</td>\n",
       "    </tr>\n",
       "    <tr>\n",
       "      <th>366</th>\n",
       "      <td>-0.131413</td>\n",
       "      <td>0</td>\n",
       "      <td>First</td>\n",
       "    </tr>\n",
       "    <tr>\n",
       "      <th>...</th>\n",
       "      <td>...</td>\n",
       "      <td>...</td>\n",
       "      <td>...</td>\n",
       "    </tr>\n",
       "    <tr>\n",
       "      <th>866925</th>\n",
       "      <td>0.482958</td>\n",
       "      <td>0</td>\n",
       "      <td>First</td>\n",
       "    </tr>\n",
       "    <tr>\n",
       "      <th>867024</th>\n",
       "      <td>0.414632</td>\n",
       "      <td>0</td>\n",
       "      <td>First</td>\n",
       "    </tr>\n",
       "    <tr>\n",
       "      <th>867124</th>\n",
       "      <td>-1.635789</td>\n",
       "      <td>0</td>\n",
       "      <td>First</td>\n",
       "    </tr>\n",
       "    <tr>\n",
       "      <th>867217</th>\n",
       "      <td>1.655509</td>\n",
       "      <td>0</td>\n",
       "      <td>First</td>\n",
       "    </tr>\n",
       "    <tr>\n",
       "      <th>867317</th>\n",
       "      <td>-0.308701</td>\n",
       "      <td>0</td>\n",
       "      <td>First</td>\n",
       "    </tr>\n",
       "  </tbody>\n",
       "</table>\n",
       "<p>10000 rows × 3 columns</p>\n",
       "</div>"
      ],
      "text/plain": [
       "          reward  step   type\n",
       "0       0.911619     0  First\n",
       "100    -0.480373     0  First\n",
       "200     0.042483     0  First\n",
       "300     1.187525     0  First\n",
       "366    -0.131413     0  First\n",
       "...          ...   ...    ...\n",
       "866925  0.482958     0  First\n",
       "867024  0.414632     0  First\n",
       "867124 -1.635789     0  First\n",
       "867217  1.655509     0  First\n",
       "867317 -0.308701     0  First\n",
       "\n",
       "[10000 rows x 3 columns]"
      ]
     },
     "execution_count": 73,
     "metadata": {},
     "output_type": "execute_result"
    }
   ],
   "source": [
    "df_tmp[df_tmp[\"step\"] == 0]"
   ]
  },
  {
   "cell_type": "code",
   "execution_count": 74,
   "id": "7079d94e-9d3f-45be-9147-68e2b7051aff",
   "metadata": {},
   "outputs": [
    {
     "name": "stderr",
     "output_type": "stream",
     "text": [
      "/home/guilherme/code/research-phd/drmdp-fnapprox/.venv/lib/python3.11/site-packages/seaborn/_base.py:949: FutureWarning: When grouping with a length-1 list-like, you will need to pass a length-1 tuple to get_group in a future version of pandas. Pass `(name,)` instead of `name` to silence this warning.\n",
      "  data_subset = grouped_data.get_group(pd_key)\n",
      "/home/guilherme/code/research-phd/drmdp-fnapprox/.venv/lib/python3.11/site-packages/seaborn/_base.py:949: FutureWarning: When grouping with a length-1 list-like, you will need to pass a length-1 tuple to get_group in a future version of pandas. Pass `(name,)` instead of `name` to silence this warning.\n",
      "  data_subset = grouped_data.get_group(pd_key)\n",
      "/home/guilherme/code/research-phd/drmdp-fnapprox/.venv/lib/python3.11/site-packages/seaborn/_base.py:949: FutureWarning: When grouping with a length-1 list-like, you will need to pass a length-1 tuple to get_group in a future version of pandas. Pass `(name,)` instead of `name` to silence this warning.\n",
      "  data_subset = grouped_data.get_group(pd_key)\n"
     ]
    },
    {
     "data": {
      "text/plain": [
       "<seaborn.axisgrid.FacetGrid at 0x7f04f91862d0>"
      ]
     },
     "execution_count": 74,
     "metadata": {},
     "output_type": "execute_result"
    },
    {
     "data": {
      "image/png": "[encoded data removed]",
      "text/plain": [
       "<Figure size 589.375x500 with 1 Axes>"
      ]
     },
     "metadata": {},
     "output_type": "display_data"
    }
   ],
   "source": [
    "sns.displot(df_tmp, x=\"reward\", hue=\"type\")"
   ]
  },
  {
   "cell_type": "code",
   "execution_count": 75,
   "id": "47bdacba-c23e-4b1b-94bd-875b7707d45d",
   "metadata": {},
   "outputs": [],
   "source": [
    "def st_rw():\n",
    "    env = LLObsPreproc(gym.make(\"LunarLander-v3\"))\n",
    "    states = []\n",
    "    rewards = []\n",
    "    for i in range(10_000):\n",
    "        obs, _ = env.reset()\n",
    "        for j in range(20):\n",
    "            # reward is based on the next state?\n",
    "            next_obs, reward, terminated, truncated, info = env.step(env.action_space.sample())\n",
    "            if j != 0:\n",
    "                states.append(obs)\n",
    "                rewards.append(reward)\n",
    "            \n",
    "            done = terminated or truncated\n",
    "            obs = next_obs\n",
    "            if done:\n",
    "                break\n",
    "    return np.array(states), np.array(rewards)"
   ]
  },
  {
   "cell_type": "code",
   "execution_count": 76,
   "id": "2b3bc9fc-9c71-4c74-9b0d-e3e326554dd3",
   "metadata": {},
   "outputs": [],
   "source": [
    "states, rewards = st_rw()"
   ]
  },
  {
   "cell_type": "code",
   "execution_count": 77,
   "id": "4a235b79-37f1-49b6-84ff-f718ffdf2f7c",
   "metadata": {},
   "outputs": [
    {
     "data": {
      "text/plain": [
       "array([[ 2.4343729e-03, -1.5743375e-03,  7.5774575e-03,  2.6331544e-03,\n",
       "         0.0000000e+00,  0.0000000e+00],\n",
       "       [ 2.5492907e-03, -1.1633575e-02,  8.2365451e-03,  1.3182163e-02,\n",
       "         0.0000000e+00,  0.0000000e+00],\n",
       "       [ 2.9730797e-03,  9.5332265e-03,  7.9879649e-03, -4.9722046e-03,\n",
       "         0.0000000e+00,  0.0000000e+00],\n",
       "       ...,\n",
       "       [-1.0128856e-02,  2.6517421e-02,  8.3035044e-03, -3.7074089e-05,\n",
       "         0.0000000e+00,  0.0000000e+00],\n",
       "       [-1.0723233e-02,  2.5336593e-02,  1.0711141e-02,  4.8156500e-02,\n",
       "         0.0000000e+00,  0.0000000e+00],\n",
       "       [-1.1316419e-02,  2.7074546e-02,  8.8694543e-03, -3.6836848e-02,\n",
       "         0.0000000e+00,  0.0000000e+00]], dtype=float32)"
      ]
     },
     "execution_count": 77,
     "metadata": {},
     "output_type": "execute_result"
    }
   ],
   "source": [
    "states"
   ]
  },
  {
   "cell_type": "code",
   "execution_count": 78,
   "id": "d7bca911-adc7-4d0f-93de-9b8b50aa2c6c",
   "metadata": {},
   "outputs": [
    {
     "data": {
      "text/plain": [
       "array([-0.21523145, -2.34941875, -3.60535845, ..., -2.5624516 ,\n",
       "       -2.49275579, -2.57702459])"
      ]
     },
     "execution_count": 78,
     "metadata": {},
     "output_type": "execute_result"
    }
   ],
   "source": [
    "rewards"
   ]
  },
  {
   "cell_type": "code",
   "execution_count": 79,
   "id": "c2f64adc-5353-432e-8328-95be4b36852f",
   "metadata": {},
   "outputs": [],
   "source": [
    "x = np.array([-100, -100, -100, 0, 10, 10])"
   ]
  },
  {
   "cell_type": "code",
   "execution_count": 80,
   "id": "a5c446da-d10e-4500-a5e2-fa019b8dd80b",
   "metadata": {},
   "outputs": [],
   "source": [
    "yhat = np.dot(states, x)"
   ]
  },
  {
   "cell_type": "code",
   "execution_count": 81,
   "id": "e1d02621-d2cd-4629-84f6-34c8bbb1d09f",
   "metadata": {},
   "outputs": [
    {
     "data": {
      "text/plain": [
       "(array([-0.84374929,  0.08477392, -2.04942711, ..., -2.46920697,\n",
       "        -2.53245011, -2.46275812]),\n",
       " array([-0.21523145, -2.34941875, -3.60535845, ..., -2.5624516 ,\n",
       "        -2.49275579, -2.57702459]))"
      ]
     },
     "execution_count": 81,
     "metadata": {},
     "output_type": "execute_result"
    }
   ],
   "source": [
    "yhat, rewards"
   ]
  },
  {
   "cell_type": "code",
   "execution_count": 82,
   "id": "90e21da3-3718-481d-9388-f8e45d3830c5",
   "metadata": {},
   "outputs": [
    {
     "data": {
      "text/plain": [
       "2.110411790416094"
      ]
     },
     "execution_count": 82,
     "metadata": {},
     "output_type": "execute_result"
    }
   ],
   "source": [
    "rmse(yhat, rewards, axis=0)"
   ]
  },
  {
   "cell_type": "code",
   "execution_count": 83,
   "id": "a5b22ae8-8c37-4c9e-81de-8366c0f497cc",
   "metadata": {},
   "outputs": [
    {
     "data": {
      "text/plain": [
       "(0.08477391675114632, -0.21523145308954666)"
      ]
     },
     "execution_count": 83,
     "metadata": {},
     "output_type": "execute_result"
    }
   ],
   "source": [
    "np.dot(states[1], x), rewards[0]"
   ]
  },
  {
   "cell_type": "code",
   "execution_count": 84,
   "id": "29b10b6e-b430-40c5-966c-7c0c105764a2",
   "metadata": {},
   "outputs": [
    {
     "data": {
      "text/plain": [
       "(-2.049427106976509, -2.3494187453485322)"
      ]
     },
     "execution_count": 84,
     "metadata": {},
     "output_type": "execute_result"
    }
   ],
   "source": [
    "np.dot(states[2], x), rewards[1]"
   ]
  },
  {
   "cell_type": "code",
   "execution_count": 85,
   "id": "ff5f7ad1-5f9b-4c18-add3-fd2ebd8c1371",
   "metadata": {},
   "outputs": [
    {
     "data": {
      "text/plain": [
       "(-3.3053502440452576, -3.6053584510639096)"
      ]
     },
     "execution_count": 85,
     "metadata": {},
     "output_type": "execute_result"
    }
   ],
   "source": [
    "np.dot(states[3], x), rewards[2]"
   ]
  },
  {
   "cell_type": "code",
   "execution_count": 86,
   "id": "cf27eaf3-7666-4c62-80ed-ddc8202419de",
   "metadata": {},
   "outputs": [
    {
     "data": {
      "text/plain": [
       "(-0.7013279944658279, -0.7013228409635417)"
      ]
     },
     "execution_count": 86,
     "metadata": {},
     "output_type": "execute_result"
    }
   ],
   "source": [
    "np.dot(states[5], x), rewards[4]"
   ]
  },
  {
   "cell_type": "code",
   "execution_count": 87,
   "id": "ef4373bf-1220-4094-8ab0-dbc5fb189264",
   "metadata": {},
   "outputs": [
    {
     "data": {
      "text/plain": [
       "0.5505038888064687"
      ]
     },
     "execution_count": 87,
     "metadata": {},
     "output_type": "execute_result"
    }
   ],
   "source": [
    "rmse(np.dot(states[1:,:], x), rewards[:-1], axis=0)"
   ]
  },
  {
   "cell_type": "markdown",
   "id": "1dc2fd2c-77a8-4b79-a789-3fb742252c0f",
   "metadata": {},
   "source": [
    "LunarLander rewards are:\n",
    "  - Conditioned on the current reward, state changes, and action\n",
    "  - Non-linear, using sqrt for certain elements of state\n",
    "\n",
    "Even if we could simply modify the exposed state to, so to only leave the remaining linear transformations, it would still be complex to model since the reward (1) still requires subtracting values that are conditioned on hidden conditions and (2) the values for the initial state (for which there is no previous state) would remain difficult to model with a linear function.\n",
    "\n",
    "Conclusively, this environment can be excluded from these experiments, is it does not align with the set of problems we aim at solving."
   ]
  },
  {
   "cell_type": "markdown",
   "id": "d3702dfd-e7bd-4ef4-ac73-cdd236ba7036",
   "metadata": {},
   "source": [
    "## Conclusions"
   ]
  },
  {
   "cell_type": "markdown",
   "id": "11e4deaa-609a-4158-86c8-60b8e17d8f13",
   "metadata": {},
   "source": [
    "\n",
    "  - Where we have single rewards or a linear mapping between discrete states and rewards, tiling seems to work quite well.\n",
    "  - The performance when rewards for different states are different seems to be a factor not just the tiling, but the sample used for estimation - it needs to be representative of the environment space."
   ]
  },
  {
   "cell_type": "code",
   "execution_count": null,
   "id": "597bbdad-a227-4bbe-a071-00534c4b7283",
   "metadata": {},
   "outputs": [],
   "source": []
  }
 ],
 "metadata": {
  "kernelspec": {
   "display_name": "Python 3 (ipykernel)",
   "language": "python",
   "name": "python3"
  },
  "language_info": {
   "codemirror_mode": {
    "name": "ipython",
    "version": 3
   },
   "file_extension": ".py",
   "mimetype": "text/x-python",
   "name": "python",
   "nbconvert_exporter": "python",
   "pygments_lexer": "ipython3",
   "version": "3.11.11"
  }
 },
 "nbformat": 4,
 "nbformat_minor": 5
}
