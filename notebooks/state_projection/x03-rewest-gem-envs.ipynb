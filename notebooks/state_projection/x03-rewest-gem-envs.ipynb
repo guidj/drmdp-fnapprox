{
 "cells": [
  {
   "cell_type": "markdown",
   "id": "77fd02d1-537b-414e-a046-be9dde9dd530",
   "metadata": {},
   "source": [
    "# Estimating Rewards for GEM Environments"
   ]
  },
  {
   "cell_type": "markdown",
   "id": "fa0d1ed2-b21e-4905-9bb9-184d29fd00ba",
   "metadata": {},
   "source": [
    "Our aim is to carry out RL tasks when rewards are delayed (aggregate, and anonymous), using linear function approximation.\n",
    "To solve this problem, we aim to project both large discrete states and continuous states into basis vectors.\n",
    "\n",
    "\n",
    "In this notebook, we explore state representation approaches to estimate rewards for [GEM environments](https://github.com/upb-lea/gym-electric-motor).\n",
    "These environments have continuous states and discrete actions (there are continuous actions options as well, which are outside of scope).\n",
    "\n",
    "The states rewards are a linear function of $(s,s')$. As such, we change the buffer from earlier notebooks from $(s,a,r)$ to $(s,a,s',r)$.\n",
    "\n",
    "The test the following techniques:\n",
    "\n",
    "  - Raw\n",
    "  - Scaled (0 to 1)  \n",
    "  - Gaussian\n",
    "  - Tiling"
   ]
  },
  {
   "cell_type": "code",
   "execution_count": 1,
   "id": "96def89d-da64-421c-9fa7-4e7c383cac5c",
   "metadata": {},
   "outputs": [],
   "source": [
    "import copy\n",
    "import itertools\n",
    "import math\n",
    "import functools\n",
    "from typing import Optional, Any"
   ]
  },
  {
   "cell_type": "code",
   "execution_count": 2,
   "id": "294d273e-aa6e-40b5-9cd3-e44c87415250",
   "metadata": {},
   "outputs": [],
   "source": [
    "import gymnasium as gym\n",
    "import numpy as np\n",
    "import pandas as pd\n",
    "from scipy import linalg\n",
    "import gym_electric_motor as gem\n",
    "from gym_electric_motor import reward_functions\n",
    "from sklearn import mixture, model_selection"
   ]
  },
  {
   "cell_type": "code",
   "execution_count": 3,
   "id": "63bc1d62-7fa9-495e-877d-909c4f7fa337",
   "metadata": {},
   "outputs": [],
   "source": [
    "from rlplg.environments import gridworld, redgreen"
   ]
  },
  {
   "cell_type": "code",
   "execution_count": 4,
   "id": "f40d14be-fe4e-45da-95ed-2ef2504f5abe",
   "metadata": {},
   "outputs": [],
   "source": [
    "import seaborn as sns\n",
    "from matplotlib import pyplot as plt"
   ]
  },
  {
   "cell_type": "markdown",
   "id": "1c7db704-00b1-4cbc-9384-3c343c25365e",
   "metadata": {},
   "source": [
    "## Feature Encoding"
   ]
  },
  {
   "cell_type": "markdown",
   "id": "0bdee5cc-32d1-41f8-a521-e93d72d9d913",
   "metadata": {},
   "source": [
    "### Tiling Utils"
   ]
  },
  {
   "cell_type": "code",
   "execution_count": 5,
   "id": "c8d5c2a4-810f-4e6d-becb-913237eee752",
   "metadata": {},
   "outputs": [],
   "source": [
    "\"\"\"\n",
    "Tile Coding Software version 3.0beta\n",
    "by Rich Sutton\n",
    "based on a program created by Steph Schaeffer and others\n",
    "External documentation and recommendations on the use of this code is available in the \n",
    "reinforcement learning textbook by Sutton and Barto, and on the web.\n",
    "These need to be understood before this code is.\n",
    "\n",
    "This software is for Python 3 or more.\n",
    "\n",
    "This is an implementation of grid-style tile codings, based originally on\n",
    "the UNH CMAC code (see http://www.ece.unh.edu/robots/cmac.htm), but by now highly changed. \n",
    "Here we provide a function, \"tiles\", that maps floating and integer\n",
    "variables to a list of tiles, and a second function \"tiles-wrap\" that does the same while\n",
    "wrapping some floats to provided widths (the lower wrap value is always 0).\n",
    "\n",
    "The float variables will be gridded at unit intervals, so generalization\n",
    "will be by approximately 1 in each direction, and any scaling will have \n",
    "to be done externally before calling tiles.\n",
    "\n",
    "Num-tilings should be a power of 2, e.g., 16. To make the offsetting work properly, it should\n",
    "also be greater than or equal to four times the number of floats.\n",
    "\n",
    "The first argument is either an index hash table of a given size (created by (make-iht size)), \n",
    "an integer \"size\" (range of the indices from 0), or nil (for testing, indicating that the tile \n",
    "coordinates are to be returned without being converted to indices).\n",
    "\"\"\"\n",
    "\n",
    "basehash = hash\n",
    "\n",
    "class IHT:\n",
    "    \"Structure to handle collisions\"\n",
    "    def __init__(self, sizeval):\n",
    "        self.size = sizeval                        \n",
    "        self.overfullCount = 0\n",
    "        self.dictionary = {}\n",
    "\n",
    "    def __str__(self):\n",
    "        \"Prepares a string for printing whenever this object is printed\"\n",
    "        return \"Collision table:\" + \\\n",
    "               \" size:\" + str(self.size) + \\\n",
    "               \" overfullCount:\" + str(self.overfullCount) + \\\n",
    "               \" dictionary:\" + str(len(self.dictionary)) + \" items\"\n",
    "\n",
    "    def count(self):\n",
    "        return len(self.dictionary)\n",
    "    \n",
    "    def fullp(self):\n",
    "        return len(self.dictionary) >= self.size\n",
    "    \n",
    "    def getindex(self, obj, readonly=False):\n",
    "        d = self.dictionary\n",
    "        if obj in d:\n",
    "            return d[obj]\n",
    "        elif readonly:\n",
    "            return None\n",
    "        size = self.size\n",
    "        count = self.count()\n",
    "        if count >= size:\n",
    "            # TODO: Fail\n",
    "            if self.overfullCount==0: \n",
    "                print('IHT full, starting to allow collisions')\n",
    "            self.overfullCount += 1\n",
    "            return basehash(obj) % self.size\n",
    "        else:\n",
    "            d[obj] = count\n",
    "            return count\n",
    "\n",
    "def hashcoords(coordinates, m, readonly=False):\n",
    "    if isinstance(m, IHT):\n",
    "        return m.getindex(tuple(coordinates), readonly)\n",
    "    if isinstance(m, int):\n",
    "        return basehash(tuple(coordinates)) % m\n",
    "    if m is None:\n",
    "        return coordinates\n",
    "\n",
    "\n",
    "def tiles (ihtORsize, numtilings, floats, ints=[], readonly=False):\n",
    "    \"\"\"returns num-tilings tile indices corresponding to the floats and ints\"\"\"\n",
    "    qfloats = [math.floor(f*numtilings) for f in floats]\n",
    "    Tiles = []\n",
    "    for tiling in range(numtilings):\n",
    "        tilingX2 = tiling*2\n",
    "        coords = [tiling]\n",
    "        b = tiling\n",
    "        for q in qfloats:\n",
    "            coords.append( (q + b) // numtilings )\n",
    "            b += tilingX2\n",
    "        coords.extend(ints)\n",
    "        Tiles.append(hashcoords(coords, ihtORsize, readonly))\n",
    "    return Tiles\n",
    "\n",
    "def tileswrap (ihtORsize, numtilings, floats, wrapwidths, ints=[], readonly=False):\n",
    "    \"\"\"returns num-tilings tile indices corresponding to the floats and ints, wrapping some floats\"\"\"\n",
    "    qfloats = [math.floor(f*numtilings) for f in floats]\n",
    "    Tiles = []\n",
    "    for tiling in range(numtilings):\n",
    "        tilingX2 = tiling*2\n",
    "        coords = [tiling]\n",
    "        b = tiling\n",
    "        for q, width in itertools.zip_longest(qfloats, wrapwidths):\n",
    "            c = (q + b%numtilings) // numtilings\n",
    "            coords.append(c%width if width else c)\n",
    "            b += tilingX2\n",
    "        coords.extend(ints)\n",
    "        Tiles.append(hashcoords(coords, ihtORsize, readonly))\n",
    "    return Tiles\n",
    "\n"
   ]
  },
  {
   "cell_type": "code",
   "execution_count": 6,
   "id": "bb4b462b-7268-4386-93ab-a66b97a7f19d",
   "metadata": {},
   "outputs": [],
   "source": [
    "def pow2geq(lb):\n",
    "    exp = 1\n",
    "    while True:\n",
    "        rs = np.power(2, exp)\n",
    "        if rs >= lb:\n",
    "            break\n",
    "        exp += 1\n",
    "    return rs"
   ]
  },
  {
   "cell_type": "code",
   "execution_count": 7,
   "id": "8ac3c0c3-7c24-45bb-84b7-c33a282af342",
   "metadata": {},
   "outputs": [],
   "source": [
    "class Tiles:\n",
    "    def __init__(\n",
    "        self, dims_min: np.ndarray, dims_max: np.ndarray, \n",
    "        tiling_dim: int, num_tilings: Optional[int] = None\n",
    "    ):\n",
    "        assert isinstance(dims_min, np.ndarray)\n",
    "        assert isinstance(dims_max, np.ndarray)\n",
    "        self.dims_max = dims_max\n",
    "        self.dims_min = dims_min\n",
    "        self.tiling_dim = tiling_dim\n",
    "        self.wrapwidths = [tiling_dim] * np.size(dims_min)\n",
    "    \n",
    "        # num tilings should a power of 2\n",
    "        # and at least 4 times greater than\n",
    "        # the number of dimensions\n",
    "        self.num_tilings = num_tilings or pow2geq(np.size(dims_min) * 4)\n",
    "        self.max_size = (tiling_dim ** np.size(dims_min)) * self.num_tilings\n",
    "        print(\"Num tilings\", self.num_tilings, \"\\n\", \"Flat dim:\", self.max_size)\n",
    "        self.iht = IHT(self.max_size)\n",
    "\n",
    "    def __call__(self, xs):\n",
    "        xs_scaled_01 = (xs - self.dims_min) / (self.dims_max - self.dims_min)\n",
    "        repr = np.zeros(shape=self.max_size)\n",
    "        idx = tileswrap(\n",
    "            self.iht, \n",
    "            self.num_tilings, \n",
    "            xs_scaled_01 * self.tiling_dim,\n",
    "            self.wrapwidths\n",
    "        )\n",
    "        repr[idx] = 1\n",
    "        return repr    "
   ]
  },
  {
   "cell_type": "code",
   "execution_count": 8,
   "id": "89e9b2e4-1ef5-45ee-ae06-869452940499",
   "metadata": {},
   "outputs": [],
   "source": [
    "def delay_reward_data(buffer, delay: int, sample_size: int):\n",
    "    action = np.stack([example[1] for example in buffer])\n",
    "    reward = np.stack([example[3] for example in buffer])\n",
    "    states = np.concatenate([\n",
    "        np.stack([example[0] for example in buffer]), \n",
    "        np.stack([example[2] for example in buffer])], axis=1)\n",
    "\n",
    "\n",
    "    # repr: (m1,a1)(m2,a1)..\n",
    "    obs_dim = math.floor(states.shape[1] / 2)\n",
    "    mdim = obs_dim * len(np.unique(action)) + obs_dim\n",
    "    \n",
    "    # build samples\n",
    "    mask = np.random.choice(states.shape[0], (sample_size, delay))\n",
    "    delayed_obs = states[mask]  # batch x delay x dim\n",
    "    delayed_act = action[mask]\n",
    "    delayed_rew = np.sum(reward[mask], axis=1)  # batch x delay -> batch\n",
    "\n",
    "    rhat_matrix = np.zeros(shape=(sample_size, mdim))\n",
    "\n",
    "    # TODO: use pandas to speed this up\n",
    "    for i, (states, action) in enumerate(zip(delayed_obs, delayed_act)):\n",
    "        for j in range(delay):\n",
    "            obs, next_obs = states[j][:obs_dim], states[j][obs_dim:]\n",
    "            c = obs_dim * action[j]\n",
    "            rhat_matrix[i, c : c + obs_dim] += obs\n",
    "            rhat_matrix[i, -obs_dim:] += next_obs\n",
    "\n",
    "    return rhat_matrix, delayed_rew"
   ]
  },
  {
   "cell_type": "code",
   "execution_count": 9,
   "id": "68f3b2ea-8920-4cbf-b60a-dc7282781da8",
   "metadata": {},
   "outputs": [],
   "source": [
    "def proj_obs_to_rwest_vec(buffer, sample_size: int):\n",
    "    action = np.stack([example[1] for example in buffer])\n",
    "    reward = np.stack([example[3] for example in buffer])\n",
    "    states = np.concatenate([\n",
    "        np.stack([example[0] for example in buffer]), \n",
    "        np.stack([example[2] for example in buffer])], axis=1)\n",
    "\n",
    "    # repr: (m1,a1)(m2,a1)..\n",
    "    obs_dim = math.floor(states.shape[1] / 2)\n",
    "    mdim = obs_dim * len(np.unique(action)) + obs_dim\n",
    "    \n",
    "\n",
    "    # build samples\n",
    "    mask = np.random.choice(states.shape[0], sample_size)\n",
    "    delayed_obs = states[mask]  # batch x dim\n",
    "    delayed_act = action[mask]\n",
    "    delayed_rew = reward[mask]  # batch x delay -> batch\n",
    "\n",
    "    rhat_matrix = np.zeros(shape=(len(delayed_obs), mdim))\n",
    "\n",
    "    # TODO: use pandas to speed this up\n",
    "    for i, (states, action) in enumerate(zip(delayed_obs, delayed_act)):\n",
    "        obs, next_obs = states[:obs_dim], states[obs_dim:]\n",
    "        c = obs_dim * action\n",
    "        rhat_matrix[i, c : c + obs_dim] += obs\n",
    "        rhat_matrix[i, -obs_dim:] += next_obs\n",
    "\n",
    "    return rhat_matrix, delayed_rew"
   ]
  },
  {
   "cell_type": "markdown",
   "id": "534e7bc1-8ff4-48a1-ad46-a596bf3d9a82",
   "metadata": {},
   "source": [
    "## Reward Estimation"
   ]
  },
  {
   "cell_type": "code",
   "execution_count": 10,
   "id": "afda79b6-d5b8-4d37-b25f-62b6fe11b9fa",
   "metadata": {},
   "outputs": [],
   "source": [
    "def solve_least_squares(matrix: np.ndarray, rhs: np.ndarray) -> np.ndarray:\n",
    "    try:\n",
    "        solution, _, _, _ = np.linalg.lstsq(a=matrix, b=rhs, rcond=None)\n",
    "        return solution  # type: ignore\n",
    "    except np.linalg.LinAlgError as err:\n",
    "        # the computation failed, likely due to the matix being unsuitable (no solution).\n",
    "        raise ValueError(\"Failed to solve linear system\") from err"
   ]
  },
  {
   "cell_type": "code",
   "execution_count": 11,
   "id": "59d6e2d2-d01d-4507-9d37-51d09d9ef9a6",
   "metadata": {},
   "outputs": [],
   "source": [
    "def rmse(v_pred: np.ndarray, v_true: np.ndarray, axis: int):\n",
    "    if np.shape(v_pred) != np.shape(v_true):\n",
    "        raise ValueError(\n",
    "            f\"Tensors have different shapes: {np.shape(v_pred)} != {np.shape(v_true)}\"\n",
    "        )\n",
    "    delta = v_pred - v_true\n",
    "    sq = delta * delta  # np.power(delta, 2)\n",
    "    sqsum = np.sum(sq, axis=axis) / np.shape(v_pred)[axis]\n",
    "    sqsqrt = np.sqrt(sqsum)\n",
    "    return sqsqrt"
   ]
  },
  {
   "cell_type": "code",
   "execution_count": 12,
   "id": "be069c80-71ce-4f52-9aa8-119fd57fe246",
   "metadata": {},
   "outputs": [],
   "source": [
    "def collection_traj_data(env: gym.Env, steps: int):\n",
    "    obs, _ = env.reset()\n",
    "    step = 0\n",
    "    buffer = []\n",
    "    while step < steps:\n",
    "        action = env.action_space.sample()\n",
    "        (\n",
    "            next_obs,\n",
    "            rew,\n",
    "            term,\n",
    "            trunc,\n",
    "            _,\n",
    "        ) = env.step(action)\n",
    "        step += 1\n",
    "        buffer.append((obs, action, next_obs, rew))\n",
    "        obs = next_obs\n",
    "        if term or trunc:\n",
    "            obs, _ = env.reset()\n",
    "    return buffer"
   ]
  },
  {
   "cell_type": "code",
   "execution_count": 13,
   "id": "c02d574b-b801-47c0-bd4b-97a549aebbc1",
   "metadata": {},
   "outputs": [],
   "source": [
    "def solve_rwe(env: gym.Env, num_steps: int, sample_size: int, delay: int):\n",
    "    buffer = collection_traj_data(env, steps=num_steps)\n",
    "    Xd, yd = delay_reward_data(buffer, delay=delay, sample_size=sample_size)\n",
    "    return buffer, solve_least_squares(Xd, yd)"
   ]
  },
  {
   "cell_type": "code",
   "execution_count": 14,
   "id": "fbb51c96-dd50-4120-bba8-5c8b79dbe937",
   "metadata": {},
   "outputs": [],
   "source": [
    "def rwe_scatterplot(v_pred, v_true):\n",
    "    _, ax = plt.subplots(figsize=(6, 6))\n",
    "    df = pd.DataFrame({\n",
    "        \"x\": v_pred,\n",
    "        \"y\": v_true,\n",
    "        \"size\": np.abs(v_pred - v_true)\n",
    "    })\n",
    "    sns.scatterplot(\n",
    "        df, x=\"x\", y=\"y\", size=\"size\", hue=\"size\", s=5, color=\".15\"\n",
    "    )\n",
    "    # sns.histplot(x=v_pred, y=v_true, bins=50, cmap=\"mako\")\n",
    "    # sns.kdeplot(x=v_pred, y=v_true, levels=5, color=\"w\")\n",
    "    ax.set_xlabel(\"yhat\")\n",
    "    ax.set_ylabel(\"ytrue\")\n",
    "    ax.set_title(\"Reward Estimation\")"
   ]
  },
  {
   "cell_type": "code",
   "execution_count": 15,
   "id": "5b71c921-f5eb-45a9-9f90-40541af19038",
   "metadata": {},
   "outputs": [],
   "source": [
    "def hashtrick(xs, dim: int):\n",
    "    ys = np.zeros(dim, dtype=np.int32)\n",
    "    idx,  = np.where(xs == 1)\n",
    "    for i in idx:\n",
    "        ys[i % dim] += 1\n",
    "    return ys"
   ]
  },
  {
   "cell_type": "markdown",
   "id": "88c34679-56cc-4d1d-8472-5c02a3606bd9",
   "metadata": {},
   "source": [
    "## GEM Env"
   ]
  },
  {
   "cell_type": "code",
   "execution_count": 16,
   "id": "350a4f65-5247-4dfe-a0e6-1efc505573df",
   "metadata": {},
   "outputs": [],
   "source": [
    "class StrictWeightedSumOfErrors(reward_functions.WeightedSumOfErrors):\n",
    "    def __init__(\n",
    "        self, reward_weights=None, normed_reward_weights=False, violation_reward=None\n",
    "    ):\n",
    "        super().__init__(\n",
    "            reward_weights,\n",
    "            normed_reward_weights,\n",
    "            violation_reward,\n",
    "            gamma=1.0,\n",
    "            reward_power=1,\n",
    "            bias=0,\n",
    "        )\n",
    "\n",
    "    def reward(self, state, reference, k=None, action=None, violation_degree=0.0):\n",
    "        del k\n",
    "        del action\n",
    "        return (\n",
    "            self._wse_reward(state, reference)\n",
    "            + violation_degree * self._violation_reward\n",
    "        )\n"
   ]
  },
  {
   "cell_type": "code",
   "execution_count": 17,
   "id": "93ee7601-a513-438b-9809-fead4183853f",
   "metadata": {},
   "outputs": [],
   "source": [
    "class GEMObsPreproc(gym.ObservationWrapper):\n",
    "    def __init__(self, env):\n",
    "        super().__init__(env)\n",
    "        self._mask = getattr(env.reference_generator, \"referenced_states\")\n",
    "        state_obs_space, ref_state_obs_space = env.observation_space\n",
    "\n",
    "        self._weights = getattr(env.reward_function, \"_reward_weights\")[self._mask]\n",
    "        self._expo = getattr(env.reward_function, \"_n\")[self._mask]\n",
    "        self._bias = getattr(env.reward_function, \"_bias\")\n",
    "        self._denom = (state_obs_space.high - state_obs_space.low)[self._mask]\n",
    "        self._prev_ref_state = None  # np.zeros_like(state_obs_space.high[self._mask])\n",
    "\n",
    "        bounds = [\n",
    "            np.abs(state_obs_space.high[self._mask] - ref_state_obs_space.low),\n",
    "            np.abs(state_obs_space.high[self._mask] - ref_state_obs_space.high),\n",
    "            np.abs(state_obs_space.low[self._mask] - ref_state_obs_space.high),\n",
    "            np.abs(state_obs_space.low[self._mask] - ref_state_obs_space.low),\n",
    "        ]\n",
    "        obs_space_low = np.concatenate(\n",
    "            [\n",
    "                np.zeros_like(state_obs_space.low[self._mask]) + self._bias,\n",
    "                # constraint violation\n",
    "                np.array([0.0]),\n",
    "            ]\n",
    "        )\n",
    "        obs_space_high = np.concatenate(\n",
    "            [\n",
    "                (functools.reduce(np.maximum, bounds) / self._denom) ** self._expo  + self._bias,\n",
    "                # constraint violation\n",
    "                np.array([1.0]),\n",
    "            ]\n",
    "        )\n",
    "        self.observation_space = gym.spaces.Box(\n",
    "            low=obs_space_low, high=obs_space_high, dtype=state_obs_space.dtype\n",
    "        )\n",
    "        self._cvfn = getattr(self.env.constraint_monitor, \"check_constraints\")\n",
    "\n",
    "    def observation(self, observation):\n",
    "        prev_ref_state = copy.copy(self._prev_ref_state)\n",
    "        next_state, ref_state = observation\n",
    "        cv = self._cvfn(next_state)\n",
    "        next_state = next_state[self._mask]\n",
    "\n",
    "        if prev_ref_state is None:\n",
    "            prev_ref_state = ref_state\n",
    "\n",
    "        wrapped_next_state = np.concatenate(\n",
    "            [\n",
    "                (abs(next_state - prev_ref_state) / self._denom) ** self._expo\n",
    "                + self._bias,\n",
    "                np.array([cv]),\n",
    "            ]\n",
    "        )\n",
    "        self._prev_ref_state = ref_state\n",
    "        return wrapped_next_state"
   ]
  },
  {
   "cell_type": "code",
   "execution_count": 18,
   "id": "1d09690a-2c59-4113-a664-0b3d2cb6379c",
   "metadata": {},
   "outputs": [],
   "source": [
    "NUM_STEPS = 250_000\n",
    "SAMPLE_SIZE = 100_000"
   ]
  },
  {
   "cell_type": "markdown",
   "id": "882bd68f-f137-4d18-aed2-ad1c230fdca9",
   "metadata": {},
   "source": [
    "### Raw"
   ]
  },
  {
   "cell_type": "code",
   "execution_count": 19,
   "id": "fc0522d6-05f8-4187-8d8d-b2c5425abd53",
   "metadata": {},
   "outputs": [
    {
     "name": "stdout",
     "output_type": "stream",
     "text": [
      "Error - Mean: 4.2701978757513326e-16 Max: 4.554524705954205e-16 Min: 4.097853125224525e-16\n",
      "CPU times: user 1min 28s, sys: 3.78 s, total: 1min 32s\n",
      "Wall time: 1min 28s\n"
     ]
    },
    {
     "data": {
      "image/png": "[encoded data removed]",
      "text/plain": [
       "<Figure size 600x600 with 1 Axes>"
      ]
     },
     "metadata": {},
     "output_type": "display_data"
    }
   ],
   "source": [
    "%%time\n",
    "rf = StrictWeightedSumOfErrors(\n",
    "    violation_reward=-10,\n",
    ")\n",
    "\n",
    "ge_env = GEMObsPreproc(gem.make(\"Finite-CC-PMSM-v0\", reward_function=rf))\n",
    "\n",
    "ge_buffer, ge_sol = solve_rwe(\n",
    "    ge_env,\n",
    "    num_steps=NUM_STEPS,\n",
    "    sample_size=SAMPLE_SIZE,\n",
    "    delay=2,\n",
    ")\n",
    "\n",
    "errors = []\n",
    "vpred = []\n",
    "vtrue = []\n",
    "for _ in range(10):\n",
    "    ge_eval_X, ge_eval_y = proj_obs_to_rwest_vec(ge_buffer, sample_size=10_000)\n",
    "    rew_yhat = np.matmul(ge_eval_X, ge_sol)\n",
    "    vpred.extend(rew_yhat.tolist())\n",
    "    vtrue.extend(ge_eval_y.tolist())\n",
    "    error = rmse(\n",
    "        v_pred=rew_yhat, \n",
    "        v_true=ge_eval_y,\n",
    "        axis=0\n",
    "    )\n",
    "    errors.append(error)\n",
    "\n",
    "print(\"Error -\", \"Mean:\", np.mean(errors), \"Max:\", np.max(errors), \"Min:\", np.min(errors))\n",
    "rwe_scatterplot(\n",
    "    v_pred=np.array(vpred), \n",
    "    v_true=np.array(vtrue)\n",
    ")\n",
    "df_raw = pd.DataFrame({\"vpred\": vpred, \"vtrue\": vtrue, \"method\": \"raw\"})"
   ]
  },
  {
   "cell_type": "markdown",
   "id": "6e07433e-d62e-4d63-8588-2c5d55cefa1e",
   "metadata": {},
   "source": [
    "### Scaled"
   ]
  },
  {
   "cell_type": "code",
   "execution_count": 20,
   "id": "b5fa1273-9549-49bc-a9ab-fbef46826763",
   "metadata": {},
   "outputs": [],
   "source": [
    "class GEMScaleObsWrapper(gym.ObservationWrapper):\n",
    "    def __init__(self, env, hash_dim: Optional[int] = None):\n",
    "        super().__init__(env)\n",
    "        self.hash_dim = hash_dim\n",
    "        \n",
    "        self.obs_space = env.observation_space\n",
    "        self.num_actions = env.action_space.n\n",
    "        self.hash_dim = hash_dim\n",
    "        self.obs_dim = np.size(self.obs_space.high)\n",
    "\n",
    "    def observation(self, obs: Any):\n",
    "        obs_scaled_01 = (obs - self.obs_space.low) / (self.obs_space.high - self.obs_space.low)\n",
    "        return obs_scaled_01"
   ]
  },
  {
   "cell_type": "code",
   "execution_count": 21,
   "id": "a4ecc64b-07c6-4825-8047-f6167246ca76",
   "metadata": {},
   "outputs": [
    {
     "name": "stdout",
     "output_type": "stream",
     "text": [
      "Error - Mean: 4.3705123849157454e-16 Max: 4.449461797375982e-16 Min: 4.29555731553509e-16\n",
      "CPU times: user 1min 34s, sys: 2.18 s, total: 1min 37s\n",
      "Wall time: 1min 35s\n"
     ]
    },
    {
     "data": {
      "image/png": "[encoded data removed]",
      "text/plain": [
       "<Figure size 600x600 with 1 Axes>"
      ]
     },
     "metadata": {},
     "output_type": "display_data"
    }
   ],
   "source": [
    "%%time\n",
    "rf = StrictWeightedSumOfErrors(\n",
    "    violation_reward=-10,\n",
    ")\n",
    "\n",
    "ge_env = GEMScaleObsWrapper(\n",
    "    GEMObsPreproc(gem.make(\"Finite-CC-PMSM-v0\", reward_function=rf))\n",
    ")\n",
    "\n",
    "ge_buffer, ge_sol = solve_rwe(\n",
    "    ge_env,\n",
    "    num_steps=NUM_STEPS,\n",
    "    sample_size=SAMPLE_SIZE,\n",
    "    delay=2,\n",
    ")\n",
    "\n",
    "errors = []\n",
    "vpred = []\n",
    "vtrue = []\n",
    "for _ in range(10):\n",
    "    ge_eval_X, ge_eval_y = proj_obs_to_rwest_vec(ge_buffer, sample_size=10_000)\n",
    "    rew_yhat = np.matmul(ge_eval_X, ge_sol)\n",
    "    vpred.extend(rew_yhat.tolist())\n",
    "    vtrue.extend(ge_eval_y.tolist())\n",
    "    error = rmse(\n",
    "        v_pred=rew_yhat, \n",
    "        v_true=ge_eval_y,\n",
    "        axis=0\n",
    "    )\n",
    "    errors.append(error)\n",
    "\n",
    "print(\"Error -\", \"Mean:\", np.mean(errors), \"Max:\", np.max(errors), \"Min:\", np.min(errors))\n",
    "rwe_scatterplot(\n",
    "    v_pred=np.array(vpred), \n",
    "    v_true=np.array(vtrue)\n",
    ")\n",
    "df_scaled = pd.DataFrame({\"vpred\": vpred, \"vtrue\": vtrue, \"method\": \"scaled\"})"
   ]
  },
  {
   "cell_type": "markdown",
   "id": "09629f90-4787-4b52-91c5-3187c8a4dff1",
   "metadata": {},
   "source": [
    "### Gaussian"
   ]
  },
  {
   "cell_type": "code",
   "execution_count": 22,
   "id": "a8cef3c6-98e5-4253-83f3-987d17890990",
   "metadata": {},
   "outputs": [],
   "source": [
    "class GEMGaussianMixObsWrapper(gym.ObservationWrapper):\n",
    "    def __init__(self, env, param_grid, steps: int):\n",
    "        super().__init__(env)\n",
    "        buffer = collection_traj_data(env, steps=steps)\n",
    "        self.grid_search = self.gm_proj(buffer, param_grid)\n",
    "        self.estimator = self.grid_search.best_estimator_\n",
    "        print(\"Best estimator:\", self.grid_search.best_estimator_)\n",
    "        self.obs_dim = self.grid_search.best_estimator_.n_components + 1\n",
    "        \n",
    "        self.observation_space = gym.spaces.Box(\n",
    "            low=np.zeros(shape=self.obs_dim, dtype=np.float32), \n",
    "            high=np.ones(shape=self.obs_dim, dtype=np.float32)\n",
    "        )\n",
    "    \n",
    "    def gm_proj(self, buffer, param_grid):\n",
    "        # exclude last state component\n",
    "        obs = np.stack([example[2][:-1] for example in buffer])\n",
    "        grid_search = model_selection.GridSearchCV(\n",
    "            mixture.GaussianMixture(), param_grid=param_grid, scoring=self.gmm_bic_score\n",
    "        )\n",
    "        return grid_search.fit(obs)    \n",
    "\n",
    "    def gmm_bic_score(self, estimator, X):\n",
    "        \"\"\"Callable to pass to GridSearchCV that will use the BIC score.\"\"\"\n",
    "        # Make it negative since GridSearchCV expects a score to maximize\n",
    "        return -estimator.bic(X)    \n",
    "\n",
    "    def observation(self, obs):\n",
    "        # Apply to first N dimensions\n",
    "        xs = self.estimator.predict_proba(np.array([obs[:-1]]))\n",
    "        return np.concatenate([xs[0], np.array([obs[-1]])])"
   ]
  },
  {
   "cell_type": "code",
   "execution_count": 23,
   "id": "3ec67b26-74d5-4454-bcbc-9b63bd9f7b26",
   "metadata": {},
   "outputs": [
    {
     "name": "stdout",
     "output_type": "stream",
     "text": [
      "Best estimator: GaussianMixture(covariance_type='diag', n_components=9)\n",
      "Error - Mean: 0.021615012662552155 Max: 0.021867532941056 Min: 0.02122755745421452\n",
      "CPU times: user 15min 46s, sys: 6min 39s, total: 22min 25s\n",
      "Wall time: 9min 16s\n"
     ]
    },
    {
     "data": {
      "image/png": "[encoded data removed]",
      "text/plain": [
       "<Figure size 600x600 with 1 Axes>"
      ]
     },
     "metadata": {},
     "output_type": "display_data"
    }
   ],
   "source": [
    "%%time\n",
    "rf = StrictWeightedSumOfErrors(\n",
    "    violation_reward=-10,\n",
    ")\n",
    "param_grid = {\n",
    "    \"n_components\": range(4, 12),\n",
    "    \"covariance_type\": [\"spherical\", \"tied\", \"diag\", \"full\"],\n",
    "}\n",
    "\n",
    "ge_env = GEMGaussianMixObsWrapper(\n",
    "    GEMObsPreproc(gem.make(\"Finite-CC-PMSM-v0\", reward_function=rf)), \n",
    "    param_grid=param_grid, \n",
    "    steps=100_000,\n",
    ")\n",
    "\n",
    "ge_buffer, ge_sol = solve_rwe(\n",
    "    ge_env,\n",
    "    num_steps=NUM_STEPS,\n",
    "    sample_size=SAMPLE_SIZE,\n",
    "    delay=2,\n",
    ")\n",
    "\n",
    "errors = []\n",
    "vpred = []\n",
    "vtrue = []\n",
    "for _ in range(10):\n",
    "    ge_eval_X, ge_eval_y = proj_obs_to_rwest_vec(ge_buffer, sample_size=10_000)\n",
    "    rew_yhat = np.matmul(ge_eval_X, ge_sol)\n",
    "    vpred.extend(rew_yhat.tolist())\n",
    "    vtrue.extend(ge_eval_y.tolist())\n",
    "    error = rmse(\n",
    "        v_pred=rew_yhat, \n",
    "        v_true=ge_eval_y,\n",
    "        axis=0\n",
    "    )\n",
    "    errors.append(error)\n",
    "\n",
    "print(\"Error -\", \"Mean:\", np.mean(errors), \"Max:\", np.max(errors), \"Min:\", np.min(errors))\n",
    "rwe_scatterplot(\n",
    "    v_pred=np.array(vpred), \n",
    "    v_true=np.array(vtrue)\n",
    ")\n",
    "df_gm = pd.DataFrame({\"vpred\": vpred, \"vtrue\": vtrue, \"method\": \"gm\"})"
   ]
  },
  {
   "cell_type": "markdown",
   "id": "f505eaa7-f49b-4bd6-b4ef-bc7d992abb0b",
   "metadata": {},
   "source": [
    "A disdvantage of Gaussian Mixture as a projection approach is that it requires prior data to fit an estimator.\n",
    "In the case of reward estimation, this same data can be used to first an estimator and then to estimate the rewards using the projected states (not what's happening above).\n",
    "However, for value function approximation, this would have an extra step before value function estimation."
   ]
  },
  {
   "cell_type": "markdown",
   "id": "fbf3e094-525a-4963-a6d2-544ff3818bfe",
   "metadata": {},
   "source": [
    "### Tiling"
   ]
  },
  {
   "cell_type": "code",
   "execution_count": 24,
   "id": "2969fb6d-70cc-4fb1-b36a-654db70ef02d",
   "metadata": {},
   "outputs": [],
   "source": [
    "class GEMTileObsWrapper(gym.ObservationWrapper):\n",
    "    def __init__(self, env, tiling_dim: int, num_tilings: int = None, hash_dim: Optional[int] = None):\n",
    "        super().__init__(env)\n",
    "        self.hash_dim = hash_dim\n",
    "        self.tiles = Tiles(\n",
    "                dims_min=env.observation_space.low[:-1],\n",
    "                dims_max=env.observation_space.high[:-1],\n",
    "                tiling_dim=tiling_dim,\n",
    "                num_tilings=num_tilings\n",
    "            )\n",
    "        self.observation_space = gym.spaces.Box(\n",
    "            low=np.zeros(shape=self.hash_dim or self.tiles.max_size+1, dtype=np.float64), \n",
    "            high=np.ones(shape=self.hash_dim or self.tiles.max_size+1, dtype=np.float64)\n",
    "        )\n",
    "\n",
    "    def observation(self, obs):\n",
    "        # Apply to first N dimensions\n",
    "        xs = self.tiles(obs[:-1])\n",
    "        if self.hash_dim:\n",
    "            xs = hashtrick(xs, dim=self.hash_dim-1)\n",
    "        return np.concatenate([xs, np.array([obs[-1]])])"
   ]
  },
  {
   "cell_type": "code",
   "execution_count": 25,
   "id": "91d332a6-be70-4bbb-a10d-a7ef1fa93ab9",
   "metadata": {
    "scrolled": true
   },
   "outputs": [
    {
     "name": "stdout",
     "output_type": "stream",
     "text": [
      "Num tilings 8 \n",
      " Flat dim: 512\n"
     ]
    },
    {
     "name": "stderr",
     "output_type": "stream",
     "text": [
      "/home/guilherme/code/research-phd/drmdp-fnapprox/.venv/lib/python3.11/site-packages/gymnasium/spaces/box.py:235: UserWarning: \u001b[33mWARN: Box low's precision lowered by casting to float32, current low.dtype=float64\u001b[0m\n",
      "  gym.logger.warn(\n",
      "/home/guilherme/code/research-phd/drmdp-fnapprox/.venv/lib/python3.11/site-packages/gymnasium/spaces/box.py:305: UserWarning: \u001b[33mWARN: Box high's precision lowered by casting to float32, current high.dtype=float64\u001b[0m\n",
      "  gym.logger.warn(\n"
     ]
    },
    {
     "name": "stdout",
     "output_type": "stream",
     "text": [
      "Error - Mean: 0.00620451058642861 Max: 0.006686309321483603 Min: 0.00551592958488409\n",
      "CPU times: user 12min 21s, sys: 1min 22s, total: 13min 43s\n",
      "Wall time: 5min 49s\n"
     ]
    },
    {
     "data": {
      "image/png": "[encoded data removed]",
      "text/plain": [
       "<Figure size 600x600 with 1 Axes>"
      ]
     },
     "metadata": {},
     "output_type": "display_data"
    }
   ],
   "source": [
    "%%time\n",
    "rf = StrictWeightedSumOfErrors(\n",
    "    violation_reward=-10,\n",
    ")\n",
    "\n",
    "ge_env = GEMTileObsWrapper(\n",
    "    GEMObsPreproc(gem.make(\"Finite-CC-PMSM-v0\", reward_function=rf)),\n",
    "    tiling_dim=8,\n",
    ")\n",
    "\n",
    "\n",
    "ge_buffer, ge_sol = solve_rwe(\n",
    "    ge_env,\n",
    "    num_steps=NUM_STEPS,\n",
    "    sample_size=SAMPLE_SIZE,\n",
    "    delay=2,\n",
    ")\n",
    "\n",
    "errors = []\n",
    "vpred = []\n",
    "vtrue = []\n",
    "for _ in range(10):\n",
    "    ge_eval_X, ge_eval_y = proj_obs_to_rwest_vec(ge_buffer, sample_size=10_000)\n",
    "    rew_yhat = np.matmul(ge_eval_X, ge_sol)\n",
    "    vpred.extend(rew_yhat.tolist())\n",
    "    vtrue.extend(ge_eval_y.tolist())\n",
    "    error = rmse(\n",
    "        v_pred=rew_yhat, \n",
    "        v_true=ge_eval_y,\n",
    "        axis=0\n",
    "    )\n",
    "    errors.append(error)\n",
    "\n",
    "print(\"Error -\", \"Mean:\", np.mean(errors), \"Max:\", np.max(errors), \"Min:\", np.min(errors))\n",
    "rwe_scatterplot(\n",
    "    v_pred=np.array(vpred), \n",
    "    v_true=np.array(vtrue)\n",
    ")\n",
    "df_tiles = pd.DataFrame({\"vpred\": vpred, \"vtrue\": vtrue, \"method\": \"tiles\"})"
   ]
  },
  {
   "cell_type": "markdown",
   "id": "d3702dfd-e7bd-4ef4-ac73-cdd236ba7036",
   "metadata": {},
   "source": [
    "## Conclusions"
   ]
  },
  {
   "cell_type": "markdown",
   "id": "48367c53-8c48-47af-a73b-8d1e5935cca9",
   "metadata": {},
   "source": [
    "### Results Overview"
   ]
  },
  {
   "cell_type": "code",
   "execution_count": 26,
   "id": "5cbfe809-3524-46ee-8ae2-ea0a34225e11",
   "metadata": {},
   "outputs": [],
   "source": [
    "df_results = pd.concat([\n",
    "    df_raw,\n",
    "    df_scaled,\n",
    "    df_gm,\n",
    "    df_tiles\n",
    "])\n",
    "df_results[\"delta\"] = df_results[\"vtrue\"] - df_results[\"vpred\"]"
   ]
  },
  {
   "cell_type": "code",
   "execution_count": 27,
   "id": "f30f87f4-5806-4354-aeae-9b6158d7d441",
   "metadata": {},
   "outputs": [
    {
     "data": {
      "text/html": [
       "<div>\n",
       "<style scoped>\n",
       "    .dataframe tbody tr th:only-of-type {\n",
       "        vertical-align: middle;\n",
       "    }\n",
       "\n",
       "    .dataframe tbody tr th {\n",
       "        vertical-align: top;\n",
       "    }\n",
       "\n",
       "    .dataframe thead th {\n",
       "        text-align: right;\n",
       "    }\n",
       "</style>\n",
       "<table border=\"1\" class=\"dataframe\">\n",
       "  <thead>\n",
       "    <tr style=\"text-align: right;\">\n",
       "      <th></th>\n",
       "      <th>vpred</th>\n",
       "      <th>vtrue</th>\n",
       "      <th>method</th>\n",
       "      <th>delta</th>\n",
       "    </tr>\n",
       "  </thead>\n",
       "  <tbody>\n",
       "    <tr>\n",
       "      <th>0</th>\n",
       "      <td>-0.197349</td>\n",
       "      <td>-0.197349</td>\n",
       "      <td>raw</td>\n",
       "      <td>-1.110223e-16</td>\n",
       "    </tr>\n",
       "    <tr>\n",
       "      <th>1</th>\n",
       "      <td>-0.227920</td>\n",
       "      <td>-0.227920</td>\n",
       "      <td>raw</td>\n",
       "      <td>-5.273559e-16</td>\n",
       "    </tr>\n",
       "    <tr>\n",
       "      <th>2</th>\n",
       "      <td>-0.217862</td>\n",
       "      <td>-0.217862</td>\n",
       "      <td>raw</td>\n",
       "      <td>-8.326673e-16</td>\n",
       "    </tr>\n",
       "    <tr>\n",
       "      <th>3</th>\n",
       "      <td>-0.162270</td>\n",
       "      <td>-0.162270</td>\n",
       "      <td>raw</td>\n",
       "      <td>2.775558e-17</td>\n",
       "    </tr>\n",
       "    <tr>\n",
       "      <th>4</th>\n",
       "      <td>-0.313756</td>\n",
       "      <td>-0.313756</td>\n",
       "      <td>raw</td>\n",
       "      <td>-1.221245e-15</td>\n",
       "    </tr>\n",
       "    <tr>\n",
       "      <th>...</th>\n",
       "      <td>...</td>\n",
       "      <td>...</td>\n",
       "      <td>...</td>\n",
       "      <td>...</td>\n",
       "    </tr>\n",
       "    <tr>\n",
       "      <th>99995</th>\n",
       "      <td>-0.289909</td>\n",
       "      <td>-0.289953</td>\n",
       "      <td>tiles</td>\n",
       "      <td>-4.388048e-05</td>\n",
       "    </tr>\n",
       "    <tr>\n",
       "      <th>99996</th>\n",
       "      <td>-0.192257</td>\n",
       "      <td>-0.194320</td>\n",
       "      <td>tiles</td>\n",
       "      <td>-2.063031e-03</td>\n",
       "    </tr>\n",
       "    <tr>\n",
       "      <th>99997</th>\n",
       "      <td>-0.131772</td>\n",
       "      <td>-0.130155</td>\n",
       "      <td>tiles</td>\n",
       "      <td>1.616504e-03</td>\n",
       "    </tr>\n",
       "    <tr>\n",
       "      <th>99998</th>\n",
       "      <td>-0.236219</td>\n",
       "      <td>-0.239314</td>\n",
       "      <td>tiles</td>\n",
       "      <td>-3.095871e-03</td>\n",
       "    </tr>\n",
       "    <tr>\n",
       "      <th>99999</th>\n",
       "      <td>-0.220618</td>\n",
       "      <td>-0.221310</td>\n",
       "      <td>tiles</td>\n",
       "      <td>-6.914329e-04</td>\n",
       "    </tr>\n",
       "  </tbody>\n",
       "</table>\n",
       "<p>400000 rows × 4 columns</p>\n",
       "</div>"
      ],
      "text/plain": [
       "          vpred     vtrue method         delta\n",
       "0     -0.197349 -0.197349    raw -1.110223e-16\n",
       "1     -0.227920 -0.227920    raw -5.273559e-16\n",
       "2     -0.217862 -0.217862    raw -8.326673e-16\n",
       "3     -0.162270 -0.162270    raw  2.775558e-17\n",
       "4     -0.313756 -0.313756    raw -1.221245e-15\n",
       "...         ...       ...    ...           ...\n",
       "99995 -0.289909 -0.289953  tiles -4.388048e-05\n",
       "99996 -0.192257 -0.194320  tiles -2.063031e-03\n",
       "99997 -0.131772 -0.130155  tiles  1.616504e-03\n",
       "99998 -0.236219 -0.239314  tiles -3.095871e-03\n",
       "99999 -0.220618 -0.221310  tiles -6.914329e-04\n",
       "\n",
       "[400000 rows x 4 columns]"
      ]
     },
     "execution_count": 27,
     "metadata": {},
     "output_type": "execute_result"
    }
   ],
   "source": [
    "df_results"
   ]
  },
  {
   "cell_type": "code",
   "execution_count": 28,
   "id": "146018cb-da54-4e0d-9a03-0b6402e62980",
   "metadata": {},
   "outputs": [
    {
     "name": "stderr",
     "output_type": "stream",
     "text": [
      "/home/guilherme/code/research-phd/drmdp-fnapprox/.venv/lib/python3.11/site-packages/seaborn/_base.py:949: FutureWarning: When grouping with a length-1 list-like, you will need to pass a length-1 tuple to get_group in a future version of pandas. Pass `(name,)` instead of `name` to silence this warning.\n",
      "  data_subset = grouped_data.get_group(pd_key)\n",
      "/home/guilherme/code/research-phd/drmdp-fnapprox/.venv/lib/python3.11/site-packages/seaborn/_base.py:949: FutureWarning: When grouping with a length-1 list-like, you will need to pass a length-1 tuple to get_group in a future version of pandas. Pass `(name,)` instead of `name` to silence this warning.\n",
      "  data_subset = grouped_data.get_group(pd_key)\n",
      "/home/guilherme/code/research-phd/drmdp-fnapprox/.venv/lib/python3.11/site-packages/seaborn/_base.py:949: FutureWarning: When grouping with a length-1 list-like, you will need to pass a length-1 tuple to get_group in a future version of pandas. Pass `(name,)` instead of `name` to silence this warning.\n",
      "  data_subset = grouped_data.get_group(pd_key)\n",
      "/home/guilherme/code/research-phd/drmdp-fnapprox/.venv/lib/python3.11/site-packages/seaborn/_base.py:949: FutureWarning: When grouping with a length-1 list-like, you will need to pass a length-1 tuple to get_group in a future version of pandas. Pass `(name,)` instead of `name` to silence this warning.\n",
      "  data_subset = grouped_data.get_group(pd_key)\n",
      "/home/guilherme/code/research-phd/drmdp-fnapprox/.venv/lib/python3.11/site-packages/seaborn/_base.py:949: FutureWarning: When grouping with a length-1 list-like, you will need to pass a length-1 tuple to get_group in a future version of pandas. Pass `(name,)` instead of `name` to silence this warning.\n",
      "  data_subset = grouped_data.get_group(pd_key)\n"
     ]
    },
    {
     "data": {
      "image/png": "[encoded data removed]",
      "text/plain": [
       "<Figure size 640x480 with 1 Axes>"
      ]
     },
     "metadata": {},
     "output_type": "display_data"
    }
   ],
   "source": [
    "ax = sns.histplot(data=df_results, x=\"delta\", hue=\"method\", bins=50, log_scale=True)\n",
    "_ = ax.set_title(\"$\\delta = (r-\\hat{r})$, Log Scale\")"
   ]
  },
  {
   "cell_type": "markdown",
   "id": "11e4deaa-609a-4158-86c8-60b8e17d8f13",
   "metadata": {},
   "source": [
    "  - Results, by order of performance: raw or scaled > Tiling (dim=8) > Gaussian Mixture\n",
    "  - Raw features and input scaling work equally well on the task of reward estimation"
   ]
  }
 ],
 "metadata": {
  "kernelspec": {
   "display_name": "Python 3 (ipykernel)",
   "language": "python",
   "name": "python3"
  },
  "language_info": {
   "codemirror_mode": {
    "name": "ipython",
    "version": 3
   },
   "file_extension": ".py",
   "mimetype": "text/x-python",
   "name": "python",
   "nbconvert_exporter": "python",
   "pygments_lexer": "ipython3",
   "version": "3.11.11"
  }
 },
 "nbformat": 4,
 "nbformat_minor": 5
}
