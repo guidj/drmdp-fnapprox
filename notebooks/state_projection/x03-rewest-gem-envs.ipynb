{
 "cells": [
  {
   "cell_type": "markdown",
   "id": "77fd02d1-537b-414e-a046-be9dde9dd530",
   "metadata": {},
   "source": [
    "# Estimating Rewards for GEM Environments"
   ]
  },
  {
   "cell_type": "markdown",
   "id": "fa0d1ed2-b21e-4905-9bb9-184d29fd00ba",
   "metadata": {},
   "source": [
    "Our aim is to carry out RL tasks when rewards are delayed (aggregate, and anonymous), using linear function approximation.\n",
    "To solve this problem, we aim to project both large discrete states and continuous states into basis vectors.\n",
    "\n",
    "\n",
    "In this notebook, we explore state representation approaches to estimate rewards for [GEM environments](https://github.com/upb-lea/gym-electric-motor).\n",
    "These environments have continuous states and discrete actions (there are continuous actions options as well, which are outside of scope).\n",
    "\n",
    "The states rewards are a linear function of $(s,s')$. As such, we change the buffer from earlier notebooks from $(s,a,r)$ to $(s,a,s',r)$.\n",
    "\n",
    "The test the following techniques:\n",
    "\n",
    "  - Raw\n",
    "  - Scaled (0 to 1)  \n",
    "  - Gaussian\n",
    "  - Tiling"
   ]
  },
  {
   "cell_type": "code",
   "execution_count": 1,
   "id": "96def89d-da64-421c-9fa7-4e7c383cac5c",
   "metadata": {},
   "outputs": [],
   "source": [
    "import copy\n",
<<<<<<< HEAD
<<<<<<< HEAD
    "import functools\n",
    "import itertools\n",
    "import math\n",
    "from typing import Any, Optional"
=======
    "import itertools\n",
    "import math\n",
    "import functools\n",
    "from typing import Optional, Any"
>>>>>>> 18cdc51 (Add notebok on reward est for GEM environments)
=======
    "import functools\n",
    "import itertools\n",
    "import math\n",
    "from typing import Any, Optional"
>>>>>>> fabfcfb (Fixes formatting)
   ]
  },
  {
   "cell_type": "code",
   "execution_count": 2,
   "id": "294d273e-aa6e-40b5-9cd3-e44c87415250",
   "metadata": {},
   "outputs": [],
   "source": [
<<<<<<< HEAD
<<<<<<< HEAD
    "import gym_electric_motor as gem\n",
    "import gymnasium as gym\n",
    "import numpy as np\n",
    "import pandas as pd\n",
=======
    "import gymnasium as gym\n",
    "import numpy as np\n",
    "import pandas as pd\n",
    "from scipy import linalg\n",
    "import gym_electric_motor as gem\n",
>>>>>>> 18cdc51 (Add notebok on reward est for GEM environments)
=======
    "import gym_electric_motor as gem\n",
    "import gymnasium as gym\n",
    "import numpy as np\n",
    "import pandas as pd\n",
>>>>>>> fabfcfb (Fixes formatting)
    "from gym_electric_motor import reward_functions\n",
    "from sklearn import mixture, model_selection"
   ]
  },
  {
   "cell_type": "code",
   "execution_count": 3,
<<<<<<< HEAD
   "id": "63bc1d62-7fa9-495e-877d-909c4f7fa337",
   "metadata": {},
   "outputs": [],
<<<<<<< HEAD
<<<<<<< HEAD
   "source": []
=======
   "source": [
    "from rlplg.environments import gridworld, redgreen"
   ]
>>>>>>> 18cdc51 (Add notebok on reward est for GEM environments)
=======
   "source": []
>>>>>>> fabfcfb (Fixes formatting)
  },
  {
   "cell_type": "code",
   "execution_count": 4,
=======
>>>>>>> f2b1ad7 (Add WIP notebooks)
   "id": "f40d14be-fe4e-45da-95ed-2ef2504f5abe",
   "metadata": {},
   "outputs": [],
   "source": [
    "import seaborn as sns\n",
    "from matplotlib import pyplot as plt"
   ]
  },
  {
   "cell_type": "markdown",
   "id": "1c7db704-00b1-4cbc-9384-3c343c25365e",
   "metadata": {},
   "source": [
    "## Feature Encoding"
   ]
  },
  {
   "cell_type": "markdown",
   "id": "0bdee5cc-32d1-41f8-a521-e93d72d9d913",
   "metadata": {},
   "source": [
    "### Tiling Utils"
   ]
  },
  {
   "cell_type": "code",
   "execution_count": 4,
   "id": "c8d5c2a4-810f-4e6d-becb-913237eee752",
   "metadata": {},
   "outputs": [],
   "source": [
    "\"\"\"\n",
    "Tile Coding Software version 3.0beta\n",
    "by Rich Sutton\n",
    "based on a program created by Steph Schaeffer and others\n",
    "External documentation and recommendations on the use of this code is available in the \n",
    "reinforcement learning textbook by Sutton and Barto, and on the web.\n",
    "These need to be understood before this code is.\n",
    "\n",
    "This software is for Python 3 or more.\n",
    "\n",
    "This is an implementation of grid-style tile codings, based originally on\n",
    "the UNH CMAC code (see http://www.ece.unh.edu/robots/cmac.htm), but by now highly changed. \n",
    "Here we provide a function, \"tiles\", that maps floating and integer\n",
    "variables to a list of tiles, and a second function \"tiles-wrap\" that does the same while\n",
    "wrapping some floats to provided widths (the lower wrap value is always 0).\n",
    "\n",
    "The float variables will be gridded at unit intervals, so generalization\n",
    "will be by approximately 1 in each direction, and any scaling will have \n",
    "to be done externally before calling tiles.\n",
    "\n",
    "Num-tilings should be a power of 2, e.g., 16. To make the offsetting work properly, it should\n",
    "also be greater than or equal to four times the number of floats.\n",
    "\n",
    "The first argument is either an index hash table of a given size (created by (make-iht size)), \n",
    "an integer \"size\" (range of the indices from 0), or nil (for testing, indicating that the tile \n",
    "coordinates are to be returned without being converted to indices).\n",
    "\"\"\"\n",
    "\n",
    "basehash = hash\n",
    "\n",
    "class IHT:\n",
    "    \"Structure to handle collisions\"\n",
    "    def __init__(self, sizeval):\n",
    "        self.size = sizeval                        \n",
    "        self.overfullCount = 0\n",
    "        self.dictionary = {}\n",
    "\n",
    "    def __str__(self):\n",
    "        \"Prepares a string for printing whenever this object is printed\"\n",
    "        return \"Collision table:\" + \\\n",
    "               \" size:\" + str(self.size) + \\\n",
    "               \" overfullCount:\" + str(self.overfullCount) + \\\n",
    "               \" dictionary:\" + str(len(self.dictionary)) + \" items\"\n",
    "\n",
    "    def count(self):\n",
    "        return len(self.dictionary)\n",
    "    \n",
    "    def fullp(self):\n",
    "        return len(self.dictionary) >= self.size\n",
    "    \n",
    "    def getindex(self, obj, readonly=False):\n",
    "        d = self.dictionary\n",
    "        if obj in d:\n",
    "            return d[obj]\n",
    "        elif readonly:\n",
    "            return None\n",
    "        size = self.size\n",
    "        count = self.count()\n",
    "        if count >= size:\n",
    "            # TODO: Fail\n",
    "            if self.overfullCount==0: \n",
    "                print('IHT full, starting to allow collisions')\n",
    "            self.overfullCount += 1\n",
    "            return basehash(obj) % self.size\n",
    "        else:\n",
    "            d[obj] = count\n",
    "            return count\n",
    "\n",
    "def hashcoords(coordinates, m, readonly=False):\n",
    "    if isinstance(m, IHT):\n",
    "        return m.getindex(tuple(coordinates), readonly)\n",
    "    if isinstance(m, int):\n",
    "        return basehash(tuple(coordinates)) % m\n",
    "    if m is None:\n",
    "        return coordinates\n",
    "\n",
    "\n",
    "def tiles (ihtORsize, numtilings, floats, ints=[], readonly=False):\n",
    "    \"\"\"returns num-tilings tile indices corresponding to the floats and ints\"\"\"\n",
    "    qfloats = [math.floor(f*numtilings) for f in floats]\n",
    "    Tiles = []\n",
    "    for tiling in range(numtilings):\n",
    "        tilingX2 = tiling*2\n",
    "        coords = [tiling]\n",
    "        b = tiling\n",
    "        for q in qfloats:\n",
    "            coords.append( (q + b) // numtilings )\n",
    "            b += tilingX2\n",
    "        coords.extend(ints)\n",
    "        Tiles.append(hashcoords(coords, ihtORsize, readonly))\n",
    "    return Tiles\n",
    "\n",
    "def tileswrap (ihtORsize, numtilings, floats, wrapwidths, ints=[], readonly=False):\n",
    "    \"\"\"returns num-tilings tile indices corresponding to the floats and ints, wrapping some floats\"\"\"\n",
    "    qfloats = [math.floor(f*numtilings) for f in floats]\n",
    "    Tiles = []\n",
    "    for tiling in range(numtilings):\n",
    "        tilingX2 = tiling*2\n",
    "        coords = [tiling]\n",
    "        b = tiling\n",
    "        for q, width in itertools.zip_longest(qfloats, wrapwidths):\n",
    "            c = (q + b%numtilings) // numtilings\n",
    "            coords.append(c%width if width else c)\n",
    "            b += tilingX2\n",
    "        coords.extend(ints)\n",
    "        Tiles.append(hashcoords(coords, ihtORsize, readonly))\n",
    "    return Tiles\n",
    "\n"
   ]
  },
  {
   "cell_type": "code",
   "execution_count": 5,
   "id": "bb4b462b-7268-4386-93ab-a66b97a7f19d",
   "metadata": {},
   "outputs": [],
   "source": [
    "def pow2geq(lb):\n",
    "    exp = 1\n",
    "    while True:\n",
    "        rs = np.power(2, exp)\n",
    "        if rs >= lb:\n",
    "            break\n",
    "        exp += 1\n",
    "    return rs"
   ]
  },
  {
   "cell_type": "code",
   "execution_count": 6,
   "id": "8ac3c0c3-7c24-45bb-84b7-c33a282af342",
   "metadata": {},
   "outputs": [],
   "source": [
    "class Tiles:\n",
    "    def __init__(\n",
    "        self, dims_min: np.ndarray, dims_max: np.ndarray, \n",
    "        tiling_dim: int, num_tilings: Optional[int] = None\n",
    "    ):\n",
    "        assert isinstance(dims_min, np.ndarray)\n",
    "        assert isinstance(dims_max, np.ndarray)\n",
    "        self.dims_max = dims_max\n",
    "        self.dims_min = dims_min\n",
    "        self.tiling_dim = tiling_dim\n",
    "        self.wrapwidths = [tiling_dim] * np.size(dims_min)\n",
    "    \n",
    "        # num tilings should a power of 2\n",
    "        # and at least 4 times greater than\n",
    "        # the number of dimensions\n",
    "        self.num_tilings = num_tilings or pow2geq(np.size(dims_min) * 4)\n",
    "        self.max_size = (tiling_dim ** np.size(dims_min)) * self.num_tilings\n",
    "        print(\"Num tilings\", self.num_tilings, \"\\n\", \"Flat dim:\", self.max_size)\n",
    "        self.iht = IHT(self.max_size)\n",
    "\n",
    "    def __call__(self, xs):\n",
    "        xs_scaled_01 = (xs - self.dims_min) / (self.dims_max - self.dims_min)\n",
    "        repr = np.zeros(shape=self.max_size)\n",
    "        idx = tileswrap(\n",
    "            self.iht, \n",
    "            self.num_tilings, \n",
    "            xs_scaled_01 * self.tiling_dim,\n",
    "            self.wrapwidths\n",
    "        )\n",
    "        repr[idx] = 1\n",
    "        return repr    "
   ]
  },
  {
   "cell_type": "code",
   "execution_count": 7,
   "id": "89e9b2e4-1ef5-45ee-ae06-869452940499",
   "metadata": {},
   "outputs": [],
   "source": [
    "def delay_reward_data(buffer, delay: int, sample_size: int):\n",
    "    action = np.stack([example[1] for example in buffer])\n",
    "    reward = np.stack([example[3] for example in buffer])\n",
    "    states = np.concatenate([\n",
    "        np.stack([example[0] for example in buffer]), \n",
    "        np.stack([example[2] for example in buffer])], axis=1)\n",
    "\n",
    "\n",
    "    # repr: (m1,a1)(m2,a1)..\n",
    "    obs_dim = math.floor(states.shape[1] / 2)\n",
    "    mdim = obs_dim * len(np.unique(action)) + obs_dim\n",
    "    \n",
    "    # build samples\n",
    "    mask = np.random.choice(states.shape[0], (sample_size, delay))\n",
    "    delayed_obs = states[mask]  # batch x delay x dim\n",
    "    delayed_act = action[mask]\n",
    "    delayed_rew = np.sum(reward[mask], axis=1)  # batch x delay -> batch\n",
    "\n",
    "    rhat_matrix = np.zeros(shape=(sample_size, mdim))\n",
    "\n",
    "    # TODO: use pandas to speed this up\n",
    "    for i, (states, action) in enumerate(zip(delayed_obs, delayed_act)):\n",
    "        for j in range(delay):\n",
    "            obs, next_obs = states[j][:obs_dim], states[j][obs_dim:]\n",
    "            c = obs_dim * action[j]\n",
    "            rhat_matrix[i, c : c + obs_dim] += obs\n",
    "            rhat_matrix[i, -obs_dim:] += next_obs\n",
    "\n",
    "    return rhat_matrix, delayed_rew"
   ]
  },
  {
   "cell_type": "code",
   "execution_count": 8,
   "id": "68f3b2ea-8920-4cbf-b60a-dc7282781da8",
   "metadata": {},
   "outputs": [],
   "source": [
    "def proj_obs_to_rwest_vec(buffer, sample_size: int):\n",
    "    action = np.stack([example[1] for example in buffer])\n",
    "    reward = np.stack([example[3] for example in buffer])\n",
    "    states = np.concatenate([\n",
    "        np.stack([example[0] for example in buffer]), \n",
    "        np.stack([example[2] for example in buffer])], axis=1)\n",
    "\n",
    "    # repr: (m1,a1)(m2,a1)..\n",
    "    obs_dim = math.floor(states.shape[1] / 2)\n",
    "    mdim = obs_dim * len(np.unique(action)) + obs_dim\n",
    "    \n",
    "\n",
    "    # build samples\n",
    "    mask = np.random.choice(states.shape[0], sample_size)\n",
    "    delayed_obs = states[mask]  # batch x dim\n",
    "    delayed_act = action[mask]\n",
    "    delayed_rew = reward[mask]  # batch x delay -> batch\n",
    "\n",
    "    rhat_matrix = np.zeros(shape=(len(delayed_obs), mdim))\n",
    "\n",
    "    # TODO: use pandas to speed this up\n",
    "    for i, (states, action) in enumerate(zip(delayed_obs, delayed_act)):\n",
    "        obs, next_obs = states[:obs_dim], states[obs_dim:]\n",
    "        c = obs_dim * action\n",
    "        rhat_matrix[i, c : c + obs_dim] += obs\n",
    "        rhat_matrix[i, -obs_dim:] += next_obs\n",
    "\n",
    "    return rhat_matrix, delayed_rew"
   ]
  },
  {
   "cell_type": "markdown",
   "id": "534e7bc1-8ff4-48a1-ad46-a596bf3d9a82",
   "metadata": {},
   "source": [
    "## Reward Estimation"
   ]
  },
  {
   "cell_type": "code",
   "execution_count": 9,
   "id": "afda79b6-d5b8-4d37-b25f-62b6fe11b9fa",
   "metadata": {},
   "outputs": [],
   "source": [
    "def solve_least_squares(matrix: np.ndarray, rhs: np.ndarray) -> np.ndarray:\n",
    "    try:\n",
    "        solution, _, _, _ = np.linalg.lstsq(a=matrix, b=rhs, rcond=None)\n",
    "        return solution  # type: ignore\n",
    "    except np.linalg.LinAlgError as err:\n",
    "        # the computation failed, likely due to the matix being unsuitable (no solution).\n",
    "        raise ValueError(\"Failed to solve linear system\") from err"
   ]
  },
  {
   "cell_type": "code",
   "execution_count": 10,
   "id": "59d6e2d2-d01d-4507-9d37-51d09d9ef9a6",
   "metadata": {},
   "outputs": [],
   "source": [
    "def rmse(v_pred: np.ndarray, v_true: np.ndarray, axis: int):\n",
    "    if np.shape(v_pred) != np.shape(v_true):\n",
    "        raise ValueError(\n",
    "            f\"Tensors have different shapes: {np.shape(v_pred)} != {np.shape(v_true)}\"\n",
    "        )\n",
    "    delta = v_pred - v_true\n",
    "    sq = delta * delta  # np.power(delta, 2)\n",
    "    sqsum = np.sum(sq, axis=axis) / np.shape(v_pred)[axis]\n",
    "    sqsqrt = np.sqrt(sqsum)\n",
    "    return sqsqrt"
   ]
  },
  {
   "cell_type": "code",
   "execution_count": 11,
   "id": "be069c80-71ce-4f52-9aa8-119fd57fe246",
   "metadata": {},
   "outputs": [],
   "source": [
    "def collection_traj_data(env: gym.Env, steps: int):\n",
    "    obs, _ = env.reset()\n",
    "    step = 0\n",
    "    buffer = []\n",
    "    while step < steps:\n",
    "        action = env.action_space.sample()\n",
    "        (\n",
    "            next_obs,\n",
    "            rew,\n",
    "            term,\n",
    "            trunc,\n",
    "            _,\n",
    "        ) = env.step(action)\n",
    "        step += 1\n",
    "        buffer.append((obs, action, next_obs, rew))\n",
    "        obs = next_obs\n",
    "        if term or trunc:\n",
    "            obs, _ = env.reset()\n",
    "    return buffer"
   ]
  },
  {
   "cell_type": "code",
   "execution_count": 12,
   "id": "c02d574b-b801-47c0-bd4b-97a549aebbc1",
   "metadata": {},
   "outputs": [],
   "source": [
    "def solve_rwe(env: gym.Env, num_steps: int, sample_size: int, delay: int):\n",
    "    buffer = collection_traj_data(env, steps=num_steps)\n",
    "    Xd, yd = delay_reward_data(buffer, delay=delay, sample_size=sample_size)\n",
    "    return buffer, solve_least_squares(Xd, yd)"
   ]
  },
  {
   "cell_type": "code",
   "execution_count": 13,
   "id": "fbb51c96-dd50-4120-bba8-5c8b79dbe937",
   "metadata": {},
   "outputs": [],
   "source": [
    "def rwe_scatterplot(v_pred, v_true):\n",
    "    _, ax = plt.subplots(figsize=(6, 6))\n",
    "    df = pd.DataFrame({\n",
    "        \"x\": v_pred,\n",
    "        \"y\": v_true,\n",
    "        \"size\": np.abs(v_pred - v_true)\n",
    "    })\n",
    "    sns.scatterplot(\n",
    "        df, x=\"x\", y=\"y\", size=\"size\", hue=\"size\", s=5, color=\".15\"\n",
    "    )\n",
    "    # sns.histplot(x=v_pred, y=v_true, bins=50, cmap=\"mako\")\n",
    "    # sns.kdeplot(x=v_pred, y=v_true, levels=5, color=\"w\")\n",
    "    ax.set_xlabel(\"yhat\")\n",
    "    ax.set_ylabel(\"ytrue\")\n",
    "    ax.set_title(\"Reward Estimation\")"
   ]
  },
  {
   "cell_type": "code",
   "execution_count": 14,
   "id": "5b71c921-f5eb-45a9-9f90-40541af19038",
   "metadata": {},
   "outputs": [],
   "source": [
    "def hashtrick(xs, dim: int):\n",
    "    ys = np.zeros(dim, dtype=np.int32)\n",
    "    idx,  = np.where(xs == 1)\n",
    "    for i in idx:\n",
    "        ys[i % dim] += 1\n",
    "    return ys"
   ]
  },
  {
   "cell_type": "markdown",
   "id": "88c34679-56cc-4d1d-8472-5c02a3606bd9",
   "metadata": {},
   "source": [
    "## GEM Env"
   ]
  },
  {
   "cell_type": "code",
   "execution_count": 15,
   "id": "350a4f65-5247-4dfe-a0e6-1efc505573df",
   "metadata": {},
   "outputs": [],
   "source": [
    "class StrictWeightedSumOfErrors(reward_functions.WeightedSumOfErrors):\n",
    "    def __init__(\n",
    "        self, reward_weights=None, normed_reward_weights=False, violation_reward=None\n",
    "    ):\n",
    "        super().__init__(\n",
    "            reward_weights,\n",
    "            normed_reward_weights,\n",
    "            violation_reward,\n",
    "            gamma=1.0,\n",
    "            reward_power=1,\n",
    "            bias=0,\n",
    "        )\n",
    "\n",
    "    def reward(self, state, reference, k=None, action=None, violation_degree=0.0):\n",
    "        del k\n",
    "        del action\n",
    "        return (\n",
    "            self._wse_reward(state, reference)\n",
    "            + violation_degree * self._violation_reward\n",
    "        )\n"
   ]
  },
  {
   "cell_type": "code",
   "execution_count": 16,
   "id": "93ee7601-a513-438b-9809-fead4183853f",
   "metadata": {},
   "outputs": [],
   "source": [
    "class GEMObsPreproc(gym.ObservationWrapper):\n",
    "    def __init__(self, env):\n",
    "        super().__init__(env)\n",
    "        self._mask = getattr(env.reference_generator, \"referenced_states\")\n",
    "        state_obs_space, ref_state_obs_space = env.observation_space\n",
    "\n",
    "        self._weights = getattr(env.reward_function, \"_reward_weights\")[self._mask]\n",
    "        self._expo = getattr(env.reward_function, \"_n\")[self._mask]\n",
    "        self._bias = getattr(env.reward_function, \"_bias\")\n",
    "        self._denom = (state_obs_space.high - state_obs_space.low)[self._mask]\n",
    "        self._prev_ref_state = None  # np.zeros_like(state_obs_space.high[self._mask])\n",
    "\n",
    "        bounds = [\n",
    "            np.abs(state_obs_space.high[self._mask] - ref_state_obs_space.low),\n",
    "            np.abs(state_obs_space.high[self._mask] - ref_state_obs_space.high),\n",
    "            np.abs(state_obs_space.low[self._mask] - ref_state_obs_space.high),\n",
    "            np.abs(state_obs_space.low[self._mask] - ref_state_obs_space.low),\n",
    "        ]\n",
    "        obs_space_low = np.concatenate(\n",
    "            [\n",
    "                np.zeros_like(state_obs_space.low[self._mask]) + self._bias,\n",
    "                # constraint violation\n",
    "                np.array([0.0]),\n",
    "            ]\n",
    "        )\n",
    "        obs_space_high = np.concatenate(\n",
    "            [\n",
    "                (functools.reduce(np.maximum, bounds) / self._denom) ** self._expo  + self._bias,\n",
    "                # constraint violation\n",
    "                np.array([1.0]),\n",
    "            ]\n",
    "        )\n",
    "        self.observation_space = gym.spaces.Box(\n",
    "            low=obs_space_low, high=obs_space_high, dtype=state_obs_space.dtype\n",
    "        )\n",
    "        self._cvfn = getattr(self.env.constraint_monitor, \"check_constraints\")\n",
    "\n",
    "    def observation(self, observation):\n",
    "        prev_ref_state = copy.copy(self._prev_ref_state)\n",
    "        next_state, ref_state = observation\n",
    "        cv = self._cvfn(next_state)\n",
    "        next_state = next_state[self._mask]\n",
    "\n",
    "        if prev_ref_state is None:\n",
    "            prev_ref_state = ref_state\n",
    "\n",
    "        wrapped_next_state = np.concatenate(\n",
    "            [\n",
    "                (abs(next_state - prev_ref_state) / self._denom) ** self._expo\n",
    "                + self._bias,\n",
    "                np.array([cv]),\n",
    "            ]\n",
    "        )\n",
    "        self._prev_ref_state = ref_state\n",
    "        return wrapped_next_state"
   ]
  },
  {
   "cell_type": "code",
   "execution_count": 17,
   "id": "1d09690a-2c59-4113-a664-0b3d2cb6379c",
   "metadata": {},
   "outputs": [],
   "source": [
    "NUM_STEPS = 250_000\n",
    "SAMPLE_SIZE = 100_000"
   ]
  },
  {
   "cell_type": "markdown",
   "id": "882bd68f-f137-4d18-aed2-ad1c230fdca9",
   "metadata": {},
   "source": [
    "### Raw"
   ]
  },
  {
   "cell_type": "code",
   "execution_count": 18,
   "id": "fc0522d6-05f8-4187-8d8d-b2c5425abd53",
   "metadata": {},
   "outputs": [
    {
     "name": "stdout",
     "output_type": "stream",
     "text": [
      "Error - Mean: 3.3333223048236076e-16 Max: 3.528430458132162e-16 Min: 3.069152503684267e-16\n",
      "CPU times: user 1min 26s, sys: 3.51 s, total: 1min 29s\n",
      "Wall time: 1min 26s\n"
     ]
    },
    {
     "data": {
      "image/png": "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",
      "text/plain": [
       "<Figure size 600x600 with 1 Axes>"
      ]
     },
     "metadata": {},
     "output_type": "display_data"
    }
   ],
   "source": [
    "%%time\n",
    "rf = StrictWeightedSumOfErrors(\n",
    "    violation_reward=-10,\n",
    ")\n",
    "\n",
    "ge_env = GEMObsPreproc(gem.make(\"Finite-CC-PMSM-v0\", reward_function=rf))\n",
    "\n",
    "ge_buffer, ge_sol = solve_rwe(\n",
    "    ge_env,\n",
    "    num_steps=NUM_STEPS,\n",
    "    sample_size=SAMPLE_SIZE,\n",
    "    delay=2,\n",
    ")\n",
    "\n",
    "errors = []\n",
    "vpred = []\n",
    "vtrue = []\n",
    "for _ in range(10):\n",
    "    ge_eval_X, ge_eval_y = proj_obs_to_rwest_vec(ge_buffer, sample_size=10_000)\n",
    "    rew_yhat = np.matmul(ge_eval_X, ge_sol)\n",
    "    vpred.extend(rew_yhat.tolist())\n",
    "    vtrue.extend(ge_eval_y.tolist())\n",
    "    error = rmse(\n",
    "        v_pred=rew_yhat, \n",
    "        v_true=ge_eval_y,\n",
    "        axis=0\n",
    "    )\n",
    "    errors.append(error)\n",
    "\n",
    "print(\"Error -\", \"Mean:\", np.mean(errors), \"Max:\", np.max(errors), \"Min:\", np.min(errors))\n",
    "rwe_scatterplot(\n",
    "    v_pred=np.array(vpred), \n",
    "    v_true=np.array(vtrue)\n",
    ")\n",
    "df_raw = pd.DataFrame({\"vpred\": vpred, \"vtrue\": vtrue, \"method\": \"raw\"})"
   ]
  },
  {
   "cell_type": "markdown",
   "id": "6e07433e-d62e-4d63-8588-2c5d55cefa1e",
   "metadata": {},
   "source": [
    "### Scaled"
   ]
  },
  {
   "cell_type": "code",
   "execution_count": 19,
   "id": "b5fa1273-9549-49bc-a9ab-fbef46826763",
   "metadata": {},
   "outputs": [],
   "source": [
    "class GEMScaleObsWrapper(gym.ObservationWrapper):\n",
    "    def __init__(self, env, hash_dim: Optional[int] = None):\n",
    "        super().__init__(env)\n",
    "        self.hash_dim = hash_dim\n",
    "        \n",
    "        self.obs_space = env.observation_space\n",
    "        self.num_actions = env.action_space.n\n",
    "        self.hash_dim = hash_dim\n",
    "        self.obs_dim = np.size(self.obs_space.high)\n",
    "\n",
    "    def observation(self, obs: Any):\n",
    "        obs_scaled_01 = (obs - self.obs_space.low) / (self.obs_space.high - self.obs_space.low)\n",
    "        return obs_scaled_01"
   ]
  },
  {
   "cell_type": "code",
   "execution_count": 20,
   "id": "a4ecc64b-07c6-4825-8047-f6167246ca76",
   "metadata": {},
   "outputs": [
    {
     "name": "stdout",
     "output_type": "stream",
     "text": [
      "Error - Mean: 5.00865580242626e-16 Max: 5.186274682606309e-16 Min: 4.901368911320904e-16\n",
      "CPU times: user 1min 22s, sys: 2.66 s, total: 1min 25s\n",
      "Wall time: 1min 20s\n"
     ]
    },
    {
     "data": {
      "image/png": "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",
      "text/plain": [
       "<Figure size 600x600 with 1 Axes>"
      ]
     },
     "metadata": {},
     "output_type": "display_data"
    }
   ],
   "source": [
    "%%time\n",
    "rf = StrictWeightedSumOfErrors(\n",
    "    violation_reward=-10,\n",
    ")\n",
    "\n",
    "ge_env = GEMScaleObsWrapper(\n",
    "    GEMObsPreproc(gem.make(\"Finite-CC-PMSM-v0\", reward_function=rf))\n",
    ")\n",
    "\n",
    "ge_buffer, ge_sol = solve_rwe(\n",
    "    ge_env,\n",
    "    num_steps=NUM_STEPS,\n",
    "    sample_size=SAMPLE_SIZE,\n",
    "    delay=2,\n",
    ")\n",
    "\n",
    "errors = []\n",
    "vpred = []\n",
    "vtrue = []\n",
    "for _ in range(10):\n",
    "    ge_eval_X, ge_eval_y = proj_obs_to_rwest_vec(ge_buffer, sample_size=10_000)\n",
    "    rew_yhat = np.matmul(ge_eval_X, ge_sol)\n",
    "    vpred.extend(rew_yhat.tolist())\n",
    "    vtrue.extend(ge_eval_y.tolist())\n",
    "    error = rmse(\n",
    "        v_pred=rew_yhat, \n",
    "        v_true=ge_eval_y,\n",
    "        axis=0\n",
    "    )\n",
    "    errors.append(error)\n",
    "\n",
    "print(\"Error -\", \"Mean:\", np.mean(errors), \"Max:\", np.max(errors), \"Min:\", np.min(errors))\n",
    "rwe_scatterplot(\n",
    "    v_pred=np.array(vpred), \n",
    "    v_true=np.array(vtrue)\n",
    ")\n",
    "df_scaled = pd.DataFrame({\"vpred\": vpred, \"vtrue\": vtrue, \"method\": \"scaled\"})"
   ]
  },
  {
   "cell_type": "markdown",
   "id": "09629f90-4787-4b52-91c5-3187c8a4dff1",
   "metadata": {},
   "source": [
    "### Gaussian"
   ]
  },
  {
   "cell_type": "code",
   "execution_count": 21,
   "id": "a8cef3c6-98e5-4253-83f3-987d17890990",
   "metadata": {},
   "outputs": [],
   "source": [
    "# class GEMGaussianMixObsWrapper(gym.ObservationWrapper):\n",
    "#     def __init__(self, env, param_grid, steps: int):\n",
    "#         super().__init__(env)\n",
    "#         buffer = collection_traj_data(env, steps=steps)\n",
    "#         self.grid_search = self.gm_proj(buffer, param_grid)\n",
    "#         self.estimator = self.grid_search.best_estimator_\n",
    "#         print(\"Best estimator:\", self.grid_search.best_estimator_)\n",
    "#         self.obs_dim = self.grid_search.best_estimator_.n_components + 1\n",
    "        \n",
    "#         self.observation_space = gym.spaces.Box(\n",
    "#             low=np.zeros(shape=self.obs_dim, dtype=np.float32), \n",
    "#             high=np.ones(shape=self.obs_dim, dtype=np.float32)\n",
    "#         )\n",
    "    \n",
    "#     def gm_proj(self, buffer, param_grid):\n",
    "#         # exclude last state component\n",
    "#         obs = np.stack([example[2][:-1] for example in buffer])\n",
    "#         grid_search = model_selection.GridSearchCV(\n",
    "#             mixture.GaussianMixture(), param_grid=param_grid, scoring=self.gmm_bic_score\n",
    "#         )\n",
    "#         return grid_search.fit(obs)    \n",
    "\n",
    "#     def gmm_bic_score(self, estimator, X):\n",
    "#         \"\"\"Callable to pass to GridSearchCV that will use the BIC score.\"\"\"\n",
    "#         # Make it negative since GridSearchCV expects a score to maximize\n",
    "#         return -estimator.bic(X)    \n",
    "\n",
    "#     def observation(self, obs):\n",
    "#         # Apply to first N dimensions\n",
    "#         xs = self.estimator.predict_proba(np.array([obs[:-1]]))\n",
    "#         return np.concatenate([xs[0], np.array([obs[-1]])])\n",
    "\n",
    "class GEMGaussianMixObsWrapper(gym.ObservationWrapper):\n",
    "    def __init__(self, env, param_grid, steps: int):\n",
    "        super().__init__(env)\n",
    "        buffer = collection_traj_data(env, steps=steps)\n",
    "        self.grid_search = self.gm_proj(buffer, param_grid)\n",
    "        self.estimator = self.grid_search.best_estimator_\n",
    "        print(\"Best estimator:\", self.grid_search.best_estimator_)\n",
    "        self.obs_dim = self.grid_search.best_estimator_.n_components\n",
    "        \n",
    "        self.observation_space = gym.spaces.Box(\n",
    "            low=np.zeros(shape=self.obs_dim, dtype=np.float32), \n",
    "            high=np.ones(shape=self.obs_dim, dtype=np.float32)\n",
    "        )\n",
    "    \n",
    "    def gm_proj(self, buffer, param_grid):\n",
    "        # exclude last state component\n",
    "        obs = np.stack([example[2] for example in buffer])\n",
    "        grid_search = model_selection.GridSearchCV(\n",
    "            mixture.GaussianMixture(), param_grid=param_grid, scoring=self.gmm_bic_score\n",
    "        )\n",
    "        return grid_search.fit(obs)    \n",
    "\n",
    "    def gmm_bic_score(self, estimator, X):\n",
    "        \"\"\"Callable to pass to GridSearchCV that will use the BIC score.\"\"\"\n",
    "        # Make it negative since GridSearchCV expects a score to maximize\n",
    "        return -estimator.bic(X)    \n",
    "\n",
    "    def observation(self, obs):\n",
    "        # Apply to first N dimensions\n",
    "        xs_batch = self.estimator.predict_proba(np.array([obs]))\n",
    "        return xs_batch[0]"
   ]
  },
  {
   "cell_type": "code",
   "execution_count": 22,
   "id": "3ec67b26-74d5-4454-bcbc-9b63bd9f7b26",
   "metadata": {},
   "outputs": [
    {
     "name": "stdout",
     "output_type": "stream",
     "text": [
      "Best estimator: GaussianMixture(covariance_type='diag', n_components=8)\n",
      "Error - Mean: 0.02410508824123713 Max: 0.024581529502530133 Min: 0.023717717526550337\n",
      "CPU times: user 15min 52s, sys: 6min 26s, total: 22min 19s\n",
      "Wall time: 8min 34s\n"
     ]
    },
    {
     "data": {
      "image/png": "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",
      "text/plain": [
       "<Figure size 600x600 with 1 Axes>"
      ]
     },
     "metadata": {},
     "output_type": "display_data"
    }
   ],
   "source": [
    "%%time\n",
    "rf = StrictWeightedSumOfErrors(\n",
    "    violation_reward=-10,\n",
    ")\n",
    "param_grid = {\n",
    "    \"n_components\": range(4, 12),\n",
    "    \"covariance_type\": [\"spherical\", \"tied\", \"diag\", \"full\"],\n",
    "}\n",
    "\n",
    "ge_env = GEMGaussianMixObsWrapper(\n",
    "    GEMObsPreproc(gem.make(\"Finite-CC-PMSM-v0\", reward_function=rf)), \n",
    "    param_grid=param_grid, \n",
    "    steps=100_000,\n",
    ")\n",
    "\n",
    "ge_buffer, ge_sol = solve_rwe(\n",
    "    ge_env,\n",
    "    num_steps=NUM_STEPS,\n",
    "    sample_size=SAMPLE_SIZE,\n",
    "    delay=2,\n",
    ")\n",
    "\n",
    "errors = []\n",
    "vpred = []\n",
    "vtrue = []\n",
    "for _ in range(10):\n",
    "    ge_eval_X, ge_eval_y = proj_obs_to_rwest_vec(ge_buffer, sample_size=10_000)\n",
    "    rew_yhat = np.matmul(ge_eval_X, ge_sol)\n",
    "    vpred.extend(rew_yhat.tolist())\n",
    "    vtrue.extend(ge_eval_y.tolist())\n",
    "    error = rmse(\n",
    "        v_pred=rew_yhat, \n",
    "        v_true=ge_eval_y,\n",
    "        axis=0\n",
    "    )\n",
    "    errors.append(error)\n",
    "\n",
    "print(\"Error -\", \"Mean:\", np.mean(errors), \"Max:\", np.max(errors), \"Min:\", np.min(errors))\n",
    "rwe_scatterplot(\n",
    "    v_pred=np.array(vpred), \n",
    "    v_true=np.array(vtrue)\n",
    ")\n",
    "df_gm = pd.DataFrame({\"vpred\": vpred, \"vtrue\": vtrue, \"method\": \"gm\"})"
   ]
  },
  {
   "cell_type": "markdown",
   "id": "f505eaa7-f49b-4bd6-b4ef-bc7d992abb0b",
   "metadata": {},
   "source": [
    "A disdvantage of Gaussian Mixture as a projection approach is that it requires prior data to fit an estimator.\n",
    "In the case of reward estimation, this same data can be used to first an estimator and then to estimate the rewards using the projected states (not what's happening above).\n",
    "However, for value function approximation, this would have an extra step before value function estimation."
   ]
  },
  {
   "cell_type": "markdown",
   "id": "fbf3e094-525a-4963-a6d2-544ff3818bfe",
   "metadata": {},
   "source": [
    "### Tiling"
   ]
  },
  {
   "cell_type": "code",
   "execution_count": 23,
   "id": "2969fb6d-70cc-4fb1-b36a-654db70ef02d",
   "metadata": {},
   "outputs": [],
   "source": [
    "# class GEMTileObsWrapper(gym.ObservationWrapper):\n",
    "#     def __init__(self, env, tiling_dim: int, num_tilings: int = None, hash_dim: Optional[int] = None):\n",
    "#         super().__init__(env)\n",
    "#         self.hash_dim = hash_dim\n",
    "#         self.tiles = Tiles(\n",
    "#                 dims_min=env.observation_space.low[:-1],\n",
    "#                 dims_max=env.observation_space.high[:-1],\n",
    "#                 tiling_dim=tiling_dim,\n",
    "#                 num_tilings=num_tilings\n",
    "#             )\n",
    "#         self.observation_space = gym.spaces.Box(\n",
    "#             low=np.zeros(shape=self.hash_dim or self.tiles.max_size+1, dtype=np.float64), \n",
    "#             high=np.ones(shape=self.hash_dim or self.tiles.max_size+1, dtype=np.float64)\n",
    "#         )\n",
    "\n",
    "#     def observation(self, obs):\n",
    "#         # Apply to first N dimensions\n",
    "#         xs = self.tiles(obs[:-1])\n",
    "#         if self.hash_dim:\n",
    "#             xs = hashtrick(xs, dim=self.hash_dim-1)\n",
    "#         return np.concatenate([xs, np.array([obs[-1]])])\n",
    "\n",
    "class GEMTileObsWrapper(gym.ObservationWrapper):\n",
    "    def __init__(self, env, tiling_dim: int, num_tilings: int = None, hash_dim: Optional[int] = None):\n",
    "        super().__init__(env)\n",
    "        self.hash_dim = hash_dim\n",
    "        self.tiles = Tiles(\n",
    "                dims_min=env.observation_space.low,\n",
    "                dims_max=env.observation_space.high,\n",
    "                tiling_dim=tiling_dim,\n",
    "                num_tilings=num_tilings\n",
    "            )\n",
    "        self.observation_space = gym.spaces.Box(\n",
    "            low=np.zeros(shape=self.hash_dim or self.tiles.max_size, dtype=np.float64), \n",
    "            high=np.ones(shape=self.hash_dim or self.tiles.max_size, dtype=np.float64)\n",
    "        )\n",
    "\n",
    "    def observation(self, obs):\n",
    "        # Apply to first N dimensions\n",
    "        xs = self.tiles(obs)\n",
    "        if self.hash_dim:\n",
    "            xs = hashtrick(xs, dim=self.hash_dim)\n",
    "        return xs"
   ]
  },
  {
   "cell_type": "code",
   "execution_count": null,
   "id": "91d332a6-be70-4bbb-a10d-a7ef1fa93ab9",
   "metadata": {
    "scrolled": true
   },
   "outputs": [
    {
     "name": "stdout",
     "output_type": "stream",
     "text": [
      "Num tilings 16 \n",
      " Flat dim: 8192\n"
     ]
    },
    {
     "name": "stderr",
     "output_type": "stream",
     "text": [
      "/home/guilherme/code/research-phd/drmdp-fnapprox/.venv/lib/python3.11/site-packages/gymnasium/spaces/box.py:235: UserWarning: \u001b[33mWARN: Box low's precision lowered by casting to float32, current low.dtype=float64\u001b[0m\n",
      "  gym.logger.warn(\n",
      "/home/guilherme/code/research-phd/drmdp-fnapprox/.venv/lib/python3.11/site-packages/gymnasium/spaces/box.py:305: UserWarning: \u001b[33mWARN: Box high's precision lowered by casting to float32, current high.dtype=float64\u001b[0m\n",
      "  gym.logger.warn(\n"
     ]
    }
   ],
   "source": [
    "%%time\n",
    "rf = StrictWeightedSumOfErrors(\n",
    "    violation_reward=-10,\n",
    ")\n",
    "\n",
    "ge_env = GEMTileObsWrapper(\n",
    "    GEMObsPreproc(gem.make(\"Finite-CC-PMSM-v0\", reward_function=rf)),\n",
    "    tiling_dim=8,\n",
    ")\n",
    "\n",
    "\n",
    "ge_buffer, ge_sol = solve_rwe(\n",
    "    ge_env,\n",
    "    num_steps=NUM_STEPS,\n",
    "    sample_size=SAMPLE_SIZE,\n",
    "    delay=2,\n",
    ")\n",
    "\n",
    "errors = []\n",
    "vpred = []\n",
    "vtrue = []\n",
    "for _ in range(10):\n",
    "    ge_eval_X, ge_eval_y = proj_obs_to_rwest_vec(ge_buffer, sample_size=10_000)\n",
    "    rew_yhat = np.matmul(ge_eval_X, ge_sol)\n",
    "    vpred.extend(rew_yhat.tolist())\n",
    "    vtrue.extend(ge_eval_y.tolist())\n",
    "    error = rmse(\n",
    "        v_pred=rew_yhat, \n",
    "        v_true=ge_eval_y,\n",
    "        axis=0\n",
    "    )\n",
    "    errors.append(error)\n",
    "\n",
    "print(\"Error -\", \"Mean:\", np.mean(errors), \"Max:\", np.max(errors), \"Min:\", np.min(errors))\n",
    "rwe_scatterplot(\n",
    "    v_pred=np.array(vpred), \n",
    "    v_true=np.array(vtrue)\n",
    ")\n",
    "df_tiles = pd.DataFrame({\"vpred\": vpred, \"vtrue\": vtrue, \"method\": \"tiles\"})"
   ]
  },
  {
   "cell_type": "markdown",
   "id": "d3702dfd-e7bd-4ef4-ac73-cdd236ba7036",
   "metadata": {},
   "source": [
    "## Conclusions"
   ]
  },
  {
   "cell_type": "markdown",
   "id": "48367c53-8c48-47af-a73b-8d1e5935cca9",
   "metadata": {},
   "source": [
    "### Results Overview"
   ]
  },
  {
   "cell_type": "code",
   "execution_count": null,
   "id": "5cbfe809-3524-46ee-8ae2-ea0a34225e11",
   "metadata": {},
   "outputs": [],
   "source": [
    "df_results = pd.concat([\n",
    "    df_raw,\n",
    "    df_scaled,\n",
    "    df_gm,\n",
    "    df_tiles\n",
    "])\n",
    "df_results[\"delta\"] = df_results[\"vtrue\"] - df_results[\"vpred\"]"
   ]
  },
  {
   "cell_type": "code",
   "execution_count": null,
   "id": "f30f87f4-5806-4354-aeae-9b6158d7d441",
   "metadata": {},
   "outputs": [],
   "source": [
    "df_results"
   ]
  },
  {
   "cell_type": "code",
   "execution_count": null,
   "id": "146018cb-da54-4e0d-9a03-0b6402e62980",
   "metadata": {},
   "outputs": [],
   "source": [
    "ax = sns.histplot(data=df_results, x=\"delta\", hue=\"method\", bins=50, log_scale=True)\n",
    "_ = ax.set_title(\"$\\delta = (r-\\hat{r})$, Log Scale\")"
   ]
  },
  {
   "cell_type": "markdown",
   "id": "11e4deaa-609a-4158-86c8-60b8e17d8f13",
   "metadata": {},
   "source": [
    "  - Results, by order of performance: raw or scaled > Tiling (dim=8) > Gaussian Mixture\n",
    "  - Raw features and input scaling work equally well on the task of reward estimation"
   ]
  }
 ],
 "metadata": {
  "kernelspec": {
   "display_name": "Python 3 (ipykernel)",
   "language": "python",
   "name": "python3"
  },
  "language_info": {
   "codemirror_mode": {
    "name": "ipython",
    "version": 3
   },
   "file_extension": ".py",
   "mimetype": "text/x-python",
   "name": "python",
   "nbconvert_exporter": "python",
   "pygments_lexer": "ipython3",
   "version": "3.11.11"
  }
 },
 "nbformat": 4,
 "nbformat_minor": 5
}
