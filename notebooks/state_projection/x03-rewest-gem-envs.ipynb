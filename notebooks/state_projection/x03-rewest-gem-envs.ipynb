{
 "cells": [
  {
   "cell_type": "markdown",
   "id": "77fd02d1-537b-414e-a046-be9dde9dd530",
   "metadata": {},
   "source": [
    "# Estimating Rewards for GEM Environments"
   ]
  },
  {
   "cell_type": "markdown",
   "id": "fa0d1ed2-b21e-4905-9bb9-184d29fd00ba",
   "metadata": {},
   "source": [
    "Our aim is to carry out RL tasks when rewards are delayed (aggregate, and anonymous), using linear function approximation.\n",
    "To solve this problem, we aim to project both large discrete states and continuous states into basis vectors.\n",
    "\n",
    "\n",
    "In this notebook, we explore state representation approaches to estimate rewards for [GEM environments](https://github.com/upb-lea/gym-electric-motor).\n",
    "These environments have continuous states and discrete actions (there are continuous actions options as well, which are outside of scope).\n",
    "\n",
    "The states rewards are a linear function of $(s,s')$. As such, we change the buffer from earlier notebooks from $(s,a,r)$ to $(s,a,s',r)$.\n",
    "\n",
    "The test the following techniques:\n",
    "\n",
    "  - Raw\n",
    "  - Scaled (0 to 1)  \n",
    "  - Gaussian\n",
    "  - Tiling"
   ]
  },
  {
   "cell_type": "code",
   "execution_count": 1,
   "id": "96def89d-da64-421c-9fa7-4e7c383cac5c",
   "metadata": {},
   "outputs": [],
   "source": [
    "import copy\n",
<<<<<<< HEAD
<<<<<<< HEAD
    "import functools\n",
    "import itertools\n",
    "import math\n",
    "from typing import Any, Optional"
=======
    "import itertools\n",
    "import math\n",
    "import functools\n",
    "from typing import Optional, Any"
>>>>>>> 18cdc51 (Add notebok on reward est for GEM environments)
=======
    "import functools\n",
    "import itertools\n",
    "import math\n",
    "from typing import Any, Optional"
>>>>>>> fabfcfb (Fixes formatting)
   ]
  },
  {
   "cell_type": "code",
   "execution_count": 2,
   "id": "294d273e-aa6e-40b5-9cd3-e44c87415250",
   "metadata": {},
   "outputs": [],
   "source": [
<<<<<<< HEAD
<<<<<<< HEAD
    "import gym_electric_motor as gem\n",
    "import gymnasium as gym\n",
    "import numpy as np\n",
    "import pandas as pd\n",
=======
    "import gymnasium as gym\n",
    "import numpy as np\n",
    "import pandas as pd\n",
    "from scipy import linalg\n",
    "import gym_electric_motor as gem\n",
>>>>>>> 18cdc51 (Add notebok on reward est for GEM environments)
=======
    "import gym_electric_motor as gem\n",
    "import gymnasium as gym\n",
    "import numpy as np\n",
    "import pandas as pd\n",
>>>>>>> fabfcfb (Fixes formatting)
    "from gym_electric_motor import reward_functions\n",
    "from sklearn import mixture, model_selection"
   ]
  },
  {
   "cell_type": "code",
   "execution_count": 3,
<<<<<<< HEAD
   "id": "63bc1d62-7fa9-495e-877d-909c4f7fa337",
   "metadata": {},
   "outputs": [],
<<<<<<< HEAD
<<<<<<< HEAD
   "source": []
=======
   "source": [
    "from rlplg.environments import gridworld, redgreen"
   ]
>>>>>>> 18cdc51 (Add notebok on reward est for GEM environments)
=======
   "source": []
>>>>>>> fabfcfb (Fixes formatting)
  },
  {
   "cell_type": "code",
   "execution_count": 4,
=======
>>>>>>> f2b1ad7 (Add WIP notebooks)
   "id": "f40d14be-fe4e-45da-95ed-2ef2504f5abe",
   "metadata": {},
   "outputs": [],
   "source": [
    "import seaborn as sns\n",
    "from matplotlib import pyplot as plt"
   ]
  },
  {
   "cell_type": "markdown",
   "id": "1c7db704-00b1-4cbc-9384-3c343c25365e",
   "metadata": {},
   "source": [
    "## Feature Encoding"
   ]
  },
  {
   "cell_type": "markdown",
   "id": "0bdee5cc-32d1-41f8-a521-e93d72d9d913",
   "metadata": {},
   "source": [
    "### Tiling Utils"
   ]
  },
  {
   "cell_type": "code",
   "execution_count": 4,
   "id": "c8d5c2a4-810f-4e6d-becb-913237eee752",
   "metadata": {},
   "outputs": [],
   "source": [
    "\"\"\"\n",
    "Tile Coding Software version 3.0beta\n",
    "by Rich Sutton\n",
    "based on a program created by Steph Schaeffer and others\n",
    "External documentation and recommendations on the use of this code is available in the \n",
    "reinforcement learning textbook by Sutton and Barto, and on the web.\n",
    "These need to be understood before this code is.\n",
    "\n",
    "This software is for Python 3 or more.\n",
    "\n",
    "This is an implementation of grid-style tile codings, based originally on\n",
    "the UNH CMAC code (see http://www.ece.unh.edu/robots/cmac.htm), but by now highly changed. \n",
    "Here we provide a function, \"tiles\", that maps floating and integer\n",
    "variables to a list of tiles, and a second function \"tiles-wrap\" that does the same while\n",
    "wrapping some floats to provided widths (the lower wrap value is always 0).\n",
    "\n",
    "The float variables will be gridded at unit intervals, so generalization\n",
    "will be by approximately 1 in each direction, and any scaling will have \n",
    "to be done externally before calling tiles.\n",
    "\n",
    "Num-tilings should be a power of 2, e.g., 16. To make the offsetting work properly, it should\n",
    "also be greater than or equal to four times the number of floats.\n",
    "\n",
    "The first argument is either an index hash table of a given size (created by (make-iht size)), \n",
    "an integer \"size\" (range of the indices from 0), or nil (for testing, indicating that the tile \n",
    "coordinates are to be returned without being converted to indices).\n",
    "\"\"\"\n",
    "\n",
    "basehash = hash\n",
    "\n",
    "class IHT:\n",
    "    \"Structure to handle collisions\"\n",
    "    def __init__(self, sizeval):\n",
    "        self.size = sizeval                        \n",
    "        self.overfullCount = 0\n",
    "        self.dictionary = {}\n",
    "\n",
    "    def __str__(self):\n",
    "        \"Prepares a string for printing whenever this object is printed\"\n",
    "        return \"Collision table:\" + \\\n",
    "               \" size:\" + str(self.size) + \\\n",
    "               \" overfullCount:\" + str(self.overfullCount) + \\\n",
    "               \" dictionary:\" + str(len(self.dictionary)) + \" items\"\n",
    "\n",
    "    def count(self):\n",
    "        return len(self.dictionary)\n",
    "    \n",
    "    def fullp(self):\n",
    "        return len(self.dictionary) >= self.size\n",
    "    \n",
    "    def getindex(self, obj, readonly=False):\n",
    "        d = self.dictionary\n",
    "        if obj in d:\n",
    "            return d[obj]\n",
    "        elif readonly:\n",
    "            return None\n",
    "        size = self.size\n",
    "        count = self.count()\n",
    "        if count >= size:\n",
    "            # TODO: Fail\n",
    "            if self.overfullCount==0: \n",
    "                print('IHT full, starting to allow collisions')\n",
    "            self.overfullCount += 1\n",
    "            return basehash(obj) % self.size\n",
    "        else:\n",
    "            d[obj] = count\n",
    "            return count\n",
    "\n",
    "def hashcoords(coordinates, m, readonly=False):\n",
    "    if isinstance(m, IHT):\n",
    "        return m.getindex(tuple(coordinates), readonly)\n",
    "    if isinstance(m, int):\n",
    "        return basehash(tuple(coordinates)) % m\n",
    "    if m is None:\n",
    "        return coordinates\n",
    "\n",
    "\n",
    "def tiles (ihtORsize, numtilings, floats, ints=[], readonly=False):\n",
    "    \"\"\"returns num-tilings tile indices corresponding to the floats and ints\"\"\"\n",
    "    qfloats = [math.floor(f*numtilings) for f in floats]\n",
    "    Tiles = []\n",
    "    for tiling in range(numtilings):\n",
    "        tilingX2 = tiling*2\n",
    "        coords = [tiling]\n",
    "        b = tiling\n",
    "        for q in qfloats:\n",
    "            coords.append( (q + b) // numtilings )\n",
    "            b += tilingX2\n",
    "        coords.extend(ints)\n",
    "        Tiles.append(hashcoords(coords, ihtORsize, readonly))\n",
    "    return Tiles\n",
    "\n",
    "def tileswrap (ihtORsize, numtilings, floats, wrapwidths, ints=[], readonly=False):\n",
    "    \"\"\"returns num-tilings tile indices corresponding to the floats and ints, wrapping some floats\"\"\"\n",
    "    qfloats = [math.floor(f*numtilings) for f in floats]\n",
    "    Tiles = []\n",
    "    for tiling in range(numtilings):\n",
    "        tilingX2 = tiling*2\n",
    "        coords = [tiling]\n",
    "        b = tiling\n",
    "        for q, width in itertools.zip_longest(qfloats, wrapwidths):\n",
    "            c = (q + b%numtilings) // numtilings\n",
    "            coords.append(c%width if width else c)\n",
    "            b += tilingX2\n",
    "        coords.extend(ints)\n",
    "        Tiles.append(hashcoords(coords, ihtORsize, readonly))\n",
    "    return Tiles\n",
    "\n"
   ]
  },
  {
   "cell_type": "code",
   "execution_count": 5,
   "id": "bb4b462b-7268-4386-93ab-a66b97a7f19d",
   "metadata": {},
   "outputs": [],
   "source": [
    "def pow2geq(lb):\n",
    "    exp = 1\n",
    "    while True:\n",
    "        rs = np.power(2, exp)\n",
    "        if rs >= lb:\n",
    "            break\n",
    "        exp += 1\n",
    "    return rs"
   ]
  },
  {
   "cell_type": "code",
   "execution_count": 6,
   "id": "8ac3c0c3-7c24-45bb-84b7-c33a282af342",
   "metadata": {},
   "outputs": [],
   "source": [
    "class Tiles:\n",
    "    def __init__(\n",
    "        self, dims_min: np.ndarray, dims_max: np.ndarray, \n",
    "        tiling_dim: int, num_tilings: Optional[int] = None\n",
    "    ):\n",
    "        assert isinstance(dims_min, np.ndarray)\n",
    "        assert isinstance(dims_max, np.ndarray)\n",
    "        self.dims_max = dims_max\n",
    "        self.dims_min = dims_min\n",
    "        self.tiling_dim = tiling_dim\n",
    "        self.wrapwidths = [tiling_dim] * np.size(dims_min)\n",
    "    \n",
    "        # num tilings should a power of 2\n",
    "        # and at least 4 times greater than\n",
    "        # the number of dimensions\n",
    "        self.num_tilings = num_tilings or pow2geq(np.size(dims_min) * 4)\n",
    "        self.max_size = (tiling_dim ** np.size(dims_min)) * self.num_tilings\n",
    "        print(\"Num tilings\", self.num_tilings, \"\\n\", \"Flat dim:\", self.max_size)\n",
    "        self.iht = IHT(self.max_size)\n",
    "\n",
    "    def __call__(self, xs):\n",
    "        xs_scaled_01 = (xs - self.dims_min) / (self.dims_max - self.dims_min)\n",
    "        repr = np.zeros(shape=self.max_size)\n",
    "        idx = tileswrap(\n",
    "            self.iht, \n",
    "            self.num_tilings, \n",
    "            xs_scaled_01 * self.tiling_dim,\n",
    "            self.wrapwidths\n",
    "        )\n",
    "        repr[idx] = 1\n",
    "        return repr    "
   ]
  },
  {
   "cell_type": "code",
   "execution_count": 7,
   "id": "89e9b2e4-1ef5-45ee-ae06-869452940499",
   "metadata": {},
   "outputs": [],
   "source": [
    "def delay_reward_data(buffer, delay: int, sample_size: int):\n",
    "    action = np.stack([example[1] for example in buffer])\n",
    "    reward = np.stack([example[3] for example in buffer])\n",
    "    states = np.concatenate([\n",
    "        np.stack([example[0] for example in buffer]), \n",
    "        np.stack([example[2] for example in buffer])], axis=1)\n",
    "\n",
    "\n",
    "    # repr: (m1,a1)(m2,a1)..\n",
    "    obs_dim = math.floor(states.shape[1] / 2)\n",
    "    mdim = obs_dim * len(np.unique(action)) + obs_dim\n",
    "    \n",
    "    # build samples\n",
    "    mask = np.random.choice(states.shape[0], (sample_size, delay))\n",
    "    delayed_obs = states[mask]  # batch x delay x dim\n",
    "    delayed_act = action[mask]\n",
    "    delayed_rew = np.sum(reward[mask], axis=1)  # batch x delay -> batch\n",
    "\n",
    "    rhat_matrix = np.zeros(shape=(sample_size, mdim))\n",
    "\n",
    "    # TODO: use pandas to speed this up\n",
    "    for i, (states, action) in enumerate(zip(delayed_obs, delayed_act)):\n",
    "        for j in range(delay):\n",
    "            obs, next_obs = states[j][:obs_dim], states[j][obs_dim:]\n",
    "            c = obs_dim * action[j]\n",
    "            rhat_matrix[i, c : c + obs_dim] += obs\n",
    "            rhat_matrix[i, -obs_dim:] += next_obs\n",
    "\n",
    "    return rhat_matrix, delayed_rew"
   ]
  },
  {
   "cell_type": "code",
   "execution_count": 8,
   "id": "68f3b2ea-8920-4cbf-b60a-dc7282781da8",
   "metadata": {},
   "outputs": [],
   "source": [
    "def proj_obs_to_rwest_vec(buffer, sample_size: int):\n",
    "    action = np.stack([example[1] for example in buffer])\n",
    "    reward = np.stack([example[3] for example in buffer])\n",
    "    states = np.concatenate([\n",
    "        np.stack([example[0] for example in buffer]), \n",
    "        np.stack([example[2] for example in buffer])], axis=1)\n",
    "\n",
    "    # repr: (m1,a1)(m2,a1)..\n",
    "    obs_dim = math.floor(states.shape[1] / 2)\n",
    "    mdim = obs_dim * len(np.unique(action)) + obs_dim\n",
    "    \n",
    "\n",
    "    # build samples\n",
    "    mask = np.random.choice(states.shape[0], sample_size)\n",
    "    delayed_obs = states[mask]  # batch x dim\n",
    "    delayed_act = action[mask]\n",
    "    delayed_rew = reward[mask]  # batch x delay -> batch\n",
    "\n",
    "    rhat_matrix = np.zeros(shape=(len(delayed_obs), mdim))\n",
    "\n",
    "    # TODO: use pandas to speed this up\n",
    "    for i, (states, action) in enumerate(zip(delayed_obs, delayed_act)):\n",
    "        obs, next_obs = states[:obs_dim], states[obs_dim:]\n",
    "        c = obs_dim * action\n",
    "        rhat_matrix[i, c : c + obs_dim] += obs\n",
    "        rhat_matrix[i, -obs_dim:] += next_obs\n",
    "\n",
    "    return rhat_matrix, delayed_rew"
   ]
  },
  {
   "cell_type": "markdown",
   "id": "534e7bc1-8ff4-48a1-ad46-a596bf3d9a82",
   "metadata": {},
   "source": [
    "## Reward Estimation"
   ]
  },
  {
   "cell_type": "code",
   "execution_count": 9,
   "id": "afda79b6-d5b8-4d37-b25f-62b6fe11b9fa",
   "metadata": {},
   "outputs": [],
   "source": [
    "def solve_least_squares(matrix: np.ndarray, rhs: np.ndarray) -> np.ndarray:\n",
    "    try:\n",
    "        solution, _, _, _ = np.linalg.lstsq(a=matrix, b=rhs, rcond=None)\n",
    "        return solution  # type: ignore\n",
    "    except np.linalg.LinAlgError as err:\n",
    "        # the computation failed, likely due to the matix being unsuitable (no solution).\n",
    "        raise ValueError(\"Failed to solve linear system\") from err"
   ]
  },
  {
   "cell_type": "code",
   "execution_count": 10,
   "id": "59d6e2d2-d01d-4507-9d37-51d09d9ef9a6",
   "metadata": {},
   "outputs": [],
   "source": [
    "def rmse(v_pred: np.ndarray, v_true: np.ndarray, axis: int):\n",
    "    if np.shape(v_pred) != np.shape(v_true):\n",
    "        raise ValueError(\n",
    "            f\"Tensors have different shapes: {np.shape(v_pred)} != {np.shape(v_true)}\"\n",
    "        )\n",
    "    delta = v_pred - v_true\n",
    "    sq = delta * delta  # np.power(delta, 2)\n",
    "    sqsum = np.sum(sq, axis=axis) / np.shape(v_pred)[axis]\n",
    "    sqsqrt = np.sqrt(sqsum)\n",
    "    return sqsqrt"
   ]
  },
  {
   "cell_type": "code",
   "execution_count": 11,
   "id": "be069c80-71ce-4f52-9aa8-119fd57fe246",
   "metadata": {},
   "outputs": [],
   "source": [
    "def collection_traj_data(env: gym.Env, steps: int):\n",
    "    obs, _ = env.reset()\n",
    "    step = 0\n",
    "    buffer = []\n",
    "    while step < steps:\n",
    "        action = env.action_space.sample()\n",
    "        (\n",
    "            next_obs,\n",
    "            rew,\n",
    "            term,\n",
    "            trunc,\n",
    "            _,\n",
    "        ) = env.step(action)\n",
    "        step += 1\n",
    "        buffer.append((obs, action, next_obs, rew))\n",
    "        obs = next_obs\n",
    "        if term or trunc:\n",
    "            obs, _ = env.reset()\n",
    "    return buffer"
   ]
  },
  {
   "cell_type": "code",
   "execution_count": 12,
   "id": "c02d574b-b801-47c0-bd4b-97a549aebbc1",
   "metadata": {},
   "outputs": [],
   "source": [
    "def solve_rwe(env: gym.Env, num_steps: int, sample_size: int, delay: int):\n",
    "    buffer = collection_traj_data(env, steps=num_steps)\n",
    "    Xd, yd = delay_reward_data(buffer, delay=delay, sample_size=sample_size)\n",
    "    return buffer, solve_least_squares(Xd, yd)"
   ]
  },
  {
   "cell_type": "code",
   "execution_count": 13,
   "id": "fbb51c96-dd50-4120-bba8-5c8b79dbe937",
   "metadata": {},
   "outputs": [],
   "source": [
    "def rwe_scatterplot(v_pred, v_true):\n",
    "    _, ax = plt.subplots(figsize=(6, 6))\n",
    "    df = pd.DataFrame({\n",
    "        \"x\": v_pred,\n",
    "        \"y\": v_true,\n",
    "        \"size\": np.abs(v_pred - v_true)\n",
    "    })\n",
    "    sns.scatterplot(\n",
    "        df, x=\"x\", y=\"y\", size=\"size\", hue=\"size\", s=5, color=\".15\"\n",
    "    )\n",
    "    # sns.histplot(x=v_pred, y=v_true, bins=50, cmap=\"mako\")\n",
    "    # sns.kdeplot(x=v_pred, y=v_true, levels=5, color=\"w\")\n",
    "    ax.set_xlabel(\"yhat\")\n",
    "    ax.set_ylabel(\"ytrue\")\n",
    "    ax.set_title(\"Reward Estimation\")"
   ]
  },
  {
   "cell_type": "code",
   "execution_count": 14,
   "id": "5b71c921-f5eb-45a9-9f90-40541af19038",
   "metadata": {},
   "outputs": [],
   "source": [
    "def hashtrick(xs, dim: int):\n",
    "    ys = np.zeros(dim, dtype=np.int32)\n",
    "    idx,  = np.where(xs == 1)\n",
    "    for i in idx:\n",
    "        ys[i % dim] += 1\n",
    "    return ys"
   ]
  },
  {
   "cell_type": "markdown",
   "id": "88c34679-56cc-4d1d-8472-5c02a3606bd9",
   "metadata": {},
   "source": [
    "## GEM Env"
   ]
  },
  {
   "cell_type": "code",
   "execution_count": 15,
   "id": "350a4f65-5247-4dfe-a0e6-1efc505573df",
   "metadata": {},
   "outputs": [],
   "source": [
    "class StrictWeightedSumOfErrors(reward_functions.WeightedSumOfErrors):\n",
    "    def __init__(\n",
    "        self, reward_weights=None, normed_reward_weights=False, violation_reward=None\n",
    "    ):\n",
    "        super().__init__(\n",
    "            reward_weights,\n",
    "            normed_reward_weights,\n",
    "            violation_reward,\n",
    "            gamma=1.0,\n",
    "            reward_power=1,\n",
    "            bias=0,\n",
    "        )\n",
    "\n",
    "    def reward(self, state, reference, k=None, action=None, violation_degree=0.0):\n",
    "        del k\n",
    "        del action\n",
    "        return (\n",
    "            self._wse_reward(state, reference)\n",
    "            + violation_degree * self._violation_reward\n",
    "        )\n"
   ]
  },
  {
   "cell_type": "code",
   "execution_count": 16,
   "id": "93ee7601-a513-438b-9809-fead4183853f",
   "metadata": {},
   "outputs": [],
   "source": [
    "class GEMObsPreproc(gym.ObservationWrapper):\n",
    "    def __init__(self, env):\n",
    "        super().__init__(env)\n",
    "        self._mask = getattr(env.reference_generator, \"referenced_states\")\n",
    "        state_obs_space, ref_state_obs_space = env.observation_space\n",
    "\n",
    "        self._weights = getattr(env.reward_function, \"_reward_weights\")[self._mask]\n",
    "        self._expo = getattr(env.reward_function, \"_n\")[self._mask]\n",
    "        self._bias = getattr(env.reward_function, \"_bias\")\n",
    "        self._denom = (state_obs_space.high - state_obs_space.low)[self._mask]\n",
    "        self._prev_ref_state = None  # np.zeros_like(state_obs_space.high[self._mask])\n",
    "\n",
    "        bounds = [\n",
    "            np.abs(state_obs_space.high[self._mask] - ref_state_obs_space.low),\n",
    "            np.abs(state_obs_space.high[self._mask] - ref_state_obs_space.high),\n",
    "            np.abs(state_obs_space.low[self._mask] - ref_state_obs_space.high),\n",
    "            np.abs(state_obs_space.low[self._mask] - ref_state_obs_space.low),\n",
    "        ]\n",
    "        obs_space_low = np.concatenate(\n",
    "            [\n",
    "                np.zeros_like(state_obs_space.low[self._mask]) + self._bias,\n",
    "                # constraint violation\n",
    "                np.array([0.0]),\n",
    "            ]\n",
    "        )\n",
    "        obs_space_high = np.concatenate(\n",
    "            [\n",
    "                (functools.reduce(np.maximum, bounds) / self._denom) ** self._expo  + self._bias,\n",
    "                # constraint violation\n",
    "                np.array([1.0]),\n",
    "            ]\n",
    "        )\n",
    "        self.observation_space = gym.spaces.Box(\n",
    "            low=obs_space_low, high=obs_space_high, dtype=state_obs_space.dtype\n",
    "        )\n",
    "        self._cvfn = getattr(self.env.constraint_monitor, \"check_constraints\")\n",
    "\n",
    "    def observation(self, observation):\n",
    "        prev_ref_state = copy.copy(self._prev_ref_state)\n",
    "        next_state, ref_state = observation\n",
    "        cv = self._cvfn(next_state)\n",
    "        next_state = next_state[self._mask]\n",
    "\n",
    "        if prev_ref_state is None:\n",
    "            prev_ref_state = ref_state\n",
    "\n",
    "        wrapped_next_state = np.concatenate(\n",
    "            [\n",
    "                (abs(next_state - prev_ref_state) / self._denom) ** self._expo\n",
    "                + self._bias,\n",
    "                np.array([cv]),\n",
    "            ]\n",
    "        )\n",
    "        self._prev_ref_state = ref_state\n",
    "        return wrapped_next_state"
   ]
  },
  {
   "cell_type": "code",
   "execution_count": 17,
   "id": "1d09690a-2c59-4113-a664-0b3d2cb6379c",
   "metadata": {},
   "outputs": [],
   "source": [
    "NUM_STEPS = 250_000\n",
    "SAMPLE_SIZE = 100_000"
   ]
  },
  {
   "cell_type": "markdown",
   "id": "882bd68f-f137-4d18-aed2-ad1c230fdca9",
   "metadata": {},
   "source": [
    "### Raw"
   ]
  },
  {
   "cell_type": "code",
   "execution_count": 18,
   "id": "fc0522d6-05f8-4187-8d8d-b2c5425abd53",
   "metadata": {},
   "outputs": [
    {
     "name": "stdout",
     "output_type": "stream",
     "text": [
      "Error - Mean: 1.9973767096793627e-15 Max: 2.4563304763752383e-15 Min: 1.3796348028528774e-15\n",
      "CPU times: user 29.5 s, sys: 21.2 s, total: 50.7 s\n",
      "Wall time: 24.6 s\n"
     ]
    },
    {
     "data": {
      "image/png": "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",
      "text/plain": [
       "<Figure size 600x600 with 1 Axes>"
      ]
     },
     "metadata": {},
     "output_type": "display_data"
    }
   ],
   "source": [
    "%%time\n",
    "rf = StrictWeightedSumOfErrors(\n",
    "    violation_reward=-10,\n",
    ")\n",
    "\n",
    "ge_env = GEMObsPreproc(gem.make(\"Finite-CC-PMSM-v0\", reward_function=rf))\n",
    "\n",
    "ge_buffer, ge_sol = solve_rwe(\n",
    "    ge_env,\n",
    "    num_steps=NUM_STEPS,\n",
    "    sample_size=SAMPLE_SIZE,\n",
    "    delay=2,\n",
    ")\n",
    "\n",
    "errors = []\n",
    "vpred = []\n",
    "vtrue = []\n",
    "for _ in range(10):\n",
    "    ge_eval_X, ge_eval_y = proj_obs_to_rwest_vec(ge_buffer, sample_size=10_000)\n",
    "    rew_yhat = np.matmul(ge_eval_X, ge_sol)\n",
    "    vpred.extend(rew_yhat.tolist())\n",
    "    vtrue.extend(ge_eval_y.tolist())\n",
    "    error = rmse(\n",
    "        v_pred=rew_yhat, \n",
    "        v_true=ge_eval_y,\n",
    "        axis=0\n",
    "    )\n",
    "    errors.append(error)\n",
    "\n",
    "print(\"Error -\", \"Mean:\", np.mean(errors), \"Max:\", np.max(errors), \"Min:\", np.min(errors))\n",
    "rwe_scatterplot(\n",
    "    v_pred=np.array(vpred), \n",
    "    v_true=np.array(vtrue)\n",
    ")\n",
    "df_raw = pd.DataFrame({\"vpred\": vpred, \"vtrue\": vtrue, \"method\": \"raw\"})"
   ]
  },
  {
   "cell_type": "markdown",
   "id": "6e07433e-d62e-4d63-8588-2c5d55cefa1e",
   "metadata": {},
   "source": [
    "### Scaled"
   ]
  },
  {
   "cell_type": "code",
   "execution_count": 19,
   "id": "b5fa1273-9549-49bc-a9ab-fbef46826763",
   "metadata": {},
   "outputs": [],
   "source": [
    "class GEMScaleObsWrapper(gym.ObservationWrapper):\n",
    "    def __init__(self, env, hash_dim: Optional[int] = None):\n",
    "        super().__init__(env)\n",
    "        self.hash_dim = hash_dim\n",
    "        \n",
    "        self.obs_space = env.observation_space\n",
    "        self.num_actions = env.action_space.n\n",
    "        self.hash_dim = hash_dim\n",
    "        self.obs_dim = np.size(self.obs_space.high)\n",
    "\n",
    "    def observation(self, obs: Any):\n",
    "        obs_scaled_01 = (obs - self.obs_space.low) / (self.obs_space.high - self.obs_space.low)\n",
    "        return obs_scaled_01"
   ]
  },
  {
   "cell_type": "code",
   "execution_count": 20,
   "id": "a4ecc64b-07c6-4825-8047-f6167246ca76",
   "metadata": {},
   "outputs": [
    {
     "name": "stdout",
     "output_type": "stream",
     "text": [
      "Error - Mean: 6.130393031800668e-16 Max: 7.861413707296508e-16 Min: 4.94627980284526e-16\n",
      "CPU times: user 28.8 s, sys: 21.3 s, total: 50.2 s\n",
      "Wall time: 24.7 s\n"
     ]
    },
    {
     "data": {
      "image/png": "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",
      "text/plain": [
       "<Figure size 600x600 with 1 Axes>"
      ]
     },
     "metadata": {},
     "output_type": "display_data"
    }
   ],
   "source": [
    "%%time\n",
    "rf = StrictWeightedSumOfErrors(\n",
    "    violation_reward=-10,\n",
    ")\n",
    "\n",
    "ge_env = GEMScaleObsWrapper(\n",
    "    GEMObsPreproc(gem.make(\"Finite-CC-PMSM-v0\", reward_function=rf))\n",
    ")\n",
    "\n",
    "ge_buffer, ge_sol = solve_rwe(\n",
    "    ge_env,\n",
    "    num_steps=NUM_STEPS,\n",
    "    sample_size=SAMPLE_SIZE,\n",
    "    delay=2,\n",
    ")\n",
    "\n",
    "errors = []\n",
    "vpred = []\n",
    "vtrue = []\n",
    "for _ in range(10):\n",
    "    ge_eval_X, ge_eval_y = proj_obs_to_rwest_vec(ge_buffer, sample_size=10_000)\n",
    "    rew_yhat = np.matmul(ge_eval_X, ge_sol)\n",
    "    vpred.extend(rew_yhat.tolist())\n",
    "    vtrue.extend(ge_eval_y.tolist())\n",
    "    error = rmse(\n",
    "        v_pred=rew_yhat, \n",
    "        v_true=ge_eval_y,\n",
    "        axis=0\n",
    "    )\n",
    "    errors.append(error)\n",
    "\n",
    "print(\"Error -\", \"Mean:\", np.mean(errors), \"Max:\", np.max(errors), \"Min:\", np.min(errors))\n",
    "rwe_scatterplot(\n",
    "    v_pred=np.array(vpred), \n",
    "    v_true=np.array(vtrue)\n",
    ")\n",
    "df_scaled = pd.DataFrame({\"vpred\": vpred, \"vtrue\": vtrue, \"method\": \"scaled\"})"
   ]
  },
  {
   "cell_type": "markdown",
   "id": "09629f90-4787-4b52-91c5-3187c8a4dff1",
   "metadata": {},
   "source": [
    "### Gaussian"
   ]
  },
  {
   "cell_type": "code",
   "execution_count": 21,
   "id": "a8cef3c6-98e5-4253-83f3-987d17890990",
   "metadata": {},
   "outputs": [],
   "source": [
    "class GEMGaussianMixObsWrapper(gym.ObservationWrapper):\n",
    "    def __init__(self, env, param_grid, steps: int):\n",
    "        super().__init__(env)\n",
    "        buffer = collection_traj_data(env, steps=steps)\n",
    "        self.grid_search = self.gm_proj(buffer, param_grid)\n",
    "        self.estimator = self.grid_search.best_estimator_\n",
    "        print(\"Best estimator:\", self.grid_search.best_estimator_)\n",
    "        self.obs_dim = self.grid_search.best_estimator_.n_components\n",
    "        \n",
    "        self.observation_space = gym.spaces.Box(\n",
    "            low=np.zeros(shape=self.obs_dim, dtype=np.float32), \n",
    "            high=np.ones(shape=self.obs_dim, dtype=np.float32)\n",
    "        )\n",
    "    \n",
    "    def gm_proj(self, buffer, param_grid):\n",
    "        # exclude last state component\n",
    "        obs = np.stack([example[2] for example in buffer])\n",
    "        grid_search = model_selection.GridSearchCV(\n",
    "            mixture.GaussianMixture(), param_grid=param_grid, scoring=self.gmm_bic_score\n",
    "        )\n",
    "        return grid_search.fit(obs)    \n",
    "\n",
    "    def gmm_bic_score(self, estimator, X):\n",
    "        \"\"\"Callable to pass to GridSearchCV that will use the BIC score.\"\"\"\n",
    "        # Make it negative since GridSearchCV expects a score to maximize\n",
    "        return -estimator.bic(X)    \n",
    "\n",
    "    def observation(self, obs):\n",
    "        # Apply to first N dimensions\n",
    "        xs_batch = self.estimator.predict_proba(np.array([obs]))\n",
    "        return xs_batch[0]"
   ]
  },
  {
   "cell_type": "code",
   "execution_count": 22,
   "id": "3ec67b26-74d5-4454-bcbc-9b63bd9f7b26",
   "metadata": {},
   "outputs": [
    {
     "name": "stdout",
     "output_type": "stream",
     "text": [
      "Best estimator: GaussianMixture(covariance_type='diag', n_components=11)\n",
      "Error - Mean: 0.02045683444598436 Max: 0.020901785463819992 Min: 0.02008600689835639\n",
      "CPU times: user 9min 48s, sys: 6min 33s, total: 16min 22s\n",
      "Wall time: 2min 27s\n"
     ]
    },
    {
     "data": {
      "image/png": "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",
      "text/plain": [
       "<Figure size 600x600 with 1 Axes>"
      ]
     },
     "metadata": {},
     "output_type": "display_data"
    }
   ],
   "source": [
    "%%time\n",
    "rf = StrictWeightedSumOfErrors(\n",
    "    violation_reward=-10,\n",
    ")\n",
    "param_grid = {\n",
    "    \"n_components\": range(4, 12),\n",
    "    \"covariance_type\": [\"spherical\", \"tied\", \"diag\", \"full\"],\n",
    "}\n",
    "\n",
    "ge_env = GEMGaussianMixObsWrapper(\n",
    "    GEMObsPreproc(gem.make(\"Finite-CC-PMSM-v0\", reward_function=rf)), \n",
    "    param_grid=param_grid, \n",
    "    steps=100_000,\n",
    ")\n",
    "\n",
    "ge_buffer, ge_sol = solve_rwe(\n",
    "    ge_env,\n",
    "    num_steps=NUM_STEPS,\n",
    "    sample_size=SAMPLE_SIZE,\n",
    "    delay=2,\n",
    ")\n",
    "\n",
    "errors = []\n",
    "vpred = []\n",
    "vtrue = []\n",
    "for _ in range(10):\n",
    "    ge_eval_X, ge_eval_y = proj_obs_to_rwest_vec(ge_buffer, sample_size=10_000)\n",
    "    rew_yhat = np.matmul(ge_eval_X, ge_sol)\n",
    "    vpred.extend(rew_yhat.tolist())\n",
    "    vtrue.extend(ge_eval_y.tolist())\n",
    "    error = rmse(\n",
    "        v_pred=rew_yhat, \n",
    "        v_true=ge_eval_y,\n",
    "        axis=0\n",
    "    )\n",
    "    errors.append(error)\n",
    "\n",
    "print(\"Error -\", \"Mean:\", np.mean(errors), \"Max:\", np.max(errors), \"Min:\", np.min(errors))\n",
    "rwe_scatterplot(\n",
    "    v_pred=np.array(vpred), \n",
    "    v_true=np.array(vtrue)\n",
    ")\n",
    "df_gm = pd.DataFrame({\"vpred\": vpred, \"vtrue\": vtrue, \"method\": \"gm\"})"
   ]
  },
  {
   "cell_type": "markdown",
   "id": "f505eaa7-f49b-4bd6-b4ef-bc7d992abb0b",
   "metadata": {},
   "source": [
    "A disdvantage of Gaussian Mixture as a projection approach is that it requires prior data to fit an estimator.\n",
    "In the case of reward estimation, this same data can be used to first an estimator and then to estimate the rewards using the projected states (not what's happening above).\n",
    "However, for value function approximation, this would have an extra step before value function estimation."
   ]
  },
  {
   "cell_type": "markdown",
   "id": "fbf3e094-525a-4963-a6d2-544ff3818bfe",
   "metadata": {},
   "source": [
    "### Tiling"
   ]
  },
  {
   "cell_type": "code",
   "execution_count": 23,
   "id": "2969fb6d-70cc-4fb1-b36a-654db70ef02d",
   "metadata": {},
   "outputs": [],
   "source": [
    "class GEMTileObsWrapper(gym.ObservationWrapper):\n",
    "    def __init__(self, env, tiling_dim: int, num_tilings: int = None, hash_dim: Optional[int] = None):\n",
    "        super().__init__(env)\n",
    "        self.hash_dim = hash_dim\n",
    "        self.tiles = Tiles(\n",
    "                dims_min=env.observation_space.low,\n",
    "                dims_max=env.observation_space.high,\n",
    "                tiling_dim=tiling_dim,\n",
    "                num_tilings=num_tilings\n",
    "            )\n",
    "        self.observation_space = gym.spaces.Box(\n",
    "            low=np.zeros(shape=self.hash_dim or self.tiles.max_size, dtype=np.float64), \n",
    "            high=np.ones(shape=self.hash_dim or self.tiles.max_size, dtype=np.float64)\n",
    "        )\n",
    "\n",
    "    def observation(self, obs):\n",
    "        xs = self.tiles(obs)\n",
    "        if self.hash_dim:\n",
    "            xs = hashtrick(xs, dim=self.hash_dim)\n",
    "        return xs"
   ]
  },
  {
   "cell_type": "code",
   "execution_count": 24,
   "id": "6933f010-7015-4593-a393-8edecc39e1d5",
   "metadata": {},
   "outputs": [
    {
     "name": "stdout",
     "output_type": "stream",
     "text": [
      "Num tilings 16 \n",
      " Flat dim: 1024\n"
     ]
    },
    {
     "name": "stderr",
     "output_type": "stream",
     "text": [
      "/Users/guilherme/Code/research.phd/drmdp-fnapprox/.venv/lib/python3.11/site-packages/gymnasium/spaces/box.py:235: UserWarning: \u001b[33mWARN: Box low's precision lowered by casting to float32, current low.dtype=float64\u001b[0m\n",
      "  gym.logger.warn(\n",
      "/Users/guilherme/Code/research.phd/drmdp-fnapprox/.venv/lib/python3.11/site-packages/gymnasium/spaces/box.py:305: UserWarning: \u001b[33mWARN: Box high's precision lowered by casting to float32, current high.dtype=float64\u001b[0m\n",
      "  gym.logger.warn(\n"
     ]
    },
    {
     "data": {
      "text/plain": [
       "(Box(0.0, 1.0, (1024,), float32), Discrete(8))"
      ]
     },
     "execution_count": 24,
     "metadata": {},
     "output_type": "execute_result"
    }
   ],
   "source": [
    "ge_env = GEMTileObsWrapper(\n",
    "    GEMObsPreproc(gem.make(\"Finite-CC-PMSM-v0\", reward_function=rf)),\n",
    "    tiling_dim=4\n",
    ")\n",
    "ge_env.observation_space, ge_env.action_space"
   ]
  },
  {
   "cell_type": "code",
   "execution_count": 25,
   "id": "20eefc79-2806-46f0-acdf-b4e1e866d97b",
   "metadata": {},
   "outputs": [
    {
     "name": "stdout",
     "output_type": "stream",
     "text": [
      "Num tilings 16 \n",
      " Flat dim: 2000\n"
     ]
    },
    {
     "data": {
      "text/plain": [
       "Box(0.0, 1.0, (2000,), float32)"
      ]
     },
     "execution_count": 25,
     "metadata": {},
     "output_type": "execute_result"
    }
   ],
   "source": [
    "ge_env = GEMTileObsWrapper(\n",
    "    GEMObsPreproc(gem.make(\"Finite-CC-PMSM-v0\", reward_function=rf)),\n",
    "    tiling_dim=5\n",
    ")\n",
    "ge_env.observation_space"
   ]
  },
  {
   "cell_type": "code",
   "execution_count": 26,
   "id": "4c301dfb-7b38-4ec3-8077-9089f44ecbe0",
   "metadata": {},
   "outputs": [
    {
     "name": "stdout",
     "output_type": "stream",
     "text": [
      "Num tilings 16 \n",
      " Flat dim: 3456\n"
     ]
    },
    {
     "data": {
      "text/plain": [
       "Box(0.0, 1.0, (3456,), float32)"
      ]
     },
     "execution_count": 26,
     "metadata": {},
     "output_type": "execute_result"
    }
   ],
   "source": [
    "ge_env = GEMTileObsWrapper(\n",
    "    GEMObsPreproc(gem.make(\"Finite-CC-PMSM-v0\", reward_function=rf)),\n",
    "    tiling_dim=6\n",
    ")\n",
    "ge_env.observation_space"
   ]
  },
  {
   "cell_type": "code",
   "execution_count": 27,
   "id": "4b654679-af5b-4c9b-9299-46b05c6fb359",
   "metadata": {},
   "outputs": [
    {
     "name": "stdout",
     "output_type": "stream",
     "text": [
      "Num tilings 16 \n",
      " Flat dim: 5488\n"
     ]
    },
    {
     "data": {
      "text/plain": [
       "Box(0.0, 1.0, (5488,), float32)"
      ]
     },
     "execution_count": 27,
     "metadata": {},
     "output_type": "execute_result"
    }
   ],
   "source": [
    "ge_env = GEMTileObsWrapper(\n",
    "    GEMObsPreproc(gem.make(\"Finite-CC-PMSM-v0\", reward_function=rf)),\n",
    "    tiling_dim=7\n",
    ")\n",
    "ge_env.observation_space"
   ]
  },
  {
   "cell_type": "code",
   "execution_count": 28,
   "id": "ec8a8c01-2ea9-4bcf-bb14-c21cabd18956",
   "metadata": {},
   "outputs": [
    {
     "name": "stdout",
     "output_type": "stream",
     "text": [
      "Num tilings 16 \n",
      " Flat dim: 8192\n"
     ]
    },
    {
     "data": {
      "text/plain": [
       "Box(0.0, 1.0, (8192,), float32)"
      ]
     },
     "execution_count": 28,
     "metadata": {},
     "output_type": "execute_result"
    }
   ],
   "source": [
    "ge_env = GEMTileObsWrapper(\n",
    "    GEMObsPreproc(gem.make(\"Finite-CC-PMSM-v0\", reward_function=rf)),\n",
    "    tiling_dim=8\n",
    ")\n",
    "ge_env.observation_space"
   ]
  },
  {
   "cell_type": "code",
   "execution_count": 29,
   "id": "91d332a6-be70-4bbb-a10d-a7ef1fa93ab9",
   "metadata": {
    "scrolled": true
   },
   "outputs": [
    {
     "name": "stdout",
     "output_type": "stream",
     "text": [
      "Num tilings 16 \n",
      " Flat dim: 1024\n",
      "Error - Mean: 0.18779245940630154 Max: 0.24463500989187198 Min: 0.10816981958710563\n",
      "CPU times: user 1min 22s, sys: 27.4 s, total: 1min 49s\n",
      "Wall time: 40.6 s\n"
     ]
    },
    {
     "data": {
      "image/png": "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",
      "text/plain": [
       "<Figure size 600x600 with 1 Axes>"
      ]
     },
     "metadata": {},
     "output_type": "display_data"
    }
   ],
   "source": [
    "%%time\n",
    "rf = StrictWeightedSumOfErrors(\n",
    "    violation_reward=-10,\n",
    ")\n",
    "\n",
    "ge_env = GEMTileObsWrapper(\n",
    "    GEMObsPreproc(gem.make(\"Finite-CC-PMSM-v0\", reward_function=rf)),\n",
    "    tiling_dim=4,\n",
    "    # actual size is 1024\n",
    "    # will be multipled by 8 (actions)\n",
    "    # so we scaled down to become 1024 after the product\n",
    "    hash_dim=128\n",
    ")\n",
    "\n",
    "\n",
    "ge_buffer, ge_sol = solve_rwe(\n",
    "    ge_env,\n",
    "    num_steps=NUM_STEPS,\n",
    "    sample_size=SAMPLE_SIZE,\n",
    "    delay=2,\n",
    ")\n",
    "\n",
    "errors = []\n",
    "vpred = []\n",
    "vtrue = []\n",
    "for _ in range(10):\n",
    "    ge_eval_X, ge_eval_y = proj_obs_to_rwest_vec(ge_buffer, sample_size=10_000)\n",
    "    rew_yhat = np.matmul(ge_eval_X, ge_sol)\n",
    "    vpred.extend(rew_yhat.tolist())\n",
    "    vtrue.extend(ge_eval_y.tolist())\n",
    "    error = rmse(\n",
    "        v_pred=rew_yhat, \n",
    "        v_true=ge_eval_y,\n",
    "        axis=0\n",
    "    )\n",
    "    errors.append(error)\n",
    "\n",
    "print(\"Error -\", \"Mean:\", np.mean(errors), \"Max:\", np.max(errors), \"Min:\", np.min(errors))\n",
    "rwe_scatterplot(\n",
    "    v_pred=np.array(vpred), \n",
    "    v_true=np.array(vtrue)\n",
    ")\n",
    "df_tiles_4d = pd.DataFrame({\"vpred\": vpred, \"vtrue\": vtrue, \"method\": \"tiles[D4]\"})"
   ]
  },
  {
   "cell_type": "code",
   "execution_count": 30,
   "id": "5d411097-cd8f-483f-b175-fd85e47deb9d",
   "metadata": {},
   "outputs": [
    {
     "name": "stdout",
     "output_type": "stream",
     "text": [
      "Num tilings 16 \n",
      " Flat dim: 8192\n"
     ]
    },
    {
     "name": "stderr",
     "output_type": "stream",
     "text": [
      "/Users/guilherme/Code/research.phd/drmdp-fnapprox/.venv/lib/python3.11/site-packages/gymnasium/spaces/box.py:235: UserWarning: \u001b[33mWARN: Box low's precision lowered by casting to float32, current low.dtype=float64\u001b[0m\n",
      "  gym.logger.warn(\n",
      "/Users/guilherme/Code/research.phd/drmdp-fnapprox/.venv/lib/python3.11/site-packages/gymnasium/spaces/box.py:305: UserWarning: \u001b[33mWARN: Box high's precision lowered by casting to float32, current high.dtype=float64\u001b[0m\n",
      "  gym.logger.warn(\n"
     ]
    },
    {
     "name": "stdout",
     "output_type": "stream",
     "text": [
      "Error - Mean: 0.17382220766972295 Max: 0.24287986918655802 Min: 0.11743478401343303\n",
      "CPU times: user 1h 31s, sys: 12min 56s, total: 1h 13min 28s\n",
      "Wall time: 9min 55s\n"
     ]
    },
    {
     "data": {
      "image/png": "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",
      "text/plain": [
       "<Figure size 600x600 with 1 Axes>"
      ]
     },
     "metadata": {},
     "output_type": "display_data"
    }
   ],
   "source": [
    "%%time\n",
    "rf = StrictWeightedSumOfErrors(\n",
    "    violation_reward=-10,\n",
    ")\n",
    "\n",
    "ge_env = GEMTileObsWrapper(\n",
    "    GEMObsPreproc(gem.make(\"Finite-CC-PMSM-v0\", reward_function=rf)),\n",
    "    tiling_dim=8,\n",
    "    hash_dim=1024\n",
    ")\n",
    "\n",
    "\n",
    "ge_buffer, ge_sol = solve_rwe(\n",
    "    ge_env,\n",
    "    num_steps=NUM_STEPS,\n",
    "    sample_size=SAMPLE_SIZE,\n",
    "    delay=2,\n",
    ")\n",
    "\n",
    "errors = []\n",
    "vpred = []\n",
    "vtrue = []\n",
    "for _ in range(10):\n",
    "    ge_eval_X, ge_eval_y = proj_obs_to_rwest_vec(ge_buffer, sample_size=10_000)\n",
    "    rew_yhat = np.matmul(ge_eval_X, ge_sol)\n",
    "    vpred.extend(rew_yhat.tolist())\n",
    "    vtrue.extend(ge_eval_y.tolist())\n",
    "    error = rmse(\n",
    "        v_pred=rew_yhat, \n",
    "        v_true=ge_eval_y,\n",
    "        axis=0\n",
    "    )\n",
    "    errors.append(error)\n",
    "\n",
    "print(\"Error -\", \"Mean:\", np.mean(errors), \"Max:\", np.max(errors), \"Min:\", np.min(errors))\n",
    "rwe_scatterplot(\n",
    "    v_pred=np.array(vpred), \n",
    "    v_true=np.array(vtrue)\n",
    ")\n",
    "df_tiles_8d = pd.DataFrame({\"vpred\": vpred, \"vtrue\": vtrue, \"method\": \"tiles[D8]\"})"
   ]
  },
  {
   "cell_type": "markdown",
   "id": "d3702dfd-e7bd-4ef4-ac73-cdd236ba7036",
   "metadata": {},
   "source": [
    "## Conclusions"
   ]
  },
  {
   "cell_type": "markdown",
   "id": "48367c53-8c48-47af-a73b-8d1e5935cca9",
   "metadata": {},
   "source": [
    "### Results Overview"
   ]
  },
  {
   "cell_type": "code",
   "execution_count": 31,
   "id": "5cbfe809-3524-46ee-8ae2-ea0a34225e11",
   "metadata": {},
   "outputs": [],
   "source": [
    "df_results = pd.concat([\n",
    "    df_raw,\n",
    "    df_scaled,\n",
    "    df_gm,\n",
    "    df_tiles_4d,\n",
    "    df_tiles_8d,\n",
    "])\n",
    "df_results[\"delta\"] = df_results[\"vtrue\"] - df_results[\"vpred\"]"
   ]
  },
  {
   "cell_type": "code",
   "execution_count": 32,
   "id": "f30f87f4-5806-4354-aeae-9b6158d7d441",
   "metadata": {},
   "outputs": [
    {
     "data": {
      "text/html": [
       "<div>\n",
       "<style scoped>\n",
       "    .dataframe tbody tr th:only-of-type {\n",
       "        vertical-align: middle;\n",
       "    }\n",
       "\n",
       "    .dataframe tbody tr th {\n",
       "        vertical-align: top;\n",
       "    }\n",
       "\n",
       "    .dataframe thead th {\n",
       "        text-align: right;\n",
       "    }\n",
       "</style>\n",
       "<table border=\"1\" class=\"dataframe\">\n",
       "  <thead>\n",
       "    <tr style=\"text-align: right;\">\n",
       "      <th></th>\n",
       "      <th>vpred</th>\n",
       "      <th>vtrue</th>\n",
       "      <th>method</th>\n",
       "      <th>delta</th>\n",
       "    </tr>\n",
       "  </thead>\n",
       "  <tbody>\n",
       "    <tr>\n",
       "      <th>0</th>\n",
       "      <td>-0.323088</td>\n",
       "      <td>-0.323088</td>\n",
       "      <td>raw</td>\n",
       "      <td>-4.440892e-16</td>\n",
       "    </tr>\n",
       "    <tr>\n",
       "      <th>1</th>\n",
       "      <td>-0.322540</td>\n",
       "      <td>-0.322540</td>\n",
       "      <td>raw</td>\n",
       "      <td>-7.771561e-16</td>\n",
       "    </tr>\n",
       "    <tr>\n",
       "      <th>2</th>\n",
       "      <td>-0.402527</td>\n",
       "      <td>-0.402527</td>\n",
       "      <td>raw</td>\n",
       "      <td>-1.054712e-15</td>\n",
       "    </tr>\n",
       "    <tr>\n",
       "      <th>3</th>\n",
       "      <td>-0.239449</td>\n",
       "      <td>-0.239449</td>\n",
       "      <td>raw</td>\n",
       "      <td>-1.665335e-15</td>\n",
       "    </tr>\n",
       "    <tr>\n",
       "      <th>4</th>\n",
       "      <td>-0.156709</td>\n",
       "      <td>-0.156709</td>\n",
       "      <td>raw</td>\n",
       "      <td>3.053113e-16</td>\n",
       "    </tr>\n",
       "    <tr>\n",
       "      <th>...</th>\n",
       "      <td>...</td>\n",
       "      <td>...</td>\n",
       "      <td>...</td>\n",
       "      <td>...</td>\n",
       "    </tr>\n",
       "    <tr>\n",
       "      <th>99995</th>\n",
       "      <td>-0.165798</td>\n",
       "      <td>-0.196877</td>\n",
       "      <td>tiles[D8]</td>\n",
       "      <td>-3.107922e-02</td>\n",
       "    </tr>\n",
       "    <tr>\n",
       "      <th>99996</th>\n",
       "      <td>-0.100788</td>\n",
       "      <td>-0.149467</td>\n",
       "      <td>tiles[D8]</td>\n",
       "      <td>-4.867878e-02</td>\n",
       "    </tr>\n",
       "    <tr>\n",
       "      <th>99997</th>\n",
       "      <td>-0.179614</td>\n",
       "      <td>-0.102803</td>\n",
       "      <td>tiles[D8]</td>\n",
       "      <td>7.681100e-02</td>\n",
       "    </tr>\n",
       "    <tr>\n",
       "      <th>99998</th>\n",
       "      <td>-0.123391</td>\n",
       "      <td>-0.110847</td>\n",
       "      <td>tiles[D8]</td>\n",
       "      <td>1.254338e-02</td>\n",
       "    </tr>\n",
       "    <tr>\n",
       "      <th>99999</th>\n",
       "      <td>-0.138710</td>\n",
       "      <td>-0.144344</td>\n",
       "      <td>tiles[D8]</td>\n",
       "      <td>-5.634498e-03</td>\n",
       "    </tr>\n",
       "  </tbody>\n",
       "</table>\n",
       "<p>500000 rows × 4 columns</p>\n",
       "</div>"
      ],
      "text/plain": [
       "          vpred     vtrue     method         delta\n",
       "0     -0.323088 -0.323088        raw -4.440892e-16\n",
       "1     -0.322540 -0.322540        raw -7.771561e-16\n",
       "2     -0.402527 -0.402527        raw -1.054712e-15\n",
       "3     -0.239449 -0.239449        raw -1.665335e-15\n",
       "4     -0.156709 -0.156709        raw  3.053113e-16\n",
       "...         ...       ...        ...           ...\n",
       "99995 -0.165798 -0.196877  tiles[D8] -3.107922e-02\n",
       "99996 -0.100788 -0.149467  tiles[D8] -4.867878e-02\n",
       "99997 -0.179614 -0.102803  tiles[D8]  7.681100e-02\n",
       "99998 -0.123391 -0.110847  tiles[D8]  1.254338e-02\n",
       "99999 -0.138710 -0.144344  tiles[D8] -5.634498e-03\n",
       "\n",
       "[500000 rows x 4 columns]"
      ]
     },
     "execution_count": 32,
     "metadata": {},
     "output_type": "execute_result"
    }
   ],
   "source": [
    "df_results"
   ]
  },
  {
   "cell_type": "code",
   "execution_count": 33,
   "id": "146018cb-da54-4e0d-9a03-0b6402e62980",
   "metadata": {},
   "outputs": [
    {
     "name": "stderr",
     "output_type": "stream",
     "text": [
      "/Users/guilherme/Code/research.phd/drmdp-fnapprox/.venv/lib/python3.11/site-packages/seaborn/_base.py:949: FutureWarning: When grouping with a length-1 list-like, you will need to pass a length-1 tuple to get_group in a future version of pandas. Pass `(name,)` instead of `name` to silence this warning.\n",
      "  data_subset = grouped_data.get_group(pd_key)\n",
      "/Users/guilherme/Code/research.phd/drmdp-fnapprox/.venv/lib/python3.11/site-packages/seaborn/_base.py:949: FutureWarning: When grouping with a length-1 list-like, you will need to pass a length-1 tuple to get_group in a future version of pandas. Pass `(name,)` instead of `name` to silence this warning.\n",
      "  data_subset = grouped_data.get_group(pd_key)\n",
      "/Users/guilherme/Code/research.phd/drmdp-fnapprox/.venv/lib/python3.11/site-packages/seaborn/_base.py:949: FutureWarning: When grouping with a length-1 list-like, you will need to pass a length-1 tuple to get_group in a future version of pandas. Pass `(name,)` instead of `name` to silence this warning.\n",
      "  data_subset = grouped_data.get_group(pd_key)\n",
      "/Users/guilherme/Code/research.phd/drmdp-fnapprox/.venv/lib/python3.11/site-packages/seaborn/_base.py:949: FutureWarning: When grouping with a length-1 list-like, you will need to pass a length-1 tuple to get_group in a future version of pandas. Pass `(name,)` instead of `name` to silence this warning.\n",
      "  data_subset = grouped_data.get_group(pd_key)\n",
      "/Users/guilherme/Code/research.phd/drmdp-fnapprox/.venv/lib/python3.11/site-packages/seaborn/_base.py:949: FutureWarning: When grouping with a length-1 list-like, you will need to pass a length-1 tuple to get_group in a future version of pandas. Pass `(name,)` instead of `name` to silence this warning.\n",
      "  data_subset = grouped_data.get_group(pd_key)\n",
      "/Users/guilherme/Code/research.phd/drmdp-fnapprox/.venv/lib/python3.11/site-packages/seaborn/_base.py:949: FutureWarning: When grouping with a length-1 list-like, you will need to pass a length-1 tuple to get_group in a future version of pandas. Pass `(name,)` instead of `name` to silence this warning.\n",
      "  data_subset = grouped_data.get_group(pd_key)\n"
     ]
    },
    {
     "data": {
      "image/png": "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",
      "text/plain": [
       "<Figure size 640x480 with 1 Axes>"
      ]
     },
     "metadata": {},
     "output_type": "display_data"
    }
   ],
   "source": [
    "ax = sns.histplot(data=df_results, x=\"delta\", hue=\"method\", bins=50, log_scale=True)\n",
    "_ = ax.set_title(\"$\\delta = (r-\\hat{r})$, Log Scale\")"
   ]
  },
  {
   "cell_type": "markdown",
   "id": "11e4deaa-609a-4158-86c8-60b8e17d8f13",
   "metadata": {},
   "source": [
    "  - Results, by order of performance: raw or scaled > Gaussian Mixture > Tiling\n",
    "  - Raw features and input scaling work equally well on the task of reward estimation\n",
    "  - Most of the errors with Tiling and Gaussian Mixture can be attributed to states that violate the constraints of the problem, for which there is a high fixed penalty\n",
    "    - This violation is indicated by a variable, $c \\in [0, 1]$, which gets dilluted by both methods.\n",
    "    - Note that we tested Tiling using the Hashing Trick, since the dimensions of the output vectors is considerably high."
   ]
  }
 ],
 "metadata": {
  "kernelspec": {
   "display_name": "Python 3 (ipykernel)",
   "language": "python",
   "name": "python3"
  },
  "language_info": {
   "codemirror_mode": {
    "name": "ipython",
    "version": 3
   },
   "file_extension": ".py",
   "mimetype": "text/x-python",
   "name": "python",
   "nbconvert_exporter": "python",
   "pygments_lexer": "ipython3",
   "version": "3.11.11"
  }
 },
 "nbformat": 4,
 "nbformat_minor": 5
}
