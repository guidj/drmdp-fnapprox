{
 "cells": [
  {
   "cell_type": "markdown",
   "id": "77fd02d1-537b-414e-a046-be9dde9dd530",
   "metadata": {},
   "source": [
    "# Estimating Rewards for GEM Environments"
   ]
  },
  {
   "cell_type": "markdown",
   "id": "fa0d1ed2-b21e-4905-9bb9-184d29fd00ba",
   "metadata": {},
   "source": [
    "Our aim is to carry out RL tasks when rewards are delayed (aggregate, and anonymous), using linear function approximation.\n",
    "To solve this problem, we aim to project both large discrete states and continuous states into basis vectors.\n",
    "\n",
    "\n",
    "In this notebook, we explore state representation approaches to estimate rewards for [GEM environments](https://github.com/upb-lea/gym-electric-motor).\n",
    "These environments have continuous states and discrete actions (there are continuous actions options as well, which are outside of scope).\n",
    "\n",
    "The states rewards are a linear function of $(s,s')$. As such, we change the buffer from earlier notebooks from $(s,a,r)$ to $(s,a,s',r)$.\n",
    "\n",
    "The test the following techniques:\n",
    "\n",
    "  - Raw\n",
    "  - Scaled (0 to 1)  \n",
    "  - Gaussian\n",
    "  - Tiling"
   ]
  },
  {
   "cell_type": "code",
   "execution_count": 1,
   "id": "96def89d-da64-421c-9fa7-4e7c383cac5c",
   "metadata": {},
   "outputs": [],
   "source": [
    "import copy\n",
<<<<<<< HEAD
<<<<<<< HEAD
    "import functools\n",
    "import itertools\n",
    "import math\n",
    "from typing import Any, Optional"
=======
    "import itertools\n",
    "import math\n",
    "import functools\n",
    "from typing import Optional, Any"
>>>>>>> 18cdc51 (Add notebok on reward est for GEM environments)
=======
    "import functools\n",
    "import itertools\n",
    "import math\n",
    "from typing import Any, Optional"
>>>>>>> fabfcfb (Fixes formatting)
   ]
  },
  {
   "cell_type": "code",
   "execution_count": 2,
   "id": "294d273e-aa6e-40b5-9cd3-e44c87415250",
   "metadata": {},
   "outputs": [],
   "source": [
<<<<<<< HEAD
<<<<<<< HEAD
    "import gym_electric_motor as gem\n",
    "import gymnasium as gym\n",
    "import numpy as np\n",
    "import pandas as pd\n",
=======
    "import gymnasium as gym\n",
    "import numpy as np\n",
    "import pandas as pd\n",
    "from scipy import linalg\n",
    "import gym_electric_motor as gem\n",
>>>>>>> 18cdc51 (Add notebok on reward est for GEM environments)
=======
    "import gym_electric_motor as gem\n",
    "import gymnasium as gym\n",
    "import numpy as np\n",
    "import pandas as pd\n",
>>>>>>> fabfcfb (Fixes formatting)
    "from gym_electric_motor import reward_functions\n",
    "from sklearn import mixture, model_selection"
   ]
  },
  {
   "cell_type": "code",
   "execution_count": 3,
<<<<<<< HEAD
   "id": "63bc1d62-7fa9-495e-877d-909c4f7fa337",
   "metadata": {},
   "outputs": [],
<<<<<<< HEAD
<<<<<<< HEAD
   "source": []
=======
   "source": [
    "from rlplg.environments import gridworld, redgreen"
   ]
>>>>>>> 18cdc51 (Add notebok on reward est for GEM environments)
=======
   "source": []
>>>>>>> fabfcfb (Fixes formatting)
  },
  {
   "cell_type": "code",
   "execution_count": 4,
=======
>>>>>>> f2b1ad7 (Add WIP notebooks)
   "id": "f40d14be-fe4e-45da-95ed-2ef2504f5abe",
   "metadata": {},
   "outputs": [],
   "source": [
    "import seaborn as sns\n",
    "from matplotlib import pyplot as plt"
   ]
  },
  {
   "cell_type": "markdown",
   "id": "1c7db704-00b1-4cbc-9384-3c343c25365e",
   "metadata": {},
   "source": [
    "## Feature Encoding"
   ]
  },
  {
   "cell_type": "markdown",
   "id": "0bdee5cc-32d1-41f8-a521-e93d72d9d913",
   "metadata": {},
   "source": [
    "### Tiling Utils"
   ]
  },
  {
   "cell_type": "code",
   "execution_count": 4,
   "id": "c8d5c2a4-810f-4e6d-becb-913237eee752",
   "metadata": {},
   "outputs": [],
   "source": [
    "\"\"\"\n",
    "Tile Coding Software version 3.0beta\n",
    "by Rich Sutton\n",
    "based on a program created by Steph Schaeffer and others\n",
    "External documentation and recommendations on the use of this code is available in the \n",
    "reinforcement learning textbook by Sutton and Barto, and on the web.\n",
    "These need to be understood before this code is.\n",
    "\n",
    "This software is for Python 3 or more.\n",
    "\n",
    "This is an implementation of grid-style tile codings, based originally on\n",
    "the UNH CMAC code (see http://www.ece.unh.edu/robots/cmac.htm), but by now highly changed. \n",
    "Here we provide a function, \"tiles\", that maps floating and integer\n",
    "variables to a list of tiles, and a second function \"tiles-wrap\" that does the same while\n",
    "wrapping some floats to provided widths (the lower wrap value is always 0).\n",
    "\n",
    "The float variables will be gridded at unit intervals, so generalization\n",
    "will be by approximately 1 in each direction, and any scaling will have \n",
    "to be done externally before calling tiles.\n",
    "\n",
    "Num-tilings should be a power of 2, e.g., 16. To make the offsetting work properly, it should\n",
    "also be greater than or equal to four times the number of floats.\n",
    "\n",
    "The first argument is either an index hash table of a given size (created by (make-iht size)), \n",
    "an integer \"size\" (range of the indices from 0), or nil (for testing, indicating that the tile \n",
    "coordinates are to be returned without being converted to indices).\n",
    "\"\"\"\n",
    "\n",
    "basehash = hash\n",
    "\n",
    "class IHT:\n",
    "    \"Structure to handle collisions\"\n",
    "    def __init__(self, sizeval):\n",
    "        self.size = sizeval                        \n",
    "        self.overfullCount = 0\n",
    "        self.dictionary = {}\n",
    "\n",
    "    def __str__(self):\n",
    "        \"Prepares a string for printing whenever this object is printed\"\n",
    "        return \"Collision table:\" + \\\n",
    "               \" size:\" + str(self.size) + \\\n",
    "               \" overfullCount:\" + str(self.overfullCount) + \\\n",
    "               \" dictionary:\" + str(len(self.dictionary)) + \" items\"\n",
    "\n",
    "    def count(self):\n",
    "        return len(self.dictionary)\n",
    "    \n",
    "    def fullp(self):\n",
    "        return len(self.dictionary) >= self.size\n",
    "    \n",
    "    def getindex(self, obj, readonly=False):\n",
    "        d = self.dictionary\n",
    "        if obj in d:\n",
    "            return d[obj]\n",
    "        elif readonly:\n",
    "            return None\n",
    "        size = self.size\n",
    "        count = self.count()\n",
    "        if count >= size:\n",
    "            # TODO: Fail\n",
    "            if self.overfullCount==0: \n",
    "                print('IHT full, starting to allow collisions')\n",
    "            self.overfullCount += 1\n",
    "            return basehash(obj) % self.size\n",
    "        else:\n",
    "            d[obj] = count\n",
    "            return count\n",
    "\n",
    "def hashcoords(coordinates, m, readonly=False):\n",
    "    if isinstance(m, IHT):\n",
    "        return m.getindex(tuple(coordinates), readonly)\n",
    "    if isinstance(m, int):\n",
    "        return basehash(tuple(coordinates)) % m\n",
    "    if m is None:\n",
    "        return coordinates\n",
    "\n",
    "\n",
    "def tiles (ihtORsize, numtilings, floats, ints=[], readonly=False):\n",
    "    \"\"\"returns num-tilings tile indices corresponding to the floats and ints\"\"\"\n",
    "    qfloats = [math.floor(f*numtilings) for f in floats]\n",
    "    Tiles = []\n",
    "    for tiling in range(numtilings):\n",
    "        tilingX2 = tiling*2\n",
    "        coords = [tiling]\n",
    "        b = tiling\n",
    "        for q in qfloats:\n",
    "            coords.append( (q + b) // numtilings )\n",
    "            b += tilingX2\n",
    "        coords.extend(ints)\n",
    "        Tiles.append(hashcoords(coords, ihtORsize, readonly))\n",
    "    return Tiles\n",
    "\n",
    "def tileswrap (ihtORsize, numtilings, floats, wrapwidths, ints=[], readonly=False):\n",
    "    \"\"\"returns num-tilings tile indices corresponding to the floats and ints, wrapping some floats\"\"\"\n",
    "    qfloats = [math.floor(f*numtilings) for f in floats]\n",
    "    Tiles = []\n",
    "    for tiling in range(numtilings):\n",
    "        tilingX2 = tiling*2\n",
    "        coords = [tiling]\n",
    "        b = tiling\n",
    "        for q, width in itertools.zip_longest(qfloats, wrapwidths):\n",
    "            c = (q + b%numtilings) // numtilings\n",
    "            coords.append(c%width if width else c)\n",
    "            b += tilingX2\n",
    "        coords.extend(ints)\n",
    "        Tiles.append(hashcoords(coords, ihtORsize, readonly))\n",
    "    return Tiles\n",
    "\n"
   ]
  },
  {
   "cell_type": "code",
   "execution_count": 5,
   "id": "bb4b462b-7268-4386-93ab-a66b97a7f19d",
   "metadata": {},
   "outputs": [],
   "source": [
    "def pow2geq(lb):\n",
    "    exp = 1\n",
    "    while True:\n",
    "        rs = np.power(2, exp)\n",
    "        if rs >= lb:\n",
    "            break\n",
    "        exp += 1\n",
    "    return rs"
   ]
  },
  {
   "cell_type": "code",
   "execution_count": 6,
   "id": "8ac3c0c3-7c24-45bb-84b7-c33a282af342",
   "metadata": {},
   "outputs": [],
   "source": [
    "class Tiles:\n",
    "    def __init__(\n",
    "        self, dims_min: np.ndarray, dims_max: np.ndarray, \n",
    "        tiling_dim: int, num_tilings: Optional[int] = None\n",
    "    ):\n",
    "        assert isinstance(dims_min, np.ndarray)\n",
    "        assert isinstance(dims_max, np.ndarray)\n",
    "        self.dims_max = dims_max\n",
    "        self.dims_min = dims_min\n",
    "        self.tiling_dim = tiling_dim\n",
    "        self.wrapwidths = [tiling_dim] * np.size(dims_min)\n",
    "    \n",
    "        # num tilings should a power of 2\n",
    "        # and at least 4 times greater than\n",
    "        # the number of dimensions\n",
    "        self.num_tilings = num_tilings or pow2geq(np.size(dims_min) * 4)\n",
    "        self.max_size = (tiling_dim ** np.size(dims_min)) * self.num_tilings\n",
    "        print(\"Num tilings\", self.num_tilings, \"\\n\", \"Flat dim:\", self.max_size)\n",
    "        self.iht = IHT(self.max_size)\n",
    "\n",
    "    def __call__(self, xs):\n",
    "        xs_scaled_01 = (xs - self.dims_min) / (self.dims_max - self.dims_min)\n",
    "        repr = np.zeros(shape=self.max_size)\n",
    "        idx = tileswrap(\n",
    "            self.iht, \n",
    "            self.num_tilings, \n",
    "            xs_scaled_01 * self.tiling_dim,\n",
    "            self.wrapwidths\n",
    "        )\n",
    "        repr[idx] = 1\n",
    "        return repr    "
   ]
  },
  {
   "cell_type": "code",
   "execution_count": 7,
   "id": "89e9b2e4-1ef5-45ee-ae06-869452940499",
   "metadata": {},
   "outputs": [],
   "source": [
    "def delay_reward_data(buffer, delay: int, sample_size: int):\n",
    "    action = np.stack([example[1] for example in buffer])\n",
    "    reward = np.stack([example[3] for example in buffer])\n",
    "    states = np.concatenate([\n",
    "        np.stack([example[0] for example in buffer]), \n",
    "        np.stack([example[2] for example in buffer])], axis=1)\n",
    "\n",
    "\n",
    "    # repr: (m1,a1)(m2,a1)..\n",
    "    obs_dim = math.floor(states.shape[1] / 2)\n",
    "    mdim = obs_dim * len(np.unique(action)) + obs_dim\n",
    "    \n",
    "    # build samples\n",
    "    mask = np.random.choice(states.shape[0], (sample_size, delay))\n",
    "    delayed_obs = states[mask]  # batch x delay x dim\n",
    "    delayed_act = action[mask]\n",
    "    delayed_rew = np.sum(reward[mask], axis=1)  # batch x delay -> batch\n",
    "\n",
    "    rhat_matrix = np.zeros(shape=(sample_size, mdim))\n",
    "\n",
    "    # TODO: use pandas to speed this up\n",
    "    for i, (states, action) in enumerate(zip(delayed_obs, delayed_act)):\n",
    "        for j in range(delay):\n",
    "            obs, next_obs = states[j][:obs_dim], states[j][obs_dim:]\n",
    "            c = obs_dim * action[j]\n",
    "            rhat_matrix[i, c : c + obs_dim] += obs\n",
    "            rhat_matrix[i, -obs_dim:] += next_obs\n",
    "\n",
    "    return rhat_matrix, delayed_rew"
   ]
  },
  {
   "cell_type": "code",
   "execution_count": 8,
   "id": "68f3b2ea-8920-4cbf-b60a-dc7282781da8",
   "metadata": {},
   "outputs": [],
   "source": [
    "def proj_obs_to_rwest_vec(buffer, sample_size: int):\n",
    "    action = np.stack([example[1] for example in buffer])\n",
    "    reward = np.stack([example[3] for example in buffer])\n",
    "    states = np.concatenate([\n",
    "        np.stack([example[0] for example in buffer]), \n",
    "        np.stack([example[2] for example in buffer])], axis=1)\n",
    "\n",
    "    # repr: (m1,a1)(m2,a1)..\n",
    "    obs_dim = math.floor(states.shape[1] / 2)\n",
    "    mdim = obs_dim * len(np.unique(action)) + obs_dim\n",
    "    \n",
    "\n",
    "    # build samples\n",
    "    mask = np.random.choice(states.shape[0], sample_size)\n",
    "    delayed_obs = states[mask]  # batch x dim\n",
    "    delayed_act = action[mask]\n",
    "    delayed_rew = reward[mask]  # batch x delay -> batch\n",
    "\n",
    "    rhat_matrix = np.zeros(shape=(len(delayed_obs), mdim))\n",
    "\n",
    "    # TODO: use pandas to speed this up\n",
    "    for i, (states, action) in enumerate(zip(delayed_obs, delayed_act)):\n",
    "        obs, next_obs = states[:obs_dim], states[obs_dim:]\n",
    "        c = obs_dim * action\n",
    "        rhat_matrix[i, c : c + obs_dim] += obs\n",
    "        rhat_matrix[i, -obs_dim:] += next_obs\n",
    "\n",
    "    return rhat_matrix, delayed_rew"
   ]
  },
  {
   "cell_type": "markdown",
   "id": "534e7bc1-8ff4-48a1-ad46-a596bf3d9a82",
   "metadata": {},
   "source": [
    "## Reward Estimation"
   ]
  },
  {
   "cell_type": "code",
   "execution_count": 9,
   "id": "afda79b6-d5b8-4d37-b25f-62b6fe11b9fa",
   "metadata": {},
   "outputs": [],
   "source": [
    "def solve_least_squares(matrix: np.ndarray, rhs: np.ndarray) -> np.ndarray:\n",
    "    try:\n",
    "        solution, _, _, _ = np.linalg.lstsq(a=matrix, b=rhs, rcond=None)\n",
    "        return solution  # type: ignore\n",
    "    except np.linalg.LinAlgError as err:\n",
    "        # the computation failed, likely due to the matix being unsuitable (no solution).\n",
    "        raise ValueError(\"Failed to solve linear system\") from err"
   ]
  },
  {
   "cell_type": "code",
   "execution_count": 10,
   "id": "59d6e2d2-d01d-4507-9d37-51d09d9ef9a6",
   "metadata": {},
   "outputs": [],
   "source": [
    "def rmse(v_pred: np.ndarray, v_true: np.ndarray, axis: int):\n",
    "    if np.shape(v_pred) != np.shape(v_true):\n",
    "        raise ValueError(\n",
    "            f\"Tensors have different shapes: {np.shape(v_pred)} != {np.shape(v_true)}\"\n",
    "        )\n",
    "    delta = v_pred - v_true\n",
    "    sq = delta * delta  # np.power(delta, 2)\n",
    "    sqsum = np.sum(sq, axis=axis) / np.shape(v_pred)[axis]\n",
    "    sqsqrt = np.sqrt(sqsum)\n",
    "    return sqsqrt"
   ]
  },
  {
   "cell_type": "code",
   "execution_count": 11,
   "id": "be069c80-71ce-4f52-9aa8-119fd57fe246",
   "metadata": {},
   "outputs": [],
   "source": [
    "def collection_traj_data(env: gym.Env, steps: int):\n",
    "    obs, _ = env.reset()\n",
    "    step = 0\n",
    "    buffer = []\n",
    "    while step < steps:\n",
    "        action = env.action_space.sample()\n",
    "        (\n",
    "            next_obs,\n",
    "            rew,\n",
    "            term,\n",
    "            trunc,\n",
    "            _,\n",
    "        ) = env.step(action)\n",
    "        step += 1\n",
    "        buffer.append((obs, action, next_obs, rew))\n",
    "        obs = next_obs\n",
    "        if term or trunc:\n",
    "            obs, _ = env.reset()\n",
    "    return buffer"
   ]
  },
  {
   "cell_type": "code",
   "execution_count": 12,
   "id": "c02d574b-b801-47c0-bd4b-97a549aebbc1",
   "metadata": {},
   "outputs": [],
   "source": [
    "def solve_rwe(env: gym.Env, num_steps: int, sample_size: int, delay: int):\n",
    "    buffer = collection_traj_data(env, steps=num_steps)\n",
    "    Xd, yd = delay_reward_data(buffer, delay=delay, sample_size=sample_size)\n",
    "    return buffer, solve_least_squares(Xd, yd)"
   ]
  },
  {
   "cell_type": "code",
   "execution_count": 13,
   "id": "fbb51c96-dd50-4120-bba8-5c8b79dbe937",
   "metadata": {},
   "outputs": [],
   "source": [
    "def rwe_scatterplot(v_pred, v_true):\n",
    "    _, ax = plt.subplots(figsize=(6, 6))\n",
    "    df = pd.DataFrame({\n",
    "        \"x\": v_pred,\n",
    "        \"y\": v_true,\n",
    "        \"size\": np.abs(v_pred - v_true)\n",
    "    })\n",
    "    sns.scatterplot(\n",
    "        df, x=\"x\", y=\"y\", size=\"size\", hue=\"size\", s=5, color=\".15\"\n",
    "    )\n",
    "    # sns.histplot(x=v_pred, y=v_true, bins=50, cmap=\"mako\")\n",
    "    # sns.kdeplot(x=v_pred, y=v_true, levels=5, color=\"w\")\n",
    "    ax.set_xlabel(\"yhat\")\n",
    "    ax.set_ylabel(\"ytrue\")\n",
    "    ax.set_title(\"Reward Estimation\")"
   ]
  },
  {
   "cell_type": "code",
   "execution_count": 14,
   "id": "5b71c921-f5eb-45a9-9f90-40541af19038",
   "metadata": {},
   "outputs": [],
   "source": [
    "def hashtrick(xs, dim: int):\n",
    "    ys = np.zeros(dim, dtype=np.int32)\n",
    "    idx,  = np.where(xs == 1)\n",
    "    for i in idx:\n",
    "        ys[i % dim] += 1\n",
    "    return ys"
   ]
  },
  {
   "cell_type": "markdown",
   "id": "88c34679-56cc-4d1d-8472-5c02a3606bd9",
   "metadata": {},
   "source": [
    "## GEM Env"
   ]
  },
  {
   "cell_type": "code",
   "execution_count": 15,
   "id": "350a4f65-5247-4dfe-a0e6-1efc505573df",
   "metadata": {},
   "outputs": [],
   "source": [
    "class StrictWeightedSumOfErrors(reward_functions.WeightedSumOfErrors):\n",
    "    def __init__(\n",
    "        self, reward_weights=None, normed_reward_weights=False, violation_reward=None\n",
    "    ):\n",
    "        super().__init__(\n",
    "            reward_weights,\n",
    "            normed_reward_weights,\n",
    "            violation_reward,\n",
    "            gamma=0.9,\n",
    "            reward_power=1,\n",
    "            bias=0,\n",
    "        )\n",
    "\n",
    "    def reward(self, state, reference, k=None, action=None, violation_degree=0.0):\n",
    "        del k\n",
    "        del action\n",
    "        return (\n",
    "            self._wse_reward(state, reference)\n",
    "            + violation_degree * self._violation_reward\n",
    "        )\n"
   ]
  },
  {
   "cell_type": "code",
   "execution_count": 16,
   "id": "93ee7601-a513-438b-9809-fead4183853f",
   "metadata": {},
   "outputs": [],
   "source": [
    "class GEMObsPreproc(gym.ObservationWrapper):\n",
    "    def __init__(self, env):\n",
    "        super().__init__(env)\n",
    "        self._mask = getattr(env.reference_generator, \"referenced_states\")\n",
    "        state_obs_space, ref_state_obs_space = env.observation_space\n",
    "\n",
    "        self._weights = getattr(env.reward_function, \"_reward_weights\")[self._mask]\n",
    "        self._expo = getattr(env.reward_function, \"_n\")[self._mask]\n",
    "        self._bias = getattr(env.reward_function, \"_bias\")\n",
    "        self._denom = (state_obs_space.high - state_obs_space.low)[self._mask]\n",
    "        self._prev_ref_state = None  # np.zeros_like(state_obs_space.high[self._mask])\n",
    "\n",
    "        bounds = [\n",
    "            np.abs(state_obs_space.high[self._mask] - ref_state_obs_space.low),\n",
    "            np.abs(state_obs_space.high[self._mask] - ref_state_obs_space.high),\n",
    "            np.abs(state_obs_space.low[self._mask] - ref_state_obs_space.high),\n",
    "            np.abs(state_obs_space.low[self._mask] - ref_state_obs_space.low),\n",
    "        ]\n",
    "        obs_space_low = np.concatenate(\n",
    "            [\n",
    "                np.zeros_like(state_obs_space.low[self._mask]) + self._bias,\n",
    "                # constraint violation\n",
    "                np.array([0.0]),\n",
    "            ]\n",
    "        )\n",
    "        obs_space_high = np.concatenate(\n",
    "            [\n",
    "                (functools.reduce(np.maximum, bounds) / self._denom) ** self._expo\n",
    "                + self._bias,\n",
    "                # constraint violation\n",
    "                np.array([1.0]),\n",
    "            ]\n",
    "        )\n",
    "        self.observation_space = gym.spaces.Box(\n",
    "            low=obs_space_low, high=obs_space_high, dtype=state_obs_space.dtype\n",
    "        )\n",
    "        self._cvfn = getattr(self.env.constraint_monitor, \"check_constraints\")\n",
    "\n",
    "    def observation(self, observation):\n",
    "        prev_ref_state = copy.copy(self._prev_ref_state)\n",
    "        next_state, ref_state = observation\n",
    "        cv = self._cvfn(next_state)\n",
    "        next_state = next_state[self._mask]\n",
    "\n",
    "        if prev_ref_state is None:\n",
    "            prev_ref_state = ref_state\n",
    "\n",
    "        wrapped_next_state = np.concatenate(\n",
    "            [\n",
    "                (abs(next_state - prev_ref_state) / self._denom) ** self._expo\n",
    "                + self._bias,\n",
    "                np.array([cv]),\n",
    "            ]\n",
    "        )\n",
    "        self._prev_ref_state = ref_state\n",
    "        return wrapped_next_state"
   ]
  },
  {
   "cell_type": "code",
   "execution_count": 17,
   "id": "1d09690a-2c59-4113-a664-0b3d2cb6379c",
   "metadata": {},
   "outputs": [],
   "source": [
    "NUM_STEPS = 250_000\n",
    "SAMPLE_SIZE = 100_000"
   ]
  },
  {
   "cell_type": "code",
   "execution_count": 18,
   "id": "794ea73d-9f99-43c1-8c9b-fbec021c4fab",
   "metadata": {},
   "outputs": [],
   "source": [
    "# Reward fn\n",
    "reward_fn = StrictWeightedSumOfErrors()"
   ]
  },
  {
   "cell_type": "code",
   "execution_count": 19,
   "id": "15213b78-f706-4fd0-a1ef-9dc4ea275b6c",
   "metadata": {},
   "outputs": [
    {
     "data": {
      "text/plain": [
       "{'_n': 1,\n",
       " '_reward_weights': None,\n",
       " '_state_length': None,\n",
       " '_normed': False,\n",
       " '_gamma': 0.9,\n",
       " '_bias': 0,\n",
       " '_violation_reward': None}"
      ]
     },
     "execution_count": 19,
     "metadata": {},
     "output_type": "execute_result"
    }
   ],
   "source": [
    "vars(reward_fn)"
   ]
  },
  {
   "cell_type": "code",
   "execution_count": 20,
   "id": "56d5a0bd-213b-43fb-bf3f-3cad56b8f3a6",
   "metadata": {},
   "outputs": [
    {
     "data": {
      "text/plain": [
       "(array([0.25373467, 0.03064658, 0.        ]),\n",
       " -0.14219062419203599,\n",
       " False,\n",
       " False,\n",
       " {})"
      ]
     },
     "execution_count": 20,
     "metadata": {},
     "output_type": "execute_result"
    }
   ],
   "source": [
    "ge_env = GEMObsPreproc(gem.make(\"Finite-CC-PMSM-v0\", reward_function=reward_fn))\n",
    "ge_env.reset()\n",
    "ge_env.step(ge_env.action_space.sample())\n"
   ]
  },
  {
   "cell_type": "markdown",
   "id": "882bd68f-f137-4d18-aed2-ad1c230fdca9",
   "metadata": {},
   "source": [
    "### Raw"
   ]
  },
  {
   "cell_type": "code",
   "execution_count": 21,
   "id": "fc0522d6-05f8-4187-8d8d-b2c5425abd53",
   "metadata": {},
   "outputs": [
    {
     "name": "stdout",
     "output_type": "stream",
     "text": [
      "Error - Mean: 1.563422344161137e-15 Max: 1.9699665952478804e-15 Min: 1.1484153817913488e-15\n",
      "CPU times: user 30 s, sys: 21.7 s, total: 51.7 s\n",
      "Wall time: 26.5 s\n"
     ]
    },
    {
     "data": {
      "image/png": "iVBORw0KGgoAAAANSUhEUgAAAh8AAAIjCAYAAACj5XkHAAAAOnRFWHRTb2Z0d2FyZQBNYXRwbG90bGliIHZlcnNpb24zLjEwLjEsIGh0dHBzOi8vbWF0cGxvdGxpYi5vcmcvc2/+5QAAAAlwSFlzAAAPYQAAD2EBqD+naQAAOXNJREFUeJzt3Ql8U1Xe//FfutJSWraWnbKKgggIiiAqCIIICoo4Io+CMow6qKM4aBlR1EfFAceNRxF1BNS/oyKuKCibCooiCEjBsu8tpRRooaX7/b9+ZyaZtpTSQnuSpp/363UJuTlJTi6095uzXZfjOI4AAABYEmDrjQAAABThAwAAWEX4AAAAVhE+AACAVYQPAABgFeEDAABYRfgAAABWET4AAIBVhA8AAGAV4QNApXO5XPL444+LL9B6aH18jS8dI6CyET4AL5o9e7Y56bi3oKAgadKkiYwePVr2798v1cmuXbuKHIvi27PPPlvm18rMzDQn8m+//VZ8yVdffUXAAEQkyNsVACDy5JNPSsuWLSUrK0t++uknE0pWrFgh8fHxUqNGDalORowYIddcc81J+7t06VKu8PHEE0+Yv/fu3bvIY5MmTZK4uDjxVvh45ZVXSgwgJ06cMOETqA74nw74gIEDB0q3bt3M3//4xz9K/fr15e9//7t8/vnnctNNN4mvy8jIkJo1a1bIa1144YXyP//zP1JZ9ATviyf56hYyUb3R7QL4oMsuu8zcbt++vcj+hIQEufHGG6Vu3brmZKWBRQOK29GjRyUwMFBefvllz75Dhw5JQECA1KtXTwpfxPruu++Whg0beu4vX75chg8fLs2bN5fQ0FBp1qyZPPDAA+YbeWHaJRQREWHqpi0UtWrVkpEjR5rHsrOzzXOio6PN/uuuu0727dtX4cdn9erVMmDAABPSwsLCTKvRHXfc4em+0fdX2vrh7rZxtzaUNOZD799zzz0yd+5cad++vXnNHj16yIYNG8zjM2fOlDZt2phjri0p+h6FleXY6XHTVg/3+7m3wnUo3iKydu1aE0wjIyPNMe/bt69pGSup6+6HH36Q8ePHm8+uQfD666+XlJSUCjneQEXzvfgPwHNyq1Onjmffxo0b5dJLLzVjQrTbQE8wH374oQwdOlTmzZtnTja1a9eW888/X77//nu57777zPO0+0ZPTocPH5ZNmzZJhw4dPCdMd8hReuLV7goNJRpUVq1aJdOnTzfhQR8rLC8vz5z8e/XqJc8995yEh4d7Wm3effddueWWW6Rnz56ydOlSGTRoULk+u9ZBA1Nx+tm0xeLgwYPSv39/c5LV46D79Xh9/PHHppzunzFjhvkcekxuuOEGs/+CCy4o9X31eGiQGzdunLk/ZcoUGTx4sDz00EPy6quvyp///Gc5cuSITJ061QQd/WzlOXZ33nmnJCYmyqJFi+Sdd9457XHQf2/999HgoXUIDg42IUjDz3fffSfdu3cvUv7ee+81/18mT55sjseLL75oAtUHH3xQpuMOWOUA8JpZs2ZpU4SzePFiJyUlxdm7d6/z0UcfOdHR0U5oaKi579a3b1+nY8eOTlZWlmdfQUGB07NnT6dt27aefePGjXMaNGjguT9+/Hjn8ssvd2JiYpwZM2aYfampqY7L5XJeeuklT7nMzMyT6jdlyhRTbvfu3Z59o0aNMnWOi4srUnbdunVm/5///Oci+2+55Razf/LkyaUei507d5pyp9pWrlxpyn3yySfm/i+//HLK19Jjear31H3Ff/XpfT3eWge3mTNnmv0NGzZ00tPTPfsnTpxo9hcuW9Zjp/82p/q1W7y+Q4cOdUJCQpzt27d79iUmJjq1atUy/57F/w/169fP/H9we+CBB5zAwEDn6NGjpzxOgLfQ7QL4gH79+plv7Npcr90q2qqh38KbNm1qHtdWC/2mreM/jh07ZloGdEtNTTUtEFu3bvXMjtFvy8nJybJ582bPN/rLL7/c7Ne/u1tD9HxXuOVDuxoKj+HQ19fWCy2nzf/F6bf84oMplbvFxe3+++8v17H405/+ZFoHim/aHaK0pUPNnz9fcnNzpaJol0aLFi08990tC8OGDTNdSMX379ix44yP3enk5+fLN998Y1q1WrVq5dnfqFEj06qk/37p6eknHbfC3Tj6b6uvs3v37nK/P1DZ6HYBfICOBTjnnHMkLS1N3nrrLdNtomMH3LZt22ZOZI8++qjZSqLdEdol4w4UGjQ0vOjJ76mnnjLhRrtI3I9pc36nTp08z9+zZ4889thjJvRo90JhWq/CtPvDHYzc9CSnY0tat25dZH+7du3KdSzatm1rwtipXHHFFSYQ6HiOF154wXRD6ElaT8qFj1l56XiNwqKiosytBsKS9hc+RuU5dmWhYzW0G6ekY3feeedJQUGB7N2719OFVlL93V12xesD+ALCB+ADLr74Ys9sFz2R6lgKPZlq64UONNSTjfrrX/9qWjpKogMiVePGjc0ATA0w+k1eQ4sOntTw8Ze//MWEBA0f+s1cw4LSb8hXXXWVaWF5+OGH5dxzzzWtL9qaogMl3e/vpid593Nt02/3H330kRl4+cUXX8jXX39txmD84x//MPv0eJ0JHahbnv3uwbvlPXaV5XT1BHwJ4QPwMXoS0cGOffr0kf/7v/8zgyrdTe866LC0VgE3bf3Q8KEhpHPnzqbbQFs59Fv7woUL5ddff/Wsg6F0VseWLVtkzpw5ctttt3n2a3dHWcXGxpoTrc6CKfyN3d39U9EuueQSsz399NPy3nvvmRk377//vhn0anMF0/Icu7LWS4OiDuIt6djpjCcNfsVbZICqhDEfgA/SrgRtDdEZC7rwWExMjNmnsx2SkpJOKl98SqWGD53xoDMd3N0wesLS1o7nn3/ejJUoPN7D/a258Ldk/ftLL71U5jrrlFBVeJqv0s9QkbQbofi3eQ1Y7qm+yj37RqceV7byHDv3Wiinq5e+ps7o+eyzz4pM69WxPBq0tGVMu82AqoqWD8BHTZgwwawdoes43HXXXWZciJ50OnbsKGPHjjWtIXoyWrlypZnSuX79es9z3cFCvzk/88wznv068HTBggWm2+Siiy7y7NeuAh2rod062l2gJzadvlue8QIaAHR1Up2WquMcNOgsWbLEjFcpD22V0em6xWn9tPtIWxj0PXQare7TAbhvvPGGqbN7ZVQdAKoDVDV86VgaXRdFpyDrVtHKc+y6du3qGZSr3WcaMm6++eYSX1fH6Wjrif6b6zRfHWej4VMDlk73Bao0r82zAeCZJlnStNH8/HyndevWZsvLyzP7dNrlbbfdZqZ/BgcHO02aNHEGDx5spucWp1Nr9bWTk5M9+1asWGH2XXbZZSeV37Rpk5muGRER4dSvX98ZO3ass379elNe61l4qm3NmjVL/DwnTpxw7rvvPqdevXqmzLXXXmumC1fEVFt9X/Xrr786I0aMcJo3b26mx+rn1GOwevXqIq/3448/Ol27djXTVQu//6mm2uo02JLqM23atCL7ly1bZvbPnTu33MdO/x3vvfdeM5Vap+EWrkdJx0g/64ABA8zrhoeHO3369DGfqyz/h9z11FvA17j0D28HIAAAUH0w5gMAAFhF+AAAAFYRPgAAgFWEDwAAYBXhAwAAWEX4AAAAVrHIWDG6PHRiYqJZjtrmEs0AAFR1unqHLvyn15gq7fpPhI9iNHhwzQQAAM6cXnW5+JWvCyN8FKMtHu4Dx7UTAAAou/T0dPMF3n0uPRXCRzHurhYNHoQPAADK73TDFhhwCgAArCJ8AAAAqwgfAADAKsZ8nME0ory8PMnPz/d2VQDrAgMDJSgoiGnoAM4K4aMccnJyJCkpSTIzM71dFcBrwsPDpVGjRhISEuLtqgCooggf5Vh8bOfOneabny6eor94+faH6tbqpwE8JSXF/Cy0bdu21EWEAOBUCB9lpL90NYDo/GX95gdUR2FhYRIcHCy7d+82PxM1atTwdpUAVEF8bSknvumhuuNnAMDZ4rcIAACwivABAACsInzAZ40ePVqGDh3q7WoAACoYA07hs1566SUzwwIA4F8IH/BZUVFR3q4CAKAS0O0Cr/voo4+kY8eOZhpnvXr1pF+/fpKRkVGk22XXrl1mXZXiW+/evT2vs2LFCrnsssvM6+iU6Pvuu8+8DgDAt/hl+HjllVekRYsWZg2C7t27y6pVq7xdJZyCrhg7YsQIueOOO+T333+Xb7/9Vm644YaTuls0TGhZ97Z27VoTVC6//HLz+Pbt2+Xqq6+WYcOGyW+//SYffPCBCSP33HOPlz4ZAPiu3Oxsyc3NlezsLK+8v991u+hJZ/z48fLaa6+Z4PHiiy/KgAEDZPPmzRITE+Pt6qEYDRJ6rRwNHLGxsWaftoIUpyvLNmzY0Pw9KyvLtIj06NFDHn/8cbNvypQpMnLkSLn//vvNfV198+WXX5YrrrhCZsyYwWJYAPAfOcfTJT/rhEiBI4E1wiQ7L19Ca9YUm/yu5eP555+XsWPHyu233y7t27c3IURXJH3rrbe8XTWUoFOnTtK3b18TOIYPHy5vvPGGHDlypNTnaCvJsWPH5L333vMseLV+/XqZPXu2REREeDYNne5l8QGgunP0EgkZ6ZJ96KBkJSfKiQP7JGPfTnHl50rOiRNW6+JXLR+63POaNWtk4sSJnn16ctIxBCtXrizxOdnZ2WZzS09Pt1JX/LdFY9GiRfLjjz/KN998I9OnT5dHHnlEfv755xLLP/XUU/L111+brrRatWp59h8/flzuvPNOM86juObNm1fqZwAAX5eRkSHBToE4eXkSEllbgmvXlbz0o5Jz9LDkZRyX4Hp2LxviV+Hj0KFD5lL3DRo0KLJf7yckJJT4HG2uf+KJJyzVECXRgaOXXnqp2R577DHT/fLJJ5+cVG7evHny5JNPyoIFC6R169ZFHrvwwgtl06ZN0qZNG4s1B4AqEjwK8iU/Swfg6wVRXVJwIkOCa9WW3Ixj4jgF4hK7yxr4XbdLeWkrSVpammfbu3evt6tUrWgLxzPPPCOrV6+WPXv2yMcff2yumnreeecVKRcfHy+33XabPPzww9KhQwc5cOCA2Q4fPmwe1/3aeqIDTNetWydbt26Vzz77jAGnAKq1DA0e+bmSsXu7nEjaLyeS9klBTpYEBIeK4+RLSK0oCaoZKUEhoVbr5Vfho379+qYZPzk5uch+ve8erFhcaGioREZGFtlgjx7v77//Xq655ho555xzZNKkSfKPf/xDBg4cWKSchpPMzEzT7dKoUSPPpgNV1QUXXCDfffedbNmyxUy37dKli2lFady4sZc+GQD4QPAQR3LSjhbZn52aoiNAxOUKkODIOlIQHGK9bi7Hz5aQ1BkuF198sRk7oHTAofb56zfguLi40z5fx3zo4lbaClI4iOgMCx242LJlS2ZOoFrjZwGoOi0eWYeSxcnNleDI2pKfnSW56f8OImENGktQeITkBQRKWAXOdDnVOdSvx3wonWY7atQo6datmwkhOtVW/xF09gsAAP4uMzNTgvNy5fjubTrFxezTqbU1ohtKXmCQOPl5ZoptXmCghIXbnWLrt+HjD3/4gxkzoE3uOiagc+fOsnDhwpMGoQIA4J8tHnmSl3ncEzzcdGaLtoAE1awp+UEhXgsefhk+lHaxMNAQAFDtWjzyc00rhyvo5NO7KzBQQurWk3yXtnjYnVpbLcIHAADVSWbGcQnKy5Pju7aZwaQ1YhqZAKLrerjpvgJXgNeDhyJ8AABQhWVqV4tL5MQhnen5766WrJQDJmwoHXAaFFFLCkLDfCJ4+N1UWwAAqlvwCMzLkbyMDHHycv/7gOOYJdRVcFQdcUJr+EzwUIQPAACqoBMZGRKUlyv5GcdF8vMkpF70SWV0VktBUJDU8OLg0pLQ7QIAQBUMHgG52XJ89w5PV4u2cIQ1bmYuHOcKCDDdLk5IDanhQy0eboQPL9CFz5ITD0p2Vo6E1giRBo1jPFdnBQCgNFmZmRLkFMjxxD2e4KFy045IUI0wCa0f8+8FxMTlU10thRE+LNKL3v2+YYss+vI7+fi9LyU7O0dCQ0Nk2MjB0u+ay+W8jueY5eEBAChJlo7tyDgmubm5ZiBpcU5BgelqyQ8IkLAw3wweiq/bFoPHd4tWytg/jJd/zfrEBA+lt++99bGMvflB+W7xSlOusrzyyivSokULsyS2LkOvl6Uvzdy5c+Xcc8815Tt27ChfffVVkcd1ZX5dzE2vsRIWFib9+vUzF3QrTC/8NnLkSLPMbu3atWXMmDFy/PjxImV+++03cz0WfZ9mzZrJ1KlTqYuP1QWAbwQPV062ZO7dLXmZGRIUFnFSmaDwmuIEh0gNHw4ehl7bBf+VlpambVjmtrATJ044mzZtMrdnYsPaTc4l51ztXNS6/ym3S9oNNOUqw/vvv++EhIQ4b731lrNx40Zn7NixTu3atZ3k5OQSy//www9OYGCgM3XqVPO5J02a5AQHBzsbNmzwlHn22WedqKgo59NPP3XWr1/vXHfddU7Lli2LHKOrr77a6dSpk/PTTz85y5cvd9q0aeOMGDHC87ge5wYNGjgjR4504uPjnX/9619OWFiYM3PmTOriI3Up7mx/FgCUX9bxdCfryGEnY/8e59DqlWbLTNrvHN280Uldt8o5HP+rcyI1xcnKOO744jm0OMKHhfCRn5/vPP/UjFKDh3t74enXTPmKdvHFFzvjxo0rUqfGjRs7U6ZMKbH8TTfd5AwaNKjIvu7duzt33nmn+XtBQYHTsGFDZ9q0aZ7Hjx496oSGhpoTpdLjpcfyl19+8ZRZsGCB43K5nP3795v7r776qlOnTh0nOzvbU+bhhx922rVrR118pC7FET4Au05kHHdOHEpxju3c5mTs3+sJH7qlbU1wMvbvdrLT053M48e8XdUyhw+6XSzQwaU6xqMs5v2/+ZKcqJc7rjg5OTmyZs0a0+TupgNc9f7KlStLfI7uL1xeDRgwwFNer2qq184pXEavZKjdOe4yeqvN+HqRPzctr+/9888/e8pcfvnlEhISUuR9Nm/eLEeOHKEuPlAXAN6TrbNa8vPMomE5aUfNhIUaDRsXGWTqCgyWgsAACat5cjeMryJ8WKCzWtxjPE5bNlvLZlfo+x86dMiMJSl+cT29ryenkuj+0sq7b09XJiYmpsjjQUFBUrdu3SJlSnqNwu9BXbxbFwDekZNxTCQ3W078Z7GwgtwccXRzRMIaNZWwhk0kotU5EhBRy+fW8TgdwocFOp1WZ7WUqWyolg2t9DoBAHxXdmaGFGRnS276UbOIWEjtOv/en5oiOakpUpCTLYE1I8QJCZXQKtTi4Ub4sEDX8bjhlkFlKqvTbhs0PnmVurNRv359M4U3OVnX/f8vvd+wYcMSn6P7Syvvvj1dmYMHDxZ5PC8vz8yuKFympNco/B7Uxbt1AWBXfk6OOTlrl4q4XGafdrmEN20uwbUiJSA0VIIio0SCg6RGzarV4uFG+LBA+8+vGnSFBAaVvoaHPq7rfVT0gmM6bqBr166yZMkSzz7tN9T7PXr0KPE5ur9webVo0SJP+ZYtW5qTU+Ey6enpZpyAu4zeHj161Iw3cVu6dKl5bx134C7z/fffmznrhd+nXbt2UqfOv5M+dfFuXQDYlZ+dJU5+vjgFjgQGh4q4AqQgK/Pf12oJCDAhxBUWLqE1a0mVZW0IbDWfapuXl+csWbDcTKc91TTbpQuXm3KVNdVWZznMnj3bfI4//elPZqrtgQMHzOO33nqrExcXV2QaZ1BQkPPcc885v//+uzN58uQSp3Hqa3z22WfOb7/95gwZMqTEaZxdunRxfv75Z2fFihVO27Zti0zj1NkXOqVU31+nlGo9w8PDT5pSSl28V5fimO0CVK6s1EPOicOpTmZykpO6brWTkbTPOb53p3Nszw4n60iqc+K4d6fTloaptj4WPpQGC13HQ6fT9mo/2IQOvX3hmZlmf2UFD7fp06c7zZs3N+t96NRbXdfB7YorrnBGjRpVpPyHH37onHPOOaZ8hw4dnC+//LLI4zqV89FHHzUnSQ02ffv2dTZv3lykTGpqqjmRRUREOJGRkc7tt9/uHDtWdDqYrj/Rq1cv8xpNmjQxJ8ziqIt361IY4QOoXFlHDjlHt/7uZKWlmQCSvn2Lk75zm5N1+JBzwgem01ZE+HDpH95uffEl2iyt0xHT0tLMio9uWVlZZuqiNmXrapJnf22XFDOrRQeX6hgPru2CqqIifxYAnCw345jkZ2VL9uFDElo/WgKCQ8yF4gp0UoKPz2o51Tm0OK7t4gUaNBo1LTr9EQAAFaxjORyX1IiO0bER4nIcCQytIcF+dO0vwgcAAD4mOKLqTZ8tD9r6AQCAVYQPAABgFeGjnBifi+qOnwEAZ4vwUUbBwcHmNjMz09tVAbzK/TPg/pkAgPJiwGkZ6fLkevVP91LU4eHh4vrPsrdAdWnx0OChPwP6s6A/EwBwJggf5eC+1kXxa2EA1YkGD677AuBsED7KQVs6GjVqZC5BXviaG0B1oV0ttHgAOFuEjzOgv3z5BQwAwJlhwCkAALCK8AEAAKwifAAAAKsIHwAAwCrCBwAAsIrwAQAArCJ8AAAAqwgfAADAKsIHAACwivABAACsInwAAACrCB8AAMAqwgcAALCK8AEAAKwifAAAAKsIHwAAwCrCBwAAsIrwAQAArCJ8AAAAqwgfAADAKsIHAACwivABAACsInwAAACrCB8AAMAqwgcAALCK8AEAAKwifAAAAKsIHwAAwCrCBwAAsIrwAQAArCJ8AAAAqwgfAADAKsIHAACwivABAACsInwAAACrCB8AAMAqwgcAALCK8AEAAKwifAAAAKsIHwAAwCrCBwAAsMpvwseuXbtkzJgx0rJlSwkLC5PWrVvL5MmTJScnx9tVAwAAhQSJn0hISJCCggKZOXOmtGnTRuLj42Xs2LGSkZEhzz33nLerBwAA/sPlOI4jfmratGkyY8YM2bFjR5mfk56eLlFRUZKWliaRkZGVWj8AAPxJWc+hftPyURL98HXr1i21THZ2ttkKHzgAAFB5/GbMR3Hbtm2T6dOny5133llquSlTppiU5t6aNWtmrY4AAFRHPh8+4uLixOVylbrpeI/C9u/fL1dffbUMHz7cjPsozcSJE00LiXvbu3dvJX8iAACqN58f85GSkiKpqamllmnVqpWEhISYvycmJkrv3r3lkksukdmzZ0tAQPnyFWM+AACo5mM+oqOjzVYW2uLRp08f6dq1q8yaNavcwQMAAFQ+nw8fZaXBQ1s8YmNjzdRabTFxa9iwoVfrBgAA/DB8LFq0yAwy1a1p06ZFHvPxniUAAKoVv+mXGD16tAkZJW0AAMB3+E34AAAAVQPhAwAAWEX4AAAAVhE+AACAVYQPAABgFeEDAABYRfgAAABWET4AAIBVhA8AAGAV4QMAAFhF+AAAAFYRPgAAgFWEDwAAYBXhAwAAWEX4AAAAVhE+AACAVYQPAABgFeEDAABYRfgAAABWET4AAIBVhA8AAGAV4QMAAFhF+AAAAFYRPgAAgFWEDwAAYBXhAwAAWEX4AAAAVhE+AACAVYQPAABgFeEDAABYRfgAAABWET4AAIBVhA8AAGAV4QMAAFhF+AAAAFYRPgAAgFWEDwAAYBXhAwAAWEX4AAAAVhE+AACAVYQPAABgFeEDAABYRfgAAABWET4AAIBVhA8AAGAV4QMAAFhF+AAAAFYRPgAAgFWEDwAAYBXhAwAAWEX4AAAAVhE+AACAVYQPAABgFeEDAABYRfgAAABWET4AAIBVhA8AAGAV4QMAAFhF+AAAAFYRPgAAgFWEDwAAYBXhAwAAWEX4AAAAVhE+AACAVYQPAABgFeEDAABYRfgAAABWET4AAIBVhA8AAGCVX4aP7Oxs6dy5s7hcLlm3bp23qwMAAPw9fDz00EPSuHFjb1cDAACUwO/Cx4IFC+Sbb76R5557rsytJOnp6UU2AABQefwqfCQnJ8vYsWPlnXfekfDw8DI9Z8qUKRIVFeXZmjVrVun1BACgOvOb8OE4jowePVruuusu6datW5mfN3HiRElLS/Nse/furdR6AgBQ3fl8+IiLizMDR0vbEhISZPr06XLs2DETJsojNDRUIiMji2wAAKDyuBxtMvBhKSkpkpqaWmqZVq1ayU033SRffPGFCSNu+fn5EhgYKCNHjpQ5c+aU6f10zId2v2grCEEEAICyK+s51OfDR1nt2bOnyGDRxMREGTBggHz00UfSvXt3adq0aZleh/ABAMCZKes5NEj8RPPmzYvcj4iIMLetW7cuc/AAAACVz+fHfAAAAP/iNy0fxbVo0cLMgAEAAL6Flg8AAGAV4QMAAFhF+AAAAFYRPgAAgFWEDwAAYBXhAwAAWEX4AAAAVhE+AACAVYQPAABgFeEDAABYRfgAAABWET4AAIBVhA8AAGAV4QMAAFhF+AAAAFYRPgAAgFWEDwAAYBXhAwAAWEX4AAAAVhE+AACAVYQPAABgFeEDAABYRfgAAABWET4AAIBVhA8AAGAV4QMAAFhF+AAAAFUnfGRlZVVcTQAAQLVQ7vBRUFAg//u//ytNmjSRiIgI2bFjh9n/6KOPyj//+c/KqCMAAKjO4eOpp56S2bNny9SpUyUkJMSz//zzz5c333yzousHAACqe/h4++235fXXX5eRI0dKYGCgZ3+nTp0kISGhousHAACqe/jYv3+/tGnTpsTumNzc3IqqFwAA8FPlDh/t27eX5cuXn7T/o48+ki5dulRUvQAAgJ8KKu8THnvsMRk1apRpAdHWjo8//lg2b95sumPmz59fObUEAADVt+VjyJAh8sUXX8jixYulZs2aJoz8/vvvZt9VV11VObUEAAB+w+U4juPtSviS9PR0iYqKkrS0NImMjPR2dQAA8LtzKCucAgAA3x7zERAQIC6X65SP5+fnn22dAACAHyt3+Pjkk0+K3NfptWvXrpU5c+bIE088UZF1AwAAfqjCxny899578sEHH8hnn30mVRljPgAAqCJjPi655BJZsmRJRb0cAADwUxUSPk6cOCEvv/yyudgcAABAhY75qFOnTpEBp9prc+zYMQkPD5d33323vC8HAACqmXKHjxdffPGk2S/R0dHSvXt3E0wAAAAqLHzk5eXJ7t275Y477pCmTZuW56kAAADlH/MRFBQk06ZNMyEEAADAyoDTK6+8Ur777rszejMAAIByj/kYOHCgxMXFyYYNG6Rr167m4nKFXXfddRVZPwAAUN0XGdMBpqd8MZeryi+vziJjAABU7jm03C0fBQUFZ1glAACAMxjz8fbbb0t2dvZJ+3NycsxjAAAAFdrtEhgYKElJSRITE1Nkf2pqqtlHtwsAANVTemVd20WzSuEVTt327dtn3hAAAKA0ZR7z0aVLFxM6dOvbt69Z88NNWzt27twpV199dVlfDgAAVFNlDh9Dhw41t+vWrZMBAwZIRESE57GQkBBp0aKFDBs2rHJqCQAAqu+Yj+bNm8ubb74p/fv3F3/EmA8AAHxszMeFF14ogwcPlrZt28ozzzwjiYmJZ1hFAABQHZU7fHz66aeyf/9+ufvuu+WDDz6Q2NhYs+rp3LlzJTc3t3JqCQAAqm/4UNHR0TJ+/HhZv369/Pzzz9KmTRu57bbbpHHjxvLAAw/I1q1bK76mAACg+oYPN13vY9GiRWbT9T+uueYac82X9u3bywsvvFBxtQQAANU3fGjXyrx588y4D+1y0e6W+++/34z9mDNnjixevFg+/PBDefLJJyunxgAAoEor97VdGjVqZK7vMmLECFm1apV07tz5pDJ9+vSR2rVrV1QdAQBAdQ4f2p0yfPhwqVGjxinLaPDQRccAAADOOnzceuut5X0KAABAxQw4BQAAKC/CBwAAsIrwAQAArCJ8AAAAq/wufHz55ZfSvXt3CQsLkzp16niuxgsAAKrobBdfpoufjR071lzw7sorr5S8vDyJj4/3drUAAIA/hg8NGn/5y19k2rRpMmbMGM9+XeodAAD4Dr/pdvn111/N1XYDAgKkS5cuZiVWvdru6Vo+srOzJT09vcgGAAAqj9+Ejx07dpjbxx9/XCZNmiTz5883Yz569+4thw8fPuXzpkyZIlFRUZ6tWbNmFmsNAED14/PhIy4uTlwuV6lbQkKCud6MeuSRR2TYsGHStWtXmTVrlnlcL353KhMnTpS0tDTPtnfvXoufDgCA6sfnx3w8+OCDMnr06FLLtGrVSpKSkk4a4xEaGmoe27Nnzymfq2V0AwAAdvh8+IiOjjbb6WhLh4aIzZs3S69evcy+3Nxc2bVrl8TGxlqoKQAA8IvwUVaRkZFy1113yeTJk824DQ0cOvNF6VV4AQCAb/Cb8KE0bAQFBZkr7544ccIsNrZ06VIz8BQAAPgGl+M4jrcr4Ut0qq3OetHBp9qaAgAAKvYc6vOzXQAAgH8hfAAAAKsIHwAAwCrCBwAAsIrwAQAArCJ8AAAAqwgfAADAKsIHAACwivABAACsInwAAACrCB8AAMAqwgcAALCK8AEAAKwifAAAAKsIHwAAwCrCBwAAsIrwAQAArCJ8AAAAqwgfAADAKsIHAACwivABAACsInwAAACrCB8AAMAqwgcAALCK8AEAAKwifAAAAKsIHwAAwCrCBwAAsIrwAQAArCJ8AAAAqwgfAADAKsIHAACwivABAACsInwAAACrCB8AAMAqwgcAALCK8AEAAKwifAAAAKsIHwAAwCrCBwAAsIrwAQAArCJ8AAAAqwgfAADAKsIHAACwivABAACsInwAAACrCB8AAMAqwgcAALCK8AEAAKwifAAAAKsIHwAAwCrCBwAAsIrwAQAArCJ8AAAAqwgfAADAKsIHAACwivABAACsInwAAACrCB8AAMAqwgcAALCK8AEAAKwifAAAAKsIHwAAwCrCBwAAsIrwAQAArCJ8AAAAqwgfAADAKsIHAACwivABAACs8qvwsWXLFhkyZIjUr19fIiMjpVevXrJs2TJvVwsAAPhr+Bg8eLDk5eXJ0qVLZc2aNdKpUyez78CBA96uGgAA8LfwcejQIdm6davExcXJBRdcIG3btpVnn31WMjMzJT4+3tvVAwAA/hY+6tWrJ+3atZO3335bMjIyTAvIzJkzJSYmRrp27XrK52VnZ0t6enqRDQAAVJ4g8RMul0sWL14sQ4cOlVq1aklAQIAJHgsXLpQ6deqc8nlTpkyRJ554wmpdAQCozny+5UO7UTRYlLYlJCSI4zgybtw4EziWL18uq1atMkHk2muvlaSkpFO+/sSJEyUtLc2z7d271+rnAwCgunE5etb2YSkpKZKamlpqmVatWpnA0b9/fzly5IiZ6eKmYz/GjBljQkxZaLdLVFSUCSKFXwcAAFTMOdTnu12io6PNdjo6sFRpd0ther+goKDS6gcAAPys26WsevToYcZ2jBo1StavX2/W/JgwYYLs3LlTBg0a5O3qAQAAfwsfurCYDi49fvy4XHnlldKtWzdZsWKFfPbZZ2a9DwAA4Bt8fsyHbYz5AACgcs+hftPyAQAAqgbCBwAAsIrwAQAArCJ8AAAAqwgfAADAKsIHAACwivABAACsInwAAACrCB8AAMAqwgcAALCK8AEAAKwifAAAAKsIHwAAwCrCBwAAsIrwAQAArCJ8AAAAqwgfAADAKsIHAACwivABAACsInwAAACrCB8AAMAqwgcAALCK8AEAAKwifAAAAKsIHwAAwCrCBwAAsIrwAQAArCJ8AAAAqwgfAADAKsIHAACwivABAACsInwAAACrCB8AAMAqwgcAALCK8AEAAKwifAAAAKsIHwAAwCrCBwAAsIrwAQAArCJ8AAAAqwgfAADAKsIHAACwivABAACsInwAAACrCB8AAMAqwgcAALCK8AEAAKwifAAAAKsIHwAAwCrCBwAAsIrwAQAArCJ8AAAAqwgfAADAKsIHAACwivABAACsInwAAACrCB8AAMAqwgcAALCK8AEAAKwifAAAAKsIHwAAwCrCBwAAsIrwAQAArCJ8AAAAqwgfAADAKsIHAACwivABAACsInwAAACrCB8AAMCqKhM+nn76aenZs6eEh4dL7dq1SyyzZ88eGTRokCkTExMjEyZMkLy8POt1BQAApxYkVUROTo4MHz5cevToIf/85z9Pejw/P98Ej4YNG8qPP/4oSUlJctttt0lwcLA888wzXqkzAAA4mctxHEeqkNmzZ8v9998vR48eLbJ/wYIFMnjwYElMTJQGDRqYfa+99po8/PDDkpKSIiEhIWV6/fT0dImKipK0tDSJjIwUb9u/N0n27U4U/WeqU7e2tGjdTEJrhHq7WgAAnPE5tMq0fJzOypUrpWPHjp7goQYMGCB33323bNy4Ubp06VLi87Kzs81W+MD5goSN22TZ1ytk7jufy7H042afy+WSy668REbd9Qfp2OU8cx8AgKqmyoz5OJ0DBw4UCR7KfV8fO5UpU6aYlObemjVrJt62acNm2b5lpzRr0VgemHSn3PvwHyWiVk3T+vH9kpVy18gJ8vOKNd6uJgAAVS98xMXFmW/vpW0JCQmVWoeJEyea5iH3tnfvXvGm9WviZcWyn+W5p1+Vvz3wtDwy/hl5558fysixw+Svk/9sjkluTq7E3fOU7Nm1z6t1BQDgTHi12+XBBx+U0aNHl1qmVatWZXotHWi6atWqIvuSk5M9j51KaGio2XzB+rUb5W8PPCN7d+8vsj/5QIq8PPUNadUmVh6b+ld5YsI0yTieKfHrNkvzFk29Vl8AAKpc+IiOjjZbRdBZMDod9+DBg2aarVq0aJEZ8NK+fXvxdZvit8jXXyyTS3tfLLk5ebJm1XrZtX1PkTI7tu2Wz+ctkGuH9Zcv5n0jX3++VK4Z2tdrdQYAwK/HfOgaHuvWrTO3Oq1W/67b8eP/HozZv39/EzJuvfVWWb9+vXz99dcyadIkGTdunM+0bJzKhrWbZOP6BFn90zr5Yt7XsvTr76XDBe3knr+OkfM7nVuk7E8r1kjXnp3M348fz5CCggIv1RoAgDNTZWa7PPbYYzJnzhzPfffslWXLlknv3r0lMDBQ5s+fb2a3aCtIzZo1ZdSoUfLkk0+KL1u7eoM8+uCzRcZvZIjIl58sMn+/edT1El4zTFb9uNbz+L49iRIaGiKt27aQgIAqkx8BAKha4UPX99CtNLGxsfLVV19JVfHb2k0yeULR4FHc+3M+kT8/cLts/G2zGeehDqcelZoR4XLZld0t1hYAgIrB12YviV+fYMZ07Npx+hkr896fL9cM6ee5X7dubWnXoY10vND3x7IAAFBlWz78ia7jcezoMVk4f2mZyicnpUj96Lqe+63axkrPyy+S2nWiKrGWAABUDsKHZZs2bJGEDVslPe2YtDu3jXS8oL0uci+LF34vWxN2nPJ5ubn/vkBej8u6SavWsdK6XUuLtQYAoOLQ7WLR7/FbzKyWxP0HJP3YcQkJDZbMzBPyxdxvTAgZdvPgUz7XFeAyA0zvnTCW4AEAqNJo+bDk1182yKvP/7PIrBUVGVVLbvqfIbJl4w7RS7X0G3i5LF7wfZEywSHB0u681nLFlT1PmnoLAEBVQ8uHBevWxMuDdz92UvBQ2v3y5ivvSoPG9SU97bic1+Gck8pcf9M1EtuimVzAAFMAgB8gfFSyTb9tMdNlU1MOl1pu7nufy6V9LpI1P/0mF/X47xV425zTQq4dNsDMbgEAwB/Q7VKJEjZuldRDh+Xr+cvKVH7P7v1y5HCaXNi9o5mKe+Mt18qAwX3kgi60eAAA/Afho5KsXR0vLz71mnTr2dksB18Wurx69x5d5aJLOkufqy6VuvXrSBsGlwIA/AzdLpVg/Zp4c+VZnVZbHnm5edKkWSNxHJHI2pEEDwCAXyJ8VLD9e5Nk7S/xsn9PkmemSlm1bBMrzVs0lgaNouVcxngAAPwU4aOCHT50ROa+87nn/raEnXLe+SfPYClJ76sulaaxTeT8zkynBQD4L8JHBUo7mi7H0jPk4IFDnn0rlv4kg6/vf9qrz3a6sIN07nY+wQMA4PcIHxVIVystLj+/QOb9v/ly74Q/SmhoSInPu6hnF3lo8r3SoWM7C7UEAMC7mO1SgQIDA82S6a3PaSHbt+zy7NfxHx/O+VxG/+lmySvIl/VrNkp2VrY0a9FUrujXU2JbNJH2BA8AQDVBy0cFqle/jul2uWHEoBLHgsye8YHMnfOFuApcElkrUvr2v0xiY5sSPAAA1Qrho4JbPjSANI1tJBf16FxiGW3x+O3XTRISEizNWzaR9heUbTAqAAD+gvBRwdqe18pcsfaWMTfKjSMHnzTVVsd9/GHUUBn7l1ulXXum0wIAqh+X4+iSVnBLT0+XqKgoSUtLk8jIyDN6jcyMTFm3eqMEBgVIbk6eJO1PlpzsHKkRVkNiWzaVmEbR0rxFkwqvOwAAVeEcyoDTShBeM1x6XnGRHE49Knt27ZO2ES0lMChI6tavbVYwBQCgOiN8VKK69WqbDQAA/BdjPgAAgFWEDwAAYBXhAwAAWEX4AAAAVhE+AACAVYQPAABgFeEDAABYRfgAAABWET4AAIBVhA8AAGAV4QMAAFhF+AAAAFYRPgAAgFVc1bYYx3HMbXp6urerAgBAleI+d7rPpadC+Cjm2LFj5rZZs2bergoAAFX2XBoVFXXKx13O6eJJNVNQUCCJiYlSq1Ytcblc4qvJUsPR3r17JTIy0tvVqZI4hmeH43f2OIZnh+Pnm8dPI4UGj8aNG0tAwKlHdtDyUYwerKZNm0pVoP9h+KE7OxzDs8PxO3scw7PD8fO941dai4cbA04BAIBVhA8AAGAV4aMKCg0NlcmTJ5tbnBmO4dnh+J09juHZ4fhV7ePHgFMAAGAVLR8AAMAqwgcAALCK8AEAAKwifAAAAKsIH1XM008/LT179pTw8HCpXbt2iWX27NkjgwYNMmViYmJkwoQJkpeXZ72uVcWWLVtkyJAhUr9+fbPYTq9evWTZsmXerlaV8uWXX0r37t0lLCxM6tSpI0OHDvV2laqk7Oxs6dy5s1lded26dd6uTpWwa9cuGTNmjLRs2dL8/2vdurWZxZGTk+Ptqvm0V155RVq0aCE1atQwP7urVq2y+v6EjypGf6CGDx8ud999d4mP5+fnm+Ch5X788UeZM2eOzJ49Wx577DHrda0qBg8ebMLZ0qVLZc2aNdKpUyez78CBA96uWpUwb948ufXWW+X222+X9evXyw8//CC33HKLt6tVJT300ENmWWqUXUJCgrksxsyZM2Xjxo3ywgsvyGuvvSZ/+9vfvF01n/XBBx/I+PHjTUj79ddfze+8AQMGyMGDB+1VQqfaouqZNWuWExUVddL+r776ygkICHAOHDjg2TdjxgwnMjLSyc7OtlxL35eSkqJTzZ3vv//esy89Pd3sW7RokVfrVhXk5uY6TZo0cd58801vV6XK05/dc88919m4caP5/7d27VpvV6nKmjp1qtOyZUtvV8NnXXzxxc64ceM89/Pz853GjRs7U6ZMsVYHWj78zMqVK6Vjx47SoEEDzz5NtHoRIf1WgKLq1asn7dq1k7ffflsyMjJMC4h+g9Luqq5du3q7ej5PvzXt37/fXBOpS5cu0qhRIxk4cKDEx8d7u2pVSnJysowdO1beeecd012Ks5OWliZ169b1djV8Uk5Ojmnh7devn2ef/vzqfT1/2EL48DPaVVA4eCj3fboRTqZ964sXL5a1a9eaKxlr/+fzzz8vCxcuNGMXULodO3aY28cff1wmTZok8+fPN8etd+/ecvjwYW9Xr0rQdR5Hjx4td911l3Tr1s3b1anytm3bJtOnT5c777zT21XxSYcOHTLd8yWdJ2yeIwgfPiAuLs6cBEvbtF8TFX9M9Rf/uHHjTEvH8uXLzaArHSx57bXXSlJSklRXZT1+2teuHnnkERk2bJhpLZo1a5Z5fO7cuVKdlfUY6olSL0E+ceJEb1e5yv9e1Fa4q6++2oyL05Yk+K4gb1cAIg8++KD55lOaVq1alem1GjZseNKoZW3SdT9WXZT1mOogU/22fuTIEc9lpV999VVZtGiRGayrvwCro7IeP3dAa9++vWe/XitCH9NZV9VZef4PanN38WtsaCvIyJEjzf/D6qi8vxcTExOlT58+Zjbg66+/bqGGVVP9+vUlMDDQc15w0/s2zxGEDx8QHR1ttorQo0cPMx1XRy3rt3mlJ1I9sRY+Qfi7sh7TzMxMT59nYXrf/a2+Oirr8dOWDj1pbt682UxRVrm5uWb6Y2xsrFRnZT2GL7/8sjz11FNFTqI6TktnJOgUyOqqPL8XtcVDg4e75a34zzP+KyQkxBynJUuWeKbE6+86vX/PPfeILYSPKka/TWpfut5qv517LYA2bdpIRESE9O/f34QMnfo4depU04enffHatcDVH0sOazpGYdSoUWY6sq4T8MYbb8jOnTvNlGWUTkOtjlXQKXvNmjUzgWPatGnmMW36xuk1b968yH39OVa6XkXTpk29VKuqQ4OHjjHS/3vPPfecpKSkeB6rTq295aHTbPV3nrauXXzxxfLiiy+aAfc6Xd4aa/NqUCFGjRplpuEV35YtW+Yps2vXLmfgwIFOWFiYU79+fefBBx80UyJRsl9++cXp37+/U7duXadWrVrOJZdcYqY9omxycnLM/7GYmBhz/Pr16+fEx8d7u1pV1s6dO5lqW85lB0r6ncjprXTTp093mjdv7oSEhJiptz/99JNjk0v/sBd1AABAdUfHGAAAsIrwAQAArCJ8AAAAqwgfAADAKsIHAACwivABAACsInwAAACrCB8AAMAqwgcAn/P4449L586dvV0NAJWE8AHAL+nF7fSy6+7rHwHwHYQPAABgFeEDgHVvv/221KtXT7Kzs4vs10t86xWZ3d555x1p0aKFREVFyc033yzHjh3zPLZw4ULp1auX1K5d27zW4MGDZfv27Z7HW7ZsaW67dOliWkD0yqcAfAPhA4B1w4cPl/z8fPn88889+w4ePChffvml3HHHHea+BolPP/1U5s+fb7bvvvtOnn32WU95vQS4Xhp89erVsmTJEgkICJDrr79eCgoKzOOrVq0yt4sXL5akpCT5+OOPrX9OACUjfACwLiwsTG655RaZNWuWZ9+7774rzZs397RQaIiYPXu2nH/++XLZZZeZFhENGW7Dhg2TG264Qdq0aWMGp7711luyYcMG2bRpk3k8Ojra3GqrSMOGDaVu3brWPyeAkhE+AHjF2LFj5ZtvvpH9+/eb+xo0Ro8ebbpIlHa31KpVy1O+UaNGpnXEbevWrTJixAhp1aqVREZGmvJqz5491j8LgPIJKmd5AKgQOhajU6dOZvxH//79ZePGjabbxS04OLhIeQ0l7i4Vde2110psbKy88cYb0rhxY/OYtpLk5ORY/RwAyo/wAcBr/vjHP8qLL75oWj/69esnzZo1K9PzUlNTZfPmzSZ4aJeMWrFiRZEyISEh5lbHlgDwLXS7APAaHfexb98+EyLcA03Lok6dOmYsx+uvvy7btm2TpUuXmsGnhcXExJixJTorJjk5WdLS0irhEwA4E4QPAF6jU2h14GhERISZZltWOrPl/ffflzVr1piulgceeECmTZtWpExQUJC8/PLLMnPmTNMtM2TIkEr4BADOhMtxHOeMngkAFaBv377SoUMHExQAVA+EDwBeceTIEfn222/lxhtvNNNj27Vr5+0qAbCEAacAvDbbRQPI3//+d4IHUM3Q8gEAAKxiwCkAALCK8AEAAKwifAAAAKsIHwAAwCrCBwAAsIrwAQAArCJ8AAAAqwgfAABAbPr/PTkho5Tmnr0AAAAASUVORK5CYII=",
      "text/plain": [
       "<Figure size 600x600 with 1 Axes>"
      ]
     },
     "metadata": {},
     "output_type": "display_data"
    }
   ],
   "source": [
    "%%time\n",
    "ge_env = GEMObsPreproc(gem.make(\"Finite-CC-PMSM-v0\", reward_function=reward_fn))\n",
    "\n",
    "ge_buffer, ge_sol = solve_rwe(\n",
    "    ge_env,\n",
    "    num_steps=NUM_STEPS,\n",
    "    sample_size=SAMPLE_SIZE,\n",
    "    delay=2,\n",
    ")\n",
    "\n",
    "errors = []\n",
    "vpred = []\n",
    "vtrue = []\n",
    "for _ in range(10):\n",
    "    ge_eval_X, ge_eval_y = proj_obs_to_rwest_vec(ge_buffer, sample_size=10_000)\n",
    "    rew_yhat = np.matmul(ge_eval_X, ge_sol)\n",
    "    vpred.extend(rew_yhat.tolist())\n",
    "    vtrue.extend(ge_eval_y.tolist())\n",
    "    error = rmse(\n",
    "        v_pred=rew_yhat, \n",
    "        v_true=ge_eval_y,\n",
    "        axis=0\n",
    "    )\n",
    "    errors.append(error)\n",
    "\n",
    "print(\"Error -\", \"Mean:\", np.mean(errors), \"Max:\", np.max(errors), \"Min:\", np.min(errors))\n",
    "rwe_scatterplot(\n",
    "    v_pred=np.array(vpred), \n",
    "    v_true=np.array(vtrue)\n",
    ")\n",
    "df_raw = pd.DataFrame({\"vpred\": vpred, \"vtrue\": vtrue, \"method\": \"raw\"})"
   ]
  },
  {
   "cell_type": "markdown",
   "id": "6e07433e-d62e-4d63-8588-2c5d55cefa1e",
   "metadata": {},
   "source": [
    "### Scaled"
   ]
  },
  {
   "cell_type": "code",
   "execution_count": 22,
   "id": "b5fa1273-9549-49bc-a9ab-fbef46826763",
   "metadata": {},
   "outputs": [],
   "source": [
    "class GEMScaleObsWrapper(gym.ObservationWrapper):\n",
    "    def __init__(self, env, hash_dim: Optional[int] = None):\n",
    "        super().__init__(env)\n",
    "        self.hash_dim = hash_dim\n",
    "        \n",
    "        self.obs_space = env.observation_space\n",
    "        self.num_actions = env.action_space.n\n",
    "        self.hash_dim = hash_dim\n",
    "        self.obs_dim = np.size(self.obs_space.high)\n",
    "\n",
    "    def observation(self, obs: Any):\n",
    "        obs_scaled_01 = (obs - self.obs_space.low) / (self.obs_space.high - self.obs_space.low)\n",
    "        return obs_scaled_01"
   ]
  },
  {
   "cell_type": "code",
   "execution_count": 23,
   "id": "a4ecc64b-07c6-4825-8047-f6167246ca76",
   "metadata": {},
   "outputs": [
    {
     "name": "stdout",
     "output_type": "stream",
     "text": [
      "Error - Mean: 1.156078799510098e-15 Max: 1.479525693544939e-15 Min: 9.491638696223653e-16\n",
      "CPU times: user 29.8 s, sys: 20.8 s, total: 50.6 s\n",
      "Wall time: 26.1 s\n"
     ]
    },
    {
     "data": {
      "image/png": "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",
      "text/plain": [
       "<Figure size 600x600 with 1 Axes>"
      ]
     },
     "metadata": {},
     "output_type": "display_data"
    }
   ],
   "source": [
    "%%time\n",
    "ge_env = GEMScaleObsWrapper(\n",
    "    GEMObsPreproc(gem.make(\"Finite-CC-PMSM-v0\", reward_function=reward_fn))\n",
    ")\n",
    "\n",
    "ge_buffer, ge_sol = solve_rwe(\n",
    "    ge_env,\n",
    "    num_steps=NUM_STEPS,\n",
    "    sample_size=SAMPLE_SIZE,\n",
    "    delay=2,\n",
    ")\n",
    "\n",
    "errors = []\n",
    "vpred = []\n",
    "vtrue = []\n",
    "for _ in range(10):\n",
    "    ge_eval_X, ge_eval_y = proj_obs_to_rwest_vec(ge_buffer, sample_size=10_000)\n",
    "    rew_yhat = np.matmul(ge_eval_X, ge_sol)\n",
    "    vpred.extend(rew_yhat.tolist())\n",
    "    vtrue.extend(ge_eval_y.tolist())\n",
    "    error = rmse(\n",
    "        v_pred=rew_yhat, \n",
    "        v_true=ge_eval_y,\n",
    "        axis=0\n",
    "    )\n",
    "    errors.append(error)\n",
    "\n",
    "print(\"Error -\", \"Mean:\", np.mean(errors), \"Max:\", np.max(errors), \"Min:\", np.min(errors))\n",
    "rwe_scatterplot(\n",
    "    v_pred=np.array(vpred), \n",
    "    v_true=np.array(vtrue)\n",
    ")\n",
    "df_scaled = pd.DataFrame({\"vpred\": vpred, \"vtrue\": vtrue, \"method\": \"scaled\"})"
   ]
  },
  {
   "cell_type": "markdown",
   "id": "09629f90-4787-4b52-91c5-3187c8a4dff1",
   "metadata": {},
   "source": [
    "### Gaussian"
   ]
  },
  {
   "cell_type": "code",
   "execution_count": 24,
   "id": "a8cef3c6-98e5-4253-83f3-987d17890990",
   "metadata": {},
   "outputs": [],
   "source": [
    "class GEMGaussianMixObsWrapper(gym.ObservationWrapper):\n",
    "    def __init__(self, env, param_grid, steps: int):\n",
    "        super().__init__(env)\n",
    "        buffer = collection_traj_data(env, steps=steps)\n",
    "        self.grid_search = self.gm_proj(buffer, param_grid)\n",
    "        self.estimator = self.grid_search.best_estimator_\n",
    "        print(\"Best estimator:\", self.grid_search.best_estimator_)\n",
    "        self.obs_dim = self.grid_search.best_estimator_.n_components\n",
    "        \n",
    "        self.observation_space = gym.spaces.Box(\n",
    "            low=np.zeros(shape=self.obs_dim, dtype=np.float32), \n",
    "            high=np.ones(shape=self.obs_dim, dtype=np.float32)\n",
    "        )\n",
    "    \n",
    "    def gm_proj(self, buffer, param_grid):\n",
    "        # exclude last state component\n",
    "        obs = np.stack([example[2] for example in buffer])\n",
    "        grid_search = model_selection.GridSearchCV(\n",
    "            mixture.GaussianMixture(), param_grid=param_grid, scoring=self.gmm_bic_score\n",
    "        )\n",
    "        return grid_search.fit(obs)    \n",
    "\n",
    "    def gmm_bic_score(self, estimator, X):\n",
    "        \"\"\"Callable to pass to GridSearchCV that will use the BIC score.\"\"\"\n",
    "        # Make it negative since GridSearchCV expects a score to maximize\n",
    "        return -estimator.bic(X)    \n",
    "\n",
    "    def observation(self, obs):\n",
    "        # Apply to first N dimensions\n",
    "        xs_batch = self.estimator.predict_proba(np.array([obs]))\n",
    "        return xs_batch[0]"
   ]
  },
  {
   "cell_type": "code",
   "execution_count": 25,
   "id": "3ec67b26-74d5-4454-bcbc-9b63bd9f7b26",
   "metadata": {},
   "outputs": [
    {
     "name": "stdout",
     "output_type": "stream",
     "text": [
      "Best estimator: GaussianMixture(covariance_type='diag', n_components=7)\n",
      "Error - Mean: 0.03882359347131952 Max: 0.03962097090316569 Min: 0.03815381307688398\n",
      "CPU times: user 13min 38s, sys: 7min 25s, total: 21min 3s\n",
      "Wall time: 3min 7s\n"
     ]
    },
    {
     "data": {
      "image/png": "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",
      "text/plain": [
       "<Figure size 600x600 with 1 Axes>"
      ]
     },
     "metadata": {},
     "output_type": "display_data"
    }
   ],
   "source": [
    "%%time\n",
    "param_grid = {\n",
    "    \"n_components\": range(4, 12),\n",
    "    \"covariance_type\": [\"spherical\", \"tied\", \"diag\", \"full\"],\n",
    "}\n",
    "\n",
    "ge_env = GEMGaussianMixObsWrapper(\n",
    "    GEMObsPreproc(gem.make(\"Finite-CC-PMSM-v0\", reward_function=reward_fn)), \n",
    "    param_grid=param_grid, \n",
    "    steps=100_000,\n",
    ")\n",
    "\n",
    "ge_buffer, ge_sol = solve_rwe(\n",
    "    ge_env,\n",
    "    num_steps=NUM_STEPS,\n",
    "    sample_size=SAMPLE_SIZE,\n",
    "    delay=2,\n",
    ")\n",
    "\n",
    "errors = []\n",
    "vpred = []\n",
    "vtrue = []\n",
    "for _ in range(10):\n",
    "    ge_eval_X, ge_eval_y = proj_obs_to_rwest_vec(ge_buffer, sample_size=10_000)\n",
    "    rew_yhat = np.matmul(ge_eval_X, ge_sol)\n",
    "    vpred.extend(rew_yhat.tolist())\n",
    "    vtrue.extend(ge_eval_y.tolist())\n",
    "    error = rmse(\n",
    "        v_pred=rew_yhat, \n",
    "        v_true=ge_eval_y,\n",
    "        axis=0\n",
    "    )\n",
    "    errors.append(error)\n",
    "\n",
    "print(\"Error -\", \"Mean:\", np.mean(errors), \"Max:\", np.max(errors), \"Min:\", np.min(errors))\n",
    "rwe_scatterplot(\n",
    "    v_pred=np.array(vpred), \n",
    "    v_true=np.array(vtrue)\n",
    ")\n",
    "df_gm = pd.DataFrame({\"vpred\": vpred, \"vtrue\": vtrue, \"method\": \"gm\"})"
   ]
  },
  {
   "cell_type": "markdown",
   "id": "f505eaa7-f49b-4bd6-b4ef-bc7d992abb0b",
   "metadata": {},
   "source": [
    "A disdvantage of Gaussian Mixture as a projection approach is that it requires prior data to fit an estimator.\n",
    "In the case of reward estimation, this same data can be used to first an estimator and then to estimate the rewards using the projected states (not what's happening above).\n",
    "However, for value function approximation, this would have an extra step before value function estimation."
   ]
  },
  {
   "cell_type": "markdown",
   "id": "fbf3e094-525a-4963-a6d2-544ff3818bfe",
   "metadata": {},
   "source": [
    "### Tiling"
   ]
  },
  {
   "cell_type": "code",
   "execution_count": 26,
   "id": "2969fb6d-70cc-4fb1-b36a-654db70ef02d",
   "metadata": {},
   "outputs": [],
   "source": [
    "class GEMTileObsWrapper(gym.ObservationWrapper):\n",
    "    def __init__(self, env, tiling_dim: int, num_tilings: int = None, hash_dim: Optional[int] = None):\n",
    "        super().__init__(env)\n",
    "        self.hash_dim = hash_dim\n",
    "        self.tiles = Tiles(\n",
    "                dims_min=env.observation_space.low,\n",
    "                dims_max=env.observation_space.high,\n",
    "                tiling_dim=tiling_dim,\n",
    "                num_tilings=num_tilings\n",
    "            )\n",
    "        self.observation_space = gym.spaces.Box(\n",
    "            low=np.zeros(shape=self.hash_dim or self.tiles.max_size, dtype=np.float64), \n",
    "            high=np.ones(shape=self.hash_dim or self.tiles.max_size, dtype=np.float64)\n",
    "        )\n",
    "\n",
    "    def observation(self, obs):\n",
    "        xs = self.tiles(obs)\n",
    "        if self.hash_dim:\n",
    "            xs = hashtrick(xs, dim=self.hash_dim)\n",
    "        return xs"
   ]
  },
  {
   "cell_type": "code",
   "execution_count": 27,
   "id": "6933f010-7015-4593-a393-8edecc39e1d5",
   "metadata": {},
   "outputs": [
    {
     "name": "stdout",
     "output_type": "stream",
     "text": [
      "Num tilings 16 \n",
      " Flat dim: 1024\n"
     ]
    },
    {
     "name": "stderr",
     "output_type": "stream",
     "text": [
      "/Users/guilherme/Code/research.phd/drmdp-fnapprox/.venv/lib/python3.11/site-packages/gymnasium/spaces/box.py:235: UserWarning: \u001b[33mWARN: Box low's precision lowered by casting to float32, current low.dtype=float64\u001b[0m\n",
      "  gym.logger.warn(\n",
      "/Users/guilherme/Code/research.phd/drmdp-fnapprox/.venv/lib/python3.11/site-packages/gymnasium/spaces/box.py:305: UserWarning: \u001b[33mWARN: Box high's precision lowered by casting to float32, current high.dtype=float64\u001b[0m\n",
      "  gym.logger.warn(\n"
     ]
    },
    {
     "data": {
      "text/plain": [
       "(Box(0.0, 1.0, (1024,), float32), Discrete(8))"
      ]
     },
     "execution_count": 27,
     "metadata": {},
     "output_type": "execute_result"
    }
   ],
   "source": [
    "ge_env = GEMTileObsWrapper(\n",
    "    GEMObsPreproc(gem.make(\"Finite-CC-PMSM-v0\", reward_function=reward_fn)),\n",
    "    tiling_dim=4\n",
    ")\n",
    "ge_env.observation_space, ge_env.action_space"
   ]
  },
  {
   "cell_type": "code",
   "execution_count": 28,
   "id": "20eefc79-2806-46f0-acdf-b4e1e866d97b",
   "metadata": {},
   "outputs": [
    {
     "name": "stdout",
     "output_type": "stream",
     "text": [
      "Num tilings 16 \n",
      " Flat dim: 2000\n"
     ]
    },
    {
     "data": {
      "text/plain": [
       "Box(0.0, 1.0, (2000,), float32)"
      ]
     },
     "execution_count": 28,
     "metadata": {},
     "output_type": "execute_result"
    }
   ],
   "source": [
    "ge_env = GEMTileObsWrapper(\n",
    "    GEMObsPreproc(gem.make(\"Finite-CC-PMSM-v0\", reward_function=reward_fn)),\n",
    "    tiling_dim=5\n",
    ")\n",
    "ge_env.observation_space"
   ]
  },
  {
   "cell_type": "code",
   "execution_count": 29,
   "id": "4c301dfb-7b38-4ec3-8077-9089f44ecbe0",
   "metadata": {},
   "outputs": [
    {
     "name": "stdout",
     "output_type": "stream",
     "text": [
      "Num tilings 16 \n",
      " Flat dim: 3456\n"
     ]
    },
    {
     "data": {
      "text/plain": [
       "Box(0.0, 1.0, (3456,), float32)"
      ]
     },
     "execution_count": 29,
     "metadata": {},
     "output_type": "execute_result"
    }
   ],
   "source": [
    "ge_env = GEMTileObsWrapper(\n",
    "    GEMObsPreproc(gem.make(\"Finite-CC-PMSM-v0\", reward_function=reward_fn)),\n",
    "    tiling_dim=6\n",
    ")\n",
    "ge_env.observation_space"
   ]
  },
  {
   "cell_type": "code",
   "execution_count": 30,
   "id": "4b654679-af5b-4c9b-9299-46b05c6fb359",
   "metadata": {},
   "outputs": [
    {
     "name": "stdout",
     "output_type": "stream",
     "text": [
      "Num tilings 16 \n",
      " Flat dim: 5488\n"
     ]
    },
    {
     "data": {
      "text/plain": [
       "Box(0.0, 1.0, (5488,), float32)"
      ]
     },
     "execution_count": 30,
     "metadata": {},
     "output_type": "execute_result"
    }
   ],
   "source": [
    "ge_env = GEMTileObsWrapper(\n",
    "    GEMObsPreproc(gem.make(\"Finite-CC-PMSM-v0\", reward_function=reward_fn)),\n",
    "    tiling_dim=7\n",
    ")\n",
    "ge_env.observation_space"
   ]
  },
  {
   "cell_type": "code",
   "execution_count": 31,
   "id": "ec8a8c01-2ea9-4bcf-bb14-c21cabd18956",
   "metadata": {},
   "outputs": [
    {
     "name": "stdout",
     "output_type": "stream",
     "text": [
      "Num tilings 16 \n",
      " Flat dim: 8192\n"
     ]
    },
    {
     "data": {
      "text/plain": [
       "Box(0.0, 1.0, (8192,), float32)"
      ]
     },
     "execution_count": 31,
     "metadata": {},
     "output_type": "execute_result"
    }
   ],
   "source": [
    "ge_env = GEMTileObsWrapper(\n",
    "    GEMObsPreproc(gem.make(\"Finite-CC-PMSM-v0\", reward_function=reward_fn)),\n",
    "    tiling_dim=8\n",
    ")\n",
    "ge_env.observation_space"
   ]
  },
  {
   "cell_type": "code",
   "execution_count": 32,
   "id": "91d332a6-be70-4bbb-a10d-a7ef1fa93ab9",
   "metadata": {
    "scrolled": true
   },
   "outputs": [
    {
     "name": "stdout",
     "output_type": "stream",
     "text": [
      "Num tilings 16 \n",
      " Flat dim: 1024\n",
      "Error - Mean: 0.19622404512100083 Max: 0.26498645831329176 Min: 0.14377097358444993\n",
      "CPU times: user 1min 59s, sys: 26.8 s, total: 2min 26s\n",
      "Wall time: 49.6 s\n"
     ]
    },
    {
     "data": {
      "image/png": "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",
      "text/plain": [
       "<Figure size 600x600 with 1 Axes>"
      ]
     },
     "metadata": {},
     "output_type": "display_data"
    }
   ],
   "source": [
    "%%time\n",
    "ge_env = GEMTileObsWrapper(\n",
    "    GEMObsPreproc(gem.make(\"Finite-CC-PMSM-v0\", reward_function=reward_fn)),\n",
    "    tiling_dim=4,\n",
    "    # actual size is 1024\n",
    "    # will be multipled by 8 (actions)\n",
    "    # so we scaled down to become 1024 after the product\n",
    "    hash_dim=128\n",
    ")\n",
    "\n",
    "\n",
    "ge_buffer, ge_sol = solve_rwe(\n",
    "    ge_env,\n",
    "    num_steps=NUM_STEPS,\n",
    "    sample_size=SAMPLE_SIZE,\n",
    "    delay=2,\n",
    ")\n",
    "\n",
    "errors = []\n",
    "vpred = []\n",
    "vtrue = []\n",
    "for _ in range(10):\n",
    "    ge_eval_X, ge_eval_y = proj_obs_to_rwest_vec(ge_buffer, sample_size=10_000)\n",
    "    rew_yhat = np.matmul(ge_eval_X, ge_sol)\n",
    "    vpred.extend(rew_yhat.tolist())\n",
    "    vtrue.extend(ge_eval_y.tolist())\n",
    "    error = rmse(\n",
    "        v_pred=rew_yhat, \n",
    "        v_true=ge_eval_y,\n",
    "        axis=0\n",
    "    )\n",
    "    errors.append(error)\n",
    "\n",
    "print(\"Error -\", \"Mean:\", np.mean(errors), \"Max:\", np.max(errors), \"Min:\", np.min(errors))\n",
    "rwe_scatterplot(\n",
    "    v_pred=np.array(vpred), \n",
    "    v_true=np.array(vtrue)\n",
    ")\n",
    "df_tiles_4d = pd.DataFrame({\"vpred\": vpred, \"vtrue\": vtrue, \"method\": \"tiles[D4]\"})"
   ]
  },
  {
   "cell_type": "code",
   "execution_count": 33,
   "id": "5d411097-cd8f-483f-b175-fd85e47deb9d",
   "metadata": {},
   "outputs": [
    {
     "name": "stdout",
     "output_type": "stream",
     "text": [
      "Num tilings 16 \n",
      " Flat dim: 8192\n"
     ]
    },
    {
     "name": "stderr",
     "output_type": "stream",
     "text": [
      "/Users/guilherme/Code/research.phd/drmdp-fnapprox/.venv/lib/python3.11/site-packages/gymnasium/spaces/box.py:235: UserWarning: \u001b[33mWARN: Box low's precision lowered by casting to float32, current low.dtype=float64\u001b[0m\n",
      "  gym.logger.warn(\n",
      "/Users/guilherme/Code/research.phd/drmdp-fnapprox/.venv/lib/python3.11/site-packages/gymnasium/spaces/box.py:305: UserWarning: \u001b[33mWARN: Box high's precision lowered by casting to float32, current high.dtype=float64\u001b[0m\n",
      "  gym.logger.warn(\n"
     ]
    },
    {
     "name": "stdout",
     "output_type": "stream",
     "text": [
      "Error - Mean: 0.20626644071723382 Max: 0.2827106906917528 Min: 0.1472256448016194\n",
      "CPU times: user 1h 30min 54s, sys: 16min 9s, total: 1h 47min 4s\n",
      "Wall time: 16min 5s\n"
     ]
    },
    {
     "data": {
      "image/png": "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",
      "text/plain": [
       "<Figure size 600x600 with 1 Axes>"
      ]
     },
     "metadata": {},
     "output_type": "display_data"
    }
   ],
   "source": [
    "%%time\n",
    "ge_env = GEMTileObsWrapper(\n",
    "    GEMObsPreproc(gem.make(\"Finite-CC-PMSM-v0\", reward_function=reward_fn)),\n",
    "    tiling_dim=8,\n",
    "    hash_dim=1024\n",
    ")\n",
    "\n",
    "\n",
    "ge_buffer, ge_sol = solve_rwe(\n",
    "    ge_env,\n",
    "    num_steps=NUM_STEPS,\n",
    "    sample_size=SAMPLE_SIZE,\n",
    "    delay=2,\n",
    ")\n",
    "\n",
    "errors = []\n",
    "vpred = []\n",
    "vtrue = []\n",
    "for _ in range(10):\n",
    "    ge_eval_X, ge_eval_y = proj_obs_to_rwest_vec(ge_buffer, sample_size=10_000)\n",
    "    rew_yhat = np.matmul(ge_eval_X, ge_sol)\n",
    "    vpred.extend(rew_yhat.tolist())\n",
    "    vtrue.extend(ge_eval_y.tolist())\n",
    "    error = rmse(\n",
    "        v_pred=rew_yhat, \n",
    "        v_true=ge_eval_y,\n",
    "        axis=0\n",
    "    )\n",
    "    errors.append(error)\n",
    "\n",
    "print(\"Error -\", \"Mean:\", np.mean(errors), \"Max:\", np.max(errors), \"Min:\", np.min(errors))\n",
    "rwe_scatterplot(\n",
    "    v_pred=np.array(vpred), \n",
    "    v_true=np.array(vtrue)\n",
    ")\n",
    "df_tiles_8d = pd.DataFrame({\"vpred\": vpred, \"vtrue\": vtrue, \"method\": \"tiles[D8]\"})"
   ]
  },
  {
   "cell_type": "markdown",
   "id": "d3702dfd-e7bd-4ef4-ac73-cdd236ba7036",
   "metadata": {},
   "source": [
    "## Conclusions"
   ]
  },
  {
   "cell_type": "markdown",
   "id": "48367c53-8c48-47af-a73b-8d1e5935cca9",
   "metadata": {},
   "source": [
    "### Results Overview"
   ]
  },
  {
   "cell_type": "code",
   "execution_count": 34,
   "id": "5cbfe809-3524-46ee-8ae2-ea0a34225e11",
   "metadata": {},
   "outputs": [],
   "source": [
    "df_results = pd.concat([\n",
    "    df_raw,\n",
    "    df_scaled,\n",
    "    df_gm,\n",
    "    df_tiles_4d,\n",
    "    df_tiles_8d,\n",
    "])\n",
    "df_results[\"delta\"] = df_results[\"vtrue\"] - df_results[\"vpred\"]"
   ]
  },
  {
   "cell_type": "code",
   "execution_count": 35,
   "id": "f30f87f4-5806-4354-aeae-9b6158d7d441",
   "metadata": {},
   "outputs": [
    {
     "data": {
      "text/html": [
       "<div>\n",
       "<style scoped>\n",
       "    .dataframe tbody tr th:only-of-type {\n",
       "        vertical-align: middle;\n",
       "    }\n",
       "\n",
       "    .dataframe tbody tr th {\n",
       "        vertical-align: top;\n",
       "    }\n",
       "\n",
       "    .dataframe thead th {\n",
       "        text-align: right;\n",
       "    }\n",
       "</style>\n",
       "<table border=\"1\" class=\"dataframe\">\n",
       "  <thead>\n",
       "    <tr style=\"text-align: right;\">\n",
       "      <th></th>\n",
       "      <th>vpred</th>\n",
       "      <th>vtrue</th>\n",
       "      <th>method</th>\n",
       "      <th>delta</th>\n",
       "    </tr>\n",
       "  </thead>\n",
       "  <tbody>\n",
       "    <tr>\n",
       "      <th>0</th>\n",
       "      <td>-0.124160</td>\n",
       "      <td>-0.124160</td>\n",
       "      <td>raw</td>\n",
       "      <td>2.775558e-16</td>\n",
       "    </tr>\n",
       "    <tr>\n",
       "      <th>1</th>\n",
       "      <td>-0.067812</td>\n",
       "      <td>-0.067812</td>\n",
       "      <td>raw</td>\n",
       "      <td>1.804112e-16</td>\n",
       "    </tr>\n",
       "    <tr>\n",
       "      <th>2</th>\n",
       "      <td>-0.241627</td>\n",
       "      <td>-0.241627</td>\n",
       "      <td>raw</td>\n",
       "      <td>1.276756e-15</td>\n",
       "    </tr>\n",
       "    <tr>\n",
       "      <th>3</th>\n",
       "      <td>-0.263988</td>\n",
       "      <td>-0.263988</td>\n",
       "      <td>raw</td>\n",
       "      <td>4.440892e-16</td>\n",
       "    </tr>\n",
       "    <tr>\n",
       "      <th>4</th>\n",
       "      <td>-0.221884</td>\n",
       "      <td>-0.221884</td>\n",
       "      <td>raw</td>\n",
       "      <td>8.049117e-16</td>\n",
       "    </tr>\n",
       "    <tr>\n",
       "      <th>...</th>\n",
       "      <td>...</td>\n",
       "      <td>...</td>\n",
       "      <td>...</td>\n",
       "      <td>...</td>\n",
       "    </tr>\n",
       "    <tr>\n",
       "      <th>99995</th>\n",
       "      <td>-0.272510</td>\n",
       "      <td>-0.223146</td>\n",
       "      <td>tiles[D8]</td>\n",
       "      <td>4.936450e-02</td>\n",
       "    </tr>\n",
       "    <tr>\n",
       "      <th>99996</th>\n",
       "      <td>-0.159175</td>\n",
       "      <td>-0.147607</td>\n",
       "      <td>tiles[D8]</td>\n",
       "      <td>1.156791e-02</td>\n",
       "    </tr>\n",
       "    <tr>\n",
       "      <th>99997</th>\n",
       "      <td>-0.191648</td>\n",
       "      <td>-0.264796</td>\n",
       "      <td>tiles[D8]</td>\n",
       "      <td>-7.314744e-02</td>\n",
       "    </tr>\n",
       "    <tr>\n",
       "      <th>99998</th>\n",
       "      <td>-0.128090</td>\n",
       "      <td>-0.091932</td>\n",
       "      <td>tiles[D8]</td>\n",
       "      <td>3.615756e-02</td>\n",
       "    </tr>\n",
       "    <tr>\n",
       "      <th>99999</th>\n",
       "      <td>-0.164155</td>\n",
       "      <td>-0.136051</td>\n",
       "      <td>tiles[D8]</td>\n",
       "      <td>2.810386e-02</td>\n",
       "    </tr>\n",
       "  </tbody>\n",
       "</table>\n",
       "<p>500000 rows × 4 columns</p>\n",
       "</div>"
      ],
      "text/plain": [
       "          vpred     vtrue     method         delta\n",
       "0     -0.124160 -0.124160        raw  2.775558e-16\n",
       "1     -0.067812 -0.067812        raw  1.804112e-16\n",
       "2     -0.241627 -0.241627        raw  1.276756e-15\n",
       "3     -0.263988 -0.263988        raw  4.440892e-16\n",
       "4     -0.221884 -0.221884        raw  8.049117e-16\n",
       "...         ...       ...        ...           ...\n",
       "99995 -0.272510 -0.223146  tiles[D8]  4.936450e-02\n",
       "99996 -0.159175 -0.147607  tiles[D8]  1.156791e-02\n",
       "99997 -0.191648 -0.264796  tiles[D8] -7.314744e-02\n",
       "99998 -0.128090 -0.091932  tiles[D8]  3.615756e-02\n",
       "99999 -0.164155 -0.136051  tiles[D8]  2.810386e-02\n",
       "\n",
       "[500000 rows x 4 columns]"
      ]
     },
     "execution_count": 35,
     "metadata": {},
     "output_type": "execute_result"
    }
   ],
   "source": [
    "df_results"
   ]
  },
  {
   "cell_type": "code",
   "execution_count": 36,
   "id": "146018cb-da54-4e0d-9a03-0b6402e62980",
   "metadata": {},
   "outputs": [
    {
     "name": "stderr",
     "output_type": "stream",
     "text": [
      "/Users/guilherme/Code/research.phd/drmdp-fnapprox/.venv/lib/python3.11/site-packages/seaborn/_base.py:949: FutureWarning: When grouping with a length-1 list-like, you will need to pass a length-1 tuple to get_group in a future version of pandas. Pass `(name,)` instead of `name` to silence this warning.\n",
      "  data_subset = grouped_data.get_group(pd_key)\n",
      "/Users/guilherme/Code/research.phd/drmdp-fnapprox/.venv/lib/python3.11/site-packages/seaborn/_base.py:949: FutureWarning: When grouping with a length-1 list-like, you will need to pass a length-1 tuple to get_group in a future version of pandas. Pass `(name,)` instead of `name` to silence this warning.\n",
      "  data_subset = grouped_data.get_group(pd_key)\n",
      "/Users/guilherme/Code/research.phd/drmdp-fnapprox/.venv/lib/python3.11/site-packages/seaborn/_base.py:949: FutureWarning: When grouping with a length-1 list-like, you will need to pass a length-1 tuple to get_group in a future version of pandas. Pass `(name,)` instead of `name` to silence this warning.\n",
      "  data_subset = grouped_data.get_group(pd_key)\n",
      "/Users/guilherme/Code/research.phd/drmdp-fnapprox/.venv/lib/python3.11/site-packages/seaborn/_base.py:949: FutureWarning: When grouping with a length-1 list-like, you will need to pass a length-1 tuple to get_group in a future version of pandas. Pass `(name,)` instead of `name` to silence this warning.\n",
      "  data_subset = grouped_data.get_group(pd_key)\n",
      "/Users/guilherme/Code/research.phd/drmdp-fnapprox/.venv/lib/python3.11/site-packages/seaborn/_base.py:949: FutureWarning: When grouping with a length-1 list-like, you will need to pass a length-1 tuple to get_group in a future version of pandas. Pass `(name,)` instead of `name` to silence this warning.\n",
      "  data_subset = grouped_data.get_group(pd_key)\n",
      "/Users/guilherme/Code/research.phd/drmdp-fnapprox/.venv/lib/python3.11/site-packages/seaborn/_base.py:949: FutureWarning: When grouping with a length-1 list-like, you will need to pass a length-1 tuple to get_group in a future version of pandas. Pass `(name,)` instead of `name` to silence this warning.\n",
      "  data_subset = grouped_data.get_group(pd_key)\n"
     ]
    },
    {
     "data": {
      "image/png": "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",
      "text/plain": [
       "<Figure size 640x480 with 1 Axes>"
      ]
     },
     "metadata": {},
     "output_type": "display_data"
    }
   ],
   "source": [
    "ax = sns.histplot(data=df_results, x=\"delta\", hue=\"method\", bins=50, log_scale=True)\n",
    "_ = ax.set_title(\"$\\delta = (r-\\hat{r})$, Log Scale\")"
   ]
  },
  {
   "cell_type": "markdown",
   "id": "11e4deaa-609a-4158-86c8-60b8e17d8f13",
   "metadata": {},
   "source": [
    "  - Results, by order of performance: raw or scaled > Gaussian Mixture > Tiling\n",
    "  - Raw features and input scaling work equally well on the task of reward estimation\n",
    "  - Most of the errors with Tiling and Gaussian Mixture can be attributed to states that violate the constraints of the problem, for which there is a high fixed penalty\n",
    "    - This violation is indicated by a variable, $c \\in [0, 1]$, which gets dilluted by both methods.\n",
    "    - Note that we tested Tiling using the Hashing Trick, since the dimensions of the output vectors is considerably high."
   ]
  }
 ],
 "metadata": {
  "kernelspec": {
   "display_name": "Python 3 (ipykernel)",
   "language": "python",
   "name": "python3"
  },
  "language_info": {
   "codemirror_mode": {
    "name": "ipython",
    "version": 3
   },
   "file_extension": ".py",
   "mimetype": "text/x-python",
   "name": "python",
   "nbconvert_exporter": "python",
   "pygments_lexer": "ipython3",
   "version": "3.11.11"
  }
 },
 "nbformat": 4,
 "nbformat_minor": 5
}
