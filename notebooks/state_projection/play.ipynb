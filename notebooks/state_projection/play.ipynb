{
 "cells": [
  {
   "cell_type": "markdown",
   "id": "31f83fc8-aefa-44f6-9eb3-7560098ed123",
   "metadata": {},
   "source": [
    "# Prototyping: Control with Linear Function Approximation"
   ]
  },
  {
   "cell_type": "markdown",
   "id": "e40a0c2c-c4f7-43a4-9e94-d7548ba15f88",
   "metadata": {},
   "source": [
    "Our aim is to carry out RL tasks when rewards are delayed (aggregate, and anonymous), using linear function approximation.\n",
    "To solve this problem, we aim to project both large discrete states and continuous states into basis vectors.\n",
    "\n",
    "\n",
    "In this notebook, we test policy control with linear function approximation, using a select set of environments .\n",
    "These environments have either discrete r continuous states, and discrete actions.\n",
    "\n",
    "The environments and their best encoding for reward estimation from previous analyses are:\n",
    "\n",
    "  - GridWorld: Tiling(8, HT=512)\n",
    "  - RedGreen: Tiling(2)\n",
    "  - MountainCar: Tiling(4)\n",
    "  - GEM:Finite-CC-PMSM-v0 (Gym Electric Motor): Scaled raw features\n",
    "\n",
    "We cannot know whether a feature encoding that is suitable for estimating the rewards from aggregate samples is equally adequate to represente state for learning an action-value function in control (nor a state-value in the case of policy evaluation).\n",
    "So, for each, we also use a second encoding as a reference for comparison: \n",
    "\n",
    "  - GridWorld: Random Binary Vectors\n",
    "  - RedGreen: Random Binary Vectors\n",
    "  - MountainCar: Gaussian Mixture(covariance_type='diag', n_components=3)\n",
    "  - GEM:Finite-CC-PMSM-v0 (Gym Electric Motor): GaussianMixture(covariance_type='diag', n_components=11)\n",
    "\n"
   ]
  },
  {
   "cell_type": "code",
   "execution_count": 1,
   "id": "96def89d-da64-421c-9fa7-4e7c383cac5c",
   "metadata": {},
   "outputs": [],
   "source": [
    "import math\n",
    "import random\n",
    "import itertools\n",
    "from typing import Sequence\n"
   ]
  },
  {
   "cell_type": "code",
   "execution_count": 2,
   "id": "294d273e-aa6e-40b5-9cd3-e44c87415250",
   "metadata": {},
   "outputs": [],
   "source": [
    "import gymnasium as gym\n",
    "import numpy as np\n",
    "import pandas as pd\n",
    "from scipy.stats import poisson, norm\n"
   ]
  },
  {
   "cell_type": "code",
   "execution_count": 3,
   "id": "113c4512-4345-4ace-af08-1ce90adce75c",
   "metadata": {},
   "outputs": [],
   "source": [
    "import seaborn as sns"
   ]
  },
  {
   "cell_type": "code",
   "execution_count": 4,
   "id": "20cf92d2-67b1-4ae9-a4e7-19209c8d90ef",
   "metadata": {},
   "outputs": [],
   "source": [
    "from drmdp import envs, feats"
   ]
  },
  {
   "cell_type": "markdown",
   "id": "7e253e23-9aea-4d9a-9263-35e5275ab296",
   "metadata": {},
   "source": [
    "## Control with SARSA"
   ]
  },
  {
   "cell_type": "code",
   "execution_count": 5,
   "id": "0d34697e-a7bb-45d2-b3cb-ad5edd1b94b3",
   "metadata": {},
   "outputs": [],
   "source": [
    "def action_values(\n",
    "    observation, actions: Sequence[int], weights, feat_transform: feats.FeatTransform\n",
    "):\n",
    "    observations = [observation] * len(actions)\n",
    "    state_action_m = feat_transform.batch_transform(observations, actions)\n",
    "    return np.dot(state_action_m, weights), state_action_m"
   ]
  },
  {
   "cell_type": "code",
   "execution_count": 6,
   "id": "6cac9ed1-0984-404c-bf43-e5abf82b9876",
   "metadata": {},
   "outputs": [],
   "source": [
    "def semi_gradient_sarsa(\n",
    "    env, alpha: float, gamma: float, \n",
    "    epsilon: float, num_episodes: int, \n",
    "    feat_transform: feats.FeatTransform,\n",
    "    verbose: bool = True\n",
    "):\n",
    "    actions = tuple(range(env.action_space.n))\n",
    "    weights = np.zeros(feat_transform.output_shape, dtype=np.float64)\n",
    "    returns = []\n",
    "    \n",
    "    for i in range(num_episodes):\n",
    "        obs, _ = env.reset()\n",
    "        state_qvalues, gradients = action_values(obs, actions, weights, feat_transform)\n",
    "        rewards = 0\n",
    "        # choose action\n",
    "        if random.random() <= epsilon:\n",
    "            action = env.action_space.sample()\n",
    "        else:\n",
    "            action = np.random.choice(np.flatnonzero(state_qvalues == state_qvalues.max()))\n",
    "\n",
    "        while True:\n",
    "            # greedy            \n",
    "            next_obs, reward, term, trunc, _,  = env.step(action)\n",
    "            rewards += reward\n",
    "            \n",
    "            if term or trunc:\n",
    "                weights = weights + alpha * (reward - state_qvalues[action]) * gradients[action]\n",
    "                break\n",
    "\n",
    "            next_state_qvalues, next_gradients = action_values(next_obs, actions, weights, feat_transform)\n",
    "            \n",
    "            if random.random() <= epsilon:\n",
    "                next_action = env.action_space.sample()\n",
    "            else:\n",
    "                # greedy\n",
    "                next_action = np.random.choice(np.flatnonzero(next_state_qvalues == next_state_qvalues.max()))\n",
    "\n",
    "            weights = weights + alpha * (\n",
    "                reward + gamma * next_state_qvalues[next_action] - state_qvalues[action]\n",
    "            ) * gradients[action]\n",
    "            obs = next_obs\n",
    "            action = next_action\n",
    "            state_qvalues = next_state_qvalues\n",
    "            gradients = next_gradients\n",
    "        returns.append(rewards)\n",
    "        if verbose and (i+1) % math.floor(num_episodes/5) == 0:\n",
    "            print(\"Episode\", i+1, \"mean returns:\", np.mean(returns))\n",
    "    return weights"
   ]
  },
  {
   "cell_type": "code",
   "execution_count": 7,
   "id": "6896f48c-2ebd-4939-818f-963b7d263a4b",
   "metadata": {},
   "outputs": [],
   "source": [
    "def play(env, weights, num_episodes: int, feat_transform):\n",
    "    actions = tuple(range(env.action_space.n))\n",
    "    returns = []\n",
    "    for i in range(num_episodes):\n",
    "        obs, _ = env.reset()\n",
    "        rewards = 0\n",
    "        while True:\n",
    "            state_qvalues, _ = action_values(obs, actions, weights, feat_transform)\n",
    "            action = np.random.choice(np.flatnonzero(state_qvalues == state_qvalues.max()))\n",
    "            next_obs, reward, term, trunc, _,  = env.step(action)\n",
    "            rewards += reward\n",
    "            obs = next_obs\n",
    "            if term or trunc:\n",
    "                returns.append(rewards)\n",
    "                break\n",
    "    return returns"
   ]
  },
  {
   "cell_type": "code",
   "execution_count": 8,
   "id": "9064f5d0-a26d-4673-b5f3-6e470a1165b0",
   "metadata": {},
   "outputs": [],
   "source": [
    "def control_and_evaluate(\n",
    "    env_name, args, alpha: float = 0.001, epsilon: float = 0.1, num_episodes: int = 5000, turns: int = 10, eval_max_steps: int = 1000\n",
    "):\n",
    "    env = envs.make(env_name)\n",
    "    print(\"Env:\", env)\n",
    "    rows = []\n",
    "    for kwargs in args:\n",
    "        print(\"Control with Fn Approx - SARSA:\", kwargs)\n",
    "        for turn in range(turns):\n",
    "            print(\"Turn\", turn+1)\n",
    "            ft_tfx = feats.create_feat_transformer(env, **kwargs)\n",
    "            print(\"ft-tfx:\", vars(ft_tfx))\n",
    "            weights = semi_gradient_sarsa(\n",
    "                env, alpha=alpha, gamma=1.0, epsilon=epsilon, \n",
    "                num_episodes=num_episodes, feat_transform=ft_tfx,\n",
    "            )\n",
    "            returns = play(\n",
    "                gym.wrappers.TimeLimit(env, max_episode_steps=eval_max_steps), \n",
    "                weights=weights, num_episodes=20, \n",
    "                feat_transform=ft_tfx\n",
    "            )\n",
    "            print(\"Eval (mean) returns:\", np.mean(returns))\n",
    "            rows.append({\n",
    "                \"env\": env_name,\n",
    "                \"args\": kwargs,\n",
    "                \"returns\": returns,\n",
    "                \"turn\": turn\n",
    "            })\n",
    "    return pd.DataFrame(rows).explode(\"returns\")"
   ]
  },
  {
   "cell_type": "code",
   "execution_count": 9,
   "id": "7a8a94ad-70ff-46f7-8a5f-e74402f26132",
   "metadata": {},
   "outputs": [
    {
     "name": "stdout",
     "output_type": "stream",
     "text": [
      "CPU times: user 16.7 s, sys: 83.1 ms, total: 16.8 s\n",
      "Wall time: 16.8 s\n"
     ]
    }
   ],
   "source": [
    "%%time\n",
    "env = envs.make(\"MountainCar-v0\", max_episode_steps=2500)\n",
    "feats_tfx = feats.create_feat_transformer(env, **{\"name\": \"tiles\", \"args\": {\"tiling_dim\": 8, \"hash_dim\": 512}})\n",
    "weights = np.zeros(feats_tfx.output_shape)\n",
    "returns = play(env, weights, num_episodes=100, feat_transform=feats_tfx)"
   ]
  },
  {
   "cell_type": "code",
   "execution_count": 10,
   "id": "ea6006ad-cf48-44ce-bbe0-d94ac5587830",
   "metadata": {},
   "outputs": [
    {
     "data": {
      "text/plain": [
       "[-2500.0,\n",
       " -2500.0,\n",
       " -2500.0,\n",
       " -2500.0,\n",
       " -2500.0,\n",
       " -2500.0,\n",
       " -2500.0,\n",
       " -2500.0,\n",
       " -2500.0,\n",
       " -2500.0]"
      ]
     },
     "execution_count": 10,
     "metadata": {},
     "output_type": "execute_result"
    }
   ],
   "source": [
    "returns[-10:]"
   ]
  },
  {
   "cell_type": "code",
   "execution_count": 11,
   "id": "38bf478d-c510-4701-9dbb-f9893859bb62",
   "metadata": {},
   "outputs": [],
   "source": [
    "rng = np.random.default_rng()"
   ]
  },
  {
   "cell_type": "code",
   "execution_count": 12,
   "id": "80c37cc3-49a1-4f17-b1f6-841177b41583",
   "metadata": {},
   "outputs": [
    {
     "data": {
      "text/plain": [
       "<Axes: ylabel='Count'>"
      ]
     },
     "execution_count": 12,
     "metadata": {},
     "output_type": "execute_result"
    },
    {
     "data": {
      "image/png": "[encoded data removed]",
      "text/plain": [
       "<Figure size 640x480 with 1 Axes>"
      ]
     },
     "metadata": {},
     "output_type": "display_data"
    }
   ],
   "source": [
    "sns.histplot(rng.poisson(lam=1, size=50))"
   ]
  },
  {
   "cell_type": "code",
   "execution_count": 13,
   "id": "15cf85aa-67bf-4a7d-83e1-60e5322812f6",
   "metadata": {},
   "outputs": [
    {
     "data": {
      "text/plain": [
       "<Axes: ylabel='Count'>"
      ]
     },
     "execution_count": 13,
     "metadata": {},
     "output_type": "execute_result"
    },
    {
     "data": {
      "image/png": "[encoded data removed]",
      "text/plain": [
       "<Figure size 640x480 with 1 Axes>"
      ]
     },
     "metadata": {},
     "output_type": "display_data"
    }
   ],
   "source": [
    "sns.histplot(rng.poisson(lam=20, size=50))"
   ]
  },
  {
   "cell_type": "code",
   "execution_count": 14,
   "id": "7fbc190a-7129-434f-9c68-10668c04d7a0",
   "metadata": {},
   "outputs": [],
   "source": [
    "def pow2geq(lb: int) -> int:\n",
    "    exp = 1\n",
    "    rs = 1\n",
    "    while True:\n",
    "        rs = 2**exp\n",
    "        if rs >= lb:\n",
    "            break\n",
    "        exp += 1\n",
    "    return rs\n"
   ]
  },
  {
   "cell_type": "code",
   "execution_count": 15,
   "id": "bc6348f6-005b-460e-8d85-408c6082c8c1",
   "metadata": {},
   "outputs": [
    {
     "data": {
      "text/plain": [
       "69272"
      ]
     },
     "execution_count": 15,
     "metadata": {},
     "output_type": "execute_result"
    }
   ],
   "source": [
    "actions = tuple(range(8))\n",
    "options = []\n",
    "for i in range(2, len(actions)):\n",
    "    options.extend(itertools.permutations(actions, i))\n",
    "len(options)"
   ]
  },
  {
   "cell_type": "code",
   "execution_count": 16,
   "id": "4ed427b1-17eb-4a43-a934-0682528a0c1c",
   "metadata": {},
   "outputs": [
    {
     "name": "stdout",
     "output_type": "stream",
     "text": [
      "2 56\n",
      "3 336\n",
      "4 1680\n",
      "5 6720\n",
      "6 20160\n",
      "7 40320\n",
      "8 40320\n",
      "9 0\n",
      "10 0\n",
      "11 0\n",
      "12 0\n",
      "13 0\n",
      "14 0\n"
     ]
    },
    {
     "data": {
      "text/plain": [
       "13"
      ]
     },
     "execution_count": 16,
     "metadata": {},
     "output_type": "execute_result"
    }
   ],
   "source": [
    "# build a tree of options, keyed on delay\n",
    "actions = tuple(range(8))\n",
    "options_mapping = {}\n",
    "for i in range(2, 15):\n",
    "    options_mapping[i] = tuple(itertools.permutations(actions, i))\n",
    "    print(i, len(options_mapping[i]))\n",
    "len(options_mapping)"
   ]
  },
  {
   "cell_type": "code",
   "execution_count": 17,
   "id": "d66f3c35-05be-4c4b-8d9e-afb52b5e197d",
   "metadata": {},
   "outputs": [],
   "source": [
    "def bits_required(n: int) -> int:\n",
    "    \"\"\"\n",
    "    Returns the number of bits required to represent an integer in binary\n",
    "    \"\"\"\n",
    "    if n == 0:\n",
    "        return 1\n",
    "    return len(bin(abs(n))[2:]) "
   ]
  },
  {
   "cell_type": "code",
   "execution_count": 18,
   "id": "92d438ec-a03c-45d7-90bb-ad94cfc367de",
   "metadata": {},
   "outputs": [
    {
     "name": "stdout",
     "output_type": "stream",
     "text": [
      "2 64\n",
      "3 512\n",
      "4 4096\n",
      "5 32768\n",
      "6 262144\n",
      "7 2097152\n",
      "8 16777216\n",
      "9 134217728\n"
     ]
    },
    {
     "data": {
      "text/plain": [
       "28"
      ]
     },
     "execution_count": 18,
     "metadata": {},
     "output_type": "execute_result"
    }
   ],
   "source": [
    "size = 0\n",
    "delay = 10\n",
    "for i in range(2, 10):\n",
    "    n = 8 ** i\n",
    "    size += n\n",
    "    print(i, n)\n",
    "\n",
    "\n",
    "bits_required(size)"
   ]
  },
  {
   "cell_type": "code",
   "execution_count": 19,
   "id": "60ba7168-ed75-4323-9c41-5b396207aeac",
   "metadata": {},
   "outputs": [
    {
     "data": {
      "text/plain": [
       "'101111'"
      ]
     },
     "execution_count": 19,
     "metadata": {},
     "output_type": "execute_result"
    }
   ],
   "source": [
    "bin(abs(47))[2:]"
   ]
  },
  {
   "cell_type": "code",
   "execution_count": 20,
   "id": "e8f5abae-313b-41f2-b278-8db5a099cc71",
   "metadata": {},
   "outputs": [
    {
     "data": {
      "text/plain": [
       "4760335592456192"
      ]
     },
     "execution_count": 20,
     "metadata": {},
     "output_type": "execute_result"
    }
   ],
   "source": [
    "tiling_dim = 8\n",
    "obs_dim = 10\n",
    "num_tilings = pow2geq(obs_dim * 4)\n",
    "max_size = (\n",
    "    tiling_dim ** obs_dim\n",
    "    * num_tilings\n",
    "    * len(options)\n",
    ")\n",
    "max_size"
   ]
  },
  {
   "cell_type": "code",
   "execution_count": 21,
   "id": "17bdd120-404a-44bf-b7ed-33e557eb1b63",
   "metadata": {},
   "outputs": [
    {
     "data": {
      "text/html": [
       "<div>\n",
       "<style scoped>\n",
       "    .dataframe tbody tr th:only-of-type {\n",
       "        vertical-align: middle;\n",
       "    }\n",
       "\n",
       "    .dataframe tbody tr th {\n",
       "        vertical-align: top;\n",
       "    }\n",
       "\n",
       "    .dataframe thead th {\n",
       "        text-align: right;\n",
       "    }\n",
       "</style>\n",
       "<table border=\"1\" class=\"dataframe\">\n",
       "  <thead>\n",
       "    <tr style=\"text-align: right;\">\n",
       "      <th></th>\n",
       "      <th>lambda</th>\n",
       "      <th>lower</th>\n",
       "      <th>upper</th>\n",
       "    </tr>\n",
       "  </thead>\n",
       "  <tbody>\n",
       "    <tr>\n",
       "      <th>0</th>\n",
       "      <td>2</td>\n",
       "      <td>0.000000</td>\n",
       "      <td>4.771808</td>\n",
       "    </tr>\n",
       "    <tr>\n",
       "      <th>1</th>\n",
       "      <td>3</td>\n",
       "      <td>0.000000</td>\n",
       "      <td>6.394757</td>\n",
       "    </tr>\n",
       "    <tr>\n",
       "      <th>2</th>\n",
       "      <td>4</td>\n",
       "      <td>0.080072</td>\n",
       "      <td>7.919928</td>\n",
       "    </tr>\n",
       "    <tr>\n",
       "      <th>3</th>\n",
       "      <td>5</td>\n",
       "      <td>0.617387</td>\n",
       "      <td>9.382613</td>\n",
       "    </tr>\n",
       "    <tr>\n",
       "      <th>4</th>\n",
       "      <td>6</td>\n",
       "      <td>1.199088</td>\n",
       "      <td>10.800912</td>\n",
       "    </tr>\n",
       "    <tr>\n",
       "      <th>5</th>\n",
       "      <td>7</td>\n",
       "      <td>1.814423</td>\n",
       "      <td>12.185577</td>\n",
       "    </tr>\n",
       "    <tr>\n",
       "      <th>6</th>\n",
       "      <td>8</td>\n",
       "      <td>2.456385</td>\n",
       "      <td>13.543615</td>\n",
       "    </tr>\n",
       "    <tr>\n",
       "      <th>7</th>\n",
       "      <td>9</td>\n",
       "      <td>3.120108</td>\n",
       "      <td>14.879892</td>\n",
       "    </tr>\n",
       "    <tr>\n",
       "      <th>8</th>\n",
       "      <td>15</td>\n",
       "      <td>7.409092</td>\n",
       "      <td>22.590908</td>\n",
       "    </tr>\n",
       "    <tr>\n",
       "      <th>9</th>\n",
       "      <td>20</td>\n",
       "      <td>11.234775</td>\n",
       "      <td>28.765225</td>\n",
       "    </tr>\n",
       "    <tr>\n",
       "      <th>10</th>\n",
       "      <td>30</td>\n",
       "      <td>19.264835</td>\n",
       "      <td>40.735165</td>\n",
       "    </tr>\n",
       "  </tbody>\n",
       "</table>\n",
       "</div>"
      ],
      "text/plain": [
       "    lambda      lower      upper\n",
       "0        2   0.000000   4.771808\n",
       "1        3   0.000000   6.394757\n",
       "2        4   0.080072   7.919928\n",
       "3        5   0.617387   9.382613\n",
       "4        6   1.199088  10.800912\n",
       "5        7   1.814423  12.185577\n",
       "6        8   2.456385  13.543615\n",
       "7        9   3.120108  14.879892\n",
       "8       15   7.409092  22.590908\n",
       "9       20  11.234775  28.765225\n",
       "10      30  19.264835  40.735165"
      ]
     },
     "execution_count": 21,
     "metadata": {},
     "output_type": "execute_result"
    }
   ],
   "source": [
    "def poisson_confidence_interval(lmbda, confidence=0.95):\n",
    "    # Calculate the Z-value for the desired confidence level\n",
    "    z = norm.ppf(1 - (1 - confidence) / 2)\n",
    "    \n",
    "    # Calculate the lower and upper bounds using the normal approximation\n",
    "    lower_bound = lmbda - z * math.sqrt(lmbda)\n",
    "    upper_bound = lmbda + z * math.sqrt(lmbda)\n",
    "    \n",
    "    # Make sure the lower bound isn't negative (since lambda >= 0)\n",
    "    lower_bound = max(0, lower_bound)\n",
    "    \n",
    "    return lower_bound, upper_bound\n",
    "\n",
    "rows = []\n",
    "for lambda_value in tuple(range(2, 10)) + (15, 20, 30):\n",
    "    # Example usage\n",
    "    confidence_level = 0.95  # Replace with your desired confidence level\n",
    "    lower, upper = poisson_confidence_interval(lambda_value, confidence_level)\n",
    "    rows.append(\n",
    "        {\"lambda\": lambda_value, \"lower\": lower, \"upper\": upper}\n",
    "    )\n",
    "    \n",
    "    # print(f\"For λ = {lambda_value} and {confidence_level*100}% confidence level:\")\n",
    "    # print(f\"Lower Bound = {lower:.2f}\")\n",
    "    # print(f\"Upper Bound = {upper:.2f}\")\n",
    "pd.DataFrame(rows)"
   ]
  },
  {
   "cell_type": "code",
   "execution_count": 22,
   "id": "46b0ae4f-1522-4955-b903-0ba5691daa97",
   "metadata": {},
   "outputs": [
    {
     "data": {
      "text/html": [
       "<div>\n",
       "<style scoped>\n",
       "    .dataframe tbody tr th:only-of-type {\n",
       "        vertical-align: middle;\n",
       "    }\n",
       "\n",
       "    .dataframe tbody tr th {\n",
       "        vertical-align: top;\n",
       "    }\n",
       "\n",
       "    .dataframe thead th {\n",
       "        text-align: right;\n",
       "    }\n",
       "</style>\n",
       "<table border=\"1\" class=\"dataframe\">\n",
       "  <thead>\n",
       "    <tr style=\"text-align: right;\">\n",
       "      <th></th>\n",
       "      <th>lambda</th>\n",
       "      <th>lower</th>\n",
       "      <th>upper</th>\n",
       "    </tr>\n",
       "  </thead>\n",
       "  <tbody>\n",
       "    <tr>\n",
       "      <th>0</th>\n",
       "      <td>2</td>\n",
       "      <td>0</td>\n",
       "      <td>5</td>\n",
       "    </tr>\n",
       "    <tr>\n",
       "      <th>1</th>\n",
       "      <td>3</td>\n",
       "      <td>0</td>\n",
       "      <td>7</td>\n",
       "    </tr>\n",
       "    <tr>\n",
       "      <th>2</th>\n",
       "      <td>4</td>\n",
       "      <td>1</td>\n",
       "      <td>8</td>\n",
       "    </tr>\n",
       "    <tr>\n",
       "      <th>3</th>\n",
       "      <td>5</td>\n",
       "      <td>1</td>\n",
       "      <td>10</td>\n",
       "    </tr>\n",
       "    <tr>\n",
       "      <th>4</th>\n",
       "      <td>6</td>\n",
       "      <td>2</td>\n",
       "      <td>11</td>\n",
       "    </tr>\n",
       "    <tr>\n",
       "      <th>5</th>\n",
       "      <td>7</td>\n",
       "      <td>2</td>\n",
       "      <td>13</td>\n",
       "    </tr>\n",
       "    <tr>\n",
       "      <th>6</th>\n",
       "      <td>8</td>\n",
       "      <td>3</td>\n",
       "      <td>14</td>\n",
       "    </tr>\n",
       "    <tr>\n",
       "      <th>7</th>\n",
       "      <td>9</td>\n",
       "      <td>4</td>\n",
       "      <td>15</td>\n",
       "    </tr>\n",
       "    <tr>\n",
       "      <th>8</th>\n",
       "      <td>15</td>\n",
       "      <td>8</td>\n",
       "      <td>23</td>\n",
       "    </tr>\n",
       "    <tr>\n",
       "      <th>9</th>\n",
       "      <td>20</td>\n",
       "      <td>12</td>\n",
       "      <td>29</td>\n",
       "    </tr>\n",
       "    <tr>\n",
       "      <th>10</th>\n",
       "      <td>30</td>\n",
       "      <td>20</td>\n",
       "      <td>41</td>\n",
       "    </tr>\n",
       "  </tbody>\n",
       "</table>\n",
       "</div>"
      ],
      "text/plain": [
       "    lambda  lower  upper\n",
       "0        2      0      5\n",
       "1        3      0      7\n",
       "2        4      1      8\n",
       "3        5      1     10\n",
       "4        6      2     11\n",
       "5        7      2     13\n",
       "6        8      3     14\n",
       "7        9      4     15\n",
       "8       15      8     23\n",
       "9       20     12     29\n",
       "10      30     20     41"
      ]
     },
     "execution_count": 22,
     "metadata": {},
     "output_type": "execute_result"
    }
   ],
   "source": [
    "def poisson_exact_confidence_interval(observed_value, confidence=0.95):\n",
    "    # Calculate alpha (the complement of the confidence level)\n",
    "    alpha = 1 - confidence\n",
    "    \n",
    "    # Lower bound: find the value where CDF is approximately alpha/2\n",
    "    lower_bound = 0\n",
    "    while poisson.cdf(lower_bound, observed_value) < alpha / 2:\n",
    "        lower_bound += 1\n",
    "    \n",
    "    # Upper bound: find the value where 1 - CDF is approximately alpha/2\n",
    "    upper_bound = observed_value\n",
    "    while 1 - poisson.cdf(upper_bound, observed_value) > alpha / 2:\n",
    "        upper_bound += 1\n",
    "    \n",
    "    return lower_bound, upper_bound\n",
    "\n",
    "rows = []\n",
    "for observed_value in tuple(range(2, 10)) + (15, 20, 30):\n",
    "    # Example usage\n",
    "    confidence_level = 0.95  # Replace with your desired confidence level\n",
    "    lower, upper = poisson_exact_confidence_interval(observed_value, confidence_level)\n",
    "    rows.append(\n",
    "        {\"lambda\": observed_value, \"lower\": lower, \"upper\": upper}\n",
    "    )\n",
    "        \n",
    "    # print(f\"For an observed value of {observed_value} and a {confidence_level*100}% confidence level:\")\n",
    "    # print(f\"Lower Bound = {lower}\")\n",
    "    # print(f\"Upper Bound = {upper}\")\n",
    "pd.DataFrame(rows)"
   ]
  },
  {
   "cell_type": "code",
   "execution_count": 23,
   "id": "c93c8b95-937e-4310-83c7-d450542d8b49",
   "metadata": {},
   "outputs": [
    {
     "data": {
      "text/plain": [
       "100"
      ]
     },
     "execution_count": 23,
     "metadata": {},
     "output_type": "execute_result"
    }
   ],
   "source": [
    "np.clip(100, 1, 1000)"
   ]
  }
 ],
 "metadata": {
  "kernelspec": {
   "display_name": "Python 3 (ipykernel)",
   "language": "python",
   "name": "python3"
  },
  "language_info": {
   "codemirror_mode": {
    "name": "ipython",
    "version": 3
   },
   "file_extension": ".py",
   "mimetype": "text/x-python",
   "name": "python",
   "nbconvert_exporter": "python",
   "pygments_lexer": "ipython3",
   "version": "3.11.11"
  }
 },
 "nbformat": 4,
 "nbformat_minor": 5
}
