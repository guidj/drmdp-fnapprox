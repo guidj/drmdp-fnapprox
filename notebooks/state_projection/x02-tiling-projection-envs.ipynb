{
 "cells": [
  {
   "cell_type": "code",
   "execution_count": 1,
   "id": "96def89d-da64-421c-9fa7-4e7c383cac5c",
   "metadata": {},
   "outputs": [],
   "source": [
    "import copy\n",
    "from typing import Optional"
   ]
  },
  {
   "cell_type": "code",
   "execution_count": 2,
   "id": "294d273e-aa6e-40b5-9cd3-e44c87415250",
   "metadata": {},
   "outputs": [],
   "source": [
    "# example of fitting a gaussian mixture model with expectation maximization\n",
    "import gymnasium as gym\n",
    "import numpy as np\n",
    "import pandas as pd\n",
    "from scipy import linalg"
   ]
  },
  {
   "cell_type": "code",
   "execution_count": 3,
   "id": "63bc1d62-7fa9-495e-877d-909c4f7fa337",
   "metadata": {},
   "outputs": [],
   "source": [
    "from rlplg.environments import gridworld, redgreen"
   ]
  },
  {
   "cell_type": "code",
   "execution_count": 4,
   "id": "f40d14be-fe4e-45da-95ed-2ef2504f5abe",
   "metadata": {},
   "outputs": [],
   "source": [
    "import seaborn as sns\n",
    "from matplotlib import pyplot as plt"
   ]
  },
  {
   "cell_type": "markdown",
   "id": "1c7db704-00b1-4cbc-9384-3c343c25365e",
   "metadata": {},
   "source": [
    "## Tiling"
   ]
  },
  {
   "cell_type": "code",
   "execution_count": 5,
   "id": "c8d5c2a4-810f-4e6d-becb-913237eee752",
   "metadata": {},
   "outputs": [],
   "source": [
    "\"\"\"\n",
    "Tile Coding Software version 3.0beta\n",
    "by Rich Sutton\n",
    "based on a program created by Steph Schaeffer and others\n",
    "External documentation and recommendations on the use of this code is available in the \n",
    "reinforcement learning textbook by Sutton and Barto, and on the web.\n",
    "These need to be understood before this code is.\n",
    "\n",
    "This software is for Python 3 or more.\n",
    "\n",
    "This is an implementation of grid-style tile codings, based originally on\n",
    "the UNH CMAC code (see http://www.ece.unh.edu/robots/cmac.htm), but by now highly changed. \n",
    "Here we provide a function, \"tiles\", that maps floating and integer\n",
    "variables to a list of tiles, and a second function \"tiles-wrap\" that does the same while\n",
    "wrapping some floats to provided widths (the lower wrap value is always 0).\n",
    "\n",
    "The float variables will be gridded at unit intervals, so generalization\n",
    "will be by approximately 1 in each direction, and any scaling will have \n",
    "to be done externally before calling tiles.\n",
    "\n",
    "Num-tilings should be a power of 2, e.g., 16. To make the offsetting work properly, it should\n",
    "also be greater than or equal to four times the number of floats.\n",
    "\n",
    "The first argument is either an index hash table of a given size (created by (make-iht size)), \n",
    "an integer \"size\" (range of the indices from 0), or nil (for testing, indicating that the tile \n",
    "coordinates are to be returned without being converted to indices).\n",
    "\"\"\"\n",
    "\n",
    "basehash = hash\n",
    "\n",
    "class IHT:\n",
    "    \"Structure to handle collisions\"\n",
    "    def __init__(self, sizeval):\n",
    "        self.size = sizeval                        \n",
    "        self.overfullCount = 0\n",
    "        self.dictionary = {}\n",
    "\n",
    "    def __str__(self):\n",
    "        \"Prepares a string for printing whenever this object is printed\"\n",
    "        return \"Collision table:\" + \\\n",
    "               \" size:\" + str(self.size) + \\\n",
    "               \" overfullCount:\" + str(self.overfullCount) + \\\n",
    "               \" dictionary:\" + str(len(self.dictionary)) + \" items\"\n",
    "\n",
    "    def count(self):\n",
    "        return len(self.dictionary)\n",
    "    \n",
    "    def fullp(self):\n",
    "        return len(self.dictionary) >= self.size\n",
    "    \n",
    "    def getindex(self, obj, readonly=False):\n",
    "        d = self.dictionary\n",
    "        if obj in d: return d[obj]\n",
    "        elif readonly: return None\n",
    "        size = self.size\n",
    "        count = self.count()\n",
    "        if count >= size:\n",
    "            # TODO: Fail\n",
    "            if self.overfullCount==0: print('IHT full, starting to allow collisions')\n",
    "            self.overfullCount += 1\n",
    "            return basehash(obj) % self.size\n",
    "        else:\n",
    "            d[obj] = count\n",
    "            return count\n",
    "\n",
    "def hashcoords(coordinates, m, readonly=False):\n",
    "    if type(m)==IHT: return m.getindex(tuple(coordinates), readonly)\n",
    "    if type(m)==int: return basehash(tuple(coordinates)) % m\n",
    "    if m==None: return coordinates\n",
    "\n",
    "from itertools import zip_longest\n",
    "from math import floor\n",
    "\n",
    "\n",
    "def tiles (ihtORsize, numtilings, floats, ints=[], readonly=False):\n",
    "    \"\"\"returns num-tilings tile indices corresponding to the floats and ints\"\"\"\n",
    "    qfloats = [floor(f*numtilings) for f in floats]\n",
    "    Tiles = []\n",
    "    for tiling in range(numtilings):\n",
    "        tilingX2 = tiling*2\n",
    "        coords = [tiling]\n",
    "        b = tiling\n",
    "        for q in qfloats:\n",
    "            coords.append( (q + b) // numtilings )\n",
    "            b += tilingX2\n",
    "        coords.extend(ints)\n",
    "        Tiles.append(hashcoords(coords, ihtORsize, readonly))\n",
    "    return Tiles\n",
    "\n",
    "def tileswrap (ihtORsize, numtilings, floats, wrapwidths, ints=[], readonly=False):\n",
    "    \"\"\"returns num-tilings tile indices corresponding to the floats and ints, wrapping some floats\"\"\"\n",
    "    qfloats = [floor(f*numtilings) for f in floats]\n",
    "    Tiles = []\n",
    "    for tiling in range(numtilings):\n",
    "        tilingX2 = tiling*2\n",
    "        coords = [tiling]\n",
    "        b = tiling\n",
    "        for q, width in zip_longest(qfloats, wrapwidths):\n",
    "            c = (q + b%numtilings) // numtilings\n",
    "            coords.append(c%width if width else c)\n",
    "            b += tilingX2\n",
    "        coords.extend(ints)\n",
    "        Tiles.append(hashcoords(coords, ihtORsize, readonly))\n",
    "    return Tiles\n",
    "\n"
   ]
  },
  {
   "cell_type": "code",
   "execution_count": 6,
   "id": "4dcfc580-fde8-4989-b112-e8dcdd143129",
   "metadata": {},
   "outputs": [
    {
     "data": {
      "text/plain": [
       "<Axes: >"
      ]
     },
     "execution_count": 6,
     "metadata": {},
     "output_type": "execute_result"
    },
    {
     "data": {
      "image/png": "[encoded data removed]",
      "text/plain": [
       "<Figure size 600x600 with 1 Axes>"
      ]
     },
     "metadata": {},
     "output_type": "display_data"
    }
   ],
   "source": [
    "n = 10000\n",
    "mean = [0, 0]\n",
    "cov = [(2, .4), (.4, 2)]\n",
    "# x, y = rng.multivariate_normal(mean, cov, n).T\n",
    "rng = np.random.default_rng()\n",
    "# x, y = rng.multivariate_normal(mean, cov, n).T\n",
    "x = rng.integers(low=0, high=100, size=n)\n",
    "y = rng.integers(low=0, high=100, size=n)\n",
    "\n",
    "# Draw a combo histogram and scatterplot with density contours\n",
    "f, ax = plt.subplots(figsize=(6, 6))\n",
    "sns.scatterplot(x=x, y=y, s=5, color=\".15\")\n",
    "sns.histplot(x=x, y=y, bins=50, pthresh=.1, cmap=\"mako\")\n",
    "sns.kdeplot(x=x, y=y, levels=5, color=\"w\", linewidths=1)"
   ]
  },
  {
   "cell_type": "code",
   "execution_count": 7,
   "id": "a359c800-8500-47ad-bd84-ab54bb3c25c4",
   "metadata": {},
   "outputs": [
    {
     "data": {
      "text/plain": [
       "(array([73, 27, 76, ..., 15, 71,  8]), array([11, 77, 13, ...,  3, 80,  3]))"
      ]
     },
     "execution_count": 7,
     "metadata": {},
     "output_type": "execute_result"
    }
   ],
   "source": [
    "x, y"
   ]
  },
  {
   "cell_type": "code",
   "execution_count": 8,
   "id": "bb4b462b-7268-4386-93ab-a66b97a7f19d",
   "metadata": {},
   "outputs": [],
   "source": [
    "def pow2geq(lb):\n",
    "    exp = 1\n",
    "    while True:\n",
    "        rs = np.power(2, exp)\n",
    "        if rs >= lb:\n",
    "            break\n",
    "        exp += 1\n",
    "    return rs"
   ]
  },
  {
   "cell_type": "code",
   "execution_count": 9,
   "id": "41831663-519c-47d7-bdb0-e94da2d4e7e2",
   "metadata": {},
   "outputs": [
    {
     "name": "stdout",
     "output_type": "stream",
     "text": [
      "numTilings 8\n",
      "maxsize 800\n",
      "x 0 99\n",
      "y 0 99\n",
      "mytile [0, 1, 2, 3, 4, 5, 6, 7]\n",
      "mytile [8, 9, 10, 11, 12, 13, 14, 15]\n",
      "mytile [16, 17, 18, 19, 20, 21, 22, 23]\n",
      "mytile [8, 9, 10, 24, 25, 26, 27, 28]\n",
      "maxidx 799\n"
     ]
    }
   ],
   "source": [
    "tiling_dim = 10\n",
    "num_input_dims = 2\n",
    "numTilings = pow2geq(num_input_dims * 4)\n",
    "maxSize = tiling_dim * tiling_dim * numTilings\n",
    "print(\"numTilings\", numTilings)\n",
    "print(\"maxsize\", maxSize)\n",
    "iht = IHT(maxSize)\n",
    "minx, maxx = np.min(x), np.max(x)\n",
    "miny, maxy = np.min(y), np.max(y)\n",
    "\n",
    "def mytiles(x, y, numTilings: int):\n",
    "    # scale values to be between [0, dim]\n",
    "    return tiles(iht, numTilings, [(x - minx)/(maxx-minx) * tiling_dim,(y-miny)/(maxy-miny) * tiling_dim])\n",
    "\n",
    "def mywrappedtiles(x, y, numTilings):\n",
    "    return tileswrap(iht, numTilings, \n",
    "                     [(x - minx)/(maxx-minx) * tiling_dim,(y-miny)/(maxy-miny) * tiling_dim],\n",
    "                     [tiling_dim, tiling_dim]\n",
    "                    )\n",
    "    \n",
    "print(\"x\",  minx, maxx)\n",
    "print(\"y\",  miny, maxy)\n",
    "print(\"mytile\", mytiles(1, 50, numTilings=numTilings))\n",
    "print(\"mytile\", mytiles(10, 24, numTilings=numTilings))\n",
    "print(\"mytile\", mywrappedtiles(76, 50, numTilings=numTilings))\n",
    "print(\"mytile\", mywrappedtiles(10, 24, numTilings=numTilings))\n",
    "\n",
    "maxidx = 0\n",
    "for i in range(0, 100):\n",
    "    for j in range(0, 100):\n",
    "        maxidx = np.max([maxidx] + mywrappedtiles(i, j, numTilings=numTilings))\n",
    "        \n",
    "print(\"maxidx\", maxidx)"
   ]
  },
  {
   "cell_type": "code",
   "execution_count": 10,
   "id": "afda79b6-d5b8-4d37-b25f-62b6fe11b9fa",
   "metadata": {},
   "outputs": [],
   "source": [
    "def solve_least_squares(\n",
    "    matrix: np.ndarray, rhs: np.ndarray\n",
    ") -> np.ndarray:\n",
    "    try:\n",
    "        solution, _, _, _ = linalg.lstsq(a=matrix, b=rhs, lapack_driver=\"gelsy\")\n",
    "        return solution  # type: ignore\n",
    "    except linalg.LinAlgError as err:\n",
    "        # the computation failed, likely due to the matix being unsuitable (no solution).\n",
    "        raise ValueError(\"Failed to solve linear system\") from err"
   ]
  },
  {
   "cell_type": "code",
   "execution_count": 11,
   "id": "59d6e2d2-d01d-4507-9d37-51d09d9ef9a6",
   "metadata": {},
   "outputs": [],
   "source": [
    "def rmse(v_pred: np.ndarray, v_true: np.ndarray, axis: int):\n",
    "    if np.shape(v_pred) != np.shape(v_true):\n",
    "        raise ValueError(\n",
    "            f\"Tensors have different shapes: {np.shape(v_pred)} != {np.shape(v_true)}\"\n",
    "        )\n",
    "    return np.sqrt(\n",
    "        np.sum(np.power(v_pred - v_true, 2.0), axis=axis) / np.shape(v_pred)[axis]\n",
    "    )"
   ]
  },
  {
   "cell_type": "markdown",
   "id": "88c34679-56cc-4d1d-8472-5c02a3606bd9",
   "metadata": {},
   "source": [
    "## Gym Env"
   ]
  },
  {
   "cell_type": "code",
   "execution_count": 12,
   "id": "be069c80-71ce-4f52-9aa8-119fd57fe246",
   "metadata": {},
   "outputs": [],
   "source": [
    "def collection_traj_data(env, steps: int):\n",
    "    obs, _ = env.reset()\n",
    "    step = 0\n",
    "    buffer = []\n",
    "    while step < steps:\n",
    "        action = env.action_space.sample()\n",
    "        next_obs, rew, term, trunc, _,  = env.step(action)\n",
    "        step += 1\n",
    "        buffer.append((obs, action, rew))\n",
    "        obs = next_obs\n",
    "        if term or trunc:\n",
    "            obs, _ = env.reset()\n",
    "    return buffer"
   ]
  },
  {
   "cell_type": "code",
   "execution_count": 13,
   "id": "711b4aac-9040-4cf2-a477-5d6205997846",
   "metadata": {},
   "outputs": [],
   "source": [
    "def tiling_proj(obs_min, obs_max, tiling_dim: int):\n",
    "    # obs = np.stack([example[0] for example in buffer])\n",
    "    assert isinstance(obs_min, np.ndarray)\n",
    "    assert isinstance(obs_max, np.ndarray)\n",
    "    wrapwidths = [tiling_dim] * np.size(obs_min)\n",
    "\n",
    "    # num tilings should a power of 2\n",
    "    # and at least 4 times greater than\n",
    "    # the number of dimensions\n",
    "    num_tilings = pow2geq(np.size(obs_min) * 4)\n",
    "    max_size = (tiling_dim ** np.size(obs_min)) * num_tilings\n",
    "    print(\"Num tilings\", num_tilings, \"\\n\", \"Flat dim:\", max_size)\n",
    "    iht = IHT(max_size)    \n",
    "    def mywrappedtiles(obs):\n",
    "        obs_scaled_01 = (obs - obs_min) / (obs_max - obs_min)\n",
    "        repr = np.zeros(shape=max_size)\n",
    "        idx = tileswrap(\n",
    "            iht, \n",
    "            num_tilings, \n",
    "            obs_scaled_01 * tiling_dim,\n",
    "            wrapwidths\n",
    "        )\n",
    "        repr[idx] = 1\n",
    "        return repr\n",
    "    return mywrappedtiles"
   ]
  },
  {
   "cell_type": "code",
   "execution_count": 14,
   "id": "4ae890a2-f601-48e3-b7f7-bd57a582daf4",
   "metadata": {},
   "outputs": [
    {
     "name": "stdout",
     "output_type": "stream",
     "text": [
      "Num tilings 8 \n",
      " Flat dim: 128\n",
      "[-0.595615  0.      ]\n",
      "[1. 1. 1. 1. 1. 1. 1. 1. 0. 0. 0. 0. 0. 0. 0. 0. 0. 0. 0. 0. 0. 0. 0. 0.\n",
      " 0. 0. 0. 0. 0. 0. 0. 0. 0. 0. 0. 0. 0. 0. 0. 0. 0. 0. 0. 0. 0. 0. 0. 0.\n",
      " 0. 0. 0. 0. 0. 0. 0. 0. 0. 0. 0. 0. 0. 0. 0. 0. 0. 0. 0. 0. 0. 0. 0. 0.\n",
      " 0. 0. 0. 0. 0. 0. 0. 0. 0. 0. 0. 0. 0. 0. 0. 0. 0. 0. 0. 0. 0. 0. 0. 0.\n",
      " 0. 0. 0. 0. 0. 0. 0. 0. 0. 0. 0. 0. 0. 0. 0. 0. 0. 0. 0. 0. 0. 0. 0. 0.\n",
      " 0. 0. 0. 0. 0. 0. 0. 0.]\n"
     ]
    }
   ],
   "source": [
    "env = gym.make(\"MountainCar-v0\")\n",
    "proj_fn = tiling_proj(\n",
    "        env.observation_space.low, \n",
    "        env.observation_space.high,\n",
    "        tiling_dim=4\n",
    "    )\n",
    "obs, _ = env.reset()\n",
    "print(obs)\n",
    "print(proj_fn(obs))"
   ]
  },
  {
   "cell_type": "code",
   "execution_count": 15,
   "id": "09cc1cb7-c4f0-4084-a79a-553c8f6f0307",
   "metadata": {},
   "outputs": [
    {
     "data": {
      "text/plain": [
       "{}"
      ]
     },
     "execution_count": 15,
     "metadata": {},
     "output_type": "execute_result"
    }
   ],
   "source": [
    "vars(proj_fn)"
   ]
  },
  {
   "cell_type": "code",
   "execution_count": 16,
   "id": "8ac3c0c3-7c24-45bb-84b7-c33a282af342",
   "metadata": {},
   "outputs": [],
   "source": [
    "class Tiles:\n",
    "    def __init__(\n",
    "        self, dims_min: np.ndarray, dims_max: np.ndarray, \n",
    "        tiling_dim: int, num_tilings: Optional[int] = None\n",
    "    ):\n",
    "        assert isinstance(dims_min, np.ndarray)\n",
    "        assert isinstance(dims_max, np.ndarray)\n",
    "        self.dims_max = dims_max\n",
    "        self.dims_min = dims_min\n",
    "        self.tiling_dim = tiling_dim\n",
    "        self.wrapwidths = [tiling_dim] * np.size(dims_min)\n",
    "    \n",
    "        # num tilings should a power of 2\n",
    "        # and at least 4 times greater than\n",
    "        # the number of dimensions\n",
    "        self.num_tilings = num_tilings or pow2geq(np.size(dims_min) * 4)\n",
    "        self.max_size = (tiling_dim ** np.size(dims_min)) * self.num_tilings\n",
    "        print(\"Num tilings\", self.num_tilings, \"\\n\", \"Flat dim:\", self.max_size)\n",
    "        self.iht = IHT(self.max_size)\n",
    "\n",
    "    def __call__(self, xs):\n",
    "        xs_scaled_01 = (xs - self.dims_min) / (self.dims_max - self.dims_min)\n",
    "        repr = np.zeros(shape=self.max_size)\n",
    "        idx = tileswrap(\n",
    "            self.iht, \n",
    "            self.num_tilings, \n",
    "            xs_scaled_01 * self.tiling_dim,\n",
    "            self.wrapwidths\n",
    "        )\n",
    "        repr[idx] = 1\n",
    "        return repr    "
   ]
  },
  {
   "cell_type": "code",
   "execution_count": 17,
   "id": "6cac9ed1-0984-404c-bf43-e5abf82b9876",
   "metadata": {},
   "outputs": [
    {
     "name": "stdout",
     "output_type": "stream",
     "text": [
      "Num tilings 8 \n",
      " Flat dim: 128\n",
      "[-0.48570475  0.        ]\n",
      "[1. 1. 1. 1. 1. 1. 1. 1. 0. 0. 0. 0. 0. 0. 0. 0. 0. 0. 0. 0. 0. 0. 0. 0.\n",
      " 0. 0. 0. 0. 0. 0. 0. 0. 0. 0. 0. 0. 0. 0. 0. 0. 0. 0. 0. 0. 0. 0. 0. 0.\n",
      " 0. 0. 0. 0. 0. 0. 0. 0. 0. 0. 0. 0. 0. 0. 0. 0. 0. 0. 0. 0. 0. 0. 0. 0.\n",
      " 0. 0. 0. 0. 0. 0. 0. 0. 0. 0. 0. 0. 0. 0. 0. 0. 0. 0. 0. 0. 0. 0. 0. 0.\n",
      " 0. 0. 0. 0. 0. 0. 0. 0. 0. 0. 0. 0. 0. 0. 0. 0. 0. 0. 0. 0. 0. 0. 0. 0.\n",
      " 0. 0. 0. 0. 0. 0. 0. 0.]\n"
     ]
    }
   ],
   "source": [
    "env = gym.make(\"MountainCar-v0\")\n",
    "tile_fn = Tiles(\n",
    "        env.observation_space.low,\n",
    "        env.observation_space.high,\n",
    "        tiling_dim=4\n",
    "    )\n",
    "obs, _ = env.reset()\n",
    "print(obs)\n",
    "print(tile_fn(obs))"
   ]
  },
  {
   "cell_type": "code",
   "execution_count": 18,
   "id": "28f31262-5c0b-404f-8da3-88ddfcdacc38",
   "metadata": {},
   "outputs": [
    {
     "data": {
      "text/plain": [
       "{'dims_max': array([0.6 , 0.07], dtype=float32),\n",
       " 'dims_min': array([-1.2 , -0.07], dtype=float32),\n",
       " 'tiling_dim': 4,\n",
       " 'wrapwidths': [4, 4],\n",
       " 'num_tilings': 8,\n",
       " 'max_size': 128,\n",
       " 'iht': <__main__.IHT at 0x172c2a0d0>}"
      ]
     },
     "execution_count": 18,
     "metadata": {},
     "output_type": "execute_result"
    }
   ],
   "source": [
    "vars(tile_fn)"
   ]
  },
  {
   "cell_type": "code",
   "execution_count": 19,
   "id": "89e9b2e4-1ef5-45ee-ae06-869452940499",
   "metadata": {},
   "outputs": [],
   "source": [
    "def delay_reward_data(buffer, delay: int, sample_size: int):\n",
    "    obs = np.stack([example[0] for example in buffer])\n",
    "    action = np.stack([example[1] for example in buffer])\n",
    "    reward = np.stack([example[2] for example in buffer])\n",
    "\n",
    "    # repr: (m1,a1)(m2,a1)..\n",
    "    mdim = obs.shape[1] * len(np.unique(action))\n",
    "    num_components = obs.shape[1]\n",
    "\n",
    "    # build samples\n",
    "    mask = np.random.choice(len(obs), (sample_size, delay))\n",
    "    delayed_obs = obs[mask] # batch x delay x dim\n",
    "    delayed_act = action[mask]\n",
    "    delayed_rew = np.sum(reward[mask], axis=1) # batch x delay -> batch    \n",
    "    \n",
    "    rhat_matrix = np.zeros(shape=(len(delayed_obs), mdim))\n",
    "    \n",
    "    for i in range(len(delayed_obs)):\n",
    "        for j in range(delay):\n",
    "            c = num_components*delayed_act[i][j]\n",
    "            rhat_matrix[i,c:c+num_components] += delayed_obs[i][j]\n",
    "\n",
    "    return rhat_matrix, delayed_rew"
   ]
  },
  {
   "cell_type": "code",
   "execution_count": 20,
   "id": "68f3b2ea-8920-4cbf-b60a-dc7282781da8",
   "metadata": {},
   "outputs": [],
   "source": [
    "def proj_obs_to_rwest_vec(buffer, sample_size: int):\n",
    "    obs = np.stack([example[0] for example in buffer])\n",
    "    action = np.stack([example[1] for example in buffer])\n",
    "    reward = np.stack([example[2] for example in buffer])\n",
    "    \n",
    "    # repr: (m1,a1)(m2,a1)..\n",
    "    mdim = obs.shape[1] * len(np.unique(action))\n",
    "    num_components = obs.shape[1]\n",
    "\n",
    "    # build samples\n",
    "    mask = np.random.choice(len(obs), sample_size)\n",
    "    delayed_obs = obs[mask] # batch x dim\n",
    "    delayed_act = action[mask] # batch\n",
    "    delayed_rew = reward[mask] # batch\n",
    "    \n",
    "    rhat_matrix = np.zeros(shape=(len(delayed_obs), mdim))\n",
    "    \n",
    "    for i in range(len(delayed_obs)):\n",
    "        c = num_components*delayed_act[i]\n",
    "        rhat_matrix[i,c:c+num_components] += delayed_obs[i]\n",
    "    return rhat_matrix, delayed_rew"
   ]
  },
  {
   "cell_type": "code",
   "execution_count": 21,
   "id": "c02d574b-b801-47c0-bd4b-97a549aebbc1",
   "metadata": {},
   "outputs": [],
   "source": [
    "def solve_rwe(env: gym.Env, num_steps: int, sample_size: int, delay: int):\n",
    "    buffer = collection_traj_data(env, steps=num_steps)\n",
    "    Xd, yd = delay_reward_data(buffer, delay=delay, sample_size=sample_size)\n",
    "    return buffer, solve_least_squares(Xd, yd)"
   ]
  },
  {
   "cell_type": "code",
   "execution_count": 22,
   "id": "fbb51c96-dd50-4120-bba8-5c8b79dbe937",
   "metadata": {},
   "outputs": [],
   "source": [
    "def rwe_scatterplot(v_pred, v_true):\n",
    "    _, ax = plt.subplots(figsize=(6, 6))\n",
    "    df = pd.DataFrame({\n",
    "        \"x\": v_pred,\n",
    "        \"y\": v_true,\n",
    "        \"size\": np.abs(v_pred - v_true)\n",
    "    })\n",
    "    sns.scatterplot(\n",
    "        df, x=\"x\", y=\"y\", size=\"size\", hue=\"size\", s=5, color=\".15\"\n",
    "    )\n",
    "    # sns.histplot(x=v_pred, y=v_true, bins=50, cmap=\"mako\")\n",
    "    # sns.kdeplot(x=v_pred, y=v_true, levels=5, color=\"w\")\n",
    "    ax.set_xlabel(\"yhat\")\n",
    "    ax.set_ylabel(\"ytrue\")\n",
    "    ax.set_title(\"Reward Estimation\")"
   ]
  },
  {
   "cell_type": "code",
   "execution_count": 23,
   "id": "5b71c921-f5eb-45a9-9f90-40541af19038",
   "metadata": {},
   "outputs": [],
   "source": [
    "def hashtrick(xs, dim: int):\n",
    "    ys = np.zeros(dim, dtype=np.int32)\n",
    "    idx,  = np.where(xs == 1)\n",
    "    for i in idx:\n",
    "        ys[i % dim] += 1\n",
    "    return ys"
   ]
  },
  {
   "cell_type": "markdown",
   "id": "843f3008-492e-4fb1-adde-b63b0b956440",
   "metadata": {},
   "source": [
    "### Moutain Car"
   ]
  },
  {
   "cell_type": "code",
   "execution_count": 24,
   "id": "79488506-e38b-493b-a7fc-e170c28a7e19",
   "metadata": {},
   "outputs": [],
   "source": [
    "class MCObsWrapper(gym.ObservationWrapper):\n",
    "    def __init__(self, env, tiling_dim: int, num_tilings: int = None):\n",
    "        super().__init__(env)\n",
    "        self.tiles = Tiles(\n",
    "                env.observation_space.low,\n",
    "                env.observation_space.high,\n",
    "                tiling_dim=tiling_dim,\n",
    "                num_tilings=num_tilings\n",
    "            )\n",
    "        self.observation_space = gym.spaces.Box(\n",
    "            low=np.zeros(shape=self.tiles.max_size, dtype=np.int32), \n",
    "            high=np.ones(shape=self.tiles.max_size, dtype=np.int32)\n",
    "        )\n",
    "\n",
    "    def observation(self, obs):\n",
    "        return self.tiles(obs)"
   ]
  },
  {
   "cell_type": "code",
   "execution_count": 25,
   "id": "cc2a2e2f-a6d5-40b3-b7af-74c653aca8d9",
   "metadata": {},
   "outputs": [
    {
     "name": "stdout",
     "output_type": "stream",
     "text": [
      "Num tilings 8 \n",
      " Flat dim: 128\n"
     ]
    }
   ],
   "source": [
    "mc_env = MCObsWrapper(gym.make(\"MountainCar-v0\"), tiling_dim=4)\n",
    "mc_buffer, mc_sol = solve_rwe(\n",
    "    mc_env,\n",
    "    num_steps=150_000, \n",
    "    sample_size=50_000,\n",
    "    delay=2,\n",
    ")"
   ]
  },
  {
   "cell_type": "code",
   "execution_count": 26,
   "id": "bc8738a8-4446-49ef-ae95-0753ca89b8b4",
   "metadata": {},
   "outputs": [
    {
     "data": {
      "text/plain": [
       "150000"
      ]
     },
     "execution_count": 26,
     "metadata": {},
     "output_type": "execute_result"
    }
   ],
   "source": [
    "len(mc_buffer)"
   ]
  },
  {
   "cell_type": "code",
   "execution_count": 27,
   "id": "5d287a55-2236-4860-891a-86858ee7968b",
   "metadata": {},
   "outputs": [
    {
     "data": {
      "text/plain": [
       "array([1., 1., 1., 1., 1., 1., 1., 1., 0., 0., 0., 0., 0., 0., 0., 0., 0.,\n",
       "       0., 0., 0., 0., 0., 0., 0., 0., 0., 0., 0., 0., 0., 0., 0., 0., 0.,\n",
       "       0., 0., 0., 0., 0., 0., 0., 0., 0., 0., 0., 0., 0., 0., 0., 0., 0.,\n",
       "       0., 0., 0., 0., 0., 0., 0., 0., 0., 0., 0., 0., 0., 0., 0., 0., 0.,\n",
       "       0., 0., 0., 0., 0., 0., 0., 0., 0., 0., 0., 0., 0., 0., 0., 0., 0.,\n",
       "       0., 0., 0., 0., 0., 0., 0., 0., 0., 0., 0., 0., 0., 0., 0., 0., 0.,\n",
       "       0., 0., 0., 0., 0., 0., 0., 0., 0., 0., 0., 0., 0., 0., 0., 0., 0.,\n",
       "       0., 0., 0., 0., 0., 0., 0., 0., 0.])"
      ]
     },
     "execution_count": 27,
     "metadata": {},
     "output_type": "execute_result"
    }
   ],
   "source": [
    "mc_buffer[0][0]"
   ]
  },
  {
   "cell_type": "code",
   "execution_count": 28,
   "id": "4c288ed5-b62d-4bb4-b628-97a8aa5188ef",
   "metadata": {},
   "outputs": [
    {
     "data": {
      "text/plain": [
       "<__main__.Tiles at 0x10a81b510>"
      ]
     },
     "execution_count": 28,
     "metadata": {},
     "output_type": "execute_result"
    }
   ],
   "source": [
    "mc_env.tiles"
   ]
  },
  {
   "cell_type": "code",
   "execution_count": 29,
   "id": "a0a2a025-e2a1-4163-ac7b-dc0c5884d84f",
   "metadata": {},
   "outputs": [
    {
     "data": {
      "text/plain": [
       "array([ 0.02079508, -0.72203609, -0.09419564, -0.02775852, -0.04098073,\n",
       "        0.07246595, -0.21114093,  0.00285089, -0.04098073,  0.07246595,\n",
       "        0.02079508, -0.02775852, -0.02775852, -0.02775852, -0.21114093,\n",
       "       -0.72203609,  0.07246595, -0.21114093,  0.00285089, -0.21114093,\n",
       "        0.07246595, -0.09419564,  0.00285089, -0.04098073, -0.04098073,\n",
       "       -0.09419564, -0.72203609,  0.02079508, -0.09419564,  0.02079508,\n",
       "       -0.72203609, -0.04098073, -0.04098073,  0.02079508,  0.02079508,\n",
       "        0.00285089, -0.72203609,  0.00285089,  0.00285089, -0.72203609,\n",
       "       -0.21114093, -0.09419564,  0.00285089, -0.21114093,  0.        ,\n",
       "        0.        ,  0.00285089, -0.21114093,  0.        ,  0.07246595,\n",
       "        0.        , -0.72203609, -0.09419564,  0.        ,  0.07246595,\n",
       "        0.07246595, -0.21114093,  0.00285089,  0.02079508,  0.        ,\n",
       "       -0.02775852,  0.        ,  0.        ,  0.        ,  0.        ,\n",
       "        0.        ,  0.        ,  0.        ,  0.        ,  0.        ,\n",
       "        0.        ,  0.        ,  0.        ,  0.        ,  0.        ,\n",
       "        0.        ,  0.        ,  0.        ,  0.        ,  0.        ,\n",
       "        0.        ,  0.        ,  0.        ,  0.        ,  0.        ,\n",
       "        0.        ,  0.        ,  0.        ,  0.        ,  0.        ,\n",
       "        0.        ,  0.        ,  0.        ,  0.        ,  0.        ,\n",
       "        0.        ,  0.        ,  0.        ,  0.        ,  0.        ,\n",
       "        0.        ,  0.        ,  0.        ,  0.        ,  0.        ,\n",
       "        0.        ,  0.        ,  0.        ,  0.        ,  0.        ,\n",
       "        0.        ,  0.        ,  0.        ,  0.        ,  0.        ,\n",
       "        0.        ,  0.        ,  0.        ,  0.        ,  0.        ,\n",
       "        0.        ,  0.        ,  0.        ,  0.        ,  0.        ,\n",
       "        0.        ,  0.        ,  0.        , -0.13865966,  1.00789491,\n",
       "        0.01819304, -0.00884282, -0.86013207, -1.25312391,  0.07463594,\n",
       "        0.16003457, -0.86013207, -1.25312391, -0.13865966, -0.00884282,\n",
       "       -0.00884282, -0.00884282,  0.07463594,  1.00789491, -1.25312391,\n",
       "        0.07463594,  0.16003457,  0.07463594, -1.25312391,  0.01819304,\n",
       "        0.16003457, -0.86013207, -0.86013207,  0.01819304,  1.00789491,\n",
       "       -0.13865966,  0.01819304, -0.13865966,  1.00789491, -0.86013207,\n",
       "       -0.86013207, -0.13865966, -0.13865966,  0.16003457,  1.00789491,\n",
       "        0.16003457,  0.16003457,  1.00789491,  0.07463594,  0.01819304,\n",
       "        0.16003457,  0.07463594,  0.        ,  1.00789491,  0.16003457,\n",
       "       -0.58924398,  0.01819304, -1.25312391,  0.        ,  1.00789491,\n",
       "        0.01819304, -0.46686547,  0.        , -0.58924398,  0.        ,\n",
       "        0.        , -0.13865966,  0.        ,  0.        , -0.86013207,\n",
       "       -1.25312391, -0.00884282,  0.01819304,  1.00789491,  0.        ,\n",
       "       -0.46684681, -0.46691411,  0.        ,  0.        ,  0.        ,\n",
       "        0.        ,  0.        ,  0.        ,  0.        ,  0.        ,\n",
       "        0.        ,  0.        ,  0.        ,  0.        ,  0.        ,\n",
       "        0.        ,  0.        ,  0.        ,  0.        ,  0.        ,\n",
       "        0.        ,  0.        ,  0.        ,  0.        ,  0.        ,\n",
       "        0.        ,  0.        ,  0.        ,  0.        ,  0.        ,\n",
       "        0.        ,  0.        ,  0.        ,  0.        ,  0.        ,\n",
       "        0.        ,  0.        ,  0.        ,  0.        ,  0.        ,\n",
       "        0.        ,  0.        ,  0.        ,  0.        ,  0.        ,\n",
       "        0.        ,  0.        ,  0.        ,  0.        ,  0.        ,\n",
       "        0.        ,  0.        ,  0.        ,  0.        ,  0.        ,\n",
       "        0.        ,  0.        ,  0.        ,  0.        ,  0.        ,\n",
       "        0.        , -0.03167225,  0.00464457, -0.0972602 , -0.0084066 ,\n",
       "       -0.37083656,  0.05173932, -0.0839474 , -0.46426087, -0.37083656,\n",
       "        0.05173932, -0.03167225, -0.0084066 , -0.0084066 , -0.0084066 ,\n",
       "       -0.0839474 ,  0.00464457,  0.05173932, -0.0839474 , -0.46426087,\n",
       "       -0.0839474 ,  0.05173932, -0.0972602 , -0.46426087, -0.37083656,\n",
       "       -0.37083656, -0.0972602 ,  0.00464457, -0.03167225, -0.0972602 ,\n",
       "       -0.03167225,  0.00464457, -0.37083656, -0.37083656, -0.03167225,\n",
       "       -0.03167225, -0.46426087,  0.00464457, -0.46426087, -0.46426087,\n",
       "        0.00464457, -0.0839474 , -0.0972602 , -0.46426087, -0.0839474 ,\n",
       "        0.        ,  0.00464457, -0.46426087, -0.0839474 , -0.0972602 ,\n",
       "        0.        ,  0.05173932,  0.00464457, -0.0972602 , -0.0084066 ,\n",
       "        0.05173932,  0.05173932,  0.        ,  0.        , -0.03167225,\n",
       "        0.        , -0.18962058, -0.18962258,  0.        , -0.05287792,\n",
       "       -0.05278888,  0.00464457, -0.03167225,  0.01004341,  0.01002366,\n",
       "        0.        ,  0.        ,  0.        ,  0.        ,  0.        ,\n",
       "        0.        ,  0.        ,  0.        ,  0.        ,  0.        ,\n",
       "        0.        ,  0.        ,  0.        ,  0.        ,  0.        ,\n",
       "        0.        ,  0.        ,  0.        ,  0.        ,  0.        ,\n",
       "        0.        ,  0.        ,  0.        ,  0.        ,  0.        ,\n",
       "        0.        ,  0.        ,  0.        ,  0.        ,  0.        ,\n",
       "        0.        ,  0.        ,  0.        ,  0.        ,  0.        ,\n",
       "        0.        ,  0.        ,  0.        ,  0.        ,  0.        ,\n",
       "        0.        ,  0.        ,  0.        ,  0.        ,  0.        ,\n",
       "        0.        ,  0.        ,  0.        ,  0.        ,  0.        ,\n",
       "        0.        ,  0.        ,  0.        ,  0.        ,  0.        ,\n",
       "        0.        ,  0.        ,  0.        ,  0.        ])"
      ]
     },
     "execution_count": 29,
     "metadata": {},
     "output_type": "execute_result"
    }
   ],
   "source": [
    "mc_sol"
   ]
  },
  {
   "cell_type": "code",
   "execution_count": 30,
   "id": "e24d05d9-b378-484d-85dc-385de1571378",
   "metadata": {},
   "outputs": [],
   "source": [
    "mc_eval_X, mc_eval_y = proj_obs_to_rwest_vec(mc_buffer, sample_size=10_000)"
   ]
  },
  {
   "cell_type": "code",
   "execution_count": 31,
   "id": "a1ea49b5-81ad-4f5a-89d1-1abfb9065347",
   "metadata": {},
   "outputs": [
    {
     "data": {
      "text/plain": [
       "array([-1., -1., -1., ..., -1., -1., -1.])"
      ]
     },
     "execution_count": 31,
     "metadata": {},
     "output_type": "execute_result"
    }
   ],
   "source": [
    "np.matmul(mc_eval_X, mc_sol)"
   ]
  },
  {
   "cell_type": "code",
   "execution_count": 32,
   "id": "e8f6d99d-afde-43a0-b715-7d2bacb1cb3c",
   "metadata": {},
   "outputs": [
    {
     "data": {
      "text/plain": [
       "0.004580226477560179"
      ]
     },
     "execution_count": 32,
     "metadata": {},
     "output_type": "execute_result"
    }
   ],
   "source": [
    "rmse(\n",
    "    v_pred=np.matmul(mc_eval_X, mc_sol), \n",
    "    v_true=mc_eval_y,\n",
    "    axis=0\n",
    ")"
   ]
  },
  {
   "cell_type": "code",
   "execution_count": 33,
   "id": "5684e9e8-d690-490c-bb06-620b29419513",
   "metadata": {},
   "outputs": [
    {
     "data": {
      "image/png": "[encoded data removed]",
      "text/plain": [
       "<Figure size 600x600 with 1 Axes>"
      ]
     },
     "metadata": {},
     "output_type": "display_data"
    }
   ],
   "source": [
    "rwe_scatterplot(\n",
    "    v_pred=np.matmul(mc_eval_X, mc_sol), \n",
    "    v_true=mc_eval_y\n",
    ")"
   ]
  },
  {
   "cell_type": "markdown",
   "id": "192c08ce-838b-4110-8ba0-ede92915e0ce",
   "metadata": {},
   "source": [
    "### Grid World (Different Rewards)"
   ]
  },
  {
   "cell_type": "code",
   "execution_count": 34,
   "id": "adf81a9c-9261-4267-9290-20a3b69df0b4",
   "metadata": {},
   "outputs": [],
   "source": [
    "class GWObsWrapper(gym.ObservationWrapper):\n",
    "    def __init__(self, env, tiling_dim: int, num_tilings: int = None):\n",
    "        super().__init__(env)\n",
    "        self.tiles = Tiles(\n",
    "                np.array([0, 0], np.int32),\n",
    "                np.array(\n",
    "                    [env.observation_space[\"agent\"][0].n, env.observation_space[\"agent\"][1].n]\n",
    "                ),\n",
    "                tiling_dim=tiling_dim,\n",
    "                num_tilings=num_tilings\n",
    "            )\n",
    "        self.observation_space = gym.spaces.Box(\n",
    "            low=np.zeros(shape=self.tiles.max_size, dtype=np.int32), \n",
    "            high=np.ones(shape=self.tiles.max_size, dtype=np.int32)\n",
    "        )\n",
    "\n",
    "    def observation(self, obs):\n",
    "        return self.tiles(obs[\"agent\"])"
   ]
  },
  {
   "cell_type": "code",
   "execution_count": 35,
   "id": "2e64de9e-e038-4f68-aae3-5bfdd649a470",
   "metadata": {},
   "outputs": [
    {
     "name": "stdout",
     "output_type": "stream",
     "text": [
      "(4, 12) [(3, 1), (3, 2), (3, 3), (3, 4), (3, 5), (3, 6), (3, 7), (3, 8), (3, 9), (3, 10)] [(3, 11)] (3, 0)\n",
      "Num tilings 8 \n",
      " Flat dim: 200\n"
     ]
    }
   ],
   "source": [
    "size, cliffs, exits, start = gridworld.parse_grid_from_text(\n",
    "    [\"oooooooooooo\", \"oooooooooooo\", \"oooooooooooo\", \"sxxxxxxxxxxg\"]\n",
    ")\n",
    "print(size, cliffs, exits, start)\n",
    "gw_env = GWObsWrapper(\n",
    "    gridworld.GridWorld(size, cliffs, exits, start),\n",
    "    tiling_dim=5\n",
    ")\n",
    "gw_buffer, gw_sol = solve_rwe(\n",
    "    gw_env,\n",
    "    num_steps=150_000, \n",
    "    sample_size=50_000,\n",
    "    delay=2,\n",
    ")"
   ]
  },
  {
   "cell_type": "code",
   "execution_count": 36,
   "id": "fba47ae4-aeed-45bc-a052-7fcf2665ed4a",
   "metadata": {},
   "outputs": [
    {
     "data": {
      "text/plain": [
       "array([-100.,   -1.])"
      ]
     },
     "execution_count": 36,
     "metadata": {},
     "output_type": "execute_result"
    }
   ],
   "source": [
    "np.unique([ex[2] for ex in gw_buffer])"
   ]
  },
  {
   "cell_type": "code",
   "execution_count": 37,
   "id": "5e9b01e8-7906-4762-ac84-4f51c8f58988",
   "metadata": {},
   "outputs": [
    {
     "data": {
      "text/plain": [
       "array([ 1.05271963e+00, -8.36903738e+00,  1.05271963e+00,  1.05271963e+00,\n",
       "        1.05271963e+00,  1.05271963e+00,  1.05271963e+00,  1.05271963e+00,\n",
       "       -2.67897308e+00,  9.85626708e+00,  1.43109957e-01, -1.21603833e+01,\n",
       "       -8.82535110e+00,  2.01485659e+00,  9.84023406e+00,  8.10239833e-01,\n",
       "        3.57318723e-01,  3.86836232e-01,  2.22405143e+00, -3.49486851e+00,\n",
       "       -3.46028238e+00,  1.78263009e+01,  1.26091526e-01, -2.83894663e-01,\n",
       "        9.22559291e+00, -1.03696489e+01, -1.41502779e+01,  8.18387039e+00,\n",
       "       -3.11620876e+00,  9.38447537e+00,  1.87670515e+01,  1.49536858e+01,\n",
       "       -6.92679860e+00, -1.28854579e-01, -2.31396506e-02, -8.85665693e-01,\n",
       "        1.55871427e+00, -1.23725107e+00, -1.64869609e-01,  7.02137503e-01,\n",
       "       -8.21071170e-01, -8.06828930e+00,  1.23006637e-01, -7.88024684e+00,\n",
       "        1.73032803e+00,  3.05044537e+00, -2.44666909e+00,  7.07495676e+00,\n",
       "        2.46197367e+00, -2.61687412e+00,  1.08898041e+01, -1.24868381e+01,\n",
       "       -6.23380923e-03, -2.31218260e+00, -2.41268306e+00, -6.90336060e+00,\n",
       "       -2.58576899e+00, -2.50121222e+00, -8.29686502e+00,  6.63241218e-01,\n",
       "        6.59204759e-01, -2.63644506e+00, -1.32150123e+00,  1.61405936e+00,\n",
       "       -1.29000503e+00,  4.64132478e-01,  7.39899784e-01, -1.66782638e-01,\n",
       "       -2.20603563e-01, -1.46501303e-01, -6.47759060e-01, -2.13502042e-01,\n",
       "       -7.44968490e-02,  5.51297731e-03, -1.80119927e+00,  9.86635928e-01,\n",
       "        9.65411881e-01, -1.13502247e+00,  1.24941836e+00, -1.14061927e+00,\n",
       "        8.88768864e-02,  1.94452938e+00,  3.14858258e+00,  1.96848298e+00,\n",
       "        5.81618471e+00,  6.90322252e-01, -1.11909405e+00,  5.91485992e-01,\n",
       "       -1.88728178e-01, -1.15767692e+00,  5.95956555e-01, -4.06031845e-01,\n",
       "       -1.61301801e+00,  4.39729119e+00, -1.60306444e+00, -3.10447988e+00,\n",
       "        6.35589497e-01, -3.11202424e+00, -1.23633022e+00,  8.81402964e-01,\n",
       "       -1.23152146e+00,  7.17765124e-01,  2.53525453e-01,  7.67255190e-01,\n",
       "       -1.14507454e+00, -2.09262412e+00, -1.14615400e+00, -4.26678475e-01,\n",
       "       -3.21803043e+00, -4.32132115e-01,  2.46380417e+00, -4.37586217e+00,\n",
       "        2.47875764e+00, -4.37754210e+00, -1.93411463e+00,  3.27397172e+00,\n",
       "       -1.87003673e+00,  3.27844281e+00, -4.91696667e+00, -4.92254277e+00,\n",
       "       -4.35436659e-02, -4.18734179e-02,  0.00000000e+00,  0.00000000e+00,\n",
       "        0.00000000e+00,  0.00000000e+00,  1.27782310e+00,  1.38278016e-01,\n",
       "        1.27144997e+00,  1.35764477e-01, -2.09870044e-01, -2.30545484e-01,\n",
       "        0.00000000e+00,  0.00000000e+00,  0.00000000e+00,  0.00000000e+00,\n",
       "        0.00000000e+00,  0.00000000e+00,  0.00000000e+00,  0.00000000e+00,\n",
       "        0.00000000e+00,  0.00000000e+00,  0.00000000e+00,  0.00000000e+00,\n",
       "        0.00000000e+00,  0.00000000e+00,  0.00000000e+00,  0.00000000e+00,\n",
       "        0.00000000e+00,  0.00000000e+00,  0.00000000e+00,  0.00000000e+00,\n",
       "        0.00000000e+00,  0.00000000e+00,  0.00000000e+00,  0.00000000e+00,\n",
       "        0.00000000e+00,  0.00000000e+00,  0.00000000e+00,  0.00000000e+00,\n",
       "        0.00000000e+00,  0.00000000e+00,  0.00000000e+00,  0.00000000e+00,\n",
       "        0.00000000e+00,  0.00000000e+00,  0.00000000e+00,  0.00000000e+00,\n",
       "        0.00000000e+00,  0.00000000e+00,  0.00000000e+00,  0.00000000e+00,\n",
       "        0.00000000e+00,  0.00000000e+00,  0.00000000e+00,  0.00000000e+00,\n",
       "        0.00000000e+00,  0.00000000e+00,  0.00000000e+00,  0.00000000e+00,\n",
       "        0.00000000e+00,  0.00000000e+00,  0.00000000e+00,  0.00000000e+00,\n",
       "        0.00000000e+00,  0.00000000e+00,  0.00000000e+00,  0.00000000e+00,\n",
       "        0.00000000e+00,  0.00000000e+00,  0.00000000e+00,  0.00000000e+00,\n",
       "        0.00000000e+00,  0.00000000e+00,  0.00000000e+00,  0.00000000e+00,\n",
       "        0.00000000e+00,  0.00000000e+00,  0.00000000e+00,  0.00000000e+00,\n",
       "        8.60397517e+01, -2.65771074e+01, -2.65771074e+01, -2.65771074e+01,\n",
       "       -2.65771074e+01, -2.65771074e+01, -2.65771074e+01, -2.65771074e+01,\n",
       "        8.06227468e-01,  1.61398784e+01,  2.06749346e-01, -1.16744875e+01,\n",
       "       -2.22416807e+01, -7.92822526e-01,  1.62079970e+01,  3.48138600e-01,\n",
       "        1.05896915e+00,  1.02382510e+00, -2.32072883e+00, -1.04470845e+00,\n",
       "       -1.01388470e+00,  1.21647878e+01, -7.19826816e+00,  1.01371652e+00,\n",
       "        1.66708611e+00,  4.04721858e-01,  3.54052111e+00, -3.18607093e+00,\n",
       "        9.89338896e-01,  1.76895460e+00,  4.46098721e+00,  4.43345769e+00,\n",
       "       -8.64447511e+00, -1.39177732e+01,  1.17453723e+01, -7.15386201e-02,\n",
       "       -2.52141045e+01,  7.08120409e+00,  7.70073471e+00,  1.17327066e+01,\n",
       "       -5.66013405e-02, -7.61402973e+00,  4.60337863e+00, -7.32785910e+00,\n",
       "        1.55304442e+00,  1.13729629e+00, -1.83889781e+00,  7.17165368e+00,\n",
       "        5.16980396e-01, -1.34149651e+00, -6.72503177e+00,  8.72397085e+00,\n",
       "        8.81133575e-01, -2.75905995e+00, -2.50139560e+00, -1.31226437e+00,\n",
       "       -5.27209057e+00, -5.24051449e+00,  1.37974989e+00,  4.48300460e+00,\n",
       "        4.51549304e+00,  6.92219193e+00,  1.39708960e+01,  6.89316444e+00,\n",
       "        1.40551901e+01,  1.67439266e+01, -2.04534914e+01, -3.51184103e+00,\n",
       "        3.39783266e+00, -3.43596065e+00, -7.55582258e+00,  1.78144451e+00,\n",
       "       -4.34905860e+00, -4.07052089e+00,  1.36611729e+01, -1.91036125e+00,\n",
       "       -1.95468680e+00, -4.69694944e+00, -1.57248862e+00, -4.72410335e+00,\n",
       "       -1.58402800e+00, -9.58291301e-01, -3.89506465e+00, -9.19086280e-01,\n",
       "       -4.29354093e+00, -6.15164400e+00, -2.87170882e-01,  1.73454097e+00,\n",
       "        3.24180154e+00, -8.49057478e-02,  1.64000195e+00, -1.97375740e+00,\n",
       "        5.74182221e-01,  3.12618911e+00,  5.55305159e-01,  2.65014054e+00,\n",
       "        1.05541585e+00,  3.98067688e+00,  7.72524245e-01, -8.07779922e+00,\n",
       "        7.81554350e-01,  1.08416255e+00, -4.26980993e+00,  1.10204385e+00,\n",
       "       -1.34167462e+00,  2.13053201e+00, -1.28648508e+00,  1.20457627e+00,\n",
       "        1.83734406e+00,  1.19819983e+00,  8.00125835e+00, -6.80508744e+00,\n",
       "        8.00526674e+00, -6.80390614e+00, -3.20437488e+00,  2.42196839e+00,\n",
       "       -3.19944309e+00,  2.42406142e+00,  8.02080608e-01,  8.11246471e-01,\n",
       "        2.73585530e+00,  2.73723493e+00,  0.00000000e+00,  0.00000000e+00,\n",
       "        0.00000000e+00,  0.00000000e+00, -3.05803456e+00,  2.56088990e+00,\n",
       "       -3.02799574e+00,  2.55483018e+00, -4.78650094e+00, -4.78126760e+00,\n",
       "        0.00000000e+00,  0.00000000e+00,  0.00000000e+00,  0.00000000e+00,\n",
       "        0.00000000e+00,  0.00000000e+00,  0.00000000e+00,  0.00000000e+00,\n",
       "        0.00000000e+00,  0.00000000e+00,  0.00000000e+00,  0.00000000e+00,\n",
       "        0.00000000e+00,  0.00000000e+00,  0.00000000e+00,  0.00000000e+00,\n",
       "        0.00000000e+00,  0.00000000e+00,  0.00000000e+00,  0.00000000e+00,\n",
       "        0.00000000e+00,  0.00000000e+00,  0.00000000e+00,  0.00000000e+00,\n",
       "        0.00000000e+00,  0.00000000e+00,  0.00000000e+00,  0.00000000e+00,\n",
       "        0.00000000e+00,  0.00000000e+00,  0.00000000e+00,  0.00000000e+00,\n",
       "        0.00000000e+00,  0.00000000e+00,  0.00000000e+00,  0.00000000e+00,\n",
       "        0.00000000e+00,  0.00000000e+00,  0.00000000e+00,  0.00000000e+00,\n",
       "        0.00000000e+00,  0.00000000e+00,  0.00000000e+00,  0.00000000e+00,\n",
       "        0.00000000e+00,  0.00000000e+00,  0.00000000e+00,  0.00000000e+00,\n",
       "        0.00000000e+00,  0.00000000e+00,  0.00000000e+00,  0.00000000e+00,\n",
       "        0.00000000e+00,  0.00000000e+00,  0.00000000e+00,  0.00000000e+00,\n",
       "        0.00000000e+00,  0.00000000e+00,  0.00000000e+00,  0.00000000e+00,\n",
       "        0.00000000e+00,  0.00000000e+00,  0.00000000e+00,  0.00000000e+00,\n",
       "        0.00000000e+00,  0.00000000e+00,  0.00000000e+00,  0.00000000e+00,\n",
       "       -4.08615318e+01,  5.69450454e+00,  5.69450454e+00,  5.69450454e+00,\n",
       "        5.69450454e+00,  5.69450454e+00,  5.69450454e+00,  5.69450454e+00,\n",
       "       -5.00705305e+00, -8.83332344e+00, -2.30172705e+00, -3.87012626e+00,\n",
       "        1.90741368e+01,  1.09937402e+01, -8.77714449e+00, -2.27850267e+00,\n",
       "        4.14532311e+00,  5.04929957e+00, -2.78111219e+00, -2.47691497e+00,\n",
       "       -2.42737771e+00,  6.36796149e+00,  1.65300387e+01, -1.14327796e+01,\n",
       "        2.94487398e-01, -1.82216514e+00,  5.95123802e+00, -2.21001486e+00,\n",
       "       -8.84309227e+00,  5.32287796e-01, -2.58726123e+00, -2.62638964e+00,\n",
       "        3.83041120e+00,  7.52805267e+00, -2.73533183e+00,  7.50716504e+00,\n",
       "       -8.33220785e+00, -8.68822031e+00, -1.04674815e+00, -2.76753788e+00,\n",
       "        7.53482831e+00, -4.05196948e+00,  1.10972451e+01, -4.04375445e+00,\n",
       "       -2.68407784e+00,  6.42075541e-01, -1.01009386e+01, -4.13887351e-01,\n",
       "        6.01945853e-01, -9.83203402e+00,  8.66408864e+00,  5.60833875e+00,\n",
       "        1.28596895e-01, -3.91579053e+00, -3.89821123e+00, -8.69326892e+00,\n",
       "       -3.63905192e+00, -3.77024059e+00,  3.75615116e+00,  2.47154619e+00,\n",
       "        6.24662790e-01, -4.33136724e+00,  4.12998245e+00, -4.41813805e+00,\n",
       "        4.21141834e+00, -5.44158472e+00,  5.65384441e+00,  6.69024373e+00,\n",
       "        4.93603937e+00,  6.71097442e+00, -1.08000119e+01,  8.21397783e-01,\n",
       "       -1.97094744e+00, -1.94611123e+00,  3.26705691e+00,  2.28335327e+00,\n",
       "        2.40922325e+00, -1.28072364e+00,  8.28106593e-01, -1.29426360e+00,\n",
       "       -8.03415056e+00,  1.09391462e+00, -2.50018285e+00,  1.11643451e+00,\n",
       "        1.13074250e+00,  2.93156534e+00,  9.33402939e-01, -2.32549153e+00,\n",
       "        1.00783173e+00,  9.41816123e-01, -2.33383625e+00, -2.28388525e+00,\n",
       "       -4.89474517e-01, -3.56476610e+00, -4.76490262e-01,  1.06840051e-02,\n",
       "       -5.60385240e+00, -3.89155231e-03,  1.08851083e+00,  2.60025672e+00,\n",
       "        1.11801685e+00,  2.69464077e+00, -9.10687666e-01,  3.73002120e+00,\n",
       "        2.25834188e+00,  1.45508207e+00,  2.25307634e+00, -1.15968357e+00,\n",
       "        3.03106878e+00, -1.17931555e+00, -7.07237377e+00,  5.94365004e+00,\n",
       "       -7.06329484e+00,  5.95000027e+00, -3.34588788e+00,  2.66504693e+00,\n",
       "       -3.33969116e+00,  2.65788421e+00,  4.78215548e-01,  6.39365137e-01,\n",
       "       -6.17674480e+00, -6.17523384e+00,  0.00000000e+00,  0.00000000e+00,\n",
       "        0.00000000e+00,  0.00000000e+00, -2.02714615e+00,  1.66078783e+00,\n",
       "       -2.07694011e+00,  1.66191642e+00, -1.14721299e+00, -1.05572564e+00,\n",
       "        0.00000000e+00,  0.00000000e+00,  0.00000000e+00,  0.00000000e+00,\n",
       "        0.00000000e+00,  0.00000000e+00,  0.00000000e+00,  0.00000000e+00,\n",
       "        0.00000000e+00,  0.00000000e+00,  0.00000000e+00,  0.00000000e+00,\n",
       "        0.00000000e+00,  0.00000000e+00,  0.00000000e+00,  0.00000000e+00,\n",
       "        0.00000000e+00,  0.00000000e+00,  0.00000000e+00,  0.00000000e+00,\n",
       "        0.00000000e+00,  0.00000000e+00,  0.00000000e+00,  0.00000000e+00,\n",
       "        0.00000000e+00,  0.00000000e+00,  0.00000000e+00,  0.00000000e+00,\n",
       "        0.00000000e+00,  0.00000000e+00,  0.00000000e+00,  0.00000000e+00,\n",
       "        0.00000000e+00,  0.00000000e+00,  0.00000000e+00,  0.00000000e+00,\n",
       "        0.00000000e+00,  0.00000000e+00,  0.00000000e+00,  0.00000000e+00,\n",
       "        0.00000000e+00,  0.00000000e+00,  0.00000000e+00,  0.00000000e+00,\n",
       "        0.00000000e+00,  0.00000000e+00,  0.00000000e+00,  0.00000000e+00,\n",
       "        0.00000000e+00,  0.00000000e+00,  0.00000000e+00,  0.00000000e+00,\n",
       "        0.00000000e+00,  0.00000000e+00,  0.00000000e+00,  0.00000000e+00,\n",
       "        0.00000000e+00,  0.00000000e+00,  0.00000000e+00,  0.00000000e+00,\n",
       "        0.00000000e+00,  0.00000000e+00,  0.00000000e+00,  0.00000000e+00,\n",
       "        0.00000000e+00,  0.00000000e+00,  0.00000000e+00,  0.00000000e+00,\n",
       "       -4.99345845e-01, -7.15220222e-02, -7.15220222e-02, -7.15220222e-02,\n",
       "       -7.15220222e-02, -7.15220222e-02, -7.15220222e-02, -7.15220222e-02,\n",
       "        3.93849152e+01, -1.81384079e+01, -2.62661970e+01, -9.81349050e+01,\n",
       "        2.27738007e+01,  3.71155172e+01, -1.71886515e+01,  5.94539283e+01,\n",
       "       -1.86060708e+01, -2.04680165e+01,  1.03773359e+01, -4.69498873e+00,\n",
       "       -6.78810487e+00, -1.07016512e+00, -1.16299760e+01, -2.37545154e+00,\n",
       "        9.98717739e-01,  8.14471805e+00, -3.93800161e-01,  5.89305958e+00,\n",
       "       -2.49932771e+00,  8.62060055e-01,  3.31373454e-01,  3.53052148e-01,\n",
       "        7.06941178e+00,  2.11449488e-01, -5.34211836e+00,  5.73518454e+00,\n",
       "       -6.98246569e+00,  2.35539205e-01,  2.54206118e+00, -8.28657639e-01,\n",
       "        3.42900727e+00, -2.51364997e+01, -3.28591981e+01, -2.51671735e+01,\n",
       "       -1.46612060e+01, -1.76619164e-01, -4.31936757e+00, -1.02272120e+00,\n",
       "       -1.55217040e-01, -4.32835974e+00, -1.44627496e+00,  3.37914790e+00,\n",
       "        1.05139406e+01, -6.02889251e+00, -5.59080579e+00, -2.48062535e-01,\n",
       "       -6.77680521e-01, -6.52572478e-01, -1.71036882e+00,  2.36105539e+00,\n",
       "        2.39662512e+00, -2.18300919e+00,  1.77126048e+00, -2.31745692e+00,\n",
       "        1.75640992e+00, -1.43477068e+00,  8.17858260e+00,  1.86483331e+00,\n",
       "       -1.85412168e+00,  1.85335341e+00, -5.10741085e+00,  6.15741272e-01,\n",
       "        1.54784537e+00,  1.51452985e+00,  1.59402811e+00,  7.93124191e-01,\n",
       "       -1.03736277e-01, -2.31983133e+00,  6.49427946e-01, -2.48255283e+00,\n",
       "        2.53798914e-01,  8.07758481e-02, -1.90337043e+00,  5.77068624e-02,\n",
       "       -2.03436144e+00,  1.98633722e+01, -1.25582406e+00, -3.56328499e+01,\n",
       "       -2.84587625e+01, -9.65742485e-01, -3.56043606e+01, -2.84597733e+01,\n",
       "       -1.36591376e+01, -3.32323889e+01, -1.38317433e+01,  1.57707641e+00,\n",
       "        1.34735057e+00,  1.58519100e+00,  1.53053342e+01, -1.36771935e+01,\n",
       "        1.60136649e+01, -2.05695443e-01,  1.68919957e+00, -1.78374945e-01,\n",
       "       -7.59764978e-01, -5.50910586e-02, -7.57030073e-01, -2.69443276e+00,\n",
       "        2.18588462e+00, -2.69980790e+00, -2.66774282e+01, -1.46867291e+01,\n",
       "       -2.83707141e+01, -1.46745454e+01, -1.34932489e+00,  7.75637938e-01,\n",
       "       -9.48208264e-01,  7.46430754e-01, -3.52102906e+00, -2.54147501e+00,\n",
       "       -1.94306225e+01, -1.95982845e+01,  0.00000000e+00,  0.00000000e+00,\n",
       "        0.00000000e+00,  0.00000000e+00, -3.34844570e+00,  3.60681226e+00,\n",
       "       -3.34624423e+00,  3.60703414e+00, -3.12096831e+00, -3.12613396e+00,\n",
       "        0.00000000e+00,  0.00000000e+00,  0.00000000e+00,  0.00000000e+00,\n",
       "        0.00000000e+00,  0.00000000e+00,  0.00000000e+00,  0.00000000e+00,\n",
       "        0.00000000e+00,  0.00000000e+00,  0.00000000e+00,  0.00000000e+00,\n",
       "        0.00000000e+00,  0.00000000e+00,  0.00000000e+00,  0.00000000e+00,\n",
       "        0.00000000e+00,  0.00000000e+00,  0.00000000e+00,  0.00000000e+00,\n",
       "        0.00000000e+00,  0.00000000e+00,  0.00000000e+00,  0.00000000e+00,\n",
       "        0.00000000e+00,  0.00000000e+00,  0.00000000e+00,  0.00000000e+00,\n",
       "        0.00000000e+00,  0.00000000e+00,  0.00000000e+00,  0.00000000e+00,\n",
       "        0.00000000e+00,  0.00000000e+00,  0.00000000e+00,  0.00000000e+00,\n",
       "        0.00000000e+00,  0.00000000e+00,  0.00000000e+00,  0.00000000e+00,\n",
       "        0.00000000e+00,  0.00000000e+00,  0.00000000e+00,  0.00000000e+00,\n",
       "        0.00000000e+00,  0.00000000e+00,  0.00000000e+00,  0.00000000e+00,\n",
       "        0.00000000e+00,  0.00000000e+00,  0.00000000e+00,  0.00000000e+00,\n",
       "        0.00000000e+00,  0.00000000e+00,  0.00000000e+00,  0.00000000e+00,\n",
       "        0.00000000e+00,  0.00000000e+00,  0.00000000e+00,  0.00000000e+00,\n",
       "        0.00000000e+00,  0.00000000e+00,  0.00000000e+00,  0.00000000e+00,\n",
       "        0.00000000e+00,  0.00000000e+00,  0.00000000e+00,  0.00000000e+00])"
      ]
     },
     "execution_count": 37,
     "metadata": {},
     "output_type": "execute_result"
    }
   ],
   "source": [
    "gw_sol"
   ]
  },
  {
   "cell_type": "code",
   "execution_count": 38,
   "id": "20ba72ca-217d-4fd2-837a-755e8470b37c",
   "metadata": {},
   "outputs": [
    {
     "data": {
      "text/plain": [
       "<__main__.Tiles at 0x1775733d0>"
      ]
     },
     "execution_count": 38,
     "metadata": {},
     "output_type": "execute_result"
    }
   ],
   "source": [
    "gw_env.tiles"
   ]
  },
  {
   "cell_type": "code",
   "execution_count": 39,
   "id": "4a4a9c8f-b229-4841-b527-6eb9bccfae37",
   "metadata": {
    "scrolled": true
   },
   "outputs": [],
   "source": [
    "gw_eval_X, gw_eval_y = proj_obs_to_rwest_vec(gw_buffer, sample_size=1_000_000)"
   ]
  },
  {
   "cell_type": "code",
   "execution_count": 40,
   "id": "6bd0ec9b-d554-4b50-8cca-b587dac33706",
   "metadata": {},
   "outputs": [
    {
     "data": {
      "text/plain": [
       "array([-100.,   -1.])"
      ]
     },
     "execution_count": 40,
     "metadata": {},
     "output_type": "execute_result"
    }
   ],
   "source": [
    "np.unique(gw_eval_y)"
   ]
  },
  {
   "cell_type": "code",
   "execution_count": 41,
   "id": "c19de099-ed57-443c-931d-5c0b516fe4ee",
   "metadata": {},
   "outputs": [
    {
     "data": {
      "text/plain": [
       "((1000000, 800), (1000000,))"
      ]
     },
     "execution_count": 41,
     "metadata": {},
     "output_type": "execute_result"
    }
   ],
   "source": [
    "gw_eval_X.shape, gw_eval_y.shape"
   ]
  },
  {
   "cell_type": "code",
   "execution_count": 42,
   "id": "2a6769f5-5049-4f6f-bbb2-02d83023ee86",
   "metadata": {},
   "outputs": [
    {
     "data": {
      "text/plain": [
       "array([-100.,   -1.])"
      ]
     },
     "execution_count": 42,
     "metadata": {},
     "output_type": "execute_result"
    }
   ],
   "source": [
    "np.unique(np.around(np.matmul(gw_eval_X, gw_sol), 2))"
   ]
  },
  {
   "cell_type": "code",
   "execution_count": 43,
   "id": "3241131e-3e55-4868-abbf-c393bd394fa0",
   "metadata": {},
   "outputs": [
    {
     "data": {
      "text/plain": [
       "5.835371367171587e-14"
      ]
     },
     "execution_count": 43,
     "metadata": {},
     "output_type": "execute_result"
    }
   ],
   "source": [
    "rmse(\n",
    "    v_pred=np.matmul(gw_eval_X, gw_sol), \n",
    "    v_true=gw_eval_y,\n",
    "    axis=0\n",
    ")"
   ]
  },
  {
   "cell_type": "code",
   "execution_count": 44,
   "id": "7386cb23-a3ff-445e-8be0-55d1197d90f7",
   "metadata": {},
   "outputs": [
    {
     "data": {
      "image/png": "[encoded data removed]",
      "text/plain": [
       "<Figure size 600x600 with 1 Axes>"
      ]
     },
     "metadata": {},
     "output_type": "display_data"
    }
   ],
   "source": [
    "rwe_scatterplot(\n",
    "    v_pred=np.matmul(gw_eval_X, gw_sol), \n",
    "    v_true=gw_eval_y\n",
    ")"
   ]
  },
  {
   "cell_type": "markdown",
   "id": "2a5941c2-9060-4d0d-9a34-a04d75b8916b",
   "metadata": {},
   "source": [
    "### RedGreen"
   ]
  },
  {
   "cell_type": "code",
   "execution_count": 45,
   "id": "16d7f90b-2f21-49c6-beb1-b501a233737c",
   "metadata": {},
   "outputs": [],
   "source": [
    "class RGObsWrapper(gym.ObservationWrapper):\n",
    "    def __init__(self, env, tiling_dim: int, num_tilings: int = None):\n",
    "        super().__init__(env)\n",
    "        self.tiles = Tiles(\n",
    "                np.array([0], np.int32),\n",
    "                np.array(\n",
    "                    [env.observation_space[\"pos\"].n]\n",
    "                ),\n",
    "                tiling_dim=tiling_dim,\n",
    "                num_tilings=num_tilings\n",
    "            )\n",
    "        self.observation_space = gym.spaces.Box(\n",
    "            low=np.zeros(shape=self.tiles.max_size, dtype=np.int32), \n",
    "            high=np.ones(shape=self.tiles.max_size, dtype=np.int32)\n",
    "        )\n",
    "\n",
    "    def observation(self, obs):\n",
    "        return self.tiles(obs[\"pos\"])"
   ]
  },
  {
   "cell_type": "code",
   "execution_count": 46,
   "id": "61a322c4-b2a4-4594-b8fc-bbf7e37182c5",
   "metadata": {},
   "outputs": [
    {
     "name": "stdout",
     "output_type": "stream",
     "text": [
      "Num tilings 4 \n",
      " Flat dim: 8\n"
     ]
    }
   ],
   "source": [
    "rg_env = RGObsWrapper(\n",
    "    redgreen.RedGreenSeq([\"red\", \"green\", \"red\", \"green\", \"wait\", \"green\"]),\n",
    "    tiling_dim=2\n",
    ")\n",
    "rg_buffer, rg_sol = solve_rwe(\n",
    "    rg_env,\n",
    "    num_steps=150_000, \n",
    "    sample_size=50_000,\n",
    "    delay=2,\n",
    ")"
   ]
  },
  {
   "cell_type": "code",
   "execution_count": 47,
   "id": "65965db4-5a93-4ffa-94cc-218ee947ecec",
   "metadata": {},
   "outputs": [
    {
     "data": {
      "text/plain": [
       "array([1., 1., 1., 1., 0., 0., 0., 0.])"
      ]
     },
     "execution_count": 47,
     "metadata": {},
     "output_type": "execute_result"
    }
   ],
   "source": [
    "rg_buffer[0][0]"
   ]
  },
  {
   "cell_type": "code",
   "execution_count": 48,
   "id": "9103a7b7-e7af-47fc-a13d-f094449a6614",
   "metadata": {},
   "outputs": [
    {
     "data": {
      "text/plain": [
       "array([-1.])"
      ]
     },
     "execution_count": 48,
     "metadata": {},
     "output_type": "execute_result"
    }
   ],
   "source": [
    "np.unique([np.around(ex[2], 2) for ex in rg_buffer])"
   ]
  },
  {
   "cell_type": "code",
   "execution_count": 49,
   "id": "6a7f0308-ee7f-46ad-bb0a-51876f714f2c",
   "metadata": {},
   "outputs": [
    {
     "data": {
      "text/plain": [
       "<__main__.Tiles at 0x31d9a0e50>"
      ]
     },
     "execution_count": 49,
     "metadata": {},
     "output_type": "execute_result"
    }
   ],
   "source": [
    "rg_env.tiles"
   ]
  },
  {
   "cell_type": "code",
   "execution_count": 50,
   "id": "4d3d81c5-20c3-40b7-93cf-8edbc18d9f61",
   "metadata": {},
   "outputs": [
    {
     "data": {
      "text/plain": [
       "array([-0.09062579,  0.01635159, -0.95678068,  0.03105488,  0.03105488,\n",
       "       -0.95678068,  0.01635159, -0.09062579, -0.09035278, -0.03282015,\n",
       "       -0.00182276, -0.87500431, -0.87500431, -0.00182276, -0.03282015,\n",
       "       -0.09035278, -0.10420576, -0.01192746, -0.00269044, -0.88117634,\n",
       "       -0.88117634, -0.00269044, -0.01192746, -0.10420576])"
      ]
     },
     "execution_count": 50,
     "metadata": {},
     "output_type": "execute_result"
    }
   ],
   "source": [
    "rg_sol"
   ]
  },
  {
   "cell_type": "code",
   "execution_count": 51,
   "id": "c0a6d48a-2aed-4f5f-93ba-94e027afb9ad",
   "metadata": {},
   "outputs": [],
   "source": [
    "rg_eval_X, rg_eval_y = proj_obs_to_rwest_vec(rg_buffer, sample_size=10_000)"
   ]
  },
  {
   "cell_type": "code",
   "execution_count": 52,
   "id": "7d351396-e117-4d31-9dc3-8a8b3425a48a",
   "metadata": {},
   "outputs": [
    {
     "data": {
      "text/plain": [
       "((10000, 24), (10000,))"
      ]
     },
     "execution_count": 52,
     "metadata": {},
     "output_type": "execute_result"
    }
   ],
   "source": [
    "rg_eval_X.shape, rg_eval_y.shape"
   ]
  },
  {
   "cell_type": "code",
   "execution_count": 53,
   "id": "75fc8d23-140f-4360-a5be-79136af1457d",
   "metadata": {},
   "outputs": [
    {
     "data": {
      "text/plain": [
       "array([-1., -1., -1., ..., -1., -1., -1.])"
      ]
     },
     "execution_count": 53,
     "metadata": {},
     "output_type": "execute_result"
    }
   ],
   "source": [
    "np.matmul(rg_eval_X, rg_sol)"
   ]
  },
  {
   "cell_type": "code",
   "execution_count": 54,
   "id": "d52a6267-6968-4a54-a462-6cbc8fb2b20a",
   "metadata": {},
   "outputs": [
    {
     "data": {
      "text/plain": [
       "1.251322811339273e-15"
      ]
     },
     "execution_count": 54,
     "metadata": {},
     "output_type": "execute_result"
    }
   ],
   "source": [
    "rmse(\n",
    "    v_pred=np.matmul(rg_eval_X, rg_sol), \n",
    "    v_true=rg_eval_y,\n",
    "    axis=0\n",
    ")"
   ]
  },
  {
   "cell_type": "markdown",
   "id": "a26fca2a-f4a5-4670-905b-dc84f815189c",
   "metadata": {},
   "source": [
    "### Lunda Lander"
   ]
  },
  {
   "cell_type": "code",
   "execution_count": 55,
   "id": "0f7a83aa-ffc2-40b3-a6bc-cbe8addc02a4",
   "metadata": {},
   "outputs": [],
   "source": [
    "class LLObsPreproc(gym.ObservationWrapper):\n",
    "    \"\"\"\n",
    "    Transform state to correspond to \n",
    "    the input of the reward fn used\n",
    "    by the environment.\n",
    "    \"\"\"\n",
    "    def __init__(\n",
    "        self, env\n",
    "    ):\n",
    "        super().__init__(env)\n",
    "        self.prev_obs = None\n",
    "\n",
    "    def observation(self, obs):\n",
    "        # https://github.com/Farama-Foundation/Gymnasium/blob/main/gymnasium/envs/box2d/lunar_lander.py#L639\n",
    "        x1 = np.sqrt(obs[0] * obs[0] + obs[1] * obs[1])\n",
    "        x2 = np.sqrt(obs[2] * obs[2] + obs[3] * obs[3])\n",
    "        x3 = abs(obs[4])\n",
    "        shaping = np.concatenate([[x1, x2, x3], obs[5:]])\n",
    "        new_obs = copy.copy(shaping)\n",
    "        if self.prev_obs is not None:\n",
    "            new_obs -= self.prev_obs\n",
    "        self.prev_obs = shaping\n",
    "        return new_obs\n",
    "        "
   ]
  },
  {
   "cell_type": "code",
   "execution_count": 56,
   "id": "62a12238-4173-472d-8a9a-98e9e032a114",
   "metadata": {},
   "outputs": [],
   "source": [
    "class LLObsWrapper(gym.ObservationWrapper):\n",
    "    def __init__(\n",
    "        self, env, tiling_dim: int, num_tilings: int = None, hash_dim: Optional[int] = None\n",
    "    ):\n",
    "        super().__init__(env)\n",
    "        self.hash_dim = hash_dim\n",
    "        self.tiles = Tiles(\n",
    "            # TODO: fix\n",
    "            dims_min=env.observation_space.low[:4],\n",
    "            dims_max=env.observation_space.high[:4],\n",
    "            tiling_dim=tiling_dim,\n",
    "            num_tilings=num_tilings\n",
    "        )\n",
    "        # TODO: hash dim\n",
    "        self.observation_space = gym.spaces.Box(\n",
    "            low=np.zeros(shape=self.tiles.max_size, dtype=np.int32), \n",
    "            high=np.ones(shape=self.tiles.max_size, dtype=np.int32)\n",
    "        )\n",
    "        self.prev_obs = None\n",
    "\n",
    "    def observation(self, obs):\n",
    "        return obs\n",
    "        xs = self.tiles(obs[:4])\n",
    "        if self.hash_dim:\n",
    "            xs = hashtrick(xs, dim=self.hash_dim)\n",
    "        # return np.concatenate([obs, np.array([1])]) \n",
    "        return np.concatenate([obs[:4], obs[4:]])"
   ]
  },
  {
   "cell_type": "code",
   "execution_count": 57,
   "id": "7a05fb56-a62f-4486-8f0c-f95a44b2a56f",
   "metadata": {},
   "outputs": [
    {
     "name": "stdout",
     "output_type": "stream",
     "text": [
      "Num tilings 16 \n",
      " Flat dim: 4096\n"
     ]
    }
   ],
   "source": [
    "# another way to encode this; skip last two binary dimensions, concat them\n",
    "lunar_env = LLObsWrapper(\n",
    "    LLObsPreproc(gym.make(\"LunarLander-v3\")), tiling_dim=4, hash_dim=128\n",
    ")\n",
    "lunar_buffer, lunar_sol = solve_rwe(\n",
    "    lunar_env,\n",
    "    num_steps=150_000, \n",
    "    sample_size=50_000,\n",
    "    delay=2,\n",
    ")"
   ]
  },
  {
   "cell_type": "code",
   "execution_count": 58,
   "id": "f1ab18b3-d03f-4cc3-b108-53e079406c25",
   "metadata": {},
   "outputs": [
    {
     "data": {
      "text/plain": [
       "(array([1.4131994 , 0.21653403, 0.00219627, 0.04335605, 0.        ,\n",
       "        0.        ], dtype=float32),\n",
       " array([ 0.00170422, -0.01099379,  0.00214241, -0.0005029 ,  0.        ,\n",
       "         0.        ], dtype=float32))"
      ]
     },
     "execution_count": 58,
     "metadata": {},
     "output_type": "execute_result"
    }
   ],
   "source": [
    "lunar_buffer[0][0], lunar_buffer[1][0]"
   ]
  },
  {
   "cell_type": "code",
   "execution_count": 59,
   "id": "59c06f16-2bce-47e8-a0cb-a34d206874e7",
   "metadata": {},
   "outputs": [
    {
     "data": {
      "text/plain": [
       "array([-100.  ,  -42.94,  -42.83, ...,  133.23,  134.84,  136.63])"
      ]
     },
     "execution_count": 59,
     "metadata": {},
     "output_type": "execute_result"
    }
   ],
   "source": [
    "np.unique([np.around(ex[2], 2) for ex in lunar_buffer])"
   ]
  },
  {
   "cell_type": "code",
   "execution_count": 60,
   "id": "f883e599-250e-40fe-ab34-e342c8267fc8",
   "metadata": {},
   "outputs": [
    {
     "data": {
      "text/plain": [
       "<Axes: ylabel='Count'>"
      ]
     },
     "execution_count": 60,
     "metadata": {},
     "output_type": "execute_result"
    },
    {
     "data": {
      "image/png": "[encoded data removed]",
      "text/plain": [
       "<Figure size 640x480 with 1 Axes>"
      ]
     },
     "metadata": {},
     "output_type": "display_data"
    }
   ],
   "source": [
    "sns.histplot([np.around(ex[2], 2) for ex in lunar_buffer], bins=50)"
   ]
  },
  {
   "cell_type": "code",
   "execution_count": 61,
   "id": "89927f54-c3d6-41ab-bf21-48742887c5ee",
   "metadata": {},
   "outputs": [
    {
     "data": {
      "text/plain": [
       "<__main__.Tiles at 0x31d942650>"
      ]
     },
     "execution_count": 61,
     "metadata": {},
     "output_type": "execute_result"
    }
   ],
   "source": [
    "lunar_env.tiles"
   ]
  },
  {
   "cell_type": "code",
   "execution_count": 62,
   "id": "83d2de89-68fd-4329-9cd5-9cffaebde8e1",
   "metadata": {},
   "outputs": [],
   "source": [
    "lunar_eval_X, lunar_eval_y = proj_obs_to_rwest_vec(lunar_buffer, sample_size=50_000)"
   ]
  },
  {
   "cell_type": "code",
   "execution_count": 63,
   "id": "d08e64cd-fa12-47b4-9885-12be03ad9240",
   "metadata": {},
   "outputs": [
    {
     "data": {
      "text/plain": [
       "((50000, 24), (50000,))"
      ]
     },
     "execution_count": 63,
     "metadata": {},
     "output_type": "execute_result"
    }
   ],
   "source": [
    "lunar_eval_X.shape, lunar_eval_y.shape"
   ]
  },
  {
   "cell_type": "code",
   "execution_count": 64,
   "id": "6c95b6a1-42a2-4b02-8bbe-a96113fa2bf0",
   "metadata": {},
   "outputs": [
    {
     "data": {
      "text/plain": [
       "array([ 0.79868767,  1.00142706, -1.02363842, ..., -2.06426484,\n",
       "       -3.04823   ,  2.00143762])"
      ]
     },
     "execution_count": 64,
     "metadata": {},
     "output_type": "execute_result"
    }
   ],
   "source": [
    "lunar_eval_y"
   ]
  },
  {
   "cell_type": "code",
   "execution_count": 65,
   "id": "5a181e79-7386-4a5e-8c8c-0be23e73a107",
   "metadata": {},
   "outputs": [
    {
     "data": {
      "text/plain": [
       "array([0.38941003, 0.39537929, 0.57160984, ..., 0.19877164, 0.08405499,\n",
       "       0.03379284])"
      ]
     },
     "execution_count": 65,
     "metadata": {},
     "output_type": "execute_result"
    }
   ],
   "source": [
    "np.matmul(lunar_eval_X, lunar_sol)"
   ]
  },
  {
   "cell_type": "code",
   "execution_count": 66,
   "id": "f65ad411-ff26-4285-a762-5775db07bf14",
   "metadata": {},
   "outputs": [
    {
     "data": {
      "text/plain": [
       "11.565585529595133"
      ]
     },
     "execution_count": 66,
     "metadata": {},
     "output_type": "execute_result"
    }
   ],
   "source": [
    "rmse(\n",
    "    v_pred=np.matmul(lunar_eval_X, lunar_sol), \n",
    "    v_true=lunar_eval_y,\n",
    "    axis=0\n",
    ")"
   ]
  },
  {
   "cell_type": "code",
   "execution_count": 67,
   "id": "a6e016b3-274f-4eba-aa07-b4b7453f0f64",
   "metadata": {},
   "outputs": [
    {
     "data": {
      "image/png": "[encoded data removed]",
      "text/plain": [
       "<Figure size 600x600 with 1 Axes>"
      ]
     },
     "metadata": {},
     "output_type": "display_data"
    }
   ],
   "source": [
    "rwe_scatterplot(\n",
    "    v_pred=np.matmul(lunar_eval_X, lunar_sol), \n",
    "    v_true=lunar_eval_y\n",
    ")"
   ]
  },
  {
   "cell_type": "code",
   "execution_count": 68,
   "id": "e792b749-87d0-41b5-8343-be38258367ed",
   "metadata": {},
   "outputs": [],
   "source": [
    "def tmp():\n",
    "    env = gym.make(\"LunarLander-v3\")\n",
    "\n",
    "    samples = []\n",
    "    for i in range(10000):\n",
    "        obs, _ = env.reset()\n",
    "        for j in range(100):\n",
    "            observation, reward, terminated, truncated, info = env.step(env.action_space.sample())\n",
    "            done = terminated or truncated\n",
    "            samples.append(\n",
    "                {\n",
    "                    \"reward\": reward,\n",
    "                    \"step\": j\n",
    "                }\n",
    "            )\n",
    "            if done:\n",
    "                break\n",
    "    return pd.DataFrame(samples)\n",
    "        "
   ]
  },
  {
   "cell_type": "code",
   "execution_count": 69,
   "id": "16f5accf-afc6-4b31-a480-b00758f3c736",
   "metadata": {},
   "outputs": [],
   "source": [
    "df_tmp = tmp()"
   ]
  },
  {
   "cell_type": "code",
   "execution_count": 70,
   "id": "289af55a-f5ea-447f-98bd-9ea06f2c44b0",
   "metadata": {},
   "outputs": [
    {
     "data": {
      "text/html": [
       "<div>\n",
       "<style scoped>\n",
       "    .dataframe tbody tr th:only-of-type {\n",
       "        vertical-align: middle;\n",
       "    }\n",
       "\n",
       "    .dataframe tbody tr th {\n",
       "        vertical-align: top;\n",
       "    }\n",
       "\n",
       "    .dataframe thead th {\n",
       "        text-align: right;\n",
       "    }\n",
       "</style>\n",
       "<table border=\"1\" class=\"dataframe\">\n",
       "  <thead>\n",
       "    <tr style=\"text-align: right;\">\n",
       "      <th></th>\n",
       "      <th>reward</th>\n",
       "      <th>step</th>\n",
       "    </tr>\n",
       "  </thead>\n",
       "  <tbody>\n",
       "    <tr>\n",
       "      <th>0</th>\n",
       "      <td>-0.877180</td>\n",
       "      <td>0</td>\n",
       "    </tr>\n",
       "    <tr>\n",
       "      <th>1</th>\n",
       "      <td>1.399296</td>\n",
       "      <td>1</td>\n",
       "    </tr>\n",
       "    <tr>\n",
       "      <th>2</th>\n",
       "      <td>-1.073853</td>\n",
       "      <td>2</td>\n",
       "    </tr>\n",
       "    <tr>\n",
       "      <th>3</th>\n",
       "      <td>-1.478362</td>\n",
       "      <td>3</td>\n",
       "    </tr>\n",
       "    <tr>\n",
       "      <th>4</th>\n",
       "      <td>-1.963662</td>\n",
       "      <td>4</td>\n",
       "    </tr>\n",
       "    <tr>\n",
       "      <th>...</th>\n",
       "      <td>...</td>\n",
       "      <td>...</td>\n",
       "    </tr>\n",
       "    <tr>\n",
       "      <th>867605</th>\n",
       "      <td>-2.490870</td>\n",
       "      <td>95</td>\n",
       "    </tr>\n",
       "    <tr>\n",
       "      <th>867606</th>\n",
       "      <td>-2.556405</td>\n",
       "      <td>96</td>\n",
       "    </tr>\n",
       "    <tr>\n",
       "      <th>867607</th>\n",
       "      <td>-2.930094</td>\n",
       "      <td>97</td>\n",
       "    </tr>\n",
       "    <tr>\n",
       "      <th>867608</th>\n",
       "      <td>-1.438981</td>\n",
       "      <td>98</td>\n",
       "    </tr>\n",
       "    <tr>\n",
       "      <th>867609</th>\n",
       "      <td>-3.067353</td>\n",
       "      <td>99</td>\n",
       "    </tr>\n",
       "  </tbody>\n",
       "</table>\n",
       "<p>867610 rows × 2 columns</p>\n",
       "</div>"
      ],
      "text/plain": [
       "          reward  step\n",
       "0      -0.877180     0\n",
       "1       1.399296     1\n",
       "2      -1.073853     2\n",
       "3      -1.478362     3\n",
       "4      -1.963662     4\n",
       "...          ...   ...\n",
       "867605 -2.490870    95\n",
       "867606 -2.556405    96\n",
       "867607 -2.930094    97\n",
       "867608 -1.438981    98\n",
       "867609 -3.067353    99\n",
       "\n",
       "[867610 rows x 2 columns]"
      ]
     },
     "execution_count": 70,
     "metadata": {},
     "output_type": "execute_result"
    }
   ],
   "source": [
    "df_tmp"
   ]
  },
  {
   "cell_type": "code",
   "execution_count": 71,
   "id": "2ec17752-a2fb-4cf5-9c8d-ffe8c47dbe02",
   "metadata": {},
   "outputs": [],
   "source": [
    "df_tmp[\"type\"] = df_tmp[\"step\"].apply(lambda step: \"First\" if step == 0 else \"Other\")"
   ]
  },
  {
   "cell_type": "code",
   "execution_count": 72,
   "id": "57111696-f0a5-4980-9c4a-8cffeb16c5b4",
   "metadata": {},
   "outputs": [
    {
     "data": {
      "text/html": [
       "<div>\n",
       "<style scoped>\n",
       "    .dataframe tbody tr th:only-of-type {\n",
       "        vertical-align: middle;\n",
       "    }\n",
       "\n",
       "    .dataframe tbody tr th {\n",
       "        vertical-align: top;\n",
       "    }\n",
       "\n",
       "    .dataframe thead th {\n",
       "        text-align: right;\n",
       "    }\n",
       "</style>\n",
       "<table border=\"1\" class=\"dataframe\">\n",
       "  <thead>\n",
       "    <tr style=\"text-align: right;\">\n",
       "      <th></th>\n",
       "      <th>reward</th>\n",
       "      <th>step</th>\n",
       "      <th>type</th>\n",
       "    </tr>\n",
       "  </thead>\n",
       "  <tbody>\n",
       "    <tr>\n",
       "      <th>0</th>\n",
       "      <td>-0.877180</td>\n",
       "      <td>0</td>\n",
       "      <td>First</td>\n",
       "    </tr>\n",
       "    <tr>\n",
       "      <th>1</th>\n",
       "      <td>1.399296</td>\n",
       "      <td>1</td>\n",
       "      <td>Other</td>\n",
       "    </tr>\n",
       "    <tr>\n",
       "      <th>2</th>\n",
       "      <td>-1.073853</td>\n",
       "      <td>2</td>\n",
       "      <td>Other</td>\n",
       "    </tr>\n",
       "    <tr>\n",
       "      <th>3</th>\n",
       "      <td>-1.478362</td>\n",
       "      <td>3</td>\n",
       "      <td>Other</td>\n",
       "    </tr>\n",
       "    <tr>\n",
       "      <th>4</th>\n",
       "      <td>-1.963662</td>\n",
       "      <td>4</td>\n",
       "      <td>Other</td>\n",
       "    </tr>\n",
       "    <tr>\n",
       "      <th>...</th>\n",
       "      <td>...</td>\n",
       "      <td>...</td>\n",
       "      <td>...</td>\n",
       "    </tr>\n",
       "    <tr>\n",
       "      <th>867605</th>\n",
       "      <td>-2.490870</td>\n",
       "      <td>95</td>\n",
       "      <td>Other</td>\n",
       "    </tr>\n",
       "    <tr>\n",
       "      <th>867606</th>\n",
       "      <td>-2.556405</td>\n",
       "      <td>96</td>\n",
       "      <td>Other</td>\n",
       "    </tr>\n",
       "    <tr>\n",
       "      <th>867607</th>\n",
       "      <td>-2.930094</td>\n",
       "      <td>97</td>\n",
       "      <td>Other</td>\n",
       "    </tr>\n",
       "    <tr>\n",
       "      <th>867608</th>\n",
       "      <td>-1.438981</td>\n",
       "      <td>98</td>\n",
       "      <td>Other</td>\n",
       "    </tr>\n",
       "    <tr>\n",
       "      <th>867609</th>\n",
       "      <td>-3.067353</td>\n",
       "      <td>99</td>\n",
       "      <td>Other</td>\n",
       "    </tr>\n",
       "  </tbody>\n",
       "</table>\n",
       "<p>867610 rows × 3 columns</p>\n",
       "</div>"
      ],
      "text/plain": [
       "          reward  step   type\n",
       "0      -0.877180     0  First\n",
       "1       1.399296     1  Other\n",
       "2      -1.073853     2  Other\n",
       "3      -1.478362     3  Other\n",
       "4      -1.963662     4  Other\n",
       "...          ...   ...    ...\n",
       "867605 -2.490870    95  Other\n",
       "867606 -2.556405    96  Other\n",
       "867607 -2.930094    97  Other\n",
       "867608 -1.438981    98  Other\n",
       "867609 -3.067353    99  Other\n",
       "\n",
       "[867610 rows x 3 columns]"
      ]
     },
     "execution_count": 72,
     "metadata": {},
     "output_type": "execute_result"
    }
   ],
   "source": [
    "df_tmp"
   ]
  },
  {
   "cell_type": "code",
   "execution_count": 73,
   "id": "07aaa9d7-746d-42b0-9c50-55b6ca129278",
   "metadata": {},
   "outputs": [
    {
     "data": {
      "text/html": [
       "<div>\n",
       "<style scoped>\n",
       "    .dataframe tbody tr th:only-of-type {\n",
       "        vertical-align: middle;\n",
       "    }\n",
       "\n",
       "    .dataframe tbody tr th {\n",
       "        vertical-align: top;\n",
       "    }\n",
       "\n",
       "    .dataframe thead th {\n",
       "        text-align: right;\n",
       "    }\n",
       "</style>\n",
       "<table border=\"1\" class=\"dataframe\">\n",
       "  <thead>\n",
       "    <tr style=\"text-align: right;\">\n",
       "      <th></th>\n",
       "      <th>reward</th>\n",
       "      <th>step</th>\n",
       "      <th>type</th>\n",
       "    </tr>\n",
       "  </thead>\n",
       "  <tbody>\n",
       "    <tr>\n",
       "      <th>0</th>\n",
       "      <td>-0.877180</td>\n",
       "      <td>0</td>\n",
       "      <td>First</td>\n",
       "    </tr>\n",
       "    <tr>\n",
       "      <th>97</th>\n",
       "      <td>-2.158095</td>\n",
       "      <td>0</td>\n",
       "      <td>First</td>\n",
       "    </tr>\n",
       "    <tr>\n",
       "      <th>197</th>\n",
       "      <td>-0.934593</td>\n",
       "      <td>0</td>\n",
       "      <td>First</td>\n",
       "    </tr>\n",
       "    <tr>\n",
       "      <th>271</th>\n",
       "      <td>-1.661612</td>\n",
       "      <td>0</td>\n",
       "      <td>First</td>\n",
       "    </tr>\n",
       "    <tr>\n",
       "      <th>344</th>\n",
       "      <td>-0.380813</td>\n",
       "      <td>0</td>\n",
       "      <td>First</td>\n",
       "    </tr>\n",
       "    <tr>\n",
       "      <th>...</th>\n",
       "      <td>...</td>\n",
       "      <td>...</td>\n",
       "      <td>...</td>\n",
       "    </tr>\n",
       "    <tr>\n",
       "      <th>867185</th>\n",
       "      <td>-3.483975</td>\n",
       "      <td>0</td>\n",
       "      <td>First</td>\n",
       "    </tr>\n",
       "    <tr>\n",
       "      <th>867285</th>\n",
       "      <td>-1.186436</td>\n",
       "      <td>0</td>\n",
       "      <td>First</td>\n",
       "    </tr>\n",
       "    <tr>\n",
       "      <th>867352</th>\n",
       "      <td>1.436666</td>\n",
       "      <td>0</td>\n",
       "      <td>First</td>\n",
       "    </tr>\n",
       "    <tr>\n",
       "      <th>867451</th>\n",
       "      <td>2.439730</td>\n",
       "      <td>0</td>\n",
       "      <td>First</td>\n",
       "    </tr>\n",
       "    <tr>\n",
       "      <th>867510</th>\n",
       "      <td>-3.292846</td>\n",
       "      <td>0</td>\n",
       "      <td>First</td>\n",
       "    </tr>\n",
       "  </tbody>\n",
       "</table>\n",
       "<p>10000 rows × 3 columns</p>\n",
       "</div>"
      ],
      "text/plain": [
       "          reward  step   type\n",
       "0      -0.877180     0  First\n",
       "97     -2.158095     0  First\n",
       "197    -0.934593     0  First\n",
       "271    -1.661612     0  First\n",
       "344    -0.380813     0  First\n",
       "...          ...   ...    ...\n",
       "867185 -3.483975     0  First\n",
       "867285 -1.186436     0  First\n",
       "867352  1.436666     0  First\n",
       "867451  2.439730     0  First\n",
       "867510 -3.292846     0  First\n",
       "\n",
       "[10000 rows x 3 columns]"
      ]
     },
     "execution_count": 73,
     "metadata": {},
     "output_type": "execute_result"
    }
   ],
   "source": [
    "df_tmp[df_tmp[\"step\"] == 0]"
   ]
  },
  {
   "cell_type": "code",
   "execution_count": 74,
   "id": "7079d94e-9d3f-45be-9147-68e2b7051aff",
   "metadata": {},
   "outputs": [
    {
     "name": "stderr",
     "output_type": "stream",
     "text": [
      "/Users/guilherme/Code/research.phd/drmdp-fnapprox/.venv/lib/python3.11/site-packages/seaborn/_base.py:949: FutureWarning: When grouping with a length-1 list-like, you will need to pass a length-1 tuple to get_group in a future version of pandas. Pass `(name,)` instead of `name` to silence this warning.\n",
      "  data_subset = grouped_data.get_group(pd_key)\n",
      "/Users/guilherme/Code/research.phd/drmdp-fnapprox/.venv/lib/python3.11/site-packages/seaborn/_base.py:949: FutureWarning: When grouping with a length-1 list-like, you will need to pass a length-1 tuple to get_group in a future version of pandas. Pass `(name,)` instead of `name` to silence this warning.\n",
      "  data_subset = grouped_data.get_group(pd_key)\n",
      "/Users/guilherme/Code/research.phd/drmdp-fnapprox/.venv/lib/python3.11/site-packages/seaborn/_base.py:949: FutureWarning: When grouping with a length-1 list-like, you will need to pass a length-1 tuple to get_group in a future version of pandas. Pass `(name,)` instead of `name` to silence this warning.\n",
      "  data_subset = grouped_data.get_group(pd_key)\n"
     ]
    },
    {
     "data": {
      "text/plain": [
       "<seaborn.axisgrid.FacetGrid at 0x34ed58910>"
      ]
     },
     "execution_count": 74,
     "metadata": {},
     "output_type": "execute_result"
    },
    {
     "data": {
      "image/png": "[encoded data removed]",
      "text/plain": [
       "<Figure size 589.375x500 with 1 Axes>"
      ]
     },
     "metadata": {},
     "output_type": "display_data"
    }
   ],
   "source": [
    "sns.displot(df_tmp, x=\"reward\", hue=\"type\")"
   ]
  },
  {
   "cell_type": "code",
   "execution_count": 75,
   "id": "47bdacba-c23e-4b1b-94bd-875b7707d45d",
   "metadata": {},
   "outputs": [],
   "source": [
    "def st_rw():\n",
    "    env = LLObsPreproc(gym.make(\"LunarLander-v3\"))\n",
    "    states = []\n",
    "    rewards = []\n",
    "    for i in range(10_000):\n",
    "        obs, _ = env.reset()\n",
    "        for j in range(20):\n",
    "            # reward is based on the next state?\n",
    "            next_obs, reward, terminated, truncated, info = env.step(env.action_space.sample())\n",
    "            if j != 0:\n",
    "                states.append(obs)\n",
    "                rewards.append(reward)\n",
    "            \n",
    "            done = terminated or truncated\n",
    "            obs = next_obs\n",
    "            if done:\n",
    "                break\n",
    "    return np.array(states), np.array(rewards)"
   ]
  },
  {
   "cell_type": "code",
   "execution_count": 76,
   "id": "2b3bc9fc-9c71-4c74-9b0d-e3e326554dd3",
   "metadata": {},
   "outputs": [],
   "source": [
    "states, rewards = st_rw()"
   ]
  },
  {
   "cell_type": "code",
   "execution_count": 77,
   "id": "4a235b79-37f1-49b6-84ff-f718ffdf2f7c",
   "metadata": {},
   "outputs": [
    {
     "data": {
      "text/plain": [
       "array([[-9.3317032e-03,  1.8509209e-02,  4.1564559e-03,  9.7536296e-04,\n",
       "         0.0000000e+00,  0.0000000e+00],\n",
       "       [-9.9272728e-03,  2.6247025e-02,  5.9641609e-03, -3.6157124e-02,\n",
       "         0.0000000e+00,  0.0000000e+00],\n",
       "       [-1.0515928e-02,  1.2945831e-02,  3.5552485e-03,  4.8182324e-02,\n",
       "         0.0000000e+00,  0.0000000e+00],\n",
       "       ...,\n",
       "       [ 6.1252117e-03, -2.6002258e-02,  3.3104010e-03, -8.7171793e-06,\n",
       "         0.0000000e+00,  0.0000000e+00],\n",
       "       [ 5.5166483e-03, -2.4277449e-02,  4.8421994e-03, -3.0638963e-02,\n",
       "         0.0000000e+00,  0.0000000e+00],\n",
       "       [ 4.9012899e-03, -2.2592098e-02,  7.0344508e-03, -4.3848902e-02,\n",
       "         0.0000000e+00,  0.0000000e+00]], dtype=float32)"
      ]
     },
     "execution_count": 77,
     "metadata": {},
     "output_type": "execute_result"
    }
   ],
   "source": [
    "states"
   ]
  },
  {
   "cell_type": "code",
   "execution_count": 78,
   "id": "d7bca911-adc7-4d0f-93de-9b8b50aa2c6c",
   "metadata": {},
   "outputs": [
    {
     "data": {
      "text/plain": [
       "array([-2.25840478, -0.62850196,  1.73253435, ...,  1.36185618,\n",
       "        1.03563623,  0.63974914])"
      ]
     },
     "execution_count": 78,
     "metadata": {},
     "output_type": "execute_result"
    }
   ],
   "source": [
    "rewards"
   ]
  },
  {
   "cell_type": "code",
   "execution_count": 79,
   "id": "c2f64adc-5353-432e-8328-95be4b36852f",
   "metadata": {},
   "outputs": [],
   "source": [
    "x = np.array([-100, -100, -100, 0, 10, 10])"
   ]
  },
  {
   "cell_type": "code",
   "execution_count": 80,
   "id": "a5c446da-d10e-4500-a5e2-fa019b8dd80b",
   "metadata": {},
   "outputs": [],
   "source": [
    "yhat = np.dot(states, x)"
   ]
  },
  {
   "cell_type": "code",
   "execution_count": 81,
   "id": "e1d02621-d2cd-4629-84f6-34c8bbb1d09f",
   "metadata": {},
   "outputs": [
    {
     "data": {
      "text/plain": [
       "(array([-1.33339618, -2.22839126, -0.5985151 , ...,  1.65666454,\n",
       "         1.3918601 ,  1.06563568]),\n",
       " array([-2.25840478, -0.62850196,  1.73253435, ...,  1.36185618,\n",
       "         1.03563623,  0.63974914]))"
      ]
     },
     "execution_count": 81,
     "metadata": {},
     "output_type": "execute_result"
    }
   ],
   "source": [
    "yhat, rewards"
   ]
  },
  {
   "cell_type": "code",
   "execution_count": 82,
   "id": "90e21da3-3718-481d-9388-f8e45d3830c5",
   "metadata": {},
   "outputs": [
    {
     "data": {
      "text/plain": [
       "2.1019266741750355"
      ]
     },
     "execution_count": 82,
     "metadata": {},
     "output_type": "execute_result"
    }
   ],
   "source": [
    "rmse(yhat, rewards, axis=0)"
   ]
  },
  {
   "cell_type": "code",
   "execution_count": 83,
   "id": "a5b22ae8-8c37-4c9e-81de-8366c0f497cc",
   "metadata": {},
   "outputs": [
    {
     "data": {
      "text/plain": [
       "(-2.2283912636339664, -2.258404779911159)"
      ]
     },
     "execution_count": 83,
     "metadata": {},
     "output_type": "execute_result"
    }
   ],
   "source": [
    "np.dot(states[1], x), rewards[0]"
   ]
  },
  {
   "cell_type": "code",
   "execution_count": 84,
   "id": "29b10b6e-b430-40c5-966c-7c0c105764a2",
   "metadata": {},
   "outputs": [
    {
     "data": {
      "text/plain": [
       "(-0.5985151045024395, -0.6285019577594813)"
      ]
     },
     "execution_count": 84,
     "metadata": {},
     "output_type": "execute_result"
    }
   ],
   "source": [
    "np.dot(states[2], x), rewards[1]"
   ]
  },
  {
   "cell_type": "code",
   "execution_count": 85,
   "id": "ff5f7ad1-5f9b-4c18-add3-fd2ebd8c1371",
   "metadata": {},
   "outputs": [
    {
     "data": {
      "text/plain": [
       "(2.0325442776083946, 1.732534347411513)"
      ]
     },
     "execution_count": 85,
     "metadata": {},
     "output_type": "execute_result"
    }
   ],
   "source": [
    "np.dot(states[3], x), rewards[2]"
   ]
  },
  {
   "cell_type": "code",
   "execution_count": 86,
   "id": "cf27eaf3-7666-4c62-80ed-ddc8202419de",
   "metadata": {},
   "outputs": [
    {
     "data": {
      "text/plain": [
       "(1.4955347403883934, 1.195533426229258)"
      ]
     },
     "execution_count": 86,
     "metadata": {},
     "output_type": "execute_result"
    }
   ],
   "source": [
    "np.dot(states[5], x), rewards[4]"
   ]
  },
  {
   "cell_type": "code",
   "execution_count": 87,
   "id": "ef4373bf-1220-4094-8ab0-dbc5fb189264",
   "metadata": {},
   "outputs": [
    {
     "data": {
      "text/plain": [
       "0.549318081905142"
      ]
     },
     "execution_count": 87,
     "metadata": {},
     "output_type": "execute_result"
    }
   ],
   "source": [
    "rmse(np.dot(states[1:,:], x), rewards[:-1], axis=0)"
   ]
  },
  {
   "cell_type": "markdown",
   "id": "1dc2fd2c-77a8-4b79-a789-3fb742252c0f",
   "metadata": {},
   "source": [
    "LunarLander rewards are:\n",
    "  - Conditioned on the current reward, state changes, and action\n",
    "  - Non-linear, using sqrt for certain elements of state\n",
    "\n",
    "Even if we we could simply modify the exposed state to, so to only leave the remaining linear transformations, it would still be complex to model since the reward (1) still requires subtracting values that are conditioned on hidden conditions and (2) the values for the initial state (for which there is no previous state) would remain difficult to model with a linear function."
   ]
  },
  {
   "cell_type": "markdown",
   "id": "cc4919de-9ba4-46bc-895a-3b8a568da7a8",
   "metadata": {},
   "source": [
    "The remaining environments can be used."
   ]
  },
  {
   "cell_type": "code",
   "execution_count": null,
   "id": "65304b25-0efa-4839-b067-1a7d6fa1c95d",
   "metadata": {},
   "outputs": [],
   "source": []
  }
 ],
 "metadata": {
  "kernelspec": {
   "display_name": "Python 3 (ipykernel)",
   "language": "python",
   "name": "python3"
  },
  "language_info": {
   "codemirror_mode": {
    "name": "ipython",
    "version": 3
   },
   "file_extension": ".py",
   "mimetype": "text/x-python",
   "name": "python",
   "nbconvert_exporter": "python",
   "pygments_lexer": "ipython3",
   "version": "3.11.11"
  }
 },
 "nbformat": 4,
 "nbformat_minor": 5
}
