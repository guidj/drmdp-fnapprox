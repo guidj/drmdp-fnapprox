{
 "cells": [
  {
   "cell_type": "code",
   "execution_count": 1,
   "id": "96def89d-da64-421c-9fa7-4e7c383cac5c",
   "metadata": {},
   "outputs": [],
   "source": [
    "import abc\n",
    "import copy\n",
    "import functools\n",
    "import itertools\n",
    "import math\n",
    "import random\n",
    "from typing import Any, Optional, Sequence\n"
   ]
  },
  {
   "cell_type": "code",
   "execution_count": 2,
   "id": "294d273e-aa6e-40b5-9cd3-e44c87415250",
   "metadata": {},
   "outputs": [],
   "source": [
    "import gym_electric_motor as gem\n",
    "import gymnasium as gym\n",
    "import numpy as np\n",
    "from gym_electric_motor import reward_functions\n",
    "from scipy import linalg\n",
    "from sklearn import mixture\n"
   ]
  },
  {
   "cell_type": "code",
   "execution_count": 3,
   "id": "d793a823-8a16-4fd5-9d38-d5b331622735",
   "metadata": {},
   "outputs": [],
   "source": [
    "from ray import tune"
   ]
  },
  {
   "cell_type": "code",
   "execution_count": 4,
   "id": "20cf92d2-67b1-4ae9-a4e7-19209c8d90ef",
   "metadata": {},
   "outputs": [],
   "source": [
    "from rlplg.environments import gridworld, redgreen"
   ]
  },
  {
   "cell_type": "code",
   "execution_count": 5,
   "id": "f40d14be-fe4e-45da-95ed-2ef2504f5abe",
   "metadata": {},
   "outputs": [],
   "source": []
  },
  {
   "cell_type": "markdown",
   "id": "1c7db704-00b1-4cbc-9384-3c343c25365e",
   "metadata": {},
   "source": [
    "## Tiling"
   ]
  },
  {
   "cell_type": "code",
   "execution_count": 6,
   "id": "c8d5c2a4-810f-4e6d-becb-913237eee752",
   "metadata": {},
   "outputs": [],
   "source": [
    "\"\"\"\n",
    "Tile Coding Software version 3.0beta\n",
    "by Rich Sutton\n",
    "based on a program created by Steph Schaeffer and others\n",
    "External documentation and recommendations on the use of this code is available in the \n",
    "reinforcement learning textbook by Sutton and Barto, and on the web.\n",
    "These need to be understood before this code is.\n",
    "\n",
    "This software is for Python 3 or more.\n",
    "\n",
    "This is an implementation of grid-style tile codings, based originally on\n",
    "the UNH CMAC code (see http://www.ece.unh.edu/robots/cmac.htm), but by now highly changed. \n",
    "Here we provide a function, \"tiles\", that maps floating and integer\n",
    "variables to a list of tiles, and a second function \"tiles-wrap\" that does the same while\n",
    "wrapping some floats to provided widths (the lower wrap value is always 0).\n",
    "\n",
    "The float variables will be gridded at unit intervals, so generalization\n",
    "will be by approximately 1 in each direction, and any scaling will have \n",
    "to be done externally before calling tiles.\n",
    "\n",
    "Num-tilings should be a power of 2, e.g., 16. To make the offsetting work properly, it should\n",
    "also be greater than or equal to four times the number of floats.\n",
    "\n",
    "The first argument is either an index hash table of a given size (created by (make-iht size)), \n",
    "an integer \"size\" (range of the indices from 0), or nil (for testing, indicating that the tile \n",
    "coordinates are to be returned without being converted to indices).\n",
    "\"\"\"\n",
    "\n",
    "basehash = hash\n",
    "\n",
    "class IHT:\n",
    "    \"Structure to handle collisions\"\n",
    "    def __init__(self, sizeval):\n",
    "        self.size = sizeval                        \n",
    "        self.overfullCount = 0\n",
    "        self.dictionary = {}\n",
    "\n",
    "    def __str__(self):\n",
    "        \"Prepares a string for printing whenever this object is printed\"\n",
    "        return \"Collision table:\" + \\\n",
    "               \" size:\" + str(self.size) + \\\n",
    "               \" overfullCount:\" + str(self.overfullCount) + \\\n",
    "               \" dictionary:\" + str(len(self.dictionary)) + \" items\"\n",
    "\n",
    "    def count(self):\n",
    "        return len(self.dictionary)\n",
    "    \n",
    "    def fullp(self):\n",
    "        return len(self.dictionary) >= self.size\n",
    "    \n",
    "    def getindex(self, obj, readonly=False):\n",
    "        d = self.dictionary\n",
    "        if obj in d:\n",
    "            return d[obj]\n",
    "        elif readonly:\n",
    "            return None\n",
    "        size = self.size\n",
    "        count = self.count()\n",
    "        if count >= size:\n",
    "            # TODO: Fail\n",
    "            if self.overfullCount==0: \n",
    "                print('IHT full, starting to allow collisions')\n",
    "            self.overfullCount += 1\n",
    "            return basehash(obj) % self.size\n",
    "        else:\n",
    "            d[obj] = count\n",
    "            return count\n",
    "\n",
    "def hashcoords(coordinates, m, readonly=False):\n",
    "    if isinstance(m, IHT):\n",
    "        return m.getindex(tuple(coordinates), readonly)\n",
    "    if isinstance(m, int):\n",
    "        return basehash(tuple(coordinates)) % m\n",
    "    if m is None:\n",
    "        return coordinates\n",
    "\n",
    "\n",
    "def tiles(ihtORsize, numtilings, floats, ints=[], readonly=False):\n",
    "    \"\"\"returns num-tilings tile indices corresponding to the floats and ints\"\"\"\n",
    "    qfloats = [math.floor(f*numtilings) for f in floats]\n",
    "    Tiles = []\n",
    "    for tiling in range(numtilings):\n",
    "        tilingX2 = tiling*2\n",
    "        coords = [tiling]\n",
    "        b = tiling\n",
    "        for q in qfloats:\n",
    "            coords.append( (q + b) // numtilings )\n",
    "            b += tilingX2\n",
    "        coords.extend(ints)\n",
    "        Tiles.append(hashcoords(coords, ihtORsize, readonly))\n",
    "    return Tiles\n",
    "\n",
    "def tileswrap (ihtORsize, numtilings, floats, wrapwidths, ints=[], readonly=False):\n",
    "    \"\"\"returns num-tilings tile indices corresponding to the floats and ints, wrapping some floats\"\"\"\n",
    "    qfloats = [math.floor(f*numtilings) for f in floats]\n",
    "    Tiles = []\n",
    "    for tiling in range(numtilings):\n",
    "        tilingX2 = tiling*2\n",
    "        coords = [tiling]\n",
    "        b = tiling\n",
    "        for q, width in itertools.zip_longest(qfloats, wrapwidths):\n",
    "            c = (q + b%numtilings) // numtilings\n",
    "            coords.append(c%width if width else c)\n",
    "            b += tilingX2\n",
    "        coords.extend(ints)\n",
    "        Tiles.append(hashcoords(coords, ihtORsize, readonly))\n",
    "    return Tiles\n"
   ]
  },
  {
   "cell_type": "code",
   "execution_count": 7,
   "id": "bb4b462b-7268-4386-93ab-a66b97a7f19d",
   "metadata": {},
   "outputs": [],
   "source": [
    "def pow2geq(lb):\n",
    "    exp = 1\n",
    "    while True:\n",
    "        rs = np.power(2, exp)\n",
    "        if rs >= lb:\n",
    "            break\n",
    "        exp += 1\n",
    "    return rs"
   ]
  },
  {
   "cell_type": "code",
   "execution_count": 8,
   "id": "afda79b6-d5b8-4d37-b25f-62b6fe11b9fa",
   "metadata": {},
   "outputs": [],
   "source": [
    "def solve_least_squares(\n",
    "    matrix: np.ndarray, rhs: np.ndarray\n",
    ") -> np.ndarray:\n",
    "    try:\n",
    "        solution, _, _, _ = linalg.lstsq(a=matrix, b=rhs, lapack_driver=\"gelsy\")\n",
    "        return solution  # type: ignore\n",
    "    except linalg.LinAlgError as err:\n",
    "        # the computation failed, likely due to the matix being unsuitable (no solution).\n",
    "        raise ValueError(\"Failed to solve linear system\") from err"
   ]
  },
  {
   "cell_type": "code",
   "execution_count": 9,
   "id": "59d6e2d2-d01d-4507-9d37-51d09d9ef9a6",
   "metadata": {},
   "outputs": [],
   "source": [
    "def rmse(v_pred: np.ndarray, v_true: np.ndarray, axis: int):\n",
    "    if np.shape(v_pred) != np.shape(v_true):\n",
    "        raise ValueError(\n",
    "            f\"Tensors have different shapes: {np.shape(v_pred)} != {np.shape(v_true)}\"\n",
    "        )\n",
    "    return np.sqrt(\n",
    "        np.sum(np.power(v_pred - v_true, 2.0), axis=axis) / np.shape(v_pred)[axis]\n",
    "    )"
   ]
  },
  {
   "cell_type": "code",
   "execution_count": 10,
   "id": "8ac3c0c3-7c24-45bb-84b7-c33a282af342",
   "metadata": {},
   "outputs": [],
   "source": [
    "class Tiles:\n",
    "    def __init__(\n",
    "        self, \n",
    "        obs_min: np.ndarray, \n",
    "        obs_max: np.ndarray,\n",
    "        num_actions: Sequence[int],\n",
    "        tiling_dim: int, num_tilings: Optional[int] = None\n",
    "    ):\n",
    "        assert isinstance(obs_min, np.ndarray)\n",
    "        assert isinstance(obs_max, np.ndarray)\n",
    "        self.obs_min = obs_min\n",
    "        self.obs_max = obs_max\n",
    "        self.tiling_dim = tiling_dim\n",
    "        self.wrapwidths = [tiling_dim] * np.size(obs_min)\n",
    "        self.num_actions = num_actions\n",
    "    \n",
    "        # num tilings should a power of 2\n",
    "        # and at least 4 times greater than\n",
    "        # the number of dimensions\n",
    "        self.num_tilings = num_tilings or pow2geq(np.size(obs_min) * 4)\n",
    "        self.max_size = (tiling_dim ** np.size(obs_min)) * self.num_tilings\n",
    "        print(\"Num tilings\", self.num_tilings, \"\\n\", \"Flat dim:\", self.max_size)\n",
    "        self.iht = IHT(self.max_size)\n",
    "        self.dim = self.max_size + self.num_actions\n",
    "\n",
    "    def __call__(self, obs, action):\n",
    "        obs_scaled_01 = (obs - self.obs_min) / (self.obs_max - self.obs_min)\n",
    "        repr = np.zeros(shape=self.dim)\n",
    "        idx = tileswrap(\n",
    "            self.iht, \n",
    "            numtilings=self.num_tilings, \n",
    "            floats=obs_scaled_01 * self.tiling_dim,\n",
    "            wrapwidths=self.wrapwidths,\n",
    "            ints=[action] if action else []\n",
    "        )\n",
    "        repr[idx] = 1\n",
    "        print(idx, len(idx))\n",
    "        return repr\n"
   ]
  },
  {
   "cell_type": "code",
   "execution_count": 11,
   "id": "9bea73f9-3011-46c4-9290-550a75c62312",
   "metadata": {},
   "outputs": [
    {
     "name": "stdout",
     "output_type": "stream",
     "text": [
      "Num tilings 16 \n",
      " Flat dim: 1024\n",
      "[0, 1, 2, 3, 4, 5, 6, 7, 8, 9, 10, 11, 12, 13, 14, 15] 16\n",
      "[16, 17, 18, 19, 20, 21, 22, 23, 24, 25, 26, 27, 28, 29, 30, 31] 16\n",
      "[32, 33, 34, 35, 36, 37, 38, 39, 40, 41, 42, 43, 44, 45, 46, 47] 16\n",
      "[48, 49, 50, 51, 52, 53, 54, 55, 56, 57, 58, 59, 60, 61, 62, 63] 16\n",
      "[64, 65, 50, 51, 66, 53, 54, 67, 56, 57, 68, 69, 60, 70, 71, 63] 16\n",
      "[72, 73, 74, 75, 76, 77, 78, 79, 80, 81, 82, 83, 84, 85, 86, 87] 16\n",
      "[88, 89, 90, 91, 92, 93, 94, 95, 96, 97, 98, 99, 100, 101, 102, 103] 16\n"
     ]
    },
    {
     "data": {
      "text/plain": [
       "array([0., 0., 0., ..., 0., 0., 0.])"
      ]
     },
     "execution_count": 11,
     "metadata": {},
     "output_type": "execute_result"
    }
   ],
   "source": [
    "tiles_enc = Tiles(\n",
    "    np.array([0, 0, 0]),\n",
    "    np.array([9, 9, 9]),\n",
    "    num_actions=100,\n",
    "    tiling_dim=4,\n",
    ")\n",
    "tiles_enc(np.array([1, 2, 3]), action=None)\n",
    "tiles_enc(np.array([1, 2, 3]), action=1)\n",
    "tiles_enc(np.array([9, 9, 9]), action=90)\n",
    "tiles_enc(np.array([9, 9, 9]), action=98)\n",
    "tiles_enc(np.array([9, 9, 8]), action=98)\n",
    "tiles_enc(np.array([9, 9, 9]), action=99)\n",
    "tiles_enc(np.array([7, 6, 8]), action=99)"
   ]
  },
  {
   "cell_type": "markdown",
   "id": "88c34679-56cc-4d1d-8472-5c02a3606bd9",
   "metadata": {},
   "source": [
    "## Utility Functions"
   ]
  },
  {
   "cell_type": "code",
   "execution_count": 12,
   "id": "be069c80-71ce-4f52-9aa8-119fd57fe246",
   "metadata": {},
   "outputs": [],
   "source": [
    "def collection_traj_data(env, steps: int):\n",
    "    obs, _ = env.reset()\n",
    "    step = 0\n",
    "    buffer = []\n",
    "    while step < steps:\n",
    "        action = env.action_space.sample()\n",
    "        next_obs, rew, term, trunc, _,  = env.step(action)\n",
    "        step += 1\n",
    "        buffer.append((obs, action, rew))\n",
    "        obs = next_obs\n",
    "        if term or trunc:\n",
    "            obs, _ = env.reset()\n",
    "    return buffer"
   ]
  },
  {
   "cell_type": "markdown",
   "id": "ff124433-1f29-44da-99da-4cd6e9c061d0",
   "metadata": {},
   "source": [
    "## Feature transformation"
   ]
  },
  {
   "cell_type": "code",
   "execution_count": 13,
   "id": "5b71c921-f5eb-45a9-9f90-40541af19038",
   "metadata": {},
   "outputs": [],
   "source": [
    "def hashtrick(xs, dim: int):\n",
    "    ys = np.zeros(dim, dtype=np.int32)\n",
    "    idx,  = np.where(xs == 1)\n",
    "    for i in idx:\n",
    "        ys[i % dim] += 1\n",
    "    return ys"
   ]
  },
  {
   "cell_type": "code",
   "execution_count": 14,
   "id": "83cc6320-f9c1-4aea-b966-0953e35f800e",
   "metadata": {},
   "outputs": [],
   "source": [
    "class FeatTransform(abc.ABC):\n",
    "    def __init__(self):\n",
    "        pass\n",
    "\n",
    "    @abc.abstractmethod\n",
    "    def transform(self, obs: Any, action: Any):\n",
    "        pass\n",
    "\n",
    "    @property\n",
    "    @abc.abstractmethod\n",
    "    def output_shape(self) -> int:\n",
    "        pass\n"
   ]
  },
  {
   "cell_type": "markdown",
   "id": "bf40019e-7082-41ba-8049-560df577dd33",
   "metadata": {},
   "source": [
    "### Tile Transform"
   ]
  },
  {
   "cell_type": "code",
   "execution_count": 15,
   "id": "81237300-84bf-4d24-8208-dfc07c08bf08",
   "metadata": {},
   "outputs": [],
   "source": [
    "class TileTransform(FeatTransform):\n",
    "    def __init__(self, env: gym.Env, tiling_dim: int, num_tilings: int = None, hash_dim: int = None):\n",
    "        if not isinstance(env.observation_space, gym.spaces.Box):\n",
    "            raise ValueError(\"env.observation_space must be `spaces.Box`\")\n",
    "        if not isinstance(env.action_space, gym.spaces.Discrete):\n",
    "            raise ValueError(\"env.action_space must be `spaces.Discrete`\")            \n",
    "        \n",
    "        self.obs_space = env.observation_space\n",
    "        self.tiling_dim = tiling_dim\n",
    "        self.wrapwidths = [tiling_dim] * np.size(self.obs_space.low)\n",
    "        self.num_actions = env.action_space.n\n",
    "    \n",
    "        # num tilings should a power of 2\n",
    "        # and at least 4 times greater than\n",
    "        # the number of dimensions\n",
    "        self.num_tilings = num_tilings or pow2geq(np.size(self.obs_space.low) * 4)\n",
    "        self.max_size = (tiling_dim ** np.size(self.obs_space.low)) * self.num_tilings * self.num_actions\n",
    "        print(\"Num tilings\", self.num_tilings, \"\\n\", \"Flat dim:\", self.max_size)\n",
    "        self.iht = IHT(self.max_size)\n",
    "        self.hash_dim = hash_dim\n",
    "        \n",
    "    def transform(self, obs: Any, action: Any):\n",
    "        obs_scaled_01 = (obs - self.obs_space.low) / (self.obs_space.high - self.obs_space.low)\n",
    "        repr = np.zeros(shape=self.max_size)\n",
    "        idx = tileswrap(\n",
    "            self.iht, \n",
    "            numtilings=self.num_tilings, \n",
    "            floats=obs_scaled_01 * self.tiling_dim,\n",
    "            wrapwidths=self.wrapwidths,\n",
    "            ints=[action] if action else []\n",
    "        )\n",
    "        repr[idx] = 1\n",
    "        if self.hash_dim:\n",
    "            return hashtrick(repr, self.hash_dim)\n",
    "        return repr  \n",
    "\n",
    "    @property\n",
    "    def output_shape(self) -> int:\n",
    "        return self.hash_dim or self.max_size"
   ]
  },
  {
   "cell_type": "code",
   "execution_count": 16,
   "id": "5b503ac5-9dd1-4976-8577-24f879b3cc1e",
   "metadata": {},
   "outputs": [
    {
     "name": "stdout",
     "output_type": "stream",
     "text": [
      "Num tilings 8 \n",
      " Flat dim: 1536\n",
      "[1. 1. 1. ... 0. 0. 0.]\n",
      "[0. 0. 0. ... 0. 0. 0.]\n",
      "[0. 0. 0. ... 0. 0. 0.]\n"
     ]
    }
   ],
   "source": [
    "env = gym.make(\"MountainCar-v0\", max_episode_steps=10000)\n",
    "transform = TileTransform(env, tiling_dim=8)\n",
    "obs, _ = env.reset()\n",
    "print(transform.transform(obs, 0))\n",
    "print(transform.transform(obs, 1))\n",
    "print(transform.transform(obs, 2))"
   ]
  },
  {
   "cell_type": "markdown",
   "id": "32c3be6c-7639-4077-ade7-d764330a21cb",
   "metadata": {},
   "source": [
    "### Scale Transform"
   ]
  },
  {
   "cell_type": "code",
   "execution_count": 17,
   "id": "4c0067f1-9f56-4d87-ab98-a649c10083f3",
   "metadata": {},
   "outputs": [],
   "source": [
    "class ScaleObsOheActTransform(FeatTransform):\n",
    "    def __init__(self, env: gym.Env, hash_dim: int = None):\n",
    "        if not isinstance(env.observation_space, gym.spaces.Box):\n",
    "            raise ValueError(\"env.observation_space must be `spaces.Box`\")\n",
    "        if not isinstance(env.action_space, gym.spaces.Discrete):\n",
    "            raise ValueError(\"env.action_space must be `spaces.Discrete`\")\n",
    "        \n",
    "        self.obs_space = env.observation_space\n",
    "        self.num_actions = env.action_space.n\n",
    "        self.hash_dim = hash_dim\n",
    "        self.obs_dim = np.size(self.obs_space.high)\n",
    "\n",
    "    def transform(self, obs: Any, action: Any):\n",
    "        obs_scaled_01 = (obs - self.obs_space.low) / (self.obs_space.high - self.obs_space.low)\n",
    "        output = np.zeros(shape=self.obs_dim * self.num_actions)\n",
    "        idx = np.size(self.obs_space.high) * action\n",
    "        output[idx:idx+self.obs_dim] = obs_scaled_01\n",
    "        return output\n",
    "\n",
    "    @property\n",
    "    def output_shape(self) -> int:\n",
    "        return self.hash_dim or self.obs_dim * self.num_actions"
   ]
  },
  {
   "cell_type": "code",
   "execution_count": 18,
   "id": "ce9a3d91-6f72-4a7a-af75-0b610237f926",
   "metadata": {},
   "outputs": [
    {
     "name": "stdout",
     "output_type": "stream",
     "text": [
      "[0.33441147 0.5        0.         0.         0.         0.        ]\n",
      "[0.         0.         0.33441147 0.5        0.         0.        ]\n",
      "[0.         0.         0.         0.         0.33441147 0.5       ]\n"
     ]
    }
   ],
   "source": [
    "env = gym.make(\"MountainCar-v0\", max_episode_steps=10000)\n",
    "transform = ScaleObsOheActTransform(env)\n",
    "obs, _ = env.reset()\n",
    "print(transform.transform(obs, 0))\n",
    "print(transform.transform(obs, 1))\n",
    "print(transform.transform(obs, 2))"
   ]
  },
  {
   "cell_type": "markdown",
   "id": "390534fc-e74e-4627-99dc-a8754a39edd1",
   "metadata": {},
   "source": [
    "### Gaussian Mix Transform"
   ]
  },
  {
   "cell_type": "code",
   "execution_count": 19,
   "id": "751fdac2-5e5b-41b0-8b50-9a9b1c9aa473",
   "metadata": {},
   "outputs": [],
   "source": [
    "class GaussianMixObsOheActTransform(FeatTransform):\n",
    "    def __init__(self, env: gym.Env, params, sample_steps: int = 100_000):\n",
    "        # params or hps_params can be provided\n",
    "        if not isinstance(env.observation_space, gym.spaces.Box):\n",
    "            raise ValueError(\"env.observation_space must be `spaces.Box`\")\n",
    "        if not isinstance(env.action_space, gym.spaces.Discrete):\n",
    "            raise ValueError(\"env.action_space must be `spaces.Discrete`\")\n",
    "\n",
    "        self.obs_space = env.observation_space\n",
    "        self.num_actions = env.action_space.n\n",
    "        self._gm = mixture.GaussianMixture(**params)\n",
    "        self._gm.fit(\n",
    "            [obs for obs, _, _ in collection_traj_data(env, steps=sample_steps)]\n",
    "        )\n",
    "        self.obs_dim = self._gm.n_components\n",
    "        \n",
    "    def transform(self, obs: Any, action: Any):\n",
    "        output = np.zeros(shape=self.obs_dim * self.num_actions)\n",
    "        idx = self.obs_dim * action\n",
    "        output[idx:idx+self.obs_dim] = self._gm.predict_proba([obs])[0]\n",
    "        return output\n",
    "\n",
    "    @property\n",
    "    def output_shape(self) -> int:\n",
    "        return self.obs_dim * self.num_actions"
   ]
  },
  {
   "cell_type": "code",
   "execution_count": 20,
   "id": "a3c1d009-2122-42bd-8633-1942f58819a1",
   "metadata": {},
   "outputs": [
    {
     "name": "stdout",
     "output_type": "stream",
     "text": [
      "[1.76822531e-04 6.77212111e-01 3.19142483e-01 3.46858365e-03\n",
      " 0.00000000e+00 0.00000000e+00 0.00000000e+00 0.00000000e+00\n",
      " 0.00000000e+00 0.00000000e+00 0.00000000e+00 0.00000000e+00]\n",
      "[0.00000000e+00 0.00000000e+00 0.00000000e+00 0.00000000e+00\n",
      " 1.76822531e-04 6.77212111e-01 3.19142483e-01 3.46858365e-03\n",
      " 0.00000000e+00 0.00000000e+00 0.00000000e+00 0.00000000e+00]\n",
      "[0.00000000e+00 0.00000000e+00 0.00000000e+00 0.00000000e+00\n",
      " 0.00000000e+00 0.00000000e+00 0.00000000e+00 0.00000000e+00\n",
      " 1.76822531e-04 6.77212111e-01 3.19142483e-01 3.46858365e-03]\n"
     ]
    }
   ],
   "source": [
    "env = gym.make(\"MountainCar-v0\", max_episode_steps=10000)\n",
    "transform = GaussianMixObsOheActTransform(\n",
    "    env, \n",
    "    params={\"n_components\": 4, \"covariance_type\": \"tied\"}\n",
    ")\n",
    "obs, _ = env.reset()\n",
    "print(transform.transform(obs, 0))\n",
    "print(transform.transform(obs, 1))\n",
    "print(transform.transform(obs, 2))"
   ]
  },
  {
   "cell_type": "markdown",
   "id": "22ceb364-8b0f-4538-adcf-34c67924c28e",
   "metadata": {},
   "source": [
    "### Random Binary Transform"
   ]
  },
  {
   "cell_type": "code",
   "execution_count": 21,
   "id": "bb86ecdf-453c-4708-bfa3-c48a9662a4e8",
   "metadata": {},
   "outputs": [],
   "source": [
    "class RndBinaryTransform(FeatTransform):\n",
    "    def __init__(self, env: gym.Env, enc_size: int):\n",
    "        if not isinstance(env.action_space, gym.spaces.Discrete):\n",
    "            raise ValueError(\"env.action_space must be `spaces.Discrete`\")              \n",
    "        self.obs_space = env.observation_space\n",
    "        if isinstance(self.obs_space, gym.spaces.Discrete):\n",
    "            self.num_states = self.obs_space.n\n",
    "        elif isinstance(self.obs_space, gym.spaces.Box):\n",
    "            (self.obs_space.high - self.obs_space.low).item()\n",
    "        else:\n",
    "            raise ValueError(\"Unsupport observation_space. Must be Box[1d] or Discrete\")\n",
    "        self.num_actions = env.action_space.n\n",
    "        self.enc_size = enc_size\n",
    "        self._idx = [np.array(xs) for xs in \n",
    "            np.random.randint(\n",
    "                0, \n",
    "                high=self.enc_size, \n",
    "                size=(self.num_states, math.floor(self.enc_size/2)),\n",
    "            \n",
    "            )\n",
    "        ]\n",
    "        \n",
    "    def transform(self, obs: Any, action: Any):\n",
    "        output = np.zeros(shape=self.enc_size * self.num_actions)\n",
    "        idx = self.enc_size * action\n",
    "        output[self._idx[obs]+idx] = 1\n",
    "        return output\n",
    "\n",
    "    @property\n",
    "    def output_shape(self) -> int:\n",
    "        return self.enc_size * self.num_actions"
   ]
  },
  {
   "cell_type": "code",
   "execution_count": 22,
   "id": "17551ebb-0c0e-4a99-8a42-be760f8c6ba4",
   "metadata": {},
   "outputs": [
    {
     "name": "stdout",
     "output_type": "stream",
     "text": [
      "[1. 0. 1. 0. 0. 0. 0. 0. 0. 0. 0. 0. 0. 0. 0. 0. 0. 0. 0. 0. 0. 0. 0. 0.]\n",
      "[0. 0. 0. 0. 0. 0. 1. 0. 1. 0. 0. 0. 0. 0. 0. 0. 0. 0. 0. 0. 0. 0. 0. 0.]\n",
      "[0. 0. 0. 0. 0. 0. 0. 0. 0. 0. 0. 0. 1. 0. 1. 0. 0. 0. 0. 0. 0. 0. 0. 0.]\n"
     ]
    }
   ],
   "source": [
    "env = gym.make(\"CliffWalking-v0\", max_episode_steps=10000)\n",
    "transform = RndBinaryTransform(\n",
    "    env, \n",
    "    enc_size=6\n",
    ")\n",
    "obs, _ = env.reset()\n",
    "print(transform.transform(obs, 0))\n",
    "print(transform.transform(obs, 1))\n",
    "print(transform.transform(obs, 2))"
   ]
  },
  {
   "cell_type": "markdown",
   "id": "7e253e23-9aea-4d9a-9263-35e5275ab296",
   "metadata": {},
   "source": [
    "## Control with SARSA"
   ]
  },
  {
   "cell_type": "code",
   "execution_count": 23,
   "id": "6cac9ed1-0984-404c-bf43-e5abf82b9876",
   "metadata": {},
   "outputs": [],
   "source": [
    "def action_values(obs, actions: Sequence[int], weights, feat_transform: FeatTransform):\n",
    "    state_action_m = np.zeros(shape=(len(actions), feat_transform.output_shape))\n",
    "    for idx, action in enumerate(actions):\n",
    "        state_action_m[idx, :] = feat_transform.transform(obs, action)\n",
    "    return np.dot(state_action_m, weights), state_action_m\n",
    "\n",
    "def semi_gradient_sarsa(env, alpha: float, gamma: float, epsilon: float, num_episodes: int, feat_transform: FeatTransform):\n",
    "    actions = tuple(range(env.action_space.n))\n",
    "    weights = np.zeros(feat_transform.output_shape, dtype=np.float64)\n",
    "    returns = []\n",
    "    \n",
    "    for i in range(num_episodes):\n",
    "        obs, _ = env.reset()\n",
    "        state_qvalues, gradients = action_values(obs, actions, weights, feat_transform)\n",
    "        rewards = 0\n",
    "        # choose action\n",
    "        if random.random() <= epsilon:\n",
    "            action = env.action_space.sample()\n",
    "        else:\n",
    "            action = np.random.choice(np.flatnonzero(state_qvalues == state_qvalues.max()))\n",
    "\n",
    "        while True:\n",
    "            # greedy            \n",
    "            next_obs, reward, term, trunc, _,  = env.step(action)\n",
    "            rewards += reward\n",
    "            \n",
    "            if term or trunc:\n",
    "                weights = weights + alpha * (reward - state_qvalues[action]) * gradients[action]\n",
    "                break\n",
    "\n",
    "            next_state_qvalues, next_gradients = action_values(next_obs, actions, weights, feat_transform)\n",
    "            \n",
    "            if random.random() <= epsilon:\n",
    "                next_action = env.action_space.sample()\n",
    "            else:\n",
    "                # greedy\n",
    "                next_action = np.random.choice(np.flatnonzero(next_state_qvalues == next_state_qvalues.max()))\n",
    "\n",
    "            weights = weights + alpha * (\n",
    "                reward + gamma * next_state_qvalues[next_action] - state_qvalues[action]\n",
    "            ) * gradients[action]\n",
    "            obs = next_obs\n",
    "            action = next_action\n",
    "            state_qvalues = next_state_qvalues\n",
    "            gradients = next_gradients\n",
    "        returns.append(rewards)\n",
    "        if (i+1) % math.floor(num_episodes/5) == 0:\n",
    "            print(\"Episode\", i+1, \"mean returns:\", np.mean(returns))\n",
    "    return weights\n",
    "\n",
    "\n",
    "def play(env, weights, num_episodes: int, feat_transform):\n",
    "    actions = tuple(range(env.action_space.n))\n",
    "    returns = []\n",
    "    for i in range(num_episodes):\n",
    "        obs, _ = env.reset()\n",
    "        rewards = 0\n",
    "        while True:\n",
    "            state_qvalues, _ = action_values(obs, actions, weights, feat_transform)\n",
    "            action = np.random.choice(np.flatnonzero(state_qvalues == state_qvalues.max()))\n",
    "            next_obs, reward, term, trunc, _,  = env.step(action)\n",
    "            rewards += reward\n",
    "            obs = next_obs\n",
    "            if term or trunc:\n",
    "                returns.append(rewards)\n",
    "                break\n",
    "    return np.mean(returns)"
   ]
  },
  {
   "cell_type": "markdown",
   "id": "e30f5f61-d2ee-49a8-bd83-260d688e2ed3",
   "metadata": {},
   "source": [
    "### Grid World"
   ]
  },
  {
   "cell_type": "code",
   "execution_count": 24,
   "id": "9064f5d0-a26d-4673-b5f3-6e470a1165b0",
   "metadata": {},
   "outputs": [
    {
     "name": "stdout",
     "output_type": "stream",
     "text": [
      "Num tilings 8 \n",
      " Flat dim: 2048\n",
      "Episode 400 mean returns: -862.81\n",
      "Episode 800 mean returns: -448.75625\n",
      "Episode 1200 mean returns: -311.8675\n",
      "Episode 1600 mean returns: -243.733125\n",
      "Episode 2000 mean returns: -202.6185\n"
     ]
    },
    {
     "data": {
      "text/plain": [
       "-17.0"
      ]
     },
     "execution_count": 24,
     "metadata": {},
     "output_type": "execute_result"
    }
   ],
   "source": [
    "class GWObsWrapper(gym.ObservationWrapper):\n",
    "    def __init__(self, env):\n",
    "        super().__init__(env)\n",
    "        self.observation_space = gym.spaces.Box(\n",
    "            high=np.array(\n",
    "                    [env.observation_space[\"agent\"][0].n, env.observation_space[\"agent\"][1].n]\n",
    "                ),\n",
    "            low=np.zeros(shape=2, dtype=np.int32)\n",
    "        )\n",
    "\n",
    "    def observation(self, obs):\n",
    "        return np.array(obs[\"agent\"])\n",
    "\n",
    "\n",
    "size, cliffs, exits, start = gridworld.parse_grid_from_text(\n",
    "    [\"oooooooooooo\", \"oooooooooooo\", \"oooooooooooo\", \"sxxxxxxxxxxg\"]\n",
    ")\n",
    "env = GWObsWrapper(\n",
    "    gridworld.GridWorld(size, cliffs, exits, start)\n",
    ")\n",
    "tile_transform = TileTransform(\n",
    "    env=env,\n",
    "    tiling_dim=8,\n",
    "    hash_dim=512\n",
    ")\n",
    "weights = semi_gradient_sarsa(env, alpha=0.01, gamma=1.0, epsilon=0.1, num_episodes=2000, feat_transform=tile_transform)\n",
    "play(gym.wrappers.TimeLimit(env, max_episode_steps=1000), weights, 20, feat_transform=tile_transform)"
   ]
  },
  {
   "cell_type": "markdown",
   "id": "02576144-78c8-4140-82a1-a13958bf1bd3",
   "metadata": {},
   "source": [
    "### RedGreen"
   ]
  },
  {
   "cell_type": "code",
   "execution_count": 25,
   "id": "456111a8-449a-491a-879e-459f1bd0b7a9",
   "metadata": {},
   "outputs": [
    {
     "name": "stdout",
     "output_type": "stream",
     "text": [
      "Num tilings 4 \n",
      " Flat dim: 48\n",
      "Episode 200 mean returns: -10.345\n",
      "Episode 400 mean returns: -8.7025\n",
      "Episode 600 mean returns: -8.121666666666666\n",
      "Episode 800 mean returns: -7.8075\n",
      "Episode 1000 mean returns: -7.661\n"
     ]
    },
    {
     "data": {
      "text/plain": [
       "-6.0"
      ]
     },
     "execution_count": 25,
     "metadata": {},
     "output_type": "execute_result"
    }
   ],
   "source": [
    "class RGObsWrapper(gym.ObservationWrapper):\n",
    "    def __init__(self, env):\n",
    "        super().__init__(env)\n",
    "        self.observation_space = gym.spaces.Box(\n",
    "            high=np.array(\n",
    "                    [env.observation_space[\"pos\"].n]\n",
    "                ),\n",
    "            low=np.array([0])\n",
    "        )\n",
    "\n",
    "    def observation(self, obs):\n",
    "        return obs[\"pos\"]\n",
    "\n",
    "env = RGObsWrapper(\n",
    "    redgreen.RedGreenSeq([\"red\", \"green\", \"red\", \"green\", \"wait\", \"green\"])\n",
    ")\n",
    "\n",
    "tile_transform = TileTransform(\n",
    "    env=env,\n",
    "    tiling_dim=4,\n",
    ")\n",
    "\n",
    "weights = semi_gradient_sarsa(env, alpha=0.01, gamma=1.0, epsilon=0.2, num_episodes=1000, feat_transform=tile_transform)\n",
    "play(env, weights, 20, feat_transform=tile_transform)"
   ]
  },
  {
   "cell_type": "markdown",
   "id": "843f3008-492e-4fb1-adde-b63b0b956440",
   "metadata": {},
   "source": [
    "### Moutain Car"
   ]
  },
  {
   "cell_type": "code",
   "execution_count": 26,
   "id": "1decd4b9-ebe3-477c-8b6c-b3af8ee1afe1",
   "metadata": {},
   "outputs": [
    {
     "data": {
      "text/plain": [
       "array([[1, 2, 3, 4, 0],\n",
       "       [1, 2, 3, 4, 1],\n",
       "       [1, 2, 3, 4, 2]])"
      ]
     },
     "execution_count": 26,
     "metadata": {},
     "output_type": "execute_result"
    }
   ],
   "source": [
    "xs = np.array([1, 2, 3, 4])\n",
    "xs_batch = np.reshape(np.tile(xs, reps=3), newshape=(-1, xs.size))\n",
    "actions = np.array(range(3))\n",
    "np.hstack((xs_batch, np.expand_dims(actions, -1)))"
   ]
  },
  {
   "cell_type": "code",
   "execution_count": 27,
   "id": "ada8d226-4b21-4fd6-aad3-74f61dc50e5b",
   "metadata": {},
   "outputs": [
    {
     "name": "stdout",
     "output_type": "stream",
     "text": [
      "Num tilings 8 \n",
      " Flat dim: 384\n",
      "Episode 200 mean returns: -230.93\n",
      "Episode 400 mean returns: -194.2725\n",
      "Episode 600 mean returns: -181.14\n",
      "Episode 800 mean returns: -176.47375\n",
      "Episode 1000 mean returns: -172.37\n"
     ]
    },
    {
     "data": {
      "text/plain": [
       "-132.75"
      ]
     },
     "execution_count": 27,
     "metadata": {},
     "output_type": "execute_result"
    }
   ],
   "source": [
    "env = gym.make(\"MountainCar-v0\", max_episode_steps=10000)\n",
    "tile_transform = TileTransform(\n",
    "    env=env,\n",
    "    tiling_dim=4,\n",
    ")\n",
    "\n",
    "weights = semi_gradient_sarsa(env, alpha=0.01, gamma=1.0, epsilon=0.2, num_episodes=1000, feat_transform=tile_transform)\n",
    "play(gym.wrappers.TimeLimit(env, max_episode_steps=1000), weights, 20, feat_transform=tile_transform)"
   ]
  },
  {
   "cell_type": "markdown",
   "id": "726fa453-8f69-427a-874d-e230c2ac3863",
   "metadata": {},
   "source": [
    "### GEM"
   ]
  },
  {
   "cell_type": "code",
   "execution_count": 28,
   "id": "dd5a6058-8902-4e9a-b9b1-f8945298e80d",
   "metadata": {},
   "outputs": [],
   "source": [
    "class StrictWeightedSumOfErrors(reward_functions.WeightedSumOfErrors):\n",
    "    def __init__(\n",
    "        self, reward_weights=None, normed_reward_weights=False, violation_reward=None\n",
    "    ):\n",
    "        super().__init__(\n",
    "            reward_weights,\n",
    "            normed_reward_weights,\n",
    "            violation_reward,\n",
    "            gamma=1.0,\n",
    "            reward_power=1,\n",
    "            bias=0,\n",
    "        )\n",
    "\n",
    "    def reward(self, state, reference, k=None, action=None, violation_degree=0.0):\n",
    "        del k\n",
    "        del action\n",
    "        return (\n",
    "            self._wse_reward(state, reference)\n",
    "            + violation_degree * self._violation_reward\n",
    "        )\n"
   ]
  },
  {
   "cell_type": "code",
   "execution_count": 29,
   "id": "4d0dae8d-923f-4724-a82b-9d51279b9612",
   "metadata": {},
   "outputs": [],
   "source": [
    "class GEMObsWrapper(gym.ObservationWrapper):\n",
    "    def __init__(self, env):\n",
    "        super().__init__(env)\n",
    "        self._mask = getattr(env.reference_generator, \"referenced_states\")\n",
    "        state_obs_space, ref_state_obs_space = env.observation_space\n",
    "\n",
    "        self._weights = getattr(env.reward_function, \"_reward_weights\")[self._mask]\n",
    "        self._expo = getattr(env.reward_function, \"_n\")[self._mask]\n",
    "        self._bias = getattr(env.reward_function, \"_bias\")\n",
    "        self._denom = (state_obs_space.high - state_obs_space.low)[self._mask]\n",
    "        self._prev_ref_state = None  # np.zeros_like(state_obs_space.high[self._mask])\n",
    "\n",
    "        bounds = [\n",
    "            np.abs(state_obs_space.high[self._mask] - ref_state_obs_space.low),\n",
    "            np.abs(state_obs_space.high[self._mask] - ref_state_obs_space.high),\n",
    "            np.abs(state_obs_space.low[self._mask] - ref_state_obs_space.high),\n",
    "            np.abs(state_obs_space.low[self._mask] - ref_state_obs_space.low),\n",
    "        ]\n",
    "        obs_space_low = np.concatenate(\n",
    "            [\n",
    "                functools.reduce(np.minimum, bounds),\n",
    "                # constraint violation\n",
    "                np.array([0.0]),\n",
    "            ]\n",
    "        )\n",
    "        obs_space_high = np.concatenate(\n",
    "            [\n",
    "                functools.reduce(np.maximum, bounds),\n",
    "                # constraint violation\n",
    "                np.array([1.0]),\n",
    "            ]\n",
    "        )\n",
    "        self.observation_space = gym.spaces.Box(\n",
    "            low=obs_space_low, high=obs_space_high, dtype=state_obs_space.dtype\n",
    "        )\n",
    "        self._cvfn = getattr(self.env.constraint_monitor, \"check_constraints\")\n",
    "\n",
    "    def observation(self, observation):\n",
    "        prev_ref_state = copy.copy(self._prev_ref_state)\n",
    "        next_state, ref_state = observation\n",
    "        cv = self._cvfn(next_state)\n",
    "        next_state = next_state[self._mask]\n",
    "\n",
    "        if prev_ref_state is None:\n",
    "            prev_ref_state = ref_state\n",
    "\n",
    "        wrapped_next_state = np.concatenate(\n",
    "            [\n",
    "                (abs(next_state - prev_ref_state) / self._denom) ** self._expo\n",
    "                + self._bias,\n",
    "                np.array([cv]),\n",
    "            ]\n",
    "        )\n",
    "        self._prev_ref_state = ref_state\n",
    "        return wrapped_next_state\n",
    "\n"
   ]
  },
  {
   "cell_type": "code",
   "execution_count": 30,
   "id": "5b8a3ecc-5db9-4e7c-aee6-6143fa727879",
   "metadata": {},
   "outputs": [
    {
     "name": "stdout",
     "output_type": "stream",
     "text": [
      "Episode 200 mean returns: -401.5997553584975\n",
      "Episode 400 mean returns: -300.1405760688319\n",
      "Episode 600 mean returns: -250.4832196093925\n",
      "Episode 800 mean returns: -221.52691531155423\n",
      "Episode 1000 mean returns: -204.85854552420057\n"
     ]
    },
    {
     "data": {
      "text/plain": [
       "-44.76319411204716"
      ]
     },
     "execution_count": 30,
     "metadata": {},
     "output_type": "execute_result"
    }
   ],
   "source": [
    "rf = StrictWeightedSumOfErrors(\n",
    "    violation_reward=-10,\n",
    ")\n",
    "\n",
    "env = GEMObsWrapper(\n",
    "    gem.make(\"Finite-CC-PMSM-v0\", reward_function=rf)\n",
    ")\n",
    "\n",
    "scale_transform = ScaleObsOheActTransform(\n",
    "    env\n",
    ")\n",
    "\n",
    "weights = semi_gradient_sarsa(env, alpha=0.01, gamma=1.0, epsilon=0.2, num_episodes=1000, feat_transform=scale_transform)\n",
    "play(env, weights, 20, feat_transform=scale_transform)"
   ]
  },
  {
   "cell_type": "markdown",
   "id": "75b121a3-3f84-485a-ac12-181f1a636757",
   "metadata": {},
   "source": [
    "## Hyper-parameter search"
   ]
  },
  {
   "cell_type": "code",
   "execution_count": 31,
   "id": "4617f807-f196-487d-a288-8395fd6e8013",
   "metadata": {},
   "outputs": [
    {
     "data": {
      "text/html": [
       "<div class=\"tuneStatus\">\n",
       "  <div style=\"display: flex;flex-direction: row\">\n",
       "    <div style=\"display: flex;flex-direction: column;\">\n",
       "      <h3>Tune Status</h3>\n",
       "      <table>\n",
       "<tbody>\n",
       "<tr><td>Current time:</td><td>2025-03-06 01:55:31</td></tr>\n",
       "<tr><td>Running for: </td><td>01:08:37.15        </td></tr>\n",
       "<tr><td>Memory:      </td><td>12.2/16.0 GiB      </td></tr>\n",
       "</tbody>\n",
       "</table>\n",
       "    </div>\n",
       "    <div class=\"vDivider\"></div>\n",
       "    <div class=\"systemInfo\">\n",
       "      <h3>System Info</h3>\n",
       "      Using FIFO scheduling algorithm.<br>Logical resource usage: 1.0/10 CPUs, 0/0 GPUs\n",
       "    </div>\n",
       "    \n",
       "  </div>\n",
       "  <div class=\"hDivider\"></div>\n",
       "  <div class=\"trialStatus\">\n",
       "    <h3>Trial Status</h3>\n",
       "    <table>\n",
       "<thead>\n",
       "<tr><th>Trial name             </th><th>status    </th><th>loc            </th><th>encoding            </th><th>encoding/args/covari\n",
       "ance_type     </th><th style=\"text-align: right;\">   encoding/args/n_comp\n",
       "onents</th><th style=\"text-align: right;\">  encoding/args/tiling\n",
       "_dim</th><th style=\"text-align: right;\">  learning/alpha</th><th style=\"text-align: right;\">  learning/epsilon</th><th style=\"text-align: right;\">  iter</th><th style=\"text-align: right;\">  total time (s)</th><th style=\"text-align: right;\">  score</th></tr>\n",
       "</thead>\n",
       "<tbody>\n",
       "<tr><td>hps_control_1c473_00000</td><td>TERMINATED</td><td>127.0.0.1:21497</td><td>{&#x27;type&#x27;: &#x27;tiles_5540</td><td>    </td><td style=\"text-align: right;\">  </td><td style=\"text-align: right;\">5</td><td style=\"text-align: right;\">            0.03</td><td style=\"text-align: right;\">               0.1</td><td style=\"text-align: right;\">     1</td><td style=\"text-align: right;\">         10.998 </td><td style=\"text-align: right;\">     -1</td></tr>\n",
       "<tr><td>hps_control_1c473_00001</td><td>TERMINATED</td><td>127.0.0.1:21498</td><td>{&#x27;type&#x27;: &#x27;gauss_80c0</td><td>diag</td><td style=\"text-align: right;\"> 3</td><td style=\"text-align: right;\"> </td><td style=\"text-align: right;\">            0.04</td><td style=\"text-align: right;\">               0.2</td><td style=\"text-align: right;\">     1</td><td style=\"text-align: right;\">       2413.87  </td><td style=\"text-align: right;\">     -1</td></tr>\n",
       "<tr><td>hps_control_1c473_00002</td><td>TERMINATED</td><td>127.0.0.1:21499</td><td>{&#x27;type&#x27;: &#x27;gauss_8880</td><td>tied</td><td style=\"text-align: right;\">17</td><td style=\"text-align: right;\"> </td><td style=\"text-align: right;\">            0.07</td><td style=\"text-align: right;\">               0.2</td><td style=\"text-align: right;\">     1</td><td style=\"text-align: right;\">       4045.84  </td><td style=\"text-align: right;\">     -1</td></tr>\n",
       "<tr><td>hps_control_1c473_00003</td><td>TERMINATED</td><td>127.0.0.1:21500</td><td>{&#x27;type&#x27;: &#x27;tiles_fdc0</td><td>    </td><td style=\"text-align: right;\">  </td><td style=\"text-align: right;\">2</td><td style=\"text-align: right;\">            0.08</td><td style=\"text-align: right;\">               0.2</td><td style=\"text-align: right;\">     1</td><td style=\"text-align: right;\">         36.6818</td><td style=\"text-align: right;\">     -1</td></tr>\n",
       "<tr><td>hps_control_1c473_00004</td><td>TERMINATED</td><td>127.0.0.1:21501</td><td>{&#x27;type&#x27;: &#x27;gauss_4300</td><td>tied</td><td style=\"text-align: right;\">18</td><td style=\"text-align: right;\"> </td><td style=\"text-align: right;\">            0.02</td><td style=\"text-align: right;\">               0.2</td><td style=\"text-align: right;\">     1</td><td style=\"text-align: right;\">       4113.7   </td><td style=\"text-align: right;\">     -1</td></tr>\n",
       "<tr><td>hps_control_1c473_00005</td><td>TERMINATED</td><td>127.0.0.1:21502</td><td>{&#x27;type&#x27;: &#x27;tiles_e540</td><td>    </td><td style=\"text-align: right;\">  </td><td style=\"text-align: right;\">3</td><td style=\"text-align: right;\">            0.08</td><td style=\"text-align: right;\">               0.2</td><td style=\"text-align: right;\">     1</td><td style=\"text-align: right;\">         25.549 </td><td style=\"text-align: right;\">     -1</td></tr>\n",
       "<tr><td>hps_control_1c473_00006</td><td>TERMINATED</td><td>127.0.0.1:21503</td><td>{&#x27;type&#x27;: &#x27;tiles_78c0</td><td>    </td><td style=\"text-align: right;\">  </td><td style=\"text-align: right;\">2</td><td style=\"text-align: right;\">            0.01</td><td style=\"text-align: right;\">               0.2</td><td style=\"text-align: right;\">     1</td><td style=\"text-align: right;\">         17.5761</td><td style=\"text-align: right;\">     -1</td></tr>\n",
       "<tr><td>hps_control_1c473_00007</td><td>TERMINATED</td><td>127.0.0.1:21504</td><td>{&#x27;type&#x27;: &#x27;tiles_e2c0</td><td>    </td><td style=\"text-align: right;\">  </td><td style=\"text-align: right;\">5</td><td style=\"text-align: right;\">            0.07</td><td style=\"text-align: right;\">               0.1</td><td style=\"text-align: right;\">     1</td><td style=\"text-align: right;\">         14.3771</td><td style=\"text-align: right;\">     -1</td></tr>\n",
       "<tr><td>hps_control_1c473_00008</td><td>TERMINATED</td><td>127.0.0.1:21505</td><td>{&#x27;type&#x27;: &#x27;gauss_a580</td><td>full</td><td style=\"text-align: right;\">10</td><td style=\"text-align: right;\"> </td><td style=\"text-align: right;\">            0.04</td><td style=\"text-align: right;\">               0.1</td><td style=\"text-align: right;\">     1</td><td style=\"text-align: right;\">       3545.82  </td><td style=\"text-align: right;\">     -1</td></tr>\n",
       "<tr><td>hps_control_1c473_00009</td><td>TERMINATED</td><td>127.0.0.1:21506</td><td>{&#x27;type&#x27;: &#x27;gauss_1e40</td><td>diag</td><td style=\"text-align: right;\">12</td><td style=\"text-align: right;\"> </td><td style=\"text-align: right;\">            0.06</td><td style=\"text-align: right;\">               0.2</td><td style=\"text-align: right;\">     1</td><td style=\"text-align: right;\">       2433.73  </td><td style=\"text-align: right;\">     -1</td></tr>\n",
       "</tbody>\n",
       "</table>\n",
       "  </div>\n",
       "</div>\n",
       "<style>\n",
       ".tuneStatus {\n",
       "  color: var(--jp-ui-font-color1);\n",
       "}\n",
       ".tuneStatus .systemInfo {\n",
       "  display: flex;\n",
       "  flex-direction: column;\n",
       "}\n",
       ".tuneStatus td {\n",
       "  white-space: nowrap;\n",
       "}\n",
       ".tuneStatus .trialStatus {\n",
       "  display: flex;\n",
       "  flex-direction: column;\n",
       "}\n",
       ".tuneStatus h3 {\n",
       "  font-weight: bold;\n",
       "}\n",
       ".tuneStatus .hDivider {\n",
       "  border-bottom-width: var(--jp-border-width);\n",
       "  border-bottom-color: var(--jp-border-color0);\n",
       "  border-bottom-style: solid;\n",
       "}\n",
       ".tuneStatus .vDivider {\n",
       "  border-left-width: var(--jp-border-width);\n",
       "  border-left-color: var(--jp-border-color0);\n",
       "  border-left-style: solid;\n",
       "  margin: 0.5em 1em 0.5em 1em;\n",
       "}\n",
       "</style>\n"
      ],
      "text/plain": [
       "<IPython.core.display.HTML object>"
      ]
     },
     "metadata": {},
     "output_type": "display_data"
    },
    {
     "name": "stdout",
     "output_type": "stream",
     "text": [
      "\u001b[36m(func pid=21504)\u001b[0m Num tilings 8 \n",
      "\u001b[36m(func pid=21504)\u001b[0m  Flat dim: 600\n",
      "\u001b[36m(func pid=21497)\u001b[0m Episode 200 mean returns: -181.94\n",
      "\u001b[36m(func pid=21502)\u001b[0m Num tilings 8 \u001b[32m [repeated 4x across cluster] (Ray deduplicates logs by default. Set RAY_DEDUP_LOGS=0 to disable log deduplication, or see https://docs.ray.io/en/master/ray-observability/user-guides/configure-logging.html#log-deduplication for more options.)\u001b[0m\n",
      "\u001b[36m(func pid=21502)\u001b[0m  Flat dim: 216\u001b[32m [repeated 4x across cluster]\u001b[0m\n",
      "\u001b[36m(func pid=21504)\u001b[0m Episode 600 mean returns: -197.88166666666666\u001b[32m [repeated 8x across cluster]\u001b[0m\n"
     ]
    },
    {
     "name": "stderr",
     "output_type": "stream",
     "text": [
      "2025-03-06 00:47:08,911\tINFO tensorboardx.py:308 -- Removed the following hyperparameter values when logging to tensorboard: {'encoding/args/tiling_dim': <ray.tune.search.sample.Integer object at 0x3a2e1db10>}\n",
      "2025-03-06 00:47:12,219\tINFO tensorboardx.py:308 -- Removed the following hyperparameter values when logging to tensorboard: {'encoding/args/tiling_dim': <ray.tune.search.sample.Integer object at 0x16dc23cd0>}\n"
     ]
    },
    {
     "name": "stdout",
     "output_type": "stream",
     "text": [
      "\u001b[36m(func pid=21504)\u001b[0m Episode 1000 mean returns: -200.785\u001b[32m [repeated 7x across cluster]\u001b[0m\n"
     ]
    },
    {
     "name": "stderr",
     "output_type": "stream",
     "text": [
      "2025-03-06 00:47:15,419\tINFO tensorboardx.py:308 -- Removed the following hyperparameter values when logging to tensorboard: {'encoding/args/tiling_dim': <ray.tune.search.sample.Integer object at 0x3a2bd1ad0>}\n"
     ]
    },
    {
     "name": "stdout",
     "output_type": "stream",
     "text": [
      "\u001b[36m(func pid=21502)\u001b[0m Episode 800 mean returns: -419.51125\u001b[32m [repeated 5x across cluster]\u001b[0m\n"
     ]
    },
    {
     "name": "stderr",
     "output_type": "stream",
     "text": [
      "2025-03-06 00:47:23,507\tINFO tensorboardx.py:308 -- Removed the following hyperparameter values when logging to tensorboard: {'encoding/args/tiling_dim': <ray.tune.search.sample.Integer object at 0x3a110e550>}\n"
     ]
    },
    {
     "name": "stdout",
     "output_type": "stream",
     "text": [
      "\u001b[36m(func pid=21500)\u001b[0m Episode 800 mean returns: -617.65625\u001b[32m [repeated 3x across cluster]\u001b[0m\n"
     ]
    },
    {
     "name": "stderr",
     "output_type": "stream",
     "text": [
      "2025-03-06 00:47:34,522\tINFO tensorboardx.py:308 -- Removed the following hyperparameter values when logging to tensorboard: {'encoding/args/tiling_dim': <ray.tune.search.sample.Integer object at 0x16daf9310>}\n"
     ]
    },
    {
     "name": "stdout",
     "output_type": "stream",
     "text": [
      "\u001b[36m(func pid=21500)\u001b[0m Episode 1000 mean returns: -643.832\n",
      "\u001b[36m(func pid=21498)\u001b[0m Episode 200 mean returns: -9170.465\n",
      "\u001b[36m(func pid=21506)\u001b[0m Episode 200 mean returns: -9409.31\n",
      "\u001b[36m(func pid=21505)\u001b[0m Episode 200 mean returns: -9804.405\n",
      "\u001b[36m(func pid=21501)\u001b[0m Episode 200 mean returns: -9478.09\n",
      "\u001b[36m(func pid=21499)\u001b[0m Episode 200 mean returns: -9720.625\n",
      "\u001b[36m(func pid=21506)\u001b[0m Episode 400 mean returns: -9395.895\n",
      "\u001b[36m(func pid=21498)\u001b[0m Episode 400 mean returns: -9456.3275\n",
      "\u001b[36m(func pid=21505)\u001b[0m Episode 400 mean returns: -9845.19\n",
      "\u001b[36m(func pid=21498)\u001b[0m Episode 600 mean returns: -9249.708333333334\n",
      "\u001b[36m(func pid=21506)\u001b[0m Episode 600 mean returns: -9280.445\n",
      "\u001b[36m(func pid=21501)\u001b[0m Episode 400 mean returns: -9526.4775\n",
      "\u001b[36m(func pid=21499)\u001b[0m Episode 400 mean returns: -9637.04\n",
      "\u001b[36m(func pid=21498)\u001b[0m Episode 800 mean returns: -9098.11375\n",
      "\u001b[36m(func pid=21506)\u001b[0m Episode 800 mean returns: -9221.525\n",
      "\u001b[36m(func pid=21505)\u001b[0m Episode 600 mean returns: -9823.805\n",
      "\u001b[36m(func pid=21498)\u001b[0m Episode 1000 mean returns: -9115.663\n",
      "\u001b[36m(func pid=21506)\u001b[0m Episode 1000 mean returns: -9174.028\n"
     ]
    },
    {
     "name": "stderr",
     "output_type": "stream",
     "text": [
      "2025-03-06 01:27:11,725\tINFO tensorboardx.py:308 -- Removed the following hyperparameter values when logging to tensorboard: {'encoding/args/n_components': <ray.tune.search.sample.Integer object at 0x3a110ebd0>, 'encoding/args/covariance_type': <ray.tune.search.sample.Categorical object at 0x3a12d38d0>}\n",
      "2025-03-06 01:27:31,627\tINFO tensorboardx.py:308 -- Removed the following hyperparameter values when logging to tensorboard: {'encoding/args/n_components': <ray.tune.search.sample.Integer object at 0x3a2b7e0d0>, 'encoding/args/covariance_type': <ray.tune.search.sample.Categorical object at 0x3a30a9e90>}\n"
     ]
    },
    {
     "name": "stdout",
     "output_type": "stream",
     "text": [
      "\u001b[36m(func pid=21499)\u001b[0m Episode 600 mean returns: -9434.623333333333\n",
      "\u001b[36m(func pid=21501)\u001b[0m Episode 600 mean returns: -9523.906666666666\n",
      "\u001b[36m(func pid=21505)\u001b[0m Episode 800 mean returns: -9794.05375\n",
      "\u001b[36m(func pid=21499)\u001b[0m Episode 800 mean returns: -9351.41\n",
      "\u001b[36m(func pid=21501)\u001b[0m Episode 800 mean returns: -9474.79125\n",
      "\u001b[36m(func pid=21505)\u001b[0m Episode 1000 mean returns: -9736.558\n"
     ]
    },
    {
     "name": "stderr",
     "output_type": "stream",
     "text": [
      "2025-03-06 01:46:03,675\tINFO tensorboardx.py:308 -- Removed the following hyperparameter values when logging to tensorboard: {'encoding/args/n_components': <ray.tune.search.sample.Integer object at 0x3a3271a50>, 'encoding/args/covariance_type': <ray.tune.search.sample.Categorical object at 0x3a3270ed0>}\n"
     ]
    },
    {
     "name": "stdout",
     "output_type": "stream",
     "text": [
      "\u001b[36m(func pid=21499)\u001b[0m Episode 1000 mean returns: -9288.654\n",
      "\u001b[36m(func pid=21501)\u001b[0m Episode 1000 mean returns: -9362.855\n"
     ]
    },
    {
     "name": "stderr",
     "output_type": "stream",
     "text": [
      "2025-03-06 01:54:23,683\tINFO tensorboardx.py:308 -- Removed the following hyperparameter values when logging to tensorboard: {'encoding/args/n_components': <ray.tune.search.sample.Integer object at 0x16daf9ad0>, 'encoding/args/covariance_type': <ray.tune.search.sample.Categorical object at 0x16dafa010>}\n",
      "2025-03-06 01:55:31,545\tINFO tensorboardx.py:308 -- Removed the following hyperparameter values when logging to tensorboard: {'encoding/args/n_components': <ray.tune.search.sample.Integer object at 0x3a30cbd10>, 'encoding/args/covariance_type': <ray.tune.search.sample.Categorical object at 0x3a30ca610>}\n",
      "2025-03-06 01:55:31,549\tWARNING experiment_state.py:205 -- Experiment state snapshotting has been triggered multiple times in the last 5.0 seconds. A snapshot is forced if `CheckpointConfig(num_to_keep)` is set, and a trial has checkpointed >= `num_to_keep` times since the last snapshot.\n",
      "You may want to consider increasing the `CheckpointConfig(num_to_keep)` or decreasing the frequency of saving checkpoints.\n",
      "You can suppress this error by setting the environment variable TUNE_WARN_EXCESSIVE_EXPERIMENT_CHECKPOINT_SYNC_THRESHOLD_S to a smaller value than the current threshold (5.0).\n",
      "2025-03-06 01:55:31,553\tINFO tune.py:1007 -- Wrote the latest version of all result files and experiment state to '/Users/guilherme/ray_results/hps_control_2025-03-06_00-46-50' in 0.0063s.\n",
      "2025-03-06 01:55:31,557\tINFO tune.py:1039 -- Total run time: 4120.34 seconds (4117.14 seconds for the tuning loop).\n"
     ]
    }
   ],
   "source": [
    "def get_env_config(name: str):\n",
    "    if name == \"MountainCar-v0\":\n",
    "        env = gym.make(name, max_episode_steps=10000)\n",
    "        params = {\n",
    "            \"encoding\": tune.choice([\n",
    "                {\n",
    "                    \"type\": \"tiles\",\n",
    "                    \"args\": {\n",
    "                        \"tiling_dim\": tune.randint(2, 6),\n",
    "                        \n",
    "                    },\n",
    "                },\n",
    "                {\n",
    "                    \"type\": \"gaussian-mixture\",\n",
    "                    \"args\": {\n",
    "                        \"n_components\": tune.randint(2, 20),\n",
    "                        \"covariance_type\": tune.choice([\"spherical\", \"tied\", \"diag\", \"full\"]),\n",
    "                    }\n",
    "                },\n",
    "                # {\n",
    "                #     \"type\": \"random-binary\",\n",
    "                #     \"args\": {\n",
    "                #         \"enc_size\": tune.randint(6, 10)\n",
    "                #     }\n",
    "                # }\n",
    "            ]),\n",
    "            \"learning\": {\n",
    "                \"epsilon\": tune.quniform(0.1, 0.3, 0.1),\n",
    "                \"alpha\": tune.quniform(0.01, 0.08, 0.01)\n",
    "            }\n",
    "        }\n",
    "        return env, params\n",
    "    raise ValueError(\"Unknown env\", name)\n",
    "\n",
    "\n",
    "\n",
    "def create_feat_transform(env, name, args):\n",
    "    # TODO: add hash_dim\n",
    "    if name == \"tiles\":\n",
    "        return TileTransform(env, **args)\n",
    "    elif name == \"gaussian-mixture\":\n",
    "        return GaussianMixObsOheActTransform(\n",
    "            env,\n",
    "            params=args\n",
    "        )\n",
    "    elif name == \"random-binary\":\n",
    "        return RndBinaryTransform(env, **args)\n",
    "    elif name == \"scaled-obs\":\n",
    "        return ScaleObsOheActTransform(\n",
    "            env\n",
    "        )\n",
    "    raise ValueError(\"Unknown transform %s\", name)\n",
    "\n",
    "    \n",
    "def hps_control(env, config):\n",
    "    alpha = config[\"learning\"][\"alpha\"]\n",
    "    epsilon = config[\"learning\"][\"epsilon\"]\n",
    "\n",
    "    # instantiate transform\n",
    "    feat_transform = create_feat_transform(env, config[\"encoding\"][\"type\"], config[\"encoding\"][\"args\"])\n",
    "    weights = semi_gradient_sarsa(\n",
    "        env, alpha=alpha, gamma=1.0, epsilon=epsilon, num_episodes=1000, feat_transform=feat_transform\n",
    "    )\n",
    "    play(env, weights, 20, feat_transform=feat_transform)\n",
    "    obs, _ = env.reset()\n",
    "    return {\n",
    "        \"score\": -1,\n",
    "        \"config\": config,\n",
    "        \"obs\": obs,\n",
    "        }\n",
    "\n",
    "env, param_space = get_env_config(\"MountainCar-v0\")\n",
    "tuner = tune.Tuner(\n",
    "    functools.partial(hps_control, env), \n",
    "    param_space=param_space,\n",
    "    tune_config=tune.TuneConfig(num_samples=10)\n",
    ")\n",
    "results = tuner.fit()\n",
    "df = results.get_dataframe(filter_metric=\"score\", filter_mode=\"max\")"
   ]
  },
  {
   "cell_type": "code",
   "execution_count": null,
   "id": "8944ae81-a3fd-411b-8163-9adbadb3caa7",
   "metadata": {},
   "outputs": [],
   "source": []
  }
 ],
 "metadata": {
  "kernelspec": {
   "display_name": "Python 3 (ipykernel)",
   "language": "python",
   "name": "python3"
  }
 },
 "nbformat": 4,
 "nbformat_minor": 5
}
