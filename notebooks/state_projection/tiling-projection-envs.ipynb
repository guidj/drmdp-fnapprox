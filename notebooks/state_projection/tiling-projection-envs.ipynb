{
 "cells": [
  {
   "cell_type": "code",
   "execution_count": 1,
   "id": "96def89d-da64-421c-9fa7-4e7c383cac5c",
   "metadata": {},
   "outputs": [],
   "source": [
    "import time\n",
    "from typing import Any, Sequence, Mapping, Optional"
   ]
  },
  {
   "cell_type": "code",
   "execution_count": 2,
   "id": "294d273e-aa6e-40b5-9cd3-e44c87415250",
   "metadata": {},
   "outputs": [],
   "source": [
    "# example of fitting a gaussian mixture model with expectation maximization\n",
    "import numpy as np\n",
    "from sklearn import mixture\n",
    "from scipy import stats\n",
    "from scipy import linalg\n",
    "from sklearn import model_selection\n",
    "import pandas as pd\n",
    "import gymnasium as gym"
   ]
  },
  {
   "cell_type": "code",
   "execution_count": 3,
   "id": "63bc1d62-7fa9-495e-877d-909c4f7fa337",
   "metadata": {},
   "outputs": [],
   "source": [
    "from rlplg.environments import gridworld, iceworld, redgreen"
   ]
  },
  {
   "cell_type": "code",
   "execution_count": 4,
   "id": "f40d14be-fe4e-45da-95ed-2ef2504f5abe",
   "metadata": {},
   "outputs": [],
   "source": [
    "import matplotlib as mpl\n",
    "from matplotlib import pyplot as plt\n",
    "import seaborn as sns"
   ]
  },
  {
   "cell_type": "markdown",
   "id": "1c7db704-00b1-4cbc-9384-3c343c25365e",
   "metadata": {},
   "source": [
    "## Tiling"
   ]
  },
  {
   "cell_type": "code",
   "execution_count": 5,
   "id": "c8d5c2a4-810f-4e6d-becb-913237eee752",
   "metadata": {},
   "outputs": [],
   "source": [
    "\"\"\"\n",
    "Tile Coding Software version 3.0beta\n",
    "by Rich Sutton\n",
    "based on a program created by Steph Schaeffer and others\n",
    "External documentation and recommendations on the use of this code is available in the \n",
    "reinforcement learning textbook by Sutton and Barto, and on the web.\n",
    "These need to be understood before this code is.\n",
    "\n",
    "This software is for Python 3 or more.\n",
    "\n",
    "This is an implementation of grid-style tile codings, based originally on\n",
    "the UNH CMAC code (see http://www.ece.unh.edu/robots/cmac.htm), but by now highly changed. \n",
    "Here we provide a function, \"tiles\", that maps floating and integer\n",
    "variables to a list of tiles, and a second function \"tiles-wrap\" that does the same while\n",
    "wrapping some floats to provided widths (the lower wrap value is always 0).\n",
    "\n",
    "The float variables will be gridded at unit intervals, so generalization\n",
    "will be by approximately 1 in each direction, and any scaling will have \n",
    "to be done externally before calling tiles.\n",
    "\n",
    "Num-tilings should be a power of 2, e.g., 16. To make the offsetting work properly, it should\n",
    "also be greater than or equal to four times the number of floats.\n",
    "\n",
    "The first argument is either an index hash table of a given size (created by (make-iht size)), \n",
    "an integer \"size\" (range of the indices from 0), or nil (for testing, indicating that the tile \n",
    "coordinates are to be returned without being converted to indices).\n",
    "\"\"\"\n",
    "\n",
    "basehash = hash\n",
    "\n",
    "class IHT:\n",
    "    \"Structure to handle collisions\"\n",
    "    def __init__(self, sizeval):\n",
    "        self.size = sizeval                        \n",
    "        self.overfullCount = 0\n",
    "        self.dictionary = {}\n",
    "\n",
    "    def __str__(self):\n",
    "        \"Prepares a string for printing whenever this object is printed\"\n",
    "        return \"Collision table:\" + \\\n",
    "               \" size:\" + str(self.size) + \\\n",
    "               \" overfullCount:\" + str(self.overfullCount) + \\\n",
    "               \" dictionary:\" + str(len(self.dictionary)) + \" items\"\n",
    "\n",
    "    def count(self):\n",
    "        return len(self.dictionary)\n",
    "    \n",
    "    def fullp(self):\n",
    "        return len(self.dictionary) >= self.size\n",
    "    \n",
    "    def getindex(self, obj, readonly=False):\n",
    "        d = self.dictionary\n",
    "        if obj in d: return d[obj]\n",
    "        elif readonly: return None\n",
    "        size = self.size\n",
    "        count = self.count()\n",
    "        if count >= size:\n",
    "            # TODO: Fail\n",
    "            if self.overfullCount==0: print('IHT full, starting to allow collisions')\n",
    "            self.overfullCount += 1\n",
    "            return basehash(obj) % self.size\n",
    "        else:\n",
    "            d[obj] = count\n",
    "            return count\n",
    "\n",
    "def hashcoords(coordinates, m, readonly=False):\n",
    "    if type(m)==IHT: return m.getindex(tuple(coordinates), readonly)\n",
    "    if type(m)==int: return basehash(tuple(coordinates)) % m\n",
    "    if m==None: return coordinates\n",
    "\n",
    "from math import floor, log\n",
    "from itertools import zip_longest\n",
    "\n",
    "def tiles (ihtORsize, numtilings, floats, ints=[], readonly=False):\n",
    "    \"\"\"returns num-tilings tile indices corresponding to the floats and ints\"\"\"\n",
    "    qfloats = [floor(f*numtilings) for f in floats]\n",
    "    Tiles = []\n",
    "    for tiling in range(numtilings):\n",
    "        tilingX2 = tiling*2\n",
    "        coords = [tiling]\n",
    "        b = tiling\n",
    "        for q in qfloats:\n",
    "            coords.append( (q + b) // numtilings )\n",
    "            b += tilingX2\n",
    "        coords.extend(ints)\n",
    "        Tiles.append(hashcoords(coords, ihtORsize, readonly))\n",
    "    return Tiles\n",
    "\n",
    "def tileswrap (ihtORsize, numtilings, floats, wrapwidths, ints=[], readonly=False):\n",
    "    \"\"\"returns num-tilings tile indices corresponding to the floats and ints, wrapping some floats\"\"\"\n",
    "    qfloats = [floor(f*numtilings) for f in floats]\n",
    "    Tiles = []\n",
    "    for tiling in range(numtilings):\n",
    "        tilingX2 = tiling*2\n",
    "        coords = [tiling]\n",
    "        b = tiling\n",
    "        for q, width in zip_longest(qfloats, wrapwidths):\n",
    "            c = (q + b%numtilings) // numtilings\n",
    "            coords.append(c%width if width else c)\n",
    "            b += tilingX2\n",
    "        coords.extend(ints)\n",
    "        Tiles.append(hashcoords(coords, ihtORsize, readonly))\n",
    "    return Tiles\n",
    "\n"
   ]
  },
  {
   "cell_type": "code",
   "execution_count": 6,
   "id": "4dcfc580-fde8-4989-b112-e8dcdd143129",
   "metadata": {},
   "outputs": [
    {
     "data": {
      "text/plain": [
       "<Axes: >"
      ]
     },
     "execution_count": 6,
     "metadata": {},
     "output_type": "execute_result"
    },
    {
     "data": {
      "image/png": "[encoded data removed]",
      "text/plain": [
       "<Figure size 600x600 with 1 Axes>"
      ]
     },
     "metadata": {},
     "output_type": "display_data"
    }
   ],
   "source": [
    "n = 10000\n",
    "mean = [0, 0]\n",
    "cov = [(2, .4), (.4, 2)]\n",
    "# x, y = rng.multivariate_normal(mean, cov, n).T\n",
    "rng = np.random.default_rng()\n",
    "# x, y = rng.multivariate_normal(mean, cov, n).T\n",
    "x = rng.integers(low=0, high=100, size=n)\n",
    "y = rng.integers(low=0, high=100, size=n)\n",
    "\n",
    "# Draw a combo histogram and scatterplot with density contours\n",
    "f, ax = plt.subplots(figsize=(6, 6))\n",
    "sns.scatterplot(x=x, y=y, s=5, color=\".15\")\n",
    "sns.histplot(x=x, y=y, bins=50, pthresh=.1, cmap=\"mako\")\n",
    "sns.kdeplot(x=x, y=y, levels=5, color=\"w\", linewidths=1)"
   ]
  },
  {
   "cell_type": "code",
   "execution_count": 7,
   "id": "a359c800-8500-47ad-bd84-ab54bb3c25c4",
   "metadata": {},
   "outputs": [
    {
     "data": {
      "text/plain": [
       "(array([61, 94, 81, ..., 96, 20, 61]), array([96, 45, 23, ..., 84, 14, 28]))"
      ]
     },
     "execution_count": 7,
     "metadata": {},
     "output_type": "execute_result"
    }
   ],
   "source": [
    "x, y"
   ]
  },
  {
   "cell_type": "code",
   "execution_count": 8,
   "id": "bb4b462b-7268-4386-93ab-a66b97a7f19d",
   "metadata": {},
   "outputs": [],
   "source": [
    "def pow2geq(lb):\n",
    "    exp = 1\n",
    "    while True:\n",
    "        rs = np.power(2, exp)\n",
    "        if rs >= lb:\n",
    "            break\n",
    "        exp += 1\n",
    "    return rs"
   ]
  },
  {
   "cell_type": "code",
   "execution_count": 9,
   "id": "41831663-519c-47d7-bdb0-e94da2d4e7e2",
   "metadata": {},
   "outputs": [
    {
     "name": "stdout",
     "output_type": "stream",
     "text": [
      "numTilings 8\n",
      "maxsize 800\n",
      "x 0 99\n",
      "y 0 99\n",
      "mytile [0, 1, 2, 3, 4, 5, 6, 7]\n",
      "mytile [8, 9, 10, 11, 12, 13, 14, 15]\n",
      "mytile [16, 17, 18, 19, 20, 21, 22, 23]\n",
      "mytile [8, 9, 10, 24, 25, 26, 27, 28]\n",
      "maxidx 799\n"
     ]
    }
   ],
   "source": [
    "tiling_dim = 10\n",
    "num_input_dims = 2\n",
    "numTilings = pow2geq(num_input_dims * 4)\n",
    "maxSize = tiling_dim * tiling_dim * numTilings\n",
    "print(\"numTilings\", numTilings)\n",
    "print(\"maxsize\", maxSize)\n",
    "iht = IHT(maxSize)\n",
    "minx, maxx = np.min(x), np.max(x)\n",
    "miny, maxy = np.min(y), np.max(y)\n",
    "\n",
    "def mytiles(x, y, numTilings: int):\n",
    "    # scale values to be between [0, dim]\n",
    "    return tiles(iht, numTilings, [(x - minx)/(maxx-minx) * tiling_dim,(y-miny)/(maxy-miny) * tiling_dim])\n",
    "\n",
    "def mywrappedtiles(x, y, numTilings):\n",
    "    return tileswrap(iht, numTilings, \n",
    "                     [(x - minx)/(maxx-minx) * tiling_dim,(y-miny)/(maxy-miny) * tiling_dim],\n",
    "                     [tiling_dim, tiling_dim]\n",
    "                    )\n",
    "    \n",
    "print(\"x\",  minx, maxx)\n",
    "print(\"y\",  miny, maxy)\n",
    "print(\"mytile\", mytiles(1, 50, numTilings=numTilings))\n",
    "print(\"mytile\", mytiles(10, 24, numTilings=numTilings))\n",
    "print(\"mytile\", mywrappedtiles(76, 50, numTilings=numTilings))\n",
    "print(\"mytile\", mywrappedtiles(10, 24, numTilings=numTilings))\n",
    "\n",
    "maxidx = 0\n",
    "for i in range(0, 100):\n",
    "    for j in range(0, 100):\n",
    "        maxidx = np.max([maxidx] + mywrappedtiles(i, j, numTilings=numTilings))\n",
    "        \n",
    "print(\"maxidx\", maxidx)"
   ]
  },
  {
   "cell_type": "code",
   "execution_count": 10,
   "id": "afda79b6-d5b8-4d37-b25f-62b6fe11b9fa",
   "metadata": {},
   "outputs": [],
   "source": [
    "def solve_least_squares(\n",
    "    matrix: np.ndarray, rhs: np.ndarray\n",
    ") -> np.ndarray:\n",
    "    try:\n",
    "        solution, _, _, _ = linalg.lstsq(a=matrix, b=rhs, lapack_driver=\"gelsy\")\n",
    "        return solution  # type: ignore\n",
    "    except linalg.LinAlgError as err:\n",
    "        # the computation failed, likely due to the matix being unsuitable (no solution).\n",
    "        raise ValueError(\"Failed to solve linear system\") from err"
   ]
  },
  {
   "cell_type": "code",
   "execution_count": 11,
   "id": "59d6e2d2-d01d-4507-9d37-51d09d9ef9a6",
   "metadata": {},
   "outputs": [],
   "source": [
    "def rmse(v_pred: np.ndarray, v_true: np.ndarray, axis: int):\n",
    "    if np.shape(v_pred) != np.shape(v_true):\n",
    "        raise ValueError(\n",
    "            f\"Tensors have different shapes: {np.shape(v_pred)} != {np.shape(v_true)}\"\n",
    "        )\n",
    "    return np.sqrt(\n",
    "        np.sum(np.power(v_pred - v_true, 2.0), axis=axis) / np.shape(v_pred)[axis]\n",
    "    )"
   ]
  },
  {
   "cell_type": "markdown",
   "id": "88c34679-56cc-4d1d-8472-5c02a3606bd9",
   "metadata": {},
   "source": [
    "## Gym Env"
   ]
  },
  {
   "cell_type": "code",
   "execution_count": 12,
   "id": "be069c80-71ce-4f52-9aa8-119fd57fe246",
   "metadata": {},
   "outputs": [],
   "source": [
    "def collection_traj_data(env, steps: int):\n",
    "    obs, _ = env.reset()\n",
    "    step = 0\n",
    "    buffer = []\n",
    "    while step < steps:\n",
    "        action = env.action_space.sample()\n",
    "        next_obs, rew, term, trunc, _,  = env.step(action)\n",
    "        step += 1\n",
    "        buffer.append((obs, action, rew))\n",
    "        obs = next_obs\n",
    "        if term or trunc:\n",
    "            obs, _ = env.reset()\n",
    "    return buffer"
   ]
  },
  {
   "cell_type": "code",
   "execution_count": 13,
   "id": "711b4aac-9040-4cf2-a477-5d6205997846",
   "metadata": {},
   "outputs": [],
   "source": [
    "def tiling_proj(obs_min, obs_max, tiling_dim: int):\n",
    "    # obs = np.stack([example[0] for example in buffer])\n",
    "    assert isinstance(obs_min, np.ndarray)\n",
    "    assert isinstance(obs_max, np.ndarray)\n",
    "    wrapwidths = [tiling_dim] * np.size(obs_min)\n",
    "\n",
    "    # num tilings should a power of 2\n",
    "    # and at least 4 times greater than\n",
    "    # the number of dimensions\n",
    "    num_tilings = pow2geq(np.size(obs_min) * 4)\n",
    "    max_size = (tiling_dim ** np.size(obs_min)) * num_tilings\n",
    "    print(\"Num tilings\", num_tilings, \"\\n\", \"Flat dim:\", max_size)\n",
    "    iht = IHT(max_size)    \n",
    "    def mywrappedtiles(obs):\n",
    "        obs_scaled_01 = (obs - obs_min) / (obs_max - obs_min)\n",
    "        repr = np.zeros(shape=max_size)\n",
    "        idx = tileswrap(\n",
    "            iht, \n",
    "            num_tilings, \n",
    "            obs_scaled_01 * tiling_dim,\n",
    "            wrapwidths\n",
    "        )\n",
    "        repr[idx] = 1\n",
    "        return repr\n",
    "    return mywrappedtiles"
   ]
  },
  {
   "cell_type": "code",
   "execution_count": 14,
   "id": "4ae890a2-f601-48e3-b7f7-bd57a582daf4",
   "metadata": {},
   "outputs": [
    {
     "name": "stdout",
     "output_type": "stream",
     "text": [
      "Num tilings 8 \n",
      " Flat dim: 128\n",
      "[-0.56242096  0.        ]\n",
      "[1. 1. 1. 1. 1. 1. 1. 1. 0. 0. 0. 0. 0. 0. 0. 0. 0. 0. 0. 0. 0. 0. 0. 0.\n",
      " 0. 0. 0. 0. 0. 0. 0. 0. 0. 0. 0. 0. 0. 0. 0. 0. 0. 0. 0. 0. 0. 0. 0. 0.\n",
      " 0. 0. 0. 0. 0. 0. 0. 0. 0. 0. 0. 0. 0. 0. 0. 0. 0. 0. 0. 0. 0. 0. 0. 0.\n",
      " 0. 0. 0. 0. 0. 0. 0. 0. 0. 0. 0. 0. 0. 0. 0. 0. 0. 0. 0. 0. 0. 0. 0. 0.\n",
      " 0. 0. 0. 0. 0. 0. 0. 0. 0. 0. 0. 0. 0. 0. 0. 0. 0. 0. 0. 0. 0. 0. 0. 0.\n",
      " 0. 0. 0. 0. 0. 0. 0. 0.]\n"
     ]
    }
   ],
   "source": [
    "env = gym.make(\"MountainCar-v0\")\n",
    "proj_fn = tiling_proj(\n",
    "        env.observation_space.low, \n",
    "        env.observation_space.high,\n",
    "        tiling_dim=4\n",
    "    )\n",
    "obs, _ = env.reset()\n",
    "print(obs)\n",
    "print(proj_fn(obs))"
   ]
  },
  {
   "cell_type": "code",
   "execution_count": 15,
   "id": "09cc1cb7-c4f0-4084-a79a-553c8f6f0307",
   "metadata": {},
   "outputs": [
    {
     "data": {
      "text/plain": [
       "{}"
      ]
     },
     "execution_count": 15,
     "metadata": {},
     "output_type": "execute_result"
    }
   ],
   "source": [
    "vars(proj_fn)"
   ]
  },
  {
   "cell_type": "code",
   "execution_count": 16,
   "id": "8ac3c0c3-7c24-45bb-84b7-c33a282af342",
   "metadata": {},
   "outputs": [],
   "source": [
    "class Tiles:\n",
    "    def __init__(\n",
    "        self, dims_min: np.ndarray, dims_max: np.ndarray, \n",
    "        tiling_dim: int, num_tilings: Optional[int] = None\n",
    "    ):\n",
    "        assert isinstance(dims_min, np.ndarray)\n",
    "        assert isinstance(dims_max, np.ndarray)\n",
    "        self.dims_max = dims_max\n",
    "        self.dims_min = dims_min\n",
    "        self.tiling_dim = tiling_dim\n",
    "        self.wrapwidths = [tiling_dim] * np.size(dims_min)\n",
    "    \n",
    "        # num tilings should a power of 2\n",
    "        # and at least 4 times greater than\n",
    "        # the number of dimensions\n",
    "        self.num_tilings = num_tilings or pow2geq(np.size(dims_min) * 4)\n",
    "        self.max_size = (tiling_dim ** np.size(dims_min)) * self.num_tilings\n",
    "        print(\"Num tilings\", self.num_tilings, \"\\n\", \"Flat dim:\", self.max_size)\n",
    "        self.iht = IHT(self.max_size)\n",
    "\n",
    "    def __call__(self, xs):\n",
    "        xs_scaled_01 = (xs - self.dims_min) / (self.dims_max - self.dims_min)\n",
    "        repr = np.zeros(shape=self.max_size)\n",
    "        idx = tileswrap(\n",
    "            self.iht, \n",
    "            self.num_tilings, \n",
    "            xs_scaled_01 * self.tiling_dim,\n",
    "            self.wrapwidths\n",
    "        )\n",
    "        repr[idx] = 1\n",
    "        return repr    "
   ]
  },
  {
   "cell_type": "code",
   "execution_count": 17,
   "id": "6cac9ed1-0984-404c-bf43-e5abf82b9876",
   "metadata": {},
   "outputs": [
    {
     "name": "stdout",
     "output_type": "stream",
     "text": [
      "Num tilings 8 \n",
      " Flat dim: 128\n",
      "[-0.5249507  0.       ]\n",
      "[1. 1. 1. 1. 1. 1. 1. 1. 0. 0. 0. 0. 0. 0. 0. 0. 0. 0. 0. 0. 0. 0. 0. 0.\n",
      " 0. 0. 0. 0. 0. 0. 0. 0. 0. 0. 0. 0. 0. 0. 0. 0. 0. 0. 0. 0. 0. 0. 0. 0.\n",
      " 0. 0. 0. 0. 0. 0. 0. 0. 0. 0. 0. 0. 0. 0. 0. 0. 0. 0. 0. 0. 0. 0. 0. 0.\n",
      " 0. 0. 0. 0. 0. 0. 0. 0. 0. 0. 0. 0. 0. 0. 0. 0. 0. 0. 0. 0. 0. 0. 0. 0.\n",
      " 0. 0. 0. 0. 0. 0. 0. 0. 0. 0. 0. 0. 0. 0. 0. 0. 0. 0. 0. 0. 0. 0. 0. 0.\n",
      " 0. 0. 0. 0. 0. 0. 0. 0.]\n"
     ]
    }
   ],
   "source": [
    "env = gym.make(\"MountainCar-v0\")\n",
    "tile_fn = Tiles(\n",
    "        env.observation_space.low,\n",
    "        env.observation_space.high,\n",
    "        tiling_dim=4\n",
    "    )\n",
    "obs, _ = env.reset()\n",
    "print(obs)\n",
    "print(tile_fn(obs))"
   ]
  },
  {
   "cell_type": "code",
   "execution_count": 18,
   "id": "28f31262-5c0b-404f-8da3-88ddfcdacc38",
   "metadata": {},
   "outputs": [
    {
     "data": {
      "text/plain": [
       "{'dims_max': array([0.6 , 0.07], dtype=float32),\n",
       " 'dims_min': array([-1.2 , -0.07], dtype=float32),\n",
       " 'tiling_dim': 4,\n",
       " 'wrapwidths': [4, 4],\n",
       " 'num_tilings': 8,\n",
       " 'max_size': 128,\n",
       " 'iht': <__main__.IHT at 0x16b5fdc50>}"
      ]
     },
     "execution_count": 18,
     "metadata": {},
     "output_type": "execute_result"
    }
   ],
   "source": [
    "vars(tile_fn)"
   ]
  },
  {
   "cell_type": "code",
   "execution_count": 19,
   "id": "89e9b2e4-1ef5-45ee-ae06-869452940499",
   "metadata": {},
   "outputs": [],
   "source": [
    "def delay_reward_data(buffer, delay: int, sample_size: int):\n",
    "    obs = np.stack([example[0] for example in buffer])\n",
    "    action = np.stack([example[1] for example in buffer])\n",
    "    reward = np.stack([example[2] for example in buffer])\n",
    "\n",
    "    # repr: (m1,a1)(m2,a1)..\n",
    "    mdim = obs.shape[1] * len(np.unique(action))\n",
    "    num_components = obs.shape[1]\n",
    "\n",
    "    # build samples\n",
    "    mask = np.random.choice(len(obs), (sample_size, delay))\n",
    "    delayed_obs = obs[mask] # batch x delay x dim\n",
    "    delayed_act = action[mask]\n",
    "    delayed_rew = np.sum(reward[mask], axis=1) # batch x delay -> batch    \n",
    "    \n",
    "    rhat_matrix = np.zeros(shape=(len(delayed_obs), mdim))\n",
    "    \n",
    "    for i in range(len(delayed_obs)):\n",
    "        for j in range(delay):\n",
    "            c = num_components*delayed_act[i][j]\n",
    "            rhat_matrix[i,c:c+num_components] += delayed_obs[i][j]\n",
    "\n",
    "    return rhat_matrix, delayed_rew"
   ]
  },
  {
   "cell_type": "code",
   "execution_count": 20,
   "id": "68f3b2ea-8920-4cbf-b60a-dc7282781da8",
   "metadata": {},
   "outputs": [],
   "source": [
    "def proj_obs_to_rwest_vec(buffer, sample_size: int):\n",
    "    obs = np.stack([example[0] for example in buffer])\n",
    "    action = np.stack([example[1] for example in buffer])\n",
    "    reward = np.stack([example[2] for example in buffer])\n",
    "    \n",
    "    # repr: (m1,a1)(m2,a1)..\n",
    "    mdim = obs.shape[1] * len(np.unique(action))\n",
    "    num_components = obs.shape[1]\n",
    "\n",
    "    # build samples\n",
    "    mask = np.random.choice(len(obs), sample_size)\n",
    "    delayed_obs = obs[mask] # batch x dim\n",
    "    delayed_act = action[mask] # batch\n",
    "    delayed_rew = reward[mask] # batch\n",
    "    \n",
    "    rhat_matrix = np.zeros(shape=(len(delayed_obs), mdim))\n",
    "    \n",
    "    for i in range(len(delayed_obs)):\n",
    "        c = num_components*delayed_act[i]\n",
    "        rhat_matrix[i,c:c+num_components] += delayed_obs[i]\n",
    "    return rhat_matrix, delayed_rew"
   ]
  },
  {
   "cell_type": "code",
   "execution_count": 21,
   "id": "c02d574b-b801-47c0-bd4b-97a549aebbc1",
   "metadata": {},
   "outputs": [],
   "source": [
    "def solve_rwe(env: gym.Env, num_steps: int, sample_size: int, delay: int):\n",
    "    buffer = collection_traj_data(env, steps=num_steps)\n",
    "    Xd, yd = delay_reward_data(buffer, delay=delay, sample_size=sample_size)\n",
    "    return buffer, solve_least_squares(Xd, yd)"
   ]
  },
  {
   "cell_type": "code",
   "execution_count": 22,
   "id": "fbb51c96-dd50-4120-bba8-5c8b79dbe937",
   "metadata": {},
   "outputs": [],
   "source": [
    "def rwe_scatterplot(v_pred, v_true):\n",
    "    _, ax = plt.subplots(figsize=(6, 6))\n",
    "    df = pd.DataFrame({\n",
    "        \"x\": v_pred,\n",
    "        \"y\": v_true,\n",
    "        \"size\": np.abs(v_pred - v_true)\n",
    "    })\n",
    "    sns.scatterplot(\n",
    "        df, x=\"x\", y=\"y\", size=\"size\", hue=\"size\", s=5, color=\".15\"\n",
    "    )\n",
    "    # sns.histplot(x=v_pred, y=v_true, bins=50, cmap=\"mako\")\n",
    "    # sns.kdeplot(x=v_pred, y=v_true, levels=5, color=\"w\")\n",
    "    ax.set_xlabel(\"yhat\")\n",
    "    ax.set_ylabel(\"ytrue\")\n",
    "    ax.set_title(\"Reward Estimation\")"
   ]
  },
  {
   "cell_type": "code",
   "execution_count": 23,
   "id": "5b71c921-f5eb-45a9-9f90-40541af19038",
   "metadata": {},
   "outputs": [],
   "source": [
    "def hashtrick(xs, dim: int):\n",
    "    ys = np.zeros(dim, dtype=np.int32)\n",
    "    idx,  = np.where(xs == 1)\n",
    "    for i in idx:\n",
    "        ys[i % dim] += 1\n",
    "    return ys"
   ]
  },
  {
   "cell_type": "markdown",
   "id": "843f3008-492e-4fb1-adde-b63b0b956440",
   "metadata": {},
   "source": [
    "### Moutain Car"
   ]
  },
  {
   "cell_type": "code",
   "execution_count": 24,
   "id": "79488506-e38b-493b-a7fc-e170c28a7e19",
   "metadata": {},
   "outputs": [],
   "source": [
    "class MCObsWrapper(gym.ObservationWrapper):\n",
    "    def __init__(self, env, tiling_dim: int, num_tilings: int = None):\n",
    "        super().__init__(env)\n",
    "        self.tiles = Tiles(\n",
    "                env.observation_space.low,\n",
    "                env.observation_space.high,\n",
    "                tiling_dim=tiling_dim,\n",
    "                num_tilings=num_tilings\n",
    "            )\n",
    "        self.observation_space = gym.spaces.Box(\n",
    "            low=np.zeros(shape=self.tiles.max_size, dtype=np.int32), \n",
    "            high=np.ones(shape=self.tiles.max_size, dtype=np.int32)\n",
    "        )\n",
    "\n",
    "    def observation(self, obs):\n",
    "        return self.tiles(obs)"
   ]
  },
  {
   "cell_type": "code",
   "execution_count": 25,
   "id": "cc2a2e2f-a6d5-40b3-b7af-74c653aca8d9",
   "metadata": {},
   "outputs": [
    {
     "name": "stdout",
     "output_type": "stream",
     "text": [
      "Num tilings 8 \n",
      " Flat dim: 128\n"
     ]
    }
   ],
   "source": [
    "mc_env = MCObsWrapper(gym.make(\"MountainCar-v0\"), tiling_dim=4)\n",
    "mc_buffer, mc_sol = solve_rwe(\n",
    "    mc_env,\n",
    "    num_steps=150_000, \n",
    "    sample_size=50_000,\n",
    "    delay=2,\n",
    ")"
   ]
  },
  {
   "cell_type": "code",
   "execution_count": 26,
   "id": "bc8738a8-4446-49ef-ae95-0753ca89b8b4",
   "metadata": {},
   "outputs": [
    {
     "data": {
      "text/plain": [
       "150000"
      ]
     },
     "execution_count": 26,
     "metadata": {},
     "output_type": "execute_result"
    }
   ],
   "source": [
    "len(mc_buffer)"
   ]
  },
  {
   "cell_type": "code",
   "execution_count": 27,
   "id": "5d287a55-2236-4860-891a-86858ee7968b",
   "metadata": {},
   "outputs": [
    {
     "data": {
      "text/plain": [
       "array([1., 1., 1., 1., 1., 1., 1., 1., 0., 0., 0., 0., 0., 0., 0., 0., 0.,\n",
       "       0., 0., 0., 0., 0., 0., 0., 0., 0., 0., 0., 0., 0., 0., 0., 0., 0.,\n",
       "       0., 0., 0., 0., 0., 0., 0., 0., 0., 0., 0., 0., 0., 0., 0., 0., 0.,\n",
       "       0., 0., 0., 0., 0., 0., 0., 0., 0., 0., 0., 0., 0., 0., 0., 0., 0.,\n",
       "       0., 0., 0., 0., 0., 0., 0., 0., 0., 0., 0., 0., 0., 0., 0., 0., 0.,\n",
       "       0., 0., 0., 0., 0., 0., 0., 0., 0., 0., 0., 0., 0., 0., 0., 0., 0.,\n",
       "       0., 0., 0., 0., 0., 0., 0., 0., 0., 0., 0., 0., 0., 0., 0., 0., 0.,\n",
       "       0., 0., 0., 0., 0., 0., 0., 0., 0.])"
      ]
     },
     "execution_count": 27,
     "metadata": {},
     "output_type": "execute_result"
    }
   ],
   "source": [
    "mc_buffer[0][0]"
   ]
  },
  {
   "cell_type": "code",
   "execution_count": 28,
   "id": "4c288ed5-b62d-4bb4-b628-97a8aa5188ef",
   "metadata": {},
   "outputs": [
    {
     "data": {
      "text/plain": [
       "<__main__.Tiles at 0x16b6e1410>"
      ]
     },
     "execution_count": 28,
     "metadata": {},
     "output_type": "execute_result"
    }
   ],
   "source": [
    "mc_env.tiles"
   ]
  },
  {
   "cell_type": "code",
   "execution_count": 29,
   "id": "a0a2a025-e2a1-4163-ac7b-dc0c5884d84f",
   "metadata": {},
   "outputs": [
    {
     "data": {
      "text/plain": [
       "array([ 0.0074964 , -0.30378902,  0.57559209, -0.15980693, -0.41782513,\n",
       "       -0.00952187,  0.05692997, -0.74907552,  0.0074964 , -0.41782513,\n",
       "       -0.15980693, -0.15980693,  0.05692997, -0.00952187,  0.05692997,\n",
       "        0.05692997, -0.00952187,  0.57559209, -0.00952187, -0.74907552,\n",
       "        0.57559209, -0.30378902,  0.57559209, -0.15980693, -0.30378902,\n",
       "       -0.74907552, -0.41782513,  0.0074964 ,  0.0074964 , -0.74907552,\n",
       "       -0.41782513, -0.41782513, -0.30378902,  0.0074964 ,  0.0074964 ,\n",
       "       -0.30378902, -0.41782513, -0.74907552, -0.74907552, -0.30378902,\n",
       "        0.57559209, -0.30378902,  0.57559209,  0.        ,  0.        ,\n",
       "       -0.15980693,  0.05692997,  0.        , -0.30378902, -0.74907552,\n",
       "        0.05692997, -0.74907552, -0.00952187,  0.        ,  0.05692997,\n",
       "        0.57559209,  0.        , -0.15980693,  0.        ,  0.        ,\n",
       "        0.        ,  0.        ,  0.        ,  0.        ,  0.        ,\n",
       "        0.        ,  0.        ,  0.        ,  0.        ,  0.        ,\n",
       "        0.        ,  0.        ,  0.        ,  0.        ,  0.        ,\n",
       "        0.        ,  0.        ,  0.        ,  0.        ,  0.        ,\n",
       "        0.        ,  0.        ,  0.        ,  0.        ,  0.        ,\n",
       "        0.        ,  0.        ,  0.        ,  0.        ,  0.        ,\n",
       "        0.        ,  0.        ,  0.        ,  0.        ,  0.        ,\n",
       "        0.        ,  0.        ,  0.        ,  0.        ,  0.        ,\n",
       "        0.        ,  0.        ,  0.        ,  0.        ,  0.        ,\n",
       "        0.        ,  0.        ,  0.        ,  0.        ,  0.        ,\n",
       "        0.        ,  0.        ,  0.        ,  0.        ,  0.        ,\n",
       "        0.        ,  0.        ,  0.        ,  0.        ,  0.        ,\n",
       "        0.        ,  0.        ,  0.        ,  0.        ,  0.        ,\n",
       "        0.        ,  0.        ,  0.        ,  0.27981886, -1.57433321,\n",
       "       -0.4877128 , -0.02271991,  0.25806985, -0.16297907, -0.23724521,\n",
       "        0.94710148,  0.27981886,  0.25806985, -0.02271991, -0.02271991,\n",
       "       -0.23724521, -0.16297907, -0.23724521, -0.23724521, -0.16297907,\n",
       "       -0.4877128 , -0.16297907,  0.94710148, -0.4877128 , -1.57433321,\n",
       "       -0.4877128 , -0.02271991, -1.57433321,  0.94710148,  0.25806985,\n",
       "        0.27981886,  0.27981886,  0.94710148,  0.25806985,  0.25806985,\n",
       "       -1.57433321,  0.27981886,  0.27981886, -1.57433321,  0.25806985,\n",
       "        0.94710148,  0.94710148, -1.57433321, -0.4877128 , -1.57433321,\n",
       "       -0.4877128 ,  0.        , -0.23724521, -0.02271991, -0.23724521,\n",
       "       -0.02271991, -1.57433321,  0.        , -0.19981518,  0.94710148,\n",
       "        0.        , -0.2004091 , -0.23724521, -0.4877128 ,  0.        ,\n",
       "       -0.02271991, -0.02271991,  0.        ,  0.        ,  0.        ,\n",
       "        0.        ,  0.        ,  0.        ,  0.        ,  0.        ,\n",
       "        0.        ,  0.        ,  0.        ,  0.        ,  0.        ,\n",
       "        0.        ,  0.        ,  0.        ,  0.        ,  0.        ,\n",
       "        0.        ,  0.        ,  0.        ,  0.        ,  0.        ,\n",
       "        0.        ,  0.        ,  0.        ,  0.        ,  0.        ,\n",
       "        0.        ,  0.        ,  0.        ,  0.        ,  0.        ,\n",
       "        0.        ,  0.        ,  0.        ,  0.        ,  0.        ,\n",
       "        0.        ,  0.        ,  0.        ,  0.        ,  0.        ,\n",
       "        0.        ,  0.        ,  0.        ,  0.        ,  0.        ,\n",
       "        0.        ,  0.        ,  0.        ,  0.        ,  0.        ,\n",
       "        0.        ,  0.        ,  0.        ,  0.        ,  0.        ,\n",
       "        0.        ,  0.        ,  0.        ,  0.        ,  0.        ,\n",
       "        0.        ,  0.        ,  0.        ,  0.        ,  0.        ,\n",
       "        0.        , -3.60751098,  2.84037096, -2.18556039, -0.13519324,\n",
       "       -0.26328032, -0.36406807,  0.31922397,  2.39601807, -3.60751098,\n",
       "       -0.26328032, -0.13519324, -0.13519324,  0.31922397, -0.36406807,\n",
       "        0.31922397,  0.31922397, -0.36406807, -2.18556039, -0.36406807,\n",
       "        2.39601807, -2.18556039,  2.84037096, -2.18556039, -0.13519324,\n",
       "        2.84037096,  2.39601807, -0.26328032, -3.60751098, -3.60751098,\n",
       "        2.39601807, -0.26328032, -0.26328032,  2.84037096, -3.60751098,\n",
       "       -3.60751098,  2.84037096, -0.26328032,  2.39601807,  2.39601807,\n",
       "        2.84037096, -2.18556039,  2.84037096,  0.        ,  0.        ,\n",
       "        0.31922397, -0.13519324,  0.31922397,  1.35255422,  1.3526235 ,\n",
       "        2.39601807,  0.31922397,  2.39601807,  0.        , -0.36406807,\n",
       "        0.31922397, -2.18556039,  0.        ,  0.        , -0.13519324,\n",
       "        0.        ,  0.        ,  0.        ,  0.        ,  0.        ,\n",
       "        0.        ,  0.        ,  0.        ,  0.        ,  0.        ,\n",
       "        0.        ,  0.        ,  0.        ,  0.        ,  0.        ,\n",
       "        0.        ,  0.        ,  0.        ,  0.        ,  0.        ,\n",
       "        0.        ,  0.        ,  0.        ,  0.        ,  0.        ,\n",
       "        0.        ,  0.        ,  0.        ,  0.        ,  0.        ,\n",
       "        0.        ,  0.        ,  0.        ,  0.        ,  0.        ,\n",
       "        0.        ,  0.        ,  0.        ,  0.        ,  0.        ,\n",
       "        0.        ,  0.        ,  0.        ,  0.        ,  0.        ,\n",
       "        0.        ,  0.        ,  0.        ,  0.        ,  0.        ,\n",
       "        0.        ,  0.        ,  0.        ,  0.        ,  0.        ,\n",
       "        0.        ,  0.        ,  0.        ,  0.        ,  0.        ,\n",
       "        0.        ,  0.        ,  0.        ,  0.        ,  0.        ,\n",
       "        0.        ,  0.        ,  0.        ,  0.        ])"
      ]
     },
     "execution_count": 29,
     "metadata": {},
     "output_type": "execute_result"
    }
   ],
   "source": [
    "mc_sol"
   ]
  },
  {
   "cell_type": "code",
   "execution_count": 30,
   "id": "e24d05d9-b378-484d-85dc-385de1571378",
   "metadata": {},
   "outputs": [],
   "source": [
    "mc_eval_X, mc_eval_y = proj_obs_to_rwest_vec(mc_buffer, sample_size=10_000)"
   ]
  },
  {
   "cell_type": "code",
   "execution_count": 31,
   "id": "a1ea49b5-81ad-4f5a-89d1-1abfb9065347",
   "metadata": {},
   "outputs": [
    {
     "data": {
      "text/plain": [
       "array([-1., -1., -1., ..., -1., -1., -1.])"
      ]
     },
     "execution_count": 31,
     "metadata": {},
     "output_type": "execute_result"
    }
   ],
   "source": [
    "np.matmul(mc_eval_X, mc_sol)"
   ]
  },
  {
   "cell_type": "code",
   "execution_count": 32,
   "id": "e8f6d99d-afde-43a0-b715-7d2bacb1cb3c",
   "metadata": {},
   "outputs": [
    {
     "data": {
      "text/plain": [
       "0.021855603946063208"
      ]
     },
     "execution_count": 32,
     "metadata": {},
     "output_type": "execute_result"
    }
   ],
   "source": [
    "rmse(\n",
    "    v_pred=np.matmul(mc_eval_X, mc_sol), \n",
    "    v_true=mc_eval_y,\n",
    "    axis=0\n",
    ")"
   ]
  },
  {
   "cell_type": "code",
   "execution_count": 33,
   "id": "5684e9e8-d690-490c-bb06-620b29419513",
   "metadata": {},
   "outputs": [
    {
     "data": {
      "image/png": "[encoded data removed]",
      "text/plain": [
       "<Figure size 600x600 with 1 Axes>"
      ]
     },
     "metadata": {},
     "output_type": "display_data"
    }
   ],
   "source": [
    "rwe_scatterplot(\n",
    "    v_pred=np.matmul(mc_eval_X, mc_sol), \n",
    "    v_true=mc_eval_y\n",
    ")"
   ]
  },
  {
   "cell_type": "markdown",
   "id": "192c08ce-838b-4110-8ba0-ede92915e0ce",
   "metadata": {},
   "source": [
    "### Grid World (Different Rewards)"
   ]
  },
  {
   "cell_type": "code",
   "execution_count": 34,
   "id": "adf81a9c-9261-4267-9290-20a3b69df0b4",
   "metadata": {},
   "outputs": [],
   "source": [
    "class GWObsWrapper(gym.ObservationWrapper):\n",
    "    def __init__(self, env, tiling_dim: int, num_tilings: int = None):\n",
    "        super().__init__(env)\n",
    "        self.tiles = Tiles(\n",
    "                np.array([0, 0], np.int32),\n",
    "                np.array(\n",
    "                    [env.observation_space[\"agent\"][0].n, env.observation_space[\"agent\"][1].n]\n",
    "                ),\n",
    "                tiling_dim=tiling_dim,\n",
    "                num_tilings=num_tilings\n",
    "            )\n",
    "        self.observation_space = gym.spaces.Box(\n",
    "            low=np.zeros(shape=self.tiles.max_size, dtype=np.int32), \n",
    "            high=np.ones(shape=self.tiles.max_size, dtype=np.int32)\n",
    "        )\n",
    "\n",
    "    def observation(self, obs):\n",
    "        return self.tiles(obs[\"agent\"])"
   ]
  },
  {
   "cell_type": "code",
   "execution_count": 35,
   "id": "2e64de9e-e038-4f68-aae3-5bfdd649a470",
   "metadata": {},
   "outputs": [
    {
     "name": "stdout",
     "output_type": "stream",
     "text": [
      "(4, 12) [(3, 1), (3, 2), (3, 3), (3, 4), (3, 5), (3, 6), (3, 7), (3, 8), (3, 9), (3, 10)] [(3, 11)] (3, 0)\n",
      "Num tilings 8 \n",
      " Flat dim: 200\n"
     ]
    }
   ],
   "source": [
    "size, cliffs, exits, start = gridworld.parse_grid_from_text(\n",
    "    [\"oooooooooooo\", \"oooooooooooo\", \"oooooooooooo\", \"sxxxxxxxxxxg\"]\n",
    ")\n",
    "print(size, cliffs, exits, start)\n",
    "gw_env = GWObsWrapper(\n",
    "    gridworld.GridWorld(size, cliffs, exits, start),\n",
    "    tiling_dim=5\n",
    ")\n",
    "gw_buffer, gw_sol = solve_rwe(\n",
    "    gw_env,\n",
    "    num_steps=150_000, \n",
    "    sample_size=50_000,\n",
    "    delay=2,\n",
    ")"
   ]
  },
  {
   "cell_type": "code",
   "execution_count": 36,
   "id": "fba47ae4-aeed-45bc-a052-7fcf2665ed4a",
   "metadata": {},
   "outputs": [
    {
     "data": {
      "text/plain": [
       "array([-100.,   -1.])"
      ]
     },
     "execution_count": 36,
     "metadata": {},
     "output_type": "execute_result"
    }
   ],
   "source": [
    "np.unique([ex[2] for ex in gw_buffer])"
   ]
  },
  {
   "cell_type": "code",
   "execution_count": 37,
   "id": "5e9b01e8-7906-4762-ac84-4f51c8f58988",
   "metadata": {},
   "outputs": [
    {
     "data": {
      "text/plain": [
       "array([ 2.62311014e+01, -3.89015734e+00, -3.89015734e+00, -3.89015734e+00,\n",
       "       -3.89015734e+00, -3.89015734e+00, -3.89015734e+00, -3.89015734e+00,\n",
       "        2.73072573e-01, -1.14145446e+00, -4.96486371e-01,  9.47246342e-01,\n",
       "        1.63420632e-01,  4.66686881e-01, -8.14849887e-01, -3.97635708e-01,\n",
       "        1.53799496e-01,  1.09504994e-01, -6.90739688e-01, -5.17754800e-01,\n",
       "        5.69961829e-01, -1.84509075e+00, -2.47041742e-01,  1.16954838e+00,\n",
       "       -3.12381257e-01,  8.73498027e-01,  8.17436566e-01, -1.47718949e-01,\n",
       "       -4.89677462e-01, -3.53228719e-01,  8.26034288e-02, -5.48831303e-01,\n",
       "       -5.25923275e-01,  1.65339713e-01, -2.98834409e-01, -1.41024407e-01,\n",
       "       -4.33310235e-01, -8.44986381e-01,  4.84119724e-01,  7.96834464e-01,\n",
       "       -1.97454453e-01, -1.10148383e+00, -1.42957541e+00,  4.89636205e-01,\n",
       "        8.02909679e-01,  4.43564577e-01,  5.02555853e-01, -7.75951698e-01,\n",
       "        6.12429319e-01,  6.03404008e-01, -1.34356123e+00, -7.92506820e-01,\n",
       "        2.24524552e-01, -7.90721698e-01,  1.26238356e+00, -3.25512970e-01,\n",
       "       -9.35592020e-03,  7.15737593e-01, -3.80616736e-01, -9.58627180e-03,\n",
       "       -5.83908806e-01, -5.72096603e-01,  6.81400317e-01, -8.28001973e-02,\n",
       "       -1.58718491e-01,  7.86170638e-01, -2.72632837e-01, -3.67140280e-01,\n",
       "       -2.78493222e-01, -1.87443942e-01, -1.72595494e-01,  7.20745778e-02,\n",
       "       -6.76957712e-01, -6.73343174e-01, -9.12606655e-01, -1.02256121e+00,\n",
       "       -9.91621874e-01, -1.93112109e-01, -1.11277518e+00, -1.09862646e+00,\n",
       "        1.20079138e-01,  4.99319405e-01,  1.28065141e-01,  4.97925741e-01,\n",
       "       -3.49330081e-01, -6.30151624e-01, -3.53301066e-01, -1.58040304e-01,\n",
       "       -7.74539367e-02, -2.61560251e-01, -1.83920773e-01, -7.49649337e-02,\n",
       "       -1.44529692e-01, -1.71604686e-01,  2.15668049e-01, -5.15411577e-01,\n",
       "        2.19399236e-01,  5.15621237e-02, -2.07848573e-01, -5.08175926e-01,\n",
       "        7.33550098e-02,  3.58252365e-01, -4.84849899e-01,  3.47856524e-01,\n",
       "        3.57803755e-01, -1.06376716e+00,  5.27037431e-01, -3.54367776e-01,\n",
       "        1.00011855e+00,  3.59768580e-01, -1.07175993e+00, -7.54833460e-01,\n",
       "        7.16463819e-01,  7.21258056e-01, -3.15947043e-01, -6.28922839e-01,\n",
       "       -3.16556070e-01, -6.28816039e-01, -5.18590070e-02, -5.16233139e-02,\n",
       "        0.00000000e+00,  0.00000000e+00,  0.00000000e+00,  0.00000000e+00,\n",
       "       -4.78465416e-01, -6.46157397e-02, -4.55004016e-02, -6.95138988e-02,\n",
       "        1.59465049e-01,  1.55066392e-01,  1.72854393e-01,  1.69955590e-01,\n",
       "        0.00000000e+00,  0.00000000e+00,  0.00000000e+00,  0.00000000e+00,\n",
       "        0.00000000e+00,  0.00000000e+00,  0.00000000e+00,  0.00000000e+00,\n",
       "        0.00000000e+00,  0.00000000e+00,  0.00000000e+00,  0.00000000e+00,\n",
       "        0.00000000e+00,  0.00000000e+00,  0.00000000e+00,  0.00000000e+00,\n",
       "        0.00000000e+00,  0.00000000e+00,  0.00000000e+00,  0.00000000e+00,\n",
       "        0.00000000e+00,  0.00000000e+00,  0.00000000e+00,  0.00000000e+00,\n",
       "        0.00000000e+00,  0.00000000e+00,  0.00000000e+00,  0.00000000e+00,\n",
       "        0.00000000e+00,  0.00000000e+00,  0.00000000e+00,  0.00000000e+00,\n",
       "        0.00000000e+00,  0.00000000e+00,  0.00000000e+00,  0.00000000e+00,\n",
       "        0.00000000e+00,  0.00000000e+00,  0.00000000e+00,  0.00000000e+00,\n",
       "        0.00000000e+00,  0.00000000e+00,  0.00000000e+00,  0.00000000e+00,\n",
       "        0.00000000e+00,  0.00000000e+00,  0.00000000e+00,  0.00000000e+00,\n",
       "        0.00000000e+00,  0.00000000e+00,  0.00000000e+00,  0.00000000e+00,\n",
       "        0.00000000e+00,  0.00000000e+00,  0.00000000e+00,  0.00000000e+00,\n",
       "        0.00000000e+00,  0.00000000e+00,  0.00000000e+00,  0.00000000e+00,\n",
       "        0.00000000e+00,  0.00000000e+00,  0.00000000e+00,  0.00000000e+00,\n",
       "        0.00000000e+00,  0.00000000e+00,  0.00000000e+00,  0.00000000e+00,\n",
       "        4.79038905e+01, -2.11291272e+01, -2.11291272e+01, -2.11291272e+01,\n",
       "       -2.11291272e+01, -2.11291272e+01, -2.11291272e+01, -2.11291272e+01,\n",
       "       -2.07710248e-01, -2.46241658e-01,  4.66988297e-01, -4.21865286e-01,\n",
       "       -7.19917665e-01,  1.83089637e-03, -2.43588801e-01,  3.70504464e-01,\n",
       "        2.74143865e-01,  5.95009237e-01, -2.98294447e-02,  1.59560160e-02,\n",
       "        1.25811469e-02, -1.23828529e+00, -4.01325792e-01,  7.63235821e-01,\n",
       "       -4.08800567e-01,  2.86468107e-01,  2.71003341e-02,  9.77453161e-01,\n",
       "       -5.50495990e-01, -1.19192930e+00, -4.03471179e-01, -5.41329272e-01,\n",
       "        9.74955118e-01, -2.92282876e-01, -3.47907260e-01, -7.13596238e-01,\n",
       "       -3.22604641e-01,  3.82308890e-01,  7.72141544e-01, -3.23969795e-01,\n",
       "       -1.54637349e+00, -5.97663148e-01, -1.40503655e-01,  7.79240800e-01,\n",
       "       -3.25181147e-01, -5.38087352e-01, -5.63130606e-01,  3.11563361e-01,\n",
       "        9.67146373e-01, -1.68401007e+00,  1.67058289e+00, -9.18042545e-01,\n",
       "        1.08756534e+00, -9.16742505e-01, -1.51806285e+00, -1.50712862e+00,\n",
       "        8.76413519e-01, -2.95984389e-01, -1.48992379e+00,  8.84774423e-01,\n",
       "        1.03638257e+00, -2.12250842e-01, -4.62955171e-01,  2.06202288e-02,\n",
       "        3.70346069e-02, -2.79784679e-01,  8.85514928e-01,  8.63174817e-01,\n",
       "       -2.85231744e-02,  9.25269747e-03,  1.79781951e-02,  2.16874566e-01,\n",
       "       -1.71871876e+00, -1.70745905e+00,  3.96053294e-01, -2.75881617e-01,\n",
       "       -2.84373833e-01, -2.34378684e+00,  1.50141844e-01,  1.45233354e-01,\n",
       "        2.52433535e-01, -1.13681361e+00,  2.45425127e-01,  2.66112271e-01,\n",
       "       -1.83495932e-01, -6.60975164e-01, -1.78739526e-01, -2.08777464e-01,\n",
       "        1.37042254e+00, -3.22812016e+00, -5.89383342e-02,  1.23697996e+00,\n",
       "       -2.69064867e-01, -5.93762392e-02,  1.25714427e+00,  3.35305431e-01,\n",
       "        1.23182737e+00,  4.20899342e-01,  6.01765654e-02,  4.12836048e-01,\n",
       "        3.48205623e-02, -6.55236381e-01,  3.92333005e-02, -6.51754275e-01,\n",
       "       -2.24944138e-01,  7.82209562e-02, -2.70673974e-01,  1.14577494e-01,\n",
       "       -2.72054185e-01, -2.26364544e-01,  7.40535735e-02, -2.72815183e-01,\n",
       "        8.08704026e-01,  8.13100162e-01, -1.46873230e-01,  1.94359194e-01,\n",
       "       -6.33970677e-01,  1.93889876e-01, -1.73104471e-01, -1.65457613e-01,\n",
       "        0.00000000e+00,  0.00000000e+00,  0.00000000e+00,  0.00000000e+00,\n",
       "        3.99591708e-01, -6.99036489e-01,  4.13539899e-01, -7.10252022e-01,\n",
       "        5.13162587e-01, -5.38714877e-01,  3.11830751e-01,  1.43313190e-03,\n",
       "        0.00000000e+00,  0.00000000e+00,  0.00000000e+00,  0.00000000e+00,\n",
       "        0.00000000e+00,  0.00000000e+00,  0.00000000e+00,  0.00000000e+00,\n",
       "        0.00000000e+00,  0.00000000e+00,  0.00000000e+00,  0.00000000e+00,\n",
       "        0.00000000e+00,  0.00000000e+00,  0.00000000e+00,  0.00000000e+00,\n",
       "        0.00000000e+00,  0.00000000e+00,  0.00000000e+00,  0.00000000e+00,\n",
       "        0.00000000e+00,  0.00000000e+00,  0.00000000e+00,  0.00000000e+00,\n",
       "        0.00000000e+00,  0.00000000e+00,  0.00000000e+00,  0.00000000e+00,\n",
       "        0.00000000e+00,  0.00000000e+00,  0.00000000e+00,  0.00000000e+00,\n",
       "        0.00000000e+00,  0.00000000e+00,  0.00000000e+00,  0.00000000e+00,\n",
       "        0.00000000e+00,  0.00000000e+00,  0.00000000e+00,  0.00000000e+00,\n",
       "        0.00000000e+00,  0.00000000e+00,  0.00000000e+00,  0.00000000e+00,\n",
       "        0.00000000e+00,  0.00000000e+00,  0.00000000e+00,  0.00000000e+00,\n",
       "        0.00000000e+00,  0.00000000e+00,  0.00000000e+00,  0.00000000e+00,\n",
       "        0.00000000e+00,  0.00000000e+00,  0.00000000e+00,  0.00000000e+00,\n",
       "        0.00000000e+00,  0.00000000e+00,  0.00000000e+00,  0.00000000e+00,\n",
       "        0.00000000e+00,  0.00000000e+00,  0.00000000e+00,  0.00000000e+00,\n",
       "        0.00000000e+00,  0.00000000e+00,  0.00000000e+00,  0.00000000e+00,\n",
       "       -1.55873925e+00,  7.98198930e-02,  7.98198930e-02,  7.98198930e-02,\n",
       "        7.98198930e-02,  7.98198930e-02,  7.98198930e-02,  7.98198930e-02,\n",
       "       -2.86847543e+00,  9.11844537e-02,  4.10227908e-01,  7.95633956e-01,\n",
       "        9.82455849e-02, -2.32682973e-02,  9.52190053e-02,  4.01232825e-01,\n",
       "        2.88319990e-01,  2.34885743e-01,  2.64986702e-01, -1.54190719e-01,\n",
       "       -1.03615819e-01,  5.42455582e-01, -3.58263879e-01, -2.32340476e-01,\n",
       "       -3.54178804e-01, -6.04852588e-01,  3.56048359e-01, -7.12321989e-01,\n",
       "       -1.10312460e-01,  2.36576400e-01,  8.65669429e-01, -1.05454102e-01,\n",
       "       -7.04553326e-01, -8.25652310e-01, -3.70835493e-01, -5.40622829e-01,\n",
       "       -1.29960551e-01,  2.71448497e-01,  3.66964249e-01, -3.94315285e-01,\n",
       "       -1.26444842e+00, -5.44854824e-01,  6.41004912e-01,  3.53110701e-01,\n",
       "       -4.28909833e-01,  3.93496768e-01,  3.06724438e-01, -8.82441413e-01,\n",
       "       -2.26860280e-01, -2.51822439e-01,  6.53902846e-01, -2.68953695e-01,\n",
       "        2.49025903e-01, -3.21351307e-01,  4.85003851e-02,  4.41942205e-01,\n",
       "        8.94954510e-02, -6.59190279e-01,  4.36702923e-01,  9.08527722e-02,\n",
       "        1.57403348e-01, -7.31554109e-01, -1.71154448e+00,  1.71943129e-01,\n",
       "        1.78477215e-01, -3.67684292e-01, -1.50644963e-02, -2.62555299e-01,\n",
       "       -6.95957912e-02,  3.66842331e-02,  4.00917224e-02,  1.32618514e-01,\n",
       "        4.67439091e-03,  9.79811376e-03,  3.87348801e-02,  1.97146861e-02,\n",
       "        5.14827796e-03,  3.35816582e-01, -2.53098985e-01, -2.52704698e-01,\n",
       "       -4.94453852e-01,  3.94338480e-01,  3.24218074e-01,  4.23843929e-01,\n",
       "       -1.00180164e+00, -1.54381209e-01, -5.30498659e-01,  1.06639431e-02,\n",
       "       -2.03964200e-01, -3.76551537e-01, -2.83023859e-01, -2.14405460e-01,\n",
       "        1.26758058e-02, -7.80132080e-02,  1.09785869e-01, -5.04847312e-01,\n",
       "        1.09310297e-01,  6.18433853e-01, -1.36670244e+00,  6.16767686e-01,\n",
       "       -3.54237090e-01,  1.78534817e-03, -3.58503298e-01, -3.16285294e-03,\n",
       "       -8.09156948e-02, -1.44254885e-01,  1.04333545e-01, -2.83172438e-01,\n",
       "       -1.19215488e+00, -7.81780654e-02, -1.47972151e-01,  8.22314570e-01,\n",
       "       -1.95559115e-01, -1.95017682e-01, -7.33401042e-01,  4.02318993e-01,\n",
       "       -7.34039077e-01,  4.03053779e-01, -2.08670870e-01, -2.10327031e-01,\n",
       "        0.00000000e+00,  0.00000000e+00,  0.00000000e+00,  0.00000000e+00,\n",
       "       -7.18540395e-01,  4.34648794e-01, -4.88877620e-01,  4.35071903e-01,\n",
       "        1.90639479e-01,  1.92527980e-01,  2.19181816e-01,  2.20633602e-01,\n",
       "        0.00000000e+00,  0.00000000e+00,  0.00000000e+00,  0.00000000e+00,\n",
       "        0.00000000e+00,  0.00000000e+00,  0.00000000e+00,  0.00000000e+00,\n",
       "        0.00000000e+00,  0.00000000e+00,  0.00000000e+00,  0.00000000e+00,\n",
       "        0.00000000e+00,  0.00000000e+00,  0.00000000e+00,  0.00000000e+00,\n",
       "        0.00000000e+00,  0.00000000e+00,  0.00000000e+00,  0.00000000e+00,\n",
       "        0.00000000e+00,  0.00000000e+00,  0.00000000e+00,  0.00000000e+00,\n",
       "        0.00000000e+00,  0.00000000e+00,  0.00000000e+00,  0.00000000e+00,\n",
       "        0.00000000e+00,  0.00000000e+00,  0.00000000e+00,  0.00000000e+00,\n",
       "        0.00000000e+00,  0.00000000e+00,  0.00000000e+00,  0.00000000e+00,\n",
       "        0.00000000e+00,  0.00000000e+00,  0.00000000e+00,  0.00000000e+00,\n",
       "        0.00000000e+00,  0.00000000e+00,  0.00000000e+00,  0.00000000e+00,\n",
       "        0.00000000e+00,  0.00000000e+00,  0.00000000e+00,  0.00000000e+00,\n",
       "        0.00000000e+00,  0.00000000e+00,  0.00000000e+00,  0.00000000e+00,\n",
       "        0.00000000e+00,  0.00000000e+00,  0.00000000e+00,  0.00000000e+00,\n",
       "        0.00000000e+00,  0.00000000e+00,  0.00000000e+00,  0.00000000e+00,\n",
       "        0.00000000e+00,  0.00000000e+00,  0.00000000e+00,  0.00000000e+00,\n",
       "        0.00000000e+00,  0.00000000e+00,  0.00000000e+00,  0.00000000e+00,\n",
       "       -1.28402916e+00,  4.05755940e-02,  4.05755940e-02,  4.05755940e-02,\n",
       "        4.05755940e-02,  4.05755940e-02,  4.05755940e-02,  4.05755940e-02,\n",
       "        2.19965589e+01, -9.50508125e+00,  4.33084774e+01, -2.96277461e+01,\n",
       "       -3.96868656e+01, -2.36647212e+01, -9.50553079e+00,  4.56849086e+01,\n",
       "       -3.32822934e+01, -3.45126918e+01,  3.41236501e+01, -9.89683430e+00,\n",
       "       -1.00331642e+01, -3.87674792e+01,  1.78998619e+01, -4.69042364e+01,\n",
       "        1.78892597e+01, -6.43110576e+01, -1.57943805e+00,  5.23453561e-01,\n",
       "        1.01341442e-01,  3.82043152e-03,  1.06025529e+00,  1.05921244e-01,\n",
       "        3.25256234e-01, -1.54061015e+00, -9.88295334e-01, -2.38201904e-01,\n",
       "       -1.06850227e-01,  4.29921733e-01, -4.85287273e-01, -5.82192653e-01,\n",
       "        3.17690505e-01,  7.04266402e-01, -3.08577719e-01, -4.84735538e-01,\n",
       "       -5.91085456e-01, -4.55085785e-01, -4.75222038e-01, -5.51548005e-01,\n",
       "        1.91644678e-01,  1.60612325e-01, -6.18013413e-01, -2.00499898e-01,\n",
       "       -1.04655593e-01, -2.05773760e-01,  3.28233667e-01, -2.63709959e-01,\n",
       "        6.06965033e-01, -3.93189960e-01, -2.68293224e-01,  5.83714101e-01,\n",
       "       -4.43161794e-01,  7.18285954e-01, -3.93602198e-01,  8.36988077e-02,\n",
       "        1.10612389e-01, -3.79272023e-01,  9.57063823e-03,  1.97703674e-02,\n",
       "       -2.14197501e+01,  1.78058166e+01,  1.78075851e+01, -1.32596029e-01,\n",
       "        1.68695842e-01,  1.50182958e-01, -6.23408662e-03, -4.80218804e-01,\n",
       "       -5.37834181e-01, -1.62417100e+01,  6.64993897e+00,  6.61341349e+00,\n",
       "       -4.87159656e-02,  7.94114594e-01, -1.07287467e+00,  7.45365310e-01,\n",
       "       -6.61817045e-01, -7.77030060e-02, -6.72135133e-01, -2.48688020e-01,\n",
       "       -3.96883108e-01,  4.44050413e-01, -6.69554556e-03, -4.04774086e-01,\n",
       "       -2.55755616e-01,  1.34199198e-03, -4.39171204e-01, -5.09733192e-02,\n",
       "       -4.44108701e-01, -3.18193676e-01, -4.92366146e-01, -3.17264898e-01,\n",
       "        9.04301015e-02,  2.06064509e-01,  9.17431862e-02, -1.82710071e-01,\n",
       "       -2.04007877e+01, -9.34964399e+00, -1.65786240e+01,  1.05518500e+01,\n",
       "       -1.97538150e+01, -2.02492230e+01, -9.35860365e+00, -1.48611527e+01,\n",
       "       -2.04933419e+01, -2.04935827e+01, -1.01039357e+01, -1.65564401e+01,\n",
       "       -1.01044240e+01, -1.65584155e+01, -3.21639141e+00, -3.21704813e+00,\n",
       "        0.00000000e+00,  0.00000000e+00,  0.00000000e+00,  0.00000000e+00,\n",
       "       -2.63864496e-01,  1.25164189e-02, -2.62015744e-01,  3.56663136e-03,\n",
       "       -1.02679305e-01, -9.83482823e-02, -2.03331522e-01, -2.01252339e-01,\n",
       "        0.00000000e+00,  0.00000000e+00,  0.00000000e+00,  0.00000000e+00,\n",
       "        0.00000000e+00,  0.00000000e+00,  0.00000000e+00,  0.00000000e+00,\n",
       "        0.00000000e+00,  0.00000000e+00,  0.00000000e+00,  0.00000000e+00,\n",
       "        0.00000000e+00,  0.00000000e+00,  0.00000000e+00,  0.00000000e+00,\n",
       "        0.00000000e+00,  0.00000000e+00,  0.00000000e+00,  0.00000000e+00,\n",
       "        0.00000000e+00,  0.00000000e+00,  0.00000000e+00,  0.00000000e+00,\n",
       "        0.00000000e+00,  0.00000000e+00,  0.00000000e+00,  0.00000000e+00,\n",
       "        0.00000000e+00,  0.00000000e+00,  0.00000000e+00,  0.00000000e+00,\n",
       "        0.00000000e+00,  0.00000000e+00,  0.00000000e+00,  0.00000000e+00,\n",
       "        0.00000000e+00,  0.00000000e+00,  0.00000000e+00,  0.00000000e+00,\n",
       "        0.00000000e+00,  0.00000000e+00,  0.00000000e+00,  0.00000000e+00,\n",
       "        0.00000000e+00,  0.00000000e+00,  0.00000000e+00,  0.00000000e+00,\n",
       "        0.00000000e+00,  0.00000000e+00,  0.00000000e+00,  0.00000000e+00,\n",
       "        0.00000000e+00,  0.00000000e+00,  0.00000000e+00,  0.00000000e+00,\n",
       "        0.00000000e+00,  0.00000000e+00,  0.00000000e+00,  0.00000000e+00,\n",
       "        0.00000000e+00,  0.00000000e+00,  0.00000000e+00,  0.00000000e+00,\n",
       "        0.00000000e+00,  0.00000000e+00,  0.00000000e+00,  0.00000000e+00])"
      ]
     },
     "execution_count": 37,
     "metadata": {},
     "output_type": "execute_result"
    }
   ],
   "source": [
    "gw_sol"
   ]
  },
  {
   "cell_type": "code",
   "execution_count": 38,
   "id": "20ba72ca-217d-4fd2-837a-755e8470b37c",
   "metadata": {},
   "outputs": [
    {
     "data": {
      "text/plain": [
       "<__main__.Tiles at 0x30f215390>"
      ]
     },
     "execution_count": 38,
     "metadata": {},
     "output_type": "execute_result"
    }
   ],
   "source": [
    "gw_env.tiles"
   ]
  },
  {
   "cell_type": "code",
   "execution_count": 39,
   "id": "4a4a9c8f-b229-4841-b527-6eb9bccfae37",
   "metadata": {
    "scrolled": true
   },
   "outputs": [],
   "source": [
    "gw_eval_X, gw_eval_y = proj_obs_to_rwest_vec(gw_buffer, sample_size=1_000_000)"
   ]
  },
  {
   "cell_type": "code",
   "execution_count": 40,
   "id": "6bd0ec9b-d554-4b50-8cca-b587dac33706",
   "metadata": {},
   "outputs": [
    {
     "data": {
      "text/plain": [
       "array([-100.,   -1.])"
      ]
     },
     "execution_count": 40,
     "metadata": {},
     "output_type": "execute_result"
    }
   ],
   "source": [
    "np.unique(gw_eval_y)"
   ]
  },
  {
   "cell_type": "code",
   "execution_count": 41,
   "id": "c19de099-ed57-443c-931d-5c0b516fe4ee",
   "metadata": {},
   "outputs": [
    {
     "data": {
      "text/plain": [
       "((1000000, 800), (1000000,))"
      ]
     },
     "execution_count": 41,
     "metadata": {},
     "output_type": "execute_result"
    }
   ],
   "source": [
    "gw_eval_X.shape, gw_eval_y.shape"
   ]
  },
  {
   "cell_type": "code",
   "execution_count": 42,
   "id": "2a6769f5-5049-4f6f-bbb2-02d83023ee86",
   "metadata": {},
   "outputs": [
    {
     "data": {
      "text/plain": [
       "array([-100.,   -1.])"
      ]
     },
     "execution_count": 42,
     "metadata": {},
     "output_type": "execute_result"
    }
   ],
   "source": [
    "np.unique(np.around(np.matmul(gw_eval_X, gw_sol), 2))"
   ]
  },
  {
   "cell_type": "code",
   "execution_count": 43,
   "id": "3241131e-3e55-4868-abbf-c393bd394fa0",
   "metadata": {},
   "outputs": [
    {
     "data": {
      "text/plain": [
       "3.425247354856174e-14"
      ]
     },
     "execution_count": 43,
     "metadata": {},
     "output_type": "execute_result"
    }
   ],
   "source": [
    "rmse(\n",
    "    v_pred=np.matmul(gw_eval_X, gw_sol), \n",
    "    v_true=gw_eval_y,\n",
    "    axis=0\n",
    ")"
   ]
  },
  {
   "cell_type": "code",
   "execution_count": 44,
   "id": "7386cb23-a3ff-445e-8be0-55d1197d90f7",
   "metadata": {},
   "outputs": [
    {
     "data": {
      "image/png": "[encoded data removed]",
      "text/plain": [
       "<Figure size 600x600 with 1 Axes>"
      ]
     },
     "metadata": {},
     "output_type": "display_data"
    }
   ],
   "source": [
    "rwe_scatterplot(\n",
    "    v_pred=np.matmul(gw_eval_X, gw_sol), \n",
    "    v_true=gw_eval_y\n",
    ")"
   ]
  },
  {
   "cell_type": "markdown",
   "id": "2a5941c2-9060-4d0d-9a34-a04d75b8916b",
   "metadata": {},
   "source": [
    "### RedGreen"
   ]
  },
  {
   "cell_type": "code",
   "execution_count": 45,
   "id": "16d7f90b-2f21-49c6-beb1-b501a233737c",
   "metadata": {},
   "outputs": [],
   "source": [
    "class RGObsWrapper(gym.ObservationWrapper):\n",
    "    def __init__(self, env, tiling_dim: int, num_tilings: int = None):\n",
    "        super().__init__(env)\n",
    "        self.tiles = Tiles(\n",
    "                np.array([0], np.int32),\n",
    "                np.array(\n",
    "                    [env.observation_space[\"pos\"].n]\n",
    "                ),\n",
    "                tiling_dim=tiling_dim,\n",
    "                num_tilings=num_tilings\n",
    "            )\n",
    "        self.observation_space = gym.spaces.Box(\n",
    "            low=np.zeros(shape=self.tiles.max_size, dtype=np.int32), \n",
    "            high=np.ones(shape=self.tiles.max_size, dtype=np.int32)\n",
    "        )\n",
    "\n",
    "    def observation(self, obs):\n",
    "        return self.tiles(obs[\"pos\"])"
   ]
  },
  {
   "cell_type": "code",
   "execution_count": 46,
   "id": "61a322c4-b2a4-4594-b8fc-bbf7e37182c5",
   "metadata": {},
   "outputs": [
    {
     "name": "stdout",
     "output_type": "stream",
     "text": [
      "Num tilings 4 \n",
      " Flat dim: 8\n"
     ]
    }
   ],
   "source": [
    "rg_env = RGObsWrapper(\n",
    "    redgreen.RedGreenSeq([\"red\", \"green\", \"red\", \"green\", \"wait\", \"green\"]),\n",
    "    tiling_dim=2\n",
    ")\n",
    "rg_buffer, rg_sol = solve_rwe(\n",
    "    rg_env,\n",
    "    num_steps=150_000, \n",
    "    sample_size=50_000,\n",
    "    delay=2,\n",
    ")"
   ]
  },
  {
   "cell_type": "code",
   "execution_count": 47,
   "id": "65965db4-5a93-4ffa-94cc-218ee947ecec",
   "metadata": {},
   "outputs": [
    {
     "data": {
      "text/plain": [
       "array([1., 1., 1., 1., 0., 0., 0., 0.])"
      ]
     },
     "execution_count": 47,
     "metadata": {},
     "output_type": "execute_result"
    }
   ],
   "source": [
    "rg_buffer[0][0]"
   ]
  },
  {
   "cell_type": "code",
   "execution_count": 48,
   "id": "9103a7b7-e7af-47fc-a13d-f094449a6614",
   "metadata": {},
   "outputs": [
    {
     "data": {
      "text/plain": [
       "array([-1.])"
      ]
     },
     "execution_count": 48,
     "metadata": {},
     "output_type": "execute_result"
    }
   ],
   "source": [
    "np.unique([np.around(ex[2], 2) for ex in rg_buffer])"
   ]
  },
  {
   "cell_type": "code",
   "execution_count": 49,
   "id": "6a7f0308-ee7f-46ad-bb0a-51876f714f2c",
   "metadata": {},
   "outputs": [
    {
     "data": {
      "text/plain": [
       "<__main__.Tiles at 0x16b98d910>"
      ]
     },
     "execution_count": 49,
     "metadata": {},
     "output_type": "execute_result"
    }
   ],
   "source": [
    "rg_env.tiles"
   ]
  },
  {
   "cell_type": "code",
   "execution_count": 50,
   "id": "4d3d81c5-20c3-40b7-93cf-8edbc18d9f61",
   "metadata": {},
   "outputs": [
    {
     "data": {
      "text/plain": [
       "array([-1.06149118, -0.00252137,  0.07431152, -0.01029897, -0.01029897,\n",
       "        0.07431152, -0.00252137, -1.06149118, -0.02260694, -0.85379197,\n",
       "       -0.09882584, -0.02477524, -0.02477524, -0.09882584, -0.85379197,\n",
       "       -0.02260694, -0.10419372, -0.59690739, -0.0199136 , -0.27898528,\n",
       "       -0.27898528, -0.0199136 , -0.59690739, -0.10419372])"
      ]
     },
     "execution_count": 50,
     "metadata": {},
     "output_type": "execute_result"
    }
   ],
   "source": [
    "rg_sol"
   ]
  },
  {
   "cell_type": "code",
   "execution_count": 51,
   "id": "c0a6d48a-2aed-4f5f-93ba-94e027afb9ad",
   "metadata": {},
   "outputs": [],
   "source": [
    "rg_eval_X, rg_eval_y = proj_obs_to_rwest_vec(rg_buffer, sample_size=10_000)"
   ]
  },
  {
   "cell_type": "code",
   "execution_count": 52,
   "id": "7d351396-e117-4d31-9dc3-8a8b3425a48a",
   "metadata": {},
   "outputs": [
    {
     "data": {
      "text/plain": [
       "((10000, 24), (10000,))"
      ]
     },
     "execution_count": 52,
     "metadata": {},
     "output_type": "execute_result"
    }
   ],
   "source": [
    "rg_eval_X.shape, rg_eval_y.shape"
   ]
  },
  {
   "cell_type": "code",
   "execution_count": 53,
   "id": "75fc8d23-140f-4360-a5be-79136af1457d",
   "metadata": {},
   "outputs": [
    {
     "data": {
      "text/plain": [
       "array([-1., -1., -1., ..., -1., -1., -1.])"
      ]
     },
     "execution_count": 53,
     "metadata": {},
     "output_type": "execute_result"
    }
   ],
   "source": [
    "np.matmul(rg_eval_X, rg_sol)"
   ]
  },
  {
   "cell_type": "code",
   "execution_count": 54,
   "id": "d52a6267-6968-4a54-a462-6cbc8fb2b20a",
   "metadata": {},
   "outputs": [
    {
     "data": {
      "text/plain": [
       "3.1740200593764313e-15"
      ]
     },
     "execution_count": 54,
     "metadata": {},
     "output_type": "execute_result"
    }
   ],
   "source": [
    "rmse(\n",
    "    v_pred=np.matmul(rg_eval_X, rg_sol), \n",
    "    v_true=rg_eval_y,\n",
    "    axis=0\n",
    ")"
   ]
  },
  {
   "cell_type": "markdown",
   "id": "a26fca2a-f4a5-4670-905b-dc84f815189c",
   "metadata": {},
   "source": [
    "### Lunda Lander"
   ]
  },
  {
   "cell_type": "code",
   "execution_count": 55,
   "id": "d444cc78-bd53-449c-9e14-2565a95f8ae4",
   "metadata": {},
   "outputs": [],
   "source": [
    "class LunarLinearReward(gym.Wrapper):\n",
    "    \"\"\"\n",
    "    Lunar Lander with linear rewards\n",
    "    \"\"\"\n",
    "    def __init__(self, env):\n",
    "        super().__init__(env)\n",
    "        self.prev_shaping = None\n",
    "\n",
    "    def step(self, action):\n",
    "        next_obs, reward, term, trunc, info = self.env.step(action)\n",
    "        shaping = (\n",
    "            -100 * next_obs[0] \n",
    "            -100 * next_obs[1]\n",
    "            # -100 * next_obs[2]\n",
    "            # -100 * next_obs[3]\n",
    "            # -100 * next_obs[4]\n",
    "             + 10 * next_obs[6]\n",
    "             + 10 * next_obs[7]\n",
    "        )  # And ten points for legs contact, the idea is if you\n",
    "        # lose contact again after landing, you get negative reward\n",
    "        linear_reward = shaping\n",
    "        return np.array(next_obs, dtype=np.float32), linear_reward, term, trunc, info\n",
    "    "
   ]
  },
  {
   "cell_type": "code",
   "execution_count": 56,
   "id": "0f7a83aa-ffc2-40b3-a6bc-cbe8addc02a4",
   "metadata": {},
   "outputs": [],
   "source": [
    "class LLObsWrapper(gym.ObservationWrapper):\n",
    "    def __init__(\n",
    "        self, env, tiling_dim: int, num_tilings: int = None, hash_dim: Optional[int] = None\n",
    "    ):\n",
    "        super().__init__(env)\n",
    "        self.hash_dim = hash_dim\n",
    "        self.tiles = Tiles(\n",
    "            dims_min=env.observation_space.low[:6],\n",
    "            dims_max=env.observation_space.high[:6],\n",
    "            tiling_dim=tiling_dim,\n",
    "            num_tilings=num_tilings\n",
    "        )\n",
    "        # TODO: hash dim\n",
    "        self.observation_space = gym.spaces.Box(\n",
    "            low=np.zeros(shape=self.tiles.max_size, dtype=np.int32), \n",
    "            high=np.ones(shape=self.tiles.max_size, dtype=np.int32)\n",
    "        )\n",
    "        self.prev_obs = None\n",
    "\n",
    "    def observation(self, obs):\n",
    "        xs = self.tiles(obs[:6])\n",
    "        if self.hash_dim:\n",
    "            xs = hashtrick(xs, dim=self.hash_dim)\n",
    "        # return np.concatenate([obs, np.array([1])]) \n",
    "        return np.concatenate([obs[:6], obs[6:]])"
   ]
  },
  {
   "cell_type": "code",
   "execution_count": 57,
   "id": "7a05fb56-a62f-4486-8f0c-f95a44b2a56f",
   "metadata": {},
   "outputs": [
    {
     "name": "stdout",
     "output_type": "stream",
     "text": [
      "Num tilings 32 \n",
      " Flat dim: 131072\n"
     ]
    }
   ],
   "source": [
    "# another way to encode this; skip last two binary dimensions, concat them\n",
    "lunar_env = LLObsWrapper(\n",
    "    LunarLinearReward(gym.make(\"LunarLander-v3\")), tiling_dim=4, hash_dim=128\n",
    ")\n",
    "lunar_buffer, lunar_sol = solve_rwe(\n",
    "    lunar_env,\n",
    "    num_steps=150_000, \n",
    "    sample_size=50_000,\n",
    "    delay=2,\n",
    ")"
   ]
  },
  {
   "cell_type": "code",
   "execution_count": 58,
   "id": "f1ab18b3-d03f-4cc3-b108-53e079406c25",
   "metadata": {},
   "outputs": [
    {
     "data": {
      "text/plain": [
       "(array([-0.00579834,  1.4015113 , -0.587318  , -0.41817805,  0.00672553,\n",
       "         0.1330362 ,  0.        ,  0.        ], dtype=float32),\n",
       " array([-0.0116828 ,  1.3915334 , -0.5972632 , -0.44352922,  0.0154522 ,\n",
       "         0.17455044,  0.        ,  0.        ], dtype=float32))"
      ]
     },
     "execution_count": 58,
     "metadata": {},
     "output_type": "execute_result"
    }
   ],
   "source": [
    "lunar_buffer[0][0], lunar_buffer[1][0]"
   ]
  },
  {
   "cell_type": "code",
   "execution_count": 59,
   "id": "59c06f16-2bce-47e8-a0cb-a34d206874e7",
   "metadata": {},
   "outputs": [
    {
     "data": {
      "text/plain": [
       "array([-247.52, -247.27, -246.98, ...,  139.97,  140.26,  142.61])"
      ]
     },
     "execution_count": 59,
     "metadata": {},
     "output_type": "execute_result"
    }
   ],
   "source": [
    "np.unique([np.around(ex[2], 2) for ex in lunar_buffer])"
   ]
  },
  {
   "cell_type": "code",
   "execution_count": 60,
   "id": "f883e599-250e-40fe-ab34-e342c8267fc8",
   "metadata": {},
   "outputs": [
    {
     "data": {
      "text/plain": [
       "<Axes: ylabel='Count'>"
      ]
     },
     "execution_count": 60,
     "metadata": {},
     "output_type": "execute_result"
    },
    {
     "data": {
      "image/png": "[encoded data removed]",
      "text/plain": [
       "<Figure size 640x480 with 1 Axes>"
      ]
     },
     "metadata": {},
     "output_type": "display_data"
    }
   ],
   "source": [
    "sns.histplot([np.around(ex[2], 2) for ex in lunar_buffer], bins=50)"
   ]
  },
  {
   "cell_type": "code",
   "execution_count": 61,
   "id": "89927f54-c3d6-41ab-bf21-48742887c5ee",
   "metadata": {},
   "outputs": [
    {
     "data": {
      "text/plain": [
       "<__main__.Tiles at 0x34dddc210>"
      ]
     },
     "execution_count": 61,
     "metadata": {},
     "output_type": "execute_result"
    }
   ],
   "source": [
    "lunar_env.tiles"
   ]
  },
  {
   "cell_type": "code",
   "execution_count": 62,
   "id": "83d2de89-68fd-4329-9cd5-9cffaebde8e1",
   "metadata": {},
   "outputs": [],
   "source": [
    "lunar_eval_X, lunar_eval_y = proj_obs_to_rwest_vec(lunar_buffer, sample_size=50_000)"
   ]
  },
  {
   "cell_type": "code",
   "execution_count": 63,
   "id": "d08e64cd-fa12-47b4-9885-12be03ad9240",
   "metadata": {},
   "outputs": [
    {
     "data": {
      "text/plain": [
       "((50000, 32), (50000,))"
      ]
     },
     "execution_count": 63,
     "metadata": {},
     "output_type": "execute_result"
    }
   ],
   "source": [
    "lunar_eval_X.shape, lunar_eval_y.shape"
   ]
  },
  {
   "cell_type": "code",
   "execution_count": 64,
   "id": "6c95b6a1-42a2-4b02-8bbe-a96113fa2bf0",
   "metadata": {},
   "outputs": [
    {
     "data": {
      "text/plain": [
       "array([-156.42587431, -140.36464989, -136.76070198, ...,  -65.64371362,\n",
       "       -132.30070584, -145.92232946])"
      ]
     },
     "execution_count": 64,
     "metadata": {},
     "output_type": "execute_result"
    }
   ],
   "source": [
    "lunar_eval_y"
   ]
  },
  {
   "cell_type": "code",
   "execution_count": 65,
   "id": "5a181e79-7386-4a5e-8c8c-0be23e73a107",
   "metadata": {},
   "outputs": [
    {
     "data": {
      "text/plain": [
       "array([-156.70949654, -140.22628044, -136.70820165, ...,  -65.24002465,\n",
       "       -132.24036807, -146.3324355 ])"
      ]
     },
     "execution_count": 65,
     "metadata": {},
     "output_type": "execute_result"
    }
   ],
   "source": [
    "np.matmul(lunar_eval_X, lunar_sol)"
   ]
  },
  {
   "cell_type": "code",
   "execution_count": 66,
   "id": "f65ad411-ff26-4285-a762-5775db07bf14",
   "metadata": {},
   "outputs": [
    {
     "data": {
      "text/plain": [
       "1.3194218176400063"
      ]
     },
     "execution_count": 66,
     "metadata": {},
     "output_type": "execute_result"
    }
   ],
   "source": [
    "rmse(\n",
    "    v_pred=np.matmul(lunar_eval_X, lunar_sol), \n",
    "    v_true=lunar_eval_y,\n",
    "    axis=0\n",
    ")"
   ]
  },
  {
   "cell_type": "code",
   "execution_count": 67,
   "id": "a6e016b3-274f-4eba-aa07-b4b7453f0f64",
   "metadata": {},
   "outputs": [
    {
     "data": {
      "image/png": "[encoded data removed]",
      "text/plain": [
       "<Figure size 600x600 with 1 Axes>"
      ]
     },
     "metadata": {},
     "output_type": "display_data"
    }
   ],
   "source": [
    "rwe_scatterplot(\n",
    "    v_pred=np.matmul(lunar_eval_X, lunar_sol), \n",
    "    v_true=lunar_eval_y\n",
    ")"
   ]
  },
  {
   "cell_type": "code",
   "execution_count": null,
   "id": "e792b749-87d0-41b5-8343-be38258367ed",
   "metadata": {},
   "outputs": [],
   "source": []
  }
 ],
 "metadata": {
  "kernelspec": {
   "display_name": "Python 3 (ipykernel)",
   "language": "python",
   "name": "python3"
  },
  "language_info": {
   "codemirror_mode": {
    "name": "ipython",
    "version": 3
   },
   "file_extension": ".py",
   "mimetype": "text/x-python",
   "name": "python",
   "nbconvert_exporter": "python",
   "pygments_lexer": "ipython3",
   "version": "3.11.11"
  }
 },
 "nbformat": 4,
 "nbformat_minor": 5
}
