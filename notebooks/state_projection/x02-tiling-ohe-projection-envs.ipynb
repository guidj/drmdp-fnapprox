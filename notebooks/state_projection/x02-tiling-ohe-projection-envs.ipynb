{
 "cells": [
  {
   "cell_type": "markdown",
   "id": "77fd02d1-537b-414e-a046-be9dde9dd530",
   "metadata": {},
   "source": [
    "# Tile [OHE] Projection of Environments: Reward Estimation"
   ]
  },
  {
   "cell_type": "markdown",
   "id": "fa0d1ed2-b21e-4905-9bb9-184d29fd00ba",
   "metadata": {},
   "source": [
    "Our aim is to carry out RL tasks when rewards are delayed (aggregate, and anonymous), using linear function approximation.\n",
    "To solve this problem, we aim to project both large discrete states and continuous states into basis vectors.\n",
    "\n",
    "\n",
    "In this notebook, we explore using Tiling as representations of states.\n",
    "Tiles are parametized, defining the dimension (# tiles on each side) and number of tilings.\n",
    "\n",
    "More information can be found here: http://incompleteideas.net/tiles/tiles3.html\n",
    "\n",
    "We use Tiles in the task of recovering rewards for state-actions."
   ]
  },
  {
   "cell_type": "markdown",
   "id": "63afd7b5-f4da-4456-8203-748d0490d368",
   "metadata": {},
   "source": [
    "In this version, for each we encode the state using tiling, and the actions using a one-hot-encoded vector.\n",
    "Thus, the dimension for a vector of a (s,a) pair is: $d + |A|$, where $d$ is the tiling dimension.\n"
   ]
  },
  {
   "cell_type": "code",
   "execution_count": 1,
   "id": "96def89d-da64-421c-9fa7-4e7c383cac5c",
   "metadata": {},
   "outputs": [],
   "source": [
<<<<<<< HEAD
<<<<<<< HEAD
    "import itertools\n",
    "import math\n",
    "from typing import Optional"
=======
    "import copy\n",
    "import itertools\n",
    "import math\n",
    "import functools\n",
    "from typing import Optional, Any"
>>>>>>> e549da9 (Update tiling for rewardest notebooks)
=======
    "import itertools\n",
    "import math\n",
    "from typing import Optional"
>>>>>>> fabfcfb (Fixes formatting)
   ]
  },
  {
   "cell_type": "code",
   "execution_count": 2,
   "id": "294d273e-aa6e-40b5-9cd3-e44c87415250",
   "metadata": {},
   "outputs": [],
   "source": [
    "import gymnasium as gym\n",
    "import numpy as np\n",
    "import pandas as pd\n",
<<<<<<< HEAD
<<<<<<< HEAD
    "from scipy import linalg"
=======
    "from scipy import linalg\n",
    "import gym_electric_motor as gem\n",
    "from gym_electric_motor import reward_functions"
>>>>>>> e549da9 (Update tiling for rewardest notebooks)
=======
    "from scipy import linalg"
>>>>>>> fabfcfb (Fixes formatting)
   ]
  },
  {
   "cell_type": "code",
   "execution_count": 3,
   "id": "63bc1d62-7fa9-495e-877d-909c4f7fa337",
   "metadata": {},
   "outputs": [],
   "source": [
    "from rlplg.environments import gridworld, redgreen"
   ]
  },
  {
   "cell_type": "code",
   "execution_count": 4,
   "id": "f40d14be-fe4e-45da-95ed-2ef2504f5abe",
   "metadata": {},
   "outputs": [],
   "source": [
    "import seaborn as sns\n",
    "from matplotlib import pyplot as plt"
   ]
  },
  {
   "cell_type": "markdown",
   "id": "1c7db704-00b1-4cbc-9384-3c343c25365e",
   "metadata": {},
   "source": [
    "## Tiling"
   ]
  },
  {
   "cell_type": "code",
   "execution_count": 5,
   "id": "c8d5c2a4-810f-4e6d-becb-913237eee752",
   "metadata": {},
   "outputs": [],
   "source": [
    "\"\"\"\n",
    "Tile Coding Software version 3.0beta\n",
    "by Rich Sutton\n",
    "based on a program created by Steph Schaeffer and others\n",
    "External documentation and recommendations on the use of this code is available in the \n",
    "reinforcement learning textbook by Sutton and Barto, and on the web.\n",
    "These need to be understood before this code is.\n",
    "\n",
    "This software is for Python 3 or more.\n",
    "\n",
    "This is an implementation of grid-style tile codings, based originally on\n",
    "the UNH CMAC code (see http://www.ece.unh.edu/robots/cmac.htm), but by now highly changed. \n",
    "Here we provide a function, \"tiles\", that maps floating and integer\n",
    "variables to a list of tiles, and a second function \"tiles-wrap\" that does the same while\n",
    "wrapping some floats to provided widths (the lower wrap value is always 0).\n",
    "\n",
    "The float variables will be gridded at unit intervals, so generalization\n",
    "will be by approximately 1 in each direction, and any scaling will have \n",
    "to be done externally before calling tiles.\n",
    "\n",
    "Num-tilings should be a power of 2, e.g., 16. To make the offsetting work properly, it should\n",
    "also be greater than or equal to four times the number of floats.\n",
    "\n",
    "The first argument is either an index hash table of a given size (created by (make-iht size)), \n",
    "an integer \"size\" (range of the indices from 0), or nil (for testing, indicating that the tile \n",
    "coordinates are to be returned without being converted to indices).\n",
    "\"\"\"\n",
    "\n",
    "basehash = hash\n",
    "\n",
    "class IHT:\n",
    "    \"Structure to handle collisions\"\n",
    "    def __init__(self, sizeval):\n",
    "        self.size = sizeval                        \n",
    "        self.overfullCount = 0\n",
    "        self.dictionary = {}\n",
    "\n",
    "    def __str__(self):\n",
    "        \"Prepares a string for printing whenever this object is printed\"\n",
    "        return \"Collision table:\" + \\\n",
    "               \" size:\" + str(self.size) + \\\n",
    "               \" overfullCount:\" + str(self.overfullCount) + \\\n",
    "               \" dictionary:\" + str(len(self.dictionary)) + \" items\"\n",
    "\n",
    "    def count(self):\n",
    "        return len(self.dictionary)\n",
    "    \n",
    "    def fullp(self):\n",
    "        return len(self.dictionary) >= self.size\n",
    "    \n",
    "    def getindex(self, obj, readonly=False):\n",
    "        d = self.dictionary\n",
    "        if obj in d:\n",
    "            return d[obj]\n",
    "        elif readonly:\n",
    "            return None\n",
    "        size = self.size\n",
    "        count = self.count()\n",
    "        if count >= size:\n",
    "            # TODO: Fail\n",
    "            if self.overfullCount==0: \n",
    "                print('IHT full, starting to allow collisions')\n",
    "            self.overfullCount += 1\n",
    "            return basehash(obj) % self.size\n",
    "        else:\n",
    "            d[obj] = count\n",
    "            return count\n",
    "\n",
    "def hashcoords(coordinates, m, readonly=False):\n",
    "    if isinstance(m, IHT):\n",
    "        return m.getindex(tuple(coordinates), readonly)\n",
    "    if isinstance(m, int):\n",
    "        return basehash(tuple(coordinates)) % m\n",
    "    if m is None:\n",
    "        return coordinates\n",
    "\n",
    "\n",
    "def tiles (ihtORsize, numtilings, floats, ints=[], readonly=False):\n",
    "    \"\"\"returns num-tilings tile indices corresponding to the floats and ints\"\"\"\n",
    "    qfloats = [math.floor(f*numtilings) for f in floats]\n",
    "    Tiles = []\n",
    "    for tiling in range(numtilings):\n",
    "        tilingX2 = tiling*2\n",
    "        coords = [tiling]\n",
    "        b = tiling\n",
    "        for q in qfloats:\n",
    "            coords.append( (q + b) // numtilings )\n",
    "            b += tilingX2\n",
    "        coords.extend(ints)\n",
    "        Tiles.append(hashcoords(coords, ihtORsize, readonly))\n",
    "    return Tiles\n",
    "\n",
    "def tileswrap (ihtORsize, numtilings, floats, wrapwidths, ints=[], readonly=False):\n",
    "    \"\"\"returns num-tilings tile indices corresponding to the floats and ints, wrapping some floats\"\"\"\n",
    "    qfloats = [math.floor(f*numtilings) for f in floats]\n",
    "    Tiles = []\n",
    "    for tiling in range(numtilings):\n",
    "        tilingX2 = tiling*2\n",
    "        coords = [tiling]\n",
    "        b = tiling\n",
    "        for q, width in itertools.zip_longest(qfloats, wrapwidths):\n",
    "            c = (q + b%numtilings) // numtilings\n",
    "            coords.append(c%width if width else c)\n",
    "            b += tilingX2\n",
    "        coords.extend(ints)\n",
    "        Tiles.append(hashcoords(coords, ihtORsize, readonly))\n",
    "    return Tiles\n",
    "\n"
   ]
  },
  {
   "cell_type": "markdown",
   "id": "73793ebf-b747-44b6-891f-30732313474a",
   "metadata": {},
   "source": [
    "## Random Data"
   ]
  },
  {
   "cell_type": "markdown",
   "id": "91e3bd03-e390-4b75-9a35-a18ae785738d",
   "metadata": {},
   "source": [
    "First, we explore tiles using random 2D data, to understand the range of input and outputs, as well as adequate parameters for a given input space."
   ]
  },
  {
   "cell_type": "code",
   "execution_count": 6,
   "id": "4dcfc580-fde8-4989-b112-e8dcdd143129",
   "metadata": {},
   "outputs": [
    {
     "data": {
      "text/plain": [
       "<Axes: >"
      ]
     },
     "execution_count": 6,
     "metadata": {},
     "output_type": "execute_result"
    },
    {
     "data": {
      "image/png": "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",
      "text/plain": [
       "<Figure size 600x600 with 1 Axes>"
      ]
     },
     "metadata": {},
     "output_type": "display_data"
    }
   ],
   "source": [
    "n = 10000\n",
    "mean = [0, 0]\n",
    "cov = [(2, .4), (.4, 2)]\n",
    "# x, y = rng.multivariate_normal(mean, cov, n).T\n",
    "rng = np.random.default_rng()\n",
    "# x, y = rng.multivariate_normal(mean, cov, n).T\n",
    "x = rng.integers(low=0, high=100, size=n)\n",
    "y = rng.integers(low=0, high=100, size=n)\n",
    "\n",
    "# Draw a combo histogram and scatterplot with density contours\n",
    "f, ax = plt.subplots(figsize=(6, 6))\n",
    "sns.scatterplot(x=x, y=y, s=5, color=\".15\")\n",
    "sns.histplot(x=x, y=y, bins=50, pthresh=.1, cmap=\"mako\")\n",
    "sns.kdeplot(x=x, y=y, levels=5, color=\"w\", linewidths=1)"
   ]
  },
  {
   "cell_type": "code",
   "execution_count": 7,
   "id": "a359c800-8500-47ad-bd84-ab54bb3c25c4",
   "metadata": {},
   "outputs": [
    {
     "data": {
      "text/plain": [
       "(array([16, 34, 25, ..., 39, 77,  3]), array([68, 97, 11, ..., 82, 44, 56]))"
      ]
     },
     "execution_count": 7,
     "metadata": {},
     "output_type": "execute_result"
    }
   ],
   "source": [
    "x, y"
   ]
  },
  {
   "cell_type": "code",
   "execution_count": 8,
   "id": "bb4b462b-7268-4386-93ab-a66b97a7f19d",
   "metadata": {},
   "outputs": [],
   "source": [
    "def pow2geq(lb):\n",
    "    exp = 1\n",
    "    while True:\n",
    "        rs = np.power(2, exp)\n",
    "        if rs >= lb:\n",
    "            break\n",
    "        exp += 1\n",
    "    return rs"
   ]
  },
  {
   "cell_type": "code",
   "execution_count": 9,
   "id": "41831663-519c-47d7-bdb0-e94da2d4e7e2",
   "metadata": {},
   "outputs": [
    {
     "name": "stdout",
     "output_type": "stream",
     "text": [
      "numTilings 8\n",
      "maxsize 800\n",
      "x 0 99\n",
      "y 0 99\n",
      "mytile [0, 1, 2, 3, 4, 5, 6, 7]\n",
      "mytile [8, 9, 10, 11, 12, 13, 14, 15]\n",
      "mytile [16, 17, 18, 19, 20, 21, 22, 23]\n",
      "mytile [8, 9, 10, 24, 25, 26, 27, 28]\n",
      "maxidx 799\n"
     ]
    }
   ],
   "source": [
    "tiling_dim = 10\n",
    "num_input_dims = 2\n",
    "numTilings = pow2geq(num_input_dims * 4)\n",
    "maxSize = tiling_dim * tiling_dim * numTilings\n",
    "print(\"numTilings\", numTilings)\n",
    "print(\"maxsize\", maxSize)\n",
    "iht = IHT(maxSize)\n",
    "minx, maxx = np.min(x), np.max(x)\n",
    "miny, maxy = np.min(y), np.max(y)\n",
    "\n",
    "def mytiles(x, y, numTilings: int):\n",
    "    # scale values to be between [0, dim]\n",
    "    return tiles(iht, numTilings, [(x - minx)/(maxx-minx) * tiling_dim,(y-miny)/(maxy-miny) * tiling_dim])\n",
    "\n",
    "def mywrappedtiles(x, y, numTilings):\n",
    "    return tileswrap(iht, numTilings, \n",
    "                     [(x - minx)/(maxx-minx) * tiling_dim,(y-miny)/(maxy-miny) * tiling_dim],\n",
    "                     [tiling_dim, tiling_dim]\n",
    "                    )\n",
    "    \n",
    "print(\"x\",  minx, maxx)\n",
    "print(\"y\",  miny, maxy)\n",
    "print(\"mytile\", mytiles(1, 50, numTilings=numTilings))\n",
    "print(\"mytile\", mytiles(10, 24, numTilings=numTilings))\n",
    "print(\"mytile\", mywrappedtiles(76, 50, numTilings=numTilings))\n",
    "print(\"mytile\", mywrappedtiles(10, 24, numTilings=numTilings))\n",
    "\n",
    "maxidx = 0\n",
    "for i in range(0, 100):\n",
    "    for j in range(0, 100):\n",
    "        maxidx = np.max([maxidx] + mywrappedtiles(i, j, numTilings=numTilings))\n",
    "        \n",
    "print(\"maxidx\", maxidx)"
   ]
  },
  {
   "cell_type": "markdown",
   "id": "534e7bc1-8ff4-48a1-ad46-a596bf3d9a82",
   "metadata": {},
   "source": [
    "## Reward Estimation"
   ]
  },
  {
   "cell_type": "code",
   "execution_count": 10,
   "id": "afda79b6-d5b8-4d37-b25f-62b6fe11b9fa",
   "metadata": {},
   "outputs": [],
   "source": [
    "def solve_least_squares(\n",
    "    matrix: np.ndarray, rhs: np.ndarray\n",
    ") -> np.ndarray:\n",
    "    try:\n",
    "        solution, _, _, _ = linalg.lstsq(a=matrix, b=rhs, lapack_driver=\"gelsy\")\n",
    "        return solution  # type: ignore\n",
    "    except linalg.LinAlgError as err:\n",
    "        # the computation failed, likely due to the matix being unsuitable (no solution).\n",
    "        raise ValueError(\"Failed to solve linear system\") from err"
   ]
  },
  {
   "cell_type": "code",
   "execution_count": 11,
   "id": "59d6e2d2-d01d-4507-9d37-51d09d9ef9a6",
   "metadata": {},
   "outputs": [],
   "source": [
    "def rmse(v_pred: np.ndarray, v_true: np.ndarray, axis: int):\n",
    "    if np.shape(v_pred) != np.shape(v_true):\n",
    "        raise ValueError(\n",
    "            f\"Tensors have different shapes: {np.shape(v_pred)} != {np.shape(v_true)}\"\n",
    "        )\n",
    "    return np.sqrt(\n",
    "        np.sum(np.power(v_pred - v_true, 2.0), axis=axis) / np.shape(v_pred)[axis]\n",
    "    )"
   ]
  },
  {
   "cell_type": "markdown",
   "id": "88c34679-56cc-4d1d-8472-5c02a3606bd9",
   "metadata": {},
   "source": [
    "## Gym Env"
   ]
  },
  {
   "cell_type": "code",
   "execution_count": 12,
   "id": "be069c80-71ce-4f52-9aa8-119fd57fe246",
   "metadata": {},
   "outputs": [],
   "source": [
    "def collection_traj_data(env, steps: int):\n",
    "    obs, _ = env.reset()\n",
    "    step = 0\n",
    "    buffer = []\n",
    "    while step < steps:\n",
    "        action = env.action_space.sample()\n",
    "        next_obs, rew, term, trunc, _,  = env.step(action)\n",
    "        step += 1\n",
    "        buffer.append((obs, action, rew))\n",
    "        obs = next_obs\n",
    "        if term or trunc:\n",
    "            obs, _ = env.reset()\n",
    "    return buffer"
   ]
  },
  {
   "cell_type": "code",
   "execution_count": 13,
   "id": "711b4aac-9040-4cf2-a477-5d6205997846",
   "metadata": {},
   "outputs": [],
   "source": [
    "def tiling_proj(obs_min, obs_max, tiling_dim: int):\n",
    "    # obs = np.stack([example[0] for example in buffer])\n",
    "    assert isinstance(obs_min, np.ndarray)\n",
    "    assert isinstance(obs_max, np.ndarray)\n",
    "    wrapwidths = [tiling_dim] * np.size(obs_min)\n",
    "\n",
    "    # num tilings should a power of 2\n",
    "    # and at least 4 times greater than\n",
    "    # the number of dimensions\n",
    "    num_tilings = pow2geq(np.size(obs_min) * 4)\n",
    "    max_size = (tiling_dim ** np.size(obs_min)) * num_tilings\n",
    "    print(\"Num tilings\", num_tilings, \"\\n\", \"Flat dim:\", max_size)\n",
    "    iht = IHT(max_size)    \n",
    "    def mywrappedtiles(obs):\n",
    "        obs_scaled_01 = (obs - obs_min) / (obs_max - obs_min)\n",
    "        repr = np.zeros(shape=max_size)\n",
    "        idx = tileswrap(\n",
    "            iht, \n",
    "            num_tilings, \n",
    "            obs_scaled_01 * tiling_dim,\n",
    "            wrapwidths\n",
    "        )\n",
    "        repr[idx] = 1\n",
    "        return repr\n",
    "    return mywrappedtiles"
   ]
  },
  {
   "cell_type": "code",
   "execution_count": 14,
   "id": "4ae890a2-f601-48e3-b7f7-bd57a582daf4",
   "metadata": {},
   "outputs": [
    {
     "name": "stdout",
     "output_type": "stream",
     "text": [
      "Num tilings 8 \n",
      " Flat dim: 128\n",
      "[-0.457589  0.      ]\n",
      "[1. 1. 1. 1. 1. 1. 1. 1. 0. 0. 0. 0. 0. 0. 0. 0. 0. 0. 0. 0. 0. 0. 0. 0.\n",
      " 0. 0. 0. 0. 0. 0. 0. 0. 0. 0. 0. 0. 0. 0. 0. 0. 0. 0. 0. 0. 0. 0. 0. 0.\n",
      " 0. 0. 0. 0. 0. 0. 0. 0. 0. 0. 0. 0. 0. 0. 0. 0. 0. 0. 0. 0. 0. 0. 0. 0.\n",
      " 0. 0. 0. 0. 0. 0. 0. 0. 0. 0. 0. 0. 0. 0. 0. 0. 0. 0. 0. 0. 0. 0. 0. 0.\n",
      " 0. 0. 0. 0. 0. 0. 0. 0. 0. 0. 0. 0. 0. 0. 0. 0. 0. 0. 0. 0. 0. 0. 0. 0.\n",
      " 0. 0. 0. 0. 0. 0. 0. 0.]\n"
     ]
    }
   ],
   "source": [
    "env = gym.make(\"MountainCar-v0\")\n",
    "proj_fn = tiling_proj(\n",
    "        env.observation_space.low, \n",
    "        env.observation_space.high,\n",
    "        tiling_dim=4\n",
    "    )\n",
    "obs, _ = env.reset()\n",
    "print(obs)\n",
    "print(proj_fn(obs))"
   ]
  },
  {
   "cell_type": "code",
   "execution_count": 15,
   "id": "09cc1cb7-c4f0-4084-a79a-553c8f6f0307",
   "metadata": {},
   "outputs": [
    {
     "data": {
      "text/plain": [
       "{}"
      ]
     },
     "execution_count": 15,
     "metadata": {},
     "output_type": "execute_result"
    }
   ],
   "source": [
    "vars(proj_fn)"
   ]
  },
  {
   "cell_type": "code",
   "execution_count": 16,
   "id": "8ac3c0c3-7c24-45bb-84b7-c33a282af342",
   "metadata": {},
   "outputs": [],
   "source": [
    "class Tiles:\n",
    "    def __init__(\n",
    "        self, dims_min: np.ndarray, dims_max: np.ndarray, \n",
    "        tiling_dim: int, num_tilings: Optional[int] = None\n",
    "    ):\n",
    "        assert isinstance(dims_min, np.ndarray)\n",
    "        assert isinstance(dims_max, np.ndarray)\n",
    "        self.dims_max = dims_max\n",
    "        self.dims_min = dims_min\n",
    "        self.tiling_dim = tiling_dim\n",
    "        self.wrapwidths = [tiling_dim] * np.size(dims_min)\n",
    "    \n",
    "        # num tilings should a power of 2\n",
    "        # and at least 4 times greater than\n",
    "        # the number of dimensions\n",
    "        self.num_tilings = num_tilings or pow2geq(np.size(dims_min) * 4)\n",
    "        self.max_size = (tiling_dim ** np.size(dims_min)) * self.num_tilings\n",
    "        print(\"Num tilings\", self.num_tilings, \"\\n\", \"Flat dim:\", self.max_size)\n",
    "        self.iht = IHT(self.max_size)\n",
    "\n",
    "    def __call__(self, xs):\n",
    "        xs_scaled_01 = (xs - self.dims_min) / (self.dims_max - self.dims_min)\n",
    "        repr = np.zeros(shape=self.max_size)\n",
    "        idx = tileswrap(\n",
    "            self.iht, \n",
    "            self.num_tilings, \n",
    "            xs_scaled_01 * self.tiling_dim,\n",
    "            self.wrapwidths\n",
    "        )\n",
    "        repr[idx] = 1\n",
    "        return repr    "
   ]
  },
  {
   "cell_type": "code",
   "execution_count": 17,
   "id": "6cac9ed1-0984-404c-bf43-e5abf82b9876",
   "metadata": {},
   "outputs": [
    {
     "name": "stdout",
     "output_type": "stream",
     "text": [
      "Num tilings 8 \n",
      " Flat dim: 128\n",
      "[-0.5032238  0.       ]\n",
      "[1. 1. 1. 1. 1. 1. 1. 1. 0. 0. 0. 0. 0. 0. 0. 0. 0. 0. 0. 0. 0. 0. 0. 0.\n",
      " 0. 0. 0. 0. 0. 0. 0. 0. 0. 0. 0. 0. 0. 0. 0. 0. 0. 0. 0. 0. 0. 0. 0. 0.\n",
      " 0. 0. 0. 0. 0. 0. 0. 0. 0. 0. 0. 0. 0. 0. 0. 0. 0. 0. 0. 0. 0. 0. 0. 0.\n",
      " 0. 0. 0. 0. 0. 0. 0. 0. 0. 0. 0. 0. 0. 0. 0. 0. 0. 0. 0. 0. 0. 0. 0. 0.\n",
      " 0. 0. 0. 0. 0. 0. 0. 0. 0. 0. 0. 0. 0. 0. 0. 0. 0. 0. 0. 0. 0. 0. 0. 0.\n",
      " 0. 0. 0. 0. 0. 0. 0. 0.]\n"
     ]
    }
   ],
   "source": [
    "env = gym.make(\"MountainCar-v0\")\n",
    "tile_fn = Tiles(\n",
    "        env.observation_space.low,\n",
    "        env.observation_space.high,\n",
    "        tiling_dim=4\n",
    "    )\n",
    "obs, _ = env.reset()\n",
    "print(obs)\n",
    "print(tile_fn(obs))"
   ]
  },
  {
   "cell_type": "code",
   "execution_count": 18,
   "id": "28f31262-5c0b-404f-8da3-88ddfcdacc38",
   "metadata": {},
   "outputs": [
    {
     "data": {
      "text/plain": [
       "{'dims_max': array([0.6 , 0.07], dtype=float32),\n",
       " 'dims_min': array([-1.2 , -0.07], dtype=float32),\n",
       " 'tiling_dim': 4,\n",
       " 'wrapwidths': [4, 4],\n",
       " 'num_tilings': 8,\n",
       " 'max_size': 128,\n",
       " 'iht': <__main__.IHT at 0x7fb7f7a13e10>}"
      ]
     },
     "execution_count": 18,
     "metadata": {},
     "output_type": "execute_result"
    }
   ],
   "source": [
    "vars(tile_fn)"
   ]
  },
  {
   "cell_type": "code",
   "execution_count": 26,
   "id": "89e9b2e4-1ef5-45ee-ae06-869452940499",
   "metadata": {},
   "outputs": [],
   "source": [
    "def delay_reward_data(buffer, delay: int, sample_size: int):\n",
    "    obs = np.stack([example[0] for example in buffer])\n",
    "    action = np.stack([example[1] for example in buffer])\n",
    "    reward = np.stack([example[2] for example in buffer])\n",
    "\n",
    "    # repr: (m1,a1)(m2,a1)..\n",
    "    obs_dim = obs.shape[1]\n",
    "    mdim = obs_dim + len(np.unique(action))\n",
    "\n",
    "    # build samples\n",
    "    mask = np.random.choice(len(obs), (sample_size, delay))\n",
    "    delayed_obs = obs[mask] # batch x delay x dim\n",
    "    delayed_act = action[mask] # batch x delay\n",
    "    delayed_rew = np.sum(reward[mask], axis=1) # batch x delay -> batch    \n",
    "    \n",
    "    rhat_matrix = np.zeros(shape=(len(delayed_obs), mdim))\n",
    "    \n",
    "    for i, (obs, action) in enumerate(zip(delayed_obs, delayed_act)):\n",
    "        for j in range(delay):\n",
    "            rhat_matrix[i,:obs_dim] += obs[j]\n",
    "            rhat_matrix[i,obs_dim+action[j]] += 1\n",
    "            \n",
    "    return rhat_matrix, delayed_rew"
   ]
  },
  {
   "cell_type": "code",
   "execution_count": 20,
   "id": "68f3b2ea-8920-4cbf-b60a-dc7282781da8",
   "metadata": {},
   "outputs": [],
   "source": [
    "def proj_obs_to_rwest_vec(buffer, sample_size: int):\n",
    "    obs = np.stack([example[0] for example in buffer])\n",
    "    action = np.stack([example[1] for example in buffer])\n",
    "    reward = np.stack([example[2] for example in buffer])\n",
    "    \n",
    "    # repr: (m1,a1)(m2,a1)..\n",
    "    obs_dim = obs.shape[1]\n",
    "    mdim = obs_dim + len(np.unique(action))\n",
    "    \n",
    "    # build samples\n",
    "    mask = np.random.choice(len(obs), sample_size)\n",
    "    delayed_obs = obs[mask] # batch x dim\n",
    "    delayed_act = action[mask] # batch\n",
    "    delayed_rew = reward[mask] # batch\n",
    "    \n",
    "    rhat_matrix = np.zeros(shape=(len(delayed_obs), mdim))\n",
    "    \n",
    "    for i, (obs, action) in enumerate(zip(delayed_obs, delayed_act)):\n",
    "        rhat_matrix[i,:obs_dim] += delayed_obs[i]\n",
    "    return rhat_matrix, delayed_rew"
   ]
  },
  {
   "cell_type": "code",
   "execution_count": 21,
   "id": "c02d574b-b801-47c0-bd4b-97a549aebbc1",
   "metadata": {},
   "outputs": [],
   "source": [
    "def solve_rwe(env: gym.Env, num_steps: int, sample_size: int, delay: int):\n",
    "    buffer = collection_traj_data(env, steps=num_steps)\n",
    "    Xd, yd = delay_reward_data(buffer, delay=delay, sample_size=sample_size)\n",
    "    return buffer, solve_least_squares(Xd, yd)"
   ]
  },
  {
   "cell_type": "code",
   "execution_count": 22,
   "id": "fbb51c96-dd50-4120-bba8-5c8b79dbe937",
   "metadata": {},
   "outputs": [],
   "source": [
    "def rwe_scatterplot(v_pred, v_true):\n",
    "    _, ax = plt.subplots(figsize=(6, 6))\n",
    "    df = pd.DataFrame({\n",
    "        \"x\": v_pred,\n",
    "        \"y\": v_true,\n",
    "        \"size\": np.abs(v_pred - v_true)\n",
    "    })\n",
    "    sns.scatterplot(\n",
    "        df, x=\"x\", y=\"y\", size=\"size\", hue=\"size\", s=5, color=\".15\"\n",
    "    )\n",
    "    # sns.histplot(x=v_pred, y=v_true, bins=50, cmap=\"mako\")\n",
    "    # sns.kdeplot(x=v_pred, y=v_true, levels=5, color=\"w\")\n",
    "    ax.set_xlabel(\"yhat\")\n",
    "    ax.set_ylabel(\"ytrue\")\n",
    "    ax.set_title(\"Reward Estimation\")"
   ]
  },
  {
   "cell_type": "code",
   "execution_count": 23,
   "id": "5b71c921-f5eb-45a9-9f90-40541af19038",
   "metadata": {},
   "outputs": [],
   "source": [
    "def hashtrick(xs, dim: int):\n",
    "    if dim <= 0:\n",
    "        raise ValueError(\"`dim` must be positive\")\n",
    "    # Get indices of non-zero elements directly\n",
    "    idx = np.nonzero(xs)[0]\n",
    "    \n",
    "    # Use modulo operation on all indices at once\n",
    "    hashed_idx = idx % dim\n",
    "    \n",
    "    # Use bincount to count occurrences of each index\n",
    "    # Specify minlength to ensure output has correct size\n",
    "    return np.bincount(hashed_idx, minlength=dim)\n"
   ]
  },
  {
   "cell_type": "markdown",
   "id": "843f3008-492e-4fb1-adde-b63b0b956440",
   "metadata": {},
   "source": [
    "### Moutain Car"
   ]
  },
  {
   "cell_type": "code",
   "execution_count": 24,
   "id": "79488506-e38b-493b-a7fc-e170c28a7e19",
   "metadata": {},
   "outputs": [],
   "source": [
    "class MCObsWrapper(gym.ObservationWrapper):\n",
    "    def __init__(self, env, tiling_dim: int, num_tilings: int = None):\n",
    "        super().__init__(env)\n",
    "        self.tiles = Tiles(\n",
    "                env.observation_space.low,\n",
    "                env.observation_space.high,\n",
    "                tiling_dim=tiling_dim,\n",
    "                num_tilings=num_tilings\n",
    "            )\n",
    "        self.observation_space = gym.spaces.Box(\n",
    "            low=np.zeros(shape=self.tiles.max_size, dtype=np.int32), \n",
    "            high=np.ones(shape=self.tiles.max_size, dtype=np.int32)\n",
    "        )\n",
    "\n",
    "    def observation(self, obs):\n",
    "        return self.tiles(obs)"
   ]
  },
  {
   "cell_type": "code",
   "execution_count": 27,
   "id": "cc2a2e2f-a6d5-40b3-b7af-74c653aca8d9",
   "metadata": {},
   "outputs": [
    {
     "name": "stdout",
     "output_type": "stream",
     "text": [
      "Num tilings 8 \n",
      " Flat dim: 128\n"
     ]
    }
   ],
   "source": [
    "mc_env = MCObsWrapper(gym.make(\"MountainCar-v0\"), tiling_dim=4)\n",
    "mc_buffer, mc_sol = solve_rwe(\n",
    "    mc_env,\n",
    "    num_steps=150_000, \n",
    "    sample_size=50_000,\n",
    "    delay=2,\n",
    ")"
   ]
  },
  {
   "cell_type": "code",
   "execution_count": 28,
   "id": "bc8738a8-4446-49ef-ae95-0753ca89b8b4",
   "metadata": {},
   "outputs": [
    {
     "data": {
      "text/plain": [
       "150000"
      ]
     },
     "execution_count": 28,
     "metadata": {},
     "output_type": "execute_result"
    }
   ],
   "source": [
    "len(mc_buffer)"
   ]
  },
  {
   "cell_type": "code",
   "execution_count": 29,
   "id": "5d287a55-2236-4860-891a-86858ee7968b",
   "metadata": {},
   "outputs": [
    {
     "data": {
      "text/plain": [
       "array([1., 1., 1., 1., 1., 1., 1., 1., 0., 0., 0., 0., 0., 0., 0., 0., 0.,\n",
       "       0., 0., 0., 0., 0., 0., 0., 0., 0., 0., 0., 0., 0., 0., 0., 0., 0.,\n",
       "       0., 0., 0., 0., 0., 0., 0., 0., 0., 0., 0., 0., 0., 0., 0., 0., 0.,\n",
       "       0., 0., 0., 0., 0., 0., 0., 0., 0., 0., 0., 0., 0., 0., 0., 0., 0.,\n",
       "       0., 0., 0., 0., 0., 0., 0., 0., 0., 0., 0., 0., 0., 0., 0., 0., 0.,\n",
       "       0., 0., 0., 0., 0., 0., 0., 0., 0., 0., 0., 0., 0., 0., 0., 0., 0.,\n",
       "       0., 0., 0., 0., 0., 0., 0., 0., 0., 0., 0., 0., 0., 0., 0., 0., 0.,\n",
       "       0., 0., 0., 0., 0., 0., 0., 0., 0.])"
      ]
     },
     "execution_count": 29,
     "metadata": {},
     "output_type": "execute_result"
    }
   ],
   "source": [
    "mc_buffer[0][0]"
   ]
  },
  {
   "cell_type": "code",
   "execution_count": 30,
   "id": "4c288ed5-b62d-4bb4-b628-97a8aa5188ef",
   "metadata": {},
   "outputs": [
    {
     "data": {
      "text/plain": [
       "<__main__.Tiles at 0x7fb7f7a29850>"
      ]
     },
     "execution_count": 30,
     "metadata": {},
     "output_type": "execute_result"
    }
   ],
   "source": [
    "mc_env.tiles"
   ]
  },
  {
   "cell_type": "code",
   "execution_count": 31,
   "id": "a0a2a025-e2a1-4163-ac7b-dc0c5884d84f",
   "metadata": {},
   "outputs": [
    {
     "data": {
      "text/plain": [
       "array([-0.09461718,  0.08308155, -0.01725065, -0.065101  , -0.05131151,\n",
       "       -0.03382697, -0.02447679, -0.23280278, -0.09461718, -0.065101  ,\n",
       "       -0.065101  , -0.05131151, -0.065101  , -0.03382697, -0.03382697,\n",
       "       -0.01725065, -0.02447679, -0.03382697, -0.01725065, -0.02447679,\n",
       "       -0.23280278, -0.01725065,  0.08308155, -0.02447679, -0.23280278,\n",
       "        0.08308155, -0.05131151, -0.05131151, -0.05131151, -0.05131151,\n",
       "       -0.23280278, -0.09461718, -0.09461718, -0.09461718, -0.09461718,\n",
       "       -0.23280278,  0.08308155,  0.08308155, -0.23280278, -0.23280278,\n",
       "       -0.02447679,  0.08308155, -0.01725065, -0.23280278,  0.08308155,\n",
       "        0.08308155, -0.01725065, -0.02447679, -0.02447679, -0.065101  ,\n",
       "       -0.065101  , -0.03382697, -0.03382697,  0.        ,  0.        ,\n",
       "        0.        ,  0.        ,  0.        ,  0.        ,  0.        ,\n",
       "        0.        ,  0.        ,  0.        ,  0.        ,  0.        ,\n",
       "        0.        ,  0.        ,  0.        ,  0.        ,  0.        ,\n",
       "        0.        ,  0.        ,  0.        ,  0.        ,  0.        ,\n",
       "        0.        ,  0.        ,  0.        ,  0.        ,  0.        ,\n",
       "        0.        ,  0.        ,  0.        ,  0.        ,  0.        ,\n",
       "        0.        ,  0.        ,  0.        ,  0.        ,  0.        ,\n",
       "        0.        ,  0.        ,  0.        ,  0.        ,  0.        ,\n",
       "        0.        ,  0.        ,  0.        ,  0.        ,  0.        ,\n",
       "        0.        ,  0.        ,  0.        ,  0.        ,  0.        ,\n",
       "        0.        ,  0.        ,  0.        ,  0.        ,  0.        ,\n",
       "        0.        ,  0.        ,  0.        ,  0.        ,  0.        ,\n",
       "        0.        ,  0.        ,  0.        ,  0.        ,  0.        ,\n",
       "        0.        ,  0.        ,  0.        ,  0.        ,  0.        ,\n",
       "        0.        ,  0.        ,  0.        , -0.56369469, -0.56369469,\n",
       "       -0.56369469])"
      ]
     },
     "execution_count": 31,
     "metadata": {},
     "output_type": "execute_result"
    }
   ],
   "source": [
    "mc_sol"
   ]
  },
  {
   "cell_type": "code",
   "execution_count": 32,
   "id": "e24d05d9-b378-484d-85dc-385de1571378",
   "metadata": {},
   "outputs": [],
   "source": [
    "mc_eval_X, mc_eval_y = proj_obs_to_rwest_vec(mc_buffer, sample_size=10_000)"
   ]
  },
  {
   "cell_type": "code",
   "execution_count": 33,
   "id": "a1ea49b5-81ad-4f5a-89d1-1abfb9065347",
   "metadata": {},
   "outputs": [
    {
     "data": {
      "text/plain": [
       "array([-0.43630531, -0.43630531, -0.43630531, ..., -0.43630531,\n",
       "       -0.43630531, -0.43630531])"
      ]
     },
     "execution_count": 33,
     "metadata": {},
     "output_type": "execute_result"
    }
   ],
   "source": [
    "np.matmul(mc_eval_X, mc_sol)"
   ]
  },
  {
   "cell_type": "code",
   "execution_count": 34,
   "id": "e8f6d99d-afde-43a0-b715-7d2bacb1cb3c",
   "metadata": {},
   "outputs": [
    {
     "data": {
      "text/plain": [
       "0.5636946853522025"
      ]
     },
     "execution_count": 34,
     "metadata": {},
     "output_type": "execute_result"
    }
   ],
   "source": [
    "rmse(\n",
    "    v_pred=np.matmul(mc_eval_X, mc_sol), \n",
    "    v_true=mc_eval_y,\n",
    "    axis=0\n",
    ")"
   ]
  },
  {
   "cell_type": "code",
   "execution_count": 35,
   "id": "5684e9e8-d690-490c-bb06-620b29419513",
   "metadata": {
    "scrolled": true
   },
   "outputs": [
    {
     "data": {
      "image/png": "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",
      "text/plain": [
       "<Figure size 600x600 with 1 Axes>"
      ]
     },
     "metadata": {},
     "output_type": "display_data"
    }
   ],
   "source": [
    "rwe_scatterplot(\n",
    "    v_pred=np.matmul(mc_eval_X, mc_sol), \n",
    "    v_true=mc_eval_y\n",
    ")"
   ]
  },
  {
   "cell_type": "markdown",
   "id": "ba32287b-8c24-4aef-a0da-64b7c9c973a8",
   "metadata": {},
   "source": [
    "The estimation error is low on this environment, though the reward is a constant."
   ]
  },
  {
   "cell_type": "markdown",
   "id": "192c08ce-838b-4110-8ba0-ede92915e0ce",
   "metadata": {},
   "source": [
    "### Grid World (Different Rewards)"
   ]
  },
  {
   "cell_type": "code",
   "execution_count": 36,
   "id": "adf81a9c-9261-4267-9290-20a3b69df0b4",
   "metadata": {},
   "outputs": [],
   "source": [
    "class GWObsWrapper(gym.ObservationWrapper):\n",
    "    def __init__(self, env, tiling_dim: int, num_tilings: int = None):\n",
    "        super().__init__(env)\n",
    "        self.tiles = Tiles(\n",
    "                np.array([0, 0], np.int32),\n",
    "                np.array(\n",
    "                    [env.observation_space[\"agent\"][0].n, env.observation_space[\"agent\"][1].n]\n",
    "                ),\n",
    "                tiling_dim=tiling_dim,\n",
    "                num_tilings=num_tilings\n",
    "            )\n",
    "        self.observation_space = gym.spaces.Box(\n",
    "            low=np.zeros(shape=self.tiles.max_size, dtype=np.int32), \n",
    "            high=np.ones(shape=self.tiles.max_size, dtype=np.int32)\n",
    "        )\n",
    "\n",
    "    def observation(self, obs):\n",
    "        return self.tiles(obs[\"agent\"])"
   ]
  },
  {
   "cell_type": "code",
   "execution_count": 37,
   "id": "2e64de9e-e038-4f68-aae3-5bfdd649a470",
   "metadata": {},
   "outputs": [
    {
     "name": "stdout",
     "output_type": "stream",
     "text": [
      "(4, 12) [(3, 1), (3, 2), (3, 3), (3, 4), (3, 5), (3, 6), (3, 7), (3, 8), (3, 9), (3, 10)] [(3, 11)] (3, 0)\n",
      "Num tilings 8 \n",
      " Flat dim: 512\n"
     ]
    }
   ],
   "source": [
    "size, cliffs, exits, start = gridworld.parse_grid_from_text(\n",
    "    [\"oooooooooooo\", \"oooooooooooo\", \"oooooooooooo\", \"sxxxxxxxxxxg\"]\n",
    ")\n",
    "print(size, cliffs, exits, start)\n",
    "gw_env = GWObsWrapper(\n",
    "    gridworld.GridWorld(size, cliffs, exits, start),\n",
    "    tiling_dim=8\n",
    ")\n",
    "gw_buffer, gw_sol = solve_rwe(\n",
    "    gw_env,\n",
    "    num_steps=150_000, \n",
    "    sample_size=50_000,\n",
    "    delay=2,\n",
    ")"
   ]
  },
  {
   "cell_type": "code",
   "execution_count": 38,
   "id": "fba47ae4-aeed-45bc-a052-7fcf2665ed4a",
   "metadata": {},
   "outputs": [
    {
     "data": {
      "text/plain": [
       "array([-100.,   -1.])"
      ]
     },
     "execution_count": 38,
     "metadata": {},
     "output_type": "execute_result"
    }
   ],
   "source": [
    "np.unique([ex[2] for ex in gw_buffer])"
   ]
  },
  {
   "cell_type": "code",
   "execution_count": 39,
   "id": "5e9b01e8-7906-4762-ac84-4f51c8f58988",
   "metadata": {},
   "outputs": [
    {
     "data": {
      "text/plain": [
       "array([-1.77044460e+14, -1.77044460e+14,  7.77351399e+13,  7.77351399e+13,\n",
       "        9.24880477e+13,  7.77351399e+13,  7.77351399e+13,  7.77351399e+13,\n",
       "        1.64886893e+14, -4.47444593e+14,  1.65663563e+14,  4.86673101e+14,\n",
       "       -4.47581778e+14,  1.65649135e+14,  4.86673101e+14, -4.47444593e+14,\n",
       "       -1.00489928e+13,  2.33498685e+14, -4.53680592e+13, -2.36318058e+14,\n",
       "        2.33498685e+14, -4.53680592e+13, -2.36318058e+14,  2.33498685e+14,\n",
       "        1.09494204e+14, -9.62761707e+12, -1.05053404e+14,  1.28285142e+14,\n",
       "       -9.62761707e+12, -1.05053404e+14,  1.28285142e+14, -9.62761707e+12,\n",
       "        2.24202398e+13, -1.23111468e+14, -7.59348207e+12, -1.23111468e+14,\n",
       "       -7.59348207e+12,  2.44477184e+14,  5.35503102e+13,  1.29018285e+14,\n",
       "        5.36958719e+13,  1.29018285e+14, -5.93012469e+12,  6.90145967e+13,\n",
       "       -5.93012469e+12,  6.86173295e+13, -5.93012469e+12, -8.92149590e+13,\n",
       "       -4.76366163e+13, -8.92149590e+13, -6.01574323e+13, -8.92149590e+13,\n",
       "        9.87661521e+13, -1.49327320e+12,  7.02912720e+13, -1.49327320e+12,\n",
       "        7.02912720e+13, -1.49327320e+12,  1.76089186e+14, -2.87865445e+14,\n",
       "        2.18127072e+14,  1.76089186e+14, -2.25317529e+14,  1.19180703e+14,\n",
       "        1.76089186e+14, -2.25317529e+14, -4.88781629e+13, -2.60472859e+13,\n",
       "       -4.16064631e+13, -2.60472859e+13, -4.16064631e+13, -2.60472859e+13,\n",
       "        2.96432336e+13,  8.69776764e+13,  2.77836652e+13,  8.69776764e+13,\n",
       "        2.77836652e+13, -1.02610913e+13,  3.61824450e+13, -1.02610913e+13,\n",
       "        3.64650926e+13, -1.02610913e+13,  2.66685937e+13, -1.64819266e+13,\n",
       "        4.71289564e+13,  2.66685937e+13, -1.50765128e+13,  4.65750424e+13,\n",
       "        2.66685937e+13, -1.50765128e+13,  3.25337501e+12,  6.32868764e+13,\n",
       "       -3.62085165e+13,  3.25337501e+12,  6.32292100e+13, -3.62220771e+13,\n",
       "        3.25337501e+12,  6.32292100e+13, -9.11810434e+13,  4.93090366e+13,\n",
       "       -3.50537492e+13,  4.93090366e+13, -3.50537492e+13, -3.28194580e+13,\n",
       "       -3.28194580e+13,  5.02438145e+13,  5.02438145e+13,  5.02438145e+13,\n",
       "        1.49178427e+13, -3.67704459e+12,  1.47420600e+13, -3.67704459e+12,\n",
       "        1.47420600e+13, -3.67704459e+12,  2.13898266e+13,  9.15794419e+12,\n",
       "        2.14835750e+13,  9.15794419e+12,  2.14835750e+13,  2.27860919e+13,\n",
       "        1.88101708e+13,  2.12665950e+11,  2.10989011e+13,  2.14277155e+13,\n",
       "        2.12665950e+11,  2.10989011e+13,  2.14277155e+13,  1.84492873e+12,\n",
       "        3.05472054e+13,  1.84492873e+12,  2.66358595e+13,  1.84492873e+12,\n",
       "        6.35605444e+12,  2.85288008e+13,  5.58936589e+12,  1.12637235e+13,\n",
       "        2.95619113e+13,  4.41748773e+12,  1.22190466e+13,  2.91384374e+13,\n",
       "       -1.37522084e+14, -1.35135680e+14,  7.36645115e+12,  7.36645115e+12,\n",
       "        9.85556333e+12,  4.48241476e+13,  4.49337033e+13,  4.47636764e+13,\n",
       "        9.19667131e+12,  1.89797662e+13,  9.52279994e+12,  1.86980362e+13,\n",
       "        9.01195236e+12,  7.21572825e+12,  2.24397741e+13,  7.38558814e+12,\n",
       "        2.24851734e+13,  7.38558814e+12,  2.24851734e+13,  1.19422715e+13,\n",
       "        2.00943187e+12,  1.19422715e+13,  2.00943187e+12,  1.19422715e+13,\n",
       "        8.53781226e+12,  1.47569338e+13,  8.54157454e+12,  1.47569338e+13,\n",
       "        8.54157454e+12,  1.47569338e+13,  3.73717300e+13,  3.65275861e+12,\n",
       "        3.73629791e+13,  3.65275861e+12,  3.73629791e+13,  3.65275861e+12,\n",
       "       -1.99613237e+13,  3.72845774e+13, -1.98153458e+13,  3.72845774e+13,\n",
       "       -1.98153458e+13,  3.64672707e+13, -3.45094901e+12,  3.59442469e+13,\n",
       "       -3.45094901e+12,  3.59442469e+13,  4.40705299e+13, -1.14684513e+13,\n",
       "        4.19771480e+13, -1.14684513e+13,  4.19771480e+13,  6.97189367e+13,\n",
       "        6.97189367e+13,  6.97189367e+13,  3.64850606e+13,  3.64850606e+13,\n",
       "        3.64850606e+13, -4.82152849e+13, -4.82152849e+13, -4.82152849e+13,\n",
       "        0.00000000e+00,  0.00000000e+00,  0.00000000e+00,  0.00000000e+00,\n",
       "        0.00000000e+00,  0.00000000e+00,  0.00000000e+00,  0.00000000e+00,\n",
       "        0.00000000e+00,  0.00000000e+00,  0.00000000e+00,  0.00000000e+00,\n",
       "        0.00000000e+00,  0.00000000e+00,  0.00000000e+00,  0.00000000e+00,\n",
       "        0.00000000e+00,  0.00000000e+00,  0.00000000e+00,  0.00000000e+00,\n",
       "        0.00000000e+00,  0.00000000e+00,  0.00000000e+00,  0.00000000e+00,\n",
       "        0.00000000e+00,  0.00000000e+00,  0.00000000e+00,  0.00000000e+00,\n",
       "        0.00000000e+00,  0.00000000e+00,  0.00000000e+00,  0.00000000e+00,\n",
       "        0.00000000e+00,  0.00000000e+00,  0.00000000e+00,  0.00000000e+00,\n",
       "        0.00000000e+00,  0.00000000e+00,  0.00000000e+00,  0.00000000e+00,\n",
       "        0.00000000e+00,  0.00000000e+00,  0.00000000e+00,  0.00000000e+00,\n",
       "        0.00000000e+00,  0.00000000e+00,  0.00000000e+00,  0.00000000e+00,\n",
       "        0.00000000e+00,  0.00000000e+00,  0.00000000e+00,  0.00000000e+00,\n",
       "        0.00000000e+00,  0.00000000e+00,  0.00000000e+00,  0.00000000e+00,\n",
       "        0.00000000e+00,  0.00000000e+00,  0.00000000e+00,  0.00000000e+00,\n",
       "        0.00000000e+00,  0.00000000e+00,  0.00000000e+00,  0.00000000e+00,\n",
       "        0.00000000e+00,  0.00000000e+00,  0.00000000e+00,  0.00000000e+00,\n",
       "        0.00000000e+00,  0.00000000e+00,  0.00000000e+00,  0.00000000e+00,\n",
       "        0.00000000e+00,  0.00000000e+00,  0.00000000e+00,  0.00000000e+00,\n",
       "        0.00000000e+00,  0.00000000e+00,  0.00000000e+00,  0.00000000e+00,\n",
       "        0.00000000e+00,  0.00000000e+00,  0.00000000e+00,  0.00000000e+00,\n",
       "        0.00000000e+00,  0.00000000e+00,  0.00000000e+00,  0.00000000e+00,\n",
       "        0.00000000e+00,  0.00000000e+00,  0.00000000e+00,  0.00000000e+00,\n",
       "        0.00000000e+00,  0.00000000e+00,  0.00000000e+00,  0.00000000e+00,\n",
       "        0.00000000e+00,  0.00000000e+00,  0.00000000e+00,  0.00000000e+00,\n",
       "        0.00000000e+00,  0.00000000e+00,  0.00000000e+00,  0.00000000e+00,\n",
       "        0.00000000e+00,  0.00000000e+00,  0.00000000e+00,  0.00000000e+00,\n",
       "        0.00000000e+00,  0.00000000e+00,  0.00000000e+00,  0.00000000e+00,\n",
       "        0.00000000e+00,  0.00000000e+00,  0.00000000e+00,  0.00000000e+00,\n",
       "        0.00000000e+00,  0.00000000e+00,  0.00000000e+00,  0.00000000e+00,\n",
       "        0.00000000e+00,  0.00000000e+00,  0.00000000e+00,  0.00000000e+00,\n",
       "        0.00000000e+00,  0.00000000e+00,  0.00000000e+00,  0.00000000e+00,\n",
       "        0.00000000e+00,  0.00000000e+00,  0.00000000e+00,  0.00000000e+00,\n",
       "        0.00000000e+00,  0.00000000e+00,  0.00000000e+00,  0.00000000e+00,\n",
       "        0.00000000e+00,  0.00000000e+00,  0.00000000e+00,  0.00000000e+00,\n",
       "        0.00000000e+00,  0.00000000e+00,  0.00000000e+00,  0.00000000e+00,\n",
       "        0.00000000e+00,  0.00000000e+00,  0.00000000e+00,  0.00000000e+00,\n",
       "        0.00000000e+00,  0.00000000e+00,  0.00000000e+00,  0.00000000e+00,\n",
       "        0.00000000e+00,  0.00000000e+00,  0.00000000e+00,  0.00000000e+00,\n",
       "        0.00000000e+00,  0.00000000e+00,  0.00000000e+00,  0.00000000e+00,\n",
       "        0.00000000e+00,  0.00000000e+00,  0.00000000e+00,  0.00000000e+00,\n",
       "        0.00000000e+00,  0.00000000e+00,  0.00000000e+00,  0.00000000e+00,\n",
       "        0.00000000e+00,  0.00000000e+00,  0.00000000e+00,  0.00000000e+00,\n",
       "        0.00000000e+00,  0.00000000e+00,  0.00000000e+00,  0.00000000e+00,\n",
       "        0.00000000e+00,  0.00000000e+00,  0.00000000e+00,  0.00000000e+00,\n",
       "        0.00000000e+00,  0.00000000e+00,  0.00000000e+00,  0.00000000e+00,\n",
       "        0.00000000e+00,  0.00000000e+00,  0.00000000e+00,  0.00000000e+00,\n",
       "        0.00000000e+00,  0.00000000e+00,  0.00000000e+00,  0.00000000e+00,\n",
       "        0.00000000e+00,  0.00000000e+00,  0.00000000e+00,  0.00000000e+00,\n",
       "        0.00000000e+00,  0.00000000e+00,  0.00000000e+00,  0.00000000e+00,\n",
       "        0.00000000e+00,  0.00000000e+00,  0.00000000e+00,  0.00000000e+00,\n",
       "        0.00000000e+00,  0.00000000e+00,  0.00000000e+00,  0.00000000e+00,\n",
       "        0.00000000e+00,  0.00000000e+00,  0.00000000e+00,  0.00000000e+00,\n",
       "        0.00000000e+00,  0.00000000e+00,  0.00000000e+00,  0.00000000e+00,\n",
       "        0.00000000e+00,  0.00000000e+00,  0.00000000e+00,  0.00000000e+00,\n",
       "        0.00000000e+00,  0.00000000e+00,  0.00000000e+00,  0.00000000e+00,\n",
       "        0.00000000e+00,  0.00000000e+00,  0.00000000e+00,  0.00000000e+00,\n",
       "        0.00000000e+00,  0.00000000e+00,  0.00000000e+00,  0.00000000e+00,\n",
       "        0.00000000e+00,  0.00000000e+00,  0.00000000e+00,  0.00000000e+00,\n",
       "        0.00000000e+00,  0.00000000e+00,  0.00000000e+00,  0.00000000e+00,\n",
       "        0.00000000e+00,  0.00000000e+00,  0.00000000e+00,  0.00000000e+00,\n",
       "        0.00000000e+00,  0.00000000e+00,  0.00000000e+00,  0.00000000e+00,\n",
       "        0.00000000e+00,  0.00000000e+00,  0.00000000e+00,  0.00000000e+00,\n",
       "        0.00000000e+00,  0.00000000e+00,  0.00000000e+00,  0.00000000e+00,\n",
       "        0.00000000e+00,  0.00000000e+00,  0.00000000e+00,  0.00000000e+00,\n",
       "        0.00000000e+00,  0.00000000e+00,  0.00000000e+00,  0.00000000e+00,\n",
       "        0.00000000e+00,  0.00000000e+00,  0.00000000e+00,  0.00000000e+00,\n",
       "        0.00000000e+00,  0.00000000e+00,  0.00000000e+00,  0.00000000e+00,\n",
       "        0.00000000e+00,  0.00000000e+00,  0.00000000e+00,  0.00000000e+00,\n",
       "        0.00000000e+00,  0.00000000e+00,  0.00000000e+00,  0.00000000e+00,\n",
       "        0.00000000e+00,  0.00000000e+00,  0.00000000e+00,  0.00000000e+00,\n",
       "        0.00000000e+00,  0.00000000e+00,  0.00000000e+00,  0.00000000e+00,\n",
       "        0.00000000e+00,  0.00000000e+00,  0.00000000e+00,  0.00000000e+00,\n",
       "        0.00000000e+00,  0.00000000e+00,  0.00000000e+00,  0.00000000e+00,\n",
       "        0.00000000e+00,  0.00000000e+00,  0.00000000e+00,  0.00000000e+00,\n",
       "        0.00000000e+00,  0.00000000e+00,  0.00000000e+00,  0.00000000e+00,\n",
       "        0.00000000e+00,  0.00000000e+00,  0.00000000e+00,  0.00000000e+00,\n",
       "        0.00000000e+00,  0.00000000e+00,  0.00000000e+00,  0.00000000e+00,\n",
       "       -1.27074828e+14, -1.27074828e+14, -1.27074828e+14, -1.27074828e+14])"
      ]
     },
     "execution_count": 39,
     "metadata": {},
     "output_type": "execute_result"
    }
   ],
   "source": [
    "gw_sol"
   ]
  },
  {
   "cell_type": "code",
   "execution_count": 40,
   "id": "20ba72ca-217d-4fd2-837a-755e8470b37c",
   "metadata": {},
   "outputs": [
    {
     "data": {
      "text/plain": [
       "<__main__.Tiles at 0x7fb7ee5e1b50>"
      ]
     },
     "execution_count": 40,
     "metadata": {},
     "output_type": "execute_result"
    }
   ],
   "source": [
    "gw_env.tiles"
   ]
  },
  {
   "cell_type": "code",
   "execution_count": 41,
   "id": "4a4a9c8f-b229-4841-b527-6eb9bccfae37",
   "metadata": {
    "scrolled": true
   },
   "outputs": [],
   "source": [
    "gw_eval_X, gw_eval_y = proj_obs_to_rwest_vec(gw_buffer, sample_size=10_000)"
   ]
  },
  {
   "cell_type": "code",
   "execution_count": 42,
   "id": "6bd0ec9b-d554-4b50-8cca-b587dac33706",
   "metadata": {},
   "outputs": [
    {
     "data": {
      "text/plain": [
       "array([-100.,   -1.])"
      ]
     },
     "execution_count": 42,
     "metadata": {},
     "output_type": "execute_result"
    }
   ],
   "source": [
    "np.unique(gw_eval_y)"
   ]
  },
  {
   "cell_type": "code",
   "execution_count": 43,
   "id": "c19de099-ed57-443c-931d-5c0b516fe4ee",
   "metadata": {},
   "outputs": [
    {
     "data": {
      "text/plain": [
       "((10000, 516), (10000,))"
      ]
     },
     "execution_count": 43,
     "metadata": {},
     "output_type": "execute_result"
    }
   ],
   "source": [
    "gw_eval_X.shape, gw_eval_y.shape"
   ]
  },
  {
   "cell_type": "code",
   "execution_count": 44,
   "id": "2a6769f5-5049-4f6f-bbb2-02d83023ee86",
   "metadata": {},
   "outputs": [
    {
     "data": {
      "text/plain": [
       "array([1.27074828e+14, 1.27074828e+14, 1.27074828e+14, 1.27074828e+14,\n",
       "       1.27074828e+14, 1.27074828e+14, 1.27074828e+14, 1.27074828e+14,\n",
       "       1.27074828e+14, 1.27074828e+14, 1.27074828e+14, 1.27074828e+14,\n",
       "       1.27074828e+14, 1.27074828e+14, 1.27074828e+14, 1.27074828e+14,\n",
       "       1.27074828e+14, 1.27074828e+14, 1.27074828e+14, 1.27074828e+14,\n",
       "       1.27074828e+14, 1.27074828e+14, 1.27074828e+14, 1.27074828e+14,\n",
       "       1.27074828e+14, 1.27074828e+14, 1.27074828e+14, 1.27074828e+14,\n",
       "       1.27074828e+14, 1.27074828e+14, 1.27074828e+14, 1.27074828e+14,\n",
       "       1.27074828e+14, 1.27074828e+14, 1.27074828e+14, 1.27074828e+14])"
      ]
     },
     "execution_count": 44,
     "metadata": {},
     "output_type": "execute_result"
    }
   ],
   "source": [
    "np.unique(np.around(np.matmul(gw_eval_X, gw_sol), 2))"
   ]
  },
  {
   "cell_type": "code",
   "execution_count": 45,
   "id": "3241131e-3e55-4868-abbf-c393bd394fa0",
   "metadata": {},
   "outputs": [
    {
     "data": {
      "text/plain": [
       "127074827774618.28"
      ]
     },
     "execution_count": 45,
     "metadata": {},
     "output_type": "execute_result"
    }
   ],
   "source": [
    "rmse(\n",
    "    v_pred=np.matmul(gw_eval_X, gw_sol), \n",
    "    v_true=gw_eval_y,\n",
    "    axis=0\n",
    ")"
   ]
  },
  {
   "cell_type": "code",
   "execution_count": 46,
   "id": "7386cb23-a3ff-445e-8be0-55d1197d90f7",
   "metadata": {},
   "outputs": [
    {
     "data": {
      "image/png": "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",
      "text/plain": [
       "<Figure size 600x600 with 1 Axes>"
      ]
     },
     "metadata": {},
     "output_type": "display_data"
    }
   ],
   "source": [
    "rwe_scatterplot(\n",
    "    v_pred=np.matmul(gw_eval_X, gw_sol), \n",
    "    v_true=gw_eval_y\n",
    ")"
   ]
  },
  {
   "cell_type": "markdown",
   "id": "8048df57-e360-4151-a154-02862192e1be",
   "metadata": {},
   "source": [
    "The error here is neligible, which is promising compare to Gaussian Mixture."
   ]
  },
  {
   "cell_type": "markdown",
   "id": "2a5941c2-9060-4d0d-9a34-a04d75b8916b",
   "metadata": {},
   "source": [
    "### RedGreen"
   ]
  },
  {
   "cell_type": "code",
   "execution_count": 47,
   "id": "16d7f90b-2f21-49c6-beb1-b501a233737c",
   "metadata": {},
   "outputs": [],
   "source": [
    "class RGObsWrapper(gym.ObservationWrapper):\n",
    "    def __init__(self, env, tiling_dim: int, num_tilings: int = None):\n",
    "        super().__init__(env)\n",
    "        self.tiles = Tiles(\n",
    "                np.array([0], np.int32),\n",
    "                np.array(\n",
    "                    [env.observation_space[\"pos\"].n]\n",
    "                ),\n",
    "                tiling_dim=tiling_dim,\n",
    "                num_tilings=num_tilings\n",
    "            )\n",
    "        self.observation_space = gym.spaces.Box(\n",
    "            low=np.zeros(shape=self.tiles.max_size, dtype=np.int32), \n",
    "            high=np.ones(shape=self.tiles.max_size, dtype=np.int32)\n",
    "        )\n",
    "\n",
    "    def observation(self, obs):\n",
    "        return self.tiles(obs[\"pos\"])"
   ]
  },
  {
   "cell_type": "code",
   "execution_count": 48,
   "id": "61a322c4-b2a4-4594-b8fc-bbf7e37182c5",
   "metadata": {},
   "outputs": [
    {
     "name": "stdout",
     "output_type": "stream",
     "text": [
      "Num tilings 4 \n",
      " Flat dim: 8\n"
     ]
    }
   ],
   "source": [
    "rg_env = RGObsWrapper(\n",
    "    redgreen.RedGreenSeq([\"red\", \"green\", \"red\", \"green\", \"wait\", \"green\"]),\n",
    "    tiling_dim=2\n",
    ")\n",
    "rg_buffer, rg_sol = solve_rwe(\n",
    "    rg_env,\n",
    "    num_steps=150_000, \n",
    "    sample_size=50_000,\n",
    "    delay=2,\n",
    ")"
   ]
  },
  {
   "cell_type": "code",
   "execution_count": 49,
   "id": "65965db4-5a93-4ffa-94cc-218ee947ecec",
   "metadata": {},
   "outputs": [
    {
     "data": {
      "text/plain": [
       "array([1., 1., 1., 1., 0., 0., 0., 0.])"
      ]
     },
     "execution_count": 49,
     "metadata": {},
     "output_type": "execute_result"
    }
   ],
   "source": [
    "rg_buffer[0][0]"
   ]
  },
  {
   "cell_type": "code",
   "execution_count": 50,
   "id": "9103a7b7-e7af-47fc-a13d-f094449a6614",
   "metadata": {},
   "outputs": [
    {
     "data": {
      "text/plain": [
       "array([-1.])"
      ]
     },
     "execution_count": 50,
     "metadata": {},
     "output_type": "execute_result"
    }
   ],
   "source": [
    "np.unique([np.around(ex[2], 2) for ex in rg_buffer])"
   ]
  },
  {
   "cell_type": "code",
   "execution_count": 51,
   "id": "6a7f0308-ee7f-46ad-bb0a-51876f714f2c",
   "metadata": {},
   "outputs": [
    {
     "data": {
      "text/plain": [
       "<__main__.Tiles at 0x7fb7f46527d0>"
      ]
     },
     "execution_count": 51,
     "metadata": {},
     "output_type": "execute_result"
    }
   ],
   "source": [
    "rg_env.tiles"
   ]
  },
  {
   "cell_type": "code",
   "execution_count": 52,
   "id": "4d3d81c5-20c3-40b7-93cf-8edbc18d9f61",
   "metadata": {},
   "outputs": [
    {
     "data": {
      "text/plain": [
       "array([-0.65723448, -0.57654429, -0.13909771, -0.60006459, -0.60006459,\n",
       "       -0.13909771, -0.57654429, -0.65723448,  0.97294107,  0.97294107,\n",
       "        0.97294107])"
      ]
     },
     "execution_count": 52,
     "metadata": {},
     "output_type": "execute_result"
    }
   ],
   "source": [
    "rg_sol"
   ]
  },
  {
   "cell_type": "code",
   "execution_count": 53,
   "id": "c0a6d48a-2aed-4f5f-93ba-94e027afb9ad",
   "metadata": {},
   "outputs": [],
   "source": [
    "rg_eval_X, rg_eval_y = proj_obs_to_rwest_vec(rg_buffer, sample_size=10_000)"
   ]
  },
  {
   "cell_type": "code",
   "execution_count": 54,
   "id": "7d351396-e117-4d31-9dc3-8a8b3425a48a",
   "metadata": {},
   "outputs": [
    {
     "data": {
      "text/plain": [
       "((10000, 11), (10000,))"
      ]
     },
     "execution_count": 54,
     "metadata": {},
     "output_type": "execute_result"
    }
   ],
   "source": [
    "rg_eval_X.shape, rg_eval_y.shape"
   ]
  },
  {
   "cell_type": "code",
   "execution_count": 55,
   "id": "75fc8d23-140f-4360-a5be-79136af1457d",
   "metadata": {},
   "outputs": [
    {
     "data": {
      "text/plain": [
       "array([-1.97294107, -1.97294107, -1.97294107, ..., -1.97294107,\n",
       "       -1.97294107, -1.97294107])"
      ]
     },
     "execution_count": 55,
     "metadata": {},
     "output_type": "execute_result"
    }
   ],
   "source": [
    "np.matmul(rg_eval_X, rg_sol)"
   ]
  },
  {
   "cell_type": "code",
   "execution_count": 56,
   "id": "d52a6267-6968-4a54-a462-6cbc8fb2b20a",
   "metadata": {},
   "outputs": [
    {
     "data": {
      "text/plain": [
       "0.9729410704489385"
      ]
     },
     "execution_count": 56,
     "metadata": {},
     "output_type": "execute_result"
    }
   ],
   "source": [
    "rmse(\n",
    "    v_pred=np.matmul(rg_eval_X, rg_sol), \n",
    "    v_true=rg_eval_y,\n",
    "    axis=0\n",
    ")"
   ]
  },
  {
   "cell_type": "markdown",
   "id": "d3702dfd-e7bd-4ef4-ac73-cdd236ba7036",
   "metadata": {},
   "source": [
    "## Conclusions"
   ]
  },
  {
   "cell_type": "markdown",
   "id": "11e4deaa-609a-4158-86c8-60b8e17d8f13",
   "metadata": {},
   "source": [
    "\n",
    "  - Using one-hot-encoding of the action keeps $(s,a)$ action representations entangled. This in turn makes learning challenging with a linear approximators.\n",
    "  - The results are worse when rewards are a non-constant random variable."
   ]
  }
 ],
 "metadata": {
  "kernelspec": {
   "display_name": "Python 3 (ipykernel)",
   "language": "python",
   "name": "python3"
  },
  "language_info": {
   "codemirror_mode": {
    "name": "ipython",
    "version": 3
   },
   "file_extension": ".py",
   "mimetype": "text/x-python",
   "name": "python",
   "nbconvert_exporter": "python",
   "pygments_lexer": "ipython3",
   "version": "3.11.11"
  }
 },
 "nbformat": 4,
 "nbformat_minor": 5
}
