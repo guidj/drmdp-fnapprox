{
 "cells": [
  {
   "cell_type": "code",
   "execution_count": 1,
   "id": "bd62bad9-4768-48e1-b936-7047fe492b7c",
   "metadata": {},
   "outputs": [],
   "source": [
    "import itertools\n",
    "import math\n",
    "from typing import List, Optional, Sequence, Union\n",
    "\n",
    "import numpy as np"
   ]
  },
  {
   "cell_type": "code",
   "execution_count": 2,
   "id": "b392988c-2081-4969-b1b2-d75d8bf0b760",
   "metadata": {},
   "outputs": [],
   "source": [
    "basehash = hash\n",
    "\n",
    "\n",
    "class Tiles:\n",
    "    def __init__(\n",
    "        self,\n",
    "        dims_min: np.ndarray,\n",
    "        dims_max: np.ndarray,\n",
    "        tiling_dim: int,\n",
    "        num_tilings: Optional[int] = None,\n",
    "    ):\n",
    "        assert isinstance(dims_min, np.ndarray)\n",
    "        assert isinstance(dims_max, np.ndarray)\n",
    "        self.dims_max = dims_max\n",
    "        self.dims_min = dims_min\n",
    "        self.tiling_dim = tiling_dim\n",
    "        self.wrapwidths = [tiling_dim] * np.size(dims_min)\n",
    "\n",
    "        # num tilings should a power of 2\n",
    "        # and at least 4 times greater than\n",
    "        # the number of dimensions\n",
    "        self.num_tilings = num_tilings or pow2geq(np.size(dims_min) * 4)\n",
    "        self.max_size = (tiling_dim ** np.size(dims_min)) * self.num_tilings\n",
    "        print(\"Num tilings\", self.num_tilings, \"\\n\", \"Flat dim:\", self.max_size)\n",
    "        self.iht = IHT(self.max_size)\n",
    "\n",
    "    def __call__(self, xs):\n",
    "        xs_scaled_01 = (xs - self.dims_min) / (self.dims_max - self.dims_min)\n",
    "        repr_ = np.zeros(shape=self.max_size)\n",
    "        idx = tileswrap(\n",
    "            self.iht, self.num_tilings, xs_scaled_01 * self.tiling_dim, self.wrapwidths\n",
    "        )\n",
    "        repr_[idx] = 1\n",
    "        return repr_\n",
    "\n",
    "\n",
    "class IHT:\n",
    "    \"\"\"\n",
    "    Structure to handle collisions\n",
    "    Source: http://incompleteideas.net/tiles/tiles3.html\n",
    "\n",
    "    \"\"\"\n",
    "\n",
    "    def __init__(self, sizeval):\n",
    "        self.size = sizeval\n",
    "        self.overfullCount = 0\n",
    "        self.dictionary = {}\n",
    "\n",
    "    def __str__(self):\n",
    "        \"Prepares a string for printing whenever this object is printed\"\n",
    "        return (\n",
    "            \"Collision table:\"\n",
    "            + \" size:\"\n",
    "            + str(self.size)\n",
    "            + \" overfullCount:\"\n",
    "            + str(self.overfullCount)\n",
    "            + \" dictionary:\"\n",
    "            + str(len(self.dictionary))\n",
    "            + \" items\"\n",
    "        )\n",
    "\n",
    "    def count(self):\n",
    "        return len(self.dictionary)\n",
    "\n",
    "    def fullp(self):\n",
    "        return len(self.dictionary) >= self.size\n",
    "\n",
    "    def getindex(self, obj, readonly=False):\n",
    "        d = self.dictionary\n",
    "        if obj in d:\n",
    "            return d[obj]\n",
    "        elif readonly:\n",
    "            return None\n",
    "        size = self.size\n",
    "        count = self.count()\n",
    "        if count >= size:\n",
    "            # TODO: Fail\n",
    "            if self.overfullCount == 0:\n",
    "                print(\"IHT full, starting to allow collisions\")\n",
    "            self.overfullCount += 1\n",
    "            return basehash(obj) % self.size\n",
    "        else:\n",
    "            d[obj] = count\n",
    "            return count\n",
    "\n",
    "\n",
    "def hashcoords(coordinates, m, readonly=False):\n",
    "    if isinstance(m, IHT):\n",
    "        return m.getindex(tuple(coordinates), readonly)\n",
    "    if isinstance(m, int):\n",
    "        return basehash(tuple(coordinates)) % m\n",
    "    if m is None:\n",
    "        return coordinates\n",
    "\n",
    "\n",
    "def tiles(\n",
    "    ihtORsize: Union[IHT, int, None],\n",
    "    numtilings: int,\n",
    "    floats: List[float],\n",
    "    ints: List[int] = [],\n",
    "    readonly: bool = False,\n",
    ") -> List[int]:\n",
    "    \"\"\"returns num-tilings tile indices corresponding to the floats and ints\"\"\"\n",
    "    qfloats = [math.floor(f * numtilings) for f in floats]\n",
    "    tiles_ = []\n",
    "    for tiling in range(numtilings):\n",
    "        tiling_x2 = tiling * 2\n",
    "        coords = [tiling]\n",
    "        b = tiling\n",
    "        for q in qfloats:\n",
    "            coords.append((q + b) // numtilings)\n",
    "            b += tiling_x2\n",
    "        coords.extend(ints)\n",
    "        tiles_.append(hashcoords(coords, ihtORsize, readonly))\n",
    "    return tiles_\n",
    "\n",
    "\n",
    "def tileswrap(\n",
    "    ihtORsize: Union[IHT, int, None],\n",
    "    numtilings: int,\n",
    "    floats: Sequence[float],\n",
    "    wrapwidths: Sequence[int],\n",
    "    ints: Sequence[int] = [],\n",
    "    readonly: bool = False,\n",
    ") -> Sequence[int]:\n",
    "    \"\"\"returns num-tilings tile indices corresponding to the floats and ints, wrapping some floats\"\"\"\n",
    "    qfloats = [math.floor(f * numtilings) for f in floats]\n",
    "    tiles_ = []\n",
    "    for tiling in range(numtilings):\n",
    "        tiling_x2 = tiling * 2\n",
    "        coords = [tiling]\n",
    "        b = tiling\n",
    "        for q, width in itertools.zip_longest(qfloats, wrapwidths):\n",
    "            c = (q + b % numtilings) // numtilings\n",
    "            coords.append(c % width if width else c)\n",
    "            b += tiling_x2\n",
    "        coords.extend(ints)\n",
    "        tiles_.append(hashcoords(coords, ihtORsize, readonly))\n",
    "    return tiles_\n",
    "\n",
    "\n",
    "def pow2geq(lb: int) -> int:\n",
    "    exp = 1\n",
    "    rs = 1\n",
    "    while True:\n",
    "        rs = 2**exp\n",
    "        if rs >= lb:\n",
    "            break\n",
    "        exp += 1\n",
    "    return rs\n"
   ]
  },
  {
   "cell_type": "code",
   "execution_count": 3,
   "id": "f68a1682-6574-4239-9ea6-9d4663c38a2c",
   "metadata": {},
   "outputs": [
    {
     "name": "stdout",
     "output_type": "stream",
     "text": [
      "[0 0 1 0 1]\n",
      "[1 0 1]\n"
     ]
    }
   ],
   "source": [
    "def bits_required(n: int) -> int:\n",
    "    \"\"\"\n",
    "    Returns the number of bits required to represent an integer in binary\n",
    "    \"\"\"\n",
    "    if n == 0:\n",
    "        return 1\n",
    "    return len(bin(abs(n))[2:]) \n",
    "\n",
    "\n",
    "def int_to_binary_array(n: int, width: Optional[int] = None) -> np.ndarray:\n",
    "    if width is None:\n",
    "        width = bits_required(n)\n",
    "        \n",
    "    binary = np.zeros(width, dtype=np.int8)\n",
    "    n = abs(n)  # Handle negative numbers\n",
    "    \n",
    "    # Get binary digits\n",
    "    digits = []\n",
    "    while n:\n",
    "        digits.append(n & 1)\n",
    "        n >>= 1\n",
    "        \n",
    "    # Pad with zeros if needed\n",
    "    digits.extend([0] * (width - len(digits)))\n",
    "    \n",
    "    # Take only width digits and reverse to get proper order\n",
    "    binary[:] = digits[:width][::-1]\n",
    "    \n",
    "    return binary\n",
    "\n",
    "print(int_to_binary_array(5, width=5))\n",
    "print(int_to_binary_array(5))"
   ]
  },
  {
   "cell_type": "code",
   "execution_count": 4,
   "id": "9a0c9e96-8794-43e8-bc81-04ac87b5b620",
   "metadata": {},
   "outputs": [
    {
     "name": "stdout",
     "output_type": "stream",
     "text": [
      "(0, 0, 1, 0, 1)\n"
     ]
    }
   ],
   "source": [
    "def interger_to_sequence(\n",
    "    space_size: int, sequence_length: int, index: int\n",
    ") -> Sequence[int]:\n",
    "    \"\"\"\n",
    "    Uses the positional system of integers to generate a unique\n",
    "    sequence of numbers given represetation integer - `index`.\n",
    "\n",
    "    Based on https://2ality.com/2013/03/permutations.html.\n",
    "\n",
    "    Args:\n",
    "        space_size: the number of possible digits\n",
    "        sequence_length: the length of the sequence of digits.\n",
    "        index: the index of the unique sequence.\n",
    "    \"\"\"\n",
    "    xs = []\n",
    "    for pw in reversed(range(sequence_length)):\n",
    "        if pw == 0:\n",
    "            xs.append(index)\n",
    "        else:\n",
    "            mult = space_size**pw\n",
    "            digit = math.floor(index / mult)\n",
    "            xs.append(digit)\n",
    "            index = index % mult\n",
    "    return tuple(xs)\n",
    "\n",
    "print(interger_to_sequence(2, 5, 5))"
   ]
  },
  {
   "cell_type": "code",
   "execution_count": 5,
   "id": "ed42de2b-ad57-4bc0-9610-d6cce10b10a4",
   "metadata": {},
   "outputs": [
    {
     "name": "stdout",
     "output_type": "stream",
     "text": [
      "2 64\n",
      "3 512\n",
      "4 4096\n",
      "5 32768\n",
      "6 262144\n",
      "7 2097152\n",
      "8 16777216\n",
      "9 134217728\n"
     ]
    },
    {
     "data": {
      "text/plain": [
       "28"
      ]
     },
     "execution_count": 5,
     "metadata": {},
     "output_type": "execute_result"
    }
   ],
   "source": [
    "size = 0\n",
    "delay = 10\n",
    "for i in range(2, 10):\n",
    "    n = 8 ** i\n",
    "    size += n\n",
    "    print(i, n)\n",
    "\n",
    "\n",
    "bits_required(size)"
   ]
  },
  {
   "cell_type": "code",
   "execution_count": 6,
   "id": "78c2197b-7a12-4d77-b9f3-9f17b88f49f1",
   "metadata": {},
   "outputs": [],
   "source": [
    "min_delay, max_delay = 2, 6 # for options\n",
    "num_actions = 8\n",
    "actions = tuple(range(num_actions))"
   ]
  },
  {
   "cell_type": "code",
   "execution_count": 7,
   "id": "739437a2-c401-47fe-ba13-19f40caa731f",
   "metadata": {},
   "outputs": [
    {
     "data": {
      "text/plain": [
       "{2: 64, 3: 512, 4: 4096, 5: 32768}"
      ]
     },
     "execution_count": 7,
     "metadata": {},
     "output_type": "execute_result"
    }
   ],
   "source": [
    "options_mapping = {\n",
    "    length:  len(actions) ** length for length in range(min_delay, max_delay)\n",
    "}\n",
    "options_mapping"
   ]
  },
  {
   "cell_type": "code",
   "execution_count": 8,
   "id": "dec4caf4-23b6-4cfd-b861-c5bced3a95a7",
   "metadata": {},
   "outputs": [
    {
     "data": {
      "text/plain": [
       "37440"
      ]
     },
     "execution_count": 8,
     "metadata": {},
     "output_type": "execute_result"
    }
   ],
   "source": [
    "num_options = sum(value for value in options_mapping.values())\n",
    "num_options"
   ]
  },
  {
   "cell_type": "code",
   "execution_count": 9,
   "id": "0952d44d-fb44-4898-abd8-891d31c7fafd",
   "metadata": {},
   "outputs": [
    {
     "name": "stdout",
     "output_type": "stream",
     "text": [
      "32\n"
     ]
    },
    {
     "data": {
      "text/plain": [
       "4096"
      ]
     },
     "execution_count": 9,
     "metadata": {},
     "output_type": "execute_result"
    }
   ],
   "source": [
    "tiling_dim = 2\n",
    "obs_dim = 1 + max_delay\n",
    "num_tilings = pow2geq(obs_dim * 4)\n",
    "print(num_tilings)\n",
    "max_size = (\n",
    "    (tiling_dim ** obs_dim) * num_tilings\n",
    ")\n",
    "max_size"
   ]
  },
  {
   "cell_type": "code",
   "execution_count": 10,
   "id": "91eb2568-a450-4910-9acf-501a54ed937d",
   "metadata": {},
   "outputs": [
    {
     "data": {
      "text/plain": [
       "array([[1, 5],\n",
       "       [2, 6],\n",
       "       [3, 7]])"
      ]
     },
     "execution_count": 10,
     "metadata": {},
     "output_type": "execute_result"
    }
   ],
   "source": [
    "xs = np.array([1, 2, 3])\n",
    "ys = np.array([5, 6, 7])\n",
    "np.concatenate([xs[:,None], ys[:,None]], axis=1)"
   ]
  },
  {
   "cell_type": "code",
   "execution_count": 11,
   "id": "6d01ce38-5413-4aaa-a942-26935b385c1c",
   "metadata": {},
   "outputs": [
    {
     "data": {
      "text/plain": [
       "131072"
      ]
     },
     "execution_count": 11,
     "metadata": {},
     "output_type": "execute_result"
    }
   ],
   "source": [
    "2**17\n"
   ]
  },
  {
   "cell_type": "code",
   "execution_count": 12,
   "id": "0cb6b784-fb80-43b9-9a23-403bbd6cb30e",
   "metadata": {},
   "outputs": [
    {
     "name": "stdout",
     "output_type": "stream",
     "text": [
      "457.763671875\n"
     ]
    }
   ],
   "source": [
    "b = np.random.rand(150000, 400)\n",
    "print(b.nbytes / 1024 / 1024)"
   ]
  },
  {
   "cell_type": "code",
   "execution_count": 13,
   "id": "97c88254-4d67-4bc4-86b2-26a840f4377f",
   "metadata": {},
   "outputs": [
    {
     "data": {
      "text/plain": [
       "array([[0, 1, 2],\n",
       "       [0, 1, 2],\n",
       "       [0, 1, 2],\n",
       "       [0, 1, 2],\n",
       "       [0, 1, 2],\n",
       "       [0, 1, 2],\n",
       "       [0, 1, 2],\n",
       "       [0, 1, 2],\n",
       "       [0, 1, 2],\n",
       "       [0, 1, 2],\n",
       "       [0, 1, 2],\n",
       "       [0, 1, 2],\n",
       "       [0, 1, 2],\n",
       "       [0, 1, 2],\n",
       "       [0, 1, 2],\n",
       "       [0, 1, 2],\n",
       "       [0, 1, 2],\n",
       "       [0, 1, 2],\n",
       "       [0, 1, 2],\n",
       "       [0, 1, 2],\n",
       "       [0, 1, 2],\n",
       "       [0, 1, 2],\n",
       "       [0, 1, 2],\n",
       "       [0, 1, 2],\n",
       "       [0, 1, 2],\n",
       "       [0, 1, 2],\n",
       "       [0, 1, 2],\n",
       "       [0, 1, 2],\n",
       "       [0, 1, 2],\n",
       "       [0, 1, 2],\n",
       "       [0, 1, 2],\n",
       "       [0, 1, 2],\n",
       "       [0, 1, 2],\n",
       "       [0, 1, 2],\n",
       "       [0, 1, 2],\n",
       "       [0, 1, 2],\n",
       "       [0, 1, 2],\n",
       "       [0, 1, 2],\n",
       "       [0, 1, 2],\n",
       "       [0, 1, 2],\n",
       "       [0, 1, 2],\n",
       "       [0, 1, 2],\n",
       "       [0, 1, 2],\n",
       "       [0, 1, 2],\n",
       "       [0, 1, 2],\n",
       "       [0, 1, 2],\n",
       "       [0, 1, 2],\n",
       "       [0, 1, 2],\n",
       "       [0, 1, 2],\n",
       "       [0, 1, 2],\n",
       "       [0, 1, 2],\n",
       "       [0, 1, 2],\n",
       "       [0, 1, 2],\n",
       "       [0, 1, 2],\n",
       "       [0, 1, 2],\n",
       "       [0, 1, 2],\n",
       "       [0, 1, 2],\n",
       "       [0, 1, 2],\n",
       "       [0, 1, 2],\n",
       "       [0, 1, 2],\n",
       "       [0, 1, 2],\n",
       "       [0, 1, 2],\n",
       "       [0, 1, 2],\n",
       "       [0, 1, 2],\n",
       "       [0, 1, 2],\n",
       "       [0, 1, 2],\n",
       "       [0, 1, 2],\n",
       "       [0, 1, 2],\n",
       "       [0, 1, 2],\n",
       "       [0, 1, 2],\n",
       "       [0, 1, 2],\n",
       "       [0, 1, 2],\n",
       "       [0, 1, 2],\n",
       "       [0, 1, 2],\n",
       "       [0, 1, 2],\n",
       "       [0, 1, 2],\n",
       "       [0, 1, 2],\n",
       "       [0, 1, 2],\n",
       "       [0, 1, 2],\n",
       "       [0, 1, 2],\n",
       "       [0, 1, 2],\n",
       "       [0, 1, 2],\n",
       "       [0, 1, 2],\n",
       "       [0, 1, 2],\n",
       "       [0, 1, 2],\n",
       "       [0, 1, 2],\n",
       "       [0, 1, 2],\n",
       "       [0, 1, 2],\n",
       "       [0, 1, 2],\n",
       "       [0, 1, 2],\n",
       "       [0, 1, 2],\n",
       "       [0, 1, 2],\n",
       "       [0, 1, 2],\n",
       "       [0, 1, 2],\n",
       "       [0, 1, 2],\n",
       "       [0, 1, 2],\n",
       "       [0, 1, 2],\n",
       "       [0, 1, 2],\n",
       "       [0, 1, 2],\n",
       "       [0, 1, 2]])"
      ]
     },
     "execution_count": 13,
     "metadata": {},
     "output_type": "execute_result"
    }
   ],
   "source": [
    "a = np.array([0, 1, 2])\n",
    "\n",
    "np.tile(a, (100,1))"
   ]
  }
 ],
 "metadata": {
  "kernelspec": {
   "display_name": "Python 3 (ipykernel)",
   "language": "python",
   "name": "python3"
  },
  "language_info": {
   "codemirror_mode": {
    "name": "ipython",
    "version": 3
   },
   "file_extension": ".py",
   "mimetype": "text/x-python",
   "name": "python",
   "nbconvert_exporter": "python",
   "pygments_lexer": "ipython3",
   "version": "3.11.11"
  }
 },
 "nbformat": 4,
 "nbformat_minor": 5
}
