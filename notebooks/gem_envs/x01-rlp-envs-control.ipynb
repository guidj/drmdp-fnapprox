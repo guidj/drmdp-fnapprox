{
 "cells": [
  {
   "cell_type": "code",
   "execution_count": 1,
   "id": "5483261d-7abb-4f26-990a-4c81cd8c115b",
   "metadata": {},
   "outputs": [],
   "source": [
    "import copy"
   ]
  },
  {
   "cell_type": "code",
   "execution_count": 2,
   "id": "ec4881cb-f53a-4b02-a06a-087145effdc7",
   "metadata": {},
   "outputs": [],
   "source": [
    "from gym_electric_motor import reward_functions\n",
    "import pandas as pd\n",
    "import numpy as np"
   ]
  },
  {
   "cell_type": "code",
   "execution_count": 3,
   "id": "9f32eb10-e92b-44d6-83f3-4f71e4227b73",
   "metadata": {},
   "outputs": [],
   "source": [
    "import seaborn as sns\n",
    "import matplotlib as mpl\n",
    "from matplotlib import pyplot as plt"
   ]
  },
  {
   "cell_type": "code",
   "execution_count": 4,
   "id": "4d3e52cd-2254-4dd1-b3c5-baedc7dea0bb",
   "metadata": {},
   "outputs": [],
   "source": [
    "from drmdp import feats, task\n",
    "from drmdp.envs import gympg"
   ]
  },
  {
   "cell_type": "markdown",
   "id": "1cf96601-e3d9-4ac8-b3b7-dc5a2f421654",
   "metadata": {},
   "source": [
    "## Control: Current Impl"
   ]
  },
  {
   "cell_type": "code",
   "execution_count": 5,
   "id": "a7cf42e9-16c8-4c3a-8ced-d66a5e34110a",
   "metadata": {},
   "outputs": [],
   "source": [
    "MAX_STEPS = 1000"
   ]
  },
  {
   "cell_type": "code",
   "execution_count": 6,
   "id": "1f4a1de1-4be5-448c-b455-a2cab7d40442",
   "metadata": {},
   "outputs": [],
   "source": [
    "env = gympg.make(\"MountainCar-v0\", max_episode_steps=2500)"
   ]
  },
  {
   "cell_type": "code",
   "execution_count": 7,
   "id": "72a5d472-de42-454d-955e-d5b8fe7c141b",
   "metadata": {},
   "outputs": [
    {
     "data": {
      "text/plain": [
       "(<EnvMonitorWrapper<TimeLimit<OrderEnforcing<PassiveEnvChecker<MountainCarEnv<MountainCar-v0>>>>>>,\n",
       " <drmdp.core.EnvMonitor at 0x31fe9a350>)"
      ]
     },
     "execution_count": 7,
     "metadata": {},
     "output_type": "execute_result"
    }
   ],
   "source": [
    "env, monitor = task.monitor_wrapper(env)\n",
    "env, monitor"
   ]
  },
  {
   "cell_type": "code",
   "execution_count": 8,
   "id": "67a4a14f-a13e-41fb-84ef-246921850a30",
   "metadata": {},
   "outputs": [],
   "source": [
    "rew_delay = task.reward_delay_distribution(\n",
    "    # {\"name\": \"fixed\", \"args\": {\"delay\": 8}}\n",
    "    None\n",
    ")"
   ]
  },
  {
   "cell_type": "code",
   "execution_count": 9,
   "id": "2b33ff57-e58e-46d5-b413-5301b3b8805d",
   "metadata": {},
   "outputs": [],
   "source": [
    "rew_delay"
   ]
  },
  {
   "cell_type": "code",
   "execution_count": 10,
   "id": "32fcfce0-3f2c-441e-8a61-1c4f9962d858",
   "metadata": {},
   "outputs": [
    {
     "data": {
      "text/plain": [
       "<EnvMonitorWrapper<TimeLimit<OrderEnforcing<PassiveEnvChecker<MountainCarEnv<MountainCar-v0>>>>>>"
      ]
     },
     "execution_count": 10,
     "metadata": {},
     "output_type": "execute_result"
    }
   ],
   "source": [
    "env = task.delay_wrapper(env, rew_delay)\n",
    "env"
   ]
  },
  {
   "cell_type": "code",
   "execution_count": 11,
   "id": "a5260150-ebaf-4683-b7b5-022ced37166b",
   "metadata": {},
   "outputs": [],
   "source": [
    "feats_spec = {\"name\": \"tiles\", \"args\": {\"tiling_dim\": 6}}"
   ]
  },
  {
   "cell_type": "code",
   "execution_count": 12,
   "id": "5a64b7ab-67e1-424c-9f7f-8ab760f8edbb",
   "metadata": {},
   "outputs": [
    {
     "data": {
      "text/plain": [
       "<EnvMonitorWrapper<TimeLimit<OrderEnforcing<PassiveEnvChecker<MountainCarEnv<MountainCar-v0>>>>>>"
      ]
     },
     "execution_count": 12,
     "metadata": {},
     "output_type": "execute_result"
    }
   ],
   "source": [
    "env = task.reward_mapper(\n",
    "    env,\n",
    "    mapping_spec={\"name\": \"identity\", \"args\": None},\n",
    "    feats_spec=feats_spec,\n",
    ")\n",
    "env"
   ]
  },
  {
   "cell_type": "code",
   "execution_count": 13,
   "id": "39ab7444-0b9e-489a-aa83-767219835bb7",
   "metadata": {},
   "outputs": [
    {
     "data": {
      "text/plain": [
       "<drmdp.feats.TileFeatTransform at 0x3279977d0>"
      ]
     },
     "execution_count": 13,
     "metadata": {},
     "output_type": "execute_result"
    }
   ],
   "source": [
    "feats_tfx = feats.create_feat_transformer(env=env, **feats_spec)\n",
    "feats_tfx"
   ]
  },
  {
   "cell_type": "markdown",
   "id": "33d36c14-1ff1-4e65-ad18-7fb2657c93d8",
   "metadata": {},
   "source": [
    "## Uniform Random Policy"
   ]
  },
  {
   "cell_type": "code",
   "execution_count": 14,
   "id": "50fcfc9d-b4cf-4003-a326-949d056f34e3",
   "metadata": {},
   "outputs": [
    {
     "name": "stdout",
     "output_type": "stream",
     "text": [
      "Turn: 0\n",
      "Episode: 0; Steps: 2500, Mean returns: -2500.0;\n"
     ]
    },
    {
     "name": "stderr",
     "output_type": "stream",
     "text": [
      "2025-04-08 16:17:58,247 INFO root: Episode 100 mean returns: -2496.810000\n"
     ]
    },
    {
     "name": "stdout",
     "output_type": "stream",
     "text": [
      "Episode: 100; Steps: 2500, Mean returns: -2496.841584158416;\n"
     ]
    },
    {
     "name": "stderr",
     "output_type": "stream",
     "text": [
      "2025-04-08 16:18:09,061 INFO root: Episode 200 mean returns: -2493.880000\n"
     ]
    },
    {
     "name": "stdout",
     "output_type": "stream",
     "text": [
      "Episode: 200; Steps: 2500, Mean returns: -2493.910447761194;\n"
     ]
    },
    {
     "name": "stderr",
     "output_type": "stream",
     "text": [
      "2025-04-08 16:18:19,846 INFO root: Episode 300 mean returns: -2490.700000\n"
     ]
    },
    {
     "name": "stdout",
     "output_type": "stream",
     "text": [
      "Episode: 300; Steps: 2500, Mean returns: -2490.7308970099666;\n"
     ]
    },
    {
     "name": "stderr",
     "output_type": "stream",
     "text": [
      "2025-04-08 16:18:30,504 INFO root: Episode 400 mean returns: -2488.702500\n"
     ]
    },
    {
     "name": "stdout",
     "output_type": "stream",
     "text": [
      "Episode: 400; Steps: 2500, Mean returns: -2488.7306733167084;\n"
     ]
    },
    {
     "name": "stderr",
     "output_type": "stream",
     "text": [
      "2025-04-08 16:18:41,187 INFO root: Episode 500 mean returns: -2487.132000\n"
     ]
    },
    {
     "name": "stdout",
     "output_type": "stream",
     "text": [
      "Turn: 1\n",
      "Episode: 0; Steps: 2500, Mean returns: -2500.0;\n"
     ]
    },
    {
     "name": "stderr",
     "output_type": "stream",
     "text": [
      "2025-04-08 16:18:51,949 INFO root: Episode 100 mean returns: -2495.600000\n"
     ]
    },
    {
     "name": "stdout",
     "output_type": "stream",
     "text": [
      "Episode: 100; Steps: 2500, Mean returns: -2495.6435643564355;\n"
     ]
    },
    {
     "name": "stderr",
     "output_type": "stream",
     "text": [
      "2025-04-08 16:19:02,692 INFO root: Episode 200 mean returns: -2497.800000\n"
     ]
    },
    {
     "name": "stdout",
     "output_type": "stream",
     "text": [
      "Episode: 200; Steps: 2500, Mean returns: -2497.8109452736317;\n"
     ]
    },
    {
     "name": "stderr",
     "output_type": "stream",
     "text": [
      "2025-04-08 16:19:13,266 INFO root: Episode 300 mean returns: -2488.063333\n"
     ]
    },
    {
     "name": "stdout",
     "output_type": "stream",
     "text": [
      "Episode: 300; Steps: 2500, Mean returns: -2488.102990033223;\n"
     ]
    },
    {
     "name": "stderr",
     "output_type": "stream",
     "text": [
      "2025-04-08 16:19:23,929 INFO root: Episode 400 mean returns: -2489.780000\n"
     ]
    },
    {
     "name": "stdout",
     "output_type": "stream",
     "text": [
      "Episode: 400; Steps: 2500, Mean returns: -2489.805486284289;\n"
     ]
    },
    {
     "name": "stderr",
     "output_type": "stream",
     "text": [
      "2025-04-08 16:19:34,644 INFO root: Episode 500 mean returns: -2489.776000\n"
     ]
    },
    {
     "name": "stdout",
     "output_type": "stream",
     "text": [
      "Turn: 2\n",
      "Episode: 0; Steps: 2500, Mean returns: -2500.0;\n"
     ]
    },
    {
     "name": "stderr",
     "output_type": "stream",
     "text": [
      "2025-04-08 16:19:45,363 INFO root: Episode 100 mean returns: -2488.520000\n"
     ]
    },
    {
     "name": "stdout",
     "output_type": "stream",
     "text": [
      "Episode: 100; Steps: 2500, Mean returns: -2488.633663366337;\n"
     ]
    },
    {
     "name": "stderr",
     "output_type": "stream",
     "text": [
      "2025-04-08 16:19:56,073 INFO root: Episode 200 mean returns: -2493.680000\n"
     ]
    },
    {
     "name": "stdout",
     "output_type": "stream",
     "text": [
      "Episode: 200; Steps: 2500, Mean returns: -2493.7114427860697;\n"
     ]
    },
    {
     "name": "stderr",
     "output_type": "stream",
     "text": [
      "2025-04-08 16:20:07,042 INFO root: Episode 300 mean returns: -2491.676667\n"
     ]
    },
    {
     "name": "stdout",
     "output_type": "stream",
     "text": [
      "Episode: 300; Steps: 2500, Mean returns: -2491.704318936877;\n"
     ]
    },
    {
     "name": "stderr",
     "output_type": "stream",
     "text": [
      "2025-04-08 16:20:17,853 INFO root: Episode 400 mean returns: -2491.567500\n"
     ]
    },
    {
     "name": "stdout",
     "output_type": "stream",
     "text": [
      "Episode: 400; Steps: 2500, Mean returns: -2491.588528678304;\n"
     ]
    },
    {
     "name": "stderr",
     "output_type": "stream",
     "text": [
      "2025-04-08 16:20:28,431 INFO root: Episode 500 mean returns: -2489.636000\n"
     ]
    }
   ],
   "source": [
    "lr = task.learning_rate(**{\"name\": \"constant\", \"args\": {\"initial_lr\": 0.01}})\n",
    "num_episodes = 500\n",
    "# Create spec using provided name and args for feature spec\n",
    "for turn in range(3):\n",
    "    print(\"Turn:\", turn)\n",
    "    monitor.clear()\n",
    "    algorithm = task.create_algorithm(\n",
    "        env=env,\n",
    "        feats_transform=feats_tfx,\n",
    "        delay_reward=rew_delay,\n",
    "        lr=lr,\n",
    "        gamma=1.0,\n",
    "        epsilon=0.2,\n",
    "        policy_type=\"uniform-random\",\n",
    "        base_seed=0,\n",
    "    )\n",
    "    \n",
    "    results = task.policy_control(\n",
    "        env=env,\n",
    "        algorithm=algorithm,\n",
    "        num_episodes=num_episodes,\n",
    "        monitor=monitor,\n",
    "    )\n",
    "    \n",
    "    returns = []\n",
    "    for episode, snapshot in enumerate(results):\n",
    "        returns.append(snapshot.returns)\n",
    "        if episode % (num_episodes//5) == 0:\n",
    "            print(\n",
    "                f\"Episode: {episode}; Steps: {snapshot.steps}, Mean returns: {np.mean(monitor.returns + [monitor.rewards]).item()};\"\n",
    "            )\n",
    "            # print(np.reshape(snapshot.weights, (-1, env.action_space.n)))"
   ]
  },
  {
   "cell_type": "markdown",
   "id": "56261414-ed6e-4c23-8c21-ac84ce3cac19",
   "metadata": {},
   "source": [
    "## e-greedy Policy"
   ]
  },
  {
   "cell_type": "code",
   "execution_count": 15,
   "id": "682cd955-6cf2-43e3-9c62-07696dd30017",
   "metadata": {},
   "outputs": [
    {
     "name": "stdout",
     "output_type": "stream",
     "text": [
      "Turn: 0\n",
      "Episode: 0; Steps: 2500, Mean returns: -2500.0;\n"
     ]
    },
    {
     "name": "stderr",
     "output_type": "stream",
     "text": [
      "2025-04-08 16:20:30,045 INFO root: Episode 100 mean returns: -358.030000\n"
     ]
    },
    {
     "name": "stdout",
     "output_type": "stream",
     "text": [
      "Episode: 100; Steps: 156, Mean returns: -356.029702970297;\n"
     ]
    },
    {
     "name": "stderr",
     "output_type": "stream",
     "text": [
      "2025-04-08 16:20:30,788 INFO root: Episode 200 mean returns: -261.930000\n"
     ]
    },
    {
     "name": "stdout",
     "output_type": "stream",
     "text": [
      "Episode: 200; Steps: 164, Mean returns: -261.44278606965173;\n"
     ]
    },
    {
     "name": "stderr",
     "output_type": "stream",
     "text": [
      "2025-04-08 16:20:31,502 INFO root: Episode 300 mean returns: -227.413333\n"
     ]
    },
    {
     "name": "stdout",
     "output_type": "stream",
     "text": [
      "Episode: 300; Steps: 147, Mean returns: -227.14617940199335;\n"
     ]
    },
    {
     "name": "stderr",
     "output_type": "stream",
     "text": [
      "2025-04-08 16:20:32,175 INFO root: Episode 400 mean returns: -208.107500\n"
     ]
    },
    {
     "name": "stdout",
     "output_type": "stream",
     "text": [
      "Episode: 400; Steps: 152, Mean returns: -207.96758104738154;\n"
     ]
    },
    {
     "name": "stderr",
     "output_type": "stream",
     "text": [
      "2025-04-08 16:20:32,867 INFO root: Episode 500 mean returns: -197.540000\n"
     ]
    },
    {
     "name": "stdout",
     "output_type": "stream",
     "text": [
      "Turn: 1\n",
      "Episode: 0; Steps: 2500, Mean returns: -2500.0;\n"
     ]
    },
    {
     "name": "stderr",
     "output_type": "stream",
     "text": [
      "2025-04-08 16:20:34,439 INFO root: Episode 100 mean returns: -352.970000\n"
     ]
    },
    {
     "name": "stdout",
     "output_type": "stream",
     "text": [
      "Episode: 100; Steps: 162, Mean returns: -351.0792079207921;\n"
     ]
    },
    {
     "name": "stderr",
     "output_type": "stream",
     "text": [
      "2025-04-08 16:20:35,196 INFO root: Episode 200 mean returns: -261.295000\n"
     ]
    },
    {
     "name": "stdout",
     "output_type": "stream",
     "text": [
      "Episode: 200; Steps: 149, Mean returns: -260.7363184079602;\n"
     ]
    },
    {
     "name": "stderr",
     "output_type": "stream",
     "text": [
      "2025-04-08 16:20:35,895 INFO root: Episode 300 mean returns: -226.596667\n"
     ]
    },
    {
     "name": "stdout",
     "output_type": "stream",
     "text": [
      "Episode: 300; Steps: 146, Mean returns: -226.32890365448506;\n"
     ]
    },
    {
     "name": "stderr",
     "output_type": "stream",
     "text": [
      "2025-04-08 16:20:36,601 INFO root: Episode 400 mean returns: -209.125000\n"
     ]
    },
    {
     "name": "stdout",
     "output_type": "stream",
     "text": [
      "Episode: 400; Steps: 154, Mean returns: -208.98753117206982;\n"
     ]
    },
    {
     "name": "stderr",
     "output_type": "stream",
     "text": [
      "2025-04-08 16:20:37,278 INFO root: Episode 500 mean returns: -197.486000\n"
     ]
    },
    {
     "name": "stdout",
     "output_type": "stream",
     "text": [
      "Turn: 2\n",
      "Episode: 0; Steps: 2500, Mean returns: -2500.0;\n"
     ]
    },
    {
     "name": "stderr",
     "output_type": "stream",
     "text": [
      "2025-04-08 16:20:38,851 INFO root: Episode 100 mean returns: -353.560000\n"
     ]
    },
    {
     "name": "stdout",
     "output_type": "stream",
     "text": [
      "Episode: 100; Steps: 158, Mean returns: -351.6237623762376;\n"
     ]
    },
    {
     "name": "stderr",
     "output_type": "stream",
     "text": [
      "2025-04-08 16:20:39,582 INFO root: Episode 200 mean returns: -258.970000\n"
     ]
    },
    {
     "name": "stdout",
     "output_type": "stream",
     "text": [
      "Episode: 200; Steps: 160, Mean returns: -258.4776119402985;\n"
     ]
    },
    {
     "name": "stderr",
     "output_type": "stream",
     "text": [
      "2025-04-08 16:20:40,291 INFO root: Episode 300 mean returns: -225.640000\n"
     ]
    },
    {
     "name": "stdout",
     "output_type": "stream",
     "text": [
      "Episode: 300; Steps: 146, Mean returns: -225.37541528239203;\n"
     ]
    },
    {
     "name": "stderr",
     "output_type": "stream",
     "text": [
      "2025-04-08 16:20:40,966 INFO root: Episode 400 mean returns: -207.080000\n"
     ]
    },
    {
     "name": "stdout",
     "output_type": "stream",
     "text": [
      "Episode: 400; Steps: 148, Mean returns: -206.93266832917706;\n"
     ]
    },
    {
     "name": "stderr",
     "output_type": "stream",
     "text": [
      "2025-04-08 16:20:41,637 INFO root: Episode 500 mean returns: -195.652000\n"
     ]
    }
   ],
   "source": [
    "lr = task.learning_rate(**{\"name\": \"constant\", \"args\": {\"initial_lr\": 0.01}})\n",
    "num_episodes = 500\n",
    "# Create spec using provided name and args for feature spec\n",
    "for turn in range(3):\n",
    "    print(\"Turn:\", turn)\n",
    "    monitor.clear()\n",
    "    algorithm = task.create_algorithm(\n",
    "        env=env,\n",
    "        feats_transform=feats_tfx,\n",
    "        delay_reward=rew_delay,\n",
    "        lr=lr,\n",
    "        gamma=1.0,\n",
    "        epsilon=0.2,\n",
    "        policy_type=\"markovian\",\n",
    "        base_seed=0,\n",
    "    )\n",
    "    \n",
    "    results = task.policy_control(\n",
    "        env=env,\n",
    "        algorithm=algorithm,\n",
    "        num_episodes=num_episodes,\n",
    "        monitor=monitor,\n",
    "    )\n",
    "    \n",
    "    returns = []\n",
    "    for episode, snapshot in enumerate(results):\n",
    "        returns.append(snapshot.returns)\n",
    "        if episode % (num_episodes//5) == 0:\n",
    "            print(\n",
    "                f\"Episode: {episode}; Steps: {snapshot.steps}, Mean returns: {np.mean(monitor.returns + [monitor.rewards]).item()};\"\n",
    "            )\n",
    "            # print(np.reshape(snapshot.weights, (-1, env.action_space.n)))"
   ]
  }
 ],
 "metadata": {
  "kernelspec": {
   "display_name": "Python 3 (ipykernel)",
   "language": "python",
   "name": "python3"
  },
  "language_info": {
   "codemirror_mode": {
    "name": "ipython",
    "version": 3
   },
   "file_extension": ".py",
   "mimetype": "text/x-python",
   "name": "python",
   "nbconvert_exporter": "python",
   "pygments_lexer": "ipython3",
   "version": "3.11.11"
  }
 },
 "nbformat": 4,
 "nbformat_minor": 5
}
