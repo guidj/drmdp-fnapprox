{
 "cells": [
  {
   "cell_type": "code",
   "execution_count": 1,
   "id": "ec4881cb-f53a-4b02-a06a-087145effdc7",
   "metadata": {},
   "outputs": [],
   "source": [
    "import numpy as np"
   ]
  },
  {
   "cell_type": "code",
   "execution_count": 2,
   "id": "4d3e52cd-2254-4dd1-b3c5-baedc7dea0bb",
   "metadata": {},
   "outputs": [],
   "source": [
    "from drmdp import feats, task\n",
    "from drmdp.envs import gympg"
   ]
  },
  {
   "cell_type": "markdown",
   "id": "1cf96601-e3d9-4ac8-b3b7-dc5a2f421654",
   "metadata": {},
   "source": [
    "## Control: Current Impl"
   ]
  },
  {
   "cell_type": "code",
   "execution_count": 3,
   "id": "a7cf42e9-16c8-4c3a-8ced-d66a5e34110a",
   "metadata": {},
   "outputs": [],
   "source": [
    "MAX_STEPS = 1000"
   ]
  },
  {
   "cell_type": "code",
   "execution_count": 4,
   "id": "1f4a1de1-4be5-448c-b455-a2cab7d40442",
   "metadata": {},
   "outputs": [],
   "source": [
    "env = gympg.make(\"MountainCar-v0\", max_episode_steps=2500)"
   ]
  },
  {
   "cell_type": "code",
   "execution_count": 5,
   "id": "72a5d472-de42-454d-955e-d5b8fe7c141b",
   "metadata": {},
   "outputs": [
    {
     "data": {
      "text/plain": [
       "(<EnvMonitorWrapper<TimeLimit<OrderEnforcing<PassiveEnvChecker<MountainCarEnv<MountainCar-v0>>>>>>,\n",
       " <drmdp.core.EnvMonitor at 0x31a942050>)"
      ]
     },
     "execution_count": 5,
     "metadata": {},
     "output_type": "execute_result"
    }
   ],
   "source": [
    "env, monitor = task.monitor_wrapper(env)\n",
    "env, monitor"
   ]
  },
  {
   "cell_type": "code",
   "execution_count": 6,
   "id": "67a4a14f-a13e-41fb-84ef-246921850a30",
   "metadata": {},
   "outputs": [],
   "source": [
    "rew_delay = task.reward_delay_distribution(\n",
    "    # {\"name\": \"fixed\", \"args\": {\"delay\": 8}}\n",
    "    None\n",
    ")"
   ]
  },
  {
   "cell_type": "code",
   "execution_count": 7,
   "id": "2b33ff57-e58e-46d5-b413-5301b3b8805d",
   "metadata": {},
   "outputs": [],
   "source": [
    "rew_delay"
   ]
  },
  {
   "cell_type": "code",
   "execution_count": 8,
   "id": "32fcfce0-3f2c-441e-8a61-1c4f9962d858",
   "metadata": {},
   "outputs": [
    {
     "data": {
      "text/plain": [
       "<EnvMonitorWrapper<TimeLimit<OrderEnforcing<PassiveEnvChecker<MountainCarEnv<MountainCar-v0>>>>>>"
      ]
     },
     "execution_count": 8,
     "metadata": {},
     "output_type": "execute_result"
    }
   ],
   "source": [
    "env = task.delay_wrapper(env, rew_delay)\n",
    "env"
   ]
  },
  {
   "cell_type": "code",
   "execution_count": 9,
   "id": "a5260150-ebaf-4683-b7b5-022ced37166b",
   "metadata": {},
   "outputs": [],
   "source": [
    "feats_spec = {\"name\": \"tiles\", \"args\": {\"tiling_dim\": 6}}"
   ]
  },
  {
   "cell_type": "code",
   "execution_count": 10,
   "id": "5a64b7ab-67e1-424c-9f7f-8ab760f8edbb",
   "metadata": {},
   "outputs": [
    {
     "data": {
      "text/plain": [
       "<EnvMonitorWrapper<TimeLimit<OrderEnforcing<PassiveEnvChecker<MountainCarEnv<MountainCar-v0>>>>>>"
      ]
     },
     "execution_count": 10,
     "metadata": {},
     "output_type": "execute_result"
    }
   ],
   "source": [
    "env = task.reward_mapper(\n",
    "    env,\n",
    "    mapping_spec={\"name\": \"identity\", \"args\": None},\n",
    "    feats_spec=feats_spec,\n",
    ")\n",
    "env"
   ]
  },
  {
   "cell_type": "code",
   "execution_count": 11,
   "id": "39ab7444-0b9e-489a-aa83-767219835bb7",
   "metadata": {},
   "outputs": [
    {
     "data": {
      "text/plain": [
       "<drmdp.feats.TileFeatTransform at 0x323bbb4d0>"
      ]
     },
     "execution_count": 11,
     "metadata": {},
     "output_type": "execute_result"
    }
   ],
   "source": [
    "feats_tfx = feats.create_feat_transformer(env=env, **feats_spec)\n",
    "feats_tfx"
   ]
  },
  {
   "cell_type": "markdown",
   "id": "33d36c14-1ff1-4e65-ad18-7fb2657c93d8",
   "metadata": {},
   "source": [
    "## Uniform Random Policy"
   ]
  },
  {
   "cell_type": "code",
   "execution_count": 12,
   "id": "50fcfc9d-b4cf-4003-a326-949d056f34e3",
   "metadata": {},
   "outputs": [
    {
     "name": "stdout",
     "output_type": "stream",
     "text": [
      "Turn: 0\n",
      "Episode: 0; Steps: 2500, Mean returns: -2500.0;\n"
     ]
    },
    {
     "name": "stderr",
     "output_type": "stream",
     "text": [
      "2025-04-16 15:05:36,800 INFO root: Episode 100 mean returns: -2494.940000\n"
     ]
    },
    {
     "name": "stdout",
     "output_type": "stream",
     "text": [
      "Episode: 100; Steps: 2500, Mean returns: -2494.990099009901;\n"
     ]
    },
    {
     "name": "stderr",
     "output_type": "stream",
     "text": [
      "2025-04-16 15:05:47,468 INFO root: Episode 200 mean returns: -2492.395000\n"
     ]
    },
    {
     "name": "stdout",
     "output_type": "stream",
     "text": [
      "Episode: 200; Steps: 2500, Mean returns: -2492.4328358208954;\n"
     ]
    },
    {
     "name": "stderr",
     "output_type": "stream",
     "text": [
      "2025-04-16 15:05:58,111 INFO root: Episode 300 mean returns: -2491.276667\n"
     ]
    },
    {
     "name": "stdout",
     "output_type": "stream",
     "text": [
      "Episode: 300; Steps: 2500, Mean returns: -2491.3056478405315;\n"
     ]
    },
    {
     "name": "stderr",
     "output_type": "stream",
     "text": [
      "2025-04-16 15:06:08,789 INFO root: Episode 400 mean returns: -2491.747500\n"
     ]
    },
    {
     "name": "stdout",
     "output_type": "stream",
     "text": [
      "Episode: 400; Steps: 2500, Mean returns: -2491.7680798004985;\n"
     ]
    },
    {
     "name": "stderr",
     "output_type": "stream",
     "text": [
      "2025-04-16 15:06:19,481 INFO root: Episode 500 mean returns: -2493.074000\n"
     ]
    },
    {
     "name": "stdout",
     "output_type": "stream",
     "text": [
      "Turn: 1\n",
      "Episode: 0; Steps: 2500, Mean returns: -2500.0;\n"
     ]
    },
    {
     "name": "stderr",
     "output_type": "stream",
     "text": [
      "2025-04-16 15:06:30,206 INFO root: Episode 100 mean returns: -2490.670000\n"
     ]
    },
    {
     "name": "stdout",
     "output_type": "stream",
     "text": [
      "Episode: 100; Steps: 2500, Mean returns: -2490.762376237624;\n"
     ]
    },
    {
     "name": "stderr",
     "output_type": "stream",
     "text": [
      "2025-04-16 15:06:40,908 INFO root: Episode 200 mean returns: -2493.910000\n"
     ]
    },
    {
     "name": "stdout",
     "output_type": "stream",
     "text": [
      "Episode: 200; Steps: 2500, Mean returns: -2493.9402985074626;\n"
     ]
    },
    {
     "name": "stderr",
     "output_type": "stream",
     "text": [
      "2025-04-16 15:06:51,590 INFO root: Episode 300 mean returns: -2493.703333\n"
     ]
    },
    {
     "name": "stdout",
     "output_type": "stream",
     "text": [
      "Episode: 300; Steps: 2500, Mean returns: -2493.724252491694;\n"
     ]
    },
    {
     "name": "stderr",
     "output_type": "stream",
     "text": [
      "2025-04-16 15:07:02,305 INFO root: Episode 400 mean returns: -2495.272500\n"
     ]
    },
    {
     "name": "stdout",
     "output_type": "stream",
     "text": [
      "Episode: 400; Steps: 2500, Mean returns: -2495.284289276808;\n"
     ]
    },
    {
     "name": "stderr",
     "output_type": "stream",
     "text": [
      "2025-04-16 15:07:12,965 INFO root: Episode 500 mean returns: -2494.940000\n"
     ]
    },
    {
     "name": "stdout",
     "output_type": "stream",
     "text": [
      "Turn: 2\n",
      "Episode: 0; Steps: 2500, Mean returns: -2500.0;\n"
     ]
    },
    {
     "name": "stderr",
     "output_type": "stream",
     "text": [
      "2025-04-16 15:07:23,777 INFO root: Episode 100 mean returns: -2491.160000\n"
     ]
    },
    {
     "name": "stdout",
     "output_type": "stream",
     "text": [
      "Episode: 100; Steps: 2500, Mean returns: -2491.2475247524753;\n"
     ]
    },
    {
     "name": "stderr",
     "output_type": "stream",
     "text": [
      "2025-04-16 15:07:34,440 INFO root: Episode 200 mean returns: -2493.020000\n"
     ]
    },
    {
     "name": "stdout",
     "output_type": "stream",
     "text": [
      "Episode: 200; Steps: 2500, Mean returns: -2493.054726368159;\n"
     ]
    },
    {
     "name": "stderr",
     "output_type": "stream",
     "text": [
      "2025-04-16 15:07:45,103 INFO root: Episode 300 mean returns: -2493.556667\n"
     ]
    },
    {
     "name": "stdout",
     "output_type": "stream",
     "text": [
      "Episode: 300; Steps: 2500, Mean returns: -2493.578073089701;\n"
     ]
    },
    {
     "name": "stderr",
     "output_type": "stream",
     "text": [
      "2025-04-16 15:07:55,776 INFO root: Episode 400 mean returns: -2494.745000\n"
     ]
    },
    {
     "name": "stdout",
     "output_type": "stream",
     "text": [
      "Episode: 400; Steps: 2500, Mean returns: -2494.7581047381545;\n"
     ]
    },
    {
     "name": "stderr",
     "output_type": "stream",
     "text": [
      "2025-04-16 15:08:06,438 INFO root: Episode 500 mean returns: -2494.544000\n"
     ]
    }
   ],
   "source": [
    "lr = task.learning_rate(**{\"name\": \"constant\", \"args\": {\"initial_lr\": 0.01}})\n",
    "num_episodes = 500\n",
    "# Create spec using provided name and args for feature spec\n",
    "for turn in range(3):\n",
    "    print(\"Turn:\", turn)\n",
    "    monitor.clear()\n",
    "    algorithm = task.create_algorithm(\n",
    "        env=env,\n",
    "        feats_transform=feats_tfx,\n",
    "        delay_reward=rew_delay,\n",
    "        lr=lr,\n",
    "        gamma=1.0,\n",
    "        epsilon=0.2,\n",
    "        policy_type=\"uniform-random\",\n",
    "        base_seed=0,\n",
    "    )\n",
    "    \n",
    "    results = task.policy_control(\n",
    "        env=env,\n",
    "        algorithm=algorithm,\n",
    "        num_episodes=num_episodes,\n",
    "        monitor=monitor,\n",
    "    )\n",
    "    \n",
    "    returns = []\n",
    "    for episode, snapshot in enumerate(results):\n",
    "        returns.append(snapshot.returns)\n",
    "        if episode % (num_episodes//5) == 0:\n",
    "            print(\n",
    "                f\"Episode: {episode}; Steps: {snapshot.steps}, Mean returns: {np.mean(monitor.returns + [monitor.rewards]).item()};\"\n",
    "            )\n",
    "            # print(np.reshape(snapshot.weights, (-1, env.action_space.n)))"
   ]
  },
  {
   "cell_type": "markdown",
   "id": "56261414-ed6e-4c23-8c21-ac84ce3cac19",
   "metadata": {},
   "source": [
    "## e-greedy Policy"
   ]
  },
  {
   "cell_type": "code",
   "execution_count": 13,
   "id": "682cd955-6cf2-43e3-9c62-07696dd30017",
   "metadata": {},
   "outputs": [
    {
     "name": "stdout",
     "output_type": "stream",
     "text": [
      "Turn: 0\n",
      "Episode: 0; Steps: 2423, Mean returns: -2423.0;\n"
     ]
    },
    {
     "name": "stderr",
     "output_type": "stream",
     "text": [
      "2025-04-16 15:08:08,108 INFO root: Episode 100 mean returns: -368.760000\n"
     ]
    },
    {
     "name": "stdout",
     "output_type": "stream",
     "text": [
      "Episode: 100; Steps: 158, Mean returns: -366.6732673267327;\n"
     ]
    },
    {
     "name": "stderr",
     "output_type": "stream",
     "text": [
      "2025-04-16 15:08:08,894 INFO root: Episode 200 mean returns: -271.230000\n"
     ]
    },
    {
     "name": "stdout",
     "output_type": "stream",
     "text": [
      "Episode: 200; Steps: 153, Mean returns: -270.64179104477614;\n"
     ]
    },
    {
     "name": "stderr",
     "output_type": "stream",
     "text": [
      "2025-04-16 15:08:09,619 INFO root: Episode 300 mean returns: -234.186667\n"
     ]
    },
    {
     "name": "stdout",
     "output_type": "stream",
     "text": [
      "Episode: 300; Steps: 148, Mean returns: -233.90033222591362;\n"
     ]
    },
    {
     "name": "stderr",
     "output_type": "stream",
     "text": [
      "2025-04-16 15:08:10,345 INFO root: Episode 400 mean returns: -215.755000\n"
     ]
    },
    {
     "name": "stdout",
     "output_type": "stream",
     "text": [
      "Episode: 400; Steps: 150, Mean returns: -215.59102244389027;\n"
     ]
    },
    {
     "name": "stderr",
     "output_type": "stream",
     "text": [
      "2025-04-16 15:08:11,052 INFO root: Episode 500 mean returns: -203.706000\n"
     ]
    },
    {
     "name": "stdout",
     "output_type": "stream",
     "text": [
      "Turn: 1\n",
      "Episode: 0; Steps: 2500, Mean returns: -2500.0;\n"
     ]
    },
    {
     "name": "stderr",
     "output_type": "stream",
     "text": [
      "2025-04-16 15:08:12,632 INFO root: Episode 100 mean returns: -351.270000\n"
     ]
    },
    {
     "name": "stdout",
     "output_type": "stream",
     "text": [
      "Episode: 100; Steps: 161, Mean returns: -349.38613861386136;\n"
     ]
    },
    {
     "name": "stderr",
     "output_type": "stream",
     "text": [
      "2025-04-16 15:08:13,392 INFO root: Episode 200 mean returns: -259.625000\n"
     ]
    },
    {
     "name": "stdout",
     "output_type": "stream",
     "text": [
      "Episode: 200; Steps: 155, Mean returns: -259.1044776119403;\n"
     ]
    },
    {
     "name": "stderr",
     "output_type": "stream",
     "text": [
      "2025-04-16 15:08:14,118 INFO root: Episode 300 mean returns: -226.626667\n"
     ]
    },
    {
     "name": "stdout",
     "output_type": "stream",
     "text": [
      "Episode: 300; Steps: 150, Mean returns: -226.37209302325581;\n"
     ]
    },
    {
     "name": "stderr",
     "output_type": "stream",
     "text": [
      "2025-04-16 15:08:14,834 INFO root: Episode 400 mean returns: -209.630000\n"
     ]
    },
    {
     "name": "stdout",
     "output_type": "stream",
     "text": [
      "Episode: 400; Steps: 148, Mean returns: -209.47630922693267;\n"
     ]
    },
    {
     "name": "stderr",
     "output_type": "stream",
     "text": [
      "2025-04-16 15:08:15,518 INFO root: Episode 500 mean returns: -197.960000\n"
     ]
    },
    {
     "name": "stdout",
     "output_type": "stream",
     "text": [
      "Turn: 2\n",
      "Episode: 0; Steps: 2500, Mean returns: -2500.0;\n"
     ]
    },
    {
     "name": "stderr",
     "output_type": "stream",
     "text": [
      "2025-04-16 15:08:17,165 INFO root: Episode 100 mean returns: -363.920000\n"
     ]
    },
    {
     "name": "stdout",
     "output_type": "stream",
     "text": [
      "Episode: 100; Steps: 159, Mean returns: -361.8910891089109;\n"
     ]
    },
    {
     "name": "stderr",
     "output_type": "stream",
     "text": [
      "2025-04-16 15:08:17,926 INFO root: Episode 200 mean returns: -265.705000\n"
     ]
    },
    {
     "name": "stdout",
     "output_type": "stream",
     "text": [
      "Episode: 200; Steps: 157, Mean returns: -265.1641791044776;\n"
     ]
    },
    {
     "name": "stderr",
     "output_type": "stream",
     "text": [
      "2025-04-16 15:08:18,647 INFO root: Episode 300 mean returns: -230.056667\n"
     ]
    },
    {
     "name": "stdout",
     "output_type": "stream",
     "text": [
      "Episode: 300; Steps: 160, Mean returns: -229.82392026578074;\n"
     ]
    },
    {
     "name": "stderr",
     "output_type": "stream",
     "text": [
      "2025-04-16 15:08:19,355 INFO root: Episode 400 mean returns: -211.445000\n"
     ]
    },
    {
     "name": "stdout",
     "output_type": "stream",
     "text": [
      "Episode: 400; Steps: 121, Mean returns: -211.21945137157107;\n"
     ]
    },
    {
     "name": "stderr",
     "output_type": "stream",
     "text": [
      "2025-04-16 15:08:20,042 INFO root: Episode 500 mean returns: -199.468000\n"
     ]
    }
   ],
   "source": [
    "lr = task.learning_rate(**{\"name\": \"constant\", \"args\": {\"initial_lr\": 0.01}})\n",
    "num_episodes = 500\n",
    "# Create spec using provided name and args for feature spec\n",
    "for turn in range(3):\n",
    "    print(\"Turn:\", turn)\n",
    "    monitor.clear()\n",
    "    algorithm = task.create_algorithm(\n",
    "        env=env,\n",
    "        feats_transform=feats_tfx,\n",
    "        delay_reward=rew_delay,\n",
    "        lr=lr,\n",
    "        gamma=1.0,\n",
    "        epsilon=0.2,\n",
    "        policy_type=\"markovian\",\n",
    "        base_seed=0,\n",
    "    )\n",
    "    \n",
    "    results = task.policy_control(\n",
    "        env=env,\n",
    "        algorithm=algorithm,\n",
    "        num_episodes=num_episodes,\n",
    "        monitor=monitor,\n",
    "    )\n",
    "    \n",
    "    returns = []\n",
    "    for episode, snapshot in enumerate(results):\n",
    "        returns.append(snapshot.returns)\n",
    "        if episode % (num_episodes//5) == 0:\n",
    "            print(\n",
    "                f\"Episode: {episode}; Steps: {snapshot.steps}, Mean returns: {np.mean(monitor.returns + [monitor.rewards]).item()};\"\n",
    "            )\n",
    "            # print(np.reshape(snapshot.weights, (-1, env.action_space.n)))"
   ]
  }
 ],
 "metadata": {
  "kernelspec": {
   "display_name": "Python 3 (ipykernel)",
   "language": "python",
   "name": "python3"
  },
  "language_info": {
   "codemirror_mode": {
    "name": "ipython",
    "version": 3
   },
   "file_extension": ".py",
   "mimetype": "text/x-python",
   "name": "python",
   "nbconvert_exporter": "python",
   "pygments_lexer": "ipython3",
   "version": "3.11.11"
  }
 },
 "nbformat": 4,
 "nbformat_minor": 5
}
