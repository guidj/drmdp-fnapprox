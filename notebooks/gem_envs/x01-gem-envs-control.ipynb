{
 "cells": [
  {
   "cell_type": "code",
   "execution_count": 1,
   "id": "5483261d-7abb-4f26-990a-4c81cd8c115b",
   "metadata": {},
   "outputs": [],
   "source": [
    "import copy"
   ]
  },
  {
   "cell_type": "code",
   "execution_count": 2,
   "id": "ec4881cb-f53a-4b02-a06a-087145effdc7",
   "metadata": {},
   "outputs": [],
   "source": [
    "from gym_electric_motor import reward_functions\n",
    "import pandas as pd\n",
    "import numpy as np"
   ]
  },
  {
   "cell_type": "code",
   "execution_count": 3,
   "id": "9f32eb10-e92b-44d6-83f3-4f71e4227b73",
   "metadata": {},
   "outputs": [],
   "source": [
    "import seaborn as sns\n",
    "import matplotlib as mpl\n",
    "from matplotlib import pyplot as plt"
   ]
  },
  {
   "cell_type": "code",
   "execution_count": 4,
   "id": "4d3e52cd-2254-4dd1-b3c5-baedc7dea0bb",
   "metadata": {},
   "outputs": [],
   "source": [
    "from drmdp import feats, task\n",
    "from drmdp.envs import gem"
   ]
  },
  {
   "cell_type": "code",
   "execution_count": 5,
   "id": "bad37818-6600-4c98-90c2-800dd3f53ae5",
   "metadata": {},
   "outputs": [
    {
     "data": {
      "text/plain": [
       "<TimeLimit<GemObsAsVectorWrapper<FiniteCurrentControlPermanentMagnetSynchronousMotorEnv<Finite-CC-PMSM-v0>>>>"
      ]
     },
     "execution_count": 5,
     "metadata": {},
     "output_type": "execute_result"
    }
   ],
   "source": [
    "env = gem.make(\"Finite-CC-PMSM-v0\", reward_fn=\"pos-enf\", max_episode_steps=2500)\n",
    "env"
   ]
  },
  {
   "cell_type": "markdown",
   "id": "1cf96601-e3d9-4ac8-b3b7-dc5a2f421654",
   "metadata": {},
   "source": [
    "## Control: Current Impl - neg-enf"
   ]
  },
  {
   "cell_type": "code",
   "execution_count": 6,
   "id": "a7cf42e9-16c8-4c3a-8ced-d66a5e34110a",
   "metadata": {},
   "outputs": [],
   "source": [
    "MAX_STEPS = 2500"
   ]
  },
  {
   "cell_type": "code",
   "execution_count": 7,
   "id": "1f4a1de1-4be5-448c-b455-a2cab7d40442",
   "metadata": {},
   "outputs": [],
   "source": [
    "env = gem.make(\"Finite-CC-PMSM-v0\", reward_fn=\"esp-neg\", max_episode_steps=MAX_STEPS)"
   ]
  },
  {
   "cell_type": "code",
   "execution_count": 8,
   "id": "72a5d472-de42-454d-955e-d5b8fe7c141b",
   "metadata": {},
   "outputs": [
    {
     "data": {
      "text/plain": [
       "(<EnvMonitorWrapper<TimeLimit<GemObsAsVectorWrapper<FiniteCurrentControlPermanentMagnetSynchronousMotorEnv<Finite-CC-PMSM-v0>>>>>,\n",
       " <drmdp.core.EnvMonitor at 0x3177f4510>)"
      ]
     },
     "execution_count": 8,
     "metadata": {},
     "output_type": "execute_result"
    }
   ],
   "source": [
    "env, monitor = task.monitor_wrapper(env)\n",
    "env, monitor"
   ]
  },
  {
   "cell_type": "code",
   "execution_count": 9,
   "id": "67a4a14f-a13e-41fb-84ef-246921850a30",
   "metadata": {},
   "outputs": [],
   "source": [
    "rew_delay = task.reward_delay_distribution(\n",
    "    None\n",
    ")"
   ]
  },
  {
   "cell_type": "code",
   "execution_count": 10,
   "id": "2b33ff57-e58e-46d5-b413-5301b3b8805d",
   "metadata": {},
   "outputs": [],
   "source": [
    "rew_delay"
   ]
  },
  {
   "cell_type": "code",
   "execution_count": 11,
   "id": "32fcfce0-3f2c-441e-8a61-1c4f9962d858",
   "metadata": {},
   "outputs": [
    {
     "data": {
      "text/plain": [
       "<EnvMonitorWrapper<TimeLimit<GemObsAsVectorWrapper<FiniteCurrentControlPermanentMagnetSynchronousMotorEnv<Finite-CC-PMSM-v0>>>>>"
      ]
     },
     "execution_count": 11,
     "metadata": {},
     "output_type": "execute_result"
    }
   ],
   "source": [
    "env = task.delay_wrapper(env, rew_delay)\n",
    "env"
   ]
  },
  {
   "cell_type": "code",
   "execution_count": 12,
   "id": "a5260150-ebaf-4683-b7b5-022ced37166b",
   "metadata": {},
   "outputs": [],
   "source": [
    "feats_spec = {\"name\": \"scale\", \"args\": None}"
   ]
  },
  {
   "cell_type": "code",
   "execution_count": 13,
   "id": "5a64b7ab-67e1-424c-9f7f-8ab760f8edbb",
   "metadata": {},
   "outputs": [
    {
     "data": {
      "text/plain": [
       "<EnvMonitorWrapper<TimeLimit<GemObsAsVectorWrapper<FiniteCurrentControlPermanentMagnetSynchronousMotorEnv<Finite-CC-PMSM-v0>>>>>"
      ]
     },
     "execution_count": 13,
     "metadata": {},
     "output_type": "execute_result"
    }
   ],
   "source": [
    "env = task.reward_mapper(\n",
    "    env,\n",
    "    mapping_spec={\"name\": \"identity\", \"args\": None},\n",
    "    feats_spec=feats_spec,\n",
    ")\n",
    "env"
   ]
  },
  {
   "cell_type": "code",
   "execution_count": 14,
   "id": "fa89201f-5be4-4640-8d81-d57f77d2e995",
   "metadata": {},
   "outputs": [
    {
     "data": {
      "text/plain": [
       "<drmdp.feats.ScaleFeatTransform at 0x32150d090>"
      ]
     },
     "execution_count": 14,
     "metadata": {},
     "output_type": "execute_result"
    }
   ],
   "source": [
    "feats_tfx = feats.create_feat_transformer(env=env, **feats_spec)\n",
    "feats_tfx"
   ]
  },
  {
   "cell_type": "code",
   "execution_count": 15,
   "id": "50fcfc9d-b4cf-4003-a326-949d056f34e3",
   "metadata": {},
   "outputs": [
    {
     "name": "stdout",
     "output_type": "stream",
     "text": [
      "Turn: 0\n",
      "Episode: 0; Steps: 858, Mean returns: -2147483725.131781;\n"
     ]
    },
    {
     "name": "stderr",
     "output_type": "stream",
     "text": [
      "2025-04-08 16:41:32,851 INFO root: Episode 100 mean returns: -1352915021.212380\n"
     ]
    },
    {
     "name": "stdout",
     "output_type": "stream",
     "text": [
      "Episode: 100; Steps: 2500, Mean returns: -1339519826.4792855;\n"
     ]
    },
    {
     "name": "stderr",
     "output_type": "stream",
     "text": [
      "2025-04-08 16:41:47,969 INFO root: Episode 200 mean returns: -1299227936.720370\n"
     ]
    },
    {
     "name": "stdout",
     "output_type": "stream",
     "text": [
      "Episode: 200; Steps: 1089, Mean returns: -1303448115.4748192;\n"
     ]
    },
    {
     "name": "stderr",
     "output_type": "stream",
     "text": [
      "2025-04-08 16:42:01,444 INFO root: Episode 300 mean returns: -1352915016.712572\n"
     ]
    },
    {
     "name": "stdout",
     "output_type": "stream",
     "text": [
      "Episode: 300; Steps: 1295, Mean returns: -1355554780.3899488;\n"
     ]
    },
    {
     "name": "stderr",
     "output_type": "stream",
     "text": [
      "2025-04-08 16:42:14,989 INFO root: Episode 400 mean returns: -1379758555.571439\n"
     ]
    },
    {
     "name": "stdout",
     "output_type": "stream",
     "text": [
      "Episode: 400; Steps: 2500, Mean returns: -1376317762.1664448;\n"
     ]
    },
    {
     "name": "stderr",
     "output_type": "stream",
     "text": [
      "2025-04-08 16:42:28,313 INFO root: Episode 500 mean returns: -1391569712.157187\n"
     ]
    },
    {
     "name": "stdout",
     "output_type": "stream",
     "text": [
      "Turn: 1\n",
      "Episode: 0; Steps: 2344, Mean returns: -2147483944.931341;\n"
     ]
    },
    {
     "name": "stderr",
     "output_type": "stream",
     "text": [
      "2025-04-08 16:42:41,683 INFO root: Episode 100 mean returns: -1481764010.488147\n"
     ]
    },
    {
     "name": "stdout",
     "output_type": "stream",
     "text": [
      "Episode: 100; Steps: 2500, Mean returns: -1467093083.5154274;\n"
     ]
    },
    {
     "name": "stderr",
     "output_type": "stream",
     "text": [
      "2025-04-08 16:42:55,319 INFO root: Episode 200 mean returns: -1460289183.733125\n"
     ]
    },
    {
     "name": "stdout",
     "output_type": "stream",
     "text": [
      "Episode: 200; Steps: 733, Mean returns: -1463708062.5277197;\n"
     ]
    },
    {
     "name": "stderr",
     "output_type": "stream",
     "text": [
      "2025-04-08 16:43:09,532 INFO root: Episode 300 mean returns: -1403022954.827052\n"
     ]
    },
    {
     "name": "stdout",
     "output_type": "stream",
     "text": [
      "Episode: 300; Steps: 2500, Mean returns: -1398361750.7036827;\n"
     ]
    },
    {
     "name": "stderr",
     "output_type": "stream",
     "text": [
      "2025-04-08 16:43:22,713 INFO root: Episode 400 mean returns: -1433445633.371827\n"
     ]
    },
    {
     "name": "stdout",
     "output_type": "stream",
     "text": [
      "Episode: 400; Steps: 2500, Mean returns: -1429870956.9326773;\n"
     ]
    },
    {
     "name": "stderr",
     "output_type": "stream",
     "text": [
      "2025-04-08 16:43:37,063 INFO root: Episode 500 mean returns: -1408749572.435307\n"
     ]
    },
    {
     "name": "stdout",
     "output_type": "stream",
     "text": [
      "Turn: 2\n",
      "Episode: 0; Steps: 1411, Mean returns: -2147483834.2131243;\n"
     ]
    },
    {
     "name": "stderr",
     "output_type": "stream",
     "text": [
      "2025-04-08 16:43:50,171 INFO root: Episode 100 mean returns: -1438814341.875865\n"
     ]
    },
    {
     "name": "stdout",
     "output_type": "stream",
     "text": [
      "Episode: 100; Steps: 2500, Mean returns: -1424568658.6138093;\n"
     ]
    },
    {
     "name": "stderr",
     "output_type": "stream",
     "text": [
      "2025-04-08 16:44:04,542 INFO root: Episode 200 mean returns: -1374389846.427481\n"
     ]
    },
    {
     "name": "stdout",
     "output_type": "stream",
     "text": [
      "Episode: 200; Steps: 1019, Mean returns: -1378236085.1319344;\n"
     ]
    },
    {
     "name": "stderr",
     "output_type": "stream",
     "text": [
      "2025-04-08 16:44:18,651 INFO root: Episode 300 mean returns: -1352915012.435520\n"
     ]
    },
    {
     "name": "stdout",
     "output_type": "stream",
     "text": [
      "Episode: 300; Steps: 825, Mean returns: -1355554775.832278;\n"
     ]
    },
    {
     "name": "stderr",
     "output_type": "stream",
     "text": [
      "2025-04-08 16:44:33,481 INFO root: Episode 400 mean returns: -1320702760.821772\n"
     ]
    },
    {
     "name": "stdout",
     "output_type": "stream",
     "text": [
      "Episode: 400; Steps: 2500, Mean returns: -1317409238.7009172;\n"
     ]
    },
    {
     "name": "stderr",
     "output_type": "stream",
     "text": [
      "2025-04-08 16:44:46,059 INFO root: Episode 500 mean returns: -1361504942.487619\n"
     ]
    }
   ],
   "source": [
    "lr = task.learning_rate(**{\"name\": \"constant\", \"args\": {\"initial_lr\": 0.01}})\n",
    "num_episodes = 500\n",
    "# Create spec using provided name and args for feature spec\n",
    "for turn in range(3):\n",
    "    monitor.clear()\n",
    "    print(\"Turn:\", turn)\n",
    "    algorithm = task.create_algorithm(\n",
    "        env=env,\n",
    "        feats_transform=feats_tfx,\n",
    "        delay_reward=rew_delay,\n",
    "        lr=lr,\n",
    "        gamma=1.0,\n",
    "        epsilon=0.2,\n",
    "        policy_type=\"uniform-random\",\n",
    "        base_seed=0,\n",
    "    )\n",
    "    \n",
    "    results = task.policy_control(\n",
    "        env=env,\n",
    "        algorithm=algorithm,\n",
    "        num_episodes=num_episodes,\n",
    "        monitor=monitor,\n",
    "    )\n",
    "    \n",
    "    for episode, snapshot in enumerate(results):\n",
    "        if episode % (num_episodes//5) == 0:\n",
    "            print(\n",
    "                f\"Episode: {episode}; Steps: {snapshot.steps}, Mean returns: {np.mean(monitor.returns + [monitor.rewards]).item()};\"\n",
    "            )"
   ]
  },
  {
   "cell_type": "code",
   "execution_count": 16,
   "id": "2ee94278-2737-42d8-bcc0-016038ad6b04",
   "metadata": {},
   "outputs": [
    {
     "name": "stdout",
     "output_type": "stream",
     "text": [
      "Turn: 0\n",
      "Episode: 0; Steps: 2500, Mean returns: -360.0793115283471;\n"
     ]
    },
    {
     "name": "stderr",
     "output_type": "stream",
     "text": [
      "2025-04-08 16:44:50,697 INFO root: Episode 100 mean returns: -2104534074.888764\n"
     ]
    },
    {
     "name": "stdout",
     "output_type": "stream",
     "text": [
      "Episode: 100; Steps: 1700, Mean returns: -2104959319.9020557;\n"
     ]
    },
    {
     "name": "stderr",
     "output_type": "stream",
     "text": [
      "2025-04-08 16:44:54,740 INFO root: Episode 200 mean returns: -2126008907.769331\n"
     ]
    },
    {
     "name": "stdout",
     "output_type": "stream",
     "text": [
      "Episode: 200; Steps: 70, Mean returns: -2126115747.3446076;\n"
     ]
    },
    {
     "name": "stderr",
     "output_type": "stream",
     "text": [
      "2025-04-08 16:44:58,775 INFO root: Episode 300 mean returns: -2133167185.013784\n"
     ]
    },
    {
     "name": "stdout",
     "output_type": "stream",
     "text": [
      "Episode: 300; Steps: 74, Mean returns: -2133214748.0457168;\n"
     ]
    },
    {
     "name": "stderr",
     "output_type": "stream",
     "text": [
      "2025-04-08 16:45:03,956 INFO root: Episode 400 mean returns: -2126008908.304183\n"
     ]
    },
    {
     "name": "stdout",
     "output_type": "stream",
     "text": [
      "Episode: 400; Steps: 848, Mean returns: -2126062461.7927523;\n"
     ]
    },
    {
     "name": "stderr",
     "output_type": "stream",
     "text": [
      "2025-04-08 16:45:09,051 INFO root: Episode 500 mean returns: -2126008909.907698\n"
     ]
    },
    {
     "name": "stdout",
     "output_type": "stream",
     "text": [
      "Turn: 1\n",
      "Episode: 0; Steps: 2500, Mean returns: -350.8894432978985;\n"
     ]
    },
    {
     "name": "stderr",
     "output_type": "stream",
     "text": [
      "2025-04-08 16:45:14,119 INFO root: Episode 100 mean returns: -2018634737.265700\n"
     ]
    },
    {
     "name": "stdout",
     "output_type": "stream",
     "text": [
      "Episode: 100; Steps: 511, Mean returns: -2019910469.6411402;\n"
     ]
    },
    {
     "name": "stderr",
     "output_type": "stream",
     "text": [
      "2025-04-08 16:45:18,812 INFO root: Episode 200 mean returns: -2083059245.894954\n"
     ]
    },
    {
     "name": "stdout",
     "output_type": "stream",
     "text": [
      "Episode: 200; Steps: 954, Mean returns: -2083379766.1282637;\n"
     ]
    },
    {
     "name": "stderr",
     "output_type": "stream",
     "text": [
      "2025-04-08 16:45:23,294 INFO root: Episode 300 mean returns: -2097375801.097761\n"
     ]
    },
    {
     "name": "stdout",
     "output_type": "stream",
     "text": [
      "Episode: 300; Steps: 282, Mean returns: -2097542272.5650914;\n"
     ]
    },
    {
     "name": "stderr",
     "output_type": "stream",
     "text": [
      "2025-04-08 16:45:28,133 INFO root: Episode 400 mean returns: -2109902787.389655\n"
     ]
    },
    {
     "name": "stdout",
     "output_type": "stream",
     "text": [
      "Episode: 400; Steps: 831, Mean returns: -2109996505.4989088;\n"
     ]
    },
    {
     "name": "stderr",
     "output_type": "stream",
     "text": [
      "2025-04-08 16:45:32,874 INFO root: Episode 500 mean returns: -2113124010.724532\n"
     ]
    },
    {
     "name": "stdout",
     "output_type": "stream",
     "text": [
      "Turn: 2\n",
      "Episode: 0; Steps: 2500, Mean returns: -331.1395801961211;\n"
     ]
    },
    {
     "name": "stderr",
     "output_type": "stream",
     "text": [
      "2025-04-08 16:45:38,607 INFO root: Episode 100 mean returns: -1954210235.539626\n"
     ]
    },
    {
     "name": "stdout",
     "output_type": "stream",
     "text": [
      "Episode: 100; Steps: 523, Mean returns: -1956123834.1484363;\n"
     ]
    },
    {
     "name": "stderr",
     "output_type": "stream",
     "text": [
      "2025-04-08 16:45:42,441 INFO root: Episode 200 mean returns: -2050846985.310557\n"
     ]
    },
    {
     "name": "stdout",
     "output_type": "stream",
     "text": [
      "Episode: 200; Steps: 536, Mean returns: -2051327765.3297453;\n"
     ]
    },
    {
     "name": "stderr",
     "output_type": "stream",
     "text": [
      "2025-04-08 16:45:47,199 INFO root: Episode 300 mean returns: -2075900960.121192\n"
     ]
    },
    {
     "name": "stdout",
     "output_type": "stream",
     "text": [
      "Episode: 300; Steps: 311, Mean returns: -2076138776.64573;\n"
     ]
    },
    {
     "name": "stderr",
     "output_type": "stream",
     "text": [
      "2025-04-08 16:45:53,250 INFO root: Episode 400 mean returns: -2083059245.407061\n"
     ]
    },
    {
     "name": "stdout",
     "output_type": "stream",
     "text": [
      "Episode: 400; Steps: 74, Mean returns: -2083219904.7888603;\n"
     ]
    },
    {
     "name": "stderr",
     "output_type": "stream",
     "text": [
      "2025-04-08 16:45:58,518 INFO root: Episode 500 mean returns: -2087354211.417505\n"
     ]
    }
   ],
   "source": [
    "lr = task.learning_rate(**{\"name\": \"constant\", \"args\": {\"initial_lr\": 0.01}})\n",
    "num_episodes = 500\n",
    "# Create spec using provided name and args for feature spec\n",
    "for turn in range(3):\n",
    "    print(\"Turn:\", turn)\n",
    "    monitor.clear()\n",
    "    algorithm = task.create_algorithm(\n",
    "        env=env,\n",
    "        feats_transform=feats_tfx,\n",
    "        delay_reward=rew_delay,\n",
    "        lr=lr,\n",
    "        gamma=1.0,\n",
    "        epsilon=0.2,\n",
    "        policy_type=\"markovian\",\n",
    "        base_seed=0,\n",
    "    )\n",
    "    \n",
    "    results = task.policy_control(\n",
    "        env=env,\n",
    "        algorithm=algorithm,\n",
    "        num_episodes=num_episodes,\n",
    "        monitor=monitor,\n",
    "    )\n",
    "    \n",
    "    for episode, snapshot in enumerate(results):\n",
    "        if episode % (num_episodes//5) == 0:\n",
    "            print(\n",
    "                f\"Episode: {episode}; Steps: {snapshot.steps}, Mean returns: {np.mean(monitor.returns + [monitor.rewards]).item()};\"\n",
    "            )"
   ]
  },
  {
   "cell_type": "markdown",
   "id": "200ca158-e9e0-4074-a495-9f225000b625",
   "metadata": {},
   "source": [
    "## Control: Current Impl - pos-enf"
   ]
  },
  {
   "cell_type": "code",
   "execution_count": 17,
   "id": "53b2de80-a2b0-4fa4-b7fe-ff1ae2290a41",
   "metadata": {},
   "outputs": [],
   "source": [
    "MAX_STEPS = 2500"
   ]
  },
  {
   "cell_type": "code",
   "execution_count": 18,
   "id": "a1d78615-ec09-4202-bd81-7e460b3916d4",
   "metadata": {},
   "outputs": [],
   "source": [
    "env = gem.make(\"Finite-CC-PMSM-v0\", reward_fn=\"pos-enf\", max_episode_steps=MAX_STEPS)"
   ]
  },
  {
   "cell_type": "code",
   "execution_count": 19,
   "id": "f13107e6-0e8b-4653-8acd-88329b12ff46",
   "metadata": {},
   "outputs": [
    {
     "data": {
      "text/plain": [
       "(<EnvMonitorWrapper<TimeLimit<GemObsAsVectorWrapper<FiniteCurrentControlPermanentMagnetSynchronousMotorEnv<Finite-CC-PMSM-v0>>>>>,\n",
       " <drmdp.core.EnvMonitor at 0x32152fbd0>)"
      ]
     },
     "execution_count": 19,
     "metadata": {},
     "output_type": "execute_result"
    }
   ],
   "source": [
    "env, monitor = task.monitor_wrapper(env)\n",
    "env, monitor"
   ]
  },
  {
   "cell_type": "code",
   "execution_count": 20,
   "id": "a5437b50-214b-4b84-ad00-6b6e1ecaf080",
   "metadata": {},
   "outputs": [],
   "source": [
    "rew_delay = task.reward_delay_distribution(\n",
    "    None\n",
    ")"
   ]
  },
  {
   "cell_type": "code",
   "execution_count": 21,
   "id": "7cc2aec7-af0e-4987-8915-15277d2f15ca",
   "metadata": {},
   "outputs": [],
   "source": [
    "rew_delay"
   ]
  },
  {
   "cell_type": "code",
   "execution_count": 22,
   "id": "074f5592-317f-40d9-9d3a-cf9254a5873e",
   "metadata": {},
   "outputs": [
    {
     "data": {
      "text/plain": [
       "<EnvMonitorWrapper<TimeLimit<GemObsAsVectorWrapper<FiniteCurrentControlPermanentMagnetSynchronousMotorEnv<Finite-CC-PMSM-v0>>>>>"
      ]
     },
     "execution_count": 22,
     "metadata": {},
     "output_type": "execute_result"
    }
   ],
   "source": [
    "env = task.delay_wrapper(env, rew_delay)\n",
    "env"
   ]
  },
  {
   "cell_type": "code",
   "execution_count": 23,
   "id": "e2a1cee8-828e-45ed-b1f7-3ca7c0b4a739",
   "metadata": {},
   "outputs": [],
   "source": [
    "feats_spec = {\"name\": \"scale\", \"args\": None}"
   ]
  },
  {
   "cell_type": "code",
   "execution_count": 24,
   "id": "d2957cb3-355e-42c5-a45b-264b0fb86ddf",
   "metadata": {},
   "outputs": [
    {
     "data": {
      "text/plain": [
       "<EnvMonitorWrapper<TimeLimit<GemObsAsVectorWrapper<FiniteCurrentControlPermanentMagnetSynchronousMotorEnv<Finite-CC-PMSM-v0>>>>>"
      ]
     },
     "execution_count": 24,
     "metadata": {},
     "output_type": "execute_result"
    }
   ],
   "source": [
    "env = task.reward_mapper(\n",
    "    env,\n",
    "    mapping_spec={\"name\": \"identity\", \"args\": None},\n",
    "    feats_spec=feats_spec,\n",
    ")\n",
    "env"
   ]
  },
  {
   "cell_type": "code",
   "execution_count": 25,
   "id": "e5121dd1-2f68-46de-842d-6179b036b3d4",
   "metadata": {},
   "outputs": [
    {
     "data": {
      "text/plain": [
       "<drmdp.feats.ScaleFeatTransform at 0x32152e650>"
      ]
     },
     "execution_count": 25,
     "metadata": {},
     "output_type": "execute_result"
    }
   ],
   "source": [
    "feats_tfx = feats.create_feat_transformer(env=env, **feats_spec)\n",
    "feats_tfx"
   ]
  },
  {
   "cell_type": "code",
   "execution_count": 26,
   "id": "2ae3cf3b-812a-4d0a-ad7d-d4b103ac4f82",
   "metadata": {},
   "outputs": [
    {
     "name": "stdout",
     "output_type": "stream",
     "text": [
      "Turn: 0\n",
      "Episode: 0; Steps: 784, Mean returns: 1477.4932034641038;\n"
     ]
    },
    {
     "name": "stderr",
     "output_type": "stream",
     "text": [
      "2025-04-08 16:46:11,706 INFO root: Episode 100 mean returns: 2760.913909\n"
     ]
    },
    {
     "name": "stdout",
     "output_type": "stream",
     "text": [
      "Episode: 100; Steps: 965, Mean returns: 2751.667969795287;\n"
     ]
    },
    {
     "name": "stderr",
     "output_type": "stream",
     "text": [
      "2025-04-08 16:46:25,410 INFO root: Episode 200 mean returns: 2790.448689\n"
     ]
    },
    {
     "name": "stdout",
     "output_type": "stream",
     "text": [
      "Episode: 200; Steps: 932, Mean returns: 2784.9851995004815;\n"
     ]
    },
    {
     "name": "stderr",
     "output_type": "stream",
     "text": [
      "2025-04-08 16:46:37,629 INFO root: Episode 300 mean returns: 2694.356943\n"
     ]
    },
    {
     "name": "stdout",
     "output_type": "stream",
     "text": [
      "Episode: 300; Steps: 590, Mean returns: 2688.9625247344616;\n"
     ]
    },
    {
     "name": "stderr",
     "output_type": "stream",
     "text": [
      "2025-04-08 16:46:52,680 INFO root: Episode 400 mean returns: 2788.155670\n"
     ]
    },
    {
     "name": "stdout",
     "output_type": "stream",
     "text": [
      "Episode: 400; Steps: 2500, Mean returns: 2792.6673445032125;\n"
     ]
    },
    {
     "name": "stderr",
     "output_type": "stream",
     "text": [
      "2025-04-08 16:47:06,595 INFO root: Episode 500 mean returns: 2798.553043\n"
     ]
    },
    {
     "name": "stdout",
     "output_type": "stream",
     "text": [
      "Turn: 1\n",
      "Episode: 0; Steps: 745, Mean returns: 1416.7268762308881;\n"
     ]
    },
    {
     "name": "stderr",
     "output_type": "stream",
     "text": [
      "2025-04-08 16:47:21,162 INFO root: Episode 100 mean returns: 3001.517178\n"
     ]
    },
    {
     "name": "stdout",
     "output_type": "stream",
     "text": [
      "Episode: 100; Steps: 2500, Mean returns: 3017.5477138996794;\n"
     ]
    },
    {
     "name": "stderr",
     "output_type": "stream",
     "text": [
      "2025-04-08 16:47:35,766 INFO root: Episode 200 mean returns: 2964.497123\n"
     ]
    },
    {
     "name": "stdout",
     "output_type": "stream",
     "text": [
      "Episode: 200; Steps: 973, Mean returns: 2958.3200657316956;\n"
     ]
    },
    {
     "name": "stderr",
     "output_type": "stream",
     "text": [
      "2025-04-08 16:47:49,141 INFO root: Episode 300 mean returns: 2887.439031\n"
     ]
    },
    {
     "name": "stdout",
     "output_type": "stream",
     "text": [
      "Episode: 300; Steps: 1202, Mean returns: 2884.973431823556;\n"
     ]
    },
    {
     "name": "stderr",
     "output_type": "stream",
     "text": [
      "2025-04-08 16:48:02,792 INFO root: Episode 400 mean returns: 2869.318388\n"
     ]
    },
    {
     "name": "stdout",
     "output_type": "stream",
     "text": [
      "Episode: 400; Steps: 1458, Mean returns: 2868.977438629838;\n"
     ]
    },
    {
     "name": "stderr",
     "output_type": "stream",
     "text": [
      "2025-04-08 16:48:17,983 INFO root: Episode 500 mean returns: 2935.946576\n"
     ]
    },
    {
     "name": "stdout",
     "output_type": "stream",
     "text": [
      "Turn: 2\n",
      "Episode: 0; Steps: 695, Mean returns: 1332.9867845441356;\n"
     ]
    },
    {
     "name": "stderr",
     "output_type": "stream",
     "text": [
      "2025-04-08 16:48:32,469 INFO root: Episode 100 mean returns: 3049.502028\n"
     ]
    },
    {
     "name": "stdout",
     "output_type": "stream",
     "text": [
      "Episode: 100; Steps: 567, Mean returns: 3029.991802246239;\n"
     ]
    },
    {
     "name": "stderr",
     "output_type": "stream",
     "text": [
      "2025-04-08 16:48:46,569 INFO root: Episode 200 mean returns: 3011.028976\n"
     ]
    },
    {
     "name": "stdout",
     "output_type": "stream",
     "text": [
      "Episode: 200; Steps: 2500, Mean returns: 3018.247620165099;\n"
     ]
    },
    {
     "name": "stderr",
     "output_type": "stream",
     "text": [
      "2025-04-08 16:49:01,006 INFO root: Episode 300 mean returns: 3030.069334\n"
     ]
    },
    {
     "name": "stdout",
     "output_type": "stream",
     "text": [
      "Episode: 300; Steps: 1260, Mean returns: 3027.551899253392;\n"
     ]
    },
    {
     "name": "stderr",
     "output_type": "stream",
     "text": [
      "2025-04-08 16:49:16,045 INFO root: Episode 400 mean returns: 3069.209935\n"
     ]
    },
    {
     "name": "stdout",
     "output_type": "stream",
     "text": [
      "Episode: 400; Steps: 796, Mean returns: 3065.212733892493;\n"
     ]
    },
    {
     "name": "stderr",
     "output_type": "stream",
     "text": [
      "2025-04-08 16:49:29,194 INFO root: Episode 500 mean returns: 3013.439115\n"
     ]
    }
   ],
   "source": [
    "lr = task.learning_rate(**{\"name\": \"constant\", \"args\": {\"initial_lr\": 0.01}})\n",
    "num_episodes = 500\n",
    "# Create spec using provided name and args for feature spec\n",
    "for turn in range(3):\n",
    "    monitor.clear()\n",
    "    print(\"Turn:\", turn)\n",
    "    algorithm = task.create_algorithm(\n",
    "        env=env,\n",
    "        feats_transform=feats_tfx,\n",
    "        delay_reward=rew_delay,\n",
    "        lr=lr,\n",
    "        gamma=1.0,\n",
    "        epsilon=0.2,\n",
    "        policy_type=\"uniform-random\",\n",
    "        base_seed=0,\n",
    "    )\n",
    "    \n",
    "    results = task.policy_control(\n",
    "        env=env,\n",
    "        algorithm=algorithm,\n",
    "        num_episodes=num_episodes,\n",
    "        monitor=monitor,\n",
    "    )\n",
    "    \n",
    "    for episode, snapshot in enumerate(results):\n",
    "        if episode % (num_episodes//5) == 0:\n",
    "            print(\n",
    "                f\"Episode: {episode}; Steps: {snapshot.steps}, Mean returns: {np.mean(monitor.returns + [monitor.rewards]).item()};\"\n",
    "            )"
   ]
  },
  {
   "cell_type": "code",
   "execution_count": 27,
   "id": "da52eea4-9c56-4f6f-b79f-041fdb18a868",
   "metadata": {},
   "outputs": [
    {
     "name": "stdout",
     "output_type": "stream",
     "text": [
      "Turn: 0\n",
      "Episode: 0; Steps: 71, Mean returns: 126.25950600482554;\n"
     ]
    },
    {
     "name": "stderr",
     "output_type": "stream",
     "text": [
      "2025-04-08 16:49:29,900 INFO root: Episode 100 mean returns: 122.667318\n"
     ]
    },
    {
     "name": "stdout",
     "output_type": "stream",
     "text": [
      "Episode: 100; Steps: 65, Mean returns: 122.63924453918166;\n"
     ]
    },
    {
     "name": "stderr",
     "output_type": "stream",
     "text": [
      "2025-04-08 16:49:30,605 INFO root: Episode 200 mean returns: 123.530057\n"
     ]
    },
    {
     "name": "stdout",
     "output_type": "stream",
     "text": [
      "Episode: 200; Steps: 78, Mean returns: 123.57698808094281;\n"
     ]
    },
    {
     "name": "stderr",
     "output_type": "stream",
     "text": [
      "2025-04-08 16:49:40,138 INFO root: Episode 300 mean returns: 722.522224\n"
     ]
    },
    {
     "name": "stdout",
     "output_type": "stream",
     "text": [
      "Episode: 300; Steps: 2500, Mean returns: 734.9957251566245;\n"
     ]
    },
    {
     "name": "stderr",
     "output_type": "stream",
     "text": [
      "2025-04-08 16:49:58,453 INFO root: Episode 400 mean returns: 1470.718285\n"
     ]
    },
    {
     "name": "stdout",
     "output_type": "stream",
     "text": [
      "Episode: 400; Steps: 2500, Mean returns: 1478.3201632420175;\n"
     ]
    },
    {
     "name": "stderr",
     "output_type": "stream",
     "text": [
      "2025-04-08 16:50:12,468 INFO root: Episode 500 mean returns: 1747.144935\n"
     ]
    },
    {
     "name": "stdout",
     "output_type": "stream",
     "text": [
      "Turn: 1\n",
      "Episode: 0; Steps: 2500, Mean returns: 4618.715544124654;\n"
     ]
    },
    {
     "name": "stderr",
     "output_type": "stream",
     "text": [
      "2025-04-08 16:50:33,370 INFO root: Episode 100 mean returns: 4215.450737\n"
     ]
    },
    {
     "name": "stdout",
     "output_type": "stream",
     "text": [
      "Episode: 100; Steps: 2500, Mean returns: 4219.407825347044;\n"
     ]
    },
    {
     "name": "stderr",
     "output_type": "stream",
     "text": [
      "2025-04-08 16:50:47,168 INFO root: Episode 200 mean returns: 3499.027578\n"
     ]
    },
    {
     "name": "stdout",
     "output_type": "stream",
     "text": [
      "Episode: 200; Steps: 2500, Mean returns: 3503.552725277513;\n"
     ]
    },
    {
     "name": "stderr",
     "output_type": "stream",
     "text": [
      "2025-04-08 16:50:57,089 INFO root: Episode 300 mean returns: 3002.930429\n"
     ]
    },
    {
     "name": "stdout",
     "output_type": "stream",
     "text": [
      "Episode: 300; Steps: 2500, Mean returns: 3007.885011469504;\n"
     ]
    },
    {
     "name": "stderr",
     "output_type": "stream",
     "text": [
      "2025-04-08 16:51:05,838 INFO root: Episode 400 mean returns: 2696.858267\n"
     ]
    },
    {
     "name": "stdout",
     "output_type": "stream",
     "text": [
      "Episode: 400; Steps: 258, Mean returns: 2691.2065284889763;\n"
     ]
    },
    {
     "name": "stderr",
     "output_type": "stream",
     "text": [
      "2025-04-08 16:51:12,236 INFO root: Episode 500 mean returns: 2413.927656\n"
     ]
    },
    {
     "name": "stdout",
     "output_type": "stream",
     "text": [
      "Turn: 2\n",
      "Episode: 0; Steps: 71, Mean returns: 130.74543840875035;\n"
     ]
    },
    {
     "name": "stderr",
     "output_type": "stream",
     "text": [
      "2025-04-08 16:51:12,938 INFO root: Episode 100 mean returns: 123.507149\n"
     ]
    },
    {
     "name": "stdout",
     "output_type": "stream",
     "text": [
      "Episode: 100; Steps: 80, Mean returns: 123.72899909410377;\n"
     ]
    },
    {
     "name": "stderr",
     "output_type": "stream",
     "text": [
      "2025-04-08 16:51:13,628 INFO root: Episode 200 mean returns: 123.058719\n"
     ]
    },
    {
     "name": "stdout",
     "output_type": "stream",
     "text": [
      "Episode: 200; Steps: 65, Mean returns: 123.02149266631906;\n"
     ]
    },
    {
     "name": "stderr",
     "output_type": "stream",
     "text": [
      "2025-04-08 16:51:28,943 INFO root: Episode 300 mean returns: 1124.326917\n"
     ]
    },
    {
     "name": "stdout",
     "output_type": "stream",
     "text": [
      "Episode: 300; Steps: 2500, Mean returns: 1135.5550361927978;\n"
     ]
    },
    {
     "name": "stderr",
     "output_type": "stream",
     "text": [
      "2025-04-08 16:51:45,003 INFO root: Episode 400 mean returns: 1663.914975\n"
     ]
    },
    {
     "name": "stdout",
     "output_type": "stream",
     "text": [
      "Episode: 400; Steps: 2500, Mean returns: 1671.2659964353395;\n"
     ]
    },
    {
     "name": "stderr",
     "output_type": "stream",
     "text": [
      "2025-04-08 16:51:56,761 INFO root: Episode 500 mean returns: 1794.563905\n"
     ]
    }
   ],
   "source": [
    "lr = task.learning_rate(**{\"name\": \"constant\", \"args\": {\"initial_lr\": 0.01}})\n",
    "num_episodes = 500\n",
    "# Create spec using provided name and args for feature spec\n",
    "for turn in range(3):\n",
    "    print(\"Turn:\", turn)\n",
    "    monitor.clear()\n",
    "    algorithm = task.create_algorithm(\n",
    "        env=env,\n",
    "        feats_transform=feats_tfx,\n",
    "        delay_reward=rew_delay,\n",
    "        lr=lr,\n",
    "        gamma=1.0,\n",
    "        epsilon=0.2,\n",
    "        policy_type=\"markovian\",\n",
    "        base_seed=0,\n",
    "    )\n",
    "    \n",
    "    results = task.policy_control(\n",
    "        env=env,\n",
    "        algorithm=algorithm,\n",
    "        num_episodes=num_episodes,\n",
    "        monitor=monitor,\n",
    "    )\n",
    "    \n",
    "    for episode, snapshot in enumerate(results):\n",
    "        if episode % (num_episodes//5) == 0:\n",
    "            print(\n",
    "                f\"Episode: {episode}; Steps: {snapshot.steps}, Mean returns: {np.mean(monitor.returns + [monitor.rewards]).item()};\"\n",
    "            )"
   ]
  },
  {
   "cell_type": "markdown",
   "id": "6ef3a9bf-27b5-411c-a3cd-79c2839105e6",
   "metadata": {},
   "source": [
    "## Control: Current Impl - default"
   ]
  },
  {
   "cell_type": "code",
   "execution_count": 28,
   "id": "7186c242-e5c5-4e7a-b0af-999fa53f9493",
   "metadata": {},
   "outputs": [],
   "source": [
    "MAX_STEPS = 2500"
   ]
  },
  {
   "cell_type": "code",
   "execution_count": 29,
   "id": "a5ef8ecd-65bd-4611-8a64-a849235059b7",
   "metadata": {},
   "outputs": [],
   "source": [
    "env = gem.make(\"Finite-CC-PMSM-v0\", reward_fn=\"default\", max_episode_steps=MAX_STEPS)"
   ]
  },
  {
   "cell_type": "code",
   "execution_count": 30,
   "id": "7c3a496c-f78b-4aa0-bf6e-014e22742d76",
   "metadata": {},
   "outputs": [
    {
     "data": {
      "text/plain": [
       "(<EnvMonitorWrapper<TimeLimit<GemObsAsVectorWrapper<FiniteCurrentControlPermanentMagnetSynchronousMotorEnv<Finite-CC-PMSM-v0>>>>>,\n",
       " <drmdp.core.EnvMonitor at 0x168f1d310>)"
      ]
     },
     "execution_count": 30,
     "metadata": {},
     "output_type": "execute_result"
    }
   ],
   "source": [
    "env, monitor = task.monitor_wrapper(env)\n",
    "env, monitor"
   ]
  },
  {
   "cell_type": "code",
   "execution_count": 31,
   "id": "238f021b-c9b5-467b-a52f-0e84a0d4ba94",
   "metadata": {},
   "outputs": [],
   "source": [
    "rew_delay = task.reward_delay_distribution(\n",
    "    None\n",
    ")"
   ]
  },
  {
   "cell_type": "code",
   "execution_count": 32,
   "id": "104f0edb-4fd4-4920-b42d-5fc9fc0a867f",
   "metadata": {},
   "outputs": [],
   "source": [
    "rew_delay"
   ]
  },
  {
   "cell_type": "code",
   "execution_count": 33,
   "id": "f0c8ba51-97b1-47c3-ab2a-44609ff65d9c",
   "metadata": {},
   "outputs": [
    {
     "data": {
      "text/plain": [
       "<EnvMonitorWrapper<TimeLimit<GemObsAsVectorWrapper<FiniteCurrentControlPermanentMagnetSynchronousMotorEnv<Finite-CC-PMSM-v0>>>>>"
      ]
     },
     "execution_count": 33,
     "metadata": {},
     "output_type": "execute_result"
    }
   ],
   "source": [
    "env = task.delay_wrapper(env, rew_delay)\n",
    "env"
   ]
  },
  {
   "cell_type": "code",
   "execution_count": 34,
   "id": "963335b7-f1c6-4ee3-ad3d-41c43ab8f922",
   "metadata": {},
   "outputs": [],
   "source": [
    "feats_spec = {\"name\": \"scale\", \"args\": None}"
   ]
  },
  {
   "cell_type": "code",
   "execution_count": 35,
   "id": "bc2348bf-4be8-47fb-9338-a8ba8f293507",
   "metadata": {},
   "outputs": [
    {
     "data": {
      "text/plain": [
       "<EnvMonitorWrapper<TimeLimit<GemObsAsVectorWrapper<FiniteCurrentControlPermanentMagnetSynchronousMotorEnv<Finite-CC-PMSM-v0>>>>>"
      ]
     },
     "execution_count": 35,
     "metadata": {},
     "output_type": "execute_result"
    }
   ],
   "source": [
    "env = task.reward_mapper(\n",
    "    env,\n",
    "    mapping_spec={\"name\": \"identity\", \"args\": None},\n",
    "    feats_spec=feats_spec,\n",
    ")\n",
    "env"
   ]
  },
  {
   "cell_type": "code",
   "execution_count": 36,
   "id": "b58ca108-f9bd-4b8f-807f-c4fe8c8fddd4",
   "metadata": {},
   "outputs": [
    {
     "data": {
      "text/plain": [
       "<drmdp.feats.ScaleFeatTransform at 0x32152a750>"
      ]
     },
     "execution_count": 36,
     "metadata": {},
     "output_type": "execute_result"
    }
   ],
   "source": [
    "feats_tfx = feats.create_feat_transformer(env=env, **feats_spec)\n",
    "feats_tfx"
   ]
  },
  {
   "cell_type": "code",
   "execution_count": 37,
   "id": "283e26e4-9cf8-4958-b4d7-0cd927cb8e37",
   "metadata": {},
   "outputs": [
    {
     "name": "stdout",
     "output_type": "stream",
     "text": [
      "Turn: 0\n",
      "Episode: 0; Steps: 2500, Mean returns: -374.31834074240703;\n"
     ]
    },
    {
     "name": "stderr",
     "output_type": "stream",
     "text": [
      "2025-04-08 16:52:12,242 INFO root: Episode 100 mean returns: -333.409958\n"
     ]
    },
    {
     "name": "stdout",
     "output_type": "stream",
     "text": [
      "Episode: 100; Steps: 826, Mean returns: -331.0062466509027;\n"
     ]
    },
    {
     "name": "stderr",
     "output_type": "stream",
     "text": [
      "2025-04-08 16:52:25,617 INFO root: Episode 200 mean returns: -320.933740\n"
     ]
    },
    {
     "name": "stdout",
     "output_type": "stream",
     "text": [
      "Episode: 200; Steps: 2190, Mean returns: -321.78417810681276;\n"
     ]
    },
    {
     "name": "stderr",
     "output_type": "stream",
     "text": [
      "2025-04-08 16:52:40,404 INFO root: Episode 300 mean returns: -321.712136\n"
     ]
    },
    {
     "name": "stdout",
     "output_type": "stream",
     "text": [
      "Episode: 300; Steps: 2500, Mean returns: -322.4665966050986;\n"
     ]
    },
    {
     "name": "stderr",
     "output_type": "stream",
     "text": [
      "2025-04-08 16:52:54,344 INFO root: Episode 400 mean returns: -315.885977\n"
     ]
    },
    {
     "name": "stdout",
     "output_type": "stream",
     "text": [
      "Episode: 400; Steps: 2500, Mean returns: -316.0471779694775;\n"
     ]
    },
    {
     "name": "stderr",
     "output_type": "stream",
     "text": [
      "2025-04-08 16:53:08,134 INFO root: Episode 500 mean returns: -314.377305\n"
     ]
    },
    {
     "name": "stdout",
     "output_type": "stream",
     "text": [
      "Turn: 1\n",
      "Episode: 0; Steps: 2287, Mean returns: -273.4725671794496;\n"
     ]
    },
    {
     "name": "stderr",
     "output_type": "stream",
     "text": [
      "2025-04-08 16:53:21,248 INFO root: Episode 100 mean returns: -300.259869\n"
     ]
    },
    {
     "name": "stdout",
     "output_type": "stream",
     "text": [
      "Episode: 100; Steps: 873, Mean returns: -298.16492108570475;\n"
     ]
    },
    {
     "name": "stderr",
     "output_type": "stream",
     "text": [
      "2025-04-08 16:53:35,102 INFO root: Episode 200 mean returns: -310.609084\n"
     ]
    },
    {
     "name": "stdout",
     "output_type": "stream",
     "text": [
      "Episode: 200; Steps: 949, Mean returns: -309.9824841968689;\n"
     ]
    },
    {
     "name": "stderr",
     "output_type": "stream",
     "text": [
      "2025-04-08 16:53:49,397 INFO root: Episode 300 mean returns: -312.541782\n"
     ]
    },
    {
     "name": "stdout",
     "output_type": "stream",
     "text": [
      "Episode: 300; Steps: 1548, Mean returns: -312.48129760813225;\n"
     ]
    },
    {
     "name": "stderr",
     "output_type": "stream",
     "text": [
      "2025-04-08 16:54:02,431 INFO root: Episode 400 mean returns: -305.943745\n"
     ]
    },
    {
     "name": "stdout",
     "output_type": "stream",
     "text": [
      "Episode: 400; Steps: 782, Mean returns: -305.42936622809395;\n"
     ]
    },
    {
     "name": "stderr",
     "output_type": "stream",
     "text": [
      "2025-04-08 16:54:15,302 INFO root: Episode 500 mean returns: -305.430919\n"
     ]
    },
    {
     "name": "stdout",
     "output_type": "stream",
     "text": [
      "Turn: 2\n",
      "Episode: 0; Steps: 2500, Mean returns: -251.63751882003723;\n"
     ]
    },
    {
     "name": "stderr",
     "output_type": "stream",
     "text": [
      "2025-04-08 16:54:29,100 INFO root: Episode 100 mean returns: -293.566960\n"
     ]
    },
    {
     "name": "stdout",
     "output_type": "stream",
     "text": [
      "Episode: 100; Steps: 931, Mean returns: -291.5775929502194;\n"
     ]
    },
    {
     "name": "stderr",
     "output_type": "stream",
     "text": [
      "2025-04-08 16:54:42,456 INFO root: Episode 200 mean returns: -305.548560\n"
     ]
    },
    {
     "name": "stdout",
     "output_type": "stream",
     "text": [
      "Episode: 200; Steps: 2500, Mean returns: -306.57185485427067;\n"
     ]
    },
    {
     "name": "stderr",
     "output_type": "stream",
     "text": [
      "2025-04-08 16:54:55,794 INFO root: Episode 300 mean returns: -302.563402\n"
     ]
    },
    {
     "name": "stdout",
     "output_type": "stream",
     "text": [
      "Episode: 300; Steps: 747, Mean returns: -301.9999958467348;\n"
     ]
    },
    {
     "name": "stderr",
     "output_type": "stream",
     "text": [
      "2025-04-08 16:55:09,886 INFO root: Episode 400 mean returns: -303.520430\n"
     ]
    },
    {
     "name": "stdout",
     "output_type": "stream",
     "text": [
      "Episode: 400; Steps: 2500, Mean returns: -303.7810244302077;\n"
     ]
    },
    {
     "name": "stderr",
     "output_type": "stream",
     "text": [
      "2025-04-08 16:55:23,908 INFO root: Episode 500 mean returns: -305.719185\n"
     ]
    }
   ],
   "source": [
    "lr = task.learning_rate(**{\"name\": \"constant\", \"args\": {\"initial_lr\": 0.01}})\n",
    "num_episodes = 500\n",
    "# Create spec using provided name and args for feature spec\n",
    "for turn in range(3):\n",
    "    monitor.clear()\n",
    "    print(\"Turn:\", turn)\n",
    "    algorithm = task.create_algorithm(\n",
    "        env=env,\n",
    "        feats_transform=feats_tfx,\n",
    "        delay_reward=rew_delay,\n",
    "        lr=lr,\n",
    "        gamma=1.0,\n",
    "        epsilon=0.2,\n",
    "        policy_type=\"uniform-random\",\n",
    "        base_seed=0,\n",
    "    )\n",
    "    \n",
    "    results = task.policy_control(\n",
    "        env=env,\n",
    "        algorithm=algorithm,\n",
    "        num_episodes=num_episodes,\n",
    "        monitor=monitor,\n",
    "    )\n",
    "    \n",
    "    for episode, snapshot in enumerate(results):\n",
    "        if episode % (num_episodes//5) == 0:\n",
    "            print(\n",
    "                f\"Episode: {episode}; Steps: {snapshot.steps}, Mean returns: {np.mean(monitor.returns + [monitor.rewards]).item()};\"\n",
    "            )"
   ]
  },
  {
   "cell_type": "code",
   "execution_count": 38,
   "id": "806a033f-a7d5-49bf-a960-33a2b9ccf4f5",
   "metadata": {
    "scrolled": true
   },
   "outputs": [
    {
     "name": "stdout",
     "output_type": "stream",
     "text": [
      "Turn: 0\n",
      "Episode: 0; Steps: 2500, Mean returns: -368.6864596061948;\n"
     ]
    },
    {
     "name": "stderr",
     "output_type": "stream",
     "text": [
      "2025-04-08 16:55:32,887 INFO root: Episode 100 mean returns: -162.393274\n"
     ]
    },
    {
     "name": "stdout",
     "output_type": "stream",
     "text": [
      "Episode: 100; Steps: 64, Mean returns: -160.8947571606243;\n"
     ]
    },
    {
     "name": "stderr",
     "output_type": "stream",
     "text": [
      "2025-04-08 16:55:34,852 INFO root: Episode 200 mean returns: -98.221675\n"
     ]
    },
    {
     "name": "stdout",
     "output_type": "stream",
     "text": [
      "Episode: 200; Steps: 69, Mean returns: -97.80391729952973;\n"
     ]
    },
    {
     "name": "stderr",
     "output_type": "stream",
     "text": [
      "2025-04-08 16:55:38,280 INFO root: Episode 300 mean returns: -83.758192\n"
     ]
    },
    {
     "name": "stdout",
     "output_type": "stream",
     "text": [
      "Episode: 300; Steps: 63, Mean returns: -83.53720082059935;\n"
     ]
    },
    {
     "name": "stderr",
     "output_type": "stream",
     "text": [
      "2025-04-08 16:55:40,473 INFO root: Episode 400 mean returns: -71.803307\n"
     ]
    },
    {
     "name": "stdout",
     "output_type": "stream",
     "text": [
      "Episode: 400; Steps: 1493, Mean returns: -71.91345751774514;\n"
     ]
    },
    {
     "name": "stderr",
     "output_type": "stream",
     "text": [
      "2025-04-08 16:55:44,007 INFO root: Episode 500 mean returns: -69.107076\n"
     ]
    },
    {
     "name": "stdout",
     "output_type": "stream",
     "text": [
      "Turn: 1\n",
      "Episode: 0; Steps: 2500, Mean returns: -349.97635098551206;\n"
     ]
    },
    {
     "name": "stderr",
     "output_type": "stream",
     "text": [
      "2025-04-08 16:55:51,400 INFO root: Episode 100 mean returns: -143.242894\n"
     ]
    },
    {
     "name": "stdout",
     "output_type": "stream",
     "text": [
      "Episode: 100; Steps: 94, Mean returns: -141.9887338810352;\n"
     ]
    },
    {
     "name": "stderr",
     "output_type": "stream",
     "text": [
      "2025-04-08 16:55:53,562 INFO root: Episode 200 mean returns: -95.839476\n"
     ]
    },
    {
     "name": "stdout",
     "output_type": "stream",
     "text": [
      "Episode: 200; Steps: 76, Mean returns: -95.42423418812986;\n"
     ]
    },
    {
     "name": "stderr",
     "output_type": "stream",
     "text": [
      "2025-04-08 16:55:55,580 INFO root: Episode 300 mean returns: -76.689808\n"
     ]
    },
    {
     "name": "stdout",
     "output_type": "stream",
     "text": [
      "Episode: 300; Steps: 82, Mean returns: -76.50436794837422;\n"
     ]
    },
    {
     "name": "stderr",
     "output_type": "stream",
     "text": [
      "2025-04-08 16:55:58,436 INFO root: Episode 400 mean returns: -70.227439\n"
     ]
    },
    {
     "name": "stdout",
     "output_type": "stream",
     "text": [
      "Episode: 400; Steps: 318, Mean returns: -70.1406665279897;\n"
     ]
    },
    {
     "name": "stderr",
     "output_type": "stream",
     "text": [
      "2025-04-08 16:56:02,298 INFO root: Episode 500 mean returns: -69.818280\n"
     ]
    },
    {
     "name": "stdout",
     "output_type": "stream",
     "text": [
      "Turn: 2\n",
      "Episode: 0; Steps: 2500, Mean returns: -346.14887066035834;\n"
     ]
    },
    {
     "name": "stderr",
     "output_type": "stream",
     "text": [
      "2025-04-08 16:56:10,365 INFO root: Episode 100 mean returns: -151.173744\n"
     ]
    },
    {
     "name": "stdout",
     "output_type": "stream",
     "text": [
      "Episode: 100; Steps: 87, Mean returns: -149.83306597026316;\n"
     ]
    },
    {
     "name": "stderr",
     "output_type": "stream",
     "text": [
      "2025-04-08 16:56:13,827 INFO root: Episode 200 mean returns: -99.172400\n"
     ]
    },
    {
     "name": "stdout",
     "output_type": "stream",
     "text": [
      "Episode: 200; Steps: 1938, Mean returns: -99.94110658084027;\n"
     ]
    },
    {
     "name": "stderr",
     "output_type": "stream",
     "text": [
      "2025-04-08 16:56:16,871 INFO root: Episode 300 mean returns: -83.932976\n"
     ]
    },
    {
     "name": "stdout",
     "output_type": "stream",
     "text": [
      "Episode: 300; Steps: 213, Mean returns: -83.85329710220161;\n"
     ]
    },
    {
     "name": "stderr",
     "output_type": "stream",
     "text": [
      "2025-04-08 16:56:20,250 INFO root: Episode 400 mean returns: -76.420817\n"
     ]
    },
    {
     "name": "stdout",
     "output_type": "stream",
     "text": [
      "Episode: 400; Steps: 96, Mean returns: -76.31705909818169;\n"
     ]
    },
    {
     "name": "stderr",
     "output_type": "stream",
     "text": [
      "2025-04-08 16:56:23,398 INFO root: Episode 500 mean returns: -71.827851\n"
     ]
    }
   ],
   "source": [
    "lr = task.learning_rate(**{\"name\": \"constant\", \"args\": {\"initial_lr\": 0.01}})\n",
    "num_episodes = 500\n",
    "# Create spec using provided name and args for feature spec\n",
    "for turn in range(3):\n",
    "    print(\"Turn:\", turn)\n",
    "    monitor.clear()\n",
    "    algorithm = task.create_algorithm(\n",
    "        env=env,\n",
    "        feats_transform=feats_tfx,\n",
    "        delay_reward=rew_delay,\n",
    "        lr=lr,\n",
    "        gamma=1.0,\n",
    "        epsilon=0.2,\n",
    "        policy_type=\"markovian\",\n",
    "        base_seed=0,\n",
    "    )\n",
    "    \n",
    "    results = task.policy_control(e\n",
    "        env=env,\n",
    "        algorithm=algorithm,\n",
    "        num_episodes=num_episodes,\n",
    "        monitor=monitor,\n",
    "    )\n",
    "    \n",
    "    for episode, snapshot in enumerate(results):\n",
    "        if episode % (num_episodes//5) == 0:\n",
    "            print(\n",
    "                f\"Episode: {episode}; Steps: {snapshot.steps}, Mean returns: {np.mean(monitor.returns + [monitor.rewards]).item()};\"\n",
    "            )"
   ]
  },
  {
   "cell_type": "markdown",
   "id": "daa4f1ab-2256-4a46-a425-468e9ceb9219",
   "metadata": {},
   "source": [
    "Regardless of the reward function, a random policy outperforms epsilon greedy on this problem.\n",
    "The reason why must be investigated."
   ]
  },
  {
   "cell_type": "code",
   "execution_count": null,
   "id": "ab801dc1-561e-4cda-9916-359018f309a6",
   "metadata": {},
   "outputs": [],
   "source": []
  }
 ],
 "metadata": {
  "kernelspec": {
   "display_name": "Python 3 (ipykernel)",
   "language": "python",
   "name": "python3"
  },
  "language_info": {
   "codemirror_mode": {
    "name": "ipython",
    "version": 3
   },
   "file_extension": ".py",
   "mimetype": "text/x-python",
   "name": "python",
   "nbconvert_exporter": "python",
   "pygments_lexer": "ipython3",
   "version": "3.11.11"
  }
 },
 "nbformat": 4,
 "nbformat_minor": 5
}
