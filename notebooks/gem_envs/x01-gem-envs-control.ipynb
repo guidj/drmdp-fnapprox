{
 "cells": [
  {
   "cell_type": "code",
   "execution_count": 1,
   "id": "ec4881cb-f53a-4b02-a06a-087145effdc7",
   "metadata": {},
   "outputs": [],
   "source": [
    "import numpy as np"
   ]
  },
  {
   "cell_type": "code",
   "execution_count": 2,
   "id": "4d3e52cd-2254-4dd1-b3c5-baedc7dea0bb",
   "metadata": {},
   "outputs": [],
   "source": [
    "from drmdp import feats, task\n",
    "from drmdp.envs import gem"
   ]
  },
  {
   "cell_type": "code",
   "execution_count": 3,
   "id": "bad37818-6600-4c98-90c2-800dd3f53ae5",
   "metadata": {},
   "outputs": [
    {
     "data": {
      "text/plain": [
       "<TimeLimit<DiscretiseActionWrapper<GemObsAsVectorWrapper<FiniteCurrentControlPermanentMagnetSynchronousMotorEnv<Finite-CC-PMSM-v0>>>>>"
      ]
     },
     "execution_count": 3,
     "metadata": {},
     "output_type": "execute_result"
    }
   ],
   "source": [
    "env = gem.make(\"Finite-CC-PMSM-v0\", reward_fn=\"pos-enf\", max_episode_steps=2500)\n",
    "env"
   ]
  },
  {
   "cell_type": "markdown",
   "id": "1cf96601-e3d9-4ac8-b3b7-dc5a2f421654",
   "metadata": {},
   "source": [
    "## Control: Current Impl - neg-enf"
   ]
  },
  {
   "cell_type": "code",
   "execution_count": 4,
   "id": "a7cf42e9-16c8-4c3a-8ced-d66a5e34110a",
   "metadata": {},
   "outputs": [],
   "source": [
    "MAX_STEPS = 2500"
   ]
  },
  {
   "cell_type": "code",
   "execution_count": 5,
   "id": "1f4a1de1-4be5-448c-b455-a2cab7d40442",
   "metadata": {},
   "outputs": [],
   "source": [
    "env = gem.make(\"Finite-CC-PMSM-v0\", reward_fn=\"esp-neg\", max_episode_steps=MAX_STEPS)"
   ]
  },
  {
   "cell_type": "code",
   "execution_count": 6,
   "id": "72a5d472-de42-454d-955e-d5b8fe7c141b",
   "metadata": {},
   "outputs": [
    {
     "data": {
      "text/plain": [
       "(<EnvMonitorWrapper<TimeLimit<DiscretiseActionWrapper<GemObsAsVectorWrapper<FiniteCurrentControlPermanentMagnetSynchronousMotorEnv<Finite-CC-PMSM-v0>>>>>>,\n",
       " <drmdp.core.EnvMonitor at 0x3219e5f10>)"
      ]
     },
     "execution_count": 6,
     "metadata": {},
     "output_type": "execute_result"
    }
   ],
   "source": [
    "env, monitor = task.monitor_wrapper(env)\n",
    "env, monitor"
   ]
  },
  {
   "cell_type": "code",
   "execution_count": 7,
   "id": "67a4a14f-a13e-41fb-84ef-246921850a30",
   "metadata": {},
   "outputs": [],
   "source": [
    "rew_delay = task.reward_delay_distribution(\n",
    "    None\n",
    ")"
   ]
  },
  {
   "cell_type": "code",
   "execution_count": 8,
   "id": "2b33ff57-e58e-46d5-b413-5301b3b8805d",
   "metadata": {},
   "outputs": [],
   "source": [
    "rew_delay"
   ]
  },
  {
   "cell_type": "code",
   "execution_count": 9,
   "id": "32fcfce0-3f2c-441e-8a61-1c4f9962d858",
   "metadata": {},
   "outputs": [
    {
     "data": {
      "text/plain": [
       "<EnvMonitorWrapper<TimeLimit<DiscretiseActionWrapper<GemObsAsVectorWrapper<FiniteCurrentControlPermanentMagnetSynchronousMotorEnv<Finite-CC-PMSM-v0>>>>>>"
      ]
     },
     "execution_count": 9,
     "metadata": {},
     "output_type": "execute_result"
    }
   ],
   "source": [
    "env = task.delay_wrapper(env, rew_delay)\n",
    "env"
   ]
  },
  {
   "cell_type": "code",
   "execution_count": 10,
   "id": "a5260150-ebaf-4683-b7b5-022ced37166b",
   "metadata": {},
   "outputs": [],
   "source": [
    "feats_spec = {\"name\": \"scale\", \"args\": None}"
   ]
  },
  {
   "cell_type": "code",
   "execution_count": 11,
   "id": "5a64b7ab-67e1-424c-9f7f-8ab760f8edbb",
   "metadata": {},
   "outputs": [
    {
     "data": {
      "text/plain": [
       "<EnvMonitorWrapper<TimeLimit<DiscretiseActionWrapper<GemObsAsVectorWrapper<FiniteCurrentControlPermanentMagnetSynchronousMotorEnv<Finite-CC-PMSM-v0>>>>>>"
      ]
     },
     "execution_count": 11,
     "metadata": {},
     "output_type": "execute_result"
    }
   ],
   "source": [
    "env = task.reward_mapper(\n",
    "    env,\n",
    "    mapping_spec={\"name\": \"identity\", \"args\": None},\n",
    "    feats_spec=feats_spec,\n",
    ")\n",
    "env"
   ]
  },
  {
   "cell_type": "code",
   "execution_count": 12,
   "id": "fa89201f-5be4-4640-8d81-d57f77d2e995",
   "metadata": {},
   "outputs": [
    {
     "data": {
      "text/plain": [
       "<drmdp.feats.ScaleFeatTransform at 0x329e0c890>"
      ]
     },
     "execution_count": 12,
     "metadata": {},
     "output_type": "execute_result"
    }
   ],
   "source": [
    "feats_tfx = feats.create_feat_transformer(env=env, **feats_spec)\n",
    "feats_tfx"
   ]
  },
  {
   "cell_type": "code",
   "execution_count": 13,
   "id": "50fcfc9d-b4cf-4003-a326-949d056f34e3",
   "metadata": {},
   "outputs": [
    {
     "name": "stdout",
     "output_type": "stream",
     "text": [
      "Turn: 0\n",
      "Episode: 0; Steps: 1607, Mean returns: -2147483845.6285796;\n"
     ]
    },
    {
     "name": "stderr",
     "output_type": "stream",
     "text": [
      "2025-04-16 15:25:00,538 INFO root: Episode 100 mean returns: -1438814345.271099\n"
     ]
    },
    {
     "name": "stdout",
     "output_type": "stream",
     "text": [
      "Episode: 100; Steps: 811, Mean returns: -1445830873.8849823;\n"
     ]
    },
    {
     "name": "stderr",
     "output_type": "stream",
     "text": [
      "2025-04-16 15:25:16,112 INFO root: Episode 200 mean returns: -1342177605.192196\n"
     ]
    },
    {
     "name": "stdout",
     "output_type": "stream",
     "text": [
      "Episode: 200; Steps: 2500, Mean returns: -1335500107.3969889;\n"
     ]
    },
    {
     "name": "stderr",
     "output_type": "stream",
     "text": [
      "2025-04-16 15:25:31,482 INFO root: Episode 300 mean returns: -1252699122.601744\n"
     ]
    },
    {
     "name": "stdout",
     "output_type": "stream",
     "text": [
      "Episode: 300; Steps: 979, Mean returns: -1255671829.3538432;\n"
     ]
    },
    {
     "name": "stderr",
     "output_type": "stream",
     "text": [
      "2025-04-16 15:25:45,479 INFO root: Episode 400 mean returns: -1288490510.903795\n"
     ]
    },
    {
     "name": "stdout",
     "output_type": "stream",
     "text": [
      "Episode: 400; Steps: 1553, Mean returns: -1290632639.1321163;\n"
     ]
    },
    {
     "name": "stderr",
     "output_type": "stream",
     "text": [
      "2025-04-16 15:25:59,238 INFO root: Episode 500 mean returns: -1322850245.615861\n"
     ]
    },
    {
     "name": "stdout",
     "output_type": "stream",
     "text": [
      "Turn: 1\n",
      "Episode: 0; Steps: 2500, Mean returns: -466.98318134461505;\n"
     ]
    },
    {
     "name": "stderr",
     "output_type": "stream",
     "text": [
      "2025-04-16 15:26:13,202 INFO root: Episode 100 mean returns: -1288490500.927410\n"
     ]
    },
    {
     "name": "stdout",
     "output_type": "stream",
     "text": [
      "Episode: 100; Steps: 1082, Mean returns: -1296995384.600045;\n"
     ]
    },
    {
     "name": "stderr",
     "output_type": "stream",
     "text": [
      "2025-04-16 15:26:27,187 INFO root: Episode 200 mean returns: -1331440179.350203\n"
     ]
    },
    {
     "name": "stdout",
     "output_type": "stream",
     "text": [
      "Episode: 200; Steps: 2500, Mean returns: -1324816101.3580308;\n"
     ]
    },
    {
     "name": "stderr",
     "output_type": "stream",
     "text": [
      "2025-04-16 15:26:41,798 INFO root: Episode 300 mean returns: -1317123622.652195\n"
     ]
    },
    {
     "name": "stdout",
     "output_type": "stream",
     "text": [
      "Episode: 300; Steps: 2500, Mean returns: -1312747798.4365792;\n"
     ]
    },
    {
     "name": "stderr",
     "output_type": "stream",
     "text": [
      "2025-04-16 15:26:57,583 INFO root: Episode 400 mean returns: -1283121804.463295\n"
     ]
    },
    {
     "name": "stdout",
     "output_type": "stream",
     "text": [
      "Episode: 400; Steps: 1256, Mean returns: -1285277320.6278539;\n"
     ]
    },
    {
     "name": "stderr",
     "output_type": "stream",
     "text": [
      "2025-04-16 15:27:14,157 INFO root: Episode 500 mean returns: -1254130779.879498\n"
     ]
    },
    {
     "name": "stdout",
     "output_type": "stream",
     "text": [
      "Turn: 2\n",
      "Episode: 0; Steps: 921, Mean returns: -2147483761.94795;\n"
     ]
    },
    {
     "name": "stderr",
     "output_type": "stream",
     "text": [
      "2025-04-16 15:27:29,004 INFO root: Episode 100 mean returns: -1309965325.647154\n"
     ]
    },
    {
     "name": "stdout",
     "output_type": "stream",
     "text": [
      "Episode: 100; Steps: 2500, Mean returns: -1296995375.6481485;\n"
     ]
    },
    {
     "name": "stderr",
     "output_type": "stream",
     "text": [
      "2025-04-16 15:27:44,077 INFO root: Episode 200 mean returns: -1288490499.507855\n"
     ]
    },
    {
     "name": "stdout",
     "output_type": "stream",
     "text": [
      "Episode: 200; Steps: 974, Mean returns: -1292764098.2675796;\n"
     ]
    },
    {
     "name": "stderr",
     "output_type": "stream",
     "text": [
      "2025-04-16 15:27:57,675 INFO root: Episode 300 mean returns: -1374389837.742562\n"
     ]
    },
    {
     "name": "stdout",
     "output_type": "stream",
     "text": [
      "Episode: 300; Steps: 2500, Mean returns: -1369823760.3916676;\n"
     ]
    },
    {
     "name": "stderr",
     "output_type": "stream",
     "text": [
      "2025-04-16 15:28:12,572 INFO root: Episode 400 mean returns: -1363652418.418463\n"
     ]
    },
    {
     "name": "stdout",
     "output_type": "stream",
     "text": [
      "Episode: 400; Steps: 2500, Mean returns: -1360251790.005094;\n"
     ]
    },
    {
     "name": "stderr",
     "output_type": "stream",
     "text": [
      "2025-04-16 15:28:26,643 INFO root: Episode 500 mean returns: -1391569705.698833\n"
     ]
    }
   ],
   "source": [
    "lr = task.learning_rate(**{\"name\": \"constant\", \"args\": {\"initial_lr\": 0.01}})\n",
    "num_episodes = 500\n",
    "# Create spec using provided name and args for feature spec\n",
    "for turn in range(3):\n",
    "    monitor.clear()\n",
    "    print(\"Turn:\", turn)\n",
    "    algorithm = task.create_algorithm(\n",
    "        env=env,\n",
    "        feats_transform=feats_tfx,\n",
    "        delay_reward=rew_delay,\n",
    "        lr=lr,\n",
    "        gamma=1.0,\n",
    "        epsilon=0.2,\n",
    "        policy_type=\"uniform-random\",\n",
    "        base_seed=0,\n",
    "    )\n",
    "    \n",
    "    results = task.policy_control(\n",
    "        env=env,\n",
    "        algorithm=algorithm,\n",
    "        num_episodes=num_episodes,\n",
    "        monitor=monitor,\n",
    "    )\n",
    "    \n",
    "    for episode, snapshot in enumerate(results):\n",
    "        if episode % (num_episodes//5) == 0:\n",
    "            print(\n",
    "                f\"Episode: {episode}; Steps: {snapshot.steps}, Mean returns: {np.mean(monitor.returns + [monitor.rewards]).item()};\"\n",
    "            )"
   ]
  },
  {
   "cell_type": "code",
   "execution_count": 14,
   "id": "2ee94278-2737-42d8-bcc0-016038ad6b04",
   "metadata": {},
   "outputs": [
    {
     "name": "stdout",
     "output_type": "stream",
     "text": [
      "Turn: 0\n",
      "Episode: 0; Steps: 2500, Mean returns: -362.10844229530426;\n"
     ]
    },
    {
     "name": "stderr",
     "output_type": "stream",
     "text": [
      "2025-04-16 15:28:34,453 INFO root: Episode 100 mean returns: -1954210282.073675\n"
     ]
    },
    {
     "name": "stdout",
     "output_type": "stream",
     "text": [
      "Episode: 100; Steps: 277, Mean returns: -1956123880.049385;\n"
     ]
    },
    {
     "name": "stderr",
     "output_type": "stream",
     "text": [
      "2025-04-16 15:28:40,884 INFO root: Episode 200 mean returns: -2050847038.637289\n"
     ]
    },
    {
     "name": "stdout",
     "output_type": "stream",
     "text": [
      "Episode: 200; Steps: 786, Mean returns: -2051327818.7286522;\n"
     ]
    },
    {
     "name": "stderr",
     "output_type": "stream",
     "text": [
      "2025-04-16 15:28:47,940 INFO root: Episode 300 mean returns: -2083059289.213346\n"
     ]
    },
    {
     "name": "stdout",
     "output_type": "stream",
     "text": [
      "Episode: 300; Steps: 426, Mean returns: -2083273323.9118264;\n"
     ]
    },
    {
     "name": "stderr",
     "output_type": "stream",
     "text": [
      "2025-04-16 15:28:54,123 INFO root: Episode 400 mean returns: -2099165409.937872\n"
     ]
    },
    {
     "name": "stdout",
     "output_type": "stream",
     "text": [
      "Episode: 400; Steps: 903, Mean returns: -2099285904.7590995;\n"
     ]
    },
    {
     "name": "stderr",
     "output_type": "stream",
     "text": [
      "2025-04-16 15:29:01,058 INFO root: Episode 500 mean returns: -2108829085.631826\n"
     ]
    },
    {
     "name": "stdout",
     "output_type": "stream",
     "text": [
      "Turn: 1\n",
      "Episode: 0; Steps: 2500, Mean returns: -347.13244650441766;\n"
     ]
    },
    {
     "name": "stderr",
     "output_type": "stream",
     "text": [
      "2025-04-16 15:29:09,118 INFO root: Episode 100 mean returns: -1954210287.522372\n"
     ]
    },
    {
     "name": "stdout",
     "output_type": "stream",
     "text": [
      "Episode: 100; Steps: 189, Mean returns: -1956123885.447717;\n"
     ]
    },
    {
     "name": "stderr",
     "output_type": "stream",
     "text": [
      "2025-04-16 15:29:15,038 INFO root: Episode 200 mean returns: -2050847036.705163\n"
     ]
    },
    {
     "name": "stdout",
     "output_type": "stream",
     "text": [
      "Episode: 200; Steps: 821, Mean returns: -2051327816.8776033;\n"
     ]
    },
    {
     "name": "stderr",
     "output_type": "stream",
     "text": [
      "2025-04-16 15:29:21,877 INFO root: Episode 300 mean returns: -2083059288.876348\n"
     ]
    },
    {
     "name": "stdout",
     "output_type": "stream",
     "text": [
      "Episode: 300; Steps: 661, Mean returns: -2083273323.7408495;\n"
     ]
    },
    {
     "name": "stderr",
     "output_type": "stream",
     "text": [
      "2025-04-16 15:29:28,612 INFO root: Episode 400 mean returns: -2099165413.053473\n"
     ]
    },
    {
     "name": "stdout",
     "output_type": "stream",
     "text": [
      "Episode: 400; Steps: 284, Mean returns: -2099285907.4705577;\n"
     ]
    },
    {
     "name": "stderr",
     "output_type": "stream",
     "text": [
      "2025-04-16 15:29:35,561 INFO root: Episode 500 mean returns: -2104534121.924639\n"
     ]
    },
    {
     "name": "stdout",
     "output_type": "stream",
     "text": [
      "Turn: 2\n",
      "Episode: 0; Steps: 2500, Mean returns: -346.8241619943129;\n"
     ]
    },
    {
     "name": "stderr",
     "output_type": "stream",
     "text": [
      "2025-04-16 15:29:42,313 INFO root: Episode 100 mean returns: -2104534115.308640\n"
     ]
    },
    {
     "name": "stdout",
     "output_type": "stream",
     "text": [
      "Episode: 100; Steps: 640, Mean returns: -2104959358.8119855;\n"
     ]
    },
    {
     "name": "stderr",
     "output_type": "stream",
     "text": [
      "2025-04-16 15:29:48,712 INFO root: Episode 200 mean returns: -2126008948.147205\n"
     ]
    },
    {
     "name": "stdout",
     "output_type": "stream",
     "text": [
      "Episode: 200; Steps: 1246, Mean returns: -2126115788.7929232;\n"
     ]
    },
    {
     "name": "stderr",
     "output_type": "stream",
     "text": [
      "2025-04-16 15:29:55,855 INFO root: Episode 300 mean returns: -2126008951.057826\n"
     ]
    },
    {
     "name": "stdout",
     "output_type": "stream",
     "text": [
      "Episode: 300; Steps: 204, Mean returns: -2126080295.711313;\n"
     ]
    },
    {
     "name": "stderr",
     "output_type": "stream",
     "text": [
      "2025-04-16 15:30:02,268 INFO root: Episode 400 mean returns: -2131377655.369529\n"
     ]
    },
    {
     "name": "stdout",
     "output_type": "stream",
     "text": [
      "Episode: 400; Steps: 1218, Mean returns: -2131417820.3222842;\n"
     ]
    },
    {
     "name": "stderr",
     "output_type": "stream",
     "text": [
      "2025-04-16 15:30:09,480 INFO root: Episode 500 mean returns: -2126008947.807034\n"
     ]
    }
   ],
   "source": [
    "lr = task.learning_rate(**{\"name\": \"constant\", \"args\": {\"initial_lr\": 0.01}})\n",
    "num_episodes = 500\n",
    "# Create spec using provided name and args for feature spec\n",
    "for turn in range(3):\n",
    "    print(\"Turn:\", turn)\n",
    "    monitor.clear()\n",
    "    algorithm = task.create_algorithm(\n",
    "        env=env,\n",
    "        feats_transform=feats_tfx,\n",
    "        delay_reward=rew_delay,\n",
    "        lr=lr,\n",
    "        gamma=1.0,\n",
    "        epsilon=0.2,\n",
    "        policy_type=\"markovian\",\n",
    "        base_seed=0,\n",
    "    )\n",
    "    \n",
    "    results = task.policy_control(\n",
    "        env=env,\n",
    "        algorithm=algorithm,\n",
    "        num_episodes=num_episodes,\n",
    "        monitor=monitor,\n",
    "    )\n",
    "    \n",
    "    for episode, snapshot in enumerate(results):\n",
    "        if episode % (num_episodes//5) == 0:\n",
    "            print(\n",
    "                f\"Episode: {episode}; Steps: {snapshot.steps}, Mean returns: {np.mean(monitor.returns + [monitor.rewards]).item()};\"\n",
    "            )"
   ]
  },
  {
   "cell_type": "markdown",
   "id": "200ca158-e9e0-4074-a495-9f225000b625",
   "metadata": {},
   "source": [
    "## Control: Current Impl - pos-enf"
   ]
  },
  {
   "cell_type": "code",
   "execution_count": 15,
   "id": "53b2de80-a2b0-4fa4-b7fe-ff1ae2290a41",
   "metadata": {},
   "outputs": [],
   "source": [
    "MAX_STEPS = 2500"
   ]
  },
  {
   "cell_type": "code",
   "execution_count": 16,
   "id": "a1d78615-ec09-4202-bd81-7e460b3916d4",
   "metadata": {},
   "outputs": [],
   "source": [
    "env = gem.make(\"Finite-CC-PMSM-v0\", reward_fn=\"pos-enf\", max_episode_steps=MAX_STEPS)"
   ]
  },
  {
   "cell_type": "code",
   "execution_count": 17,
   "id": "f13107e6-0e8b-4653-8acd-88329b12ff46",
   "metadata": {},
   "outputs": [
    {
     "data": {
      "text/plain": [
       "(<EnvMonitorWrapper<TimeLimit<DiscretiseActionWrapper<GemObsAsVectorWrapper<FiniteCurrentControlPermanentMagnetSynchronousMotorEnv<Finite-CC-PMSM-v0>>>>>>,\n",
       " <drmdp.core.EnvMonitor at 0x329dfa390>)"
      ]
     },
     "execution_count": 17,
     "metadata": {},
     "output_type": "execute_result"
    }
   ],
   "source": [
    "env, monitor = task.monitor_wrapper(env)\n",
    "env, monitor"
   ]
  },
  {
   "cell_type": "code",
   "execution_count": 18,
   "id": "a5437b50-214b-4b84-ad00-6b6e1ecaf080",
   "metadata": {},
   "outputs": [],
   "source": [
    "rew_delay = task.reward_delay_distribution(\n",
    "    None\n",
    ")"
   ]
  },
  {
   "cell_type": "code",
   "execution_count": 19,
   "id": "7cc2aec7-af0e-4987-8915-15277d2f15ca",
   "metadata": {},
   "outputs": [],
   "source": [
    "rew_delay"
   ]
  },
  {
   "cell_type": "code",
   "execution_count": 20,
   "id": "074f5592-317f-40d9-9d3a-cf9254a5873e",
   "metadata": {},
   "outputs": [
    {
     "data": {
      "text/plain": [
       "<EnvMonitorWrapper<TimeLimit<DiscretiseActionWrapper<GemObsAsVectorWrapper<FiniteCurrentControlPermanentMagnetSynchronousMotorEnv<Finite-CC-PMSM-v0>>>>>>"
      ]
     },
     "execution_count": 20,
     "metadata": {},
     "output_type": "execute_result"
    }
   ],
   "source": [
    "env = task.delay_wrapper(env, rew_delay)\n",
    "env"
   ]
  },
  {
   "cell_type": "code",
   "execution_count": 21,
   "id": "e2a1cee8-828e-45ed-b1f7-3ca7c0b4a739",
   "metadata": {},
   "outputs": [],
   "source": [
    "feats_spec = {\"name\": \"scale\", \"args\": None}"
   ]
  },
  {
   "cell_type": "code",
   "execution_count": 22,
   "id": "d2957cb3-355e-42c5-a45b-264b0fb86ddf",
   "metadata": {},
   "outputs": [
    {
     "data": {
      "text/plain": [
       "<EnvMonitorWrapper<TimeLimit<DiscretiseActionWrapper<GemObsAsVectorWrapper<FiniteCurrentControlPermanentMagnetSynchronousMotorEnv<Finite-CC-PMSM-v0>>>>>>"
      ]
     },
     "execution_count": 22,
     "metadata": {},
     "output_type": "execute_result"
    }
   ],
   "source": [
    "env = task.reward_mapper(\n",
    "    env,\n",
    "    mapping_spec={\"name\": \"identity\", \"args\": None},\n",
    "    feats_spec=feats_spec,\n",
    ")\n",
    "env"
   ]
  },
  {
   "cell_type": "code",
   "execution_count": 23,
   "id": "e5121dd1-2f68-46de-842d-6179b036b3d4",
   "metadata": {},
   "outputs": [
    {
     "data": {
      "text/plain": [
       "<drmdp.feats.ScaleFeatTransform at 0x329dedb50>"
      ]
     },
     "execution_count": 23,
     "metadata": {},
     "output_type": "execute_result"
    }
   ],
   "source": [
    "feats_tfx = feats.create_feat_transformer(env=env, **feats_spec)\n",
    "feats_tfx"
   ]
  },
  {
   "cell_type": "code",
   "execution_count": 24,
   "id": "2ae3cf3b-812a-4d0a-ad7d-d4b103ac4f82",
   "metadata": {},
   "outputs": [
    {
     "name": "stdout",
     "output_type": "stream",
     "text": [
      "Turn: 0\n",
      "Episode: 0; Steps: 1382, Mean returns: 2594.8997145829303;\n"
     ]
    },
    {
     "name": "stderr",
     "output_type": "stream",
     "text": [
      "2025-04-16 15:30:24,451 INFO root: Episode 100 mean returns: 2841.897427\n"
     ]
    },
    {
     "name": "stdout",
     "output_type": "stream",
     "text": [
      "Episode: 100; Steps: 2500, Mean returns: 2860.1451054542035;\n"
     ]
    },
    {
     "name": "stderr",
     "output_type": "stream",
     "text": [
      "2025-04-16 15:30:38,789 INFO root: Episode 200 mean returns: 2754.337944\n"
     ]
    },
    {
     "name": "stdout",
     "output_type": "stream",
     "text": [
      "Episode: 200; Steps: 1751, Mean returns: 2756.3124065910606;\n"
     ]
    },
    {
     "name": "stderr",
     "output_type": "stream",
     "text": [
      "2025-04-16 15:30:54,152 INFO root: Episode 300 mean returns: 2795.437113\n"
     ]
    },
    {
     "name": "stdout",
     "output_type": "stream",
     "text": [
      "Episode: 300; Steps: 497, Mean returns: 2789.16690248701;\n"
     ]
    },
    {
     "name": "stderr",
     "output_type": "stream",
     "text": [
      "2025-04-16 15:31:09,338 INFO root: Episode 400 mean returns: 2792.942814\n"
     ]
    },
    {
     "name": "stdout",
     "output_type": "stream",
     "text": [
      "Episode: 400; Steps: 800, Mean returns: 2789.7364434603733;\n"
     ]
    },
    {
     "name": "stderr",
     "output_type": "stream",
     "text": [
      "2025-04-16 15:31:25,842 INFO root: Episode 500 mean returns: 2870.915528\n"
     ]
    },
    {
     "name": "stdout",
     "output_type": "stream",
     "text": [
      "Turn: 1\n",
      "Episode: 0; Steps: 803, Mean returns: 1529.7884378191093;\n"
     ]
    },
    {
     "name": "stderr",
     "output_type": "stream",
     "text": [
      "2025-04-16 15:31:43,106 INFO root: Episode 100 mean returns: 2989.298000\n"
     ]
    },
    {
     "name": "stdout",
     "output_type": "stream",
     "text": [
      "Episode: 100; Steps: 942, Mean returns: 2977.5271343220284;\n"
     ]
    },
    {
     "name": "stderr",
     "output_type": "stream",
     "text": [
      "2025-04-16 15:31:58,808 INFO root: Episode 200 mean returns: 2921.008925\n"
     ]
    },
    {
     "name": "stdout",
     "output_type": "stream",
     "text": [
      "Episode: 200; Steps: 2500, Mean returns: 2928.827394847187;\n"
     ]
    },
    {
     "name": "stderr",
     "output_type": "stream",
     "text": [
      "2025-04-16 15:32:14,286 INFO root: Episode 300 mean returns: 2920.329302\n"
     ]
    },
    {
     "name": "stdout",
     "output_type": "stream",
     "text": [
      "Episode: 300; Steps: 2500, Mean returns: 2925.525172847568;\n"
     ]
    },
    {
     "name": "stderr",
     "output_type": "stream",
     "text": [
      "2025-04-16 15:32:30,223 INFO root: Episode 400 mean returns: 2924.142979\n"
     ]
    },
    {
     "name": "stdout",
     "output_type": "stream",
     "text": [
      "Episode: 400; Steps: 1051, Mean returns: 2921.766189860288;\n"
     ]
    },
    {
     "name": "stderr",
     "output_type": "stream",
     "text": [
      "2025-04-16 15:32:45,355 INFO root: Episode 500 mean returns: 2912.773874\n"
     ]
    },
    {
     "name": "stdout",
     "output_type": "stream",
     "text": [
      "Turn: 2\n",
      "Episode: 0; Steps: 2500, Mean returns: 4708.24869245719;\n"
     ]
    },
    {
     "name": "stderr",
     "output_type": "stream",
     "text": [
      "2025-04-16 15:33:00,085 INFO root: Episode 100 mean returns: 2664.862725\n"
     ]
    },
    {
     "name": "stdout",
     "output_type": "stream",
     "text": [
      "Episode: 100; Steps: 2500, Mean returns: 2684.484360440184;\n"
     ]
    },
    {
     "name": "stderr",
     "output_type": "stream",
     "text": [
      "2025-04-16 15:33:15,009 INFO root: Episode 200 mean returns: 2706.247016\n"
     ]
    },
    {
     "name": "stdout",
     "output_type": "stream",
     "text": [
      "Episode: 200; Steps: 1372, Mean returns: 2705.0751927094548;\n"
     ]
    },
    {
     "name": "stderr",
     "output_type": "stream",
     "text": [
      "2025-04-16 15:33:30,262 INFO root: Episode 300 mean returns: 2761.129893\n"
     ]
    },
    {
     "name": "stdout",
     "output_type": "stream",
     "text": [
      "Episode: 300; Steps: 2150, Mean returns: 2764.852551817877;\n"
     ]
    },
    {
     "name": "stderr",
     "output_type": "stream",
     "text": [
      "2025-04-16 15:33:45,665 INFO root: Episode 400 mean returns: 2795.537443\n"
     ]
    },
    {
     "name": "stdout",
     "output_type": "stream",
     "text": [
      "Episode: 400; Steps: 2500, Mean returns: 2799.94953876378;\n"
     ]
    },
    {
     "name": "stderr",
     "output_type": "stream",
     "text": [
      "2025-04-16 15:34:01,605 INFO root: Episode 500 mean returns: 2841.224987\n"
     ]
    }
   ],
   "source": [
    "lr = task.learning_rate(**{\"name\": \"constant\", \"args\": {\"initial_lr\": 0.01}})\n",
    "num_episodes = 500\n",
    "# Create spec using provided name and args for feature spec\n",
    "for turn in range(3):\n",
    "    monitor.clear()\n",
    "    print(\"Turn:\", turn)\n",
    "    algorithm = task.create_algorithm(\n",
    "        env=env,\n",
    "        feats_transform=feats_tfx,\n",
    "        delay_reward=rew_delay,\n",
    "        lr=lr,\n",
    "        gamma=1.0,\n",
    "        epsilon=0.2,\n",
    "        policy_type=\"uniform-random\",\n",
    "        base_seed=0,\n",
    "    )\n",
    "    \n",
    "    results = task.policy_control(\n",
    "        env=env,\n",
    "        algorithm=algorithm,\n",
    "        num_episodes=num_episodes,\n",
    "        monitor=monitor,\n",
    "    )\n",
    "    \n",
    "    for episode, snapshot in enumerate(results):\n",
    "        if episode % (num_episodes//5) == 0:\n",
    "            print(\n",
    "                f\"Episode: {episode}; Steps: {snapshot.steps}, Mean returns: {np.mean(monitor.returns + [monitor.rewards]).item()};\"\n",
    "            )"
   ]
  },
  {
   "cell_type": "code",
   "execution_count": 25,
   "id": "da52eea4-9c56-4f6f-b79f-041fdb18a868",
   "metadata": {},
   "outputs": [
    {
     "name": "stdout",
     "output_type": "stream",
     "text": [
      "Turn: 0\n",
      "Episode: 0; Steps: 68, Mean returns: 122.88654753349549;\n"
     ]
    },
    {
     "name": "stderr",
     "output_type": "stream",
     "text": [
      "2025-04-16 15:34:02,409 INFO root: Episode 100 mean returns: 122.952850\n"
     ]
    },
    {
     "name": "stdout",
     "output_type": "stream",
     "text": [
      "Episode: 100; Steps: 72, Mean returns: 123.04194932178902;\n"
     ]
    },
    {
     "name": "stderr",
     "output_type": "stream",
     "text": [
      "2025-04-16 15:34:03,184 INFO root: Episode 200 mean returns: 122.178938\n"
     ]
    },
    {
     "name": "stdout",
     "output_type": "stream",
     "text": [
      "Episode: 200; Steps: 70, Mean returns: 122.19253672172911;\n"
     ]
    },
    {
     "name": "stderr",
     "output_type": "stream",
     "text": [
      "2025-04-16 15:34:03,955 INFO root: Episode 300 mean returns: 122.101832\n"
     ]
    },
    {
     "name": "stdout",
     "output_type": "stream",
     "text": [
      "Episode: 300; Steps: 69, Mean returns: 122.0938338176532;\n"
     ]
    },
    {
     "name": "stderr",
     "output_type": "stream",
     "text": [
      "2025-04-16 15:34:05,013 INFO root: Episode 400 mean returns: 134.195873\n"
     ]
    },
    {
     "name": "stdout",
     "output_type": "stream",
     "text": [
      "Episode: 400; Steps: 69, Mean returns: 134.17837316299082;\n"
     ]
    },
    {
     "name": "stderr",
     "output_type": "stream",
     "text": [
      "2025-04-16 15:34:08,030 INFO root: Episode 500 mean returns: 209.985147\n"
     ]
    },
    {
     "name": "stdout",
     "output_type": "stream",
     "text": [
      "Turn: 1\n",
      "Episode: 0; Steps: 90, Mean returns: 158.03415362902143;\n"
     ]
    },
    {
     "name": "stderr",
     "output_type": "stream",
     "text": [
      "2025-04-16 15:34:09,057 INFO root: Episode 100 mean returns: 167.771072\n"
     ]
    },
    {
     "name": "stdout",
     "output_type": "stream",
     "text": [
      "Episode: 100; Steps: 98, Mean returns: 167.88201688264468;\n"
     ]
    },
    {
     "name": "stderr",
     "output_type": "stream",
     "text": [
      "2025-04-16 15:34:10,094 INFO root: Episode 200 mean returns: 167.609065\n"
     ]
    },
    {
     "name": "stdout",
     "output_type": "stream",
     "text": [
      "Episode: 200; Steps: 91, Mean returns: 167.55447664264605;\n"
     ]
    },
    {
     "name": "stderr",
     "output_type": "stream",
     "text": [
      "2025-04-16 15:34:11,420 INFO root: Episode 300 mean returns: 184.397429\n"
     ]
    },
    {
     "name": "stdout",
     "output_type": "stream",
     "text": [
      "Episode: 300; Steps: 100, Mean returns: 184.41332055449368;\n"
     ]
    },
    {
     "name": "stderr",
     "output_type": "stream",
     "text": [
      "2025-04-16 15:34:13,041 INFO root: Episode 400 mean returns: 205.958061\n"
     ]
    },
    {
     "name": "stdout",
     "output_type": "stream",
     "text": [
      "Episode: 400; Steps: 89, Mean returns: 205.8059154142078;\n"
     ]
    },
    {
     "name": "stderr",
     "output_type": "stream",
     "text": [
      "2025-04-16 15:34:14,756 INFO root: Episode 500 mean returns: 221.903614\n"
     ]
    },
    {
     "name": "stdout",
     "output_type": "stream",
     "text": [
      "Turn: 2\n",
      "Episode: 0; Steps: 89, Mean returns: 167.44170155939645;\n"
     ]
    },
    {
     "name": "stderr",
     "output_type": "stream",
     "text": [
      "2025-04-16 15:34:15,732 INFO root: Episode 100 mean returns: 159.283759\n"
     ]
    },
    {
     "name": "stdout",
     "output_type": "stream",
     "text": [
      "Episode: 100; Steps: 85, Mean returns: 159.27378274300884;\n"
     ]
    },
    {
     "name": "stderr",
     "output_type": "stream",
     "text": [
      "2025-04-16 15:34:16,704 INFO root: Episode 200 mean returns: 159.799544\n"
     ]
    },
    {
     "name": "stdout",
     "output_type": "stream",
     "text": [
      "Episode: 200; Steps: 92, Mean returns: 159.84711712352174;\n"
     ]
    },
    {
     "name": "stderr",
     "output_type": "stream",
     "text": [
      "2025-04-16 15:34:17,688 INFO root: Episode 300 mean returns: 160.294370\n"
     ]
    },
    {
     "name": "stdout",
     "output_type": "stream",
     "text": [
      "Episode: 300; Steps: 93, Mean returns: 160.28888874975624;\n"
     ]
    },
    {
     "name": "stderr",
     "output_type": "stream",
     "text": [
      "2025-04-16 15:34:18,674 INFO root: Episode 400 mean returns: 160.445555\n"
     ]
    },
    {
     "name": "stdout",
     "output_type": "stream",
     "text": [
      "Episode: 400; Steps: 93, Mean returns: 160.48549552470396;\n"
     ]
    },
    {
     "name": "stderr",
     "output_type": "stream",
     "text": [
      "2025-04-16 15:34:21,992 INFO root: Episode 500 mean returns: 238.106428\n"
     ]
    }
   ],
   "source": [
    "lr = task.learning_rate(**{\"name\": \"constant\", \"args\": {\"initial_lr\": 0.01}})\n",
    "num_episodes = 500\n",
    "# Create spec using provided name and args for feature spec\n",
    "for turn in range(3):\n",
    "    print(\"Turn:\", turn)\n",
    "    monitor.clear()\n",
    "    algorithm = task.create_algorithm(\n",
    "        env=env,\n",
    "        feats_transform=feats_tfx,\n",
    "        delay_reward=rew_delay,\n",
    "        lr=lr,\n",
    "        gamma=1.0,\n",
    "        epsilon=0.2,\n",
    "        policy_type=\"markovian\",\n",
    "        base_seed=0,\n",
    "    )\n",
    "    \n",
    "    results = task.policy_control(\n",
    "        env=env,\n",
    "        algorithm=algorithm,\n",
    "        num_episodes=num_episodes,\n",
    "        monitor=monitor,\n",
    "    )\n",
    "    \n",
    "    for episode, snapshot in enumerate(results):\n",
    "        if episode % (num_episodes//5) == 0:\n",
    "            print(\n",
    "                f\"Episode: {episode}; Steps: {snapshot.steps}, Mean returns: {np.mean(monitor.returns + [monitor.rewards]).item()};\"\n",
    "            )"
   ]
  },
  {
   "cell_type": "markdown",
   "id": "6ef3a9bf-27b5-411c-a3cd-79c2839105e6",
   "metadata": {},
   "source": [
    "## Control: Current Impl - default"
   ]
  },
  {
   "cell_type": "code",
   "execution_count": 26,
   "id": "7186c242-e5c5-4e7a-b0af-999fa53f9493",
   "metadata": {},
   "outputs": [],
   "source": [
    "MAX_STEPS = 2500"
   ]
  },
  {
   "cell_type": "code",
   "execution_count": 27,
   "id": "a5ef8ecd-65bd-4611-8a64-a849235059b7",
   "metadata": {},
   "outputs": [],
   "source": [
    "env = gem.make(\"Finite-CC-PMSM-v0\", reward_fn=\"default\", max_episode_steps=MAX_STEPS)"
   ]
  },
  {
   "cell_type": "code",
   "execution_count": 28,
   "id": "7c3a496c-f78b-4aa0-bf6e-014e22742d76",
   "metadata": {},
   "outputs": [
    {
     "data": {
      "text/plain": [
       "(<EnvMonitorWrapper<TimeLimit<DiscretiseActionWrapper<GemObsAsVectorWrapper<FiniteCurrentControlPermanentMagnetSynchronousMotorEnv<Finite-CC-PMSM-v0>>>>>>,\n",
       " <drmdp.core.EnvMonitor at 0x329e266d0>)"
      ]
     },
     "execution_count": 28,
     "metadata": {},
     "output_type": "execute_result"
    }
   ],
   "source": [
    "env, monitor = task.monitor_wrapper(env)\n",
    "env, monitor"
   ]
  },
  {
   "cell_type": "code",
   "execution_count": 29,
   "id": "238f021b-c9b5-467b-a52f-0e84a0d4ba94",
   "metadata": {},
   "outputs": [],
   "source": [
    "rew_delay = task.reward_delay_distribution(\n",
    "    None\n",
    ")"
   ]
  },
  {
   "cell_type": "code",
   "execution_count": 30,
   "id": "104f0edb-4fd4-4920-b42d-5fc9fc0a867f",
   "metadata": {},
   "outputs": [],
   "source": [
    "rew_delay"
   ]
  },
  {
   "cell_type": "code",
   "execution_count": 31,
   "id": "f0c8ba51-97b1-47c3-ab2a-44609ff65d9c",
   "metadata": {},
   "outputs": [
    {
     "data": {
      "text/plain": [
       "<EnvMonitorWrapper<TimeLimit<DiscretiseActionWrapper<GemObsAsVectorWrapper<FiniteCurrentControlPermanentMagnetSynchronousMotorEnv<Finite-CC-PMSM-v0>>>>>>"
      ]
     },
     "execution_count": 31,
     "metadata": {},
     "output_type": "execute_result"
    }
   ],
   "source": [
    "env = task.delay_wrapper(env, rew_delay)\n",
    "env"
   ]
  },
  {
   "cell_type": "code",
   "execution_count": 32,
   "id": "963335b7-f1c6-4ee3-ad3d-41c43ab8f922",
   "metadata": {},
   "outputs": [],
   "source": [
    "feats_spec = {\"name\": \"scale\", \"args\": None}"
   ]
  },
  {
   "cell_type": "code",
   "execution_count": 33,
   "id": "bc2348bf-4be8-47fb-9338-a8ba8f293507",
   "metadata": {},
   "outputs": [
    {
     "data": {
      "text/plain": [
       "<EnvMonitorWrapper<TimeLimit<DiscretiseActionWrapper<GemObsAsVectorWrapper<FiniteCurrentControlPermanentMagnetSynchronousMotorEnv<Finite-CC-PMSM-v0>>>>>>"
      ]
     },
     "execution_count": 33,
     "metadata": {},
     "output_type": "execute_result"
    }
   ],
   "source": [
    "env = task.reward_mapper(\n",
    "    env,\n",
    "    mapping_spec={\"name\": \"identity\", \"args\": None},\n",
    "    feats_spec=feats_spec,\n",
    ")\n",
    "env"
   ]
  },
  {
   "cell_type": "code",
   "execution_count": 34,
   "id": "b58ca108-f9bd-4b8f-807f-c4fe8c8fddd4",
   "metadata": {},
   "outputs": [
    {
     "data": {
      "text/plain": [
       "<drmdp.feats.ScaleFeatTransform at 0x329e1db50>"
      ]
     },
     "execution_count": 34,
     "metadata": {},
     "output_type": "execute_result"
    }
   ],
   "source": [
    "feats_tfx = feats.create_feat_transformer(env=env, **feats_spec)\n",
    "feats_tfx"
   ]
  },
  {
   "cell_type": "code",
   "execution_count": 35,
   "id": "283e26e4-9cf8-4958-b4d7-0cd927cb8e37",
   "metadata": {},
   "outputs": [
    {
     "name": "stdout",
     "output_type": "stream",
     "text": [
      "Turn: 0\n",
      "Episode: 0; Steps: 752, Mean returns: -70.10032948100827;\n"
     ]
    },
    {
     "name": "stderr",
     "output_type": "stream",
     "text": [
      "2025-04-16 15:34:37,265 INFO root: Episode 100 mean returns: -302.079893\n"
     ]
    },
    {
     "name": "stdout",
     "output_type": "stream",
     "text": [
      "Episode: 100; Steps: 2500, Mean returns: -303.4738887143251;\n"
     ]
    },
    {
     "name": "stderr",
     "output_type": "stream",
     "text": [
      "2025-04-16 15:34:52,879 INFO root: Episode 200 mean returns: -314.846280\n"
     ]
    },
    {
     "name": "stdout",
     "output_type": "stream",
     "text": [
      "Episode: 200; Steps: 838, Mean returns: -314.18098650548654;\n"
     ]
    },
    {
     "name": "stderr",
     "output_type": "stream",
     "text": [
      "2025-04-16 15:35:09,443 INFO root: Episode 300 mean returns: -317.312508\n"
     ]
    },
    {
     "name": "stdout",
     "output_type": "stream",
     "text": [
      "Episode: 300; Steps: 2500, Mean returns: -317.7951167550292;\n"
     ]
    },
    {
     "name": "stderr",
     "output_type": "stream",
     "text": [
      "2025-04-16 15:35:24,383 INFO root: Episode 400 mean returns: -311.849918\n"
     ]
    },
    {
     "name": "stdout",
     "output_type": "stream",
     "text": [
      "Episode: 400; Steps: 2450, Mean returns: -311.9808154579704;\n"
     ]
    },
    {
     "name": "stderr",
     "output_type": "stream",
     "text": [
      "2025-04-16 15:35:39,871 INFO root: Episode 500 mean returns: -310.479169\n"
     ]
    },
    {
     "name": "stdout",
     "output_type": "stream",
     "text": [
      "Turn: 1\n",
      "Episode: 0; Steps: 1033, Mean returns: -163.72378193443143;\n"
     ]
    },
    {
     "name": "stderr",
     "output_type": "stream",
     "text": [
      "2025-04-16 15:35:54,673 INFO root: Episode 100 mean returns: -302.119784\n"
     ]
    },
    {
     "name": "stdout",
     "output_type": "stream",
     "text": [
      "Episode: 100; Steps: 2500, Mean returns: -303.2716478432344;\n"
     ]
    },
    {
     "name": "stderr",
     "output_type": "stream",
     "text": [
      "2025-04-16 15:36:10,748 INFO root: Episode 200 mean returns: -310.265506\n"
     ]
    },
    {
     "name": "stdout",
     "output_type": "stream",
     "text": [
      "Episode: 200; Steps: 2500, Mean returns: -311.3788307680124;\n"
     ]
    },
    {
     "name": "stderr",
     "output_type": "stream",
     "text": [
      "2025-04-16 15:36:27,188 INFO root: Episode 300 mean returns: -316.067032\n"
     ]
    },
    {
     "name": "stdout",
     "output_type": "stream",
     "text": [
      "Episode: 300; Steps: 1834, Mean returns: -316.27627765056985;\n"
     ]
    },
    {
     "name": "stderr",
     "output_type": "stream",
     "text": [
      "2025-04-16 15:36:43,879 INFO root: Episode 400 mean returns: -323.733175\n"
     ]
    },
    {
     "name": "stdout",
     "output_type": "stream",
     "text": [
      "Episode: 400; Steps: 901, Mean returns: -323.21767370775666;\n"
     ]
    },
    {
     "name": "stderr",
     "output_type": "stream",
     "text": [
      "2025-04-16 15:36:58,655 INFO root: Episode 500 mean returns: -320.602149\n"
     ]
    },
    {
     "name": "stdout",
     "output_type": "stream",
     "text": [
      "Turn: 2\n",
      "Episode: 0; Steps: 2500, Mean returns: -327.1289280176418;\n"
     ]
    },
    {
     "name": "stderr",
     "output_type": "stream",
     "text": [
      "2025-04-16 15:37:14,892 INFO root: Episode 100 mean returns: -316.929680\n"
     ]
    },
    {
     "name": "stdout",
     "output_type": "stream",
     "text": [
      "Episode: 100; Steps: 1039, Mean returns: -314.77250066514256;\n"
     ]
    },
    {
     "name": "stderr",
     "output_type": "stream",
     "text": [
      "2025-04-16 15:37:29,771 INFO root: Episode 200 mean returns: -316.403439\n"
     ]
    },
    {
     "name": "stdout",
     "output_type": "stream",
     "text": [
      "Episode: 200; Steps: 972, Mean returns: -315.9195447469053;\n"
     ]
    },
    {
     "name": "stderr",
     "output_type": "stream",
     "text": [
      "2025-04-16 15:37:45,399 INFO root: Episode 300 mean returns: -316.705146\n"
     ]
    },
    {
     "name": "stdout",
     "output_type": "stream",
     "text": [
      "Episode: 300; Steps: 1905, Mean returns: -317.1428331031952;\n"
     ]
    },
    {
     "name": "stderr",
     "output_type": "stream",
     "text": [
      "2025-04-16 15:38:00,459 INFO root: Episode 400 mean returns: -311.637846\n"
     ]
    },
    {
     "name": "stdout",
     "output_type": "stream",
     "text": [
      "Episode: 400; Steps: 1964, Mean returns: -311.44293378156146;\n"
     ]
    },
    {
     "name": "stderr",
     "output_type": "stream",
     "text": [
      "2025-04-16 15:38:15,292 INFO root: Episode 500 mean returns: -310.195893\n"
     ]
    }
   ],
   "source": [
    "lr = task.learning_rate(**{\"name\": \"constant\", \"args\": {\"initial_lr\": 0.01}})\n",
    "num_episodes = 500\n",
    "# Create spec using provided name and args for feature spec\n",
    "for turn in range(3):\n",
    "    monitor.clear()\n",
    "    print(\"Turn:\", turn)\n",
    "    algorithm = task.create_algorithm(\n",
    "        env=env,\n",
    "        feats_transform=feats_tfx,\n",
    "        delay_reward=rew_delay,\n",
    "        lr=lr,\n",
    "        gamma=1.0,\n",
    "        epsilon=0.2,\n",
    "        policy_type=\"uniform-random\",\n",
    "        base_seed=0,\n",
    "    )\n",
    "    \n",
    "    results = task.policy_control(\n",
    "        env=env,\n",
    "        algorithm=algorithm,\n",
    "        num_episodes=num_episodes,\n",
    "        monitor=monitor,\n",
    "    )\n",
    "    \n",
    "    for episode, snapshot in enumerate(results):\n",
    "        if episode % (num_episodes//5) == 0:\n",
    "            print(\n",
    "                f\"Episode: {episode}; Steps: {snapshot.steps}, Mean returns: {np.mean(monitor.returns + [monitor.rewards]).item()};\"\n",
    "            )"
   ]
  },
  {
   "cell_type": "code",
   "execution_count": 36,
   "id": "806a033f-a7d5-49bf-a960-33a2b9ccf4f5",
   "metadata": {
    "scrolled": true
   },
   "outputs": [
    {
     "name": "stdout",
     "output_type": "stream",
     "text": [
      "Turn: 0\n",
      "Episode: 0; Steps: 2500, Mean returns: -325.5354952889181;\n"
     ]
    },
    {
     "name": "stderr",
     "output_type": "stream",
     "text": [
      "2025-04-16 15:38:24,828 INFO root: Episode 100 mean returns: -178.461430\n"
     ]
    },
    {
     "name": "stdout",
     "output_type": "stream",
     "text": [
      "Episode: 100; Steps: 85, Mean returns: -176.8469094616986;\n"
     ]
    },
    {
     "name": "stderr",
     "output_type": "stream",
     "text": [
      "2025-04-16 15:38:28,925 INFO root: Episode 200 mean returns: -129.388932\n"
     ]
    },
    {
     "name": "stdout",
     "output_type": "stream",
     "text": [
      "Episode: 200; Steps: 90, Mean returns: -128.82244223307262;\n"
     ]
    },
    {
     "name": "stderr",
     "output_type": "stream",
     "text": [
      "2025-04-16 15:38:30,921 INFO root: Episode 300 mean returns: -98.137546\n"
     ]
    },
    {
     "name": "stdout",
     "output_type": "stream",
     "text": [
      "Episode: 300; Steps: 82, Mean returns: -97.88970395696035;\n"
     ]
    },
    {
     "name": "stderr",
     "output_type": "stream",
     "text": [
      "2025-04-16 15:38:32,355 INFO root: Episode 400 mean returns: -79.217662\n"
     ]
    },
    {
     "name": "stdout",
     "output_type": "stream",
     "text": [
      "Episode: 400; Steps: 211, Mean returns: -79.06502773848995;\n"
     ]
    },
    {
     "name": "stderr",
     "output_type": "stream",
     "text": [
      "2025-04-16 15:38:33,998 INFO root: Episode 500 mean returns: -68.595753\n"
     ]
    },
    {
     "name": "stdout",
     "output_type": "stream",
     "text": [
      "Turn: 1\n",
      "Episode: 0; Steps: 2500, Mean returns: -345.207616830214;\n"
     ]
    },
    {
     "name": "stderr",
     "output_type": "stream",
     "text": [
      "2025-04-16 15:38:44,361 INFO root: Episode 100 mean returns: -187.121253\n"
     ]
    },
    {
     "name": "stdout",
     "output_type": "stream",
     "text": [
      "Episode: 100; Steps: 502, Mean returns: -185.76816537037294;\n"
     ]
    },
    {
     "name": "stderr",
     "output_type": "stream",
     "text": [
      "2025-04-16 15:38:47,266 INFO root: Episode 200 mean returns: -122.480042\n"
     ]
    },
    {
     "name": "stdout",
     "output_type": "stream",
     "text": [
      "Episode: 200; Steps: 75, Mean returns: -121.94815847915523;\n"
     ]
    },
    {
     "name": "stderr",
     "output_type": "stream",
     "text": [
      "2025-04-16 15:38:49,024 INFO root: Episode 300 mean returns: -90.267905\n"
     ]
    },
    {
     "name": "stdout",
     "output_type": "stream",
     "text": [
      "Episode: 300; Steps: 96, Mean returns: -90.06461646927995;\n"
     ]
    },
    {
     "name": "stderr",
     "output_type": "stream",
     "text": [
      "2025-04-16 15:38:50,672 INFO root: Episode 400 mean returns: -74.680860\n"
     ]
    },
    {
     "name": "stdout",
     "output_type": "stream",
     "text": [
      "Episode: 400; Steps: 253, Mean returns: -74.56820590210634;\n"
     ]
    },
    {
     "name": "stderr",
     "output_type": "stream",
     "text": [
      "2025-04-16 15:38:52,789 INFO root: Episode 500 mean returns: -67.353446\n"
     ]
    },
    {
     "name": "stdout",
     "output_type": "stream",
     "text": [
      "Turn: 2\n",
      "Episode: 0; Steps: 2500, Mean returns: -346.12217871359087;\n"
     ]
    },
    {
     "name": "stderr",
     "output_type": "stream",
     "text": [
      "2025-04-16 15:39:02,591 INFO root: Episode 100 mean returns: -186.096104\n"
     ]
    },
    {
     "name": "stdout",
     "output_type": "stream",
     "text": [
      "Episode: 100; Steps: 99, Mean returns: -184.4040899971945;\n"
     ]
    },
    {
     "name": "stderr",
     "output_type": "stream",
     "text": [
      "2025-04-16 15:39:05,975 INFO root: Episode 200 mean returns: -124.469030\n"
     ]
    },
    {
     "name": "stdout",
     "output_type": "stream",
     "text": [
      "Episode: 200; Steps: 1992, Mean returns: -125.95918230169765;\n"
     ]
    },
    {
     "name": "stderr",
     "output_type": "stream",
     "text": [
      "2025-04-16 15:39:08,499 INFO root: Episode 300 mean returns: -96.963796\n"
     ]
    },
    {
     "name": "stdout",
     "output_type": "stream",
     "text": [
      "Episode: 300; Steps: 83, Mean returns: -96.72234310058474;\n"
     ]
    },
    {
     "name": "stderr",
     "output_type": "stream",
     "text": [
      "2025-04-16 15:39:09,890 INFO root: Episode 400 mean returns: -78.649784\n"
     ]
    },
    {
     "name": "stdout",
     "output_type": "stream",
     "text": [
      "Episode: 400; Steps: 100, Mean returns: -78.48573128940544;\n"
     ]
    },
    {
     "name": "stderr",
     "output_type": "stream",
     "text": [
      "2025-04-16 15:39:11,335 INFO root: Episode 500 mean returns: -67.512205\n"
     ]
    }
   ],
   "source": [
    "lr = task.learning_rate(**{\"name\": \"constant\", \"args\": {\"initial_lr\": 0.01}})\n",
    "num_episodes = 500\n",
    "# Create spec using provided name and args for feature spec\n",
    "for turn in range(3):\n",
    "    print(\"Turn:\", turn)\n",
    "    monitor.clear()\n",
    "    algorithm = task.create_algorithm(\n",
    "        env=env,\n",
    "        feats_transform=feats_tfx,\n",
    "        delay_reward=rew_delay,\n",
    "        lr=lr,\n",
    "        gamma=1.0,\n",
    "        epsilon=0.2,\n",
    "        policy_type=\"markovian\",\n",
    "        base_seed=0,\n",
    "    )\n",
    "    \n",
    "    results = task.policy_control(\n",
    "        env=env,\n",
    "        algorithm=algorithm,\n",
    "        num_episodes=num_episodes,\n",
    "        monitor=monitor,\n",
    "    )\n",
    "    \n",
    "    for episode, snapshot in enumerate(results):\n",
    "        if episode % (num_episodes//5) == 0:\n",
    "            print(\n",
    "                f\"Episode: {episode}; Steps: {snapshot.steps}, Mean returns: {np.mean(monitor.returns + [monitor.rewards]).item()};\"\n",
    "            )"
   ]
  },
  {
   "cell_type": "markdown",
   "id": "daa4f1ab-2256-4a46-a425-468e9ceb9219",
   "metadata": {},
   "source": [
    "Regardless of the reward function, a random policy outperforms epsilon greedy on this problem.\n",
    "The reason why must be investigated."
   ]
  }
 ],
 "metadata": {
  "kernelspec": {
   "display_name": "Python 3 (ipykernel)",
   "language": "python",
   "name": "python3"
  },
  "language_info": {
   "codemirror_mode": {
    "name": "ipython",
    "version": 3
   },
   "file_extension": ".py",
   "mimetype": "text/x-python",
   "name": "python",
   "nbconvert_exporter": "python",
   "pygments_lexer": "ipython3",
   "version": "3.11.11"
  }
 },
 "nbformat": 4,
 "nbformat_minor": 5
}
